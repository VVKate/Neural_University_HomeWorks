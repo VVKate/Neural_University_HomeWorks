{
  "nbformat": 4,
  "nbformat_minor": 0,
  "metadata": {
    "colab": {
      "name": "13_Генерация текста",
      "provenance": [],
      "collapsed_sections": [
        "iaa4spfn-Hnj",
        "GEhg13EJcm_w",
        "iLWn1gA0mJ-k",
        "GXCRGvdBesVk"
      ],
      "toc_visible": true,
      "machine_shape": "hm",
      "include_colab_link": true
    },
    "kernelspec": {
      "name": "python3",
      "display_name": "Python 3"
    }
  },
  "cells": [
    {
      "cell_type": "markdown",
      "metadata": {
        "id": "view-in-github",
        "colab_type": "text"
      },
      "source": [
        "<a href=\"https://colab.research.google.com/github/VVKate/Neural_University_HomeWorks/blob/main/13_%D0%93%D0%B5%D0%BD%D0%B5%D1%80%D0%B0%D1%86%D0%B8%D1%8F_%D1%82%D0%B5%D0%BA%D1%81%D1%82%D0%B0.ipynb\" target=\"_parent\"><img src=\"https://colab.research.google.com/assets/colab-badge.svg\" alt=\"Open In Colab\"/></a>"
      ]
    },
    {
      "cell_type": "markdown",
      "metadata": {
        "id": "xt9qlVbvlMEA"
      },
      "source": [
        "#Домашнеее задание: Июльский курс (2020). Pro. Занятие 13\n",
        "##Генерация текста\n",
        "## Верхошинская Катерина Викторовна"
      ]
    },
    {
      "cell_type": "markdown",
      "metadata": {
        "id": "iaa4spfn-Hnj"
      },
      "source": [
        "## **LIGHT**"
      ]
    },
    {
      "cell_type": "markdown",
      "metadata": {
        "id": "GEhg13EJcm_w"
      },
      "source": [
        "### **Задание 1**\n",
        "\n",
        "Используя три любых простых вопроса, сравните ответы сети на них на разной степени\n",
        "натренированности:\n",
        "\n",
        "a) 20 эпох – удается ли боту отвечать целыми словами?\n",
        "\n",
        "b) + 30 эпох на этой же сетке и с этими же вопросами – появился ли прогресс в качестве\n",
        "ответа сети(ответ целыми предложениями разумной длины)?\n",
        "\n",
        "c) Ещё + 50 эпох – удается ли сети выдавать ответы, “похожие на правду”?"
      ]
    },
    {
      "cell_type": "code",
      "metadata": {
        "id": "3j1Wpkvc3Q2s"
      },
      "source": [
        "from google.colab import files # модуль для загрузки файлов в colab\n",
        "import numpy as np #библиотека для работы с массивами данных\n",
        "\n",
        "from tensorflow.keras.models import Model, load_model # из кераса подгружаем абстрактный класс базовой модели, метод загрузки предобученной модели\n",
        "from tensorflow.keras.layers import Dense, Embedding, LSTM, Input # из кераса загружаем необходимые слои для нейросети\n",
        "from tensorflow.keras.optimizers import RMSprop, Adadelta # из кераса загружаем выбранный оптимизатор\n",
        "from tensorflow.keras.preprocessing.sequence import pad_sequences # загружаем метод ограничения последовательности заданной длиной\n",
        "from tensorflow.keras.preprocessing.text import Tokenizer # загружаем токенизатор кераса для обработки текста\n",
        "from tensorflow.keras import utils # загружаем утилиты кераса для one hot кодировки\n",
        "from tensorflow.keras.utils import plot_model # удобный график для визуализации архитектуры модели\n",
        "\n",
        "import yaml # импортируем модуль для удобной работы с файлами\n",
        "\n",
        "import logging\n",
        "logging.disable(logging.WARNING)"
      ],
      "execution_count": null,
      "outputs": []
    },
    {
      "cell_type": "code",
      "metadata": {
        "id": "200dSPOYZE7N",
        "colab": {
          "base_uri": "https://localhost:8080/",
          "height": 34
        },
        "outputId": "108f38b5-9e53-4d30-936b-502db200251e"
      },
      "source": [
        "from google.colab import drive\n",
        "drive.mount('/content/drive')"
      ],
      "execution_count": null,
      "outputs": [
        {
          "output_type": "stream",
          "text": [
            "Mounted at /content/drive\n"
          ],
          "name": "stdout"
        }
      ]
    },
    {
      "cell_type": "code",
      "metadata": {
        "id": "tEA8TR_oerov",
        "colab": {
          "base_uri": "https://localhost:8080/",
          "height": 50
        },
        "outputId": "ef63ea51-9411-43a9-bd50-e73bc2c8e89f"
      },
      "source": [
        "######################\n",
        "# Открываем файл с диалогами\n",
        "######################\n",
        "corpus = open('/content/drive/My Drive/Colab Notebooks/Базы/Диалоги(рассказы).yml', 'r') # открываем файл с диалогами в режиме чтения\n",
        "document = yaml.safe_load(corpus) # загружаем файл *глоссарий\n",
        "conversations = document['разговоры'] # загружаем диалоги из файла и заносим в conversations \n",
        "print('Количество пар вопрос-ответ : {}'.format(len(conversations)))\n",
        "print('Пример диалога : {}'.format(conversations[125]))"
      ],
      "execution_count": null,
      "outputs": [
        {
          "output_type": "stream",
          "text": [
            "Количество пар вопрос-ответ : 11905\n",
            "Пример диалога : ['Кто будете?', 'Колхозник.']\n"
          ],
          "name": "stdout"
        }
      ]
    },
    {
      "cell_type": "code",
      "metadata": {
        "id": "EYg8z8Vj76bu",
        "colab": {
          "base_uri": "https://localhost:8080/",
          "height": 50
        },
        "outputId": "5d9bd223-7c56-4a69-fa3a-6f0f1e8c2454"
      },
      "source": [
        "######################\n",
        "# Разбираем вопросы-ответы с проставлением тегов ответам\n",
        "######################\n",
        "# Собираем вопросы и ответы в списки\n",
        "questions = list() # здесь будет список вопросов\n",
        "answers = list() # здесь будет список ответов\n",
        "\n",
        "# В каждом диалоге берем фразу и добавляем в лист\n",
        "# Если в ответе не одна фраза - то сцепляем сколько есть\n",
        "for con in conversations: # для каждой пары вопрос-ответ\n",
        "  if len(con) > 2 : # если ответ содержит более двух предложений (кол-во реплик, кол-во вариантов ответа)\n",
        "    questions.append(con[0]) # то вопросительную реплику отправляем в список вопросов\n",
        "    replies = con[1:] # а ответную составляем из последующих строк\n",
        "    ans = '' # здесь соберем ответ\n",
        "    for rep in replies: # каждую реплику в ответной реплике\n",
        "      ans += ' ' + rep \n",
        "    answers.append(ans) #добавим в список ответов\n",
        "  elif len(con)> 1: # если на 1 вопрос приходится 1 ответ\n",
        "    questions.append(con[0]) # то вопросительную реплику отправляем в список вопросов\n",
        "    answers.append(con[1]) # а ответную в список ответов\n",
        "\n",
        "# Очищаем строки с неопределенным типов ответов\n",
        "answersCleaned = list()\n",
        "for i in range(len(answers)):\n",
        "  if type(answers[i]) == str:\n",
        "    answersCleaned.append(answers[i]) #если тип - строка, то добавляем в ответы\n",
        "  else:\n",
        "    questions.pop(i) # если не строка, то ответ не добавился, и плюс убираем соответствующий вопрос\n",
        "\n",
        "# Сделаем теги-метки для начала и конца ответов\n",
        "answers = list()\n",
        "for i in range(len(answersCleaned)):\n",
        "  answers.append( '<START> ' + answersCleaned[i] + ' <END>' )\n",
        "\n",
        "# Выведем обновленные данные на экран\n",
        "print('Вопрос : {}'.format(questions[200]))\n",
        "print('Ответ : {}'.format(answers[200]))"
      ],
      "execution_count": null,
      "outputs": [
        {
          "output_type": "stream",
          "text": [
            "Вопрос : Около сотни...\n",
            "Ответ : <START> Точнее! <END>\n"
          ],
          "name": "stdout"
        }
      ]
    },
    {
      "cell_type": "code",
      "metadata": {
        "id": "mvn1jvRd9tep",
        "colab": {
          "base_uri": "https://localhost:8080/",
          "height": 70
        },
        "outputId": "6e2f3bdc-f4f1-4633-a566-6b01555f2ffc"
      },
      "source": [
        "######################\n",
        "# Подключаем керасовский токенизатор и собираем словарь индексов\n",
        "######################\n",
        "tokenizer = Tokenizer()\n",
        "tokenizer.fit_on_texts(questions + answers) # загружаем в токенизатор список вопросов-ответов для сборки словаря частотности\n",
        "vocabularyItems = list(tokenizer.word_index.items()) # список с cодержимым словаря\n",
        "vocabularySize = len(vocabularyItems)+1 # размер словаря\n",
        "print( 'Фрагмент словаря : {}'.format(vocabularyItems[:50]))\n",
        "print( 'Размер словаря : {}'.format(vocabularySize))"
      ],
      "execution_count": null,
      "outputs": [
        {
          "output_type": "stream",
          "text": [
            "Фрагмент словаря : [('start', 1), ('end', 2), ('что', 3), ('не', 4), ('я', 5), ('а', 6), ('ты', 7), ('это', 8), ('да', 9), ('в', 10), ('нет', 11), ('как', 12), ('и', 13), ('вы', 14), ('ну', 15), ('с', 16), ('на', 17), ('же', 18), ('так', 19), ('он', 20), ('у', 21), ('кто', 22), ('где', 23), ('все', 24), ('мы', 25), ('то', 26), ('мне', 27), ('тебя', 28), ('меня', 29), ('здесь', 30), ('еще', 31), ('почему', 32), ('о', 33), ('там', 34), ('тебе', 35), ('есть', 36), ('его', 37), ('за', 38), ('куда', 39), ('вот', 40), ('ничего', 41), ('вас', 42), ('знаю', 43), ('чем', 44), ('но', 45), ('она', 46), ('они', 47), ('ли', 48), ('чего', 49), ('вам', 50)]\n",
            "Размер словаря : 15104\n"
          ],
          "name": "stdout"
        }
      ]
    },
    {
      "cell_type": "code",
      "metadata": {
        "id": "p4nNBJUQgebF",
        "colab": {
          "base_uri": "https://localhost:8080/",
          "height": 84
        },
        "outputId": "d2e2eb01-2ecc-4933-8195-f6f1737abbe9"
      },
      "source": [
        "######################\n",
        "# Устанавливаем закодированные входные данные(вопросы)\n",
        "######################\n",
        "tokenizedQuestions = tokenizer.texts_to_sequences(questions) # разбиваем текст вопросов на последовательности индексов\n",
        "maxLenQuestions = max([ len(x) for x in tokenizedQuestions]) # уточняем длину самого большого вопроса\n",
        "# Делаем последовательности одной длины, заполняя нулями более короткие вопросы\n",
        "paddedQuestions = pad_sequences(tokenizedQuestions, maxlen=maxLenQuestions, padding='post')\n",
        "\n",
        "# Предподготавливаем данные для входа в сеть\n",
        "encoderForInput = np.array(paddedQuestions) # переводим в numpy массив\n",
        "print('Пример оригинального вопроса на вход : {}'.format(questions[100])) \n",
        "print('Пример кодированного вопроса на вход : {}'.format(encoderForInput[100])) \n",
        "print('Размеры закодированного массива вопросов на вход : {}'.format(encoderForInput.shape)) \n",
        "print('Установленная длина вопросов на вход : {}'.format(maxLenQuestions)) \n"
      ],
      "execution_count": null,
      "outputs": [
        {
          "output_type": "stream",
          "text": [
            "Пример оригинального вопроса на вход : Какая же мораль?\n",
            "Пример кодированного вопроса на вход : [ 170   18 5709    0    0    0    0    0    0    0    0]\n",
            "Размеры закодированного массива вопросов на вход : (11900, 11)\n",
            "Установленная длина вопросов на вход : 11\n"
          ],
          "name": "stdout"
        }
      ]
    },
    {
      "cell_type": "code",
      "metadata": {
        "id": "-tjvhMuzqFJD",
        "colab": {
          "base_uri": "https://localhost:8080/",
          "height": 101
        },
        "outputId": "5ba23f92-7c42-487e-bd08-e315cedc82b7"
      },
      "source": [
        "######################\n",
        "# Устанавливаем раскодированные входные данные(ответы)\n",
        "######################\n",
        "tokenizedAnswers = tokenizer.texts_to_sequences(answers) # разбиваем текст ответов на последовательности индексов\n",
        "maxLenAnswers = max([len(x) for x in tokenizedAnswers]) # уточняем длину самого большого ответа\n",
        "# Делаем последовательности одной длины, заполняя нулями более короткие ответы\n",
        "paddedAnswers = pad_sequences(tokenizedAnswers, maxlen=maxLenAnswers, padding='post')\n",
        "\n",
        "# Предподготавливаем данные для входа в сеть\n",
        "decoderForInput = np.array(paddedAnswers) # переводим в numpy массив\n",
        "print('Пример оригинального ответа на вход: {}'.format(answers[100])) \n",
        "print('Пример раскодированного ответа на вход : {}'.format(decoderForInput[100][:30])) \n",
        "print('Размеры раскодированного массива ответов на вход : {}'.format(decoderForInput.shape)) \n",
        "print('Установленная длина ответов на вход : {}'.format(maxLenAnswers)) "
      ],
      "execution_count": null,
      "outputs": [
        {
          "output_type": "stream",
          "text": [
            "Пример оригинального ответа на вход: <START> Никакой. Так просто вспомнилось. <END>\n",
            "Пример раскодированного ответа на вход : [    1   673    19    93 10558     2     0     0     0     0     0     0\n",
            "     0]\n",
            "Размеры раскодированного массива ответов на вход : (11900, 13)\n",
            "Установленная длина ответов на вход : 13\n"
          ],
          "name": "stdout"
        }
      ]
    },
    {
      "cell_type": "code",
      "metadata": {
        "id": "MwsKk9dzNeqI"
      },
      "source": [
        "######################\n",
        "# Раскодированные выходные данные(ответы)\n",
        "######################\n",
        "tokenizedAnswers = tokenizer.texts_to_sequences(answers) # разбиваем текст ответов на последовательности индексов\n",
        "for i in range(len(tokenizedAnswers)) : # для разбитых на последовательности ответов\n",
        "  tokenizedAnswers[i] = tokenizedAnswers[i][1:] # избавляемся от тега <START>\n",
        "# Делаем последовательности одной длины, заполняя нулями более короткие ответы\n",
        "paddedAnswers = pad_sequences(tokenizedAnswers, maxlen=maxLenAnswers , padding='post')\n",
        "\n",
        "oneHotAnswers = utils.to_categorical(paddedAnswers, vocabularySize) # переводим в one hot vector\n",
        "decoderForOutput = np.array(oneHotAnswers) # и сохраняем в виде массива numpy"
      ],
      "execution_count": null,
      "outputs": []
    },
    {
      "cell_type": "code",
      "metadata": {
        "id": "fRl1k7SVaA6w",
        "colab": {
          "base_uri": "https://localhost:8080/",
          "height": 101
        },
        "outputId": "90c12e5b-26fb-456d-ee14-4f8d9892c5c2"
      },
      "source": [
        "print('Пример раскодированного ответа на вход : {}'.format(decoderForInput[100][:21]))  \n",
        "print('Пример раскодированного ответа на выход : {}'.format(decoderForOutput[100][4][:21])) \n",
        "print('Размеры раскодированного массива ответов на выход : {}'.format(decoderForOutput.shape))\n",
        "print('Установленная длина вопросов на выход : {}'.format(maxLenAnswers)) "
      ],
      "execution_count": null,
      "outputs": [
        {
          "output_type": "stream",
          "text": [
            "Пример раскодированного ответа на вход : [    1   673    19    93 10558     2     0     0     0     0     0     0\n",
            "     0]\n",
            "Пример раскодированного ответа на выход : [0. 0. 1. 0. 0. 0. 0. 0. 0. 0. 0. 0. 0. 0. 0. 0. 0. 0. 0. 0. 0.]\n",
            "Размеры раскодированного массива ответов на выход : (11900, 13, 15104)\n",
            "Установленная длина вопросов на выход : 13\n"
          ],
          "name": "stdout"
        }
      ]
    },
    {
      "cell_type": "code",
      "metadata": {
        "id": "1rRKDr4rhXcZ"
      },
      "source": [
        "######################\n",
        "# Первый входной слой, кодер, выходной слой\n",
        "######################\n",
        "encoderInputs = Input(shape=(11, )) # размеры на входе сетки (здесь будет encoderForInput)\n",
        "# Эти данные проходят через слой Embedding (длина словаря, размерность) \n",
        "encoderEmbedding = Embedding(vocabularySize, 200,  mask_zero=True) (encoderInputs)\n",
        "# Затем выход с Embedding пойдёт в LSTM слой, на выходе у которого будет два вектора состояния - state_h , state_c\n",
        "# Вектора состояния - state_h , state_c зададутся в LSTM слое декодера в блоке ниже\n",
        "encoderOutputs, state_h , state_c = LSTM(200, return_state=True)(encoderEmbedding)\n",
        "encoderStates = [state_h, state_c]"
      ],
      "execution_count": null,
      "outputs": []
    },
    {
      "cell_type": "code",
      "metadata": {
        "id": "K_yv8Y6QWX2D"
      },
      "source": [
        "######################\n",
        "# Второй входной слой, декодер, выходной слой\n",
        "######################\n",
        "decoderInputs = Input(shape=(13, )) # размеры на входе сетки (здесь будет decoderForInput)\n",
        "# Эти данные проходят через слой Embedding (длина словаря, размерность) \n",
        "# mask_zero=True - игнорировать нулевые padding при передаче в LSTM. Предотвратит вывод ответа типа: \"У меня все хорошо PAD PAD PAD PAD PAD PAD..\"\n",
        "decoderEmbedding = Embedding(vocabularySize, 200, mask_zero=True) (decoderInputs) \n",
        "# Затем выход с Embedding пойдёт в LSTM слой, которому передаются вектора состояния - state_h , state_c\n",
        "\n",
        "decoderLSTM = LSTM(200, return_state=True, return_sequences=True)\n",
        "\n",
        "\n",
        "decoderOutputs , _ , _ = decoderLSTM (decoderEmbedding, initial_state=encoderStates)\n",
        "# И от LSTM'а сигнал decoderOutputs пропускаем через полносвязный слой с софтмаксом на выходе\n",
        "decoderDense = Dense(vocabularySize, activation='softmax') \n",
        "output = decoderDense (decoderOutputs)"
      ],
      "execution_count": null,
      "outputs": []
    },
    {
      "cell_type": "code",
      "metadata": {
        "id": "KYnTen_UWc5F",
        "colab": {
          "base_uri": "https://localhost:8080/",
          "height": 953
        },
        "outputId": "4a97be2d-f7a6-4a63-d90e-fc73d0185779"
      },
      "source": [
        "######################\n",
        "# Собираем тренировочную модель нейросети\n",
        "######################\n",
        "model = Model([encoderInputs, decoderInputs], output)\n",
        "model.compile(optimizer=RMSprop(), loss='categorical_crossentropy')\n",
        "\n",
        "print(model.summary()) # выведем на экран информацию о построенной модели нейросети\n",
        "plot_model(model, to_file='model.png', show_shapes=True) # и построим график для визуализации слоев и связей между ними"
      ],
      "execution_count": null,
      "outputs": [
        {
          "output_type": "stream",
          "text": [
            "Model: \"functional_1\"\n",
            "__________________________________________________________________________________________________\n",
            "Layer (type)                    Output Shape         Param #     Connected to                     \n",
            "==================================================================================================\n",
            "input_1 (InputLayer)            [(None, 11)]         0                                            \n",
            "__________________________________________________________________________________________________\n",
            "input_2 (InputLayer)            [(None, 13)]         0                                            \n",
            "__________________________________________________________________________________________________\n",
            "embedding (Embedding)           (None, 11, 200)      3020800     input_1[0][0]                    \n",
            "__________________________________________________________________________________________________\n",
            "embedding_1 (Embedding)         (None, 13, 200)      3020800     input_2[0][0]                    \n",
            "__________________________________________________________________________________________________\n",
            "lstm (LSTM)                     [(None, 200), (None, 320800      embedding[0][0]                  \n",
            "__________________________________________________________________________________________________\n",
            "lstm_1 (LSTM)                   [(None, 13, 200), (N 320800      embedding_1[0][0]                \n",
            "                                                                 lstm[0][1]                       \n",
            "                                                                 lstm[0][2]                       \n",
            "__________________________________________________________________________________________________\n",
            "dense (Dense)                   (None, 13, 15104)    3035904     lstm_1[0][0]                     \n",
            "==================================================================================================\n",
            "Total params: 9,719,104\n",
            "Trainable params: 9,719,104\n",
            "Non-trainable params: 0\n",
            "__________________________________________________________________________________________________\n",
            "None\n"
          ],
          "name": "stdout"
        },
        {
          "output_type": "execute_result",
          "data": {
            "image/png": "[encoded data removed]",
            "text/plain": [
              "<IPython.core.display.Image object>"
            ]
          },
          "metadata": {
            "tags": []
          },
          "execution_count": 13
        }
      ]
    },
    {
      "cell_type": "markdown",
      "metadata": {
        "id": "By-XiyXhlzBx"
      },
      "source": [
        "#### **20 эпох**"
      ]
    },
    {
      "cell_type": "code",
      "metadata": {
        "id": "VbelEm0zhadD",
        "colab": {
          "base_uri": "https://localhost:8080/",
          "height": 706
        },
        "outputId": "4ba0b315-df3c-42d8-a3d4-e97d6a91652a"
      },
      "source": [
        "# Запустим обучение\n",
        "model.fit([encoderForInput , decoderForInput], decoderForOutput, batch_size=50, epochs=20) "
      ],
      "execution_count": null,
      "outputs": [
        {
          "output_type": "stream",
          "text": [
            "Epoch 1/20\n",
            "238/238 [==============================] - 10s 43ms/step - loss: 2.2199\n",
            "Epoch 2/20\n",
            "238/238 [==============================] - 10s 43ms/step - loss: 1.9760\n",
            "Epoch 3/20\n",
            "238/238 [==============================] - 10s 43ms/step - loss: 1.9270\n",
            "Epoch 4/20\n",
            "238/238 [==============================] - 10s 42ms/step - loss: 1.8871\n",
            "Epoch 5/20\n",
            "238/238 [==============================] - 10s 43ms/step - loss: 1.8510\n",
            "Epoch 6/20\n",
            "238/238 [==============================] - 10s 43ms/step - loss: 1.8171\n",
            "Epoch 7/20\n",
            "238/238 [==============================] - 10s 44ms/step - loss: 1.7849\n",
            "Epoch 8/20\n",
            "238/238 [==============================] - 10s 42ms/step - loss: 1.7528\n",
            "Epoch 9/20\n",
            "238/238 [==============================] - 10s 43ms/step - loss: 1.7188\n",
            "Epoch 10/20\n",
            "238/238 [==============================] - 10s 43ms/step - loss: 1.6853\n",
            "Epoch 11/20\n",
            "238/238 [==============================] - 10s 42ms/step - loss: 1.6515\n",
            "Epoch 12/20\n",
            "238/238 [==============================] - 10s 42ms/step - loss: 1.6161\n",
            "Epoch 13/20\n",
            "238/238 [==============================] - 10s 42ms/step - loss: 1.5797\n",
            "Epoch 14/20\n",
            "238/238 [==============================] - 10s 42ms/step - loss: 1.5451\n",
            "Epoch 15/20\n",
            "238/238 [==============================] - 10s 42ms/step - loss: 1.5111\n",
            "Epoch 16/20\n",
            "238/238 [==============================] - 10s 42ms/step - loss: 1.4768\n",
            "Epoch 17/20\n",
            "238/238 [==============================] - 10s 42ms/step - loss: 1.4434\n",
            "Epoch 18/20\n",
            "238/238 [==============================] - 10s 42ms/step - loss: 1.4127\n",
            "Epoch 19/20\n",
            "238/238 [==============================] - 10s 42ms/step - loss: 1.3831\n",
            "Epoch 20/20\n",
            "238/238 [==============================] - 10s 42ms/step - loss: 1.3515\n"
          ],
          "name": "stdout"
        },
        {
          "output_type": "execute_result",
          "data": {
            "text/plain": [
              "<tensorflow.python.keras.callbacks.History at 0x7f1e22830a20>"
            ]
          },
          "metadata": {
            "tags": []
          },
          "execution_count": 14
        }
      ]
    },
    {
      "cell_type": "code",
      "metadata": {
        "id": "Kv9utvcjh2co"
      },
      "source": [
        "######################\n",
        "# Создаем рабочую модель для вывода ответов на запросы пользователя\n",
        "######################\n",
        "def makeInferenceModels():\n",
        "  # Определим модель кодера, на входе далее будут закодированные вопросы(encoderForInputs), на выходе состояния state_h, state_c\n",
        "  encoderModel = Model(encoderInputs, encoderStates) \n",
        "\n",
        "  decoderStateInput_h = Input(shape=(200 ,)) # обозначим размерность для входного слоя с состоянием state_h\n",
        "  decoderStateInput_c = Input(shape=(200 ,)) # обозначим размерность для входного слоя с состоянием state_c\n",
        "\n",
        "  decoderStatesInputs = [decoderStateInput_h, decoderStateInput_c] # возьмем оба inputs вместе и запишем в decoderStatesInputs\n",
        "\n",
        "  # Берём ответы, прошедшие через эмбединг, вместе с состояниями и подаём LSTM cлою\n",
        "\n",
        "  decoderOutputs, state_h, state_c = decoderLSTM(decoderEmbedding, initial_state=decoderStatesInputs)\n",
        "\n",
        "  decoderStates = [state_h, state_c] # LSTM даст нам новые состояния\n",
        "  decoderOutputs = decoderDense(decoderOutputs) # и ответы, которые мы пропустим через полносвязный слой с софтмаксом\n",
        "\n",
        "  # Определим модель декодера, на входе далее будут раскодированные ответы (decoderForInputs) и состояния\n",
        "  # на выходе предсказываемый ответ и новые состояния\n",
        "  decoderModel = Model([decoderInputs] + decoderStatesInputs, [decoderOutputs] + decoderStates)\n",
        "\n",
        "  return encoderModel , decoderModel"
      ],
      "execution_count": null,
      "outputs": []
    },
    {
      "cell_type": "code",
      "metadata": {
        "id": "dSSOhZpgh9LI"
      },
      "source": [
        "######################\n",
        "# Создадим функцию, которая преобразует вопрос пользователя в последовательность индексов\n",
        "######################\n",
        "def strToTokens(sentence: str): # функция принимает строку на вход (предложение с вопросом)\n",
        "  words = sentence.lower().split() # приводит предложение к нижнему регистру и разбирает на слова\n",
        "  tokensList = list() # здесь будет последовательность токенов/индексов\n",
        "  for word in words: # для каждого слова в предложении\n",
        "    tokensList.append(tokenizer.word_index[word]) # определяем токенизатором индекс и добавляем в список\n",
        "\n",
        "    # Функция вернёт вопрос в виде последовательности индексов, ограниченной длиной самого длинного вопроса из нашей базы вопросов\n",
        "  return pad_sequences([tokensList], maxlen=maxLenQuestions , padding='post')"
      ],
      "execution_count": null,
      "outputs": []
    },
    {
      "cell_type": "code",
      "metadata": {
        "id": "kJ0Dxd1eiEid",
        "colab": {
          "base_uri": "https://localhost:8080/",
          "height": 118
        },
        "outputId": "00b7907b-678c-4037-d1e8-03a00b36eac3"
      },
      "source": [
        "######################\n",
        "# Устанавливаем окончательные настройки и запускаем модель\n",
        "######################\n",
        "\n",
        "encModel, decModel = makeInferenceModels() # запускаем функцию для построения модели кодера и декодера\n",
        "\n",
        "for _ in range(3): # задаем количество вопросов, и на каждой итерации в этом диапазоне:\n",
        "  # Получаем значения состояний, которые определит кодер в соответствии с заданным вопросом\n",
        "  statesValues = encModel.predict(strToTokens(input( 'Задайте вопрос : ' )))\n",
        "  # Создаём пустой массив размером (1, 1)\n",
        "  emptyTargetSeq = np.zeros((1, 1))    \n",
        "  emptyTargetSeq[0, 0] = tokenizer.word_index['start'] # положим в пустую последовательность начальное слово 'start' в виде индекса\n",
        "\n",
        "  stopCondition = False # зададим условие, при срабатывании которого, прекратится генерация очередного слова\n",
        "  decodedTranslation = '' # здесь будет собираться генерируемый ответ\n",
        "  while not stopCondition : # пока не сработало стоп-условие\n",
        "    # В модель декодера подадим пустую последовательность со словом 'start' и состояния предсказанные кодером по заданному вопросу.\n",
        "    # декодер заменит слово 'start' предсказанным сгенерированным словом и обновит состояния\n",
        "    decOutputs , h , c = decModel.predict([emptyTargetSeq] + statesValues)\n",
        "    \n",
        "    #argmax пробежит по вектору decOutputs'а[0,0,15104], найдет макс.значение, и вернёт нам номер индекса под которым оно лежит в массиве\n",
        "    sampledWordIndex = np.argmax(decOutputs, axis=-1) # argmax возьмем от оси, в которой 15104 элементов. Получили индекс предсказанного слова.\n",
        "    sampledWord = None # создаем переменную, в которую положим слово, преобразованное на естественный язык\n",
        "    for word , index in tokenizer.word_index.items():\n",
        "      if sampledWordIndex == index: # если индекс выбранного слова соответствует какому-то индексу из словаря\n",
        "        decodedTranslation += ' {}'.format(word) # слово, идущее под этим индексом в словаре, добавляется в итоговый ответ \n",
        "        sampledWord = word # выбранное слово фиксируем в переменную sampledWord\n",
        "    \n",
        "    # Если выбранным словом оказывается 'end' либо если сгенерированный ответ превышает заданную максимальную длину ответа\n",
        "    if sampledWord == 'end' or len(decodedTranslation.split()) > maxLenAnswers:\n",
        "      stopCondition = True # то срабатывает стоп-условие и прекращаем генерацию\n",
        "\n",
        "    emptyTargetSeq = np.zeros((1, 1)) # создаем пустой массив\n",
        "    emptyTargetSeq[0, 0] = sampledWordIndex # заносим туда индекс выбранного слова\n",
        "    statesValues = [h, c] # и состояния, обновленные декодером\n",
        "    # и продолжаем цикл с обновленными параметрами\n",
        "  \n",
        "  print(\"Ответ : \", decodedTranslation[:-3]) # выводим ответ сгенерированный декодером"
      ],
      "execution_count": null,
      "outputs": [
        {
          "output_type": "stream",
          "text": [
            "Задайте вопрос : Как у тебя дела\n",
            "Ответ :   да \n",
            "Задайте вопрос : Что делаешь\n",
            "Ответ :   ничего \n",
            "Задайте вопрос : Почему\n",
            "Ответ :   не знаю \n"
          ],
          "name": "stdout"
        }
      ]
    },
    {
      "cell_type": "markdown",
      "metadata": {
        "id": "vxx_6Vz2lms2"
      },
      "source": [
        "**Итоги:** пока бот совсем немногословен, но тем не мение на 2 и 3 вопросы, бот ответил вполне логично(сети удалось выдавать ответы, “похожие на правду”), почти как человек который не хочет общаться)))) "
      ]
    },
    {
      "cell_type": "markdown",
      "metadata": {
        "id": "CeJpkW7Um8d9"
      },
      "source": [
        "#### **+ 30 эпох**"
      ]
    },
    {
      "cell_type": "code",
      "metadata": {
        "id": "N5aUVAPgm6Rx",
        "colab": {
          "base_uri": "https://localhost:8080/",
          "height": 1000
        },
        "outputId": "61ba6c85-bdb2-4114-9b90-ddc1e404eb8c"
      },
      "source": [
        "# Запустим обучение\n",
        "model.fit([encoderForInput , decoderForInput], decoderForOutput, batch_size=50, epochs=30) "
      ],
      "execution_count": null,
      "outputs": [
        {
          "output_type": "stream",
          "text": [
            "Epoch 1/30\n",
            "238/238 [==============================] - 10s 43ms/step - loss: 1.3204\n",
            "Epoch 2/30\n",
            "238/238 [==============================] - 10s 42ms/step - loss: 1.2915\n",
            "Epoch 3/30\n",
            "238/238 [==============================] - 10s 42ms/step - loss: 1.2634\n",
            "Epoch 4/30\n",
            "238/238 [==============================] - 10s 42ms/step - loss: 1.2360\n",
            "Epoch 5/30\n",
            "238/238 [==============================] - 10s 42ms/step - loss: 1.2095\n",
            "Epoch 6/30\n",
            "238/238 [==============================] - 10s 43ms/step - loss: 1.1819\n",
            "Epoch 7/30\n",
            "238/238 [==============================] - 10s 42ms/step - loss: 1.1583\n",
            "Epoch 8/30\n",
            "238/238 [==============================] - 10s 42ms/step - loss: 1.1344\n",
            "Epoch 9/30\n",
            "238/238 [==============================] - 10s 42ms/step - loss: 1.1124\n",
            "Epoch 10/30\n",
            "238/238 [==============================] - 10s 42ms/step - loss: 1.0915\n",
            "Epoch 11/30\n",
            "238/238 [==============================] - 10s 42ms/step - loss: 1.0709\n",
            "Epoch 12/30\n",
            "238/238 [==============================] - 10s 42ms/step - loss: 1.0509\n",
            "Epoch 13/30\n",
            "238/238 [==============================] - 10s 42ms/step - loss: 1.0321\n",
            "Epoch 14/30\n",
            "238/238 [==============================] - 10s 42ms/step - loss: 1.0123\n",
            "Epoch 15/30\n",
            "238/238 [==============================] - 10s 42ms/step - loss: 0.9956\n",
            "Epoch 16/30\n",
            "238/238 [==============================] - 10s 42ms/step - loss: 0.9808\n",
            "Epoch 17/30\n",
            "238/238 [==============================] - 10s 42ms/step - loss: 0.9656\n",
            "Epoch 18/30\n",
            "238/238 [==============================] - 10s 42ms/step - loss: 0.9522\n",
            "Epoch 19/30\n",
            "238/238 [==============================] - 10s 43ms/step - loss: 0.9418\n",
            "Epoch 20/30\n",
            "238/238 [==============================] - 10s 43ms/step - loss: 0.9304\n",
            "Epoch 21/30\n",
            "238/238 [==============================] - 10s 42ms/step - loss: 0.9203\n",
            "Epoch 22/30\n",
            "238/238 [==============================] - 10s 42ms/step - loss: 0.9104\n",
            "Epoch 23/30\n",
            "238/238 [==============================] - 10s 42ms/step - loss: 0.8986\n",
            "Epoch 24/30\n",
            "238/238 [==============================] - 10s 42ms/step - loss: 0.8877\n",
            "Epoch 25/30\n",
            "238/238 [==============================] - 10s 42ms/step - loss: 0.8818\n",
            "Epoch 26/30\n",
            "238/238 [==============================] - 10s 42ms/step - loss: 0.8765\n",
            "Epoch 27/30\n",
            "238/238 [==============================] - 10s 42ms/step - loss: 0.8722\n",
            "Epoch 28/30\n",
            "238/238 [==============================] - 10s 42ms/step - loss: 0.8698\n",
            "Epoch 29/30\n",
            "238/238 [==============================] - 10s 42ms/step - loss: 0.8681\n",
            "Epoch 30/30\n",
            "238/238 [==============================] - 10s 42ms/step - loss: 0.8662\n"
          ],
          "name": "stdout"
        },
        {
          "output_type": "execute_result",
          "data": {
            "text/plain": [
              "<tensorflow.python.keras.callbacks.History at 0x7f1d72f180f0>"
            ]
          },
          "metadata": {
            "tags": []
          },
          "execution_count": 22
        }
      ]
    },
    {
      "cell_type": "code",
      "metadata": {
        "id": "qK57lGcFnCQt",
        "colab": {
          "base_uri": "https://localhost:8080/",
          "height": 118
        },
        "outputId": "e397c420-cc95-4365-fc79-e03c86871b6a"
      },
      "source": [
        "######################\n",
        "# Устанавливаем окончательные настройки и запускаем модель\n",
        "######################\n",
        "\n",
        "encModel, decModel = makeInferenceModels() # запускаем функцию для построения модели кодера и декодера\n",
        "\n",
        "for _ in range(3): # задаем количество вопросов, и на каждой итерации в этом диапазоне:\n",
        "  # Получаем значения состояний, которые определит кодер в соответствии с заданным вопросом\n",
        "  statesValues = encModel.predict(strToTokens(input( 'Задайте вопрос : ' )))\n",
        "  # Создаём пустой массив размером (1, 1)\n",
        "  emptyTargetSeq = np.zeros((1, 1))    \n",
        "  emptyTargetSeq[0, 0] = tokenizer.word_index['start'] # положим в пустую последовательность начальное слово 'start' в виде индекса\n",
        "\n",
        "  stopCondition = False # зададим условие, при срабатывании которого, прекратится генерация очередного слова\n",
        "  decodedTranslation = '' # здесь будет собираться генерируемый ответ\n",
        "  while not stopCondition : # пока не сработало стоп-условие\n",
        "    # В модель декодера подадим пустую последовательность со словом 'start' и состояния предсказанные кодером по заданному вопросу.\n",
        "    # декодер заменит слово 'start' предсказанным сгенерированным словом и обновит состояния\n",
        "    decOutputs , h , c = decModel.predict([emptyTargetSeq] + statesValues)\n",
        "    \n",
        "    #argmax пробежит по вектору decOutputs'а[0,0,15104], найдет макс.значение, и вернёт нам номер индекса под которым оно лежит в массиве\n",
        "    sampledWordIndex = np.argmax(decOutputs, axis=-1) # argmax возьмем от оси, в которой 15104 элементов. Получили индекс предсказанного слова.\n",
        "    sampledWord = None # создаем переменную, в которую положим слово, преобразованное на естественный язык\n",
        "    for word , index in tokenizer.word_index.items():\n",
        "      if sampledWordIndex == index: # если индекс выбранного слова соответствует какому-то индексу из словаря\n",
        "        decodedTranslation += ' {}'.format(word) # слово, идущее под этим индексом в словаре, добавляется в итоговый ответ \n",
        "        sampledWord = word # выбранное слово фиксируем в переменную sampledWord\n",
        "    \n",
        "    # Если выбранным словом оказывается 'end' либо если сгенерированный ответ превышает заданную максимальную длину ответа\n",
        "    if sampledWord == 'end' or len(decodedTranslation.split()) > maxLenAnswers:\n",
        "      stopCondition = True # то срабатывает стоп-условие и прекращаем генерацию\n",
        "\n",
        "    emptyTargetSeq = np.zeros((1, 1)) # создаем пустой массив\n",
        "    emptyTargetSeq[0, 0] = sampledWordIndex # заносим туда индекс выбранного слова\n",
        "    statesValues = [h, c] # и состояния, обновленные декодером\n",
        "    # и продолжаем цикл с обновленными параметрами\n",
        "  \n",
        "  print(\"Ответ : \", decodedTranslation[:-3]) # выводим ответ сгенерированный декодером"
      ],
      "execution_count": null,
      "outputs": [
        {
          "output_type": "stream",
          "text": [
            "Задайте вопрос : Как у тебя дела\n",
            "Ответ :   у меня на он был и один \n",
            "Задайте вопрос : Что делаешь\n",
            "Ответ :   ничего \n",
            "Задайте вопрос : Почему\n",
            "Ответ :   не знаю \n"
          ],
          "name": "stdout"
        }
      ]
    },
    {
      "cell_type": "markdown",
      "metadata": {
        "id": "ABP4jigMmrXx"
      },
      "source": [
        "**Итоги:** появился небольшой прогресс в качестве ответа сети - ответ стал более длинным, целыми предложением(1 ответ), но пока это предложение с точки зрения логичнсти - полный бред - люди так не говорят."
      ]
    },
    {
      "cell_type": "markdown",
      "metadata": {
        "id": "JMpReORN-pX0"
      },
      "source": [
        "#### **Еще + 50 эпох**"
      ]
    },
    {
      "cell_type": "code",
      "metadata": {
        "id": "nd5z2d61-pX3",
        "colab": {
          "base_uri": "https://localhost:8080/",
          "height": 1000
        },
        "outputId": "4221be97-bd33-4f2d-e0a2-0fc92cd4186a"
      },
      "source": [
        "# Запустим обучение\n",
        "model.fit([encoderForInput , decoderForInput], decoderForOutput, batch_size=50, epochs=50) "
      ],
      "execution_count": null,
      "outputs": [
        {
          "output_type": "stream",
          "text": [
            "Epoch 1/50\n",
            "238/238 [==============================] - 10s 43ms/step - loss: 0.7175\n",
            "Epoch 2/50\n",
            "238/238 [==============================] - 10s 43ms/step - loss: 0.7165\n",
            "Epoch 3/50\n",
            "238/238 [==============================] - 10s 43ms/step - loss: 0.7161\n",
            "Epoch 4/50\n",
            "238/238 [==============================] - 10s 43ms/step - loss: 0.7163\n",
            "Epoch 5/50\n",
            "238/238 [==============================] - 10s 43ms/step - loss: 0.7161\n",
            "Epoch 6/50\n",
            "238/238 [==============================] - 10s 43ms/step - loss: 0.7156\n",
            "Epoch 7/50\n",
            "238/238 [==============================] - 10s 43ms/step - loss: 0.7154\n",
            "Epoch 8/50\n",
            "238/238 [==============================] - 10s 43ms/step - loss: 0.7150\n",
            "Epoch 9/50\n",
            "238/238 [==============================] - 10s 43ms/step - loss: 0.7151\n",
            "Epoch 10/50\n",
            "238/238 [==============================] - 10s 43ms/step - loss: 0.7148\n",
            "Epoch 11/50\n",
            "238/238 [==============================] - 10s 43ms/step - loss: 0.7143\n",
            "Epoch 12/50\n",
            "238/238 [==============================] - 10s 43ms/step - loss: 0.7138\n",
            "Epoch 13/50\n",
            "238/238 [==============================] - 10s 43ms/step - loss: 0.7135\n",
            "Epoch 14/50\n",
            "238/238 [==============================] - 10s 43ms/step - loss: 0.7130\n",
            "Epoch 15/50\n",
            "238/238 [==============================] - 10s 43ms/step - loss: 0.7128\n",
            "Epoch 16/50\n",
            "238/238 [==============================] - 10s 43ms/step - loss: 0.7126\n",
            "Epoch 17/50\n",
            "238/238 [==============================] - 10s 43ms/step - loss: 0.7117\n",
            "Epoch 18/50\n",
            "238/238 [==============================] - 10s 43ms/step - loss: 0.7115\n",
            "Epoch 19/50\n",
            "238/238 [==============================] - 10s 43ms/step - loss: 0.7111\n",
            "Epoch 20/50\n",
            "238/238 [==============================] - 10s 43ms/step - loss: 0.7103\n",
            "Epoch 21/50\n",
            "238/238 [==============================] - 10s 43ms/step - loss: 0.7105\n",
            "Epoch 22/50\n",
            "238/238 [==============================] - 10s 43ms/step - loss: 0.7102\n",
            "Epoch 23/50\n",
            "238/238 [==============================] - 10s 43ms/step - loss: 0.7098\n",
            "Epoch 24/50\n",
            "238/238 [==============================] - 10s 43ms/step - loss: 0.7094\n",
            "Epoch 25/50\n",
            "238/238 [==============================] - 10s 43ms/step - loss: 0.7086\n",
            "Epoch 26/50\n",
            "238/238 [==============================] - 10s 43ms/step - loss: 0.7089\n",
            "Epoch 27/50\n",
            "238/238 [==============================] - 10s 43ms/step - loss: 0.7086\n",
            "Epoch 28/50\n",
            "238/238 [==============================] - 10s 44ms/step - loss: 0.7085\n",
            "Epoch 29/50\n",
            "238/238 [==============================] - 10s 44ms/step - loss: 0.7082\n",
            "Epoch 30/50\n",
            "238/238 [==============================] - 10s 43ms/step - loss: 0.7087\n",
            "Epoch 31/50\n",
            "238/238 [==============================] - 10s 43ms/step - loss: 0.7087\n",
            "Epoch 32/50\n",
            "238/238 [==============================] - 10s 43ms/step - loss: 0.7084\n",
            "Epoch 33/50\n",
            "238/238 [==============================] - 10s 43ms/step - loss: 0.7088\n",
            "Epoch 34/50\n",
            "238/238 [==============================] - 10s 43ms/step - loss: 0.7081\n",
            "Epoch 35/50\n",
            "238/238 [==============================] - 10s 43ms/step - loss: 0.7073\n",
            "Epoch 36/50\n",
            "238/238 [==============================] - 10s 43ms/step - loss: 0.7075\n",
            "Epoch 37/50\n",
            "238/238 [==============================] - 10s 43ms/step - loss: 0.7081\n",
            "Epoch 38/50\n",
            "238/238 [==============================] - 10s 43ms/step - loss: 0.7077\n",
            "Epoch 39/50\n",
            "238/238 [==============================] - 10s 43ms/step - loss: 0.7080\n",
            "Epoch 40/50\n",
            "238/238 [==============================] - 10s 43ms/step - loss: 0.7082\n",
            "Epoch 41/50\n",
            "238/238 [==============================] - 10s 43ms/step - loss: 0.7085\n",
            "Epoch 42/50\n",
            "238/238 [==============================] - 10s 43ms/step - loss: 0.7082\n",
            "Epoch 43/50\n",
            "238/238 [==============================] - 10s 43ms/step - loss: 0.7088\n",
            "Epoch 44/50\n",
            "238/238 [==============================] - 10s 43ms/step - loss: 0.7085\n",
            "Epoch 45/50\n",
            "238/238 [==============================] - 10s 42ms/step - loss: 0.7085\n",
            "Epoch 46/50\n",
            "238/238 [==============================] - 10s 43ms/step - loss: 0.7089\n",
            "Epoch 47/50\n",
            "238/238 [==============================] - 10s 42ms/step - loss: 0.7086\n",
            "Epoch 48/50\n",
            "238/238 [==============================] - 10s 42ms/step - loss: 0.7094\n",
            "Epoch 49/50\n",
            "238/238 [==============================] - 10s 42ms/step - loss: 0.7093\n",
            "Epoch 50/50\n",
            "238/238 [==============================] - 10s 42ms/step - loss: 0.7098\n"
          ],
          "name": "stdout"
        },
        {
          "output_type": "execute_result",
          "data": {
            "text/plain": [
              "<tensorflow.python.keras.callbacks.History at 0x7f1d73583978>"
            ]
          },
          "metadata": {
            "tags": []
          },
          "execution_count": 28
        }
      ]
    },
    {
      "cell_type": "code",
      "metadata": {
        "id": "Xx6DZloX-pYI",
        "colab": {
          "base_uri": "https://localhost:8080/",
          "height": 118
        },
        "outputId": "06b4f380-3077-4f46-eaf8-21fab1a58ddd"
      },
      "source": [
        "######################\n",
        "# Устанавливаем окончательные настройки и запускаем модель\n",
        "######################\n",
        "\n",
        "encModel, decModel = makeInferenceModels() # запускаем функцию для построения модели кодера и декодера\n",
        "\n",
        "for _ in range(3): # задаем количество вопросов, и на каждой итерации в этом диапазоне:\n",
        "  # Получаем значения состояний, которые определит кодер в соответствии с заданным вопросом\n",
        "  statesValues = encModel.predict(strToTokens(input( 'Задайте вопрос : ' )))\n",
        "  # Создаём пустой массив размером (1, 1)\n",
        "  emptyTargetSeq = np.zeros((1, 1))    \n",
        "  emptyTargetSeq[0, 0] = tokenizer.word_index['start'] # положим в пустую последовательность начальное слово 'start' в виде индекса\n",
        "\n",
        "  stopCondition = False # зададим условие, при срабатывании которого, прекратится генерация очередного слова\n",
        "  decodedTranslation = '' # здесь будет собираться генерируемый ответ\n",
        "  while not stopCondition : # пока не сработало стоп-условие\n",
        "    # В модель декодера подадим пустую последовательность со словом 'start' и состояния предсказанные кодером по заданному вопросу.\n",
        "    # декодер заменит слово 'start' предсказанным сгенерированным словом и обновит состояния\n",
        "    decOutputs , h , c = decModel.predict([emptyTargetSeq] + statesValues)\n",
        "    \n",
        "    #argmax пробежит по вектору decOutputs'а[0,0,15104], найдет макс.значение, и вернёт нам номер индекса под которым оно лежит в массиве\n",
        "    sampledWordIndex = np.argmax(decOutputs, axis=-1) # argmax возьмем от оси, в которой 15104 элементов. Получили индекс предсказанного слова.\n",
        "    sampledWord = None # создаем переменную, в которую положим слово, преобразованное на естественный язык\n",
        "    for word , index in tokenizer.word_index.items():\n",
        "      if sampledWordIndex == index: # если индекс выбранного слова соответствует какому-то индексу из словаря\n",
        "        decodedTranslation += ' {}'.format(word) # слово, идущее под этим индексом в словаре, добавляется в итоговый ответ \n",
        "        sampledWord = word # выбранное слово фиксируем в переменную sampledWord\n",
        "    \n",
        "    # Если выбранным словом оказывается 'end' либо если сгенерированный ответ превышает заданную максимальную длину ответа\n",
        "    if sampledWord == 'end' or len(decodedTranslation.split()) > maxLenAnswers:\n",
        "      stopCondition = True # то срабатывает стоп-условие и прекращаем генерацию\n",
        "\n",
        "    emptyTargetSeq = np.zeros((1, 1)) # создаем пустой массив\n",
        "    emptyTargetSeq[0, 0] = sampledWordIndex # заносим туда индекс выбранного слова\n",
        "    statesValues = [h, c] # и состояния, обновленные декодером\n",
        "    # и продолжаем цикл с обновленными параметрами\n",
        "  \n",
        "  print(\"Ответ : \", decodedTranslation[:-3]) # выводим ответ сгенерированный декодером"
      ],
      "execution_count": null,
      "outputs": [
        {
          "output_type": "stream",
          "text": [
            "Задайте вопрос : Как у тебя дела\n",
            "Ответ :   у меня на как он я так \n",
            "Задайте вопрос : Что делаешь\n",
            "Ответ :   это я вы и что не да а что на вас ничего не \n",
            "Задайте вопрос : Почему\n",
            "Ответ :   да так уж не знаю \n"
          ],
          "name": "stdout"
        }
      ]
    },
    {
      "cell_type": "markdown",
      "metadata": {
        "id": "KKcxd7-hlb4F"
      },
      "source": [
        "**Итоги:** сети так и не удалось выдать три ответа “похожих на правду”, но прогресс в удленении фразы заметен. Смысл пока только в третьем ответе улавливается. Вывод - сеть надо доучивать еще, сутя по прогрессу если продолжить обучение бот станет отвечать связанными предложениями, логически коректными и похожими на \"человеческий\" язык. "
      ]
    },
    {
      "cell_type": "markdown",
      "metadata": {
        "id": "iLWn1gA0mJ-k"
      },
      "source": [
        "### **Задание 2**\n",
        "\n",
        "\n",
        "Попробуйте сделать любой небольшой набор диалогов(используем тот же формат\n",
        "файла и способ хранения фраз: “ - - Вопрос” и “ - Ответ”) и использовать его на этой же\n",
        "сетке. Проведите наблюдения:\n",
        "\n",
        "а) Насколько быстрее обучается сетка\n",
        "\n",
        "b) Способна ли она выдавать “адекватные” ответы\n",
        "\n",
        "с) Ответы выглядят просто заученными под копирку или можно сказать, что генерируется\n",
        "что-то новое?"
      ]
    },
    {
      "cell_type": "code",
      "metadata": {
        "id": "N8qSsj8GmYUT",
        "colab": {
          "base_uri": "https://localhost:8080/",
          "height": 50
        },
        "outputId": "49d2e588-66c1-44b9-f71a-fc40e771fba8"
      },
      "source": [
        "######################\n",
        "# Открываем файл с диалогами\n",
        "######################\n",
        "corpus = open('/content/drive/My Drive/Colab Notebooks/Базы/dialogs.yml', 'r') # открываем файл с диалогами в режиме чтения\n",
        "document = yaml.safe_load(corpus) # загружаем файл *глоссарий\n",
        "conversations = document['разговоры'] # загружаем диалоги из файла и заносим в conversations \n",
        "print('Количество пар вопрос-ответ : {}'.format(len(conversations)))\n",
        "print('Пример диалога : {}'.format(conversations[12]))"
      ],
      "execution_count": null,
      "outputs": [
        {
          "output_type": "stream",
          "text": [
            "Количество пар вопрос-ответ : 271\n",
            "Пример диалога : ['Какая погодка у вас сегодня?', 'жесть как холодно да еще и ветренно']\n"
          ],
          "name": "stdout"
        }
      ]
    },
    {
      "cell_type": "markdown",
      "metadata": {
        "id": "ZhyXEpPe1-C3"
      },
      "source": [
        "Для данного задания были собраны диалоги с 3 друзьми и коллегами (немногословными), и помещены в yml файл в формате \"Вопрос\" - \"Ответ\", получилось немного но бот научился общаться и на этой базе))) "
      ]
    },
    {
      "cell_type": "code",
      "metadata": {
        "id": "aEwIg0bbmYUX",
        "colab": {
          "base_uri": "https://localhost:8080/",
          "height": 50
        },
        "outputId": "be033f46-e8c6-4fb8-c821-8d0369a7820e"
      },
      "source": [
        "######################\n",
        "# Разбираем вопросы-ответы с проставлением тегов ответам\n",
        "######################\n",
        "# Собираем вопросы и ответы в списки\n",
        "questions = list() # здесь будет список вопросов\n",
        "answers = list() # здесь будет список ответов\n",
        "\n",
        "# В каждом диалоге берем фразу и добавляем в лист\n",
        "# Если в ответе не одна фраза - то сцепляем сколько есть\n",
        "for con in conversations: # для каждой пары вопрос-ответ\n",
        "  if len(con) > 2 : # если ответ содержит более двух предложений (кол-во реплик, кол-во вариантов ответа)\n",
        "    questions.append(con[0]) # то вопросительную реплику отправляем в список вопросов\n",
        "    replies = con[1:] # а ответную составляем из последующих строк\n",
        "    ans = '' # здесь соберем ответ\n",
        "    for rep in replies: # каждую реплику в ответной реплике\n",
        "      ans += ' ' + rep \n",
        "    answers.append(ans) #добавим в список ответов\n",
        "  elif len(con)> 1: # если на 1 вопрос приходится 1 ответ\n",
        "    questions.append(con[0]) # то вопросительную реплику отправляем в список вопросов\n",
        "    answers.append(con[1]) # а ответную в список ответов\n",
        "\n",
        "# Очищаем строки с неопределенным типов ответов\n",
        "answersCleaned = list()\n",
        "for i in range(len(answers)):\n",
        "  if type(answers[i]) == str:\n",
        "    answersCleaned.append(answers[i]) #если тип - строка, то добавляем в ответы\n",
        "  else:\n",
        "    questions.pop(i) # если не строка, то ответ не добавился, и плюс убираем соответствующий вопрос\n",
        "\n",
        "# Сделаем теги-метки для начала и конца ответов\n",
        "answers = list()\n",
        "for i in range(len(answersCleaned)):\n",
        "  answers.append( '<START> ' + answersCleaned[i] + ' <END>' )\n",
        "\n",
        "# Выведем обновленные данные на экран\n",
        "print('Вопрос : {}'.format(questions[2]))\n",
        "print('Ответ : {}'.format(answers[2]))"
      ],
      "execution_count": null,
      "outputs": [
        {
          "output_type": "stream",
          "text": [
            "Вопрос : Как дела?\n",
            "Ответ : <START> Норм а ты как <END>\n"
          ],
          "name": "stdout"
        }
      ]
    },
    {
      "cell_type": "code",
      "metadata": {
        "id": "E2NdY1dEmYUb",
        "colab": {
          "base_uri": "https://localhost:8080/",
          "height": 70
        },
        "outputId": "49053fbf-a4e2-4013-b616-e2fdec3adb83"
      },
      "source": [
        "######################\n",
        "# Подключаем керасовский токенизатор и собираем словарь индексов\n",
        "######################\n",
        "tokenizer = Tokenizer()\n",
        "tokenizer.fit_on_texts(questions + answers) # загружаем в токенизатор список вопросов-ответов для сборки словаря частотности\n",
        "vocabularyItems = list(tokenizer.word_index.items()) # список с cодержимым словаря\n",
        "vocabularySize = len(vocabularyItems)+1 # размер словаря\n",
        "print( 'Фрагмент словаря : {}'.format(vocabularyItems[:50]))\n",
        "print( 'Размер словаря : {}'.format(vocabularySize))"
      ],
      "execution_count": null,
      "outputs": [
        {
          "output_type": "stream",
          "text": [
            "Фрагмент словаря : [('start', 1), ('end', 2), ('на', 3), ('как', 4), ('ты', 5), ('сегодня', 6), ('в', 7), ('и', 8), ('у', 9), ('тебе', 10), ('что', 11), ('пойдем', 12), ('не', 13), ('вас', 14), ('кино', 15), ('о', 16), ('дела', 17), ('мне', 18), ('все', 19), ('вечер', 20), ('весело', 21), ('ага', 22), ('выходных', 23), ('еще', 24), ('чем', 25), ('надо', 26), ('какая', 27), ('погодка', 28), ('есть', 29), ('планы', 30), ('а', 31), ('норм', 32), ('то', 33), ('да', 34), ('я', 35), ('ок', 36), ('какое', 37), ('поедешь', 38), ('только', 39), ('сам', 40), ('конечно', 41), ('фильмец', 42), ('там', 43), ('за', 44), ('оно', 45), ('погода', 46), ('иди', 47), ('учиться', 48), ('погнали', 49), ('работа', 50)]\n",
            "Размер словаря : 263\n"
          ],
          "name": "stdout"
        }
      ]
    },
    {
      "cell_type": "code",
      "metadata": {
        "id": "5Zmf15XXmYUe",
        "colab": {
          "base_uri": "https://localhost:8080/",
          "height": 84
        },
        "outputId": "d8857062-ac75-4dec-ce77-e363dcfa77c2"
      },
      "source": [
        "######################\n",
        "# Устанавливаем закодированные входные данные(вопросы)\n",
        "######################\n",
        "tokenizedQuestions = tokenizer.texts_to_sequences(questions) # разбиваем текст вопросов на последовательности индексов\n",
        "maxLenQuestions = max([ len(x) for x in tokenizedQuestions]) # уточняем длину самого большого вопроса\n",
        "# Делаем последовательности одной длины, заполняя нулями более короткие вопросы\n",
        "paddedQuestions = pad_sequences(tokenizedQuestions, maxlen=maxLenQuestions, padding='post')\n",
        "\n",
        "# Предподготавливаем данные для входа в сеть\n",
        "encoderForInput = np.array(paddedQuestions) # переводим в numpy массив\n",
        "print('Пример оригинального вопроса на вход : {}'.format(questions[41])) \n",
        "print('Пример кодированного вопроса на вход : {}'.format(encoderForInput[41])) \n",
        "print('Размеры закодированного массива вопросов на вход : {}'.format(encoderForInput.shape)) \n",
        "print('Установленная длина вопросов на вход : {}'.format(maxLenQuestions)) \n"
      ],
      "execution_count": null,
      "outputs": [
        {
          "output_type": "stream",
          "text": [
            "Пример оригинального вопроса на вход : Погоняем на выходных?\n",
            "Пример кодированного вопроса на вход : [84  3 23  0  0  0]\n",
            "Размеры закодированного массива вопросов на вход : (271, 6)\n",
            "Установленная длина вопросов на вход : 6\n"
          ],
          "name": "stdout"
        }
      ]
    },
    {
      "cell_type": "code",
      "metadata": {
        "id": "SYP2S0GPmYUh",
        "colab": {
          "base_uri": "https://localhost:8080/",
          "height": 84
        },
        "outputId": "fd312947-21fd-4b36-9dd3-ac99203c36fd"
      },
      "source": [
        "######################\n",
        "# Устанавливаем раскодированные входные данные(ответы)\n",
        "######################\n",
        "tokenizedAnswers = tokenizer.texts_to_sequences(answers) # разбиваем текст ответов на последовательности индексов\n",
        "maxLenAnswers = max([len(x) for x in tokenizedAnswers]) # уточняем длину самого большого ответа\n",
        "# Делаем последовательности одной длины, заполняя нулями более короткие ответы\n",
        "paddedAnswers = pad_sequences(tokenizedAnswers, maxlen=maxLenAnswers, padding='post')\n",
        "\n",
        "# Предподготавливаем данные для входа в сеть\n",
        "decoderForInput = np.array(paddedAnswers) # переводим в numpy массив\n",
        "print('Пример оригинального ответа на вход: {}'.format(answers[41])) \n",
        "print('Пример раскодированного ответа на вход : {}'.format(decoderForInput[41][:30])) \n",
        "print('Размеры раскодированного массива ответов на вход : {}'.format(decoderForInput.shape)) \n",
        "print('Установленная длина ответов на вход : {}'.format(maxLenAnswers)) "
      ],
      "execution_count": null,
      "outputs": [
        {
          "output_type": "stream",
          "text": [
            "Пример оригинального ответа на вход: <START> надо только резину сменить <END>\n",
            "Пример раскодированного ответа на вход : [  1  26  39 229 230   2   0   0   0   0   0   0   0   0   0   0]\n",
            "Размеры раскодированного массива ответов на вход : (271, 16)\n",
            "Установленная длина ответов на вход : 16\n"
          ],
          "name": "stdout"
        }
      ]
    },
    {
      "cell_type": "code",
      "metadata": {
        "id": "mJKY1i9emYUl"
      },
      "source": [
        "######################\n",
        "# Раскодированные выходные данные(ответы)\n",
        "######################\n",
        "tokenizedAnswers = tokenizer.texts_to_sequences(answers) # разбиваем текст ответов на последовательности индексов\n",
        "for i in range(len(tokenizedAnswers)) : # для разбитых на последовательности ответов\n",
        "  tokenizedAnswers[i] = tokenizedAnswers[i][1:] # избавляемся от тега <START>\n",
        "# Делаем последовательности одной длины, заполняя нулями более короткие ответы\n",
        "paddedAnswers = pad_sequences(tokenizedAnswers, maxlen=maxLenAnswers , padding='post')\n",
        "\n",
        "oneHotAnswers = utils.to_categorical(paddedAnswers, vocabularySize) # переводим в one hot vector\n",
        "decoderForOutput = np.array(oneHotAnswers) # и сохраняем в виде массива numpy"
      ],
      "execution_count": null,
      "outputs": []
    },
    {
      "cell_type": "code",
      "metadata": {
        "id": "8QYIYkFDmYUo",
        "colab": {
          "base_uri": "https://localhost:8080/",
          "height": 84
        },
        "outputId": "3c5a5268-f752-41eb-997a-e6a1990efcba"
      },
      "source": [
        "print('Пример раскодированного ответа на вход : {}'.format(decoderForInput[16][:21]))  \n",
        "print('Пример раскодированного ответа на выход : {}'.format(decoderForOutput[16][4][:21])) \n",
        "print('Размеры раскодированного массива ответов на выход : {}'.format(decoderForOutput.shape))\n",
        "print('Установленная длина вопросов на выход : {}'.format(maxLenAnswers)) "
      ],
      "execution_count": null,
      "outputs": [
        {
          "output_type": "stream",
          "text": [
            "Пример раскодированного ответа на вход : [  1 106 107 181  24   8  86   2   0   0   0   0   0   0   0   0]\n",
            "Пример раскодированного ответа на выход : [0. 0. 0. 0. 0. 0. 0. 0. 1. 0. 0. 0. 0. 0. 0. 0. 0. 0. 0. 0. 0.]\n",
            "Размеры раскодированного массива ответов на выход : (271, 16, 263)\n",
            "Установленная длина вопросов на выход : 16\n"
          ],
          "name": "stdout"
        }
      ]
    },
    {
      "cell_type": "code",
      "metadata": {
        "id": "1ezEXFlSmYUq"
      },
      "source": [
        "######################\n",
        "# Первый входной слой, кодер, выходной слой\n",
        "######################\n",
        "encoderInputs = Input(shape=(6, )) # размеры на входе сетки (здесь будет encoderForInput)\n",
        "# Эти данные проходят через слой Embedding (длина словаря, размерность) \n",
        "encoderEmbedding = Embedding(vocabularySize, 200,  mask_zero=True) (encoderInputs)\n",
        "# Затем выход с Embedding пойдёт в LSTM слой, на выходе у которого будет два вектора состояния - state_h , state_c\n",
        "# Вектора состояния - state_h , state_c зададутся в LSTM слое декодера в блоке ниже\n",
        "encoderOutputs, state_h , state_c = LSTM(200, return_state=True)(encoderEmbedding)\n",
        "encoderStates = [state_h, state_c]"
      ],
      "execution_count": null,
      "outputs": []
    },
    {
      "cell_type": "code",
      "metadata": {
        "id": "-ycQJ9sHmYUs"
      },
      "source": [
        "######################\n",
        "# Второй входной слой, декодер, выходной слой\n",
        "######################\n",
        "decoderInputs = Input(shape=(16, )) # размеры на входе сетки (здесь будет decoderForInput)\n",
        "# Эти данные проходят через слой Embedding (длина словаря, размерность) \n",
        "# mask_zero=True - игнорировать нулевые padding при передаче в LSTM. Предотвратит вывод ответа типа: \"У меня все хорошо PAD PAD PAD PAD PAD PAD..\"\n",
        "decoderEmbedding = Embedding(vocabularySize, 200, mask_zero=True) (decoderInputs) \n",
        "# Затем выход с Embedding пойдёт в LSTM слой, которому передаются вектора состояния - state_h , state_c\n",
        "\n",
        "decoderLSTM = LSTM(200, return_state=True, return_sequences=True)\n",
        "\n",
        "\n",
        "decoderOutputs , _ , _ = decoderLSTM (decoderEmbedding, initial_state=encoderStates)\n",
        "# И от LSTM'а сигнал decoderOutputs пропускаем через полносвязный слой с софтмаксом на выходе\n",
        "decoderDense = Dense(vocabularySize, activation='softmax') \n",
        "output = decoderDense (decoderOutputs)"
      ],
      "execution_count": null,
      "outputs": []
    },
    {
      "cell_type": "code",
      "metadata": {
        "id": "Ea5AbctwmYUu",
        "colab": {
          "base_uri": "https://localhost:8080/",
          "height": 953
        },
        "outputId": "d712b0b8-f72a-46b5-efb1-5745a4d924b3"
      },
      "source": [
        "######################\n",
        "# Собираем тренировочную модель нейросети\n",
        "######################\n",
        "model = Model([encoderInputs, decoderInputs], output)\n",
        "model.compile(optimizer=RMSprop(), loss='categorical_crossentropy')\n",
        "\n",
        "print(model.summary()) # выведем на экран информацию о построенной модели нейросети\n",
        "plot_model(model, to_file='model.png', show_shapes=True) # и построим график для визуализации слоев и связей между ними"
      ],
      "execution_count": null,
      "outputs": [
        {
          "output_type": "stream",
          "text": [
            "Model: \"functional_3\"\n",
            "__________________________________________________________________________________________________\n",
            "Layer (type)                    Output Shape         Param #     Connected to                     \n",
            "==================================================================================================\n",
            "input_3 (InputLayer)            [(None, 6)]          0                                            \n",
            "__________________________________________________________________________________________________\n",
            "input_4 (InputLayer)            [(None, 16)]         0                                            \n",
            "__________________________________________________________________________________________________\n",
            "embedding_2 (Embedding)         (None, 6, 200)       52600       input_3[0][0]                    \n",
            "__________________________________________________________________________________________________\n",
            "embedding_3 (Embedding)         (None, 16, 200)      52600       input_4[0][0]                    \n",
            "__________________________________________________________________________________________________\n",
            "lstm_2 (LSTM)                   [(None, 200), (None, 320800      embedding_2[0][0]                \n",
            "__________________________________________________________________________________________________\n",
            "lstm_3 (LSTM)                   [(None, 16, 200), (N 320800      embedding_3[0][0]                \n",
            "                                                                 lstm_2[0][1]                     \n",
            "                                                                 lstm_2[0][2]                     \n",
            "__________________________________________________________________________________________________\n",
            "dense_1 (Dense)                 (None, 16, 263)      52863       lstm_3[0][0]                     \n",
            "==================================================================================================\n",
            "Total params: 799,663\n",
            "Trainable params: 799,663\n",
            "Non-trainable params: 0\n",
            "__________________________________________________________________________________________________\n",
            "None\n"
          ],
          "name": "stdout"
        },
        {
          "output_type": "execute_result",
          "data": {
            "image/png": "[encoded data removed]",
            "text/plain": [
              "<IPython.core.display.Image object>"
            ]
          },
          "metadata": {
            "tags": []
          },
          "execution_count": 15
        }
      ]
    },
    {
      "cell_type": "code",
      "metadata": {
        "id": "aRBL8I9mmYUx",
        "colab": {
          "base_uri": "https://localhost:8080/",
          "height": 1000
        },
        "outputId": "908877cb-ae52-419c-9e40-5f01b38d2965"
      },
      "source": [
        "# Запустим обучение\n",
        "model.fit([encoderForInput , decoderForInput], decoderForOutput, batch_size=50, epochs=200) "
      ],
      "execution_count": null,
      "outputs": [
        {
          "output_type": "stream",
          "text": [
            "Epoch 1/200\n",
            "6/6 [==============================] - 0s 65ms/step - loss: 2.0592\n",
            "Epoch 2/200\n",
            "6/6 [==============================] - 0s 63ms/step - loss: 1.6530\n",
            "Epoch 3/200\n",
            "6/6 [==============================] - 0s 62ms/step - loss: 1.5416\n",
            "Epoch 4/200\n",
            "6/6 [==============================] - 0s 61ms/step - loss: 1.4844\n",
            "Epoch 5/200\n",
            "6/6 [==============================] - 0s 61ms/step - loss: 1.4338\n",
            "Epoch 6/200\n",
            "6/6 [==============================] - 0s 63ms/step - loss: 1.3660\n",
            "Epoch 7/200\n",
            "6/6 [==============================] - 0s 60ms/step - loss: 1.3120\n",
            "Epoch 8/200\n",
            "6/6 [==============================] - 0s 62ms/step - loss: 1.2522\n",
            "Epoch 9/200\n",
            "6/6 [==============================] - 0s 65ms/step - loss: 1.2293\n",
            "Epoch 10/200\n",
            "6/6 [==============================] - 0s 62ms/step - loss: 1.1432\n",
            "Epoch 11/200\n",
            "6/6 [==============================] - 0s 63ms/step - loss: 1.1124\n",
            "Epoch 12/200\n",
            "6/6 [==============================] - 0s 60ms/step - loss: 1.0325\n",
            "Epoch 13/200\n",
            "6/6 [==============================] - 0s 60ms/step - loss: 1.0124\n",
            "Epoch 14/200\n",
            "6/6 [==============================] - 0s 62ms/step - loss: 0.9306\n",
            "Epoch 15/200\n",
            "6/6 [==============================] - 0s 57ms/step - loss: 0.9001\n",
            "Epoch 16/200\n",
            "6/6 [==============================] - 0s 59ms/step - loss: 0.8444\n",
            "Epoch 17/200\n",
            "6/6 [==============================] - 0s 61ms/step - loss: 0.8008\n",
            "Epoch 18/200\n",
            "6/6 [==============================] - 0s 62ms/step - loss: 0.7555\n",
            "Epoch 19/200\n",
            "6/6 [==============================] - 0s 62ms/step - loss: 0.7052\n",
            "Epoch 20/200\n",
            "6/6 [==============================] - 0s 60ms/step - loss: 0.6836\n",
            "Epoch 21/200\n",
            "6/6 [==============================] - 0s 62ms/step - loss: 0.6244\n",
            "Epoch 22/200\n",
            "6/6 [==============================] - 0s 59ms/step - loss: 0.6050\n",
            "Epoch 23/200\n",
            "6/6 [==============================] - 0s 64ms/step - loss: 0.5564\n",
            "Epoch 24/200\n",
            "6/6 [==============================] - 0s 61ms/step - loss: 0.5236\n",
            "Epoch 25/200\n",
            "6/6 [==============================] - 0s 61ms/step - loss: 0.4934\n",
            "Epoch 26/200\n",
            "6/6 [==============================] - 0s 59ms/step - loss: 0.4666\n",
            "Epoch 27/200\n",
            "6/6 [==============================] - 0s 64ms/step - loss: 0.4403\n",
            "Epoch 28/200\n",
            "6/6 [==============================] - 0s 60ms/step - loss: 0.4071\n",
            "Epoch 29/200\n",
            "6/6 [==============================] - 0s 63ms/step - loss: 0.3943\n",
            "Epoch 30/200\n",
            "6/6 [==============================] - 0s 63ms/step - loss: 0.3640\n",
            "Epoch 31/200\n",
            "6/6 [==============================] - 0s 60ms/step - loss: 0.3510\n",
            "Epoch 32/200\n",
            "6/6 [==============================] - 0s 61ms/step - loss: 0.3265\n",
            "Epoch 33/200\n",
            "6/6 [==============================] - 0s 63ms/step - loss: 0.3067\n",
            "Epoch 34/200\n",
            "6/6 [==============================] - 0s 61ms/step - loss: 0.2843\n",
            "Epoch 35/200\n",
            "6/6 [==============================] - 0s 62ms/step - loss: 0.2876\n",
            "Epoch 36/200\n",
            "6/6 [==============================] - 0s 59ms/step - loss: 0.2546\n",
            "Epoch 37/200\n",
            "6/6 [==============================] - 0s 61ms/step - loss: 0.2403\n",
            "Epoch 38/200\n",
            "6/6 [==============================] - 0s 63ms/step - loss: 0.2272\n",
            "Epoch 39/200\n",
            "6/6 [==============================] - 0s 62ms/step - loss: 0.2140\n",
            "Epoch 40/200\n",
            "6/6 [==============================] - 0s 61ms/step - loss: 0.2031\n",
            "Epoch 41/200\n",
            "6/6 [==============================] - 0s 63ms/step - loss: 0.1910\n",
            "Epoch 42/200\n",
            "6/6 [==============================] - 0s 61ms/step - loss: 0.1815\n",
            "Epoch 43/200\n",
            "6/6 [==============================] - 0s 59ms/step - loss: 0.1712\n",
            "Epoch 44/200\n",
            "6/6 [==============================] - 0s 58ms/step - loss: 0.1594\n",
            "Epoch 45/200\n",
            "6/6 [==============================] - 0s 59ms/step - loss: 0.1508\n",
            "Epoch 46/200\n",
            "6/6 [==============================] - 0s 59ms/step - loss: 0.1410\n",
            "Epoch 47/200\n",
            "6/6 [==============================] - 0s 59ms/step - loss: 0.1343\n",
            "Epoch 48/200\n",
            "6/6 [==============================] - 0s 61ms/step - loss: 0.1300\n",
            "Epoch 49/200\n",
            "6/6 [==============================] - 0s 61ms/step - loss: 0.1174\n",
            "Epoch 50/200\n",
            "6/6 [==============================] - 0s 61ms/step - loss: 0.1139\n",
            "Epoch 51/200\n",
            "6/6 [==============================] - 0s 62ms/step - loss: 0.1100\n",
            "Epoch 52/200\n",
            "6/6 [==============================] - 0s 63ms/step - loss: 0.1030\n",
            "Epoch 53/200\n",
            "6/6 [==============================] - 0s 63ms/step - loss: 0.0971\n",
            "Epoch 54/200\n",
            "6/6 [==============================] - 0s 61ms/step - loss: 0.0933\n",
            "Epoch 55/200\n",
            "6/6 [==============================] - 0s 63ms/step - loss: 0.0886\n",
            "Epoch 56/200\n",
            "6/6 [==============================] - 0s 59ms/step - loss: 0.0841\n",
            "Epoch 57/200\n",
            "6/6 [==============================] - 0s 61ms/step - loss: 0.0796\n",
            "Epoch 58/200\n",
            "6/6 [==============================] - 0s 62ms/step - loss: 0.0804\n",
            "Epoch 59/200\n",
            "6/6 [==============================] - 0s 60ms/step - loss: 0.0749\n",
            "Epoch 60/200\n",
            "6/6 [==============================] - 0s 62ms/step - loss: 0.0733\n",
            "Epoch 61/200\n",
            "6/6 [==============================] - 0s 61ms/step - loss: 0.0689\n",
            "Epoch 62/200\n",
            "6/6 [==============================] - 0s 61ms/step - loss: 0.0696\n",
            "Epoch 63/200\n",
            "6/6 [==============================] - 0s 60ms/step - loss: 0.0656\n",
            "Epoch 64/200\n",
            "6/6 [==============================] - 0s 59ms/step - loss: 0.0644\n",
            "Epoch 65/200\n",
            "6/6 [==============================] - 0s 62ms/step - loss: 0.0624\n",
            "Epoch 66/200\n",
            "6/6 [==============================] - 0s 62ms/step - loss: 0.0613\n",
            "Epoch 67/200\n",
            "6/6 [==============================] - 0s 61ms/step - loss: 0.0599\n",
            "Epoch 68/200\n",
            "6/6 [==============================] - 0s 61ms/step - loss: 0.0581\n",
            "Epoch 69/200\n",
            "6/6 [==============================] - 0s 63ms/step - loss: 0.0595\n",
            "Epoch 70/200\n",
            "6/6 [==============================] - 0s 61ms/step - loss: 0.0569\n",
            "Epoch 71/200\n",
            "6/6 [==============================] - 0s 60ms/step - loss: 0.0556\n",
            "Epoch 72/200\n",
            "6/6 [==============================] - 0s 56ms/step - loss: 0.0549\n",
            "Epoch 73/200\n",
            "6/6 [==============================] - 0s 63ms/step - loss: 0.0542\n",
            "Epoch 74/200\n",
            "6/6 [==============================] - 0s 62ms/step - loss: 0.0533\n",
            "Epoch 75/200\n",
            "6/6 [==============================] - 0s 63ms/step - loss: 0.0525\n",
            "Epoch 76/200\n",
            "6/6 [==============================] - 0s 64ms/step - loss: 0.0523\n",
            "Epoch 77/200\n",
            "6/6 [==============================] - 0s 60ms/step - loss: 0.0510\n",
            "Epoch 78/200\n",
            "6/6 [==============================] - 0s 62ms/step - loss: 0.0513\n",
            "Epoch 79/200\n",
            "6/6 [==============================] - 0s 61ms/step - loss: 0.0508\n",
            "Epoch 80/200\n",
            "6/6 [==============================] - 0s 62ms/step - loss: 0.0495\n",
            "Epoch 81/200\n",
            "6/6 [==============================] - 0s 61ms/step - loss: 0.0507\n",
            "Epoch 82/200\n",
            "6/6 [==============================] - 0s 61ms/step - loss: 0.0494\n",
            "Epoch 83/200\n",
            "6/6 [==============================] - 0s 62ms/step - loss: 0.0495\n",
            "Epoch 84/200\n",
            "6/6 [==============================] - 0s 62ms/step - loss: 0.0492\n",
            "Epoch 85/200\n",
            "6/6 [==============================] - 0s 63ms/step - loss: 0.0487\n",
            "Epoch 86/200\n",
            "6/6 [==============================] - 0s 63ms/step - loss: 0.0479\n",
            "Epoch 87/200\n",
            "6/6 [==============================] - 0s 59ms/step - loss: 0.0480\n",
            "Epoch 88/200\n",
            "6/6 [==============================] - 0s 60ms/step - loss: 0.0473\n",
            "Epoch 89/200\n",
            "6/6 [==============================] - 0s 61ms/step - loss: 0.0480\n",
            "Epoch 90/200\n",
            "6/6 [==============================] - 0s 62ms/step - loss: 0.0481\n",
            "Epoch 91/200\n",
            "6/6 [==============================] - 0s 63ms/step - loss: 0.0468\n",
            "Epoch 92/200\n",
            "6/6 [==============================] - 0s 60ms/step - loss: 0.0477\n",
            "Epoch 93/200\n",
            "6/6 [==============================] - 0s 63ms/step - loss: 0.0463\n",
            "Epoch 94/200\n",
            "6/6 [==============================] - 0s 62ms/step - loss: 0.0469\n",
            "Epoch 95/200\n",
            "6/6 [==============================] - 0s 64ms/step - loss: 0.0465\n",
            "Epoch 96/200\n",
            "6/6 [==============================] - 0s 61ms/step - loss: 0.0460\n",
            "Epoch 97/200\n",
            "6/6 [==============================] - 0s 62ms/step - loss: 0.0467\n",
            "Epoch 98/200\n",
            "6/6 [==============================] - 0s 59ms/step - loss: 0.0463\n",
            "Epoch 99/200\n",
            "6/6 [==============================] - 0s 60ms/step - loss: 0.0454\n",
            "Epoch 100/200\n",
            "6/6 [==============================] - 0s 61ms/step - loss: 0.0464\n",
            "Epoch 101/200\n",
            "6/6 [==============================] - 0s 60ms/step - loss: 0.0458\n",
            "Epoch 102/200\n",
            "6/6 [==============================] - 0s 61ms/step - loss: 0.0459\n",
            "Epoch 103/200\n",
            "6/6 [==============================] - 0s 61ms/step - loss: 0.0460\n",
            "Epoch 104/200\n",
            "6/6 [==============================] - 0s 59ms/step - loss: 0.0462\n",
            "Epoch 105/200\n",
            "6/6 [==============================] - 0s 63ms/step - loss: 0.0456\n",
            "Epoch 106/200\n",
            "6/6 [==============================] - 0s 61ms/step - loss: 0.0457\n",
            "Epoch 107/200\n",
            "6/6 [==============================] - 0s 61ms/step - loss: 0.0453\n",
            "Epoch 108/200\n",
            "6/6 [==============================] - 0s 62ms/step - loss: 0.0454\n",
            "Epoch 109/200\n",
            "6/6 [==============================] - 0s 61ms/step - loss: 0.0450\n",
            "Epoch 110/200\n",
            "6/6 [==============================] - 0s 60ms/step - loss: 0.0449\n",
            "Epoch 111/200\n",
            "6/6 [==============================] - 0s 62ms/step - loss: 0.0455\n",
            "Epoch 112/200\n",
            "6/6 [==============================] - 0s 60ms/step - loss: 0.0449\n",
            "Epoch 113/200\n",
            "6/6 [==============================] - 0s 58ms/step - loss: 0.0450\n",
            "Epoch 114/200\n",
            "6/6 [==============================] - 0s 62ms/step - loss: 0.0453\n",
            "Epoch 115/200\n",
            "6/6 [==============================] - 0s 63ms/step - loss: 0.0444\n",
            "Epoch 116/200\n",
            "6/6 [==============================] - 0s 63ms/step - loss: 0.0448\n",
            "Epoch 117/200\n",
            "6/6 [==============================] - 0s 62ms/step - loss: 0.0448\n",
            "Epoch 118/200\n",
            "6/6 [==============================] - 0s 60ms/step - loss: 0.0452\n",
            "Epoch 119/200\n",
            "6/6 [==============================] - 0s 63ms/step - loss: 0.0447\n",
            "Epoch 120/200\n",
            "6/6 [==============================] - 0s 61ms/step - loss: 0.0446\n",
            "Epoch 121/200\n",
            "6/6 [==============================] - 0s 62ms/step - loss: 0.0451\n",
            "Epoch 122/200\n",
            "6/6 [==============================] - 0s 63ms/step - loss: 0.0442\n",
            "Epoch 123/200\n",
            "6/6 [==============================] - 0s 60ms/step - loss: 0.0445\n",
            "Epoch 124/200\n",
            "6/6 [==============================] - 0s 63ms/step - loss: 0.0445\n",
            "Epoch 125/200\n",
            "6/6 [==============================] - 0s 62ms/step - loss: 0.0444\n",
            "Epoch 126/200\n",
            "6/6 [==============================] - 0s 62ms/step - loss: 0.0442\n",
            "Epoch 127/200\n",
            "6/6 [==============================] - 0s 63ms/step - loss: 0.0441\n",
            "Epoch 128/200\n",
            "6/6 [==============================] - 0s 63ms/step - loss: 0.0439\n",
            "Epoch 129/200\n",
            "6/6 [==============================] - 0s 63ms/step - loss: 0.0441\n",
            "Epoch 130/200\n",
            "6/6 [==============================] - 0s 61ms/step - loss: 0.0444\n",
            "Epoch 131/200\n",
            "6/6 [==============================] - 0s 60ms/step - loss: 0.0440\n",
            "Epoch 132/200\n",
            "6/6 [==============================] - 0s 59ms/step - loss: 0.0443\n",
            "Epoch 133/200\n",
            "6/6 [==============================] - 0s 56ms/step - loss: 0.0443\n",
            "Epoch 134/200\n",
            "6/6 [==============================] - 0s 63ms/step - loss: 0.0437\n",
            "Epoch 135/200\n",
            "6/6 [==============================] - 0s 62ms/step - loss: 0.0445\n",
            "Epoch 136/200\n",
            "6/6 [==============================] - 0s 64ms/step - loss: 0.0442\n",
            "Epoch 137/200\n",
            "6/6 [==============================] - 0s 63ms/step - loss: 0.0440\n",
            "Epoch 138/200\n",
            "6/6 [==============================] - 0s 62ms/step - loss: 0.0439\n",
            "Epoch 139/200\n",
            "6/6 [==============================] - 0s 61ms/step - loss: 0.0442\n",
            "Epoch 140/200\n",
            "6/6 [==============================] - 0s 62ms/step - loss: 0.0440\n",
            "Epoch 141/200\n",
            "6/6 [==============================] - 0s 62ms/step - loss: 0.0439\n",
            "Epoch 142/200\n",
            "6/6 [==============================] - 0s 61ms/step - loss: 0.0437\n",
            "Epoch 143/200\n",
            "6/6 [==============================] - 0s 60ms/step - loss: 0.0441\n",
            "Epoch 144/200\n",
            "6/6 [==============================] - 0s 60ms/step - loss: 0.0440\n",
            "Epoch 145/200\n",
            "6/6 [==============================] - 0s 59ms/step - loss: 0.0440\n",
            "Epoch 146/200\n",
            "6/6 [==============================] - 0s 59ms/step - loss: 0.0438\n",
            "Epoch 147/200\n",
            "6/6 [==============================] - 0s 61ms/step - loss: 0.0443\n",
            "Epoch 148/200\n",
            "6/6 [==============================] - 0s 60ms/step - loss: 0.0436\n",
            "Epoch 149/200\n",
            "6/6 [==============================] - 0s 62ms/step - loss: 0.0441\n",
            "Epoch 150/200\n",
            "6/6 [==============================] - 0s 63ms/step - loss: 0.0439\n",
            "Epoch 151/200\n",
            "6/6 [==============================] - 0s 60ms/step - loss: 0.0435\n",
            "Epoch 152/200\n",
            "6/6 [==============================] - 0s 60ms/step - loss: 0.0437\n",
            "Epoch 153/200\n",
            "6/6 [==============================] - 0s 60ms/step - loss: 0.0436\n",
            "Epoch 154/200\n",
            "6/6 [==============================] - 0s 63ms/step - loss: 0.0437\n",
            "Epoch 155/200\n",
            "6/6 [==============================] - 0s 62ms/step - loss: 0.0437\n",
            "Epoch 156/200\n",
            "6/6 [==============================] - 0s 63ms/step - loss: 0.0439\n",
            "Epoch 157/200\n",
            "6/6 [==============================] - 0s 62ms/step - loss: 0.0437\n",
            "Epoch 158/200\n",
            "6/6 [==============================] - 0s 62ms/step - loss: 0.0434\n",
            "Epoch 159/200\n",
            "6/6 [==============================] - 0s 61ms/step - loss: 0.0434\n",
            "Epoch 160/200\n",
            "6/6 [==============================] - 0s 60ms/step - loss: 0.0435\n",
            "Epoch 161/200\n",
            "6/6 [==============================] - 0s 61ms/step - loss: 0.0439\n",
            "Epoch 162/200\n",
            "6/6 [==============================] - 0s 61ms/step - loss: 0.0439\n",
            "Epoch 163/200\n",
            "6/6 [==============================] - 0s 60ms/step - loss: 0.0435\n",
            "Epoch 164/200\n",
            "6/6 [==============================] - 0s 62ms/step - loss: 0.0438\n",
            "Epoch 165/200\n",
            "6/6 [==============================] - 0s 62ms/step - loss: 0.0436\n",
            "Epoch 166/200\n",
            "6/6 [==============================] - 0s 62ms/step - loss: 0.0435\n",
            "Epoch 167/200\n",
            "6/6 [==============================] - 0s 61ms/step - loss: 0.0435\n",
            "Epoch 168/200\n",
            "6/6 [==============================] - 0s 61ms/step - loss: 0.0440\n",
            "Epoch 169/200\n",
            "6/6 [==============================] - 0s 61ms/step - loss: 0.0435\n",
            "Epoch 170/200\n",
            "6/6 [==============================] - 0s 61ms/step - loss: 0.0434\n",
            "Epoch 171/200\n",
            "6/6 [==============================] - 0s 64ms/step - loss: 0.0435\n",
            "Epoch 172/200\n",
            "6/6 [==============================] - 0s 63ms/step - loss: 0.0434\n",
            "Epoch 173/200\n",
            "6/6 [==============================] - 0s 65ms/step - loss: 0.0434\n",
            "Epoch 174/200\n",
            "6/6 [==============================] - 0s 62ms/step - loss: 0.0435\n",
            "Epoch 175/200\n",
            "6/6 [==============================] - 0s 64ms/step - loss: 0.0433\n",
            "Epoch 176/200\n",
            "6/6 [==============================] - 0s 62ms/step - loss: 0.0434\n",
            "Epoch 177/200\n",
            "6/6 [==============================] - 0s 63ms/step - loss: 0.0432\n",
            "Epoch 178/200\n",
            "6/6 [==============================] - 0s 63ms/step - loss: 0.0437\n",
            "Epoch 179/200\n",
            "6/6 [==============================] - 0s 60ms/step - loss: 0.0432\n",
            "Epoch 180/200\n",
            "6/6 [==============================] - 0s 60ms/step - loss: 0.0433\n",
            "Epoch 181/200\n",
            "6/6 [==============================] - 0s 59ms/step - loss: 0.0436\n",
            "Epoch 182/200\n",
            "6/6 [==============================] - 0s 61ms/step - loss: 0.0432\n",
            "Epoch 183/200\n",
            "6/6 [==============================] - 0s 62ms/step - loss: 0.0429\n",
            "Epoch 184/200\n",
            "6/6 [==============================] - 0s 58ms/step - loss: 0.0435\n",
            "Epoch 185/200\n",
            "6/6 [==============================] - 0s 59ms/step - loss: 0.0438\n",
            "Epoch 186/200\n",
            "6/6 [==============================] - 0s 60ms/step - loss: 0.0433\n",
            "Epoch 187/200\n",
            "6/6 [==============================] - 0s 60ms/step - loss: 0.0435\n",
            "Epoch 188/200\n",
            "6/6 [==============================] - 0s 61ms/step - loss: 0.0435\n",
            "Epoch 189/200\n",
            "6/6 [==============================] - 0s 60ms/step - loss: 0.0437\n",
            "Epoch 190/200\n",
            "6/6 [==============================] - 0s 61ms/step - loss: 0.0429\n",
            "Epoch 191/200\n",
            "6/6 [==============================] - 0s 61ms/step - loss: 0.0433\n",
            "Epoch 192/200\n",
            "6/6 [==============================] - 0s 60ms/step - loss: 0.0432\n",
            "Epoch 193/200\n",
            "6/6 [==============================] - 0s 63ms/step - loss: 0.0433\n",
            "Epoch 194/200\n",
            "6/6 [==============================] - 0s 60ms/step - loss: 0.0430\n",
            "Epoch 195/200\n",
            "6/6 [==============================] - 0s 61ms/step - loss: 0.0434\n",
            "Epoch 196/200\n",
            "6/6 [==============================] - 0s 59ms/step - loss: 0.0428\n",
            "Epoch 197/200\n",
            "6/6 [==============================] - 0s 59ms/step - loss: 0.0433\n",
            "Epoch 198/200\n",
            "6/6 [==============================] - 0s 63ms/step - loss: 0.0426\n",
            "Epoch 199/200\n",
            "6/6 [==============================] - 0s 61ms/step - loss: 0.0432\n",
            "Epoch 200/200\n",
            "6/6 [==============================] - 0s 61ms/step - loss: 0.0434\n"
          ],
          "name": "stdout"
        },
        {
          "output_type": "execute_result",
          "data": {
            "text/plain": [
              "<tensorflow.python.keras.callbacks.History at 0x7fb2ab5e88d0>"
            ]
          },
          "metadata": {
            "tags": []
          },
          "execution_count": 16
        }
      ]
    },
    {
      "cell_type": "code",
      "metadata": {
        "id": "4ry5ANGTmYU0"
      },
      "source": [
        "######################\n",
        "# Создаем рабочую модель для вывода ответов на запросы пользователя\n",
        "######################\n",
        "def makeInferenceModels():\n",
        "  # Определим модель кодера, на входе далее будут закодированные вопросы(encoderForInputs), на выходе состояния state_h, state_c\n",
        "  encoderModel = Model(encoderInputs, encoderStates) \n",
        "\n",
        "  decoderStateInput_h = Input(shape=(200 ,)) # обозначим размерность для входного слоя с состоянием state_h\n",
        "  decoderStateInput_c = Input(shape=(200 ,)) # обозначим размерность для входного слоя с состоянием state_c\n",
        "\n",
        "  decoderStatesInputs = [decoderStateInput_h, decoderStateInput_c] # возьмем оба inputs вместе и запишем в decoderStatesInputs\n",
        "\n",
        "  # Берём ответы, прошедшие через эмбединг, вместе с состояниями и подаём LSTM cлою\n",
        "\n",
        "  decoderOutputs, state_h, state_c = decoderLSTM(decoderEmbedding, initial_state=decoderStatesInputs)\n",
        "\n",
        "  decoderStates = [state_h, state_c] # LSTM даст нам новые состояния\n",
        "  decoderOutputs = decoderDense(decoderOutputs) # и ответы, которые мы пропустим через полносвязный слой с софтмаксом\n",
        "\n",
        "  # Определим модель декодера, на входе далее будут раскодированные ответы (decoderForInputs) и состояния\n",
        "  # на выходе предсказываемый ответ и новые состояния\n",
        "  decoderModel = Model([decoderInputs] + decoderStatesInputs, [decoderOutputs] + decoderStates)\n",
        "\n",
        "  return encoderModel , decoderModel"
      ],
      "execution_count": null,
      "outputs": []
    },
    {
      "cell_type": "code",
      "metadata": {
        "id": "C42q5thjmYU2"
      },
      "source": [
        "######################\n",
        "# Создадим функцию, которая преобразует вопрос пользователя в последовательность индексов\n",
        "######################\n",
        "def strToTokens(sentence: str): # функция принимает строку на вход (предложение с вопросом)\n",
        "  words = sentence.lower().split() # приводит предложение к нижнему регистру и разбирает на слова\n",
        "  tokensList = list() # здесь будет последовательность токенов/индексов\n",
        "  for word in words: # для каждого слова в предложении\n",
        "    tokensList.append(tokenizer.word_index[word]) # определяем токенизатором индекс и добавляем в список\n",
        "\n",
        "    # Функция вернёт вопрос в виде последовательности индексов, ограниченной длиной самого длинного вопроса из нашей базы вопросов\n",
        "  return pad_sequences([tokensList], maxlen=maxLenQuestions , padding='post')"
      ],
      "execution_count": null,
      "outputs": []
    },
    {
      "cell_type": "markdown",
      "metadata": {
        "id": "K266A4Q3np8c"
      },
      "source": [
        "**Проведем небольшой диалог с ботом**"
      ]
    },
    {
      "cell_type": "code",
      "metadata": {
        "id": "pzTNQnezwKge",
        "colab": {
          "base_uri": "https://localhost:8080/",
          "height": 353
        },
        "outputId": "00c182b6-ede9-4a12-8bab-0b2633ed1a61"
      },
      "source": [
        "######################\n",
        "# Устанавливаем окончательные настройки и запускаем модель\n",
        "######################\n",
        "\n",
        "encModel, decModel = makeInferenceModels() # запускаем функцию для построения модели кодера и декодера\n",
        "\n",
        "for _ in range(10): # задаем количество вопросов, и на каждой итерации в этом диапазоне:\n",
        "  # Получаем значения состояний, которые определит кодер в соответствии с заданным вопросом\n",
        "  statesValues = encModel.predict(strToTokens(input( 'Задайте вопрос : ' )))\n",
        "  # Создаём пустой массив размером (1, 1)\n",
        "  emptyTargetSeq = np.zeros((1, 1))    \n",
        "  emptyTargetSeq[0, 0] = tokenizer.word_index['start'] # положим в пустую последовательность начальное слово 'start' в виде индекса\n",
        "\n",
        "  stopCondition = False # зададим условие, при срабатывании которого, прекратится генерация очередного слова\n",
        "  decodedTranslation = '' # здесь будет собираться генерируемый ответ\n",
        "  while not stopCondition : # пока не сработало стоп-условие\n",
        "    # В модель декодера подадим пустую последовательность со словом 'start' и состояния предсказанные кодером по заданному вопросу.\n",
        "    # декодер заменит слово 'start' предсказанным сгенерированным словом и обновит состояния\n",
        "    decOutputs , h , c = decModel.predict([emptyTargetSeq] + statesValues)\n",
        "    \n",
        "    #argmax пробежит по вектору decOutputs'а[0,0,15104], найдет макс.значение, и вернёт нам номер индекса под которым оно лежит в массиве\n",
        "    sampledWordIndex = np.argmax(decOutputs, axis=-1) # argmax возьмем от оси, в которой 15104 элементов. Получили индекс предсказанного слова.\n",
        "    sampledWord = None # создаем переменную, в которую положим слово, преобразованное на естественный язык\n",
        "    for word , index in tokenizer.word_index.items():\n",
        "      if sampledWordIndex == index: # если индекс выбранного слова соответствует какому-то индексу из словаря\n",
        "        decodedTranslation += ' {}'.format(word) # слово, идущее под этим индексом в словаре, добавляется в итоговый ответ \n",
        "        sampledWord = word # выбранное слово фиксируем в переменную sampledWord\n",
        "    \n",
        "    # Если выбранным словом оказывается 'end' либо если сгенерированный ответ превышает заданную максимальную длину ответа\n",
        "    if sampledWord == 'end' or len(decodedTranslation.split()) > maxLenAnswers:\n",
        "      stopCondition = True # то срабатывает стоп-условие и прекращаем генерацию\n",
        "\n",
        "    emptyTargetSeq = np.zeros((1, 1)) # создаем пустой массив\n",
        "    emptyTargetSeq[0, 0] = sampledWordIndex # заносим туда индекс выбранного слова\n",
        "    statesValues = [h, c] # и состояния, обновленные декодером\n",
        "    # и продолжаем цикл с обновленными параметрами\n",
        "  \n",
        "  print(\"Ответ:\", decodedTranslation[:-3]) # выводим ответ сгенерированный декодером"
      ],
      "execution_count": null,
      "outputs": [
        {
          "output_type": "stream",
          "text": [
            "Задайте вопрос : Привет\n",
            "Ответ:  хаюшки \n",
            "Задайте вопрос : Как дела\n",
            "Ответ:  норм как сам \n",
            "Задайте вопрос : хорошо есть планы на вечер\n",
            "Ответ:  в универ надо \n",
            "Задайте вопрос : а на выходных\n",
            "Ответ:  что за \n",
            "Задайте вопрос : Поедешь на выходных загород\n",
            "Ответ:  погода дрянная сдеет еще оно мне надо \n",
            "Задайте вопрос : а в кино\n",
            "Ответ:  а то \n",
            "Задайте вопрос : На какое кино пойдем\n",
            "Ответ:  паразиты давай на них сходим они оскар выйграли как никак должен быть классный фильмец \n",
            "Задайте вопрос : а на Мстителей\n",
            "Ответ:  только за \n",
            "Задайте вопрос : ок о чем думаешь\n",
            "Ответ:  о том что завтра в командировку ехать \n",
            "Задайте вопрос : как там погода\n",
            "Ответ:  потихоньку \n"
          ],
          "name": "stdout"
        }
      ]
    },
    {
      "cell_type": "markdown",
      "metadata": {
        "id": "dU28RFA_zZdH"
      },
      "source": [
        "**Итоги:** На маленькой базе диалогов бот обучается быстро. Но есть факт заучивания. Бот отвечает фразами которые были в ответах не перефразируя их, единственное что можно отметить это то что задаваемых вопросов не было в диалоге (были похожие) но бот понял что на смысл и ответил почти как человек, той фразой что была на похожий вопрос. А части вопросов вообще не было. Чистая ипровизация бота - взять готовый ответ на другой вопрос и им ответить. Но ведь главное лочично все получилось, ну кроме последнего вопроса... Мои коллеги мне теперь парой ботов напоминают своими ответами)))) "
      ]
    },
    {
      "cell_type": "markdown",
      "metadata": {
        "id": "GXCRGvdBesVk"
      },
      "source": [
        "## **PRO**"
      ]
    },
    {
      "cell_type": "markdown",
      "metadata": {
        "id": "g6jQ8rd6fb-H"
      },
      "source": [
        "### **Вариант 1**\n",
        "\n",
        "**Задание:**\n",
        "1.  Попробуйте улучшить текущий скрипт чат-бота, внедрив блок кода для присвоения\n",
        "словам вне словаря(out-of-vocabulary) метки “unknown” так, чтобы встретив в запросе\n",
        "незнакомое слово, исполнение кода не останавливалось, а продолжалось, игнорируя\n",
        "“unknown” слова.\n",
        "2. Текущая модель не учитывает знаки препинания в диалоге. Скорректируйте некоторые\n",
        "блоки кода так, чтобы они учитывались. Проведите наблюдения, как добавление знаков\n",
        "скажется на работе и результатах сетки."
      ]
    },
    {
      "cell_type": "code",
      "metadata": {
        "id": "OnMZz8nsesVo"
      },
      "source": [
        "from google.colab import files # модуль для загрузки файлов в colab\n",
        "import numpy as np #библиотека для работы с массивами данных\n",
        "\n",
        "from tensorflow.keras.models import Model, load_model # из кераса подгружаем абстрактный класс базовой модели, метод загрузки предобученной модели\n",
        "from tensorflow.keras.layers import Dense, Embedding, LSTM, Input # из кераса загружаем необходимые слои для нейросети\n",
        "from tensorflow.keras.optimizers import RMSprop, Adadelta # из кераса загружаем выбранный оптимизатор\n",
        "from tensorflow.keras.preprocessing.sequence import pad_sequences # загружаем метод ограничения последовательности заданной длиной\n",
        "from tensorflow.keras.preprocessing.text import Tokenizer # загружаем токенизатор кераса для обработки текста\n",
        "from tensorflow.keras import utils # загружаем утилиты кераса для one hot кодировки\n",
        "from tensorflow.keras.utils import plot_model # удобный график для визуализации архитектуры модели\n",
        "\n",
        "import yaml # импортируем модуль для удобной работы с файлами\n",
        "\n",
        "import logging\n",
        "logging.disable(logging.WARNING)\n",
        "import string"
      ],
      "execution_count": null,
      "outputs": []
    },
    {
      "cell_type": "code",
      "metadata": {
        "id": "l3OARonUesVt",
        "colab": {
          "base_uri": "https://localhost:8080/"
        },
        "outputId": "be2b8be8-7230-4e32-c968-f39f0a6bfb67"
      },
      "source": [
        "from google.colab import drive\n",
        "drive.mount('/content/drive')"
      ],
      "execution_count": null,
      "outputs": [
        {
          "output_type": "stream",
          "text": [
            "Drive already mounted at /content/drive; to attempt to forcibly remount, call drive.mount(\"/content/drive\", force_remount=True).\n"
          ],
          "name": "stdout"
        }
      ]
    },
    {
      "cell_type": "code",
      "metadata": {
        "id": "EOi5Y1_ng1dk",
        "colab": {
          "base_uri": "https://localhost:8080/"
        },
        "outputId": "208eea7c-cb76-4e38-be8e-9c99a8d4c598"
      },
      "source": [
        "######################\n",
        "# Открываем файл с диалогами\n",
        "######################\n",
        "corpus = open('/content/drive/My Drive/Colab Notebooks/Базы/dialogs.yml', 'r') # открываем файл с диалогами в режиме чтения\n",
        "document = yaml.safe_load(corpus) # загружаем файл *глоссарий\n",
        "conversations = document['разговоры'] # загружаем диалоги из файла и заносим в conversations \n",
        "print('Количество пар вопрос-ответ : {}'.format(len(conversations)))\n",
        "print('Пример диалога : {}'.format(conversations[18]))"
      ],
      "execution_count": null,
      "outputs": [
        {
          "output_type": "stream",
          "text": [
            "Количество пар вопрос-ответ : 268\n",
            "Пример диалога : ['Есть планы на вечер ?', 'лучше не спрашивай , работы много']\n"
          ],
          "name": "stdout"
        }
      ]
    },
    {
      "cell_type": "code",
      "metadata": {
        "id": "7kPJH7QlesV2",
        "colab": {
          "base_uri": "https://localhost:8080/"
        },
        "outputId": "3bd973ff-50c4-4014-e11c-c00faedbbadb"
      },
      "source": [
        "######################\n",
        "# Разбираем вопросы-ответы с проставлением тегов ответам\n",
        "######################\n",
        "# Собираем вопросы и ответы в списки\n",
        "questions = list() # здесь будет список вопросов\n",
        "answers = list() # здесь будет список ответов\n",
        "\n",
        "# В каждом диалоге берем фразу и добавляем в лист\n",
        "# Если в ответе не одна фраза - то сцепляем сколько есть\n",
        "for con in conversations: # для каждой пары вопрос-ответ\n",
        "  if len(con) > 2 : # если ответ содержит более двух предложений (кол-во реплик, кол-во вариантов ответа)\n",
        "    questions.append(con[0]) # то вопросительную реплику отправляем в список вопросов\n",
        "    replies = con[1:] # а ответную составляем из последующих строк\n",
        "    ans = '' # здесь соберем ответ\n",
        "    for rep in replies: # каждую реплику в ответной реплике\n",
        "      ans += ' ' + rep \n",
        "    answers.append(ans) #добавим в список ответов\n",
        "  elif len(con)> 1: # если на 1 вопрос приходится 1 ответ\n",
        "    questions.append(con[0]) # то вопросительную реплику отправляем в список вопросов\n",
        "    answers.append(con[1]) # а ответную в список ответов\n",
        "\n",
        "# Очищаем строки с неопределенным типов ответов\n",
        "answersCleaned = list()\n",
        "for i in range(len(answers)):\n",
        "  if type(answers[i]) == str:\n",
        "    answersCleaned.append(answers[i]) #если тип - строка, то добавляем в ответы\n",
        "  else:\n",
        "    questions.pop(i) # если не строка, то ответ не добавился, и плюс убираем соответствующий вопрос\n",
        "\n",
        "# Сделаем теги-метки для начала и конца ответов\n",
        "answers = list()\n",
        "for i in range(len(answersCleaned)):\n",
        "  answers.append( '<START> ' + answersCleaned[i] + ' <END>' )\n",
        "\n",
        "# Выведем обновленные данные на экран\n",
        "print('Вопрос : {}'.format(questions[196]))\n",
        "print('Ответ : {}'.format(answers[196]))"
      ],
      "execution_count": null,
      "outputs": [
        {
          "output_type": "stream",
          "text": [
            "Вопрос : Пошли поедим\n",
            "Ответ : <START> куда пойдем ? <END>\n"
          ],
          "name": "stdout"
        }
      ]
    },
    {
      "cell_type": "code",
      "metadata": {
        "id": "QVqYqXSEesV6",
        "colab": {
          "base_uri": "https://localhost:8080/"
        },
        "outputId": "03159468-86aa-422b-bbd4-566375f7f66f"
      },
      "source": [
        "######################\n",
        "# Подключаем керасовский токенизатор и собираем словарь индексов\n",
        "######################\n",
        "maxWordsCount = 200 # Определяем максимальное количество слов/индексов, учитываемое при обучении текстов\n",
        "\n",
        "tokenizer = Tokenizer(lower=True, split=' ', oov_token='unknown', char_level=False, filters='<>')\n",
        "tokenizer.fit_on_texts(questions + answers) # загружаем в токенизатор список вопросов-ответов для сборки словаря частотности\n",
        "vocabularyItems = list(tokenizer.word_index.items()) # список с cодержимым словаря\n",
        "vocabularySize = len(vocabularyItems)+1 # размер словаря\n",
        "print( 'Фрагмент словаря : {}'.format(vocabularyItems[:50]))\n",
        "print( 'Размер словаря : {}'.format(vocabularySize))"
      ],
      "execution_count": null,
      "outputs": [
        {
          "output_type": "stream",
          "text": [
            "Фрагмент словаря : [('unknown', 1), ('start', 2), ('end', 3), ('?', 4), (',', 5), ('на', 6), ('как', 7), ('сегодня', 8), ('ты', 9), ('в', 10), ('!', 11), ('тебе', 12), ('кино', 13), ('у', 14), ('пойдем', 15), ('дела', 16), ('что', 17), ('вас', 18), ('и', 19), ('о', 20), ('мне', 21), ('все', 22), ('весело', 23), ('не', 24), ('ага', 25), ('погодка', 26), ('еще', 27), ('норм', 28), ('вечер', 29), ('надо', 30), ('конечно', 31), ('какая', 32), ('выходных', 33), ('есть', 34), ('планы', 35), ('а', 36), ('сам', 37), ('там', 38), ('пошли', 39), ('да', 40), ('я', 41), ('ок', 42), ('какое', 43), ('только', 44), ('чем', 45), ('фильмец', 46), ('за', 47), ('то', 48), ('оно', 49), ('иди', 50)]\n",
            "Размер словаря : 241\n"
          ],
          "name": "stdout"
        }
      ]
    },
    {
      "cell_type": "code",
      "metadata": {
        "id": "rrgrPjEZesV9",
        "colab": {
          "base_uri": "https://localhost:8080/"
        },
        "outputId": "ff71b621-16ea-4dd1-e23c-d38debf0cda6"
      },
      "source": [
        "######################\n",
        "# Устанавливаем закодированные входные данные(вопросы)\n",
        "######################\n",
        "tokenizedQuestions = tokenizer.texts_to_sequences(questions) # разбиваем текст вопросов на последовательности индексов\n",
        "maxLenQuestions = max([ len(x) for x in tokenizedQuestions]) # уточняем длину самого большого вопроса\n",
        "# Делаем последовательности одной длины, заполняя нулями более короткие вопросы\n",
        "paddedQuestions = pad_sequences(tokenizedQuestions, maxlen=maxLenQuestions, padding='post')\n",
        "\n",
        "# Предподготавливаем данные для входа в сеть\n",
        "encoderForInput = np.array(paddedQuestions) # переводим в numpy массив\n",
        "print('Пример оригинального вопроса на вход : {}'.format(questions[100])) \n",
        "print('Пример кодированного вопроса на вход : {}'.format(encoderForInput[100])) \n",
        "print('Размеры закодированного массива вопросов на вход : {}'.format(encoderForInput.shape)) \n",
        "print('Установленная длина вопросов на вход : {}'.format(maxLenQuestions)) \n"
      ],
      "execution_count": null,
      "outputs": [
        {
          "output_type": "stream",
          "text": [
            "Пример оригинального вопроса на вход : О чем думаешь ?\n",
            "Пример кодированного вопроса на вход : [20 45 61  4  0  0  0]\n",
            "Размеры закодированного массива вопросов на вход : (268, 7)\n",
            "Установленная длина вопросов на вход : 7\n"
          ],
          "name": "stdout"
        }
      ]
    },
    {
      "cell_type": "code",
      "metadata": {
        "id": "r9XTyG6uesV_",
        "colab": {
          "base_uri": "https://localhost:8080/"
        },
        "outputId": "345539c6-4853-4af6-d3bb-d616405ef6df"
      },
      "source": [
        "######################\n",
        "# Устанавливаем раскодированные входные данные(ответы)\n",
        "######################\n",
        "tokenizedAnswers = tokenizer.texts_to_sequences(answers) # разбиваем текст ответов на последовательности индексов\n",
        "maxLenAnswers = max([len(x) for x in tokenizedAnswers]) # уточняем длину самого большого ответа\n",
        "# Делаем последовательности одной длины, заполняя нулями более короткие ответы\n",
        "paddedAnswers = pad_sequences(tokenizedAnswers, maxlen=maxLenAnswers, padding='post')\n",
        "\n",
        "# Предподготавливаем данные для входа в сеть\n",
        "decoderForInput = np.array(paddedAnswers) # переводим в numpy массив\n",
        "print('Пример оригинального ответа на вход: {}'.format(answers[100])) \n",
        "print('Пример раскодированного ответа на вход : {}'.format(decoderForInput[100][:30])) \n",
        "print('Размеры раскодированного массива ответов на вход : {}'.format(decoderForInput.shape)) \n",
        "print('Установленная длина ответов на вход : {}'.format(maxLenAnswers)) "
      ],
      "execution_count": null,
      "outputs": [
        {
          "output_type": "stream",
          "text": [
            "Пример оригинального ответа на вход: <START> О том что завтра в командировку ехать <END>\n",
            "Пример раскодированного ответа на вход : [ 2 20 77 17 78 10 79 80  3  0  0  0  0  0  0  0  0  0  0  0  0]\n",
            "Размеры раскодированного массива ответов на вход : (268, 21)\n",
            "Установленная длина ответов на вход : 21\n"
          ],
          "name": "stdout"
        }
      ]
    },
    {
      "cell_type": "code",
      "metadata": {
        "id": "ZXszNlTKesWB"
      },
      "source": [
        "######################\n",
        "# Раскодированные выходные данные(ответы)\n",
        "######################\n",
        "tokenizedAnswers = tokenizer.texts_to_sequences(answers) # разбиваем текст ответов на последовательности индексов\n",
        "for i in range(len(tokenizedAnswers)) : # для разбитых на последовательности ответов\n",
        "  tokenizedAnswers[i] = tokenizedAnswers[i][1:] # избавляемся от тега <START>\n",
        "# Делаем последовательности одной длины, заполняя нулями более короткие ответы\n",
        "paddedAnswers = pad_sequences(tokenizedAnswers, maxlen=maxLenAnswers , padding='post')\n",
        "\n",
        "oneHotAnswers = utils.to_categorical(paddedAnswers, vocabularySize) # переводим в one hot vector\n",
        "decoderForOutput = np.array(oneHotAnswers) # и сохраняем в виде массива numpy"
      ],
      "execution_count": null,
      "outputs": []
    },
    {
      "cell_type": "code",
      "metadata": {
        "id": "u4B-4yI4esWE",
        "colab": {
          "base_uri": "https://localhost:8080/"
        },
        "outputId": "d2d6a6eb-79f2-4ed0-9145-3e3650ed53c0"
      },
      "source": [
        "print('Пример раскодированного ответа на вход : {}'.format(decoderForInput[100][:21]))  \n",
        "print('Пример раскодированного ответа на выход : {}'.format(decoderForOutput[100][4][:21])) \n",
        "print('Размеры раскодированного массива ответов на выход : {}'.format(decoderForOutput.shape))\n",
        "print('Установленная длина вопросов на выход : {}'.format(maxLenAnswers)) "
      ],
      "execution_count": null,
      "outputs": [
        {
          "output_type": "stream",
          "text": [
            "Пример раскодированного ответа на вход : [ 2 20 77 17 78 10 79 80  3  0  0  0  0  0  0  0  0  0  0  0  0]\n",
            "Пример раскодированного ответа на выход : [0. 0. 0. 0. 0. 0. 0. 0. 0. 0. 1. 0. 0. 0. 0. 0. 0. 0. 0. 0. 0.]\n",
            "Размеры раскодированного массива ответов на выход : (268, 21, 241)\n",
            "Установленная длина вопросов на выход : 21\n"
          ],
          "name": "stdout"
        }
      ]
    },
    {
      "cell_type": "code",
      "metadata": {
        "id": "rb0ErQLCesWG"
      },
      "source": [
        "######################\n",
        "# Первый входной слой, кодер, выходной слой\n",
        "######################\n",
        "encoderInputs = Input(shape=(7, )) # размеры на входе сетки (здесь будет encoderForInput)\n",
        "# Эти данные проходят через слой Embedding (длина словаря, размерность) \n",
        "encoderEmbedding = Embedding(vocabularySize, 200,  mask_zero=True) (encoderInputs)\n",
        "# Затем выход с Embedding пойдёт в LSTM слой, на выходе у которого будет два вектора состояния - state_h , state_c\n",
        "# Вектора состояния - state_h , state_c зададутся в LSTM слое декодера в блоке ниже\n",
        "encoderOutputs, state_h , state_c = LSTM(200, return_state=True)(encoderEmbedding)\n",
        "encoderStates = [state_h, state_c]"
      ],
      "execution_count": null,
      "outputs": []
    },
    {
      "cell_type": "code",
      "metadata": {
        "id": "Al30YswNesWJ"
      },
      "source": [
        "######################\n",
        "# Второй входной слой, декодер, выходной слой\n",
        "######################\n",
        "decoderInputs = Input(shape=(21, )) # размеры на входе сетки (здесь будет decoderForInput)\n",
        "# Эти данные проходят через слой Embedding (длина словаря, размерность) \n",
        "# mask_zero=True - игнорировать нулевые padding при передаче в LSTM. Предотвратит вывод ответа типа: \"У меня все хорошо PAD PAD PAD PAD PAD PAD..\"\n",
        "decoderEmbedding = Embedding(vocabularySize, 200, mask_zero=True) (decoderInputs) \n",
        "# Затем выход с Embedding пойдёт в LSTM слой, которому передаются вектора состояния - state_h , state_c\n",
        "\n",
        "decoderLSTM = LSTM(200, return_state=True, return_sequences=True)\n",
        "\n",
        "\n",
        "decoderOutputs , _ , _ = decoderLSTM (decoderEmbedding, initial_state=encoderStates)\n",
        "# И от LSTM'а сигнал decoderOutputs пропускаем через полносвязный слой с софтмаксом на выходе\n",
        "decoderDense = Dense(vocabularySize, activation='softmax') \n",
        "output = decoderDense (decoderOutputs)"
      ],
      "execution_count": null,
      "outputs": []
    },
    {
      "cell_type": "code",
      "metadata": {
        "id": "YKuKz3UMesWL",
        "colab": {
          "base_uri": "https://localhost:8080/",
          "height": 953
        },
        "outputId": "2c997bcd-d1ca-4c40-dc26-039b4f74d9f9"
      },
      "source": [
        "######################\n",
        "# Собираем тренировочную модель нейросети\n",
        "######################\n",
        "model = Model([encoderInputs, decoderInputs], output)\n",
        "model.compile(optimizer=RMSprop(), loss='categorical_crossentropy')\n",
        "\n",
        "print(model.summary()) # выведем на экран информацию о построенной модели нейросети\n",
        "plot_model(model, to_file='model.png', show_shapes=True) # и построим график для визуализации слоев и связей между ними"
      ],
      "execution_count": null,
      "outputs": [
        {
          "output_type": "stream",
          "text": [
            "Model: \"functional_113\"\n",
            "__________________________________________________________________________________________________\n",
            "Layer (type)                    Output Shape         Param #     Connected to                     \n",
            "==================================================================================================\n",
            "input_59 (InputLayer)           [(None, 7)]          0                                            \n",
            "__________________________________________________________________________________________________\n",
            "input_60 (InputLayer)           [(None, 21)]         0                                            \n",
            "__________________________________________________________________________________________________\n",
            "embedding_4 (Embedding)         (None, 7, 200)       48200       input_59[0][0]                   \n",
            "__________________________________________________________________________________________________\n",
            "embedding_5 (Embedding)         (None, 21, 200)      48200       input_60[0][0]                   \n",
            "__________________________________________________________________________________________________\n",
            "lstm_4 (LSTM)                   [(None, 200), (None, 320800      embedding_4[0][0]                \n",
            "__________________________________________________________________________________________________\n",
            "lstm_5 (LSTM)                   [(None, 21, 200), (N 320800      embedding_5[0][0]                \n",
            "                                                                 lstm_4[0][1]                     \n",
            "                                                                 lstm_4[0][2]                     \n",
            "__________________________________________________________________________________________________\n",
            "dense_2 (Dense)                 (None, 21, 241)      48441       lstm_5[0][0]                     \n",
            "==================================================================================================\n",
            "Total params: 786,441\n",
            "Trainable params: 786,441\n",
            "Non-trainable params: 0\n",
            "__________________________________________________________________________________________________\n",
            "None\n"
          ],
          "name": "stdout"
        },
        {
          "output_type": "execute_result",
          "data": {
            "image/png": "[encoded data removed]",
            "text/plain": [
              "<IPython.core.display.Image object>"
            ]
          },
          "metadata": {
            "tags": []
          },
          "execution_count": 97
        }
      ]
    },
    {
      "cell_type": "code",
      "metadata": {
        "id": "Rzr3haWMesWN",
        "colab": {
          "base_uri": "https://localhost:8080/"
        },
        "outputId": "8f21a63c-017d-4ef3-ebfc-6e47cff1784d"
      },
      "source": [
        "# Запустим обучение\n",
        "model.fit([encoderForInput , decoderForInput], decoderForOutput, batch_size=50, epochs=150) "
      ],
      "execution_count": null,
      "outputs": [
        {
          "output_type": "stream",
          "text": [
            "Epoch 1/150\n",
            "6/6 [==============================] - 0s 9ms/step - loss: 1.6572\n",
            "Epoch 2/150\n",
            "6/6 [==============================] - 0s 10ms/step - loss: 1.3185\n",
            "Epoch 3/150\n",
            "6/6 [==============================] - 0s 10ms/step - loss: 1.2382\n",
            "Epoch 4/150\n",
            "6/6 [==============================] - 0s 9ms/step - loss: 1.1909\n",
            "Epoch 5/150\n",
            "6/6 [==============================] - 0s 9ms/step - loss: 1.1461\n",
            "Epoch 6/150\n",
            "6/6 [==============================] - 0s 9ms/step - loss: 1.0983\n",
            "Epoch 7/150\n",
            "6/6 [==============================] - 0s 9ms/step - loss: 1.0459\n",
            "Epoch 8/150\n",
            "6/6 [==============================] - 0s 9ms/step - loss: 1.0062\n",
            "Epoch 9/150\n",
            "6/6 [==============================] - 0s 9ms/step - loss: 0.9524\n",
            "Epoch 10/150\n",
            "6/6 [==============================] - 0s 9ms/step - loss: 0.9180\n",
            "Epoch 11/150\n",
            "6/6 [==============================] - 0s 9ms/step - loss: 0.8594\n",
            "Epoch 12/150\n",
            "6/6 [==============================] - 0s 8ms/step - loss: 0.8189\n",
            "Epoch 13/150\n",
            "6/6 [==============================] - 0s 9ms/step - loss: 0.7707\n",
            "Epoch 14/150\n",
            "6/6 [==============================] - 0s 9ms/step - loss: 0.7536\n",
            "Epoch 15/150\n",
            "6/6 [==============================] - 0s 10ms/step - loss: 0.6947\n",
            "Epoch 16/150\n",
            "6/6 [==============================] - 0s 9ms/step - loss: 0.6595\n",
            "Epoch 17/150\n",
            "6/6 [==============================] - 0s 9ms/step - loss: 0.6322\n",
            "Epoch 18/150\n",
            "6/6 [==============================] - 0s 9ms/step - loss: 0.5939\n",
            "Epoch 19/150\n",
            "6/6 [==============================] - 0s 8ms/step - loss: 0.5648\n",
            "Epoch 20/150\n",
            "6/6 [==============================] - 0s 9ms/step - loss: 0.5261\n",
            "Epoch 21/150\n",
            "6/6 [==============================] - 0s 9ms/step - loss: 0.5041\n",
            "Epoch 22/150\n",
            "6/6 [==============================] - 0s 9ms/step - loss: 0.4813\n",
            "Epoch 23/150\n",
            "6/6 [==============================] - 0s 9ms/step - loss: 0.4490\n",
            "Epoch 24/150\n",
            "6/6 [==============================] - 0s 8ms/step - loss: 0.4238\n",
            "Epoch 25/150\n",
            "6/6 [==============================] - 0s 8ms/step - loss: 0.4118\n",
            "Epoch 26/150\n",
            "6/6 [==============================] - 0s 9ms/step - loss: 0.3818\n",
            "Epoch 27/150\n",
            "6/6 [==============================] - 0s 9ms/step - loss: 0.3569\n",
            "Epoch 28/150\n",
            "6/6 [==============================] - 0s 9ms/step - loss: 0.3541\n",
            "Epoch 29/150\n",
            "6/6 [==============================] - 0s 8ms/step - loss: 0.3202\n",
            "Epoch 30/150\n",
            "6/6 [==============================] - 0s 9ms/step - loss: 0.3145\n",
            "Epoch 31/150\n",
            "6/6 [==============================] - 0s 9ms/step - loss: 0.2863\n",
            "Epoch 32/150\n",
            "6/6 [==============================] - 0s 8ms/step - loss: 0.2749\n",
            "Epoch 33/150\n",
            "6/6 [==============================] - 0s 9ms/step - loss: 0.2648\n",
            "Epoch 34/150\n",
            "6/6 [==============================] - 0s 9ms/step - loss: 0.2457\n",
            "Epoch 35/150\n",
            "6/6 [==============================] - 0s 9ms/step - loss: 0.2336\n",
            "Epoch 36/150\n",
            "6/6 [==============================] - 0s 8ms/step - loss: 0.2215\n",
            "Epoch 37/150\n",
            "6/6 [==============================] - 0s 9ms/step - loss: 0.2061\n",
            "Epoch 38/150\n",
            "6/6 [==============================] - 0s 9ms/step - loss: 0.1957\n",
            "Epoch 39/150\n",
            "6/6 [==============================] - 0s 9ms/step - loss: 0.1870\n",
            "Epoch 40/150\n",
            "6/6 [==============================] - 0s 8ms/step - loss: 0.1747\n",
            "Epoch 41/150\n",
            "6/6 [==============================] - 0s 9ms/step - loss: 0.1741\n",
            "Epoch 42/150\n",
            "6/6 [==============================] - 0s 9ms/step - loss: 0.1574\n",
            "Epoch 43/150\n",
            "6/6 [==============================] - 0s 8ms/step - loss: 0.1497\n",
            "Epoch 44/150\n",
            "6/6 [==============================] - 0s 9ms/step - loss: 0.1397\n",
            "Epoch 45/150\n",
            "6/6 [==============================] - 0s 9ms/step - loss: 0.1317\n",
            "Epoch 46/150\n",
            "6/6 [==============================] - 0s 9ms/step - loss: 0.1283\n",
            "Epoch 47/150\n",
            "6/6 [==============================] - 0s 8ms/step - loss: 0.1216\n",
            "Epoch 48/150\n",
            "6/6 [==============================] - 0s 8ms/step - loss: 0.1138\n",
            "Epoch 49/150\n",
            "6/6 [==============================] - 0s 9ms/step - loss: 0.1059\n",
            "Epoch 50/150\n",
            "6/6 [==============================] - 0s 9ms/step - loss: 0.1036\n",
            "Epoch 51/150\n",
            "6/6 [==============================] - 0s 9ms/step - loss: 0.0987\n",
            "Epoch 52/150\n",
            "6/6 [==============================] - 0s 9ms/step - loss: 0.0934\n",
            "Epoch 53/150\n",
            "6/6 [==============================] - 0s 8ms/step - loss: 0.0876\n",
            "Epoch 54/150\n",
            "6/6 [==============================] - 0s 9ms/step - loss: 0.0830\n",
            "Epoch 55/150\n",
            "6/6 [==============================] - 0s 8ms/step - loss: 0.0829\n",
            "Epoch 56/150\n",
            "6/6 [==============================] - 0s 9ms/step - loss: 0.0772\n",
            "Epoch 57/150\n",
            "6/6 [==============================] - 0s 9ms/step - loss: 0.0749\n",
            "Epoch 58/150\n",
            "6/6 [==============================] - 0s 8ms/step - loss: 0.0731\n",
            "Epoch 59/150\n",
            "6/6 [==============================] - 0s 9ms/step - loss: 0.0694\n",
            "Epoch 60/150\n",
            "6/6 [==============================] - 0s 9ms/step - loss: 0.0679\n",
            "Epoch 61/150\n",
            "6/6 [==============================] - 0s 9ms/step - loss: 0.0641\n",
            "Epoch 62/150\n",
            "6/6 [==============================] - 0s 9ms/step - loss: 0.0619\n",
            "Epoch 63/150\n",
            "6/6 [==============================] - 0s 9ms/step - loss: 0.0599\n",
            "Epoch 64/150\n",
            "6/6 [==============================] - 0s 9ms/step - loss: 0.0594\n",
            "Epoch 65/150\n",
            "6/6 [==============================] - 0s 9ms/step - loss: 0.0570\n",
            "Epoch 66/150\n",
            "6/6 [==============================] - 0s 8ms/step - loss: 0.0558\n",
            "Epoch 67/150\n",
            "6/6 [==============================] - 0s 9ms/step - loss: 0.0547\n",
            "Epoch 68/150\n",
            "6/6 [==============================] - 0s 9ms/step - loss: 0.0535\n",
            "Epoch 69/150\n",
            "6/6 [==============================] - 0s 9ms/step - loss: 0.0531\n",
            "Epoch 70/150\n",
            "6/6 [==============================] - 0s 9ms/step - loss: 0.0511\n",
            "Epoch 71/150\n",
            "6/6 [==============================] - 0s 9ms/step - loss: 0.0501\n",
            "Epoch 72/150\n",
            "6/6 [==============================] - 0s 9ms/step - loss: 0.0490\n",
            "Epoch 73/150\n",
            "6/6 [==============================] - 0s 9ms/step - loss: 0.0485\n",
            "Epoch 74/150\n",
            "6/6 [==============================] - 0s 9ms/step - loss: 0.0482\n",
            "Epoch 75/150\n",
            "6/6 [==============================] - 0s 9ms/step - loss: 0.0472\n",
            "Epoch 76/150\n",
            "6/6 [==============================] - 0s 9ms/step - loss: 0.0469\n",
            "Epoch 77/150\n",
            "6/6 [==============================] - 0s 9ms/step - loss: 0.0459\n",
            "Epoch 78/150\n",
            "6/6 [==============================] - 0s 9ms/step - loss: 0.0454\n",
            "Epoch 79/150\n",
            "6/6 [==============================] - 0s 9ms/step - loss: 0.0450\n",
            "Epoch 80/150\n",
            "6/6 [==============================] - 0s 9ms/step - loss: 0.0448\n",
            "Epoch 81/150\n",
            "6/6 [==============================] - 0s 8ms/step - loss: 0.0442\n",
            "Epoch 82/150\n",
            "6/6 [==============================] - 0s 8ms/step - loss: 0.0436\n",
            "Epoch 83/150\n",
            "6/6 [==============================] - 0s 9ms/step - loss: 0.0435\n",
            "Epoch 84/150\n",
            "6/6 [==============================] - 0s 9ms/step - loss: 0.0442\n",
            "Epoch 85/150\n",
            "6/6 [==============================] - 0s 9ms/step - loss: 0.0437\n",
            "Epoch 86/150\n",
            "6/6 [==============================] - 0s 9ms/step - loss: 0.0425\n",
            "Epoch 87/150\n",
            "6/6 [==============================] - 0s 8ms/step - loss: 0.0422\n",
            "Epoch 88/150\n",
            "6/6 [==============================] - 0s 9ms/step - loss: 0.0423\n",
            "Epoch 89/150\n",
            "6/6 [==============================] - 0s 9ms/step - loss: 0.0425\n",
            "Epoch 90/150\n",
            "6/6 [==============================] - 0s 9ms/step - loss: 0.0409\n",
            "Epoch 91/150\n",
            "6/6 [==============================] - 0s 9ms/step - loss: 0.0413\n",
            "Epoch 92/150\n",
            "6/6 [==============================] - 0s 9ms/step - loss: 0.0417\n",
            "Epoch 93/150\n",
            "6/6 [==============================] - 0s 9ms/step - loss: 0.0413\n",
            "Epoch 94/150\n",
            "6/6 [==============================] - 0s 10ms/step - loss: 0.0405\n",
            "Epoch 95/150\n",
            "6/6 [==============================] - 0s 9ms/step - loss: 0.0409\n",
            "Epoch 96/150\n",
            "6/6 [==============================] - 0s 9ms/step - loss: 0.0406\n",
            "Epoch 97/150\n",
            "6/6 [==============================] - 0s 9ms/step - loss: 0.0409\n",
            "Epoch 98/150\n",
            "6/6 [==============================] - 0s 9ms/step - loss: 0.0402\n",
            "Epoch 99/150\n",
            "6/6 [==============================] - 0s 8ms/step - loss: 0.0405\n",
            "Epoch 100/150\n",
            "6/6 [==============================] - 0s 8ms/step - loss: 0.0403\n",
            "Epoch 101/150\n",
            "6/6 [==============================] - 0s 9ms/step - loss: 0.0408\n",
            "Epoch 102/150\n",
            "6/6 [==============================] - 0s 8ms/step - loss: 0.0403\n",
            "Epoch 103/150\n",
            "6/6 [==============================] - 0s 9ms/step - loss: 0.0398\n",
            "Epoch 104/150\n",
            "6/6 [==============================] - 0s 9ms/step - loss: 0.0397\n",
            "Epoch 105/150\n",
            "6/6 [==============================] - 0s 8ms/step - loss: 0.0395\n",
            "Epoch 106/150\n",
            "6/6 [==============================] - 0s 9ms/step - loss: 0.0395\n",
            "Epoch 107/150\n",
            "6/6 [==============================] - 0s 9ms/step - loss: 0.0396\n",
            "Epoch 108/150\n",
            "6/6 [==============================] - 0s 8ms/step - loss: 0.0392\n",
            "Epoch 109/150\n",
            "6/6 [==============================] - 0s 9ms/step - loss: 0.0392\n",
            "Epoch 110/150\n",
            "6/6 [==============================] - 0s 10ms/step - loss: 0.0394\n",
            "Epoch 111/150\n",
            "6/6 [==============================] - 0s 9ms/step - loss: 0.0396\n",
            "Epoch 112/150\n",
            "6/6 [==============================] - 0s 8ms/step - loss: 0.0391\n",
            "Epoch 113/150\n",
            "6/6 [==============================] - 0s 9ms/step - loss: 0.0386\n",
            "Epoch 114/150\n",
            "6/6 [==============================] - 0s 9ms/step - loss: 0.0388\n",
            "Epoch 115/150\n",
            "6/6 [==============================] - 0s 9ms/step - loss: 0.0393\n",
            "Epoch 116/150\n",
            "6/6 [==============================] - 0s 8ms/step - loss: 0.0387\n",
            "Epoch 117/150\n",
            "6/6 [==============================] - 0s 9ms/step - loss: 0.0385\n",
            "Epoch 118/150\n",
            "6/6 [==============================] - 0s 9ms/step - loss: 0.0388\n",
            "Epoch 119/150\n",
            "6/6 [==============================] - 0s 9ms/step - loss: 0.0392\n",
            "Epoch 120/150\n",
            "6/6 [==============================] - 0s 9ms/step - loss: 0.0384\n",
            "Epoch 121/150\n",
            "6/6 [==============================] - 0s 9ms/step - loss: 0.0384\n",
            "Epoch 122/150\n",
            "6/6 [==============================] - 0s 9ms/step - loss: 0.0390\n",
            "Epoch 123/150\n",
            "6/6 [==============================] - 0s 9ms/step - loss: 0.0388\n",
            "Epoch 124/150\n",
            "6/6 [==============================] - 0s 9ms/step - loss: 0.0381\n",
            "Epoch 125/150\n",
            "6/6 [==============================] - 0s 9ms/step - loss: 0.0384\n",
            "Epoch 126/150\n",
            "6/6 [==============================] - 0s 9ms/step - loss: 0.0384\n",
            "Epoch 127/150\n",
            "6/6 [==============================] - 0s 9ms/step - loss: 0.0383\n",
            "Epoch 128/150\n",
            "6/6 [==============================] - 0s 9ms/step - loss: 0.0383\n",
            "Epoch 129/150\n",
            "6/6 [==============================] - 0s 8ms/step - loss: 0.0381\n",
            "Epoch 130/150\n",
            "6/6 [==============================] - 0s 9ms/step - loss: 0.0385\n",
            "Epoch 131/150\n",
            "6/6 [==============================] - 0s 9ms/step - loss: 0.0386\n",
            "Epoch 132/150\n",
            "6/6 [==============================] - 0s 9ms/step - loss: 0.0381\n",
            "Epoch 133/150\n",
            "6/6 [==============================] - 0s 9ms/step - loss: 0.0380\n",
            "Epoch 134/150\n",
            "6/6 [==============================] - 0s 9ms/step - loss: 0.0382\n",
            "Epoch 135/150\n",
            "6/6 [==============================] - 0s 9ms/step - loss: 0.0382\n",
            "Epoch 136/150\n",
            "6/6 [==============================] - 0s 9ms/step - loss: 0.0386\n",
            "Epoch 137/150\n",
            "6/6 [==============================] - 0s 9ms/step - loss: 0.0383\n",
            "Epoch 138/150\n",
            "6/6 [==============================] - 0s 9ms/step - loss: 0.0377\n",
            "Epoch 139/150\n",
            "6/6 [==============================] - 0s 9ms/step - loss: 0.0382\n",
            "Epoch 140/150\n",
            "6/6 [==============================] - 0s 10ms/step - loss: 0.0381\n",
            "Epoch 141/150\n",
            "6/6 [==============================] - 0s 9ms/step - loss: 0.0377\n",
            "Epoch 142/150\n",
            "6/6 [==============================] - 0s 9ms/step - loss: 0.0380\n",
            "Epoch 143/150\n",
            "6/6 [==============================] - 0s 9ms/step - loss: 0.0379\n",
            "Epoch 144/150\n",
            "6/6 [==============================] - 0s 8ms/step - loss: 0.0380\n",
            "Epoch 145/150\n",
            "6/6 [==============================] - 0s 8ms/step - loss: 0.0378\n",
            "Epoch 146/150\n",
            "6/6 [==============================] - 0s 9ms/step - loss: 0.0380\n",
            "Epoch 147/150\n",
            "6/6 [==============================] - 0s 9ms/step - loss: 0.0379\n",
            "Epoch 148/150\n",
            "6/6 [==============================] - 0s 9ms/step - loss: 0.0376\n",
            "Epoch 149/150\n",
            "6/6 [==============================] - 0s 9ms/step - loss: 0.0382\n",
            "Epoch 150/150\n",
            "6/6 [==============================] - 0s 10ms/step - loss: 0.0377\n"
          ],
          "name": "stdout"
        },
        {
          "output_type": "execute_result",
          "data": {
            "text/plain": [
              "<tensorflow.python.keras.callbacks.History at 0x7fcd162dff60>"
            ]
          },
          "metadata": {
            "tags": []
          },
          "execution_count": 98
        }
      ]
    },
    {
      "cell_type": "code",
      "metadata": {
        "id": "NksPT_UTesWQ"
      },
      "source": [
        "######################\n",
        "# Создаем рабочую модель для вывода ответов на запросы пользователя\n",
        "######################\n",
        "def makeInferenceModels():\n",
        "  # Определим модель кодера, на входе далее будут закодированные вопросы(encoderForInputs), на выходе состояния state_h, state_c\n",
        "  encoderModel = Model(encoderInputs, encoderStates) \n",
        "\n",
        "  decoderStateInput_h = Input(shape=(200 ,)) # обозначим размерность для входного слоя с состоянием state_h\n",
        "  decoderStateInput_c = Input(shape=(200 ,)) # обозначим размерность для входного слоя с состоянием state_c\n",
        "\n",
        "  decoderStatesInputs = [decoderStateInput_h, decoderStateInput_c] # возьмем оба inputs вместе и запишем в decoderStatesInputs\n",
        "\n",
        "  # Берём ответы, прошедшие через эмбединг, вместе с состояниями и подаём LSTM cлою\n",
        "\n",
        "  decoderOutputs, state_h, state_c = decoderLSTM(decoderEmbedding, initial_state=decoderStatesInputs)\n",
        "\n",
        "  decoderStates = [state_h, state_c] # LSTM даст нам новые состояния\n",
        "  decoderOutputs = decoderDense(decoderOutputs) # и ответы, которые мы пропустим через полносвязный слой с софтмаксом\n",
        "\n",
        "  # Определим модель декодера, на входе далее будут раскодированные ответы (decoderForInputs) и состояния\n",
        "  # на выходе предсказываемый ответ и новые состояния\n",
        "  decoderModel = Model([decoderInputs] + decoderStatesInputs, [decoderOutputs] + decoderStates)\n",
        "\n",
        "  return encoderModel , decoderModel"
      ],
      "execution_count": null,
      "outputs": []
    },
    {
      "cell_type": "code",
      "metadata": {
        "id": "gN7byV19esWS"
      },
      "source": [
        "######################\n",
        "# Создадим функцию, которая преобразует вопрос пользователя в последовательность индексов\n",
        "######################\n",
        "def strToTokens(sentence): # функция принимает строку на вход (предложение с вопросом)\n",
        "  words = sentence.lower().split() # приводит предложение к нижнему регистру и разбирает на слова\n",
        "  tokensList = list() # здесь будет последовательность токенов/индексов\n",
        "  for word in words: # для каждого слова в предложении\n",
        "    try:\n",
        "       tokensList.append(tokenizer.word_index[word]) # определяем токенизатором индекс и добавляем в список\n",
        "    except KeyError:\n",
        "       tokensList.append(tokenizer.word_index['unknown'])\n",
        "    # Функция вернёт вопрос в виде последовательности индексов, ограниченной длиной самого длинного вопроса из нашей базы вопросов\n",
        "  return pad_sequences([tokensList], maxlen=maxLenQuestions , padding='post')"
      ],
      "execution_count": null,
      "outputs": []
    },
    {
      "cell_type": "markdown",
      "metadata": {
        "id": "S_N3fNChe1im"
      },
      "source": [
        "**Проведем небольшой диалог с ботом, обученным на своей базе вопросов - ответов из LIGHT задания и сравним прогресс**"
      ]
    },
    {
      "cell_type": "code",
      "metadata": {
        "id": "5G8vJChyb6Z5",
        "colab": {
          "base_uri": "https://localhost:8080/"
        },
        "outputId": "6762d2b8-884f-4966-b535-19e6d74cadcb"
      },
      "source": [
        "######################\n",
        "# Устанавливаем окончательные настройки и запускаем модель\n",
        "######################\n",
        "\n",
        "encModel, decModel = makeInferenceModels() # запускаем функцию для построения модели кодера и декодера\n",
        "\n",
        "for _ in range(10): # задаем количество вопросов, и на каждой итерации в этом диапазоне:\n",
        "  # Получаем значения состояний, которые определит кодер в соответствии с заданным вопросом\n",
        "  statesValues = encModel.predict(strToTokens(input( 'Задайте вопрос : ' )))\n",
        "  # Создаём пустой массив размером (1, 1)\n",
        "  emptyTargetSeq = np.zeros((1, 1))    \n",
        "  emptyTargetSeq[0, 0] = tokenizer.word_index['start'] # положим в пустую последовательность начальное слово 'start' в виде индекса\n",
        "\n",
        "  stopCondition = False # зададим условие, при срабатывании которого, прекратится генерация очередного слова\n",
        "  decodedTranslation = '' # здесь будет собираться генерируемый ответ\n",
        "  while not stopCondition : # пока не сработало стоп-условие\n",
        "    # В модель декодера подадим пустую последовательность со словом 'start' и состояния предсказанные кодером по заданному вопросу.\n",
        "    # декодер заменит слово 'start' предсказанным сгенерированным словом и обновит состояния\n",
        "    decOutputs , h , c = decModel.predict([emptyTargetSeq] + statesValues)\n",
        "    \n",
        "    #argmax пробежит по вектору decOutputs'а[0,0,15104], найдет макс.значение, и вернёт нам номер индекса под которым оно лежит в массиве\n",
        "    sampledWordIndex = np.argmax(decOutputs, axis=-1) # argmax возьмем от оси, в которой 15104 элементов. Получили индекс предсказанного слова.\n",
        "    sampledWord = None # создаем переменную, в которую положим слово, преобразованное на естественный язык\n",
        "    for word , index in tokenizer.word_index.items():\n",
        "      if sampledWordIndex == index: # если индекс выбранного слова соответствует какому-то индексу из словаря\n",
        "        decodedTranslation += ' {}'.format(word) # слово, идущее под этим индексом в словаре, добавляется в итоговый ответ \n",
        "        sampledWord = word # выбранное слово фиксируем в переменную sampledWord\n",
        "    \n",
        "    # Если выбранным словом оказывается 'end' либо если сгенерированный ответ превышает заданную максимальную длину ответа\n",
        "    if sampledWord == 'end' or len(decodedTranslation.split()) > maxLenAnswers:\n",
        "      stopCondition = True # то срабатывает стоп-условие и прекращаем генерацию\n",
        "\n",
        "    emptyTargetSeq = np.zeros((1, 1)) # создаем пустой массив\n",
        "    emptyTargetSeq[0, 0] = sampledWordIndex # заносим туда индекс выбранного слова\n",
        "    statesValues = [h, c] # и состояния, обновленные декодером\n",
        "    # и продолжаем цикл с обновленными параметрами\n",
        "  \n",
        "  print(\"Ответ : \", decodedTranslation[:-3]) # выводим ответ сгенерированный декодером"
      ],
      "execution_count": null,
      "outputs": [
        {
          "output_type": "stream",
          "text": [
            "Задайте вопрос : Привет бот!\n",
            "Ответ :   здарово ! \n",
            "Задайте вопрос : Как дела ИИшные?\n",
            "Ответ :   норм , как сам \n",
            "Задайте вопрос : Поедешь на выходных загород шашлыки жарить?\n",
            "Ответ :   погода дрянная , сдует еще , оно мне надо \n",
            "Задайте вопрос : а в кино пойдешь?\n",
            "Ответ :   агась , на че пойдем ? \n",
            "Задайте вопрос : На паразитов?\n",
            "Ответ :   хз \n",
            "Задайте вопрос : а на Мстителей\n",
            "Ответ :   давай, кино отличное ! \n",
            "Задайте вопрос : как самочувствие?\n",
            "Ответ :   ок \n",
            "Задайте вопрос : Тогда на великах погнали?\n",
            "Ответ :   только учеба и сон \n",
            "Задайте вопрос : а как же кино и поесть?\n",
            "Ответ :   учиться , а ты \n",
            "Задайте вопрос : я есть хочу\n",
            "Ответ :   да иди \n"
          ],
          "name": "stdout"
        }
      ]
    },
    {
      "cell_type": "markdown",
      "metadata": {
        "id": "gV8i29EHcuyI"
      },
      "source": [
        "**Итоги:** после добавления возможности писать слова которых нет в словаре и знаки припинания, диалог приобрел более выразительный характер. Бот отвечает вопросом на вопрос и уже научиться привередничать в выборе фильма - чего в диалоге изначальном не было!! Точно помню что ответ на кино \"Паразиты\" был явно хороший, а боту кино не по нраву, плюс ко всему у него появилась своя линия поведения- он хочет учиться и мои предложения пойти поесть он отвергает - посылая есть в одиночестве. Использование слов которых небыло в изночальном диалоге не помешало боту - а даже наоборот \"преукрасило\" его речь, сделав её более человечной, а фразы не такими заученными. "
      ]
    }
  ]
}