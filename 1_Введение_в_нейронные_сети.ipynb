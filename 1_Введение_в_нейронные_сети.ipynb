{
  "nbformat": 4,
  "nbformat_minor": 0,
  "metadata": {
    "colab": {
      "name": "1_Введение в нейронные сети",
      "provenance": [],
      "collapsed_sections": [],
      "toc_visible": true,
      "authorship_tag": "ABX9TyN1ijvExzMi26avCg1MU0oy"
    },
    "kernelspec": {
      "name": "python3",
      "display_name": "Python 3"
    },
    "accelerator": "GPU"
  },
  "cells": [
    {
      "cell_type": "markdown",
      "metadata": {
        "id": "cSoVj9VR9Ttr"
      },
      "source": [
        "# Домашнеее задание: Июльский курс (2020). Pro. Занятие 1\n",
        "# Введение в нейронные сети\n",
        "## Верхошинская Катерина Викторовна\n",
        "\n"
      ]
    },
    {
      "cell_type": "markdown",
      "metadata": {
        "id": "la6Q_W94-AQg"
      },
      "source": [
        "## LIGHT\n"
      ]
    },
    {
      "cell_type": "markdown",
      "metadata": {
        "id": "xjoO_lVo-WGC"
      },
      "source": [
        "### Вариант 1"
      ]
    },
    {
      "cell_type": "markdown",
      "metadata": {
        "id": "_f0221RM-fN7"
      },
      "source": [
        "**Задание:** Перепишите ноутбук по распознаванию рукописных цифр, восстановив следующие операции:\n",
        "\n",
        "\n",
        "1.   Импорт библиотек.\n",
        "2.   Загрузка базы mnist.\n",
        "3.   Нормирование и преобразование x_train и y_train.\n",
        "4.   Создание нейронной сети.\n",
        "5.   Обучение нейронной сети.\n",
        "\n",
        "Можно смотреть в ноутбук с занятия, но код необходимо писать самостоятельно.\n"
      ]
    },
    {
      "cell_type": "markdown",
      "metadata": {
        "id": "E6PRfGP3-tNO"
      },
      "source": [
        "**Решение:**"
      ]
    },
    {
      "cell_type": "markdown",
      "metadata": {
        "id": "J-3VBXVRMduR"
      },
      "source": [
        "#### 1. Импорт библиотек."
      ]
    },
    {
      "cell_type": "code",
      "metadata": {
        "id": "5hZqNnUr9Qou"
      },
      "source": [
        "from tensorflow.keras.datasets import mnist \n",
        "from tensorflow.keras.models import Sequential \n",
        "from tensorflow.keras.layers import Dense \n",
        "from tensorflow.keras.optimizers import Adam \n",
        "from tensorflow.keras import utils\n",
        "from tensorflow.keras.preprocessing import image\n",
        "import numpy as np\n",
        "import pylab \n",
        "from google.colab import files\n",
        "import matplotlib.pyplot as plt\n",
        "from PIL import Image\n",
        "%matplotlib inline "
      ],
      "execution_count": null,
      "outputs": []
    },
    {
      "cell_type": "markdown",
      "metadata": {
        "id": "_3oRrXiOMXy0"
      },
      "source": [
        "#### 2. Загрузка базы mnist."
      ]
    },
    {
      "cell_type": "code",
      "metadata": {
        "id": "HK4QLPpBEc-u",
        "colab": {
          "base_uri": "https://localhost:8080/",
          "height": 50
        },
        "outputId": "15e150bf-f60a-45fd-ecf1-c5956167272c"
      },
      "source": [
        "(x_train_org, y_train_org), (x_test_org, y_test_org) = mnist.load_data() "
      ],
      "execution_count": null,
      "outputs": [
        {
          "output_type": "stream",
          "text": [
            "Downloading data from https://storage.googleapis.com/tensorflow/tf-keras-datasets/mnist.npz\n",
            "11493376/11490434 [==============================] - 0s 0us/step\n"
          ],
          "name": "stdout"
        }
      ]
    },
    {
      "cell_type": "code",
      "metadata": {
        "id": "ZB7tH2DmNVTG",
        "colab": {
          "base_uri": "https://localhost:8080/",
          "height": 1000
        },
        "outputId": "1e3034e5-857d-4ab0-ee5b-440272c651ec"
      },
      "source": [
        "x_train_org[0]"
      ],
      "execution_count": null,
      "outputs": [
        {
          "output_type": "execute_result",
          "data": {
            "text/plain": [
              "array([[  0,   0,   0,   0,   0,   0,   0,   0,   0,   0,   0,   0,   0,\n",
              "          0,   0,   0,   0,   0,   0,   0,   0,   0,   0,   0,   0,   0,\n",
              "          0,   0],\n",
              "       [  0,   0,   0,   0,   0,   0,   0,   0,   0,   0,   0,   0,   0,\n",
              "          0,   0,   0,   0,   0,   0,   0,   0,   0,   0,   0,   0,   0,\n",
              "          0,   0],\n",
              "       [  0,   0,   0,   0,   0,   0,   0,   0,   0,   0,   0,   0,   0,\n",
              "          0,   0,   0,   0,   0,   0,   0,   0,   0,   0,   0,   0,   0,\n",
              "          0,   0],\n",
              "       [  0,   0,   0,   0,   0,   0,   0,   0,   0,   0,   0,   0,   0,\n",
              "          0,   0,   0,   0,   0,   0,   0,   0,   0,   0,   0,   0,   0,\n",
              "          0,   0],\n",
              "       [  0,   0,   0,   0,   0,   0,   0,   0,   0,   0,   0,   0,   0,\n",
              "          0,   0,   0,   0,   0,   0,   0,   0,   0,   0,   0,   0,   0,\n",
              "          0,   0],\n",
              "       [  0,   0,   0,   0,   0,   0,   0,   0,   0,   0,   0,   0,   3,\n",
              "         18,  18,  18, 126, 136, 175,  26, 166, 255, 247, 127,   0,   0,\n",
              "          0,   0],\n",
              "       [  0,   0,   0,   0,   0,   0,   0,   0,  30,  36,  94, 154, 170,\n",
              "        253, 253, 253, 253, 253, 225, 172, 253, 242, 195,  64,   0,   0,\n",
              "          0,   0],\n",
              "       [  0,   0,   0,   0,   0,   0,   0,  49, 238, 253, 253, 253, 253,\n",
              "        253, 253, 253, 253, 251,  93,  82,  82,  56,  39,   0,   0,   0,\n",
              "          0,   0],\n",
              "       [  0,   0,   0,   0,   0,   0,   0,  18, 219, 253, 253, 253, 253,\n",
              "        253, 198, 182, 247, 241,   0,   0,   0,   0,   0,   0,   0,   0,\n",
              "          0,   0],\n",
              "       [  0,   0,   0,   0,   0,   0,   0,   0,  80, 156, 107, 253, 253,\n",
              "        205,  11,   0,  43, 154,   0,   0,   0,   0,   0,   0,   0,   0,\n",
              "          0,   0],\n",
              "       [  0,   0,   0,   0,   0,   0,   0,   0,   0,  14,   1, 154, 253,\n",
              "         90,   0,   0,   0,   0,   0,   0,   0,   0,   0,   0,   0,   0,\n",
              "          0,   0],\n",
              "       [  0,   0,   0,   0,   0,   0,   0,   0,   0,   0,   0, 139, 253,\n",
              "        190,   2,   0,   0,   0,   0,   0,   0,   0,   0,   0,   0,   0,\n",
              "          0,   0],\n",
              "       [  0,   0,   0,   0,   0,   0,   0,   0,   0,   0,   0,  11, 190,\n",
              "        253,  70,   0,   0,   0,   0,   0,   0,   0,   0,   0,   0,   0,\n",
              "          0,   0],\n",
              "       [  0,   0,   0,   0,   0,   0,   0,   0,   0,   0,   0,   0,  35,\n",
              "        241, 225, 160, 108,   1,   0,   0,   0,   0,   0,   0,   0,   0,\n",
              "          0,   0],\n",
              "       [  0,   0,   0,   0,   0,   0,   0,   0,   0,   0,   0,   0,   0,\n",
              "         81, 240, 253, 253, 119,  25,   0,   0,   0,   0,   0,   0,   0,\n",
              "          0,   0],\n",
              "       [  0,   0,   0,   0,   0,   0,   0,   0,   0,   0,   0,   0,   0,\n",
              "          0,  45, 186, 253, 253, 150,  27,   0,   0,   0,   0,   0,   0,\n",
              "          0,   0],\n",
              "       [  0,   0,   0,   0,   0,   0,   0,   0,   0,   0,   0,   0,   0,\n",
              "          0,   0,  16,  93, 252, 253, 187,   0,   0,   0,   0,   0,   0,\n",
              "          0,   0],\n",
              "       [  0,   0,   0,   0,   0,   0,   0,   0,   0,   0,   0,   0,   0,\n",
              "          0,   0,   0,   0, 249, 253, 249,  64,   0,   0,   0,   0,   0,\n",
              "          0,   0],\n",
              "       [  0,   0,   0,   0,   0,   0,   0,   0,   0,   0,   0,   0,   0,\n",
              "          0,  46, 130, 183, 253, 253, 207,   2,   0,   0,   0,   0,   0,\n",
              "          0,   0],\n",
              "       [  0,   0,   0,   0,   0,   0,   0,   0,   0,   0,   0,   0,  39,\n",
              "        148, 229, 253, 253, 253, 250, 182,   0,   0,   0,   0,   0,   0,\n",
              "          0,   0],\n",
              "       [  0,   0,   0,   0,   0,   0,   0,   0,   0,   0,  24, 114, 221,\n",
              "        253, 253, 253, 253, 201,  78,   0,   0,   0,   0,   0,   0,   0,\n",
              "          0,   0],\n",
              "       [  0,   0,   0,   0,   0,   0,   0,   0,  23,  66, 213, 253, 253,\n",
              "        253, 253, 198,  81,   2,   0,   0,   0,   0,   0,   0,   0,   0,\n",
              "          0,   0],\n",
              "       [  0,   0,   0,   0,   0,   0,  18, 171, 219, 253, 253, 253, 253,\n",
              "        195,  80,   9,   0,   0,   0,   0,   0,   0,   0,   0,   0,   0,\n",
              "          0,   0],\n",
              "       [  0,   0,   0,   0,  55, 172, 226, 253, 253, 253, 253, 244, 133,\n",
              "         11,   0,   0,   0,   0,   0,   0,   0,   0,   0,   0,   0,   0,\n",
              "          0,   0],\n",
              "       [  0,   0,   0,   0, 136, 253, 253, 253, 212, 135, 132,  16,   0,\n",
              "          0,   0,   0,   0,   0,   0,   0,   0,   0,   0,   0,   0,   0,\n",
              "          0,   0],\n",
              "       [  0,   0,   0,   0,   0,   0,   0,   0,   0,   0,   0,   0,   0,\n",
              "          0,   0,   0,   0,   0,   0,   0,   0,   0,   0,   0,   0,   0,\n",
              "          0,   0],\n",
              "       [  0,   0,   0,   0,   0,   0,   0,   0,   0,   0,   0,   0,   0,\n",
              "          0,   0,   0,   0,   0,   0,   0,   0,   0,   0,   0,   0,   0,\n",
              "          0,   0],\n",
              "       [  0,   0,   0,   0,   0,   0,   0,   0,   0,   0,   0,   0,   0,\n",
              "          0,   0,   0,   0,   0,   0,   0,   0,   0,   0,   0,   0,   0,\n",
              "          0,   0]], dtype=uint8)"
            ]
          },
          "metadata": {
            "tags": []
          },
          "execution_count": 5
        }
      ]
    },
    {
      "cell_type": "code",
      "metadata": {
        "id": "imfzzRwBFmxa",
        "colab": {
          "base_uri": "https://localhost:8080/",
          "height": 265
        },
        "outputId": "6a70bec3-ceb6-462e-b86e-51577f5378cb"
      },
      "source": [
        "n = 1\n",
        "plt.imshow(x_train_org[n], cmap='gray') \n",
        "plt.show() "
      ],
      "execution_count": null,
      "outputs": [
        {
          "output_type": "display_data",
          "data": {
            "image/png": "[encoded data removed]",
            "text/plain": [
              "<Figure size 432x288 with 1 Axes>"
            ]
          },
          "metadata": {
            "tags": [],
            "needs_background": "light"
          }
        }
      ]
    },
    {
      "cell_type": "markdown",
      "metadata": {
        "id": "Sqd0H51cMLE2"
      },
      "source": [
        "#### 3. Нормирование и преобразование x_train и y_train."
      ]
    },
    {
      "cell_type": "code",
      "metadata": {
        "id": "z8I9xSSvGxrk",
        "colab": {
          "base_uri": "https://localhost:8080/",
          "height": 50
        },
        "outputId": "2cf989cb-53a1-4394-db40-c40f7fabe0f2"
      },
      "source": [
        "x_train = x_train_org.reshape(60000, 784)\n",
        "x_test = x_test_org.reshape(10000, 784)\n",
        "print(x_train_org.shape)\n",
        "print(x_train.shape)"
      ],
      "execution_count": null,
      "outputs": [
        {
          "output_type": "stream",
          "text": [
            "(60000, 28, 28)\n",
            "(60000, 784)\n"
          ],
          "name": "stdout"
        }
      ]
    },
    {
      "cell_type": "code",
      "metadata": {
        "id": "I2qZn4EBG4vn"
      },
      "source": [
        "# Нормализуем входные картинки\n",
        "x_train = x_train.astype('float32') \n",
        "x_train = x_train / 255 \n",
        "x_test = x_test.astype('float32') \n",
        "x_test = x_test / 255 "
      ],
      "execution_count": null,
      "outputs": []
    },
    {
      "cell_type": "code",
      "metadata": {
        "id": "fGbZ-OcvG8AL",
        "colab": {
          "base_uri": "https://localhost:8080/",
          "height": 34
        },
        "outputId": "05ec6d6f-e62c-4c85-d4e9-8924ed140569"
      },
      "source": [
        "y_train_org[0]"
      ],
      "execution_count": null,
      "outputs": [
        {
          "output_type": "execute_result",
          "data": {
            "text/plain": [
              "5"
            ]
          },
          "metadata": {
            "tags": []
          },
          "execution_count": 9
        }
      ]
    },
    {
      "cell_type": "code",
      "metadata": {
        "id": "v3mHBn4mG9Xx",
        "colab": {
          "base_uri": "https://localhost:8080/",
          "height": 34
        },
        "outputId": "86fb3505-1581-46ce-f428-16e837624f1e"
      },
      "source": [
        "utils.to_categorical(y_train_org[0], 10)"
      ],
      "execution_count": null,
      "outputs": [
        {
          "output_type": "execute_result",
          "data": {
            "text/plain": [
              "array([0., 0., 0., 0., 0., 1., 0., 0., 0., 0.], dtype=float32)"
            ]
          },
          "metadata": {
            "tags": []
          },
          "execution_count": 10
        }
      ]
    },
    {
      "cell_type": "code",
      "metadata": {
        "id": "MTHfWTsXHAxJ",
        "colab": {
          "base_uri": "https://localhost:8080/",
          "height": 34
        },
        "outputId": "730f7af9-513e-4a0c-bf4b-e93829d252b4"
      },
      "source": [
        "# Преобразуем ответы в формат one_hot_encoding\n",
        "y_train = utils.to_categorical(y_train_org, 10)\n",
        "y_test = utils.to_categorical(y_test_org, 10)\n",
        "print(y_train.shape)"
      ],
      "execution_count": null,
      "outputs": [
        {
          "output_type": "stream",
          "text": [
            "(60000, 10)\n"
          ],
          "name": "stdout"
        }
      ]
    },
    {
      "cell_type": "code",
      "metadata": {
        "id": "0m_-QVahHMAc",
        "colab": {
          "base_uri": "https://localhost:8080/",
          "height": 67
        },
        "outputId": "ce2e30f2-1f8c-4954-9b3c-6422ef0e54ce"
      },
      "source": [
        "print(y_train[n]) \n",
        "print(y_train_org.shape)\n",
        "print(y_train_org[36])"
      ],
      "execution_count": null,
      "outputs": [
        {
          "output_type": "stream",
          "text": [
            "[1. 0. 0. 0. 0. 0. 0. 0. 0. 0.]\n",
            "(60000,)\n",
            "6\n"
          ],
          "name": "stdout"
        }
      ]
    },
    {
      "cell_type": "markdown",
      "metadata": {
        "id": "ltebxJ_SMlkU"
      },
      "source": [
        "#### 4. Создание нейронной сети"
      ]
    },
    {
      "cell_type": "code",
      "metadata": {
        "id": "BsK5bt9CHZ3G",
        "colab": {
          "base_uri": "https://localhost:8080/",
          "height": 269
        },
        "outputId": "d070b6e3-0825-423f-fb2c-1270c9317b8b"
      },
      "source": [
        "model = Sequential()\n",
        "model.add(Dense(800, input_dim=784, activation=\"relu\"))\n",
        "model.add(Dense(400, activation=\"relu\"))\n",
        "model.add(Dense(10, activation=\"softmax\"))\n",
        "model.compile(loss=\"categorical_crossentropy\", optimizer=\"adam\", metrics=[\"accuracy\"])\n",
        "print(model.summary())"
      ],
      "execution_count": null,
      "outputs": [
        {
          "output_type": "stream",
          "text": [
            "Model: \"sequential\"\n",
            "_________________________________________________________________\n",
            "Layer (type)                 Output Shape              Param #   \n",
            "=================================================================\n",
            "dense (Dense)                (None, 800)               628000    \n",
            "_________________________________________________________________\n",
            "dense_1 (Dense)              (None, 400)               320400    \n",
            "_________________________________________________________________\n",
            "dense_2 (Dense)              (None, 10)                4010      \n",
            "=================================================================\n",
            "Total params: 952,410\n",
            "Trainable params: 952,410\n",
            "Non-trainable params: 0\n",
            "_________________________________________________________________\n",
            "None\n"
          ],
          "name": "stdout"
        }
      ]
    },
    {
      "cell_type": "markdown",
      "metadata": {
        "id": "__wg93zOMqWm"
      },
      "source": [
        "#### 5. Обучение нейронной сети"
      ]
    },
    {
      "cell_type": "code",
      "metadata": {
        "id": "JRJGKe55HjdH",
        "colab": {
          "base_uri": "https://localhost:8080/",
          "height": 538
        },
        "outputId": "0f81bcc8-f75a-439c-e29a-85d61a10a6e7"
      },
      "source": [
        "model.fit(x_train, y_train, batch_size=128, epochs=15, verbose=1, validation_split=0.2)"
      ],
      "execution_count": null,
      "outputs": [
        {
          "output_type": "stream",
          "text": [
            "Epoch 1/15\n",
            "375/375 [==============================] - 2s 6ms/step - loss: 0.2340 - accuracy: 0.9315 - val_loss: 0.1084 - val_accuracy: 0.9667\n",
            "Epoch 2/15\n",
            "375/375 [==============================] - 2s 5ms/step - loss: 0.0822 - accuracy: 0.9749 - val_loss: 0.0936 - val_accuracy: 0.9703\n",
            "Epoch 3/15\n",
            "375/375 [==============================] - 2s 5ms/step - loss: 0.0497 - accuracy: 0.9838 - val_loss: 0.0867 - val_accuracy: 0.9752\n",
            "Epoch 4/15\n",
            "375/375 [==============================] - 2s 5ms/step - loss: 0.0346 - accuracy: 0.9887 - val_loss: 0.0866 - val_accuracy: 0.9754\n",
            "Epoch 5/15\n",
            "375/375 [==============================] - 2s 5ms/step - loss: 0.0266 - accuracy: 0.9914 - val_loss: 0.0916 - val_accuracy: 0.9748\n",
            "Epoch 6/15\n",
            "375/375 [==============================] - 2s 5ms/step - loss: 0.0234 - accuracy: 0.9921 - val_loss: 0.0889 - val_accuracy: 0.9776\n",
            "Epoch 7/15\n",
            "375/375 [==============================] - 2s 5ms/step - loss: 0.0174 - accuracy: 0.9939 - val_loss: 0.0952 - val_accuracy: 0.9758\n",
            "Epoch 8/15\n",
            "375/375 [==============================] - 2s 5ms/step - loss: 0.0157 - accuracy: 0.9943 - val_loss: 0.0966 - val_accuracy: 0.9779\n",
            "Epoch 9/15\n",
            "375/375 [==============================] - 2s 5ms/step - loss: 0.0142 - accuracy: 0.9949 - val_loss: 0.1144 - val_accuracy: 0.9744\n",
            "Epoch 10/15\n",
            "375/375 [==============================] - 2s 5ms/step - loss: 0.0142 - accuracy: 0.9954 - val_loss: 0.1121 - val_accuracy: 0.9764\n",
            "Epoch 11/15\n",
            "375/375 [==============================] - 2s 5ms/step - loss: 0.0118 - accuracy: 0.9962 - val_loss: 0.0965 - val_accuracy: 0.9811\n",
            "Epoch 12/15\n",
            "375/375 [==============================] - 2s 5ms/step - loss: 0.0077 - accuracy: 0.9974 - val_loss: 0.1165 - val_accuracy: 0.9752\n",
            "Epoch 13/15\n",
            "375/375 [==============================] - 2s 5ms/step - loss: 0.0112 - accuracy: 0.9962 - val_loss: 0.1224 - val_accuracy: 0.9771\n",
            "Epoch 14/15\n",
            "375/375 [==============================] - 2s 5ms/step - loss: 0.0138 - accuracy: 0.9957 - val_loss: 0.1044 - val_accuracy: 0.9792\n",
            "Epoch 15/15\n",
            "375/375 [==============================] - 2s 5ms/step - loss: 0.0083 - accuracy: 0.9976 - val_loss: 0.1185 - val_accuracy: 0.9778\n"
          ],
          "name": "stdout"
        },
        {
          "output_type": "execute_result",
          "data": {
            "text/plain": [
              "<tensorflow.python.keras.callbacks.History at 0x7f8fe0610128>"
            ]
          },
          "metadata": {
            "tags": []
          },
          "execution_count": 14
        }
      ]
    },
    {
      "cell_type": "code",
      "metadata": {
        "id": "vAaOItbSIRQR"
      },
      "source": [
        "model.save_weights('model.h5')\n",
        "model.load_weights('model.h5')"
      ],
      "execution_count": null,
      "outputs": []
    },
    {
      "cell_type": "markdown",
      "metadata": {
        "id": "qNXPCZ71Mt89"
      },
      "source": [
        "#### Тестирование "
      ]
    },
    {
      "cell_type": "code",
      "metadata": {
        "id": "AZ9HSnB2IR27",
        "colab": {
          "base_uri": "https://localhost:8080/",
          "height": 265
        },
        "outputId": "1e342cc6-62f6-4b64-83e8-f0e85982addb"
      },
      "source": [
        "n_rec = 7771\n",
        "plt.imshow(Image.fromarray(x_test_org[n_rec]).convert('RGBA'))\n",
        "plt.show()"
      ],
      "execution_count": null,
      "outputs": [
        {
          "output_type": "display_data",
          "data": {
            "image/png": "[encoded data removed]",
            "text/plain": [
              "<Figure size 432x288 with 1 Axes>"
            ]
          },
          "metadata": {
            "tags": [],
            "needs_background": "light"
          }
        }
      ]
    },
    {
      "cell_type": "code",
      "metadata": {
        "id": "9OczeoNxIb2D",
        "colab": {
          "base_uri": "https://localhost:8080/",
          "height": 67
        },
        "outputId": "c27fabdc-7c50-40e2-a285-640e01c55b7b"
      },
      "source": [
        "x = x_test[n_rec]\n",
        "x = np.expand_dims(x, axis=0)\n",
        "prediction = model.predict(x)\n",
        "print(prediction)"
      ],
      "execution_count": null,
      "outputs": [
        {
          "output_type": "stream",
          "text": [
            "[[4.25010764e-24 3.42128808e-18 2.50968636e-16 1.00000000e+00\n",
            "  8.60313376e-22 9.04522659e-13 4.85260483e-26 7.15482692e-18\n",
            "  3.90962271e-16 1.14342265e-14]]\n"
          ],
          "name": "stdout"
        }
      ]
    },
    {
      "cell_type": "code",
      "metadata": {
        "id": "mAtUm7DRIni0",
        "colab": {
          "base_uri": "https://localhost:8080/",
          "height": 50
        },
        "outputId": "a0f55741-bc49-4354-dcdd-30e3ddfff9a1"
      },
      "source": [
        "prediction = np.argmax(prediction)\n",
        "print(\"То что распознала сеть:\", prediction)\n",
        "print(\"Правильный ответ:\" , y_test_org[n_rec])"
      ],
      "execution_count": null,
      "outputs": [
        {
          "output_type": "stream",
          "text": [
            "То что распознала сеть: 3\n",
            "Правильный ответ: 3\n"
          ],
          "name": "stdout"
        }
      ]
    },
    {
      "cell_type": "markdown",
      "metadata": {
        "id": "Fz0Pn1_dV8JM"
      },
      "source": [
        "## PRO"
      ]
    },
    {
      "cell_type": "markdown",
      "metadata": {
        "id": "4Ba7re9CWEyy"
      },
      "source": [
        "**Задание:** Распознайте рукописную цифру, созданную вами с помощью графического редактора (например, Paint).\n",
        "Последовательность шагов:\n",
        "В графическом редакторе рисуем произвольную цифру.\n",
        "Сохраняем документ и загружаем его в Collaboratory.\n",
        "С помощью функции image.load_img(path, target_size=(28, 28), color_mode = ‘grayscale’) загружаем картинку в переменную.\n",
        "С помощью функции image.img_to_array(img) преобразуем изображение в numpy-массив.\n",
        "Выполняем инверсию цветов, нормирование и решейп массива.\n",
        "Выполняем распознавание собственной рукописной цифры.\n",
        "Реализуйте тот же алгоритм для написанной на листе от руки цифры (для этого необходимо сделать дополнительную предобработку изображения).\n"
      ]
    },
    {
      "cell_type": "markdown",
      "metadata": {
        "id": "m5NsSlXkWMEd"
      },
      "source": [
        "**Решение:**"
      ]
    },
    {
      "cell_type": "code",
      "metadata": {
        "id": "jHNgulTnWRUS",
        "colab": {
          "resources": {
            "http://localhost:8080/nbextensions/google.colab/files.js": {
              "data": "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",
              "ok": true,
              "headers": [
                [
                  "content-type",
                  "application/javascript"
                ]
              ],
              "status": 200,
              "status_text": ""
            }
          },
          "base_uri": "https://localhost:8080/",
          "height": 110
        },
        "outputId": "e83771c9-444f-4918-8b45-7f912e2fe4d2"
      },
      "source": [
        "from google.colab import files\n",
        "files.upload()"
      ],
      "execution_count": null,
      "outputs": [
        {
          "output_type": "display_data",
          "data": {
            "text/html": [
              "\n",
              "     <input type=\"file\" id=\"files-9636f239-28aa-4387-a41d-5f0f85a8067f\" name=\"files[]\" multiple disabled\n",
              "        style=\"border:none\" />\n",
              "     <output id=\"result-9636f239-28aa-4387-a41d-5f0f85a8067f\">\n",
              "      Upload widget is only available when the cell has been executed in the\n",
              "      current browser session. Please rerun this cell to enable.\n",
              "      </output>\n",
              "      <script src=\"/nbextensions/google.colab/files.js\"></script> "
            ],
            "text/plain": [
              "<IPython.core.display.HTML object>"
            ]
          },
          "metadata": {
            "tags": []
          }
        },
        {
          "output_type": "stream",
          "text": [
            "Saving 9.png to 9.png\n"
          ],
          "name": "stdout"
        },
        {
          "output_type": "execute_result",
          "data": {
            "text/plain": [
              "{'9.png': b'\\x89PNG\\r\\n\\x1a\\n\\x00\\x00\\x00\\rIHDR\\x00\\x00\\x01\\x18\\x00\\x00\\x01\\x18\\x08\\x06\\x00\\x00\\x00\\x87\\x8e\\xe9\\x8c\\x00\\x00\\x00\\x01sRGB\\x00\\xae\\xce\\x1c\\xe9\\x00\\x00\\x00\\x04gAMA\\x00\\x00\\xb1\\x8f\\x0b\\xfca\\x05\\x00\\x00\\x00\\tpHYs\\x00\\x00\\x12t\\x00\\x00\\x12t\\x01\\xdef\\x1fx\\x00\\x00\\x16\\x9dIDATx^\\xed\\xdd[\\x88U\\xe5\\xff\\xc7\\xf1\\xc7<\\x8f\\xc7Qg\\x1c\\x1d\\xfdYVj)\\x06\\x99\\x17\\x91\\x10TP\\x94P\\x11t2\\n\\xea\\xa2+!\\xe8F\\xa8.\\x82\\xc0\\x8b\\xb4\\xdb\\x88\\xe8.\\xc2,\\x8c,\\x043\\x0f\\x1d\\xc8\\x0e\\x16j\\nf:\\xe3\\xa1q\\xb41-\\xc7\\xc3\\x98\\x87\\xfe}\\x9e\\xdf~\\xfc\\xaf\\xdfv\\x1dg\\xf6\\xd7\\xbd\\xf7\\xf8~\\xc1\\x97\\x19\\xf7~f\\xad\\xb5\\x0f\\xeb\\xe3\\x9aY\\xdf\\xf5\\xec\\x01\\xff\\xfc\\xcb\\x01\\x80\\x81kJ_\\x01\\xa0\\xe2\\x08\\x18\\x00f\\x08\\x18\\x00f\\x08\\x18\\x00f\\x08\\x18\\x00f\\x08\\x18\\x00f\\x08\\x18\\x00f\\x08\\x18\\x00f\\x08\\x18\\x00f\\x08\\x18\\x00f\\x08\\x18\\x00f\\x08\\x18\\x00f\\x08\\x18\\x00f\\x08\\x18\\x00f\\x08\\x18\\x00f\\x08\\x18\\x00f\\x08\\x18\\x00f\\x08\\x18\\x00f\\x08\\x18\\x00f\\x08\\x18\\x00f\\x08\\x18\\x00f\\x08\\x18\\x00f\\x08\\x18\\x00f\\x08\\x18\\x00f\\x08\\x18\\x00f\\x08\\x18\\x00f\\x08\\x18\\x00f\\x08\\x18\\x00f\\x08\\x18\\x00f\\x08\\x18\\x00f\\x08\\x18\\x00f\\x08\\x18\\x00f\\x08\\x18\\x00f\\x08\\x18\\x00f\\x08\\x18\\x00f\\x08\\x18\\x00f\\x08\\x18\\x00f\\x08\\x18\\x00f\\x08\\x18\\x00f\\x08\\x18\\x00f\\x08\\x18\\x00f\\x08\\x18\\x00f\\x08\\x18\\x00f\\x08\\x18\\x00f\\x08\\x18\\x00f\\x08\\x18\\x00f\\x08\\x18\\x00f\\x08\\x18\\x00f\\x08\\x18\\x00f\\x08\\x18\\x00f\\x08\\x18\\x00f\\x08\\x18\\x00f\\x08\\x18\\x00f\\x08\\x18\\x00f\\x08\\x18\\x00f\\x08\\x18\\x00f\\x08\\x18\\x00f\\x08\\x18\\x00f\\x08\\x18\\x00f\\x08\\x18\\x00f\\x08\\x18\\x00f\\x08\\x18\\x00f\\x08\\x18\\x00f\\x08\\x18\\x00f\\x06\\xfc\\xf3\\xaf\\xd2\\xf7\\xa8\\xb2J\\xbf\\x14\\x03\\x06\\x0c(}\\x97N\\xeb\\xcd;\\x16(\\x82\\x80\\xe9\\x85\\x0b\\x17.\\xe4\\n\\x03\\x8d9u\\xea\\x94\\xeb\\xe9\\xe9)\\xdd\\x92LcO\\x9f>\\xed\\xce\\x9e=[\\xba\\xa5\\xef\\x86\\x0c\\x19\\xe2\\xae\\xb9\\xe6\\x9a\\xccm\\xd5\\x98\\xd1\\xa3G\\xfb\\xf1i\\xb4\\x9c\\x81\\x03\\x07\\xba\\xa1C\\x87\\xbaA\\x83\\x06\\x95n\\x05\\x92\\x110\\x05]\\xbcx1Wh\\xe8\\x88\\xe0\\xef\\xbf\\xffv\\x9b7ov\\xbbv\\xed\\xf2\\xa1\\x94t\\x94\\x10\\xc6n\\xdd\\xba\\xd5\\xb5\\xb7\\xb7\\xfb\\xb1Y\\x14\\ni\\x14\\x04---n\\xd8\\xb0a\\xa5[\\xe2\\xe9\\xf1444\\xb8\\xfb\\xef\\xbf\\xdfM\\x9d:\\xb5t\\xeb\\xe5\\xf46\\xd1v)\\x88f\\xcc\\x98\\xe1\\xc6\\x8e\\x1d\\x9b\\xb9\\r\\x00\\x01S\\x90v\\xc8\\xee\\xeenw\\xe6\\xcc\\x99\\xd4#\\x03\\xed|\\n\\xa1u\\xeb\\xd6\\xb9m\\xdb\\xb6\\xb9\\xf3\\xe7\\xcfg\\x06\\xcc7\\xdf|\\xe3\\xf6\\xec\\xd9\\xe3\\xbfO\\x93\\xb4\\x9c\\xa8\\xc1\\x83\\x07\\xbb\\xd6\\xd6V\\x1f\\x1ei\\xf4xF\\x8c\\x18\\xe1\\x9ex\\xe2\\t7}\\xfa\\xf4\\xc4e\\xeb\\xb1\\xea1466\\xba\\xb9s\\xe7\\xba\\xf1\\xe3\\xc7\\x130\\xc8\\xc4;\\xa4\\x0f\\xb43&U\\x10w_ZUZ\\xdc:z[@Q\\x04L\\r\\xa9\\xf4N\\\\\\x1e\\x10I\\x05X!`\\x00\\x98!`\\x00\\x98!`\\x00\\x98!`\\x00\\x98!`\\x00\\x98!`z)\\xeb\\xecK=\\x9d\\xa1\\t\\xdbZ\\xa4\\x80<h\\xb4+\\xe8\\xdc\\xb9s\\xae\\xb3\\xb3\\xd3\\x1d;v\\xactK<\\xed\\x84j\\xfb\\xdf\\xb8q\\xa3\\xfb\\xf9\\xe7\\x9f3\\x1b\\xed\\xb4\\\\5\\xe4\\xed\\xdb\\xb7\\xcf\\x7f\\x9fF\\xe3\\xb3^65\\xda\\x85N\\xde\\xb4@\\x08\\x9d\\xbc\\x0f<\\xf0@f\\'\\xaf\\x1a\\x00\\xd5`7o\\xde<\\xd7\\xdc\\xdc\\\\\\xba\\'\\x9e\\xd69j\\xd4\\xa8\\xcc\\xcb\\x0f\\xd0\\xbf\\x110\\x05\\xfd\\xf5\\xd7_n\\xcd\\x9a5n\\xcb\\x96->\\x08\\xd2BC;\\xe4O?\\xfd\\xe4\\xda\\xda\\xdaR/\\x15\\x08t\\tBV\\x17o\\x11\\n\\x19u\\xdbf\\xbd\\xc4\\x1a\\xa3\\xc0\\xd05FI\\x14Dz\\xbc\\n\\xad{\\xee\\xb9\\'5\\x8c4v\\xf8\\xf0\\xe1\\xee\\xee\\xbb\\xefv\\x93\\'O\\xa6\\xe3\\xf7*F\\xc0\\x14t\\xfc\\xf8q\\xb7b\\xc5\\n\\xf7\\xd5W_\\xe5j\\xff\\xdf\\xbe}\\xbb;p\\xe0\\x80\\x1f\\x9bGV\\x08\\x15\\x91\\xf7\\xa5\\xd5:\\x15.\\xba~)\\xe9gB\\xc0(0\\xee\\xbb\\xef>7m\\xda\\xb4\\xd2=\\x97\\x0bGE\\x0f?\\xfc\\xb0\\xfb\\xcf\\x7f\\xfe\\xe3\\x97\\x8b\\xab\\x13\\xff\\xb5\\xf4\\x82v\\xc8\"U\\xe4g*)n\\xf9q\\x15\\x1d\\xab\\xa3\\x8d\\xa4*\\x17]F\\\\\\x01\\x04\\x0c\\x003\\x04\\x0c\\x003\\x04\\x0c\\x003\\x04\\x0c\\x003\\x04\\x0c\\x003\\x04L\\x9d\\xd2\\xe9\\xe4JUQy\\xce\\x12\\x159\\x93Td\\x1b\\xca\\xb7=\\xa9P\\x1b\\xe8\\x83)H\\x1d\\xbc\\xef\\xbe\\xfb\\xae\\xdb\\xb0aCf\\xa3\\x9dz_4\\x1foGGG\\xaeyv\\x8b\\xc8\\xb3\\x83\\xab\\xff$\\xefN\\xae\\xb1q\\xa7\\xa2\\x83\\xd0\\x07\\xd3\\xd4\\xd4\\xe4\\x16,X\\xe0&M\\x9a\\x94\\xb8\\xec\\xd0hw\\xef\\xbd\\xf7\\xa66\\xe4\\x05Z\\xef\\x981c2\\xbb~\\xd5W\\xa4>$-?\\x8d\\x96\\xa3\\x8e\\xe3\\xb4\\xbe\\x9e@\\xebV\\x0fP\\xde\\xe7\\t\\xc5\\x100\\x05\\x1d9r\\xc4-_\\xbe\\xdc}\\xf4\\xd1G\\xfe\\r\\x9f\\xb5S\\xfe\\xf9\\xe7\\x9f\\xee\\xe4\\xc9\\x93\\xa5[*C;N\\x08\\x8f\\xa4\\x97/\\xba\\xd3f\\xed<\\xdaNu\\x11g5\\x03j]Z\\xaf\\x96\\x99\\xb6\\xf3\\xeavu\\x11_\\x7f\\xfd\\xf5~\\x92\\xf04Z\\xb7\\x9a\\xf2\\x16.\\\\\\xe8\\x9b\\xf2\\xe2\\xb65<\\xce\\x83\\x07\\x0f\\xba\\x95+W\\xfa9\\x91\\xd3\\x1e\\xd3u\\xd7]\\xe7\\x9ey\\xe6\\x197n\\xdc8\\xbf\\xfc\\xa4\\xed\\x14\\xad[!\\x98\\xd6\\xc5\\x8c\\xde#`\\n:|\\xf8\\xb0[\\xbat\\xa9\\xfb\\xe0\\x83\\x0f\\xfc\\xb5Fi\\x01#\\xdaq+\\xf9Q$\\x12.\\x01H\\xdb\\xc9t\\xbf\\xfe\\x17\\xcf\\xb3\\xe3h\\'\\xd4%\\x10:BI\\xa3\\xf5\\xe9HL\\x8f\\'\\xed\\x88Lo)\\x05\\x90\\xba~5\\xa1x\\x1a\\xad[c\\x16-Z\\xe4n\\xbc\\xf1F\\xbf\\xdd\\xe5o\\xc9\\x100{\\xf7\\xeeuo\\xbd\\xf5\\x96?\\x8aI{\\xdeg\\xce\\x9c\\xe9^|\\xf1E7a\\xc2\\x84\\xcc\\x80\\x199r\\xa4\\xbb\\xe1\\x86\\x1b2?}\\x01\\xbd\\xc3\\xdf`zIo\\xfa\\xac\\xea\\xef\\xe2\\x1esy)\\x08\\xb2*:>\\xcfr\\xe3\\x96\\xa1\\n\\xf7E\\xc7\\xa6-\\x0f\\xf6\\x08\\x18\\x00f\\x08\\x18\\x00f\\x08\\x18\\x00f\\x08\\x18\\x00f\\x08\\x18\\x00f\\x08\\x98\\x1a\\xa2\\xd3\\xa9YU>N\\xa7a\\xafTE\\xb7A\\xa2\\xdb\\x11\\xad \\xef\\x99\\x9a\\xe8\\x99\\x9d\\xf2\\xb3@\\xe5\\x95Gt|\\xda\\xf2\\xc2}\\xb0C\\xc0\\xd4\\x08\\xed\\x98\\xe5;@\\\\\\x85q\\xa1\\xd9n\\xd0\\xa0A\\x89\\x95gL\\xb4\\xc2\\xf8\\xac\\xd2\\xfa\\xf3\\x88\\x86NZ\\x89\\x02L\\xbd5Y%q\\xcbP\\x85\\xfb\\xb4,5\\r\\xc6\\xfd|yil\\xf8\\xb9<\\x85bh\\xb4+(4\\xda}\\xf8\\xe1\\x87\\x99\\x8dvzj\\x8b4\\xdae\\xfd\\x8f\\xaa\\xe5i\\x07W\\xc7\\xab\\x9a\\xc8\\xd4p\\x17v\\x90\\xa80n\\xe2\\xc4\\x89\\x99\\x93~\\x8bv\\xb4\\xdf\\x7f\\xff\\xdd\\xf5\\xf4\\xf4\\x94n\\xb9\\x9c\\x96\\xa1\\x10RW\\xb2&&?q\\xe2D\\xe9\\x9exz,\\x8d\\x8d\\x8d\\x99\\x9d\\xc4\\xdaVm\\xe3]w\\xdd\\xe5\\xa6L\\x99R\\xba\\xf5\\x7f\\xe9\\xe75\\xee\\xd0\\xa1C\\xee\\xd3O?\\xf5\\xdb\\x90\\xb4L\\xdd\\xae\\xce\\xdc\\xc7\\x1f\\x7f\\xdc\\xaf?\\x1cy%\\x19;v\\xac\\x9f\\xc4\\\\\\x976d\\xd1\\xf3\\xad\\xf1z\\x1e\\x90\\x0f\\x01S\\x90e\\xc0\\xe8\\r\\x9cv\\x84\\xa0\\x9dE\\xad\\xed\\x8f=\\xf6\\x98\\xbb\\xfd\\xf6\\xdb}\\x1b\\xbe\\xfe\\xa7.\\x7f\\t\\xf5o\\xed\\x04\\xd7^{\\xad\\xefT\\xcd\\xa2K\\x1e\\xf6\\xec\\xd9\\x93\\x1a\\x1az\\x9c\\xda\\t\\x15.\\x9a\\x93x\\xf7\\xee\\xdd~=I\\xdb\\xaa\\xfb\\xc2QD\\x16-C;n\\xd6\\xb5H\\xea4\\xd6\\xb5`q\\xa1\\x1a\\xa5\\xed\\xd4\\x9c\\xc1z>\\xcb\\x9f\\x9br\\n\\xb5G\\x1ey\\xc4_V\\x91\\xb5\\\\\\x05\\xd6m\\xb7\\xdd\\x96\\xeb9\\xc5\\x7f\\x110\\x05Y\\x06\\x8cv0\\x05CZ\\xc0\\xe8\\xcd\\xfd\\xfc\\xf3\\xcf\\xfb\\x99\\xfdu\\xad\\x8d\\xc2\\xa1\\xfc%\\xd4\\xbf\\xb5sM\\x9f>=\\xb3U_t\\xe4\\xa2\\xc0\\xd0\\xe5\\x02I\\x14|\\n7\\x8d{\\xf3\\xcd7\\xfdG\\xb1h=i\\xdb\\x9a\\xe7\\xfa&\\x0bz\\x0e\\xf5\\x91)i\\xafM\\xa0\\xa3\\xc1\\xa7\\x9f~\\xda\\x07\\\\V\\xc0\\xe8\\xa8\\xf1\\xce;\\xef\\xcc\\xbc\\xbe\\n\\xff\\x8f\\xbf\\xc1\\xd4!\\xed\\xd8Y\\xa5\\x9d%\\xec0\\n\\x81\\xb4\\x92\\xb8e$UQq\\xeb\\xb4\\xaa\\xe8\\xfa\\x140y\\xaa\\xfc\\xe7\\xd2\\n\\xc5\\x100\\x00\\xcc\\x100\\x00\\xcc\\x100\\x00\\xcc\\x100\\x00\\xcc\\x100\\x00\\xcc\\x100}\\x10w\\x86%Z\\xbd\\x15\\xb7\\xacPA\\xdc}\\xd1**n\\x19I\\x95g|\\xb5\\x159\\xe3\\x13\\xb6\\xb7\\xfc1\\xc4\\x15\\x8a!`z!\\x9c\\xdeToHZEO\\x81f\\xd18\\xf5\\xae\\xa8IL\\xfd&I\\xa5\\xaeW\\x8d\\xd1WM\\x87\\xa9\\xef\\xe3J\\xf7i\\xfdyh\\x9c~F=3I\\xa5uk\\x8c\\xbe\\xaa\\x17G}&i\\xa51i==\\x96\\x14\\x04\\xe12\\x80\\xac\\xd2\\xd8\\xf0zi{\\xd3Jc8U]\\x0c\\x8dv\\x05i\\xd2\\xefe\\xcb\\x96\\xb9U\\xabVeN\\xfa\\xad\\xa7V\\x93~\\xab\\xe1,\\x8b\\xde\\xc0\\xea>mnnN|\\x13k\\x87\\xd0\\xce\\xfe\\xdcs\\xcf\\xf9\\x86\\xaf\\xd0\\n\\x1fG\\xcbP\\xe3^\\x9e\\x90\\xd12\\xd4\\x0c\\x98\\xb4,\\xd1\\xf2\\xb4,\\xcd\\x8b\\xfb\\xde{\\xef\\xb9_~\\xf9\\xc5\\x8f\\x8f\\xdbV\\xdd\\xa6\\xe7\\xe6\\xfb\\xef\\xbfw]]]\\xa5[\\xaf\\x8c\\x10\\x18Y\\x97(\\x04\\x9a\\x07\\xf8\\x85\\x17^\\xf0\\xf3\\x17\\xa7\\xed\\n\\xba/\\\\V\\xa0\\xd7\\x00\\xf9p\\x04\\xd3\\x0bag\\xcb*\\x8d\\xcb\\xf3&\\x17\\x8d\\xd7N\\x11\\x8e\\x12\\xb2JG(iG0:\\xc2\\xd12\\xf3\\xd08\\xfdL\\xf4\\x88\\xa5\\xbc\\xb4\\xcep\\xf4\\x14w\\xc4R^\\xd5>\\x82Q)\\x00\\xf3T8z\\tG2q\\x15\\xeeG1\\x04L\\x9dI\\xfb_\\xf6J\\x08;o\\xb5\\xb7#\\x8f\\x10\\xf0qU\\xae\\x1e\\x1eO=\"`\\x00\\x98!`\\x00\\x98!`\\x00\\x98!`\\xfa \\xfa\\xf7\\x88\\xb4Bu\\xc4\\xbd\\x16\\xe5\\x15\\xc6\\xc1\\x06\\x01\\xd3\\x0b\\xfa#a8S\\x94Uq\\x7fP\\xec\\x8b\\xf2\\xe5\\x95\\xef0\\xd1\\xd2\\x19\\x92\\xbc\\xfd \\x9a\\xb7%\\xab4\\xae|\\xf9q\\x15\\x1dS-y_\\xa3\\xe88}\\x9fTa\\x99(\\x86>\\x98\\x82\\x8e\\x1e=\\xea\\xdey\\xe7\\x1d\\xb7n\\xdd:?\\xc3Z\\xd2\\x9bN\\xb7k\\xa7lkk\\xf3\\xd3Qj\\xc7K\\xa3S\\xd43f\\xcc\\xf03\\xac\\xe9\\xcd\\x1e\\xf7\\xb2h\\x19:e\\xfc\\xd4SO\\xb9;\\xee\\xb8\\xc3\\xf7eh\\x1dqcu\\xdb\\x993gr\\xcd(\\'\\x9atJ\\xcbJz<\\xda&\\x9d\\x16ooo\\xbf\\xd4\\x07\\xa3u\\xc4\\x8d\\xd7m\\xea\\x83\\xd1\\xa4T\\xfa\\x1c\\xe9+M\\xa7\\xd2[[[\\xfds\\x9a\\xf4\\xf6\\x0e\\xb7\\xebs\\xa9\\x17/^\\xec\\xfb`\\xb2^#=\\xf7\\xfa`}=\\x0f\\xc8\\x87\\x80)H\\xd3J\\xae]\\xbb\\xd6m\\xdd\\xba\\xd5\\xef\\xbci\\x01\\xa3\\x9d\\xf6\\x8b/\\xbep;w\\xee\\xcc\\xfc`y\\xbdig\\xcf\\x9e\\xed\\xa7\\xb9T\\xbfE\\xdc\\xcb\\xa2\\x1d@\\xbd(\\x0f>\\xf8\\xa0o\\xf8R\\xbfIR\\xc0h\\xdb\\xd4\\x14\\x986\\xcfn\\xa0\\xe5*8\\x15HI\\x140\\xdaq\\xf7\\xef\\xdf\\xefV\\xae\\\\\\x99k\\xca\\xcc\\xee\\xee\\xee\\xcc\\xc7mA\\xcd\\x8a\\x9a\\xf1O\\xcf\\x8f\\xb6#\\xee\\xf9\\t\\xc2\\x8cv\\n\\x98,z\\x0e\\xf26\\xf0\\xe1\\xbf\\xf8\\x15\\xa9 \\xbd\\xb9\\xd4\\xd2\\xaf@\\xd0\\x9b-\\xad4Fo\\xca\\xbc\\xb4\\xec\\xac\\n\\xcb\\x0b;NZ)d\\x14@yJ\\x9d\\xbc:\\xea\\xc8[\\n\\x8e\\xacRpi;\\xae\\xb4p\\xb4\\x15^\\xa3\\xf0}Z)<\\xb3J\\xe3\\xf4\\x1a ?\\x02\\xa6\\xa0\\xf2\\x9d8\\xab\\xaa\\xa9<\\x9c\\xaetUS\\xdck\\x91T\\xb0C\\xc0\\x000C\\xc0\\x000C\\xc0\\x000C\\xc0\\x000C\\xc0\\x000C\\xc0\\xd4\\x90\\xb831q\\xa5\\xd3\\xb0\\xd5\\xaa\\xb0\\r\\xb5,\\xeeLQZ\\xc1\\x0e\\x01\\xd3Kqo\\xd4h\\xf5\\x86\\xfaF\\xd4\\xbb\\xa2\\xd2\\xf7q\\xa5\\xfb\\xe2zN\\xfaZq\\xbd1\\xe5\\x15\\xc6E\\x1f_\\xf9\\xe3\\x0e%\\xd5\\n\\xa3\\xa2!\\x0c;t\\xf2\\x16\\xa4\\xee\\xd4\\xf5\\xeb\\xd7\\xbb\\xed\\xdb\\xb7\\xfb\\x9d-i\\x07\\xd2\\x1bW]\\xb4\\x9f\\x7f\\xfe\\xb9o\\x99\\xd7\\xce\\x99F3\\xa6\\xa9\\xab\\xb4\\xa9\\xa9)\\xf1M\\xaf\\x97J\\x8dc\\xf3\\xe7\\xcf\\xf7-\\xeej\\xfeR\\xe0\\xc4\\xbd\\x84\\n#}P\\xbc\\x9a\\xe2\\xb2h\\x19\\xfa\\\\\\xea\\xb4\\xb1z\\x9cZ\\xb7\\xa6\\xc0\\xdc\\xbcy\\xb3\\xeb\\xec\\xec\\x8c]o\\xa0\\xfb\\xb4<-\\xfbJ\\x87\\xcc\\xd4\\xa9S\\xdd\\x93O>y\\xe9\\x03\\xed\\xd3\\xb6s\\xf2\\xe4\\xc9\\xbe3Z\\xd3\\x8f\\xa2\\xf2\\x08\\x98\\x82\\x140\\x1b7n\\xf4\\xa1\\x91\\xb6\\xf3\\x84\\x80\\xf9\\xec\\xb3\\xcf|\\x18e\\xed\\xe8ZN\\x9ei\\x195N\\xd3Q\\xea\\x92\\x01\\x8d\\xd5\\x0e\\x94$\\xef\\x0e\\xae\\xb7@RPEi9\\nU]R\\x90\\x15\\x98\\xa2\\xe5e\\xad\\xbb\\xd2\\xb4>]\\xd3\\xb5d\\xc9\\x12\\x1f\\xd6Y\\x8fK\\xd7s\\xddz\\xeb\\xad\\xfe:#T\\x1e\\x01S\\x90\\x02f\\xd3\\xa6M\\xb9\\x03F\\xd7-\\xe5\\t\\x98\"t\\xe4\\xa2\\xa3\\x89\\xb4\\x9dW/\\xab\\x82 \\xed(+*\\xec\\x88W:\\x10*M\\xdb?s\\xe6L\\xf7\\xd2K/\\xf9k\\x92\\xf4\\xb8\\xd2\\xe8(g\\xee\\xdc\\xb9~\\xceaT\\x1e\\xbf\\x80\\xd6\\x19\\xed@\\n/\\x95\\x8e`\\xd2Jc\\xf3T\\x7f\\xa5\\xc0\\xccS\\xb0C\\xc0\\x000C\\xc0\\x000C\\xc0\\x000C\\xc0\\x000C\\xc0\\xf4A\\xdc\\x1f\\x0c\\xcb\\x0b\\xb8\\x9a\\x110\\xbd\\x10\\xce\\xbe\\x84\\xb39\\x95*\\x89\\x0b\\xa9\\xf2\\x8a\\x8a\\xbb_%\\xfd\\xed,Qx\\\\y\\xe5y\\xfc\\xfd\\xe9\\xf9\\xa9E\\xf4\\xc1\\x14\\xa4\\xde\\x92\\x1d;v\\xb8\\x03\\x07\\x0e\\xa4\\xf6\\xc1\\xe8v\\x8d]\\xb3f\\x8d\\xfb\\xf1\\xc7\\x1f}cZ\\xda\\x9bY/\\x83>(\\xff\\xe4\\xc9\\x93\\xa5[\\x92\\xa9\\x07&\\x9c\\x86N\\xa2\\xe5\\x15\\xe9\\xa4\\r\\x97\"\\xe4\\x19[\\rz<\\naMW\\x9a\\xb4\\x8d\\x1a\\xa3\\xfbn\\xbe\\xf9f\\xf7\\xea\\xab\\xaf^\\xea\\x83I{\\x8b\\xabiQ\\x1f\\x80\\xaf\\xc6ET\\x1e\\x01S\\x90v\\xc2\\xbc\\x9d\\xacj\\xca[\\xbdz\\xb5\\xfb\\xee\\xbb\\xefR\\x1b\\xdet\\xbb\\x96\\xa7\\xe6=M\\xaa\\x9d\\x15\\na\\xa7\\xc9z\\xe9\\x8a\\xbc\\xb4\\x1a\\x9b\\xb6\\xcej\\xd3\\xf6)\\\\\\x14\\x08\\xe1h\\xaf\\\\x\\x0c\\xb7\\xdcr\\x8b[\\xb6l\\x99kii\\xc9\\x0c\\x18\\x85\\xf5\\xb8q\\xe3|\\x175*\\x8f_\\x91\\n\\xd2\\x1bXoJ\\xfd\\x8f\\x97V\\xea\\xb6U\\xfb\\xb9\\xbe/\\x9f`:\\xae\\xc2QIXGR\\x89v\\x98p\\xc4\\xa1\\xef\\x93\\xaa\\x88\\xb0\\xecZ\\xa7\\xed\\x8c\\xfeZY^\\xe1y\\xd2\\xf7\\xa1\\xe1P\\xe1\\x11W\\xbaO\\xe3`\\x87g\\xb7\\x17\\xe2v\\xe6\\xb8*26\\x14*\\'\\xee\\xf9\\x8d\\x16\\xec\\x110\\x00\\xcc\\x100\\x00\\xcc\\x100\\x00\\xcc\\x100\\x00\\xcc\\x100W@\\xdc\\x1f\\x18\\xfbZ@= `\\x8cEO\\x97f\\x95\\xfa<T\\xe1\\x14j\\\\EO\\xb1V\\xb2\\xb4^\\x9d*\\x0f\\xdb\\x10W\\xba_\\x15\\xb6!\\xad\\xb4L\\x8bS\\xdfY\\xcb\\xb4X\\'z\\x8fF\\xbb\\x82\\xf4t\\xa9yK=(i\\xf4F\\xd7\\x07\\xca\\xab\\xc9n\\xf7\\xee\\xdd\\xb9\\x1a\\xed4\\xee\\xd0\\xa1C\\xa9\\xcb\\xd6}G\\x8f\\x1eu\\'N\\x9c\\xc8l\\xc8\\xcbK\\xcb\\xd0\\xccn\\n\\x914\\n\\xcb0ef\\xd6\\xe3\\xd1\\xfd\\xeav>u\\xeaT\\xe9\\xd6\\xbe\\xd3\\xf6i\\x8aK\\x85W\\x1c\\xbd6Z\\xb7\\x1a\\xed\\xdex\\xe3\\r?\\xdfn\\xe8\\x15J\\xa2e\\xa55\\xef\\xa1o\\x08\\x98^\\xc8\\xfb\\x94i\\x9cvF\\x05M\\xd6\\xcf(,\\x8e\\x1f?\\xee\\'\\xdfN\\x1a\\xab\\x9dG\\xed\\xff\\xba\\xf4\\xa0\\xad\\xad\\xcd/[;F\\xd2\\x8e\\x9e\\x87\\xd6\\xa5\\xa3\\x92Y\\xb3f\\xb9\\xd1\\xa3G\\xa7\\x86\\x86\\xd6\\xa5u\\x1e>|8584N\\xf7\\x7f\\xfc\\xf1\\xc7n\\xdf\\xbe}\\xb9\\x9f\\xaf,jHT\\xfb\\x7f\\x9e\\x80Y\\xbe|\\xb9\\x9b6mZ\\xaeu\\'-\\x0f}G\\xc0\\xd4\\x08\\xfd\\x8f\\xaf#\\x93<\\x01\\xf3\\xed\\xb7\\xdf\\xba={\\xf6\\xb8\\xd3\\xa7O\\xf7\\xf9W\\x11\\xadKG\\x06\\xb3g\\xcf\\xf6G\\x07y\\x02\\xa6\\xa3\\xa3\\xc3\\x07H\\xd2\\xd8\\x100+V\\xacp\\xed\\xed\\xed\\x15\\r\\x98\\x89\\x13\\'\\xe6>\\x82Q\\xc0\\xa0\\xba8.\\xac\\x11\\xda9t\\x14\\x93\\xa7t\\xd8\\x1f\\x0e\\xfd+Ua\\x99\\x95,\\x80\\x80\\x01`\\x86\\x80\\x01`\\x86\\x80\\x01`\\x86\\x80\\x01`\\x86\\x80\\x01`\\x86\\x80\\xa9Cqg\\x81\\xfaZ\\xf5\"n\\xdb\\xcb\\x0b\\xb5\\x83\\x80\\xa93\\xea\\xf3P\\x1fH(\\xf5\\x9c\\xf4\\xb5B/MVil\\xf8^\\xe2v\\xeeP\\x16\\xc26dU\\xd8>T\\x1f\\x8dv5B\\xfd-\\x9a\\xf4[\\xcdsI/\\x89v\\x1c\\x8d\\xfb\\xf5\\xd7_]gg\\xa7o\\xba\\xd3\\x0e\\xd5\\x17Z\\x97\\xae\\x1d\\x9a:u\\xaa\\x9f\\xe23m\\xdd\\x1aw\\xec\\xd81\\xb7m\\xdb6\\xd7\\xd5\\xd5U\\xba\\xe7r\\xda&=\\x8eO>\\xf9\\xc4_.P\\xa9\\xb7X\\xf8\\xa0z5\\xdc\\xc5\\xf5\\xd9h=\\xdaNu%/Y\\xb2\\xc4\\xb5\\xb6\\xb6\\x96\\xeeA\\xb5\\x1005$4\\xd1e\\xd1\\xa5\\x07\\xea\\xfc\\xad\\xe4K\\xa7n^\\x1d\\xc9\\xa4-S\\xc1\\xa1\\xd6\\xffU\\xabV\\xf9\\x90\\xd3\\xb6\\xc6\\x1d-\\xe86m\\xe3\\x97_~\\xe9/+\\xa8\\xc4vj\\x99S\\xa6Lq\\x8f>\\xfa\\xa8\\xbf\\xa4!\\xe9y\\xd28\\x05\\xcbC\\x0f=\\xe4\\'\\xf3Fu\\x110(d\\xef\\xde\\xbd\\xee\\xfd\\xf7\\xdfw\\xbbv\\xed\\xca\\x0c\\x98\\xaf\\xbf\\xfe\\xda\\x1d9r\\xa4b\\x01\\xa3\\xa3\\xacE\\x8b\\x16\\xf9#\\x99\\xb4eN\\x9a4\\xc9-\\\\\\xb8\\xd0566\\x96nA\\xb5\\xf07\\x18\\xf4\\x9av\\xfa\\xa4\\xb2\\xa2`\\xc9S\\xa8\\r\\x04\\x0c\\x003\\x04\\x0c\\x003\\x04\\x0c\\x003\\x04\\x0c\\x003\\x04\\x0c\\n\\x0b\\x7fH\\xd5Y\\xa4\\xa4\\xe2\\x0f\\xad\\x10\\x02\\x06\\x85\\xa8\\xffF\\xb3\\xee\\xfd\\xf1\\xc7\\x1f\\xbe\\xe9.\\xa94\\xfd\\xa7\\x1a\\x01\\t\\x9a\\xab\\x1b\\x01\\x83B\\x140\\x9ap\\\\!\\xa2\\x90I*\\xdd\\xaf\\x89\\xccqu#`PH\\xf4\\xd7\\xa3\\xf0}\\\\\\x01B\\xc0\\x000C\\xc0\\x000C\\xc0\\x000C\\xc0\\x000C\\xc0\\x000C\\xc0\\xa0\\xee\\xc4\\x9d\\xb5*/\\xd4\\x06\\x02\\x06^y\\'n\\\\\\x05a\\'\\x8e\\x1b\\x13\\xadJ\\xd34\\x10\\x9aUO\\x93c\\xe9kZYN\\x19\\x81\\xfc\\x98p\\n>\\x0c4\\xc5\\xa5\\x9a\\xe8\\x92vL\\xcdf7l\\xd80\\xb7c\\xc7\\x0e\\xf7\\xfa\\xeb\\xaf\\xfb\\x0f\\xe0\\xd7[\\'i\\xbcf\\xe7\\xd3lv\\xfa,\\xebJ\\xd0zn\\xba\\xe9&\\xf7\\xf2\\xcb/\\xbb\\xa6\\xa6\\xa6\\xc4\\x00\\xd36iB\\xaa9s\\xe6\\xb8\\x86\\x86\\x86\\xd2\\xad\\xa8\\x16\\x02\\x06>X\\xd4}\\xab\\xd6\\xfe$\\x9aNSs\\xf6\\xee\\xdc\\xb9\\xd3-]\\xba\\xd4m\\xd9\\xb2%5`\\x14\\x00\\xea\\xf8M[f\\x11\\n\\xb8y\\xf3\\xe6\\xb9\\xb7\\xdf~\\xdbO\\x89\\xa9\\x00K\\xa2#\\x9cQ\\xa3F\\xf9mFu\\xf1+\\x12.Q`\\xa4U\\x9e1\\xa1,(\\xcc\\x86\\x0c\\x19\\xe2\\x7f\\x05R\\x88\\xc4\\x95\\xee\\x0b\\x9f\\x92\\x80\\xea#`P\\x97\\xe2B-Z\\xa8\\r\\x04\\x0c\\x003\\x04\\x0c\\x003\\x04\\x0c\\x003\\x04\\x0c\\x003\\x04\\x0c\\x003\\x04\\x0c\\x003\\x04\\x0c\\xfci]5\\xc6\\x85\\xcf\\xc6N\\xaap\\x7f8\\r\\x1c=-\\x9cT\\x16\\xe2\\xd6\\x13\\n\\xb5\\x85\\x80\\x81\\x0f\\x8e\\xa3G\\x8f\\xbaC\\x87\\x0e\\xb9\\x8e\\x8e\\x8e\\xd4R\\xfb\\xbf&\\xfd\\xd6\\xa5\\x05\\xba\\x0c \\xad\\xb4\\\\\\x8b\\x9d^]\\xbdI\\xa5\\x06;\\x9a\\xecj\\x07\\x01\\x03\\x7f\\xa9@WW\\x97\\xfb\\xed\\xb7\\xdfR\\xeb\\xc0\\x81\\x03>\\x84\\xba\\xbb\\xbb]OO\\x8f\\x0f\\x99S\\xa7N\\xc5V\\x08\\x98J\\xef\\xec!@\\x92*\\x04\\rj\\x03\\xaf\\x04\\xbc\\xe8\\xafAi\\x15~E\\xca:2\\xd1\\xfd\\xda\\xe1-\\xf0\\xabP\\xfd `\\xf0?\\xca\\x8f\\x08\\xe2\\n\\xc8\\x8b\\x80\\x01`\\x86\\x80\\x01`\\x86\\x80\\x01`\\x86\\x80\\x01`\\x86\\x80\\xc1%q\\x7f\\xd0-/\\xa0\\x08\\x02\\x06\\xfe\\xb4o\\xd6)j\\xf5\\xca\\xa8\\xf4=\\xa7\\x89\\x91\\x17\\x01\\x03\\x1f\\x1c\\xea\\xd0\\xdd\\xbf\\x7f\\x7fj\\xed\\xdb\\xb7\\xcf7\\xda\\xa9\\xc9\\x8e\\x90A\\x1e\\x04\\x0c|\\xc0\\x1c9r\\xc4\\x07H{{\\xbb\\xff\\x1aWmmm\\xfer\\x01\\x05\\x0c\\x90\\x07\\x01\\x03/\\xab\\x937\\xfa+\\x92\\xc6\\x01y\\x100\\xf0\\xc2\\x1fp\\xcb\\xff\\xa8\\x9bT@\\x1e\\x04\\x0c\\x003\\x04\\x0c\\x003\\x04\\x0c\\x003\\x04\\x0c\\x003\\x04\\x0c\\x003\\x04\\x0c\\x003\\x04\\x0c\\x003\\x04\\x0c\\x003\\x04\\x0c\\x003\\x04\\x0c\\x003\\x04\\x0c\\x003\\x04\\x0c\\x003\\x04\\x0c\\x003\\x04\\x0c\\x003\\x04\\x0c\\x003\\x04\\x0cj\\xc2\\xc0\\x81\\x03\\xdd\\xa0A\\x83\\x12k\\xf0\\xe0\\xc1~\\x8c0\\x1fM\\xfd `Pu\\xfa\\xb0\\xfa\\xc6\\xc6F\\xd7\\xd2\\xd2\\xe2&M\\x9atY\\xe9\\xf6\\xe6\\xe6f7a\\xc2\\x84KA\\x13\\x17B\\xa1\\xf8\\xf0\\xfb\\xda\\xc1+\\x81\\xaaS 444\\xb8\\xd1\\xa3G\\xbbQ\\xa3F%\\x96\\xc6h\\xac\\x02&\\xad4\\x86\\xa3\\x9c\\xda@\\xc0\\xa0&\\x84@\\x08Sr&\\x95\\xa4}\\xa2\\x01\\x9fvP[\\x08\\x18\\x00f\\x08\\x18\\x00f\\x08\\x18\\x00f\\x08\\x18\\x00f\\x08\\x18\\x00f\\x08\\x18\\xd4\\x84p\\xf6G_\\xd3\\n\\xf5\\x85\\x80A\\xd5\\xe9\\xf4s\\\\?K\\\\\\x85\\xf1I\\xd2\\xee\\xc3\\x95G\\xc0\\xa0\\xea\\x14\\x1c\\xea\\xd2mmmM\\xad\\xa6\\xa6&\\xdf\\xc9\\xabn]}M*\\xddO\\xd0\\xd4\\x06\\x02\\x06U\\xa7\\xce\\xdb\\x11#F\\xb81c\\xc6\\xa4\\xd6\\xc8\\x91#\\xfd\\xd8<\\xdd\\xbc\\xa8\\r\\x04\\x0cjB8\\xe2\\xd0\\xd7\\xa4\\n\\xf7\\xa3~\\x100\\x00\\xcc\\x100\\x00\\xcc\\x100\\x00\\xcc\\x100\\x00\\xcc\\x100\\x00\\xcc\\x100\\x00\\xcc\\x100\\xa8\\tq\\x97\\x05\\x94W\\x18\\x87\\xfaA\\xc0\\xa0\\xea\\xd4\\xdb\\xa2\\xe6\\xb9\\xe8\\xbc\\xba\\xe5\\xa5\\xe69\\xa6\\xc2\\xac?\\x04\\x0c\\xaaN\\xe1\\xa1\\xcb\\x00\\xe2.\\x0f\\x085e\\xca\\x14?\\xf1\\xb7\\xc2\\x06\\xf5\\x83\\x80A\\xd5E/\\x15\\x18;v\\xece\\x97\\x08\\x84\\xdb4FcQ?x\\xb5P\\x13\\xca/\\x07\\x88V\\xf46\\xd4\\x17\\x02\\x06\\x80\\x19\\x02\\x06\\x80\\x19\\x02\\x06\\x80\\x19\\x02\\x06\\x80\\x19\\x02\\x06\\x80\\x19\\x02\\x06\\x80\\x19\\x02\\x06\\x9eN\\x01\\xab\\xc7$\\xab\\xc2\\xe9\\xe2<U\\xa4\\xad?\\xfas\\xe5\\xc2mq\\xf7\\xa1\\xb6\\x110\\xf0\\x9d\\xb4jfS7\\xadJ\\x13p\\x97W\\xb8o\\xfc\\xf8\\xf1\\xae\\xa1\\xa1\\xc1O\\xae=d\\xc8\\x90\\xd4\\xd2r\\xf3\\x84\\x8c\\x82K\\xe3\\x87\\r\\x1b\\xe6\\x86\\x0f\\x1f\\x9eXC\\x87\\x0e\\xf5cQ?x\\xb5\\xe0\\x8f\\x0c\\xb4\\x03\\xabSV\\x13k\\'\\xd5\\xa8Q\\xa3\\xfc\\x980s\\xbf\\x02$z\\xbdP\\xb4t_\\x11i\\xcb\\nUt\\x99\\xa8>\\x02\\x06\\x97\\xfd\\n\\xa2\\xafYe!n=*\\xd4/\\x02\\x06\\x80\\x19\\x02\\x06\\x80\\x19\\x02\\x06\\x80\\x19\\x02\\x06\\x80\\x19\\x02\\x06\\x97MG\\xa9\\xafy*kl\\x10w_\\xb4\\x82\\xb8\\xfbT\\xa8_\\x03\\xfe}\\x01y\\x05\\xafr\\'N\\x9cp\\x9b6mr\\x87\\x0f\\x1f.\\xddr\\xb9\\xd0\\xabr\\xe8\\xd0!\\xb7v\\xedZ\\xb7\\x7f\\xff\\xfe\\xd2=\\xf1.^\\xbc\\xe8\\x8e\\x1e=\\xea\\xce\\x9e=[\\xba%\\x9e\\xde~\\xea\\xady\\xf6\\xd9g\\xdd\\xacY\\xb3\\xfcz\\x92\\xde\\x92\\xea\\xc3Y\\xb0`\\x81?]\\x8e\\xfa@\\xc0\\xc0]\\xb8p\\xc1uww\\xbb\\xf3\\xe7\\xcf\\x97n\\x89\\xa7\\x9d\\xbf\\xb3\\xb3\\xd3m\\xd8\\xb0\\xc1\\x1d<x01\\x084\\xee\\xcc\\x993n\\xfd\\xfa\\xf5>\\x90\\xd2(\\x88\\xd4\\xe4\\xf7\\xca+\\xaf\\xb8y\\xf3\\xe6\\xf9\\xd3\\xd2I\\xcbU\\x0f\\xce\\xb4i\\xd3|\\xc3\\x1d\\xea\\x03\\x01\\x83B\\x140:\\xdaQ\\xc0$Q\\xc0\\x9c>}\\xda\\xad^\\xbd\\xda\\x1f\\xe9\\xa4\\xbd\\xc5\\x14n\\n\\x98\\xd7^{\\xcd\\xcd\\x9f??\\xf5\\x08F\\x9d\\xbe---\\xbe\\xd1\\x0f\\xf5\\x81\\xbf\\xc1\\xa0\\x10\\xed\\xfcy\\xffO\\nc\\xf3\\x8c\\xcf\\xbbL\\xd4\\x17\\x02\\x06\\x80\\x19\\x02\\x06\\x80\\x19\\x02\\x06\\x80\\x19\\x02\\x06\\x80\\x19\\x02\\x06\\x80\\x19\\x02\\x06\\x80\\x19\\x02\\x06\\xbd\\x12=\\x05\\x9d\\xa7\\xd4P\\x17W\\xba/(\\xff\\x99\\xb8B}\\xa1\\xd1\\x0e\\x85tuu\\xb9\\x1f~\\xf8\\xc1_V\\x90\\xf4\\xd6Q7nOO\\x8f\\xdb\\xb8q\\xa3\\xeb\\xe8\\xe8(\\xdd\\x1aO!3z\\xf4h\\xb7x\\xf1b7g\\xce\\x9c\\xd4F;u\\xf0j\\xfaN\\x1a\\xed\\xea\\x07\\x01\\x83Bt9\\xc1\\xa9S\\xa7\\xdc\\xb9s\\xe7J\\xb7$\\xd35NY\\xe3\\xf4\\xf6\\xd3T\\x98\\xcd\\xcd\\xcd\\xbeS7m\\x06;\\xdd\\xa7\\xa93\\x99\\xe5\\xae~\\x1000S\\xe4\\xadEh\\xf4O\\x04\\x0c\\x003\\xfc\\x91\\x17\\x80\\x19\\x02\\x06\\x80\\x19\\x02\\x06\\x80\\x19\\x02\\x06\\x80\\x19\\x02\\x06\\x80\\x99\\x01\\x17/^\\xe4,\\x12\\xae\\x18\\x9d\\x8e\\xeeO\\'.\\xfb\\xdb\\xe3\\xa9\\xb4\\x01\\xe7\\xcf\\x9f\\xffG\\xdd\\x94\\xfdA\\xb4\\x97\\xa2?\\xbc\\xe8\\xe1\\xf1\\xf4\\x977p\\x7f|<\\xaa\\xfe\\xb2\\xffHe_#\\xe7\\xfe\\x0f\\x1f\\xf9\\x94e\\xe0=.\\x9c\\x00\\x00\\x00\\x00IEND\\xaeB`\\x82'}"
            ]
          },
          "metadata": {
            "tags": []
          },
          "execution_count": 84
        }
      ]
    },
    {
      "cell_type": "code",
      "metadata": {
        "id": "UXtzMHx7YcLf",
        "colab": {
          "base_uri": "https://localhost:8080/",
          "height": 282
        },
        "outputId": "d3cabe96-50b7-4ccf-d180-9484d591ce4c"
      },
      "source": [
        "img = image.load_img('9.png', target_size=(28, 28), color_mode = 'grayscale') \n",
        "digital_arr = image.img_to_array(img)\n",
        "plt.imshow(img) # отрисуем картинку, чтобы посмотреть правильность загрузки"
      ],
      "execution_count": null,
      "outputs": [
        {
          "output_type": "execute_result",
          "data": {
            "text/plain": [
              "<matplotlib.image.AxesImage at 0x7f8fe012ccc0>"
            ]
          },
          "metadata": {
            "tags": []
          },
          "execution_count": 85
        },
        {
          "output_type": "display_data",
          "data": {
            "image/png": "[encoded data removed]",
            "text/plain": [
              "<Figure size 432x288 with 1 Axes>"
            ]
          },
          "metadata": {
            "tags": [],
            "needs_background": "light"
          }
        }
      ]
    },
    {
      "cell_type": "code",
      "metadata": {
        "id": "tUCTe5fAheJ3",
        "colab": {
          "base_uri": "https://localhost:8080/",
          "height": 50
        },
        "outputId": "491e24b1-dcd4-4bad-8213-f74b30f001dc"
      },
      "source": [
        "print(\"Размер до решейпа:\",digital_arr.shape)\n",
        "my_test = digital_arr.reshape(784, 1)\n",
        "print(\"Размер после решейпа:\",my_test.shape)\n",
        "\n",
        "# нормализация\n",
        "my_test = my_test.astype('float32') \n",
        "my_test = my_test / 255 \n",
        "\n",
        "my_test = abs(my_test - 1) # инверсия цвета"
      ],
      "execution_count": null,
      "outputs": [
        {
          "output_type": "stream",
          "text": [
            "Размер до решейпа: (28, 28, 1)\n",
            "Размер после решейпа: (784, 1)\n"
          ],
          "name": "stdout"
        }
      ]
    },
    {
      "cell_type": "code",
      "metadata": {
        "id": "x4qQY1MNfRsD",
        "colab": {
          "base_uri": "https://localhost:8080/",
          "height": 67
        },
        "outputId": "fe88d42b-7c38-43b8-e4c4-424256567b3c"
      },
      "source": [
        "my_x = my_test.reshape(1, 784)\n",
        "my_prediction = model.predict(my_x)\n",
        "print(my_prediction)\n",
        "\n",
        "result_prediction = np.argmax(my_prediction) \n",
        "print(\"Результат: \", result_prediction)"
      ],
      "execution_count": null,
      "outputs": [
        {
          "output_type": "stream",
          "text": [
            "[[2.2565042e-12 6.3521594e-10 5.2226769e-12 7.3468809e-10 5.6194345e-05\n",
            "  4.6832944e-11 1.1941864e-14 3.7349971e-06 1.2198837e-09 9.9994004e-01]]\n",
            "Результат:  9\n"
          ],
          "name": "stdout"
        }
      ]
    }
  ]
}