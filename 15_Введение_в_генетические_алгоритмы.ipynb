{
  "nbformat": 4,
  "nbformat_minor": 0,
  "metadata": {
    "colab": {
      "name": "15_Введение в генетические алгоритмы",
      "provenance": [],
      "collapsed_sections": [
        "Y4-C4q5LZYZ2",
        "xHztQmYirWG5"
      ],
      "toc_visible": true,
      "authorship_tag": "ABX9TyMtOOjgJCT5cVfxReYOsxbs",
      "include_colab_link": true
    },
    "kernelspec": {
      "name": "python3",
      "display_name": "Python 3"
    },
    "accelerator": "GPU"
  },
  "cells": [
    {
      "cell_type": "markdown",
      "metadata": {
        "id": "view-in-github",
        "colab_type": "text"
      },
      "source": [
        "<a href=\"https://colab.research.google.com/github/VVKate/Neural_University_HomeWorks/blob/main/15_%D0%92%D0%B2%D0%B5%D0%B4%D0%B5%D0%BD%D0%B8%D0%B5_%D0%B2_%D0%B3%D0%B5%D0%BD%D0%B5%D1%82%D0%B8%D1%87%D0%B5%D1%81%D0%BA%D0%B8%D0%B5_%D0%B0%D0%BB%D0%B3%D0%BE%D1%80%D0%B8%D1%82%D0%BC%D1%8B.ipynb\" target=\"_parent\"><img src=\"https://colab.research.google.com/assets/colab-badge.svg\" alt=\"Open In Colab\"/></a>"
      ]
    },
    {
      "cell_type": "markdown",
      "metadata": {
        "id": "lQCOTWlrrRn9"
      },
      "source": [
        "#Домашнеее задание: Июльский курс (2020). Pro. Занятие 15\n",
        "##Введение в генетические алгоритмы\n",
        "##Верхошинская Катерина Викторовна"
      ]
    },
    {
      "cell_type": "markdown",
      "metadata": {
        "id": "Y4-C4q5LZYZ2"
      },
      "source": [
        "## **LIGHT**"
      ]
    },
    {
      "cell_type": "markdown",
      "metadata": {
        "id": "rOxVr3tyF0o8"
      },
      "source": [
        "### **Задание:**\n",
        "\n",
        "1. С помощью генетического алгоритма найдите точку, где функция от трёх переменных: f = x^2/y + z*(12-z) + 5*y/x  равна 0 (символ ^2 -возведение в квадрат). Интервал изменения каждой переменной x, y, z и вывести на экран значение этой точки и значение функции в ней\n",
        "2. Проведите анализ скорости сходимости до заданной вами точности (выберите точность, близкую к минимуму в прошлом примере) и заполните таблицу - какими были параметры и за сколько эпох алгоритм дошёл до нужной точности\n",
        " 1. Выберите три разные размера популяции\n",
        " 2. Выберите три разные коэффициента мутации\n",
        " 3. Выберите три разных количества выживших\n",
        "3. Решите задачу расстановки грузов по поездам в усложнённом варианте, добейтесь полного распределение грузов по поездам:\n",
        "  1. Поезда - 1, 12, 72, 4, 55, 1\n",
        "  2. Грузы - 1, 1, 1, 1, 4, 3, 3, 3, 1, 27, 31, 7, 7, 11, 22, 7, 7, 8\n",
        "4. Решите задачу расстановки грузов по поездам с дополнительным условием - надо заполнить поезда максимально равномерно, но можно не полностью, грузов будет не для полного заполнения (для решения доработайте функцию оценки качества бота):\n",
        "  1. Поезда - 10, 10, 10, 12, 12, 12\n",
        "  2. Грузы - 1, 1, 1, 1, 2, 2, 2, 2, 3, 3, 3, 3, 4, 4, 5, 5, 6, 6\n"
      ]
    },
    {
      "cell_type": "code",
      "metadata": {
        "id": "TtQQ65IZq_lY"
      },
      "source": [
        "import numpy as np\n",
        "import pandas as pd\n",
        "from matplotlib import pyplot as plt\n",
        "%matplotlib inline"
      ],
      "execution_count": null,
      "outputs": []
    },
    {
      "cell_type": "code",
      "metadata": {
        "id": "fEB6gVtWPPUT"
      },
      "source": [
        "class General_Class_GA():\n",
        "    def __init__(self, n, l, split=0.2, reverse=False, dtype=np.float32):\n",
        "        \"\"\"\n",
        "        n: число ботов (размер популяции)\n",
        "        l: размерность бота\n",
        "        split: доля популяции, переходящая в новое поколение\n",
        "        reverse: флаг True - ищем максимум функции потерь\n",
        "        dtype: тип данных бота (float, int)\n",
        "        \"\"\"\n",
        "        self.n = n\n",
        "        self.l = l\n",
        "        self.dtype = dtype\n",
        "        self.nsurv = int(n*split)\n",
        "        self.popul = np.zeros((self.n, self.l), dtype=dtype)\n",
        "        self.best = np.zeros((self.nsurv, self.l), dtype=dtype)\n",
        "        self.val = np.zeros(n)\n",
        "        self.reverse = reverse\n",
        "\n",
        "    def selectBest(self):\n",
        "        for i in range(self.n):\n",
        "            self.val[i] = self.loss(self.popul[i])\n",
        "        idx = sorted([i for i in range(self.n)], key=lambda i: self.val[i])\n",
        "        self.best = self.popul[idx[:self.nsurv]].copy() \n",
        "        self.popul[:self.nsurv] = self.best\n",
        "        for i in range(self.nsurv):\n",
        "            self.val[i] = self.loss(self.popul[i])\n",
        "        return \n",
        "\n",
        "    def newGeneration(self):\n",
        "        for i in range(self.nsurv, self.n):\n",
        "            i1, i2 = np.random.choice(self.nsurv, 2, replace=False) # выбрали 2-х родителей\n",
        "            self.child(i, i1, i2)\n",
        "            self.val[i] = self.loss(self.popul[i])\n",
        "        return\n",
        "\n",
        "    def mutation(self):\n",
        "        return\n",
        "\n",
        "    def evolution(self):\n",
        "        self.selectBest()\n",
        "        self.newGeneration()\n",
        "        self.mutation()\n",
        "\n",
        "    def child(self, i, i1, i2):\n",
        "        for j in range(self.l):\n",
        "            self.popul[i, j] = self.popul[i1, j] if np.random.rand() < 0.5 else self.popul[i2, j]\n",
        "        return\n",
        "\n",
        "    def loss(self, bot):\n",
        "        return 0.0"
      ],
      "execution_count": null,
      "outputs": []
    },
    {
      "cell_type": "markdown",
      "metadata": {
        "id": "ScjZn3XJZiCl"
      },
      "source": [
        "#### Задача №1\n",
        "\n",
        "С помощью генетического алгоритма найдите точку, где функция от трёх переменных: f = x^2/y + z(12-z) + 5y/x равна 0 (символ ^2 -возведение в квадрат). Интервал изменения каждой переменной x, y, z и вывести на экран значение этой точки и значение функции в ней\n"
      ]
    },
    {
      "cell_type": "code",
      "metadata": {
        "id": "a9Km5bXYZXCF"
      },
      "source": [
        "class First_task_class_GA(General_Class_GA):\n",
        "    \"\"\"\n",
        "    n: - размер популяции\n",
        "    l: - размерность ботов\n",
        "    split: - доля ботов переходящаяя в следующее поколений (0. - 1.)\n",
        "    eps: - вероятность мутации\n",
        "    k: - интенсивность мутации\n",
        "    \"\"\"\n",
        "    def __init__(self, n, l, split=0.2, eps=0.1, k=0.1):\n",
        "        self.a = np.array([1, 5, 10, 30, 0,0,0,0, 0,0,0,0], np.float32).T\n",
        "        self.b = np.array([0,0,0,0, 1, 5, 10, 30, 0,0,0,0], np.float32).T\n",
        "        self.c = np.array([0,0,0,0, 0,0,0,0, 1, 5, 10, 30], np.float32).T\n",
        "        super(First_task_class_GA, self).__init__(n, l, split)\n",
        "        self.popul = np.random.normal(0, 1, (n, l))\n",
        "        self.eps = eps\n",
        "        self.k = k\n",
        "\n",
        "    def mutation(self):\n",
        "        for i in range(self.nsurv, self.n):\n",
        "            if np.random.random() < self.eps:\n",
        "                self.popul[i] += self.k*np.random.normal(0, 1, self.l)\n",
        "\n",
        "    def loss(self, bot):\n",
        "        return abs(self.func(*self.xyz(bot)))\n",
        "\n",
        "    def xyz(self, bot):\n",
        "        x = np.dot(bot, self.a)\n",
        "        y = np.dot(bot, self.b)\n",
        "        z = np.dot(bot, self.c)\n",
        "        return (x, y, z)\n",
        "\n",
        "    def func(self, x, y, z):\n",
        "        return x**2/y + z*(12-z) + 5*y/x"
      ],
      "execution_count": null,
      "outputs": []
    },
    {
      "cell_type": "markdown",
      "metadata": {
        "id": "akG8kuOHF7jY"
      },
      "source": [
        "Сделаем 100 попыток, с разными начальными инициализациями\n",
        "Визуализируем полученный результат (выведем на экран значение точки и значение функции в ней, для каждой их попыток. Также выведем количество эпох на каждую попытку)"
      ]
    },
    {
      "cell_type": "code",
      "metadata": {
        "id": "fxK6nM7Gcqve",
        "colab": {
          "base_uri": "https://localhost:8080/"
        },
        "outputId": "69007dbf-b23d-46c3-a4f8-c81319518dba"
      },
      "source": [
        "%%time\n",
        "accuracy = 0.01\n",
        "for seed in range(100):\n",
        "    np.random.seed(seed)\n",
        "    ga = First_task_class_GA(100, 12, eps=0.3, k=1.)\n",
        "    for ep in range(1000):\n",
        "        ga.evolution()\n",
        "        if ga.val[0] < accuracy:\n",
        "            break\n",
        "    if ga.val[0] < accuracy:\n",
        "        print(\"seed=%d x=%.3f, y=%.3f z=%.3f f=%6f epochs:%d\" % (seed, (*ga.xyz(ga.popul[0])+(ga.val[0],)), ep))"
      ],
      "execution_count": null,
      "outputs": [
        {
          "output_type": "stream",
          "text": [
            "seed=0 x=22.361, y=-39.012 z=2.198 f=0.005105 epochs:8\n",
            "seed=1 x=-59.508, y=40.877 z=16.918 f=0.009286 epochs:72\n",
            "seed=2 x=29.874, y=-69.103 z=9.395 f=0.007191 epochs:315\n",
            "seed=3 x=-11.628, y=23.242 z=0.358 f=0.008987 epochs:472\n",
            "seed=5 x=-40.685, y=-88.970 z=11.323 f=0.000900 epochs:997\n",
            "seed=6 x=23.027, y=-62.170 z=2.262 f=0.000493 epochs:10\n",
            "seed=7 x=15.767, y=-29.522 z=10.267 f=0.009804 epochs:25\n",
            "seed=8 x=26.104, y=-52.758 z=9.602 f=0.004318 epochs:548\n",
            "seed=11 x=3.776, y=-26.715 z=5.700 f=0.005936 epochs:8\n",
            "seed=13 x=-26.684, y=-35.231 z=1.268 f=0.004324 epochs:183\n",
            "seed=14 x=32.660, y=-60.050 z=9.008 f=0.002985 epochs:498\n",
            "seed=15 x=7.150, y=-33.185 z=9.354 f=0.001185 epochs:54\n",
            "seed=16 x=-42.824, y=-103.821 z=0.480 f=0.009634 epochs:1\n",
            "seed=17 x=21.757, y=-39.344 z=2.135 f=0.009124 epochs:14\n",
            "seed=18 x=20.813, y=-66.806 z=9.669 f=0.003328 epochs:7\n",
            "seed=19 x=-0.578, y=2.328 z=1.998 f=0.008719 epochs:9\n",
            "seed=20 x=-6.930, y=32.575 z=2.262 f=0.003152 epochs:248\n",
            "seed=21 x=6.209, y=-28.701 z=2.602 f=0.003397 epochs:3\n",
            "seed=22 x=-23.381, y=101.774 z=10.428 f=0.000988 epochs:22\n",
            "seed=24 x=23.842, y=-120.050 z=8.468 f=0.003294 epochs:107\n",
            "seed=25 x=49.716, y=-99.536 z=4.927 f=0.005855 epochs:843\n",
            "seed=26 x=14.998, y=-23.314 z=1.689 f=0.001413 epochs:234\n",
            "seed=27 x=12.181, y=53.868 z=-1.802 f=0.009623 epochs:8\n",
            "seed=31 x=23.222, y=-69.832 z=2.361 f=0.003198 epochs:913\n",
            "seed=32 x=-39.369, y=-104.354 z=11.865 f=0.007544 epochs:64\n",
            "seed=33 x=-7.440, y=37.015 z=9.552 f=0.000493 epochs:11\n",
            "seed=34 x=15.341, y=64.137 z=13.783 f=0.005001 epochs:36\n",
            "seed=37 x=-54.555, y=-70.145 z=6.077 f=0.007505 epochs:398\n",
            "seed=39 x=14.387, y=-20.180 z=1.673 f=0.006551 epochs:26\n",
            "seed=40 x=-11.696, y=-57.280 z=13.622 f=0.001314 epochs:8\n",
            "seed=41 x=-30.930, y=34.419 z=-1.631 f=0.000719 epochs:264\n",
            "seed=42 x=24.614, y=-60.673 z=9.700 f=0.000382 epochs:10\n",
            "seed=43 x=14.984, y=-86.240 z=8.148 f=0.007173 epochs:25\n",
            "seed=44 x=17.492, y=-40.423 z=1.892 f=0.003237 epochs:7\n",
            "seed=45 x=32.436, y=-88.063 z=9.236 f=0.005362 epochs:24\n",
            "seed=46 x=24.542, y=-57.525 z=9.717 f=0.005601 epochs:327\n",
            "seed=47 x=15.600, y=50.987 z=13.558 f=0.009169 epochs:4\n",
            "seed=48 x=-11.060, y=-77.893 z=-2.346 f=0.004693 epochs:16\n",
            "seed=49 x=6.564, y=-44.313 z=7.124 f=0.009723 epochs:288\n",
            "seed=50 x=1.634, y=-11.676 z=6.183 f=0.001827 epochs:3\n",
            "seed=51 x=-2.690, y=-28.551 z=15.424 f=0.000057 epochs:743\n",
            "seed=52 x=5.993, y=-20.548 z=10.137 f=0.005323 epochs:40\n",
            "seed=54 x=-71.538, y=-118.952 z=7.134 f=0.005491 epochs:629\n",
            "seed=55 x=2.524, y=52.320 z=-5.823 f=0.008018 epochs:189\n",
            "seed=56 x=27.216, y=-23.415 z=6.254 f=0.000131 epochs:17\n",
            "seed=57 x=31.662, y=-61.710 z=2.835 f=0.009998 epochs:6\n",
            "seed=58 x=23.296, y=-40.465 z=2.271 f=0.001779 epochs:8\n",
            "seed=59 x=-31.983, y=-25.730 z=6.525 f=0.009018 epochs:599\n",
            "seed=61 x=-7.575, y=27.858 z=1.566 f=0.008200 epochs:119\n",
            "seed=62 x=21.608, y=-100.848 z=3.166 f=0.002382 epochs:23\n",
            "seed=64 x=-16.686, y=-10.841 z=2.317 f=0.004946 epochs:10\n",
            "seed=66 x=10.886, y=-43.105 z=9.669 f=0.008418 epochs:11\n",
            "seed=67 x=16.827, y=-44.282 z=10.055 f=0.004852 epochs:14\n",
            "seed=68 x=-97.709, y=87.537 z=17.857 f=0.005486 epochs:293\n",
            "seed=69 x=23.742, y=48.367 z=-1.605 f=0.007746 epochs:348\n",
            "seed=70 x=31.184, y=-31.468 z=6.244 f=0.007442 epochs:65\n",
            "seed=71 x=52.458, y=-116.504 z=7.125 f=0.008952 epochs:632\n",
            "seed=72 x=15.562, y=26.939 z=13.325 f=0.009819 epochs:613\n",
            "seed=73 x=-25.876, y=6.191 z=-5.956 f=0.002592 epochs:96\n",
            "seed=74 x=8.760, y=20.654 z=-1.177 f=0.008168 epochs:11\n",
            "seed=78 x=20.474, y=-64.461 z=2.290 f=0.007026 epochs:9\n",
            "seed=79 x=26.986, y=-23.300 z=6.653 f=0.002516 epochs:227\n",
            "seed=81 x=-21.097, y=-31.548 z=11.419 f=0.004054 epochs:128\n",
            "seed=82 x=12.137, y=-11.328 z=1.720 f=0.007586 epochs:15\n",
            "seed=83 x=33.102, y=-37.438 z=4.965 f=0.006703 epochs:292\n",
            "seed=84 x=-25.977, y=-26.307 z=9.927 f=0.007959 epochs:179\n",
            "seed=85 x=7.653, y=7.091 z=-0.993 f=0.004454 epochs:771\n",
            "seed=86 x=13.461, y=-63.969 z=9.068 f=0.009389 epochs:15\n",
            "seed=87 x=-45.470, y=-52.470 z=7.542 f=0.009737 epochs:388\n",
            "seed=89 x=-28.421, y=32.244 z=13.441 f=0.008657 epochs:833\n",
            "seed=90 x=93.116, y=37.339 z=-10.438 f=0.001159 epochs:184\n",
            "seed=92 x=-43.534, y=98.609 z=12.625 f=0.003148 epochs:93\n",
            "seed=93 x=26.650, y=-31.187 z=8.714 f=0.009306 epochs:15\n",
            "seed=94 x=11.429, y=-74.003 z=7.360 f=0.009648 epochs:266\n",
            "seed=96 x=24.733, y=-59.726 z=2.302 f=0.007391 epochs:81\n",
            "seed=97 x=10.473, y=-66.639 z=4.409 f=0.008637 epochs:730\n",
            "seed=98 x=30.123, y=-29.779 z=5.236 f=0.001364 epochs:28\n",
            "seed=99 x=24.313, y=-29.731 z=2.837 f=0.001680 epochs:0\n",
            "CPU times: user 2min 24s, sys: 76.5 ms, total: 2min 24s\n",
            "Wall time: 2min 24s\n"
          ],
          "name": "stdout"
        }
      ]
    },
    {
      "cell_type": "markdown",
      "metadata": {
        "id": "4bqrKK0Cbhsg"
      },
      "source": [
        "#### Задача №2\n",
        "Проведите анализ скорости сходимости до заданной вами точности (выберите точность, близкую к минимуму в прошлом примере) и заполните таблицу - какими были параметры и за сколько эпох алгоритм дошёл до нужной точности\n",
        "1. Выберите три разные размера популяции\n",
        "2. Выберите три разные коэффициента мутации\n",
        "3. Выберите три разных количества выживших\n"
      ]
    },
    {
      "cell_type": "code",
      "metadata": {
        "id": "Ehdj9KjadZmf",
        "colab": {
          "base_uri": "https://localhost:8080/"
        },
        "outputId": "195d49d1-d51e-40b1-ea9e-5cb4c665faee"
      },
      "source": [
        "%%time\n",
        "accuracy = 0.01\n",
        "n_seed = 100 # число прогонов для статистики (100 дает отн. точность 10%)\n",
        "max_epochs = 1000\n",
        "results = np.zeros((3, 3, 3), dtype=np.float32) # тут будем собирать статистику\n",
        "popul_sizes = (50, 100, 150) # размер популяции\n",
        "mut_probabilites = (0.125, 0.25, 0.5) # коэффициент мутации (вероятность мутации)\n",
        "splits = (0.0625, 0.1250, 0.2500) # доля выживающих\n",
        "for i, n in enumerate(popul_sizes):\n",
        "    for j, eps in enumerate(mut_probabilites):\n",
        "        for k, split in enumerate(splits):\n",
        "            print(\"Population size: %d, Mutation probability: %.4f, Split: %.4f\" % (n, eps, split))\n",
        "            epochs = 0.\n",
        "            n_success = 0\n",
        "            for seed in range(n_seed): # Набираем статистику по заданной комбинации параметров\n",
        "                np.random.seed(seed)\n",
        "                ga = First_task_class_GA(n=n, l=12, split=split, eps=eps, k=1.)\n",
        "                for ep in range(max_epochs):\n",
        "                    ga.evolution()\n",
        "                    if ga.val[0] < accuracy:\n",
        "                        epochs += (ep + 1)\n",
        "                        n_success += 1 \n",
        "                        break\n",
        "            if n_success > 0:\n",
        "                epochs /= n_success # получаем среднее число эпох (без учета неудачных попыток достичь точности)\n",
        "            else:\n",
        "                epochs = NaN # ГА не сошелся ни разу\n",
        "            results[i, j, k] = epochs\n",
        "            print(\"epochs=%.1f удачных:%.2f%% x=%.3f, y=%.3f z=%.3f f=%6f\" % (epochs, n_success/n_seed*100., (*ga.xyz(ga.popul[0])+(ga.val[0],))))"
      ],
      "execution_count": null,
      "outputs": [
        {
          "output_type": "stream",
          "text": [
            "Population size: 50, Mutation probability: 0.1250, Split: 0.0625\n",
            "epochs=410.4 удачных:22.00% x=-5.835, y=11.644 z=0.626 f=0.067961\n",
            "Population size: 50, Mutation probability: 0.1250, Split: 0.1250\n",
            "epochs=399.2 удачных:32.00% x=-34.337, y=-29.467 z=5.462 f=0.009057\n",
            "Population size: 50, Mutation probability: 0.1250, Split: 0.2500\n",
            "epochs=293.0 удачных:29.00% x=29.974, y=84.402 z=13.794 f=0.017849\n",
            "Population size: 50, Mutation probability: 0.2500, Split: 0.0625\n",
            "epochs=401.2 удачных:50.00% x=18.607, y=-48.007 z=9.986 f=0.003090\n",
            "Population size: 50, Mutation probability: 0.2500, Split: 0.1250\n",
            "epochs=340.6 удачных:43.00% x=8.707, y=-50.189 z=8.381 f=0.001959\n",
            "Population size: 50, Mutation probability: 0.2500, Split: 0.2500\n",
            "epochs=361.7 удачных:44.00% x=40.377, y=52.725 z=-2.574 f=0.065542\n",
            "Population size: 50, Mutation probability: 0.5000, Split: 0.0625\n",
            "epochs=324.6 удачных:69.00% x=8.491, y=18.637 z=13.130 f=0.010719\n",
            "Population size: 50, Mutation probability: 0.5000, Split: 0.1250\n",
            "epochs=363.7 удачных:67.00% x=-2.256, y=15.835 z=4.890 f=0.001359\n",
            "Population size: 50, Mutation probability: 0.5000, Split: 0.2500\n",
            "epochs=334.1 удачных:61.00% x=-39.212, y=17.769 z=-4.966 f=0.009311\n",
            "Population size: 100, Mutation probability: 0.1250, Split: 0.0625\n",
            "epochs=294.6 удачных:48.00% x=24.313, y=-29.731 z=2.837 f=0.001680\n",
            "Population size: 100, Mutation probability: 0.1250, Split: 0.1250\n",
            "epochs=316.6 удачных:55.00% x=24.313, y=-29.731 z=2.837 f=0.001680\n",
            "Population size: 100, Mutation probability: 0.1250, Split: 0.2500\n",
            "epochs=230.9 удачных:59.00% x=24.313, y=-29.731 z=2.837 f=0.001680\n",
            "Population size: 100, Mutation probability: 0.2500, Split: 0.0625\n",
            "epochs=340.3 удачных:65.00% x=24.313, y=-29.731 z=2.837 f=0.001680\n",
            "Population size: 100, Mutation probability: 0.2500, Split: 0.1250\n",
            "epochs=313.0 удачных:63.00% x=24.313, y=-29.731 z=2.837 f=0.001680\n",
            "Population size: 100, Mutation probability: 0.2500, Split: 0.2500\n",
            "epochs=264.5 удачных:76.00% x=24.313, y=-29.731 z=2.837 f=0.001680\n",
            "Population size: 100, Mutation probability: 0.5000, Split: 0.0625\n",
            "epochs=254.6 удачных:91.00% x=24.313, y=-29.731 z=2.837 f=0.001680\n",
            "Population size: 100, Mutation probability: 0.5000, Split: 0.1250\n",
            "epochs=288.3 удачных:86.00% x=24.313, y=-29.731 z=2.837 f=0.001680\n",
            "Population size: 100, Mutation probability: 0.5000, Split: 0.2500\n",
            "epochs=222.5 удачных:82.00% x=24.313, y=-29.731 z=2.837 f=0.001680\n",
            "Population size: 150, Mutation probability: 0.1250, Split: 0.0625\n",
            "epochs=257.4 удачных:74.00% x=24.313, y=-29.731 z=2.837 f=0.001680\n",
            "Population size: 150, Mutation probability: 0.1250, Split: 0.1250\n",
            "epochs=257.8 удачных:78.00% x=24.313, y=-29.731 z=2.837 f=0.001680\n",
            "Population size: 150, Mutation probability: 0.1250, Split: 0.2500\n",
            "epochs=142.3 удачных:76.00% x=24.313, y=-29.731 z=2.837 f=0.001680\n",
            "Population size: 150, Mutation probability: 0.2500, Split: 0.0625\n",
            "epochs=246.4 удачных:79.00% x=24.313, y=-29.731 z=2.837 f=0.001680\n",
            "Population size: 150, Mutation probability: 0.2500, Split: 0.1250\n",
            "epochs=254.9 удачных:81.00% x=24.313, y=-29.731 z=2.837 f=0.001680\n",
            "Population size: 150, Mutation probability: 0.2500, Split: 0.2500\n",
            "epochs=183.7 удачных:86.00% x=24.313, y=-29.731 z=2.837 f=0.001680\n",
            "Population size: 150, Mutation probability: 0.5000, Split: 0.0625\n",
            "epochs=210.8 удачных:96.00% x=24.313, y=-29.731 z=2.837 f=0.001680\n",
            "Population size: 150, Mutation probability: 0.5000, Split: 0.1250\n",
            "epochs=196.5 удачных:95.00% x=24.313, y=-29.731 z=2.837 f=0.001680\n",
            "Population size: 150, Mutation probability: 0.5000, Split: 0.2500\n",
            "epochs=86.4 удачных:95.00% x=24.313, y=-29.731 z=2.837 f=0.001680\n",
            "CPU times: user 1h 21min 17s, sys: 693 ms, total: 1h 21min 17s\n",
            "Wall time: 1h 21min 18s\n"
          ],
          "name": "stdout"
        }
      ]
    },
    {
      "cell_type": "code",
      "metadata": {
        "colab": {
          "base_uri": "https://localhost:8080/"
        },
        "id": "ERC0x1C5svaM",
        "outputId": "4478bdbe-41e8-4802-df30-767a0e8f64ce"
      },
      "source": [
        "# Размер популяции 50:\n",
        "df = pd.DataFrame(results[0, :, :], columns=splits, index=mut_probabilites)\n",
        "df"
      ],
      "execution_count": null,
      "outputs": [
        {
          "output_type": "execute_result",
          "data": {
            "text/html": [
              "<div>\n",
              "<style scoped>\n",
              "    .dataframe tbody tr th:only-of-type {\n",
              "        vertical-align: middle;\n",
              "    }\n",
              "\n",
              "    .dataframe tbody tr th {\n",
              "        vertical-align: top;\n",
              "    }\n",
              "\n",
              "    .dataframe thead th {\n",
              "        text-align: right;\n",
              "    }\n",
              "</style>\n",
              "<table border=\"1\" class=\"dataframe\">\n",
              "  <thead>\n",
              "    <tr style=\"text-align: right;\">\n",
              "      <th></th>\n",
              "      <th>0.0625</th>\n",
              "      <th>0.1250</th>\n",
              "      <th>0.2500</th>\n",
              "    </tr>\n",
              "  </thead>\n",
              "  <tbody>\n",
              "    <tr>\n",
              "      <th>0.125</th>\n",
              "      <td>410.409088</td>\n",
              "      <td>399.218750</td>\n",
              "      <td>293.034485</td>\n",
              "    </tr>\n",
              "    <tr>\n",
              "      <th>0.250</th>\n",
              "      <td>401.239990</td>\n",
              "      <td>340.604645</td>\n",
              "      <td>361.704559</td>\n",
              "    </tr>\n",
              "    <tr>\n",
              "      <th>0.500</th>\n",
              "      <td>324.594208</td>\n",
              "      <td>363.701508</td>\n",
              "      <td>334.065582</td>\n",
              "    </tr>\n",
              "  </tbody>\n",
              "</table>\n",
              "</div>"
            ],
            "text/plain": [
              "           0.0625      0.1250      0.2500\n",
              "0.125  410.409088  399.218750  293.034485\n",
              "0.250  401.239990  340.604645  361.704559\n",
              "0.500  324.594208  363.701508  334.065582"
            ]
          },
          "metadata": {
            "tags": []
          },
          "execution_count": 7
        }
      ]
    },
    {
      "cell_type": "code",
      "metadata": {
        "colab": {
          "base_uri": "https://localhost:8080/"
        },
        "id": "zuU3KovxBSp-",
        "outputId": "7204f8c9-664e-4b88-c92f-1765f07cce5f"
      },
      "source": [
        "# Размер популяции 100:\n",
        "df = pd.DataFrame(results[1, :, :], columns=splits, index=mut_probabilites)\n",
        "df"
      ],
      "execution_count": null,
      "outputs": [
        {
          "output_type": "execute_result",
          "data": {
            "text/html": [
              "<div>\n",
              "<style scoped>\n",
              "    .dataframe tbody tr th:only-of-type {\n",
              "        vertical-align: middle;\n",
              "    }\n",
              "\n",
              "    .dataframe tbody tr th {\n",
              "        vertical-align: top;\n",
              "    }\n",
              "\n",
              "    .dataframe thead th {\n",
              "        text-align: right;\n",
              "    }\n",
              "</style>\n",
              "<table border=\"1\" class=\"dataframe\">\n",
              "  <thead>\n",
              "    <tr style=\"text-align: right;\">\n",
              "      <th></th>\n",
              "      <th>0.0625</th>\n",
              "      <th>0.1250</th>\n",
              "      <th>0.2500</th>\n",
              "    </tr>\n",
              "  </thead>\n",
              "  <tbody>\n",
              "    <tr>\n",
              "      <th>0.125</th>\n",
              "      <td>294.583344</td>\n",
              "      <td>316.600006</td>\n",
              "      <td>230.864410</td>\n",
              "    </tr>\n",
              "    <tr>\n",
              "      <th>0.250</th>\n",
              "      <td>340.307678</td>\n",
              "      <td>312.984131</td>\n",
              "      <td>264.500000</td>\n",
              "    </tr>\n",
              "    <tr>\n",
              "      <th>0.500</th>\n",
              "      <td>254.582413</td>\n",
              "      <td>288.302338</td>\n",
              "      <td>222.451218</td>\n",
              "    </tr>\n",
              "  </tbody>\n",
              "</table>\n",
              "</div>"
            ],
            "text/plain": [
              "           0.0625      0.1250      0.2500\n",
              "0.125  294.583344  316.600006  230.864410\n",
              "0.250  340.307678  312.984131  264.500000\n",
              "0.500  254.582413  288.302338  222.451218"
            ]
          },
          "metadata": {
            "tags": []
          },
          "execution_count": 8
        }
      ]
    },
    {
      "cell_type": "code",
      "metadata": {
        "colab": {
          "base_uri": "https://localhost:8080/",
          "height": 136
        },
        "id": "Hqtu0LkDBS8i",
        "outputId": "cb610a1e-19aa-43d5-9f2a-01c6bb9b25e4"
      },
      "source": [
        "# Размер популяции 150:\n",
        "df = pd.DataFrame(results[2, :, :], columns=splits, index=mut_probabilites)\n",
        "df"
      ],
      "execution_count": null,
      "outputs": [
        {
          "output_type": "execute_result",
          "data": {
            "text/html": [
              "<div>\n",
              "<style scoped>\n",
              "    .dataframe tbody tr th:only-of-type {\n",
              "        vertical-align: middle;\n",
              "    }\n",
              "\n",
              "    .dataframe tbody tr th {\n",
              "        vertical-align: top;\n",
              "    }\n",
              "\n",
              "    .dataframe thead th {\n",
              "        text-align: right;\n",
              "    }\n",
              "</style>\n",
              "<table border=\"1\" class=\"dataframe\">\n",
              "  <thead>\n",
              "    <tr style=\"text-align: right;\">\n",
              "      <th></th>\n",
              "      <th>0.0625</th>\n",
              "      <th>0.1250</th>\n",
              "      <th>0.2500</th>\n",
              "    </tr>\n",
              "  </thead>\n",
              "  <tbody>\n",
              "    <tr>\n",
              "      <th>0.125</th>\n",
              "      <td>257.418915</td>\n",
              "      <td>257.794861</td>\n",
              "      <td>142.289474</td>\n",
              "    </tr>\n",
              "    <tr>\n",
              "      <th>0.250</th>\n",
              "      <td>246.430374</td>\n",
              "      <td>254.876541</td>\n",
              "      <td>183.697678</td>\n",
              "    </tr>\n",
              "    <tr>\n",
              "      <th>0.500</th>\n",
              "      <td>210.781250</td>\n",
              "      <td>196.473679</td>\n",
              "      <td>86.368423</td>\n",
              "    </tr>\n",
              "  </tbody>\n",
              "</table>\n",
              "</div>"
            ],
            "text/plain": [
              "           0.0625      0.1250      0.2500\n",
              "0.125  257.418915  257.794861  142.289474\n",
              "0.250  246.430374  254.876541  183.697678\n",
              "0.500  210.781250  196.473679   86.368423"
            ]
          },
          "metadata": {
            "tags": []
          },
          "execution_count": 9
        }
      ]
    },
    {
      "cell_type": "markdown",
      "metadata": {
        "id": "cMg8hDr4lKmO"
      },
      "source": [
        "**Выводы:**\n",
        "\n",
        "1. Увеличение размера популяции приводит к уменьшению среднего числа эпох, однако увеличивается время на обсчет популяции.\n",
        "\n",
        "2. Увеличение частоты мутаций в случае низкой доли выживающих приводит к увеличению доли удачных попыток.\n",
        "\n",
        "3. Увеличение доли выживших приводит к уменьшению числа эпох.\n"
      ]
    },
    {
      "cell_type": "markdown",
      "metadata": {
        "id": "IsTjmlPEHONF"
      },
      "source": [
        "#### Задача №3\n",
        "Решите задачу расстановки грузов по поездам в усложнённом варианте, добейтесь полного распределение грузов по поездам:\n",
        "1. Поезда - 1, 12, 72, 4, 55, 1\n",
        "2. Грузы - 1, 1, 1, 1, 4, 3, 3, 3, 1, 27, 31, 7, 7, 11, 22, 7, 7, 8\n"
      ]
    },
    {
      "cell_type": "code",
      "metadata": {
        "id": "SN99q9GaGEed",
        "colab": {
          "base_uri": "https://localhost:8080/"
        },
        "outputId": "a9b036a4-3169-497f-9512-5100d9d00994"
      },
      "source": [
        "train = np.array([1, 12, 72, 4, 55, 1])\n",
        "cargo = np.array([1, 1, 1, 1, 4, 3, 3, 3, 1, 27, 31, 7, 7, 11, 22, 7, 7, 8])\n",
        "\n",
        "train.sum(), cargo.sum()"
      ],
      "execution_count": null,
      "outputs": [
        {
          "output_type": "execute_result",
          "data": {
            "text/plain": [
              "(145, 145)"
            ]
          },
          "metadata": {
            "tags": []
          },
          "execution_count": 4
        }
      ]
    },
    {
      "cell_type": "markdown",
      "metadata": {
        "id": "4ns61Nt0Vzqv"
      },
      "source": [
        "Для данной задачи понадобится своя более специфичная инициализация и функция потерь."
      ]
    },
    {
      "cell_type": "code",
      "metadata": {
        "id": "XpWTgfY7H0Nn"
      },
      "source": [
        "class Train_task_class_GA(General_Class_GA):\n",
        "    def __init__(self, n, l):\n",
        "        super(Train_task_class_GA, self).__init__(n, l, dtype=np.uint8)\n",
        "        for i in range(n):\n",
        "            for j in range(l):\n",
        "                self.popul[i, j] = np.random.randint(0, len(train))\n",
        "\n",
        "    def loss(self, bot):\n",
        "        load = np.zeros(len(train), np.int32)\n",
        "        for i in range(len(cargo)):\n",
        "            load[bot[i]] += cargo[i]\n",
        "        loss = 0\n",
        "        for j in range(len(train)):\n",
        "            if load[j] > train[j]:\n",
        "                loss += (load[j] - train[j])\n",
        "        return loss"
      ],
      "execution_count": null,
      "outputs": []
    },
    {
      "cell_type": "markdown",
      "metadata": {
        "id": "PXSR1y80JAYn"
      },
      "source": [
        "Перебираем 100 начальных инициализаций, выводим только те, которые сошлись."
      ]
    },
    {
      "cell_type": "code",
      "metadata": {
        "id": "tI6X4Cw5HMae",
        "colab": {
          "base_uri": "https://localhost:8080/"
        },
        "outputId": "cd84276a-6ee8-471e-9854-64935b2d8fcd"
      },
      "source": [
        "%%time\n",
        "accuracy = 1e-8\n",
        "for seed in range(100):\n",
        "    np.random.seed(seed)\n",
        "    ga = Train_task_class_GA(100, len(cargo))\n",
        "    for ep in range(1000):\n",
        "        ga.evolution()\n",
        "        if ga.val[0] < accuracy:\n",
        "            break\n",
        "    if ga.val[0] < accuracy:\n",
        "        print(\"seed=%d, \"%seed, ga.popul[0], \"epochs:%d\"%ep)"
      ],
      "execution_count": null,
      "outputs": [
        {
          "output_type": "stream",
          "text": [
            "seed=4,  [4 5 1 0 2 4 3 2 3 2 2 4 4 1 4 2 4 4] epochs:11\n",
            "seed=18,  [2 0 1 5 3 4 1 2 2 4 2 4 4 4 2 2 2 1] epochs:11\n",
            "seed=28,  [0 2 1 5 2 3 4 1 3 2 4 4 4 2 2 2 4 1] epochs:6\n",
            "seed=31,  [1 5 1 2 3 4 1 4 0 4 2 1 2 2 2 4 4 4] epochs:10\n",
            "seed=34,  [5 0 4 3 2 2 4 3 1 2 2 2 4 1 4 4 4 4] epochs:11\n",
            "seed=36,  [3 5 0 4 2 1 3 2 1 2 2 4 2 4 4 4 4 1] epochs:14\n",
            "seed=42,  [3 0 4 1 1 3 4 2 5 2 2 1 4 2 4 4 4 4] epochs:9\n",
            "seed=64,  [2 0 1 5 2 4 1 3 3 2 4 2 4 2 2 4 4 1] epochs:5\n",
            "seed=67,  [4 1 5 3 4 3 4 4 0 2 2 2 4 1 4 2 4 4] epochs:396\n",
            "seed=68,  [0 1 3 5 4 4 1 3 1 2 2 4 2 4 4 2 1 4] epochs:10\n",
            "seed=73,  [5 3 1 0 4 3 4 4 4 2 2 4 2 1 4 4 2 4] epochs:9\n",
            "seed=82,  [5 0 3 1 4 4 1 3 1 2 2 1 4 4 4 2 2 4] epochs:8\n",
            "seed=84,  [0 5 2 1 3 4 2 1 1 4 2 4 1 4 2 4 2 2] epochs:10\n",
            "seed=86,  [1 1 5 2 3 4 1 2 0 4 2 4 4 4 2 1 2 2] epochs:10\n",
            "seed=90,  [1 0 5 3 1 2 3 4 4 2 2 4 4 2 4 4 1 4] epochs:7\n",
            "seed=94,  [2 0 1 3 4 4 3 1 5 4 2 4 2 2 2 4 4 1] epochs:11\n",
            "seed=98,  [5 3 0 1 4 4 3 4 2 2 4 4 4 1 2 2 2 2] epochs:7\n",
            "seed=99,  [3 1 0 2 4 3 4 2 5 4 2 4 4 1 2 4 2 2] epochs:7\n",
            "CPU times: user 23min 22s, sys: 773 ms, total: 23min 23s\n",
            "Wall time: 23min 21s\n"
          ],
          "name": "stdout"
        }
      ]
    },
    {
      "cell_type": "markdown",
      "metadata": {
        "id": "Zsdgd0H-r5y9"
      },
      "source": [
        "#### Задача №4\n",
        "Решите задачу расстановки грузов по поездам с дополнительным условием - надо заполнить поезда максимально равномерно, но можно не полностью, грузов будет не для полного заполнения (для решения доработайте функцию оценки качества бота):\n",
        "1. Поезда - 10, 10, 10, 12, 12, 12\n",
        "2. Грузы - 1, 1, 1, 1, 2, 2, 2, 2, 3, 3, 3, 3, 4, 4, 5, 5, 6, 6\n"
      ]
    },
    {
      "cell_type": "code",
      "metadata": {
        "id": "aQ_K_QNTsAkP",
        "colab": {
          "base_uri": "https://localhost:8080/"
        },
        "outputId": "0efbce88-dba5-4da0-c0c3-e4c5ef3f2898"
      },
      "source": [
        "train = np.array([10, 10, 10, 12, 12, 12])\n",
        "cargo = np.array([1, 1, 1, 1, 2, 2, 2, 2, 3, 3, 3, 3, 4, 4, 5, 5, 6, 6])\n",
        "train.sum(), cargo.sum()"
      ],
      "execution_count": null,
      "outputs": [
        {
          "output_type": "execute_result",
          "data": {
            "text/plain": [
              "(66, 54)"
            ]
          },
          "metadata": {
            "tags": []
          },
          "execution_count": 8
        }
      ]
    },
    {
      "cell_type": "markdown",
      "metadata": {
        "id": "YIxt0N4vs0uk"
      },
      "source": [
        "Перепишим функцию потерь"
      ]
    },
    {
      "cell_type": "code",
      "metadata": {
        "id": "yWoZlUsxsg55"
      },
      "source": [
        "class Train2_task_class_GA(Train_task_class_GA):\n",
        "    def loss(self, bot):\n",
        "        loadAvg = cargo.sum()/len(train) # такой должна быть загрузка\n",
        "        load = np.zeros(len(train), np.int32)\n",
        "        for i in range(len(cargo)):\n",
        "            load[bot[i]] += cargo[i]\n",
        "        loss = 0\n",
        "        for j in range(len(train)):\n",
        "            loss += abs(loadAvg - load[j]) # штрафуем за отклонение от нормы загрузки\n",
        "        return loss"
      ],
      "execution_count": null,
      "outputs": []
    },
    {
      "cell_type": "code",
      "metadata": {
        "id": "XnQ_RbsytZ_F",
        "colab": {
          "base_uri": "https://localhost:8080/"
        },
        "outputId": "dbdfbbf9-ce98-474a-e66a-f41c0f5dd54a"
      },
      "source": [
        "%%time\n",
        "accuracy = 1e-8\n",
        "for seed in range(100):\n",
        "    np.random.seed(seed)\n",
        "    ga = Train2_task_class_GA(100, len(cargo))\n",
        "    for ep in range(1000):\n",
        "        ga.evolution()\n",
        "        if ga.val[0] < accuracy:\n",
        "            break\n",
        "    if ga.val[0] < accuracy:\n",
        "        print(\"seed=%d, \"%seed, ga.popul[0], \"epochs:%d\"%ep)"
      ],
      "execution_count": null,
      "outputs": [
        {
          "output_type": "stream",
          "text": [
            "seed=1,  [2 4 4 1 2 4 3 5 3 1 5 0 3 5 4 1 0 2] epochs:7\n",
            "seed=11,  [1 5 0 2 3 0 2 4 3 1 4 5 4 3 1 5 0 2] epochs:9\n",
            "seed=16,  [1 2 1 2 4 1 0 2 3 0 4 5 0 4 1 2 3 5] epochs:25\n",
            "seed=20,  [5 1 2 3 0 1 2 4 4 0 3 5 4 0 5 3 1 2] epochs:9\n",
            "seed=25,  [5 2 0 0 2 0 3 3 4 1 2 2 5 5 3 0 4 1] epochs:8\n",
            "seed=26,  [3 3 4 0 4 0 5 3 4 2 4 5 1 5 3 1 0 2] epochs:7\n",
            "seed=30,  [5 5 0 4 2 5 0 4 2 4 4 3 2 1 5 1 0 3] epochs:6\n",
            "seed=31,  [4 4 1 2 3 3 0 2 4 5 1 0 0 4 3 1 5 2] epochs:27\n",
            "seed=34,  [0 0 3 3 0 1 5 5 1 4 3 2 1 3 0 5 4 2] epochs:31\n",
            "seed=35,  [4 2 2 5 2 3 2 5 3 4 1 2 3 0 0 4 1 5] epochs:13\n",
            "seed=37,  [0 0 1 2 3 1 5 3 2 5 0 4 0 5 2 3 4 1] epochs:26\n",
            "seed=41,  [2 1 0 5 1 0 1 2 4 2 2 5 1 3 3 5 0 4] epochs:445\n",
            "seed=43,  [1 2 5 4 1 2 2 5 5 4 3 5 2 0 4 0 1 3] epochs:10\n",
            "seed=46,  [5 4 0 5 2 0 4 2 1 4 4 5 3 5 2 3 1 0] epochs:6\n",
            "seed=47,  [5 2 1 0 5 2 4 2 3 0 1 4 2 4 0 1 5 3] epochs:198\n",
            "seed=49,  [4 1 3 5 0 3 5 2 2 0 4 1 2 0 1 4 5 3] epochs:12\n",
            "seed=54,  [2 3 3 3 5 5 5 3 5 1 0 2 3 4 4 2 1 0] epochs:5\n",
            "seed=55,  [2 3 2 0 3 2 2 5 4 2 5 0 1 5 1 0 4 3] epochs:38\n",
            "seed=56,  [4 5 5 2 1 4 5 0 2 3 0 1 0 1 5 2 4 3] epochs:13\n",
            "seed=60,  [1 2 1 4 1 4 4 1 2 0 1 3 5 4 5 2 0 3] epochs:16\n",
            "seed=61,  [2 4 0 2 3 2 2 0 4 1 3 2 3 5 5 4 0 1] epochs:8\n",
            "seed=69,  [0 0 5 5 0 2 4 5 3 1 2 4 4 2 0 5 1 3] epochs:553\n",
            "seed=77,  [5 1 1 1 4 5 4 0 3 5 0 5 0 2 4 2 1 3] epochs:7\n",
            "seed=78,  [4 0 4 0 2 2 4 2 1 2 0 5 3 0 4 3 1 5] epochs:116\n",
            "seed=83,  [4 0 2 3 1 4 3 2 0 2 1 2 5 1 0 5 4 3] epochs:10\n",
            "seed=86,  [4 0 2 1 2 2 4 0 5 1 4 4 2 3 3 1 5 0] epochs:12\n",
            "seed=88,  [0 1 3 4 0 1 5 1 4 3 5 2 5 1 4 3 2 0] epochs:2\n",
            "seed=92,  [5 4 4 3 3 0 3 0 5 2 4 1 3 4 5 0 1 2] epochs:9\n",
            "seed=93,  [4 4 2 4 5 5 4 0 3 2 1 0 0 4 2 5 1 3] epochs:9\n",
            "seed=98,  [1 4 4 2 4 3 2 0 3 1 0 5 0 3 4 1 5 2] epochs:11\n",
            "seed=99,  [2 2 2 1 5 1 3 3 5 4 1 1 5 0 3 0 4 2] epochs:741\n",
            "CPU times: user 17min 58s, sys: 668 ms, total: 17min 59s\n",
            "Wall time: 17min 58s\n"
          ],
          "name": "stdout"
        }
      ]
    },
    {
      "cell_type": "markdown",
      "metadata": {
        "id": "xHztQmYirWG5"
      },
      "source": [
        "## **PRO** \n"
      ]
    },
    {
      "cell_type": "markdown",
      "metadata": {
        "id": "G68hZTYRboWx"
      },
      "source": [
        "### **Вариант 1**\n",
        "**Задание:**\n",
        "\n",
        "Напишите кластеризацию данных с помощью генетических алгоритмов. Создайте 3 класса двумерных точек, выберите центры классов на достаточном расстоянии и сгенерируйте точки с разбросом так, чтобы классы не пересекались\n",
        "\n",
        "Нужно расставить индексы точек, к какому классу относится какая точка, с помощью генетического алгоритма. В результате, каждый класс должен состоять из точек одного и того же индекса\n",
        "\n",
        "Визуализируйте процесс обучения и итоговый результат"
      ]
    },
    {
      "cell_type": "code",
      "metadata": {
        "id": "bWbZiFBy_CzN"
      },
      "source": [
        "import numpy as np\n",
        "import pandas as pd\n",
        "from matplotlib import pyplot as plt\n",
        "%matplotlib inline"
      ],
      "execution_count": null,
      "outputs": []
    },
    {
      "cell_type": "code",
      "metadata": {
        "id": "pv8mKjrs_DgV"
      },
      "source": [
        "class Main_Class_GA():\n",
        "    def __init__(self, n, l, split=0.2, reverse=False, dtype=np.float32):\n",
        "        \"\"\"\n",
        "        n: число ботов (размер популяции)\n",
        "        l: размерность бота\n",
        "        split: доля популяции, переходящая в новое поколение\n",
        "        reverse: флаг True - ищем максимум функции потерь\n",
        "        dtype: тип данных бота (float, int)\n",
        "        \"\"\"\n",
        "        self.n = n\n",
        "        self.l = l\n",
        "        self.dtype = dtype\n",
        "        self.nsurv = int(n*split)\n",
        "        self.popul = np.zeros((self.n, self.l), dtype=dtype)\n",
        "        self.best = np.zeros((self.nsurv, self.l), dtype=dtype)\n",
        "        self.val = np.zeros(n)\n",
        "        self.reverse = reverse\n",
        "\n",
        "    def selectBest(self):\n",
        "        for i in range(self.n):\n",
        "            self.val[i] = self.loss(self.popul[i])\n",
        "        idx = sorted([i for i in range(self.n)], key=lambda i: self.val[i])\n",
        "        self.best = self.popul[idx[:self.nsurv]].copy() \n",
        "        self.popul[:self.nsurv] = self.best\n",
        "        for i in range(self.nsurv):\n",
        "            self.val[i] = self.loss(self.popul[i])\n",
        "        return \n",
        "\n",
        "    def newGeneration(self):\n",
        "        for i in range(self.nsurv, self.n):\n",
        "            i1, i2 = np.random.choice(self.nsurv, 2, replace=False) # выбрали 2-х родителей\n",
        "            self.child(i, i1, i2)\n",
        "            self.val[i] = self.loss(self.popul[i])\n",
        "        return\n",
        "\n",
        "    def mutation(self):\n",
        "        return\n",
        "\n",
        "    def evolution(self):\n",
        "        self.selectBest()\n",
        "        self.newGeneration()\n",
        "        self.mutation()\n",
        "\n",
        "    def child(self, i, i1, i2):\n",
        "        for j in range(self.l):\n",
        "            self.popul[i, j] = self.popul[i1, j] if np.random.rand() < 0.5 else self.popul[i2, j]\n",
        "        return\n",
        "\n",
        "    def loss(self, bot):\n",
        "        return 0.0"
      ],
      "execution_count": null,
      "outputs": []
    },
    {
      "cell_type": "code",
      "metadata": {
        "id": "mBSYUbhAuvK_"
      },
      "source": [
        "N = 150 # число точек \n",
        "M = 3 # число классов \n",
        "points = np.random.normal(0, 0.2, (N, 2)) # координаты точек \n",
        "fi = np.pi*np.arange(M)*2/M\n",
        "x = np.cos(fi)\n",
        "y = np.sin(fi)\n",
        "\n",
        "for n in range(N):\n",
        "    m = np.random.randint(0, M)\n",
        "    points[n, 0] += x[m]\n",
        "    points[n, 1] += y[m] "
      ],
      "execution_count": null,
      "outputs": []
    },
    {
      "cell_type": "markdown",
      "metadata": {
        "id": "HNUymUpS-5BI"
      },
      "source": [
        "Визуализируем то что получилось:"
      ]
    },
    {
      "cell_type": "code",
      "metadata": {
        "id": "4UdoI6Ofu_1C",
        "colab": {
          "base_uri": "https://localhost:8080/",
          "height": 592
        },
        "outputId": "a720a418-bcd7-42c9-926c-1ab0689bdd2b"
      },
      "source": [
        "plt.figure(figsize=(10, 10))\n",
        "plt.scatter(points[:, 0], points[:, 1])\n",
        "plt.axis('equal')\n",
        "plt.grid()\n",
        "plt.show()"
      ],
      "execution_count": null,
      "outputs": [
        {
          "output_type": "display_data",
          "data": {
            "image/png": "[encoded data removed]",
            "text/plain": [
              "<Figure size 720x720 with 1 Axes>"
            ]
          },
          "metadata": {
            "tags": [],
            "needs_background": "light"
          }
        }
      ]
    },
    {
      "cell_type": "markdown",
      "metadata": {
        "id": "TTmzbaJXlmr-"
      },
      "source": [
        "Генотипом бота будет 3 пары координат, каждая из которых это кандидаты на координаты центров 3х наших кластеров."
      ]
    },
    {
      "cell_type": "code",
      "metadata": {
        "id": "6ZtGENCj3YTU"
      },
      "source": [
        "class Points_Class_GA(Main_Class_GA):\n",
        "    def __init__(self, n, points, split=0.2, M=3, eps=0.1, k=1.):\n",
        "        \"\"\"\n",
        "        n: число ботов в популяции\n",
        "        M: число кластеров\n",
        "        points - массив точек, которые надо распределить по кластерам размер (N, 2) - номер точки, x, y\n",
        "        eps: - вероятность мутации\n",
        "        k: - интенсивность мутации\n",
        "        \"\"\"\n",
        "        super(Points_Class_GA, self).__init__(n, M*2, split=split)\n",
        "        self.n = n\n",
        "        self.M = M\n",
        "        self.eps = eps\n",
        "        self.k = k\n",
        "        self.popul = np.random.normal(0, 1, (self.n, self.M, 2))\n",
        "        self.point = points\n",
        "\n",
        "    def loss(self, bot):\n",
        "        value = 0.\n",
        "        for i in range(self.point.shape[0]): # по всем точкам\n",
        "            # Последовательно примеряем точку к каждому центру кластера\n",
        "            min = 1e10\n",
        "            for j in range(self.M): # вычисляем квадрат расстояния от точки i до центра кластера j.\n",
        "                r2 = (bot[j, 0] - self.point[i, 0])**2 + (bot[j, 1] - self.point[i, 1])**2\n",
        "                if r2 < min :\n",
        "                    min = r2\n",
        "            value += min\n",
        "        return value/self.point.shape[0] # средний квадрат расстояния до ближайшего центра кластера\n",
        "\n",
        "    def mutation(self):\n",
        "        for i in range(self.nsurv, self.n):\n",
        "            if np.random.random() < self.eps:\n",
        "                self.popul[i] += self.k*np.random.normal(0, 1, (self.M, 2))\n",
        "\n",
        "    def child(self, i, i1, i2):\n",
        "        for j in range(self.M):\n",
        "            if np.random.random() < 0.5:\n",
        "                self.popul[i, j] = self.popul[i1, j]  \n",
        "            else:\n",
        "                self.popul[i, j] = self.popul[i2, j]\n",
        "        return"
      ],
      "execution_count": null,
      "outputs": []
    },
    {
      "cell_type": "code",
      "metadata": {
        "id": "_dC4kKNUzCPK",
        "colab": {
          "base_uri": "https://localhost:8080/"
        },
        "outputId": "7e53ae42-43ee-4753-ff1b-554ad1784331"
      },
      "source": [
        "np.random.seed(3)\n",
        "\n",
        "ga = Points_Class_GA(100, points, eps=0.5)\n",
        "for ep in range(50):\n",
        "    ga.evolution()\n",
        "    print(\"ep=%d loss=%.3f\" % (ep + 1, ga.val[0]))"
      ],
      "execution_count": null,
      "outputs": [
        {
          "output_type": "stream",
          "text": [
            "ep=1 loss=0.205\n",
            "ep=2 loss=0.205\n",
            "ep=3 loss=0.137\n",
            "ep=4 loss=0.137\n",
            "ep=5 loss=0.137\n",
            "ep=6 loss=0.137\n",
            "ep=7 loss=0.137\n",
            "ep=8 loss=0.137\n",
            "ep=9 loss=0.137\n",
            "ep=10 loss=0.137\n",
            "ep=11 loss=0.137\n",
            "ep=12 loss=0.137\n",
            "ep=13 loss=0.137\n",
            "ep=14 loss=0.137\n",
            "ep=15 loss=0.137\n",
            "ep=16 loss=0.137\n",
            "ep=17 loss=0.137\n",
            "ep=18 loss=0.137\n",
            "ep=19 loss=0.137\n",
            "ep=20 loss=0.137\n",
            "ep=21 loss=0.137\n",
            "ep=22 loss=0.137\n",
            "ep=23 loss=0.137\n",
            "ep=24 loss=0.137\n",
            "ep=25 loss=0.137\n",
            "ep=26 loss=0.137\n",
            "ep=27 loss=0.137\n",
            "ep=28 loss=0.137\n",
            "ep=29 loss=0.137\n",
            "ep=30 loss=0.137\n",
            "ep=31 loss=0.137\n",
            "ep=32 loss=0.137\n",
            "ep=33 loss=0.137\n",
            "ep=34 loss=0.137\n",
            "ep=35 loss=0.137\n",
            "ep=36 loss=0.137\n",
            "ep=37 loss=0.137\n",
            "ep=38 loss=0.137\n",
            "ep=39 loss=0.137\n",
            "ep=40 loss=0.137\n",
            "ep=41 loss=0.137\n",
            "ep=42 loss=0.137\n",
            "ep=43 loss=0.137\n",
            "ep=44 loss=0.137\n",
            "ep=45 loss=0.137\n",
            "ep=46 loss=0.137\n",
            "ep=47 loss=0.137\n",
            "ep=48 loss=0.137\n",
            "ep=49 loss=0.137\n",
            "ep=50 loss=0.137\n"
          ],
          "name": "stdout"
        }
      ]
    },
    {
      "cell_type": "code",
      "metadata": {
        "id": "D6K8Hcfn4pyC",
        "colab": {
          "base_uri": "https://localhost:8080/"
        },
        "outputId": "cdb7222c-0fae-4207-926f-206aa0359531"
      },
      "source": [
        "ga.popul[0] # Нулевой бот содержит координаты центров кластеров"
      ],
      "execution_count": null,
      "outputs": [
        {
          "output_type": "execute_result",
          "data": {
            "text/plain": [
              "array([[-0.7160258 ,  0.73146574],\n",
              "       [ 1.23347104,  0.14898639],\n",
              "       [-0.53058214, -0.73052664]])"
            ]
          },
          "metadata": {
            "tags": []
          },
          "execution_count": 33
        }
      ]
    },
    {
      "cell_type": "code",
      "metadata": {
        "id": "44MSnlaTu2h6"
      },
      "source": [
        "# Распределим точки по кластерам\n",
        "x = [[], [], []] # три списка точек для каждого кластера\n",
        "y = [[], [], []]\n",
        "bot = ga.popul[0]\n",
        "for i in range(N):\n",
        "    min = 1e10\n",
        "    n_class = None\n",
        "    for j in range(M): # вычисляем квадрат расстояния от точки i до центра кластера j.\n",
        "        r2 = (bot[j, 0] - points[i, 0])**2 + (bot[j, 1] - points[i, 1])**2\n",
        "        if r2 < min :\n",
        "            min = r2\n",
        "            n_class = j\n",
        "    x[n_class].append(points[i, 0])\n",
        "    y[n_class].append(points[i, 1])\n"
      ],
      "execution_count": null,
      "outputs": []
    },
    {
      "cell_type": "markdown",
      "metadata": {
        "id": "3aEhlJftegTc"
      },
      "source": [
        "\n",
        "\n",
        "**Визуализация результатов**\n",
        "\n",
        "Разделим разные кластеры выделив их разными цветами и формой( каждый кластер свой цвет и форма), обозначив их в легенде. \n",
        "\n",
        "Найденные центры кластеров отетим крестиками"
      ]
    },
    {
      "cell_type": "code",
      "metadata": {
        "id": "WLPiRQINzUSN",
        "colab": {
          "base_uri": "https://localhost:8080/",
          "height": 592
        },
        "outputId": "d93e55a1-d8ea-46c9-c07c-fcd4b53dbed0"
      },
      "source": [
        "plt.figure(figsize=(10, 10))\n",
        "plt.scatter(x[0], y[0], marker='*', label=\"1й кластер\")\n",
        "plt.scatter(x[1], y[1], marker='o', label=\"2й кластер\")\n",
        "plt.scatter(x[2], y[2], marker='x', label=\"3й кластер\")\n",
        "plt.scatter(bot[:, 0], bot[:, 1], marker='+', label=\"центры кластеров\")\n",
        "plt.legend()\n",
        "plt.axis('equal')\n",
        "plt.grid()\n",
        "plt.show()"
      ],
      "execution_count": null,
      "outputs": [
        {
          "output_type": "display_data",
          "data": {
            "image/png": "[encoded data removed]",
            "text/plain": [
              "<Figure size 720x720 with 1 Axes>"
            ]
          },
          "metadata": {
            "tags": [],
            "needs_background": "light"
          }
        }
      ]
    },
    {
      "cell_type": "markdown",
      "metadata": {
        "id": "ror_48LN5aHX"
      },
      "source": [
        "**Выводы**:\n",
        "\n",
        "Центы кластеров определились не очень точно, тем не менее, даже такой точности вполне достаточно для решения задачи правильной кластеризации точек."
      ]
    }
  ]
}