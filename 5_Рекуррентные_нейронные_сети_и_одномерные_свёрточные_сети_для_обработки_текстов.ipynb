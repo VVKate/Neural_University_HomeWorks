{
  "nbformat": 4,
  "nbformat_minor": 0,
  "metadata": {
    "colab": {
      "name": "5_Рекуррентные нейронные сети и одномерные свёрточные сети для обработки текстов",
      "provenance": [],
      "collapsed_sections": [
        "Jjg_wlTPnjgE",
        "tsGvDKF6GLJi",
        "-uGYMZEzG2fq",
        "fDR_J950Hnxf",
        "qpmmeFToIKGG",
        "1DoV2ovVJ8CW",
        "KuGsJ8i0tJ7T",
        "-fptqQgy7t8A",
        "8u_MjIzO71Ml",
        "yFXZ06uZTINb"
      ],
      "toc_visible": true,
      "mount_file_id": "1T2qFWbk3tiG1ly-Qa9VoY0zFGtAlWzrF",
      "authorship_tag": "ABX9TyN3e9vgfK4UDh2z9YbfpBiJ",
      "include_colab_link": true
    },
    "kernelspec": {
      "name": "python3",
      "display_name": "Python 3"
    },
    "accelerator": "GPU"
  },
  "cells": [
    {
      "cell_type": "markdown",
      "metadata": {
        "id": "view-in-github",
        "colab_type": "text"
      },
      "source": [
        "<a href=\"https://colab.research.google.com/github/VVKate/Neural_University_HomeWorks/blob/main/5_%D0%A0%D0%B5%D0%BA%D1%83%D1%80%D1%80%D0%B5%D0%BD%D1%82%D0%BD%D1%8B%D0%B5_%D0%BD%D0%B5%D0%B9%D1%80%D0%BE%D0%BD%D0%BD%D1%8B%D0%B5_%D1%81%D0%B5%D1%82%D0%B8_%D0%B8_%D0%BE%D0%B4%D0%BD%D0%BE%D0%BC%D0%B5%D1%80%D0%BD%D1%8B%D0%B5_%D1%81%D0%B2%D1%91%D1%80%D1%82%D0%BE%D1%87%D0%BD%D1%8B%D0%B5_%D1%81%D0%B5%D1%82%D0%B8_%D0%B4%D0%BB%D1%8F_%D0%BE%D0%B1%D1%80%D0%B0%D0%B1%D0%BE%D1%82%D0%BA%D0%B8_%D1%82%D0%B5%D0%BA%D1%81%D1%82%D0%BE%D0%B2.ipynb\" target=\"_parent\"><img src=\"https://colab.research.google.com/assets/colab-badge.svg\" alt=\"Open In Colab\"/></a>"
      ]
    },
    {
      "cell_type": "markdown",
      "metadata": {
        "id": "r9GFeCHm7m7A"
      },
      "source": [
        "# Домашнеее задание: Июльский курс (2020). Pro. Занятие 5\n",
        "# Рекуррентные нейронные сети и одномерные свёрточные сети для обработки текстов\n",
        "## Верхошинская Катерина Викторовна"
      ]
    },
    {
      "cell_type": "markdown",
      "metadata": {
        "id": "Jjg_wlTPnjgE"
      },
      "source": [
        "## **LIGHT**\n"
      ]
    },
    {
      "cell_type": "markdown",
      "metadata": {
        "id": "L4jJTRhinjgJ"
      },
      "source": [
        "### **Задание:**\n",
        "\n",
        "Используя шаблон ноутбука, напишите четыре нейронки для распознавания писателей. Для этого выполните следующее:\n",
        "1. Загрузите данные и разделите на слова.\n",
        "2. Создайте словарь и превратите данные в индексы.\n",
        "3. Превратите данные в обучающую выборку.\n",
        "4. Напишите нейронные сети.\n",
        "\n",
        "Четыре нейронки, которые нужно написать:\n",
        "1. Embedding + Dense сеть.\n",
        "2. Embedding + LSTM сеть.\n",
        "3. Embedding + Conv1D сеть.\n",
        "4. Embedding + сложная сеть из Dense, LSTM и Conv1D.\n",
        "\n",
        "\n",
        "\n",
        "\n",
        "\n",
        "\n"
      ]
    },
    {
      "cell_type": "code",
      "metadata": {
        "id": "iJa7ZtpqwBHi"
      },
      "source": [
        "from google.colab import files\n",
        "import numpy as np\n",
        "import pandas as pd \n",
        "import matplotlib.pyplot as plt\n",
        "import os\n",
        "%matplotlib inline\n",
        "\n",
        "from tensorflow.keras import utils\n",
        "from tensorflow.keras.models import Sequential\n",
        "# Загружаем стандартные слои нейросети(полносвязный, регуляризации, нормализации, векторного представления слов, выравнивания, активации)\n",
        "from tensorflow.keras.layers import Dense, Dropout, BatchNormalization, Embedding, Flatten, Activation\n",
        "# Загружаем сверточные слои\n",
        "from tensorflow.keras.layers import Conv1D, SpatialDropout1D, MaxPooling1D, GlobalAveragePooling1D, GlobalMaxPooling1D\n",
        "# Загружаем рекуррентные слои\n",
        "from tensorflow.keras.layers import LSTM, GRU, SimpleRNN, Bidirectional\n",
        "# Загружаем алгоритмы обучения/оптимизации\n",
        "from tensorflow.python.keras.optimizers import Adam, RMSprop\n",
        "\n",
        "from keras.preprocessing.text import Tokenizer, text_to_word_sequence #инструменты предобработки текста от кераса\n",
        "from sklearn.model_selection import train_test_split #модуль для разбиения данных на обучающую и тестовую выборки"
      ],
      "execution_count": null,
      "outputs": []
    },
    {
      "cell_type": "code",
      "metadata": {
        "id": "w7oAK9aEwBHm",
        "colab": {
          "base_uri": "https://localhost:8080/",
          "height": 34
        },
        "outputId": "5bacf5af-1614-4903-95d5-e1bbbc9707e5"
      },
      "source": [
        "!rm -R /content/texts \n",
        "!unzip -q '/content/drive/My Drive/Colab Notebooks/Базы/Тексты писателей.zip' -d /content/texts "
      ],
      "execution_count": null,
      "outputs": [
        {
          "output_type": "stream",
          "text": [
            "rm: cannot remove '/content/texts': No such file or directory\n"
          ],
          "name": "stdout"
        }
      ]
    },
    {
      "cell_type": "code",
      "metadata": {
        "id": "-51Gn_MBwBHp",
        "colab": {
          "base_uri": "https://localhost:8080/",
          "height": 319
        },
        "outputId": "de0cc344-4743-4fa2-ef4a-abeb3804d094"
      },
      "source": [
        "def readText(fileName): # Объявляем функции для чтения файла. На вход отправляем путь к файлу\n",
        "  f = open(fileName, 'r')        \n",
        "  text = f.read()                \n",
        "  text = text.replace(\"\\n\", \" \") \n",
        "  \n",
        "  return text                    \n",
        "\n",
        "# Объявляем интересующие нас классы\n",
        "className = [\"О. Генри\", \"Стругацкие\", \"Булгаков\", \"Саймак\", \"Фрай\", \"Брэдберри\"] \n",
        "nClasses = len(className) \n",
        "\n",
        "\n",
        "#Загружаем обучающие тексты\n",
        "\n",
        "trainText = [] #Формируем обучающие тексты\n",
        "testText = [] #Формируем тестовые тексты\n",
        "\n",
        "for i in className: \n",
        "  for j in os.listdir('texts/'): \n",
        "    if i in j: \n",
        "      if 'Обучающая' in j:\n",
        "        trainText.append(readText('texts/' + j))\n",
        "        print(j, 'добавлен в обучающую выборку') \n",
        "      if 'Тестовая' in j:\n",
        "        testText.append(readText('texts/' + j))\n",
        "        print(j, 'добавлен в тестовую выборку')\n",
        "  print()"
      ],
      "execution_count": null,
      "outputs": [
        {
          "output_type": "stream",
          "text": [
            "(О. Генри) Обучающая_50 вместе.txt добавлен в обучающую выборку\n",
            "(О. Генри) Тестовая_20 вместе.txt добавлен в тестовую выборку\n",
            "\n",
            "(Стругацкие) Тестовая_2 вместе.txt добавлен в тестовую выборку\n",
            "(Стругацкие) Обучающая_5 вместе.txt добавлен в обучающую выборку\n",
            "\n",
            "(Булгаков) Обучающая_5 вместе.txt добавлен в обучающую выборку\n",
            "(Булгаков) Тестовая_2 вместе.txt добавлен в тестовую выборку\n",
            "\n",
            "(Клиффорд_Саймак) Обучающая_5 вместе.txt добавлен в обучающую выборку\n",
            "(Клиффорд_Саймак) Тестовая_2 вместе.txt добавлен в тестовую выборку\n",
            "\n",
            "(Макс Фрай) Тестовая_2 вместе.txt добавлен в тестовую выборку\n",
            "(Макс Фрай) Обучающая_5 вместе.txt добавлен в обучающую выборку\n",
            "\n",
            "(Рэй Брэдберри) Тестовая_8 вместе.txt добавлен в тестовую выборку\n",
            "(Рэй Брэдберри) Обучающая_22 вместе.txt добавлен в обучающую выборку\n",
            "\n"
          ],
          "name": "stdout"
        }
      ]
    },
    {
      "cell_type": "code",
      "metadata": {
        "id": "nWLjliD-wBHr"
      },
      "source": [
        "# Преобразовываем текстовые данные в числовые/векторные для обучения нейросетью\n",
        "\n",
        "maxWordsCount = 20000 # определяем макс.кол-во слов/индексов, учитываемое при обучении текстов\n",
        "\n",
        "# для этого воспользуемся встроенной в Keras функцией Tokenizer для разбиения текста и превращения в матрицу числовых значений\n",
        "tokenizer = Tokenizer(num_words=maxWordsCount, filters='–—!\"#$%&()*+,-./:;<=>?@[\\\\]^_`{|}~\\t\\n\\xa0–\\ufeff', lower=True, split=' ', char_level=False, oov_token = 'unknown')\n",
        "\n",
        "tokenizer.fit_on_texts(trainText)\n",
        "items = list(tokenizer.word_index.items())"
      ],
      "execution_count": null,
      "outputs": []
    },
    {
      "cell_type": "code",
      "metadata": {
        "id": "h4AvliC5wBHt",
        "colab": {
          "base_uri": "https://localhost:8080/",
          "height": 54
        },
        "outputId": "ccb8ea65-c61e-4008-cb78-64beb6d87632"
      },
      "source": [
        "print(items[:100]) # взглянем на содержимое словаря"
      ],
      "execution_count": null,
      "outputs": [
        {
          "output_type": "stream",
          "text": [
            "[('unknown', 1), ('и', 2), ('в', 3), ('не', 4), ('я', 5), ('что', 6), ('на', 7), ('с', 8), ('он', 9), ('а', 10), ('как', 11), ('то', 12), ('это', 13), ('но', 14), ('все', 15), ('у', 16), ('по', 17), ('его', 18), ('к', 19), ('так', 20), ('мне', 21), ('из', 22), ('за', 23), ('меня', 24), ('ты', 25), ('же', 26), ('сказал', 27), ('бы', 28), ('было', 29), ('вы', 30), ('от', 31), ('они', 32), ('мы', 33), ('только', 34), ('да', 35), ('еще', 36), ('она', 37), ('о', 38), ('когда', 39), ('вот', 40), ('уже', 41), ('если', 42), ('был', 43), ('ни', 44), ('их', 45), ('нет', 46), ('чтобы', 47), ('до', 48), ('ну', 49), ('для', 50), ('ему', 51), ('может', 52), ('или', 53), ('ничего', 54), ('даже', 55), ('там', 56), ('очень', 57), ('кто', 58), ('ее', 59), ('тут', 60), ('потом', 61), ('просто', 62), ('него', 63), ('чем', 64), ('быть', 65), ('теперь', 66), ('под', 67), ('где', 68), ('нас', 69), ('есть', 70), ('тебя', 71), ('время', 72), ('ли', 73), ('тебе', 74), ('со', 75), ('во', 76), ('вас', 77), ('раз', 78), ('нибудь', 79), ('этот', 80), ('сейчас', 81), ('вам', 82), ('себя', 83), ('здесь', 84), ('уж', 85), ('себе', 86), ('этого', 87), ('надо', 88), ('том', 89), ('будет', 90), ('можно', 91), ('сам', 92), ('нам', 93), ('были', 94), ('была', 95), ('того', 96), ('тоже', 97), ('один', 98), ('без', 99), ('спросил', 100)]\n"
          ],
          "name": "stdout"
        }
      ]
    },
    {
      "cell_type": "code",
      "metadata": {
        "id": "HFGAvj3xwBHv",
        "colab": {
          "base_uri": "https://localhost:8080/",
          "height": 386
        },
        "outputId": "eb05a564-869c-416f-989d-d7998dd7a079"
      },
      "source": [
        "# преобразовываем текст в последовательность индексов согласно частотному словарю\n",
        "trainWordIndexes = tokenizer.texts_to_sequences(trainText) # обучающие тесты в индексы\n",
        "testWordIndexes = tokenizer.texts_to_sequences(testText)   # проверочные тесты в индексы\n",
        "\n",
        "print(\"Взглянем на фрагмент обучающего текста:\")\n",
        "print(\"В виде оригинального текста:              \", trainText[1] [:87])\n",
        "print(\"Он же в виде последовательности индексов: \", trainWordIndexes[1][:20])\n",
        "\n",
        "print()\n",
        "print()\n",
        "\n",
        "print(\"Статистика по обучающим текстам:\")\n",
        "for i in range(6):\n",
        "  print(className[i], \" \", len(trainText[i]), \" символов, \", len(trainWordIndexes[i]), \" слов\")\n",
        "print(\"В сумме \", len(trainText[0])+len(trainText[1])+len(trainText[2])+len(trainText[3])+len(trainText[4])+len(trainText[5]), \" символов, \", len(trainWordIndexes[0])+len(trainWordIndexes[1])+len(trainWordIndexes[2])+len(trainWordIndexes[3])+len(trainWordIndexes[4])+len(trainWordIndexes[5]), \" слов\")\n",
        "print()\n",
        "print(\"Статистика по обучающим текстам:\")\n",
        "for i in range(6):\n",
        "  print(className[i], \" \", len(testText[i]), \" символов, \", len(testWordIndexes[i]), \" слов\")\n",
        "print(\"В сумме \", len(testText[0])+len(testText[1])+len(testText[2])+len(testText[3])+len(testText[4])+len(testText[5]), \" символов, \", len(testWordIndexes[0])+len(testWordIndexes[1])+len(testWordIndexes[2])+len(testWordIndexes[3])+len(testWordIndexes[4])+len(testWordIndexes[5]), \" слов\")"
      ],
      "execution_count": null,
      "outputs": [
        {
          "output_type": "stream",
          "text": [
            "Взглянем на фрагмент обучающего текста:\n",
            "В виде оригинального текста:               Парень из преисподней     1     Ну и деревня! Сроду я таких деревень не видел и не знал\n",
            "Он же в виде последовательности индексов:  [470, 22, 1, 1482, 49, 2, 12725, 7723, 5, 415, 1, 4, 252, 2, 4, 247, 55, 6, 240, 10517]\n",
            "\n",
            "\n",
            "Статистика по обучающим текстам:\n",
            "О. Генри   1049517  символов,  160682  слов\n",
            "Стругацкие   2042469  символов,  313405  слов\n",
            "Булгаков   1765648  символов,  262109  слов\n",
            "Саймак   1609507  символов,  251551  слов\n",
            "Фрай   3700010  символов,  569052  слов\n",
            "Брэдберри   1386454  символов,  214694  слов\n",
            "В сумме  11553605  символов,  1771493  слов\n",
            "\n",
            "Статистика по обучающим текстам:\n",
            "О. Генри   349662  символов,  53255  слов\n",
            "Стругацкие   704846  символов,  108730  слов\n",
            "Булгаков   875042  символов,  132910  слов\n",
            "Саймак   318811  символов,  50362  слов\n",
            "Фрай   1278191  символов,  196911  слов\n",
            "Брэдберри   868673  символов,  132746  слов\n",
            "В сумме  4395225  символов,  674914  слов\n"
          ],
          "name": "stdout"
        }
      ]
    },
    {
      "cell_type": "code",
      "metadata": {
        "id": "YK_bJ4QFwBHx"
      },
      "source": [
        "# Формирование обучающей выборки по листу индексов слов\n",
        "\n",
        "def getSetFromIndexes(wordIndexes, xLen, step):\n",
        "  xSample = []\n",
        "  wordsLen = len(wordIndexes)\n",
        "  index = 0\n",
        "\n",
        "  while (index + xLen <= wordsLen):\n",
        "    xSample.append(wordIndexes[index:index+xLen])\n",
        "    index += step\n",
        "    \n",
        "  return xSample"
      ],
      "execution_count": null,
      "outputs": []
    },
    {
      "cell_type": "code",
      "metadata": {
        "id": "3an-gzKcwBH0"
      },
      "source": [
        "# Формирование обучающей и проверочной выборки\n",
        "\n",
        "def createSetsMultiClasses(wordIndexes, xLen, step): # функция принимает последовательность индексов, размер окна, шаг окна\n",
        "\n",
        "   # Создаём обучающую/проверочную выборку из индексов\n",
        "  nClasses = len(wordIndexes) \n",
        "  classesXSamples = []        \n",
        "  for wI in wordIndexes:      \n",
        "    classesXSamples.append(getSetFromIndexes(wI, xLen, step)) \n",
        "\n",
        "  # Формируем один общий xSamples\n",
        "  xSamples = [] \n",
        "  ySamples = []\n",
        "  \n",
        "  for t in range(nClasses):  \n",
        "    xT = classesXSamples[t]  \n",
        "    for i in range(len(xT)): \n",
        "      xSamples.append(xT[i])\n",
        "    \n",
        "    # Формируем ySamples по номеру класса\n",
        "    currY = utils.to_categorical(t, nClasses) \n",
        "    for i in range(len(xT)): \n",
        "      ySamples.append(currY) \n",
        "\n",
        "  # переводим в массив numpy для подачи в нейронку\n",
        "  xSamples = np.array(xSamples) \n",
        "  ySamples = np.array(ySamples) \n",
        "\n",
        "  \n",
        "  return (xSamples, ySamples)   # функция возвращает выборку и соответствующие векторы классов"
      ],
      "execution_count": null,
      "outputs": []
    },
    {
      "cell_type": "code",
      "metadata": {
        "id": "XRZ_gX4pwBH2"
      },
      "source": [
        "# Задаём базовые параметры\n",
        "xLen = 1000 # Длина отрезка текста, по которой анализируем, в словах\n",
        "step = 100 # Шаг разбиения исходного текста на обучающие вектора"
      ],
      "execution_count": null,
      "outputs": []
    },
    {
      "cell_type": "code",
      "metadata": {
        "id": "mzPt2GL8wBH4"
      },
      "source": [
        "# Формируем обучающую и тестовую выборку\n",
        "xTrain, yTrain = createSetsMultiClasses(trainWordIndexes, xLen, step) # извлекаем обучающую выборку\n",
        "xTest, yTest = createSetsMultiClasses(testWordIndexes, xLen, step)    # извлекаем тестовую выборку"
      ],
      "execution_count": null,
      "outputs": []
    },
    {
      "cell_type": "code",
      "metadata": {
        "id": "U-hPyVhTwBH5"
      },
      "source": [
        "# Представляем тестовую выборку в удобных для распознавания размерах\n",
        "\n",
        "def createTestMultiClasses(wordIndexes, xLen, step): # функция принимает последовательность индексов, размер окна, шаг окна\n",
        "\n",
        "  # Создаём тестовую выборку из индексов\n",
        "  nClasses = len(wordIndexes) \n",
        "  xTest6Classes01 = []               \n",
        "  xTest6Classes = []                 \n",
        "  for wI in wordIndexes:            \n",
        "    sample = (getSetFromIndexes(wI, xLen, step)) \n",
        "    xTest6Classes.append(np.array(sample))      \n",
        "    xTest6Classes01.append(tokenizer.sequences_to_matrix(sample)) \n",
        "  xTest6Classes01 = np.array(xTest6Classes01)                   \n",
        "  \n",
        "  return xTest6Classes01, xTest6Classes # функция вернёт тестовые данные\n",
        "\n",
        "\n",
        "# Расспознаём тестовую выборку и выводим результаты\n",
        "def recognizeMultiClass(model, xTest, modelName):\n",
        "  print(\"НЕЙРОНКА: \", modelName)\n",
        "  print()\n",
        "  \n",
        "  val = []\n",
        "  pred = []\n",
        "  \n",
        "  totalSumRec = []\n",
        "  \n",
        "  # Проходим по всем классам\n",
        "  for i in range(nClasses):\n",
        "    currPred = model.predict(xTest[i])\n",
        "    pred.append(currPred)\n",
        "    currOut = np.argmax(currPred, axis=1)\n",
        "    \n",
        "    evVal = []\n",
        "    sumRec = []\n",
        "    for j in range(nClasses):\n",
        "      sumRec.append(0)\n",
        "      for t in range(len(currOut)):\n",
        "        if (currOut[t] == j):\n",
        "          sumRec[j] += 1\n",
        "      evVal.append(sumRec[j] / len(currOut))\n",
        "    \n",
        "    totalSumRec.append(sumRec[i])\n",
        "    \n",
        "    # Определяем, какой в класс в итоге за какой был распознан\n",
        "    val.append(evVal[i])\n",
        "    recognizedClass = np.argmax(evVal)\n",
        "    \n",
        "    # Выводим результаты распознавания по текущему классу\n",
        "    isRecognized = \"распознано НЕ ВЕРНО!\"\n",
        "    if (recognizedClass == i):\n",
        "      isRecognized = \"распознано ВЕРНО!\"\n",
        "    print(className[i], \" распознано \", int(100*evVal[i]), \"% сеть считает, что это \", className[recognizedClass], \", \", isRecognized)\n",
        "  \n",
        "  # Выводим вредний процент распознавания по всем классам вместе\n",
        "  print()\n",
        "  sumVal = 0\n",
        "  sumCount = 0\n",
        "  lenXtest = []\n",
        "  for i in range(nClasses):\n",
        "    sumCount += len(xTest[i])\n",
        "    sumVal += totalSumRec[i]\n",
        "  print(\"Средний процент распознавания \", int(100*sumVal/sumCount), \"%\")\n",
        "  print()\n",
        "  return sumVal/sumCount\n",
        "\n",
        "xTest6Classes01, xTest6Classes = createTestMultiClasses(testWordIndexes, xLen, step)"
      ],
      "execution_count": null,
      "outputs": []
    },
    {
      "cell_type": "markdown",
      "metadata": {
        "id": "aQDAZjPsF1Xy"
      },
      "source": [
        "### Четыре нейронки, которые нужно написать:\n",
        "\n",
        "* Embedding + Dense сеть.\n",
        "* Embedding + LSTM сеть.\n",
        "* Embedding + Conv1D сеть.\n",
        "* Embedding + сложная сеть из Dense, LSTM и Conv1D.\n",
        "\n",
        "\n"
      ]
    },
    {
      "cell_type": "markdown",
      "metadata": {
        "id": "tsGvDKF6GLJi"
      },
      "source": [
        "#### 1. Embedding + Dense сеть."
      ]
    },
    {
      "cell_type": "code",
      "metadata": {
        "id": "5Z8kx0W0IymY",
        "colab": {
          "base_uri": "https://localhost:8080/",
          "height": 1000
        },
        "outputId": "43e68ff6-dabc-41a8-d088-a315354f6d05"
      },
      "source": [
        "# Embedding + Dense сеть.\n",
        "\n",
        "# Создаем модель\n",
        "model1 = Sequential() \n",
        "\n",
        "model1.add(Embedding(maxWordsCount, 100, input_length=xLen))\n",
        "model1.add(SpatialDropout1D(0.4)) \n",
        "model1.add(BatchNormalization()) \n",
        "model1.add(Conv1D(20, 10, activation=\"relu\")) \n",
        "model1.add(Conv1D(20, 10, activation=\"relu\")) \n",
        "model1.add(MaxPooling1D(6))\n",
        "model1.add(Dropout(0.4))\n",
        "model1.add(BatchNormalization()) \n",
        "model1.add(Flatten())\n",
        "model1.add(Dense(6, activation='softmax')) \n",
        "\n",
        "#Компилируем\n",
        "model1.compile(optimizer='rmsprop', \n",
        "              loss='categorical_crossentropy', \n",
        "              metrics=['accuracy'])\n",
        "\n",
        "#Обучаем\n",
        "history1 = model1.fit(xTrain, \n",
        "                    yTrain, \n",
        "                    epochs=30,\n",
        "                    batch_size=200,\n",
        "                    validation_data=(xTest, yTest))\n",
        "\n",
        "#Визуализируем результаты\n",
        "plt.plot(history1.history['accuracy'], \n",
        "         label='Доля верных ответов на обучающем наборе')\n",
        "plt.plot(history1.history['val_accuracy'], \n",
        "         label='Доля верных ответов на проверочном наборе')\n",
        "plt.xlabel('Эпоха обучения')\n",
        "plt.ylabel('Доля верных ответов')\n",
        "plt.legend()\n",
        "plt.show()\n",
        "\n",
        "pred1 = recognizeMultiClass(model1, xTest6Classes, \"Embedding + Dense\") #функция покажет какие классы и как распознаны верно"
      ],
      "execution_count": null,
      "outputs": [
        {
          "output_type": "stream",
          "text": [
            "Epoch 1/30\n",
            "89/89 [==============================] - 155s 2s/step - loss: 1.2112 - accuracy: 0.5705 - val_loss: 5.4710 - val_accuracy: 0.2549\n",
            "Epoch 2/30\n",
            "89/89 [==============================] - 155s 2s/step - loss: 0.0300 - accuracy: 0.9923 - val_loss: 10.0910 - val_accuracy: 0.0781\n",
            "Epoch 3/30\n",
            "89/89 [==============================] - 155s 2s/step - loss: 0.0027 - accuracy: 0.9994 - val_loss: 10.9643 - val_accuracy: 0.2086\n",
            "Epoch 4/30\n",
            "89/89 [==============================] - 157s 2s/step - loss: 0.0024 - accuracy: 0.9993 - val_loss: 10.4428 - val_accuracy: 0.1927\n",
            "Epoch 5/30\n",
            "89/89 [==============================] - 159s 2s/step - loss: 0.0012 - accuracy: 0.9997 - val_loss: 6.1663 - val_accuracy: 0.3537\n",
            "Epoch 6/30\n",
            "89/89 [==============================] - 162s 2s/step - loss: 0.0020 - accuracy: 0.9994 - val_loss: 4.5908 - val_accuracy: 0.3683\n",
            "Epoch 7/30\n",
            "89/89 [==============================] - 160s 2s/step - loss: 0.0021 - accuracy: 0.9992 - val_loss: 1.4881 - val_accuracy: 0.6402\n",
            "Epoch 8/30\n",
            "89/89 [==============================] - 162s 2s/step - loss: 0.0013 - accuracy: 0.9996 - val_loss: 3.2741 - val_accuracy: 0.5071\n",
            "Epoch 9/30\n",
            "89/89 [==============================] - 161s 2s/step - loss: 0.0011 - accuracy: 0.9996 - val_loss: 2.6513 - val_accuracy: 0.5569\n",
            "Epoch 10/30\n",
            "89/89 [==============================] - 157s 2s/step - loss: 0.0011 - accuracy: 0.9995 - val_loss: 2.6317 - val_accuracy: 0.6153\n",
            "Epoch 11/30\n",
            "89/89 [==============================] - 155s 2s/step - loss: 8.1492e-04 - accuracy: 0.9997 - val_loss: 0.9097 - val_accuracy: 0.7983\n",
            "Epoch 12/30\n",
            "89/89 [==============================] - 154s 2s/step - loss: 0.0022 - accuracy: 0.9992 - val_loss: 2.6456 - val_accuracy: 0.6302\n",
            "Epoch 13/30\n",
            "89/89 [==============================] - 154s 2s/step - loss: 3.6655e-04 - accuracy: 0.9999 - val_loss: 1.6117 - val_accuracy: 0.7559\n",
            "Epoch 14/30\n",
            "89/89 [==============================] - 154s 2s/step - loss: 0.0011 - accuracy: 0.9997 - val_loss: 1.7115 - val_accuracy: 0.7155\n",
            "Epoch 15/30\n",
            "89/89 [==============================] - 154s 2s/step - loss: 0.0010 - accuracy: 0.9997 - val_loss: 3.5983 - val_accuracy: 0.5739\n",
            "Epoch 16/30\n",
            "89/89 [==============================] - 153s 2s/step - loss: 5.8463e-04 - accuracy: 0.9998 - val_loss: 3.2644 - val_accuracy: 0.6310\n",
            "Epoch 17/30\n",
            "89/89 [==============================] - 153s 2s/step - loss: 2.0173e-04 - accuracy: 0.9999 - val_loss: 1.1771 - val_accuracy: 0.7790\n",
            "Epoch 18/30\n",
            "89/89 [==============================] - 152s 2s/step - loss: 0.0011 - accuracy: 0.9997 - val_loss: 2.5155 - val_accuracy: 0.6546\n",
            "Epoch 19/30\n",
            "89/89 [==============================] - 152s 2s/step - loss: 9.9145e-04 - accuracy: 0.9994 - val_loss: 1.9785 - val_accuracy: 0.7012\n",
            "Epoch 20/30\n",
            "89/89 [==============================] - 151s 2s/step - loss: 0.0011 - accuracy: 0.9997 - val_loss: 2.1395 - val_accuracy: 0.6768\n",
            "Epoch 21/30\n",
            "89/89 [==============================] - 154s 2s/step - loss: 9.9294e-04 - accuracy: 0.9997 - val_loss: 1.3454 - val_accuracy: 0.7512\n",
            "Epoch 22/30\n",
            "89/89 [==============================] - 156s 2s/step - loss: 2.4303e-04 - accuracy: 0.9999 - val_loss: 1.1142 - val_accuracy: 0.7935\n",
            "Epoch 23/30\n",
            "89/89 [==============================] - 152s 2s/step - loss: 4.3433e-04 - accuracy: 0.9999 - val_loss: 2.9469 - val_accuracy: 0.5725\n",
            "Epoch 24/30\n",
            "89/89 [==============================] - 152s 2s/step - loss: 7.0664e-04 - accuracy: 0.9999 - val_loss: 2.6128 - val_accuracy: 0.6429\n",
            "Epoch 25/30\n",
            "89/89 [==============================] - 152s 2s/step - loss: 6.8274e-04 - accuracy: 0.9997 - val_loss: 1.7856 - val_accuracy: 0.7113\n",
            "Epoch 26/30\n",
            "89/89 [==============================] - 152s 2s/step - loss: 1.5497e-04 - accuracy: 0.9999 - val_loss: 1.9416 - val_accuracy: 0.6764\n",
            "Epoch 27/30\n",
            "89/89 [==============================] - 153s 2s/step - loss: 8.9974e-04 - accuracy: 0.9997 - val_loss: 2.7596 - val_accuracy: 0.6785\n",
            "Epoch 28/30\n",
            "89/89 [==============================] - 153s 2s/step - loss: 0.0019 - accuracy: 0.9997 - val_loss: 1.7731 - val_accuracy: 0.7423\n",
            "Epoch 29/30\n",
            "89/89 [==============================] - 153s 2s/step - loss: 8.7000e-05 - accuracy: 1.0000 - val_loss: 2.1153 - val_accuracy: 0.7287\n",
            "Epoch 30/30\n",
            "89/89 [==============================] - 154s 2s/step - loss: 0.0013 - accuracy: 0.9995 - val_loss: 1.2898 - val_accuracy: 0.7684\n"
          ],
          "name": "stdout"
        },
        {
          "output_type": "display_data",
          "data": {
            "image/png": "[encoded data removed]",
            "text/plain": [
              "<Figure size 432x288 with 1 Axes>"
            ]
          },
          "metadata": {
            "tags": [],
            "needs_background": "light"
          }
        },
        {
          "output_type": "stream",
          "text": [
            "НЕЙРОНКА:  Embedding + Dense\n",
            "\n",
            "О. Генри  распознано  92 % сеть считает, что это  О. Генри ,  распознано ВЕРНО!\n",
            "Стругацкие  распознано  74 % сеть считает, что это  Стругацкие ,  распознано ВЕРНО!\n",
            "Булгаков  распознано  61 % сеть считает, что это  Булгаков ,  распознано ВЕРНО!\n",
            "Саймак  распознано  83 % сеть считает, что это  Саймак ,  распознано ВЕРНО!\n",
            "Фрай  распознано  90 % сеть считает, что это  Фрай ,  распознано ВЕРНО!\n",
            "Брэдберри  распознано  66 % сеть считает, что это  Брэдберри ,  распознано ВЕРНО!\n",
            "\n",
            "Средний процент распознавания  76 %\n",
            "\n"
          ],
          "name": "stdout"
        }
      ]
    },
    {
      "cell_type": "code",
      "metadata": {
        "id": "vtmPP_APBxEz",
        "colab": {
          "base_uri": "https://localhost:8080/",
          "height": 50
        },
        "outputId": "0d823050-95c8-404b-9b31-14c4070082c6"
      },
      "source": [
        "last_val_accuracy1 = history1.history['val_accuracy'][-1]\n",
        "print(\"Нейронка: Embedding + Dense сеть\")\n",
        "print(\"Точность классификации данных на проверочной выборке:\", round(last_val_accuracy1*100, 2), \"%\")"
      ],
      "execution_count": null,
      "outputs": [
        {
          "output_type": "stream",
          "text": [
            "Нейронка: Embedding + Dense сеть\n",
            "Точность классификации данных на проверочной выборке: 76.84 %\n"
          ],
          "name": "stdout"
        }
      ]
    },
    {
      "cell_type": "markdown",
      "metadata": {
        "id": "-uGYMZEzG2fq"
      },
      "source": [
        "#### 2. Embedding + LSTM сеть.\n",
        "\n",
        "\n",
        "\n"
      ]
    },
    {
      "cell_type": "code",
      "metadata": {
        "id": "J-BXjScFDpZ1",
        "colab": {
          "base_uri": "https://localhost:8080/",
          "height": 1000
        },
        "outputId": "2c6cb66f-fc8b-430c-a443-5025271f1439"
      },
      "source": [
        "# Embedding + LSTM сеть\n",
        "\n",
        "# Создаем модель\n",
        "model2 = Sequential() \n",
        "\n",
        "model2.add(Embedding(maxWordsCount, 100, input_length=xLen))\n",
        "model2.add(SpatialDropout1D(0.5)) \n",
        "model2.add(BatchNormalization()) \n",
        "model2.add(LSTM(16, return_sequences=True))\n",
        "model2.add(LSTM(16))\n",
        "model2.add(BatchNormalization()) \n",
        "model2.add(Dense(6, activation='softmax')) \n",
        "\n",
        "#Компилируем\n",
        "model2.compile(optimizer='rmsprop', \n",
        "              loss='categorical_crossentropy', \n",
        "              metrics=['accuracy'])\n",
        "#Обучаем\n",
        "history2 = model2.fit(xTrain, \n",
        "                    yTrain, \n",
        "                    epochs=30,\n",
        "                    batch_size=200,\n",
        "                    validation_data=(xTest, yTest))\n",
        "\n",
        "#Визуализируем результаты\n",
        "plt.plot(history2.history['accuracy'], \n",
        "         label='Доля верных ответов на обучающем наборе')\n",
        "plt.plot(history2.history['val_accuracy'], \n",
        "         label='Доля верных ответов на проверочном наборе')\n",
        "plt.xlabel('Эпоха обучения')\n",
        "plt.ylabel('Доля верных ответов')\n",
        "plt.legend()\n",
        "plt.show()\n",
        "\n",
        "pred2 = recognizeMultiClass(model2, xTest6Classes, \"Embedding + LSTM сеть\") #функция покажет какие классы и как распознаны верно\n",
        "\n",
        "# Дообучим сеть\n",
        "\n",
        "# Снова компиляция, составление модели с выбором алгоритма оптимизации, функции потерь и метрики точности\n",
        "model2.compile(optimizer='rmsprop', \n",
        "             loss='categorical_crossentropy', \n",
        "             metrics=['accuracy'])\n",
        "\n",
        "# Дообучаем сеть с указанием тренировочной выборки, количества эпох, размера минибатча для подачи сети, и тестовой выборки\n",
        "history2_ = model2.fit(xTrain, \n",
        "                    yTrain, \n",
        "                    epochs=15,\n",
        "                    batch_size=200,\n",
        "                    validation_data=(xTest, yTest))\n",
        "\n",
        "#Визуализируем результаты\n",
        "plt.plot(history2_.history['accuracy'], \n",
        "         label='Доля верных ответов на обучающем наборе')\n",
        "plt.plot(history2_.history['val_accuracy'], \n",
        "         label='Доля верных ответов на проверочном наборе')\n",
        "plt.xlabel('Эпоха обучения')\n",
        "plt.ylabel('Доля верных ответов')\n",
        "plt.legend()\n",
        "plt.show()\n",
        "\n",
        "pred2_ = recognizeMultiClass(model2, xTest6Classes, \"Embedding + LSTM сеть\") #функция покажет какие классы и как распознаны верно"
      ],
      "execution_count": null,
      "outputs": [
        {
          "output_type": "stream",
          "text": [
            "Epoch 1/30\n",
            "89/89 [==============================] - 14s 160ms/step - loss: 1.5751 - accuracy: 0.3865 - val_loss: 1.8409 - val_accuracy: 0.2486\n",
            "Epoch 2/30\n",
            "89/89 [==============================] - 13s 152ms/step - loss: 0.9317 - accuracy: 0.6652 - val_loss: 2.0390 - val_accuracy: 0.1497\n",
            "Epoch 3/30\n",
            "89/89 [==============================] - 13s 149ms/step - loss: 0.5675 - accuracy: 0.8086 - val_loss: 2.5076 - val_accuracy: 0.2597\n",
            "Epoch 4/30\n",
            "89/89 [==============================] - 14s 152ms/step - loss: 0.3919 - accuracy: 0.8773 - val_loss: 2.5355 - val_accuracy: 0.2748\n",
            "Epoch 5/30\n",
            "89/89 [==============================] - 14s 153ms/step - loss: 0.2546 - accuracy: 0.9254 - val_loss: 2.1529 - val_accuracy: 0.4696\n",
            "Epoch 6/30\n",
            "89/89 [==============================] - 14s 155ms/step - loss: 0.1596 - accuracy: 0.9552 - val_loss: 2.2225 - val_accuracy: 0.5155\n",
            "Epoch 7/30\n",
            "89/89 [==============================] - 14s 154ms/step - loss: 0.1246 - accuracy: 0.9660 - val_loss: 1.8490 - val_accuracy: 0.5926\n",
            "Epoch 8/30\n",
            "89/89 [==============================] - 14s 155ms/step - loss: 0.0822 - accuracy: 0.9777 - val_loss: 1.9541 - val_accuracy: 0.5976\n",
            "Epoch 9/30\n",
            "89/89 [==============================] - 14s 155ms/step - loss: 0.0669 - accuracy: 0.9841 - val_loss: 2.0726 - val_accuracy: 0.6097\n",
            "Epoch 10/30\n",
            "89/89 [==============================] - 13s 151ms/step - loss: 0.0757 - accuracy: 0.9838 - val_loss: 2.5689 - val_accuracy: 0.5512\n",
            "Epoch 11/30\n",
            "89/89 [==============================] - 14s 154ms/step - loss: 0.0394 - accuracy: 0.9913 - val_loss: 1.6445 - val_accuracy: 0.6710\n",
            "Epoch 12/30\n",
            "89/89 [==============================] - 14s 155ms/step - loss: 0.0450 - accuracy: 0.9888 - val_loss: 1.9949 - val_accuracy: 0.6202\n",
            "Epoch 13/30\n",
            "89/89 [==============================] - 14s 152ms/step - loss: 0.0556 - accuracy: 0.9874 - val_loss: 1.9057 - val_accuracy: 0.6529\n",
            "Epoch 14/30\n",
            "89/89 [==============================] - 13s 152ms/step - loss: 0.0379 - accuracy: 0.9912 - val_loss: 2.1953 - val_accuracy: 0.6030\n",
            "Epoch 15/30\n",
            "89/89 [==============================] - 13s 149ms/step - loss: 0.0320 - accuracy: 0.9921 - val_loss: 2.0138 - val_accuracy: 0.6339\n",
            "Epoch 16/30\n",
            "89/89 [==============================] - 13s 151ms/step - loss: 0.0465 - accuracy: 0.9885 - val_loss: 2.3766 - val_accuracy: 0.5896\n",
            "Epoch 17/30\n",
            "89/89 [==============================] - 14s 153ms/step - loss: 0.0347 - accuracy: 0.9911 - val_loss: 1.8587 - val_accuracy: 0.6586\n",
            "Epoch 18/30\n",
            "89/89 [==============================] - 14s 155ms/step - loss: 0.0255 - accuracy: 0.9936 - val_loss: 1.6265 - val_accuracy: 0.6701\n",
            "Epoch 19/30\n",
            "89/89 [==============================] - 13s 151ms/step - loss: 0.0202 - accuracy: 0.9954 - val_loss: 1.9851 - val_accuracy: 0.6319\n",
            "Epoch 20/30\n",
            "89/89 [==============================] - 13s 150ms/step - loss: 0.0217 - accuracy: 0.9945 - val_loss: 1.9470 - val_accuracy: 0.6519\n",
            "Epoch 21/30\n",
            "89/89 [==============================] - 14s 153ms/step - loss: 0.0209 - accuracy: 0.9950 - val_loss: 2.1039 - val_accuracy: 0.6372\n",
            "Epoch 22/30\n",
            "89/89 [==============================] - 14s 154ms/step - loss: 0.0310 - accuracy: 0.9922 - val_loss: 1.8037 - val_accuracy: 0.6459\n",
            "Epoch 23/30\n",
            "89/89 [==============================] - 13s 151ms/step - loss: 0.0167 - accuracy: 0.9963 - val_loss: 2.0298 - val_accuracy: 0.6472\n",
            "Epoch 24/30\n",
            "89/89 [==============================] - 14s 154ms/step - loss: 0.0179 - accuracy: 0.9959 - val_loss: 2.1682 - val_accuracy: 0.6354\n",
            "Epoch 25/30\n",
            "89/89 [==============================] - 13s 151ms/step - loss: 0.0347 - accuracy: 0.9920 - val_loss: 2.0259 - val_accuracy: 0.6596\n",
            "Epoch 26/30\n",
            "89/89 [==============================] - 13s 151ms/step - loss: 0.0228 - accuracy: 0.9952 - val_loss: 1.9132 - val_accuracy: 0.6620\n",
            "Epoch 27/30\n",
            "89/89 [==============================] - 14s 155ms/step - loss: 0.0169 - accuracy: 0.9964 - val_loss: 2.3617 - val_accuracy: 0.6220\n",
            "Epoch 28/30\n",
            "89/89 [==============================] - 14s 153ms/step - loss: 0.0224 - accuracy: 0.9948 - val_loss: 2.1443 - val_accuracy: 0.6274\n",
            "Epoch 29/30\n",
            "89/89 [==============================] - 14s 153ms/step - loss: 0.0144 - accuracy: 0.9967 - val_loss: 1.9327 - val_accuracy: 0.6528\n",
            "Epoch 30/30\n",
            "89/89 [==============================] - 14s 153ms/step - loss: 0.0202 - accuracy: 0.9945 - val_loss: 1.9180 - val_accuracy: 0.6310\n"
          ],
          "name": "stdout"
        },
        {
          "output_type": "display_data",
          "data": {
            "image/png": "[encoded data removed]",
            "text/plain": [
              "<Figure size 432x288 with 1 Axes>"
            ]
          },
          "metadata": {
            "tags": [],
            "needs_background": "light"
          }
        },
        {
          "output_type": "stream",
          "text": [
            "НЕЙРОНКА:  Embedding + LSTM сеть\n",
            "\n",
            "О. Генри  распознано  66 % сеть считает, что это  О. Генри ,  распознано ВЕРНО!\n",
            "Стругацкие  распознано  46 % сеть считает, что это  Стругацкие ,  распознано ВЕРНО!\n",
            "Булгаков  распознано  47 % сеть считает, что это  Булгаков ,  распознано ВЕРНО!\n",
            "Саймак  распознано  37 % сеть считает, что это  Брэдберри ,  распознано НЕ ВЕРНО!\n",
            "Фрай  распознано  79 % сеть считает, что это  Фрай ,  распознано ВЕРНО!\n",
            "Брэдберри  распознано  76 % сеть считает, что это  Брэдберри ,  распознано ВЕРНО!\n",
            "\n",
            "Средний процент распознавания  63 %\n",
            "\n",
            "Epoch 1/15\n",
            "89/89 [==============================] - 14s 158ms/step - loss: 0.0156 - accuracy: 0.9958 - val_loss: 2.0853 - val_accuracy: 0.6420\n",
            "Epoch 2/15\n",
            "89/89 [==============================] - 13s 149ms/step - loss: 0.0153 - accuracy: 0.9965 - val_loss: 2.3739 - val_accuracy: 0.6102\n",
            "Epoch 3/15\n",
            "89/89 [==============================] - 14s 153ms/step - loss: 0.0162 - accuracy: 0.9963 - val_loss: 1.9570 - val_accuracy: 0.6688\n",
            "Epoch 4/15\n",
            "89/89 [==============================] - 13s 150ms/step - loss: 0.0152 - accuracy: 0.9965 - val_loss: 1.7803 - val_accuracy: 0.6859\n",
            "Epoch 5/15\n",
            "89/89 [==============================] - 13s 151ms/step - loss: 0.0125 - accuracy: 0.9968 - val_loss: 2.0049 - val_accuracy: 0.6498\n",
            "Epoch 6/15\n",
            "89/89 [==============================] - 14s 152ms/step - loss: 0.0168 - accuracy: 0.9958 - val_loss: 2.3063 - val_accuracy: 0.6023\n",
            "Epoch 7/15\n",
            "89/89 [==============================] - 13s 151ms/step - loss: 0.0108 - accuracy: 0.9971 - val_loss: 2.6039 - val_accuracy: 0.5893\n",
            "Epoch 8/15\n",
            "89/89 [==============================] - 13s 147ms/step - loss: 0.0178 - accuracy: 0.9956 - val_loss: 2.0669 - val_accuracy: 0.6420\n",
            "Epoch 9/15\n",
            "89/89 [==============================] - 13s 149ms/step - loss: 0.0223 - accuracy: 0.9946 - val_loss: 2.1787 - val_accuracy: 0.6292\n",
            "Epoch 10/15\n",
            "89/89 [==============================] - 13s 151ms/step - loss: 0.0173 - accuracy: 0.9956 - val_loss: 2.3074 - val_accuracy: 0.5941\n",
            "Epoch 11/15\n",
            "89/89 [==============================] - 13s 151ms/step - loss: 0.0122 - accuracy: 0.9971 - val_loss: 2.2330 - val_accuracy: 0.6192\n",
            "Epoch 12/15\n",
            "89/89 [==============================] - 13s 152ms/step - loss: 0.0133 - accuracy: 0.9965 - val_loss: 2.3112 - val_accuracy: 0.6059\n",
            "Epoch 13/15\n",
            "89/89 [==============================] - 13s 151ms/step - loss: 0.0126 - accuracy: 0.9972 - val_loss: 2.5462 - val_accuracy: 0.6088\n",
            "Epoch 14/15\n",
            "89/89 [==============================] - 13s 150ms/step - loss: 0.0192 - accuracy: 0.9959 - val_loss: 1.9365 - val_accuracy: 0.6556\n",
            "Epoch 15/15\n",
            "89/89 [==============================] - 13s 150ms/step - loss: 0.0123 - accuracy: 0.9973 - val_loss: 1.8585 - val_accuracy: 0.6625\n"
          ],
          "name": "stdout"
        },
        {
          "output_type": "display_data",
          "data": {
            "image/png": "[encoded data removed]",
            "text/plain": [
              "<Figure size 432x288 with 1 Axes>"
            ]
          },
          "metadata": {
            "tags": [],
            "needs_background": "light"
          }
        },
        {
          "output_type": "stream",
          "text": [
            "НЕЙРОНКА:  Embedding + LSTM сеть\n",
            "\n",
            "О. Генри  распознано  62 % сеть считает, что это  О. Генри ,  распознано ВЕРНО!\n",
            "Стругацкие  распознано  48 % сеть считает, что это  Стругацкие ,  распознано ВЕРНО!\n",
            "Булгаков  распознано  51 % сеть считает, что это  Булгаков ,  распознано ВЕРНО!\n",
            "Саймак  распознано  71 % сеть считает, что это  Саймак ,  распознано ВЕРНО!\n",
            "Фрай  распознано  76 % сеть считает, что это  Фрай ,  распознано ВЕРНО!\n",
            "Брэдберри  распознано  79 % сеть считает, что это  Брэдберри ,  распознано ВЕРНО!\n",
            "\n",
            "Средний процент распознавания  66 %\n",
            "\n"
          ],
          "name": "stdout"
        }
      ]
    },
    {
      "cell_type": "code",
      "metadata": {
        "id": "92ufdkrjWt8h",
        "colab": {
          "base_uri": "https://localhost:8080/",
          "height": 1000
        },
        "outputId": "79d3955c-1511-4491-c909-581640cfbe30"
      },
      "source": [
        "# Дообучим сеть\n",
        "\n",
        "# Снова компиляция, составление модели с выбором алгоритма оптимизации, функции потерь и метрики точности\n",
        "model2.compile(optimizer='adam', \n",
        "             loss='categorical_crossentropy', \n",
        "             metrics=['accuracy'])\n",
        "\n",
        "# Дообучаем сеть с указанием тренировочной выборки, количества эпох, размера минибатча для подачи сети, и тестовой выборки\n",
        "history2_ = model2.fit(xTrain, \n",
        "                    yTrain, \n",
        "                    epochs=19,\n",
        "                    batch_size=200,\n",
        "                    validation_data=(xTest, yTest))\n",
        "\n",
        "\n",
        "# Строим график для отображения динамики обучения и точности предсказания сети\n",
        "plt.plot(history2_.history['accuracy'], \n",
        "         label='Доля верных ответов на обучающем наборе')\n",
        "plt.plot(history2_.history['val_accuracy'], \n",
        "         label='Доля верных ответов на проверочном наборе')\n",
        "plt.xlabel('Эпоха обучения')\n",
        "plt.ylabel('Доля верных ответов')\n",
        "plt.legend()\n",
        "plt.show()\n",
        "\n",
        "pred2_ = recognizeMultiClass(model2, xTest6Classes, \"Embedding + LSTM\") #функция покажет какие классы и как распознаны верно"
      ],
      "execution_count": null,
      "outputs": [
        {
          "output_type": "stream",
          "text": [
            "Epoch 1/19\n",
            "89/89 [==============================] - 14s 152ms/step - loss: 0.0044 - accuracy: 0.9996 - val_loss: 9.3602 - val_accuracy: 0.7255\n",
            "Epoch 2/19\n",
            "89/89 [==============================] - 13s 150ms/step - loss: 0.0049 - accuracy: 0.9997 - val_loss: 8.9074 - val_accuracy: 0.7270\n",
            "Epoch 3/19\n",
            "89/89 [==============================] - 13s 150ms/step - loss: 0.0027 - accuracy: 0.9998 - val_loss: 7.7459 - val_accuracy: 0.7367\n",
            "Epoch 4/19\n",
            "89/89 [==============================] - 13s 150ms/step - loss: 0.0025 - accuracy: 0.9995 - val_loss: 9.0109 - val_accuracy: 0.7430\n",
            "Epoch 5/19\n",
            "89/89 [==============================] - 13s 150ms/step - loss: 0.0042 - accuracy: 0.9997 - val_loss: 9.8092 - val_accuracy: 0.7169\n",
            "Epoch 6/19\n",
            "89/89 [==============================] - 13s 149ms/step - loss: 2.9747e-04 - accuracy: 0.9999 - val_loss: 6.8249 - val_accuracy: 0.7672\n",
            "Epoch 7/19\n",
            "89/89 [==============================] - 13s 150ms/step - loss: 0.0012 - accuracy: 0.9998 - val_loss: 5.7053 - val_accuracy: 0.7913\n",
            "Epoch 8/19\n",
            "89/89 [==============================] - 13s 150ms/step - loss: 0.0073 - accuracy: 0.9997 - val_loss: 15.3403 - val_accuracy: 0.6378\n",
            "Epoch 9/19\n",
            "89/89 [==============================] - 13s 150ms/step - loss: 0.0017 - accuracy: 0.9999 - val_loss: 8.6480 - val_accuracy: 0.7532\n",
            "Epoch 10/19\n",
            "89/89 [==============================] - 13s 150ms/step - loss: 0.0013 - accuracy: 0.9998 - val_loss: 8.7082 - val_accuracy: 0.7227\n",
            "Epoch 11/19\n",
            "89/89 [==============================] - 13s 151ms/step - loss: 0.0058 - accuracy: 0.9996 - val_loss: 6.7045 - val_accuracy: 0.7905\n",
            "Epoch 12/19\n",
            "89/89 [==============================] - 13s 149ms/step - loss: 0.0031 - accuracy: 0.9996 - val_loss: 6.6371 - val_accuracy: 0.7910\n",
            "Epoch 13/19\n",
            "89/89 [==============================] - 13s 150ms/step - loss: 0.0049 - accuracy: 0.9998 - val_loss: 5.7506 - val_accuracy: 0.8002\n",
            "Epoch 14/19\n",
            "89/89 [==============================] - 13s 150ms/step - loss: 3.4422e-04 - accuracy: 0.9999 - val_loss: 6.0969 - val_accuracy: 0.7804\n",
            "Epoch 15/19\n",
            "89/89 [==============================] - 13s 150ms/step - loss: 3.4510e-04 - accuracy: 0.9999 - val_loss: 10.1376 - val_accuracy: 0.7299\n",
            "Epoch 16/19\n",
            "89/89 [==============================] - 13s 149ms/step - loss: 5.0588e-04 - accuracy: 0.9998 - val_loss: 4.8021 - val_accuracy: 0.8227\n",
            "Epoch 17/19\n",
            "89/89 [==============================] - 13s 151ms/step - loss: 0.0022 - accuracy: 0.9999 - val_loss: 5.0230 - val_accuracy: 0.8339\n",
            "Epoch 18/19\n",
            "89/89 [==============================] - 13s 150ms/step - loss: 3.7843e-04 - accuracy: 0.9999 - val_loss: 6.9412 - val_accuracy: 0.7919\n",
            "Epoch 19/19\n",
            "89/89 [==============================] - 13s 149ms/step - loss: 2.6130e-04 - accuracy: 0.9999 - val_loss: 5.3140 - val_accuracy: 0.8197\n"
          ],
          "name": "stdout"
        },
        {
          "output_type": "display_data",
          "data": {
            "image/png": "[encoded data removed]",
            "text/plain": [
              "<Figure size 432x288 with 1 Axes>"
            ]
          },
          "metadata": {
            "tags": [],
            "needs_background": "light"
          }
        },
        {
          "output_type": "stream",
          "text": [
            "НЕЙРОНКА:  Embedding + LSTM\n",
            "\n",
            "О. Генри  распознано  92 % сеть считает, что это  О. Генри ,  распознано ВЕРНО!\n",
            "Стругацкие  распознано  84 % сеть считает, что это  Стругацкие ,  распознано ВЕРНО!\n",
            "Булгаков  распознано  85 % сеть считает, что это  Булгаков ,  распознано ВЕРНО!\n",
            "Саймак  распознано  62 % сеть считает, что это  Саймак ,  распознано ВЕРНО!\n",
            "Фрай  распознано  88 % сеть считает, что это  Фрай ,  распознано ВЕРНО!\n",
            "Брэдберри  распознано  70 % сеть считает, что это  Брэдберри ,  распознано ВЕРНО!\n",
            "\n",
            "Средний процент распознавания  81 %\n",
            "\n"
          ],
          "name": "stdout"
        }
      ]
    },
    {
      "cell_type": "code",
      "metadata": {
        "id": "ggjwXPhFmVhb",
        "colab": {
          "base_uri": "https://localhost:8080/",
          "height": 50
        },
        "outputId": "98b3399b-73d1-443a-f07c-f2f0090e7114"
      },
      "source": [
        "last_val_accuracy2 = history2_.history['val_accuracy'][-1]\n",
        "print(\"Нейронка: Embedding + LSTM сеть.\")\n",
        "print(\"Точность классификации данных на проверочной выборке:\", round(last_val_accuracy2*100, 2), \"%\")"
      ],
      "execution_count": null,
      "outputs": [
        {
          "output_type": "stream",
          "text": [
            "Нейронка: Embedding + LSTM сеть.\n",
            "Точность классификации данных на проверочной выборке: 81.97 %\n"
          ],
          "name": "stdout"
        }
      ]
    },
    {
      "cell_type": "markdown",
      "metadata": {
        "id": "fDR_J950Hnxf"
      },
      "source": [
        "#### 3. Embedding + Conv1D сеть."
      ]
    },
    {
      "cell_type": "code",
      "metadata": {
        "id": "BTyeYHSUGg5c",
        "colab": {
          "base_uri": "https://localhost:8080/",
          "height": 1000
        },
        "outputId": "561a4727-9c4b-4ffc-8bb3-56e75608a387"
      },
      "source": [
        "# Embedding + Conv1D сеть\n",
        "\n",
        "# Создаем модель\n",
        "model3 = Sequential() \n",
        "\n",
        "model3.add(Embedding(maxWordsCount, 20, input_length=xLen))\n",
        "model3.add(SpatialDropout1D(0.4)) \n",
        "model3.add(BatchNormalization()) \n",
        "model3.add(Conv1D(20, 10, activation=\"relu\"))\n",
        "model3.add(MaxPooling1D(2)) \n",
        "model3.add(Conv1D(20, 10, activation=\"relu\")) \n",
        "model3.add(MaxPooling1D(2)) \n",
        "model3.add(Dropout(0.4))\n",
        "model3.add(BatchNormalization())\n",
        "model3.add(Flatten())\n",
        "model3.add(Dense(6, activation='softmax')) \n",
        "\n",
        "#Компилируем\n",
        "model3.compile(optimizer='rmsprop', \n",
        "              loss='categorical_crossentropy', \n",
        "              metrics=['accuracy'])\n",
        "\n",
        "#Обучаем\n",
        "history3 = model3.fit(xTrain, \n",
        "                    yTrain, \n",
        "                    epochs=25,\n",
        "                    batch_size=128,\n",
        "                    validation_data=(xTest, yTest))\n",
        "\n",
        "#Визуализируем результаты\n",
        "plt.plot(history3.history['accuracy'], \n",
        "         label='Доля верных ответов на обучающем наборе')\n",
        "plt.plot(history3.history['val_accuracy'], \n",
        "         label='Доля верных ответов на проверочном наборе')\n",
        "plt.xlabel('Эпоха обучения')\n",
        "plt.ylabel('Доля верных ответов')\n",
        "plt.legend()\n",
        "plt.show()\n",
        "\n",
        "pred3 = recognizeMultiClass(model3, xTest6Classes, \"Embedding + Conv1D сеть\") #функция покажет какие классы и как распознаны верно"
      ],
      "execution_count": null,
      "outputs": [
        {
          "output_type": "stream",
          "text": [
            "Epoch 1/25\n",
            "138/138 [==============================] - 3s 22ms/step - loss: 1.2976 - accuracy: 0.5238 - val_loss: 3.1137 - val_accuracy: 0.2928\n",
            "Epoch 2/25\n",
            "138/138 [==============================] - 3s 20ms/step - loss: 0.0895 - accuracy: 0.9704 - val_loss: 2.9191 - val_accuracy: 0.2982\n",
            "Epoch 3/25\n",
            "138/138 [==============================] - 3s 21ms/step - loss: 0.0194 - accuracy: 0.9930 - val_loss: 1.4154 - val_accuracy: 0.6269\n",
            "Epoch 4/25\n",
            "138/138 [==============================] - 3s 20ms/step - loss: 0.0201 - accuracy: 0.9929 - val_loss: 1.4494 - val_accuracy: 0.5975\n",
            "Epoch 5/25\n",
            "138/138 [==============================] - 3s 20ms/step - loss: 0.0156 - accuracy: 0.9946 - val_loss: 1.5564 - val_accuracy: 0.6903\n",
            "Epoch 6/25\n",
            "138/138 [==============================] - 3s 21ms/step - loss: 0.0167 - accuracy: 0.9945 - val_loss: 0.8165 - val_accuracy: 0.8008\n",
            "Epoch 7/25\n",
            "138/138 [==============================] - 3s 20ms/step - loss: 0.0138 - accuracy: 0.9956 - val_loss: 1.8890 - val_accuracy: 0.6317\n",
            "Epoch 8/25\n",
            "138/138 [==============================] - 3s 20ms/step - loss: 0.0165 - accuracy: 0.9952 - val_loss: 1.8518 - val_accuracy: 0.6898\n",
            "Epoch 9/25\n",
            "138/138 [==============================] - 3s 20ms/step - loss: 0.0118 - accuracy: 0.9964 - val_loss: 2.4567 - val_accuracy: 0.6650\n",
            "Epoch 10/25\n",
            "138/138 [==============================] - 3s 21ms/step - loss: 0.0100 - accuracy: 0.9965 - val_loss: 2.4426 - val_accuracy: 0.6041\n",
            "Epoch 11/25\n",
            "138/138 [==============================] - 3s 22ms/step - loss: 0.0140 - accuracy: 0.9958 - val_loss: 1.2180 - val_accuracy: 0.7633\n",
            "Epoch 12/25\n",
            "138/138 [==============================] - 3s 21ms/step - loss: 0.0129 - accuracy: 0.9959 - val_loss: 1.2443 - val_accuracy: 0.7754\n",
            "Epoch 13/25\n",
            "138/138 [==============================] - 3s 21ms/step - loss: 0.0142 - accuracy: 0.9955 - val_loss: 3.4913 - val_accuracy: 0.5624\n",
            "Epoch 14/25\n",
            "138/138 [==============================] - 3s 20ms/step - loss: 0.0134 - accuracy: 0.9959 - val_loss: 1.9937 - val_accuracy: 0.6952\n",
            "Epoch 15/25\n",
            "138/138 [==============================] - 3s 20ms/step - loss: 0.0125 - accuracy: 0.9964 - val_loss: 1.6303 - val_accuracy: 0.7260\n",
            "Epoch 16/25\n",
            "138/138 [==============================] - 3s 20ms/step - loss: 0.0100 - accuracy: 0.9968 - val_loss: 2.1883 - val_accuracy: 0.6767\n",
            "Epoch 17/25\n",
            "138/138 [==============================] - 3s 21ms/step - loss: 0.0105 - accuracy: 0.9968 - val_loss: 1.1982 - val_accuracy: 0.7834\n",
            "Epoch 18/25\n",
            "138/138 [==============================] - 3s 21ms/step - loss: 0.0100 - accuracy: 0.9970 - val_loss: 1.2710 - val_accuracy: 0.7654\n",
            "Epoch 19/25\n",
            "138/138 [==============================] - 3s 20ms/step - loss: 0.0122 - accuracy: 0.9965 - val_loss: 1.1604 - val_accuracy: 0.7641\n",
            "Epoch 20/25\n",
            "138/138 [==============================] - 3s 20ms/step - loss: 0.0118 - accuracy: 0.9961 - val_loss: 1.2589 - val_accuracy: 0.7751\n",
            "Epoch 21/25\n",
            "138/138 [==============================] - 3s 20ms/step - loss: 0.0095 - accuracy: 0.9968 - val_loss: 2.6724 - val_accuracy: 0.6768\n",
            "Epoch 22/25\n",
            "138/138 [==============================] - 3s 20ms/step - loss: 0.0089 - accuracy: 0.9975 - val_loss: 1.7393 - val_accuracy: 0.7417\n",
            "Epoch 23/25\n",
            "138/138 [==============================] - 3s 20ms/step - loss: 0.0115 - accuracy: 0.9968 - val_loss: 1.6514 - val_accuracy: 0.7384\n",
            "Epoch 24/25\n",
            "138/138 [==============================] - 3s 20ms/step - loss: 0.0096 - accuracy: 0.9972 - val_loss: 2.0535 - val_accuracy: 0.7391\n",
            "Epoch 25/25\n",
            "138/138 [==============================] - 3s 20ms/step - loss: 0.0108 - accuracy: 0.9972 - val_loss: 1.2659 - val_accuracy: 0.7901\n"
          ],
          "name": "stdout"
        },
        {
          "output_type": "display_data",
          "data": {
            "image/png": "[encoded data removed]",
            "text/plain": [
              "<Figure size 432x288 with 1 Axes>"
            ]
          },
          "metadata": {
            "tags": [],
            "needs_background": "light"
          }
        },
        {
          "output_type": "stream",
          "text": [
            "НЕЙРОНКА:  Embedding + Conv1D сеть\n",
            "\n",
            "О. Генри  распознано  65 % сеть считает, что это  О. Генри ,  распознано ВЕРНО!\n",
            "Стругацкие  распознано  68 % сеть считает, что это  Стругацкие ,  распознано ВЕРНО!\n",
            "Булгаков  распознано  82 % сеть считает, что это  Булгаков ,  распознано ВЕРНО!\n",
            "Саймак  распознано  79 % сеть считает, что это  Саймак ,  распознано ВЕРНО!\n",
            "Фрай  распознано  87 % сеть считает, что это  Фрай ,  распознано ВЕРНО!\n",
            "Брэдберри  распознано  76 % сеть считает, что это  Брэдберри ,  распознано ВЕРНО!\n",
            "\n",
            "Средний процент распознавания  79 %\n",
            "\n"
          ],
          "name": "stdout"
        }
      ]
    },
    {
      "cell_type": "code",
      "metadata": {
        "id": "f7rIvYM4JVBv",
        "colab": {
          "base_uri": "https://localhost:8080/",
          "height": 50
        },
        "outputId": "4ef27b03-e2af-4235-eb23-64877fea6b12"
      },
      "source": [
        "last_val_accuracy3 = history3.history['val_accuracy'][-1]\n",
        "print(\"Нейронка: Embedding + Conv1D сеть\")\n",
        "print(\"Точность классификации данных на проверочной выборке:\", round(last_val_accuracy3*100, 2), \"%\")"
      ],
      "execution_count": null,
      "outputs": [
        {
          "output_type": "stream",
          "text": [
            "Нейронка: Embedding + Conv1D сеть\n",
            "Точность классификации данных на проверочной выборке: 79.01 %\n"
          ],
          "name": "stdout"
        }
      ]
    },
    {
      "cell_type": "markdown",
      "metadata": {
        "id": "qpmmeFToIKGG"
      },
      "source": [
        "#### 4. Embedding + сложная сеть из Dense, LSTM и Conv1D."
      ]
    },
    {
      "cell_type": "code",
      "metadata": {
        "id": "080ypyWsBSkG",
        "colab": {
          "base_uri": "https://localhost:8080/",
          "height": 1000
        },
        "outputId": "f4f1bc36-4ae9-4611-96d8-f681c247757d"
      },
      "source": [
        "# Embedding + сложная сеть из Dense, LSTM и Conv1D\n",
        "\n",
        "# Создаем модель\n",
        "model4 = Sequential() \n",
        "\n",
        "model4.add(Embedding(maxWordsCount, 50, input_length=xLen))\n",
        "model4.add(SpatialDropout1D(0.2)) \n",
        "model4.add(Conv1D(20, 10, activation=\"relu\"))\n",
        "model4.add(MaxPooling1D(2))\n",
        "model4.add(Dropout(0.5)) \n",
        "model4.add(BatchNormalization()) \n",
        "model4.add(LSTM(16, return_sequences=1)) \n",
        "model4.add(Dropout(0.5))\n",
        "model4.add(BatchNormalization()) \n",
        "model4.add(Flatten()) \n",
        "model4.add(Dense(6, activation='softmax'))\n",
        "\n",
        "#Компилируем\n",
        "model4.compile(optimizer='rmsprop', \n",
        "              loss='categorical_crossentropy', \n",
        "              metrics=['accuracy'])\n",
        "\n",
        "#Обучаем\n",
        "history4 = model4.fit(xTrain, \n",
        "                    yTrain, \n",
        "                    epochs=25,\n",
        "                    batch_size=200,\n",
        "                    validation_data=(xTest, yTest))\n",
        "\n",
        "#Визуализируем результаты\n",
        "plt.plot(history4.history['accuracy'], \n",
        "         label='Доля верных ответов на обучающем наборе')\n",
        "plt.plot(history4.history['val_accuracy'], \n",
        "         label='Доля верных ответов на проверочном наборе')\n",
        "plt.xlabel('Эпоха обучения')\n",
        "plt.ylabel('Доля верных ответов')\n",
        "plt.legend()\n",
        "plt.show()\n",
        "\n",
        "pred4 = recognizeMultiClass(model4, xTest6Classes, \"Embedding + сложная сеть из Dense, LSTM и Conv1D\") #функция покажет какие классы и как распознаны верно"
      ],
      "execution_count": null,
      "outputs": [
        {
          "output_type": "stream",
          "text": [
            "Epoch 1/25\n",
            "89/89 [==============================] - 6s 69ms/step - loss: 0.6995 - accuracy: 0.7567 - val_loss: 1.7555 - val_accuracy: 0.3214\n",
            "Epoch 2/25\n",
            "89/89 [==============================] - 6s 65ms/step - loss: 0.0085 - accuracy: 0.9973 - val_loss: 1.4530 - val_accuracy: 0.4058\n",
            "Epoch 3/25\n",
            "89/89 [==============================] - 6s 65ms/step - loss: 0.0023 - accuracy: 0.9994 - val_loss: 0.9319 - val_accuracy: 0.6587\n",
            "Epoch 4/25\n",
            "89/89 [==============================] - 6s 64ms/step - loss: 0.0027 - accuracy: 0.9990 - val_loss: 1.0497 - val_accuracy: 0.6770\n",
            "Epoch 5/25\n",
            "89/89 [==============================] - 6s 65ms/step - loss: 0.0020 - accuracy: 0.9993 - val_loss: 1.7777 - val_accuracy: 0.6891\n",
            "Epoch 6/25\n",
            "89/89 [==============================] - 6s 64ms/step - loss: 0.0023 - accuracy: 0.9993 - val_loss: 2.0724 - val_accuracy: 0.7285\n",
            "Epoch 7/25\n",
            "89/89 [==============================] - 6s 65ms/step - loss: 0.0038 - accuracy: 0.9989 - val_loss: 1.4947 - val_accuracy: 0.7940\n",
            "Epoch 8/25\n",
            "89/89 [==============================] - 6s 65ms/step - loss: 0.0012 - accuracy: 0.9995 - val_loss: 3.3720 - val_accuracy: 0.7329\n",
            "Epoch 9/25\n",
            "89/89 [==============================] - 6s 65ms/step - loss: 0.0011 - accuracy: 0.9997 - val_loss: 1.8527 - val_accuracy: 0.7793\n",
            "Epoch 10/25\n",
            "89/89 [==============================] - 6s 65ms/step - loss: 0.0013 - accuracy: 0.9995 - val_loss: 2.5720 - val_accuracy: 0.7335\n",
            "Epoch 11/25\n",
            "89/89 [==============================] - 6s 65ms/step - loss: 7.4724e-04 - accuracy: 0.9998 - val_loss: 3.0010 - val_accuracy: 0.7028\n",
            "Epoch 12/25\n",
            "89/89 [==============================] - 6s 66ms/step - loss: 0.0019 - accuracy: 0.9994 - val_loss: 2.3200 - val_accuracy: 0.7408\n",
            "Epoch 13/25\n",
            "89/89 [==============================] - 6s 66ms/step - loss: 0.0014 - accuracy: 0.9995 - val_loss: 2.5354 - val_accuracy: 0.7502\n",
            "Epoch 14/25\n",
            "89/89 [==============================] - 6s 65ms/step - loss: 6.4288e-04 - accuracy: 0.9999 - val_loss: 2.2893 - val_accuracy: 0.7681\n",
            "Epoch 15/25\n",
            "89/89 [==============================] - 6s 65ms/step - loss: 0.0013 - accuracy: 0.9995 - val_loss: 2.7634 - val_accuracy: 0.7137\n",
            "Epoch 16/25\n",
            "89/89 [==============================] - 6s 65ms/step - loss: 2.2882e-04 - accuracy: 0.9999 - val_loss: 3.7102 - val_accuracy: 0.6919\n",
            "Epoch 17/25\n",
            "89/89 [==============================] - 6s 65ms/step - loss: 0.0016 - accuracy: 0.9994 - val_loss: 2.5532 - val_accuracy: 0.7769\n",
            "Epoch 18/25\n",
            "89/89 [==============================] - 6s 65ms/step - loss: 3.2629e-04 - accuracy: 0.9999 - val_loss: 2.5095 - val_accuracy: 0.7629\n",
            "Epoch 19/25\n",
            "89/89 [==============================] - 6s 65ms/step - loss: 0.0011 - accuracy: 0.9995 - val_loss: 3.8802 - val_accuracy: 0.6717\n",
            "Epoch 20/25\n",
            "89/89 [==============================] - 6s 65ms/step - loss: 0.0016 - accuracy: 0.9996 - val_loss: 3.3660 - val_accuracy: 0.7496\n",
            "Epoch 21/25\n",
            "89/89 [==============================] - 6s 65ms/step - loss: 0.0028 - accuracy: 0.9994 - val_loss: 2.3416 - val_accuracy: 0.8167\n",
            "Epoch 22/25\n",
            "89/89 [==============================] - 6s 65ms/step - loss: 0.0018 - accuracy: 0.9996 - val_loss: 3.8902 - val_accuracy: 0.6900\n",
            "Epoch 23/25\n",
            "89/89 [==============================] - 6s 65ms/step - loss: 0.0011 - accuracy: 0.9996 - val_loss: 7.6338 - val_accuracy: 0.6256\n",
            "Epoch 24/25\n",
            "89/89 [==============================] - 6s 64ms/step - loss: 0.0018 - accuracy: 0.9995 - val_loss: 3.0534 - val_accuracy: 0.7744\n",
            "Epoch 25/25\n",
            "89/89 [==============================] - 6s 65ms/step - loss: 6.3072e-04 - accuracy: 0.9998 - val_loss: 3.3029 - val_accuracy: 0.7393\n"
          ],
          "name": "stdout"
        },
        {
          "output_type": "display_data",
          "data": {
            "image/png": "[encoded data removed]",
            "text/plain": [
              "<Figure size 432x288 with 1 Axes>"
            ]
          },
          "metadata": {
            "tags": [],
            "needs_background": "light"
          }
        },
        {
          "output_type": "stream",
          "text": [
            "НЕЙРОНКА:  Embedding + сложная сеть из Dense, LSTM и Conv1D\n",
            "\n",
            "О. Генри  распознано  94 % сеть считает, что это  О. Генри ,  распознано ВЕРНО!\n",
            "Стругацкие  распознано  92 % сеть считает, что это  Стругацкие ,  распознано ВЕРНО!\n",
            "Булгаков  распознано  35 % сеть считает, что это  Стругацкие ,  распознано НЕ ВЕРНО!\n",
            "Саймак  распознано  61 % сеть считает, что это  Саймак ,  распознано ВЕРНО!\n",
            "Фрай  распознано  84 % сеть считает, что это  Фрай ,  распознано ВЕРНО!\n",
            "Брэдберри  распознано  77 % сеть считает, что это  Брэдберри ,  распознано ВЕРНО!\n",
            "\n",
            "Средний процент распознавания  73 %\n",
            "\n"
          ],
          "name": "stdout"
        }
      ]
    },
    {
      "cell_type": "code",
      "metadata": {
        "id": "alB2TwswFDWl",
        "colab": {
          "base_uri": "https://localhost:8080/",
          "height": 968
        },
        "outputId": "6fe99357-d0d3-470e-e8c5-467098385603"
      },
      "source": [
        "# Дообучим сеть\n",
        "\n",
        "# Снова компиляция, составление модели с выбором алгоритма оптимизации, функции потерь и метрики точности\n",
        "model4.compile(optimizer='adam', \n",
        "             loss='categorical_crossentropy', \n",
        "             metrics=['accuracy'])\n",
        "\n",
        "# Дообучаем сеть с указанием тренировочной выборки, количества эпох, размера минибатча для подачи сети, и тестовой выборки\n",
        "history4_ = model4.fit(xTrain, \n",
        "                    yTrain, \n",
        "                    epochs=15,\n",
        "                    batch_size=200,\n",
        "                    validation_data=(xTest, yTest))\n",
        "\n",
        "\n",
        "# Строим график для отображения динамики обучения и точности предсказания сети\n",
        "plt.plot(history4_.history['accuracy'], \n",
        "         label='Доля верных ответов на обучающем наборе')\n",
        "plt.plot(history4_.history['val_accuracy'], \n",
        "         label='Доля верных ответов на проверочном наборе')\n",
        "plt.xlabel('Эпоха обучения')\n",
        "plt.ylabel('Доля верных ответов')\n",
        "plt.legend()\n",
        "plt.show()\n",
        "\n",
        "pred4_ = recognizeMultiClass(model4, xTest6Classes, \"Embedding + сложная сеть из Dense, LSTM и Conv1D\") #функция покажет какие классы и как распознаны верно"
      ],
      "execution_count": null,
      "outputs": [
        {
          "output_type": "stream",
          "text": [
            "Epoch 1/15\n",
            "89/89 [==============================] - 6s 71ms/step - loss: 0.0012 - accuracy: 0.9997 - val_loss: 4.2524 - val_accuracy: 0.7158\n",
            "Epoch 2/15\n",
            "89/89 [==============================] - 6s 66ms/step - loss: 0.0049 - accuracy: 0.9993 - val_loss: 2.9433 - val_accuracy: 0.7890\n",
            "Epoch 3/15\n",
            "89/89 [==============================] - 6s 66ms/step - loss: 0.0034 - accuracy: 0.9990 - val_loss: 3.2257 - val_accuracy: 0.7838\n",
            "Epoch 4/15\n",
            "89/89 [==============================] - 6s 66ms/step - loss: 0.0037 - accuracy: 0.9994 - val_loss: 3.9695 - val_accuracy: 0.7600\n",
            "Epoch 5/15\n",
            "89/89 [==============================] - 6s 66ms/step - loss: 0.0015 - accuracy: 0.9994 - val_loss: 2.7526 - val_accuracy: 0.8116\n",
            "Epoch 6/15\n",
            "89/89 [==============================] - 6s 67ms/step - loss: 0.0015 - accuracy: 0.9996 - val_loss: 3.8807 - val_accuracy: 0.7535\n",
            "Epoch 7/15\n",
            "89/89 [==============================] - 6s 67ms/step - loss: 0.0027 - accuracy: 0.9994 - val_loss: 3.3540 - val_accuracy: 0.7983\n",
            "Epoch 8/15\n",
            "89/89 [==============================] - 6s 67ms/step - loss: 9.8599e-04 - accuracy: 0.9997 - val_loss: 4.5609 - val_accuracy: 0.7231\n",
            "Epoch 9/15\n",
            "89/89 [==============================] - 6s 67ms/step - loss: 0.0048 - accuracy: 0.9994 - val_loss: 3.7046 - val_accuracy: 0.7559\n",
            "Epoch 10/15\n",
            "89/89 [==============================] - 6s 69ms/step - loss: 9.5405e-04 - accuracy: 0.9998 - val_loss: 3.0543 - val_accuracy: 0.7987\n",
            "Epoch 11/15\n",
            "89/89 [==============================] - 6s 69ms/step - loss: 9.0267e-04 - accuracy: 0.9997 - val_loss: 3.3793 - val_accuracy: 0.7877\n",
            "Epoch 12/15\n",
            "89/89 [==============================] - 6s 67ms/step - loss: 0.0014 - accuracy: 0.9999 - val_loss: 3.0935 - val_accuracy: 0.7964\n",
            "Epoch 13/15\n",
            "89/89 [==============================] - 6s 66ms/step - loss: 4.2188e-04 - accuracy: 0.9999 - val_loss: 2.8929 - val_accuracy: 0.8025\n",
            "Epoch 14/15\n",
            "89/89 [==============================] - 6s 66ms/step - loss: 3.1384e-04 - accuracy: 0.9999 - val_loss: 3.2315 - val_accuracy: 0.7987\n",
            "Epoch 15/15\n",
            "89/89 [==============================] - 6s 66ms/step - loss: 0.0018 - accuracy: 0.9994 - val_loss: 3.4424 - val_accuracy: 0.8083\n"
          ],
          "name": "stdout"
        },
        {
          "output_type": "display_data",
          "data": {
            "image/png": "[encoded data removed]",
            "text/plain": [
              "<Figure size 432x288 with 1 Axes>"
            ]
          },
          "metadata": {
            "tags": [],
            "needs_background": "light"
          }
        },
        {
          "output_type": "stream",
          "text": [
            "НЕЙРОНКА:  Embedding + сложная сеть из Dense, LSTM и Conv1D\n",
            "\n",
            "О. Генри  распознано  86 % сеть считает, что это  О. Генри ,  распознано ВЕРНО!\n",
            "Стругацкие  распознано  39 % сеть считает, что это  Стругацкие ,  распознано ВЕРНО!\n",
            "Булгаков  распознано  83 % сеть считает, что это  Булгаков ,  распознано ВЕРНО!\n",
            "Саймак  распознано  72 % сеть считает, что это  Саймак ,  распознано ВЕРНО!\n",
            "Фрай  распознано  93 % сеть считает, что это  Фрай ,  распознано ВЕРНО!\n",
            "Брэдберри  распознано  94 % сеть считает, что это  Брэдберри ,  распознано ВЕРНО!\n",
            "\n",
            "Средний процент распознавания  80 %\n",
            "\n"
          ],
          "name": "stdout"
        }
      ]
    },
    {
      "cell_type": "code",
      "metadata": {
        "id": "CCyf6Fy6kp4G",
        "colab": {
          "base_uri": "https://localhost:8080/",
          "height": 50
        },
        "outputId": "2f50d4ec-2937-418c-f58f-5c9c1ae1dbb5"
      },
      "source": [
        "last_val_accuracy4 = history4_.history['val_accuracy'][-1]\n",
        "print(\"Нейронка: Embedding + сложная сеть из Dense, LSTM и Conv1D\")\n",
        "print(\"Точность классификации данных на проверочной выборке:\", round(last_val_accuracy4*100, 2), \"%\")"
      ],
      "execution_count": null,
      "outputs": [
        {
          "output_type": "stream",
          "text": [
            "Нейронка: Embedding + сложная сеть из Dense, LSTM и Conv1D\n",
            "Точность классификации данных на проверочной выборке: 80.83 %\n"
          ],
          "name": "stdout"
        }
      ]
    },
    {
      "cell_type": "markdown",
      "metadata": {
        "id": "62o9ZIku0qvO"
      },
      "source": [
        "#### **Итоги:**\n",
        "\n",
        "Нейронка: **Embedding + Dense** дала точность классификации данных на проверочной выборке: **76.84%**\n",
        "\n",
        "Нейронка: **Embedding + LSTM** дала точность классификации данных на проверочной выборке: **81.97%**\n",
        "\n",
        "Нейронка: **Embedding + Conv1D** дала точность классификации данных на проверочной выборке: **79.01%**\n",
        "\n",
        "Нейронка: **Embedding + сложная сеть из Dense, LSTM и Conv1D** дала точность классификации данных на проверочной выборке: **80.83%**\n",
        "\n",
        "Данные результаты не очень высокие, но и не плохие. При дальнейшей проработке архитектур процент распознавания можно увеличить. Так как целью данного блока было потренироваться писать рекурентные и сверточные цели, а не доводить их до идеала - результат можно считать отличным!\n",
        "\n",
        "**P.S.** Я перебрала такое каличество архитектур, и прогнала столько сеток, что colab ограничел мне доступ к GPU за столь активную работу... так что вот чего чего а в написании сеток я натренировалась отдуши:)) \n",
        "\n",
        "\n"
      ]
    },
    {
      "cell_type": "markdown",
      "metadata": {
        "id": "1DoV2ovVJ8CW"
      },
      "source": [
        "## **PRO**"
      ]
    },
    {
      "cell_type": "markdown",
      "metadata": {
        "id": "_2Db_XKdKDP3"
      },
      "source": [
        "### **Вариант 1:**\n",
        "\n",
        "Напишите классификацию заболеваний по базе симптомов, используя любые подходы, связанные с обработкой текстов.\n",
        "1. Embedding + LSTM сеть.\n",
        "2. Embedding + Conv1D сеть.\n",
        "3. Embedding + сложная сеть из Dense, LSTM и Conv1D.\n",
        "\n",
        "\n",
        "Добейтесь максимальной точности распознавания.\n",
        "Используйте xLen = 50.\n"
      ]
    },
    {
      "cell_type": "code",
      "metadata": {
        "id": "Oql0uoemU8iZ"
      },
      "source": [
        "import os # Для работы с файлами\n",
        "from google.colab import files #модуль для загрузки файлов в colab\n",
        "import numpy as np #библиотека для работы с массивами данных\n",
        "import pandas as pd #библиотека для обработки и анализа данных\n",
        "import matplotlib.pyplot as plt #библиотека для визуализации данных\n",
        "# \"Магическая\"команда python для запуска библиотеки в ноутбуке\n",
        "%matplotlib inline\n",
        "\n",
        "from tensorflow.keras import utils #модуль с утилитами кераса, будем использовать для вызова метода преобразования категорий в вектора\n",
        "from tensorflow.keras.models import Sequential #последовательная модель нейросети кераса\n",
        "# Загружаем стандартные слои нейросети(полносвязный, регуляризации, нормализации, векторного представления слов, выравнивания, активации)\n",
        "from tensorflow.keras.layers import Dense, Dropout, BatchNormalization, Embedding, Flatten, Activation\n",
        "# Загружаем сверточные слои\n",
        "from tensorflow.keras.layers import Conv1D, SpatialDropout1D, MaxPooling1D, GlobalAveragePooling1D, GlobalMaxPooling1D\n",
        "# Загружаем рекуррентные слои\n",
        "from tensorflow.keras.layers import LSTM, GRU, SimpleRNN, Bidirectional\n",
        "# Загружаем алгоритмы обучения/оптимизации\n",
        "from tensorflow.python.keras.optimizers import Adam, RMSprop\n",
        "\n",
        "from keras.preprocessing.text import Tokenizer, text_to_word_sequence #инструменты предобработки текста от кераса\n",
        "from sklearn.model_selection import train_test_split #модуль для разбиения данных на обучающую и тестовую выборки"
      ],
      "execution_count": null,
      "outputs": []
    },
    {
      "cell_type": "markdown",
      "metadata": {
        "id": "_5JrTX-Oy6Ex"
      },
      "source": [
        "**Парсинг базы**\n",
        "\n",
        "База симптомов, предварительно была разделена на обучающий и тестовый набор симптомов. Был взят послный список симптомов заболевания (предоставленная Университетом база) и разделен на два списка - обучающий и тестовый, в пропорции 20 к 80. Тоесть тестовый набор симптомов составил 20% от изнаального текста, а обучающий - 80%. Так как по условию задачи \"используя любые подходы, связанные с обработкой текстов\" - то я предпочла такой способ обработки, как самый понятный для меня и который получил неплохой результат - показав что выбранный подход был выбран правильно. "
      ]
    },
    {
      "cell_type": "code",
      "metadata": {
        "id": "3r3BF39Je84J",
        "colab": {
          "base_uri": "https://localhost:8080/",
          "height": 34
        },
        "outputId": "5db3a775-a498-48f7-f4c9-5c9500ecf529"
      },
      "source": [
        "!rm -R /content/texts \n",
        "!unzip -q '/content/drive/My Drive/Colab Notebooks/Базы/База симптомов.zip' -d /content/texts "
      ],
      "execution_count": null,
      "outputs": [
        {
          "output_type": "stream",
          "text": [
            "rm: cannot remove '/content/texts': No such file or directory\n"
          ],
          "name": "stdout"
        }
      ]
    },
    {
      "cell_type": "code",
      "metadata": {
        "id": "4K73AVfsfXga",
        "colab": {
          "base_uri": "https://localhost:8080/",
          "height": 521
        },
        "outputId": "9deb31a8-9fb7-4059-8a93-da799bc0fa6e"
      },
      "source": [
        "def readText(fileName): # Объявляем функции для чтения файла. На вход отправляем путь к файлу\n",
        "  f = open(fileName, 'r')        \n",
        "  text = f.read()                \n",
        "  text = text.replace(\"\\n\", \" \") \n",
        "  \n",
        "  return text                    \n",
        "\n",
        "# Объявляем интересующие нас классы\n",
        "className = [\"Аппендицит\", \"Гастрит\", \"Гепатит\", \"Дуоденит\", \"Колит\", \"Панкреатит\", \"Холицестит\", \"Эзофагит\", \"Энтерит\", \"Язва\"] \n",
        "nClasses = len(className) \n",
        "\n",
        "\n",
        "#Загружаем обучающие тексты\n",
        "\n",
        "trainText = [] #Формируем обучающие тексты\n",
        "testText = [] #Формируем тестовые тексты\n",
        "\n",
        "for i in className: \n",
        "  for j in os.listdir('texts/База симптомов/'): \n",
        "    if i in j: \n",
        "      if 'Обучающая' in j:\n",
        "        trainText.append(readText('texts/База симптомов/' + j))\n",
        "        print(j, 'добавлен в обучающую выборку') \n",
        "      if 'Тестовая' in j:\n",
        "        testText.append(readText('texts/База симптомов/' + j))\n",
        "        print(j, 'добавлен в тестовую выборку')\n",
        "  print()\n"
      ],
      "execution_count": null,
      "outputs": [
        {
          "output_type": "stream",
          "text": [
            "(Аппендицит) Обучающая.txt добавлен в обучающую выборку\n",
            "(Аппендицит) Тестовая.txt добавлен в тестовую выборку\n",
            "\n",
            "(Гастрит) Тестовая.txt добавлен в тестовую выборку\n",
            "(Гастрит) Обучающая.txt добавлен в обучающую выборку\n",
            "\n",
            "(Гепатит) Тестовая.txt добавлен в тестовую выборку\n",
            "(Гепатит) Обучающая.txt добавлен в обучающую выборку\n",
            "\n",
            "(Дуоденит) Тестовая.txt добавлен в тестовую выборку\n",
            "(Дуоденит) Обучающая.txt добавлен в обучающую выборку\n",
            "\n",
            "(Колит) Обучающая.txt добавлен в обучающую выборку\n",
            "(Колит) Тестовая.txt добавлен в тестовую выборку\n",
            "\n",
            "(Панкреатит) Тестовая.txt добавлен в тестовую выборку\n",
            "(Панкреатит) Обучающая.txt добавлен в обучающую выборку\n",
            "\n",
            "(Холицестит) Обучающая.txt добавлен в обучающую выборку\n",
            "(Холицестит) Тестовая.txt добавлен в тестовую выборку\n",
            "\n",
            "(Эзофагит) Обучающая.txt добавлен в обучающую выборку\n",
            "(Эзофагит) Тестовая.txt добавлен в тестовую выборку\n",
            "\n",
            "(Энтерит) Обучающая.txt добавлен в обучающую выборку\n",
            "(Энтерит) Тестовая.txt добавлен в тестовую выборку\n",
            "\n",
            "(Язва) Обучающая.txt добавлен в обучающую выборку\n",
            "(Язва) Тестовая.txt добавлен в тестовую выборку\n",
            "\n"
          ],
          "name": "stdout"
        }
      ]
    },
    {
      "cell_type": "code",
      "metadata": {
        "id": "P6oxv3QZy6E7"
      },
      "source": [
        "# Преобразовываем текстовые данные в числовые/векторные для обучения нейросетью\n",
        "\n",
        "maxWordsCount = 20000 # определяем макс.кол-во слов/индексов, учитываемое при обучении текстов\n",
        "\n",
        "# для этого воспользуемся встроенной в Keras функцией Tokenizer для разбиения текста и превращения в матрицу числовых значений\n",
        "tokenizer = Tokenizer(num_words=maxWordsCount, filters='–—!\"#$%&()*+,-./:;<=>?@[\\\\]^_`{|}~\\t\\n\\xa0–\\ufeff', lower=True, split=' ', char_level=False, oov_token = 'unknown')\n",
        "\n",
        "tokenizer.fit_on_texts(trainText) #\"скармливаем\" наши тексты, т.е даём в обработку методу, который соберет словарь частотности\n",
        "items = list(tokenizer.word_index.items()) #вытаскиваем индексы слов для просмотра"
      ],
      "execution_count": null,
      "outputs": []
    },
    {
      "cell_type": "code",
      "metadata": {
        "id": "9_w9cdSvy6E-",
        "colab": {
          "base_uri": "https://localhost:8080/",
          "height": 54
        },
        "outputId": "234c8786-c736-4ad1-b0b4-44ba072144b8"
      },
      "source": [
        "print(items[:100]) # взглянем на содержимое словаря"
      ],
      "execution_count": null,
      "outputs": [
        {
          "output_type": "stream",
          "text": [
            "[('unknown', 1), ('в', 2), ('и', 3), ('боль', 4), ('тошнота', 5), ('или', 6), ('боли', 7), ('рвота', 8), ('живота', 9), ('при', 10), ('после', 11), ('животе', 12), ('области', 13), ('отрыжка', 14), ('с', 15), ('слабость', 16), ('аппетита', 17), ('во', 18), ('тела', 19), ('может', 20), ('изжога', 21), ('вздутие', 22), ('до', 23), ('снижение', 24), ('диарея', 25), ('еды', 26), ('пищи', 27), ('к', 28), ('на', 29), ('иногда', 30), ('рту', 31), ('повышение', 32), ('температуры', 33), ('температура', 34), ('не', 35), ('подреберье', 36), ('метеоризм', 37), ('потеря', 38), ('стул', 39), ('правом', 40), ('желудка', 41), ('части', 42), ('верхней', 43), ('общая', 44), ('чувство', 45), ('урчание', 46), ('эпигастральной', 47), ('время', 48), ('ощущение', 49), ('тяжести', 50), ('которая', 51), ('могут', 52), ('запор', 53), ('ощущения', 54), ('отсутствие', 55), ('нарушение', 56), ('стула', 57), ('позывы', 58), ('приема', 59), ('повышенная', 60), ('кожи', 61), ('эпигастрии', 62), ('понос', 63), ('особенно', 64), ('быть', 65), ('повышенное', 66), ('появление', 67), ('лихорадка', 68), ('тяжесть', 69), ('сухость', 70), ('слизи', 71), ('запоры', 72), ('по', 73), ('за', 74), ('массы', 75), ('крови', 76), ('часто', 77), ('кислым', 78), ('неприятный', 79), ('дефекации', 80), ('примесью', 81), ('сутки', 82), ('от', 83), ('обычно', 84), ('болезненность', 85), ('характера', 86), ('желчи', 87), ('под', 88), ('утомляемость', 89), ('нарушения', 90), ('язык', 91), ('пупка', 92), ('аппетит', 93), ('спину', 94), ('воздухом', 95), ('привкус', 96), ('кал', 97), ('кала', 98), ('раз', 99), ('грудиной', 100)]\n"
          ],
          "name": "stdout"
        }
      ]
    },
    {
      "cell_type": "code",
      "metadata": {
        "id": "VgVqJ5rBy6FA",
        "colab": {
          "base_uri": "https://localhost:8080/",
          "height": 386
        },
        "outputId": "307375ee-f1e1-4d1c-d195-d3ed8846444c"
      },
      "source": [
        "# преобразовываем текст в последовательность индексов согласно частотному словарю\n",
        "trainWordIndexes = tokenizer.texts_to_sequences(trainText) # обучающие тесты в индексы\n",
        "testWordIndexes = tokenizer.texts_to_sequences(testText)   # проверочные тесты в индексы\n",
        "\n",
        "print(\"Взглянем на фрагмент обучающего текста:\")\n",
        "print(\"В виде оригинального текста:              \", trainText[1] [:87])\n",
        "print(\"Он же в виде последовательности индексов: \", trainWordIndexes[1][:20])\n",
        "\n",
        "print()\n",
        "print()\n",
        "\n",
        "print(\"Статистика по обучающим текстам:\")\n",
        "for i in range(6):\n",
        "  print(className[i], \" \", len(trainText[i]), \" символов, \", len(trainWordIndexes[i]), \" слов\")\n",
        "print(\"В сумме \", len(trainText[0])+len(trainText[1])+len(trainText[2])+len(trainText[3])+len(trainText[4])+len(trainText[5]), \" символов, \", len(trainWordIndexes[0])+len(trainWordIndexes[1])+len(trainWordIndexes[2])+len(trainWordIndexes[3])+len(trainWordIndexes[4])+len(trainWordIndexes[5]), \" слов\")\n",
        "print()\n",
        "print(\"Статистика по обучающим текстам:\")\n",
        "for i in range(6):\n",
        "  print(className[i], \" \", len(testText[i]), \" символов, \", len(testWordIndexes[i]), \" слов\")\n",
        "print(\"В сумме \", len(testText[0])+len(testText[1])+len(testText[2])+len(testText[3])+len(testText[4])+len(testText[5]), \" символов, \", len(testWordIndexes[0])+len(testWordIndexes[1])+len(testWordIndexes[2])+len(testWordIndexes[3])+len(testWordIndexes[4])+len(testWordIndexes[5]), \" слов\")"
      ],
      "execution_count": null,
      "outputs": [
        {
          "output_type": "stream",
          "text": [
            "Взглянем на фрагмент обучающего текста:\n",
            "В виде оригинального текста:               Дискомфорте, сдавленности (особенно — после еды) в области эпигастрия (верхн его отдела\n",
            "Он же в виде последовательности индексов:  [762, 763, 64, 11, 26, 2, 13, 335, 764, 255, 765, 496, 7, 2, 766, 256, 13, 767, 768, 769]\n",
            "\n",
            "\n",
            "Статистика по обучающим текстам:\n",
            "Аппендицит   3162  символов,  450  слов\n",
            "Гастрит   4296  символов,  554  слов\n",
            "Гепатит   4530  символов,  560  слов\n",
            "Дуоденит   3276  символов,  413  слов\n",
            "Колит   7527  символов,  987  слов\n",
            "Панкреатит   8444  символов,  1107  слов\n",
            "В сумме  31235  символов,  4071  слов\n",
            "\n",
            "Статистика по обучающим текстам:\n",
            "Аппендицит   911  символов,  129  слов\n",
            "Гастрит   2411  символов,  284  слов\n",
            "Гепатит   991  символов,  127  слов\n",
            "Дуоденит   662  символов,  75  слов\n",
            "Колит   1598  символов,  205  слов\n",
            "Панкреатит   2863  символов,  373  слов\n",
            "В сумме  9436  символов,  1193  слов\n"
          ],
          "name": "stdout"
        }
      ]
    },
    {
      "cell_type": "code",
      "metadata": {
        "id": "31t9NotKy6FD"
      },
      "source": [
        "# Формирование обучающей выборки по листу индексов слов\n",
        "\n",
        "def getSetFromIndexes(wordIndexes, xLen, step):\n",
        "  xSample = []\n",
        "  wordsLen = len(wordIndexes)\n",
        "  index = 0\n",
        "  \n",
        "  # Идём по всей длине вектора индексов\n",
        "  # \"Откусываем\" векторы длины xLen и смещаеммся вперёд на step\n",
        "  \n",
        "  while (index + xLen <= wordsLen):\n",
        "    xSample.append(wordIndexes[index:index+xLen])\n",
        "    index += step\n",
        "    \n",
        "  return xSample"
      ],
      "execution_count": null,
      "outputs": []
    },
    {
      "cell_type": "code",
      "metadata": {
        "id": "6-CQ4yfZy6FK"
      },
      "source": [
        "# Формирование обучающей и проверочной выборки\n",
        "# Из двух листов индексов от двух классов\n",
        "\n",
        "def createSetsMultiClasses(wordIndexes, xLen, step): # функция принимает последовательность индексов, размер окна, шаг окна\n",
        "\n",
        "  nClasses = len(wordIndexes) \n",
        "  classesXSamples = []        \n",
        "  for wI in wordIndexes:      \n",
        "    classesXSamples.append(getSetFromIndexes(wI, xLen, step)) # добавляем в список очередной текст индексов, разбитый на \"кол-во окон*длину окна\" \n",
        "\n",
        "  # Формируем один общий xSamples\n",
        "  xSamples = [] \n",
        "  ySamples = [] \n",
        "  \n",
        "  for t in range(nClasses):  # в диапазоне кол-ва классов\n",
        "    xT = classesXSamples[t]  \n",
        "    for i in range(len(xT)): # и каждое его окно\n",
        "      xSamples.append(xT[i]) \n",
        "    \n",
        "    # Формируем ySamples по номеру класса\n",
        "    currY = utils.to_categorical(t, nClasses) \n",
        "    for i in range(len(xT)): # на каждое окно выборки \n",
        "      ySamples.append(currY) \n",
        "\n",
        "  # переводим в массив numpy для подачи в нейронку\n",
        "  xSamples = np.array(xSamples) \n",
        "  ySamples = np.array(ySamples) \n",
        "  \n",
        "  return (xSamples, ySamples)   # функция возвращает выборку и соответствующие векторы классов"
      ],
      "execution_count": null,
      "outputs": []
    },
    {
      "cell_type": "code",
      "metadata": {
        "id": "5nhuKMf6y6FP"
      },
      "source": [
        "# Задаём базовые параметры\n",
        "# По условию задачи xLen = 50\n",
        "\n",
        "xLen = 50 # Длина отрезка текста, по которой анализируем, в словах\n",
        "step = 1 # Шаг разбиения исходного текста на обучающие вектора"
      ],
      "execution_count": null,
      "outputs": []
    },
    {
      "cell_type": "code",
      "metadata": {
        "id": "9UErOv-ay6FT",
        "colab": {
          "base_uri": "https://localhost:8080/",
          "height": 84
        },
        "outputId": "d372aa13-914c-46c3-d98e-537424c68658"
      },
      "source": [
        "# Формируем обучающую и тестовую выборку\n",
        "xTrain, yTrain = createSetsMultiClasses(trainWordIndexes, xLen, step) # извлекаем обучающую выборку\n",
        "xTest, yTest = createSetsMultiClasses(testWordIndexes, xLen, step)    # извлекаем тестовую выборку\n",
        "print(xTrain.shape)\n",
        "print(yTrain.shape)\n",
        "print(xTest.shape)\n",
        "print(yTest.shape)\n",
        "# получили обучающий/тестовый набор, достаточный для запуска Embedding, но для Bag of Words нужно xTrain и xTest представить в виде векторов из 0 и 1"
      ],
      "execution_count": null,
      "outputs": [
        {
          "output_type": "stream",
          "text": [
            "(5884, 50)\n",
            "(5884, 10)\n",
            "(1334, 50)\n",
            "(1334, 10)\n"
          ],
          "name": "stdout"
        }
      ]
    },
    {
      "cell_type": "code",
      "metadata": {
        "id": "btFW0iquy6FY"
      },
      "source": [
        "# Представляем тестовую выборку в удобных для распознавания размерах\n",
        "\n",
        "def createTestMultiClasses(wordIndexes, xLen, step): # функция принимает последовательность индексов, размер окна, шаг окна\n",
        "\n",
        "  nClasses = len(wordIndexes) \n",
        "  xTest6Classes01 = []               \n",
        "  xTest6Classes = []                 \n",
        "  for wI in wordIndexes:             \n",
        "    sample = (getSetFromIndexes(wI, xLen, step)) \n",
        "    xTest6Classes.append(np.array(sample))       \n",
        "    xTest6Classes01.append(tokenizer.sequences_to_matrix(sample)) \n",
        "  xTest6Classes01 = np.array(xTest6Classes01)                    \n",
        "  \n",
        "  return xTest6Classes01, xTest6Classes # функция вернёт тестовые данные\n",
        "\n",
        "\n",
        "# Расспознаём тестовую выборку и выводим результаты\n",
        "\n",
        "def recognizeMultiClass(model, xTest, modelName):\n",
        "  print(\"НЕЙРОНКА: \", modelName)\n",
        "  print()\n",
        "  \n",
        "  val = []\n",
        "  pred = []\n",
        "  \n",
        "  totalSumRec = []\n",
        "  \n",
        "  # Проходим по всем классам\n",
        "  for i in range(nClasses):\n",
        "    # Получаем результаты распознавания класса по блокам слов длины xLen\n",
        "    currPred = model.predict(xTest[i])\n",
        "    pred.append(currPred)\n",
        "    # Определяем номер распознанного класса для каждохо блока слов длины xLen\n",
        "    currOut = np.argmax(currPred, axis=1)\n",
        "    \n",
        "    evVal = []\n",
        "    sumRec = []\n",
        "    for j in range(nClasses):\n",
        "      sumRec.append(0)\n",
        "      for t in range(len(currOut)):\n",
        "        if (currOut[t] == j):\n",
        "          sumRec[j] += 1\n",
        "      evVal.append(sumRec[j] / len(currOut))\n",
        "    \n",
        "    totalSumRec.append(sumRec[i])\n",
        "    \n",
        "    # Определяем, какой в класс в итоге за какой был распознан\n",
        "    val.append(evVal[i])\n",
        "    recognizedClass = np.argmax(evVal)\n",
        "    \n",
        "    # Выводим результаты распознавания по текущему классу\n",
        "    isRecognized = \"распознано НЕ ВЕРНО!\"\n",
        "    if (recognizedClass == i):\n",
        "      isRecognized = \"распознано ВЕРНО!\"\n",
        "    print(className[i], \" распознано \", int(100*evVal[i]), \"% сеть считает, что это \", className[recognizedClass], \", \", isRecognized)\n",
        "  \n",
        "  # Выводим вредний процент распознавания по всем классам вместе\n",
        "  print()\n",
        "  sumVal = 0\n",
        "  sumCount = 0\n",
        "  lenXtest = []\n",
        "  for i in range(nClasses):\n",
        "    sumCount += len(xTest[i])\n",
        "    sumVal += totalSumRec[i]\n",
        "  print(\"Средний процент распознавания \", int(100*sumVal/sumCount), \"%\")\n",
        "  print()\n",
        "  return sumVal/sumCount\n",
        "\n",
        "xTest6Classes01, xTest6Classes = createTestMultiClasses(testWordIndexes, xLen, step) # подгоним форму тестовых классов под функцию recognizeMultiClass"
      ],
      "execution_count": null,
      "outputs": []
    },
    {
      "cell_type": "markdown",
      "metadata": {
        "id": "KuGsJ8i0tJ7T"
      },
      "source": [
        "#### 1. Embedding + LSTM сеть"
      ]
    },
    {
      "cell_type": "code",
      "metadata": {
        "id": "KOUa6Hb-tJ7U",
        "colab": {
          "base_uri": "https://localhost:8080/",
          "height": 1000
        },
        "outputId": "c9c9f1ab-4f8b-4f11-a9aa-7be1ebfb3649"
      },
      "source": [
        "# Embedding + LSTM сеть\n",
        "\n",
        "# Создаем модель\n",
        "model1 = Sequential() \n",
        "\n",
        "model1.add(Embedding(maxWordsCount, 40, input_length=xLen))\n",
        "model1.add(SpatialDropout1D(0.5)) \n",
        "model1.add(BatchNormalization()) \n",
        "model1.add(Bidirectional(LSTM(16))) # двунаправленный\n",
        "model1.add(BatchNormalization()) \n",
        "model1.add(Dense(10, activation='softmax')) \n",
        "\n",
        "#Компилируем\n",
        "model1.compile(optimizer='rmsprop', \n",
        "              loss='categorical_crossentropy', \n",
        "              metrics=['accuracy'])\n",
        "#Обучаем\n",
        "history1 = model1.fit(xTrain, \n",
        "                    yTrain, \n",
        "                    epochs=80,\n",
        "                    batch_size=200,\n",
        "                    validation_data=(xTest, yTest))\n",
        "\n",
        "#Визуализируем результаты\n",
        "plt.plot(history1.history['accuracy'], \n",
        "         label='Доля верных ответов на обучающем наборе')\n",
        "plt.plot(history1.history['val_accuracy'], \n",
        "         label='Доля верных ответов на проверочном наборе')\n",
        "plt.xlabel('Эпоха обучения')\n",
        "plt.ylabel('Доля верных ответов')\n",
        "plt.legend()\n",
        "plt.show()\n",
        "\n",
        "pred1 = recognizeMultiClass(model1, xTest6Classes, \"Embedding + LSTM сеть\") #функция покажет какие классы и как распознаны верно\n",
        "\n",
        "\n",
        "# Дообучим сеть\n",
        "\n",
        "# Снова компиляция, составление модели с выбором алгоритма оптимизации, функции потерь и метрики точности\n",
        "model1.compile(optimizer='rmsprop', \n",
        "             loss='categorical_crossentropy', \n",
        "             metrics=['accuracy'])\n",
        "\n",
        "# Дообучаем сеть с указанием тренировочной выборки, количества эпох, размера минибатча для подачи сети, и тестовой выборки\n",
        "history1_ = model1.fit(xTrain, \n",
        "                    yTrain, \n",
        "                    epochs=40,\n",
        "                    batch_size=300,\n",
        "                    validation_data=(xTest, yTest))\n",
        "\n",
        "#Визуализируем результаты\n",
        "plt.plot(history1_.history['accuracy'], \n",
        "         label='Доля верных ответов на обучающем наборе')\n",
        "plt.plot(history1_.history['val_accuracy'], \n",
        "         label='Доля верных ответов на проверочном наборе')\n",
        "plt.xlabel('Эпоха обучения')\n",
        "plt.ylabel('Доля верных ответов')\n",
        "plt.legend()\n",
        "plt.show()\n",
        "\n",
        "pred1_ = recognizeMultiClass(model1, xTest6Classes, \"Embedding + LSTM сеть\") #функция покажет какие классы и как распознаны верно"
      ],
      "execution_count": null,
      "outputs": [
        {
          "output_type": "stream",
          "text": [
            "Epoch 1/80\n",
            "31/31 [==============================] - 2s 62ms/step - loss: 1.7715 - accuracy: 0.4117 - val_loss: 2.2401 - val_accuracy: 0.2968\n",
            "Epoch 2/80\n",
            "31/31 [==============================] - 1s 32ms/step - loss: 0.7197 - accuracy: 0.8240 - val_loss: 2.1147 - val_accuracy: 0.4251\n",
            "Epoch 3/80\n",
            "31/31 [==============================] - 1s 33ms/step - loss: 0.2715 - accuracy: 0.9644 - val_loss: 1.9127 - val_accuracy: 0.3519\n",
            "Epoch 4/80\n",
            "31/31 [==============================] - 1s 33ms/step - loss: 0.0918 - accuracy: 0.9956 - val_loss: 1.7750 - val_accuracy: 0.3714\n",
            "Epoch 5/80\n",
            "31/31 [==============================] - 1s 34ms/step - loss: 0.0352 - accuracy: 0.9990 - val_loss: 1.8632 - val_accuracy: 0.3721\n",
            "Epoch 6/80\n",
            "31/31 [==============================] - 1s 34ms/step - loss: 0.0175 - accuracy: 0.9992 - val_loss: 1.8041 - val_accuracy: 0.4265\n",
            "Epoch 7/80\n",
            "31/31 [==============================] - 1s 33ms/step - loss: 0.0112 - accuracy: 0.9989 - val_loss: 1.8713 - val_accuracy: 0.4621\n",
            "Epoch 8/80\n",
            "31/31 [==============================] - 1s 33ms/step - loss: 0.0062 - accuracy: 0.9994 - val_loss: 1.0192 - val_accuracy: 0.7045\n",
            "Epoch 9/80\n",
            "31/31 [==============================] - 1s 32ms/step - loss: 0.0049 - accuracy: 0.9992 - val_loss: 1.1678 - val_accuracy: 0.6118\n",
            "Epoch 10/80\n",
            "31/31 [==============================] - 1s 33ms/step - loss: 0.0048 - accuracy: 0.9990 - val_loss: 0.6853 - val_accuracy: 0.7952\n",
            "Epoch 11/80\n",
            "31/31 [==============================] - 1s 33ms/step - loss: 0.0028 - accuracy: 0.9990 - val_loss: 0.9119 - val_accuracy: 0.7502\n",
            "Epoch 12/80\n",
            "31/31 [==============================] - 1s 33ms/step - loss: 0.0043 - accuracy: 0.9989 - val_loss: 0.6761 - val_accuracy: 0.8321\n",
            "Epoch 13/80\n",
            "31/31 [==============================] - 1s 33ms/step - loss: 0.0041 - accuracy: 0.9990 - val_loss: 0.5373 - val_accuracy: 0.8664\n",
            "Epoch 14/80\n",
            "31/31 [==============================] - 1s 33ms/step - loss: 0.0044 - accuracy: 0.9989 - val_loss: 0.5045 - val_accuracy: 0.8563\n",
            "Epoch 15/80\n",
            "31/31 [==============================] - 1s 33ms/step - loss: 0.0032 - accuracy: 0.9994 - val_loss: 0.6160 - val_accuracy: 0.8381\n",
            "Epoch 16/80\n",
            "31/31 [==============================] - 1s 32ms/step - loss: 0.0037 - accuracy: 0.9989 - val_loss: 0.3602 - val_accuracy: 0.9080\n",
            "Epoch 17/80\n",
            "31/31 [==============================] - 1s 32ms/step - loss: 0.0021 - accuracy: 0.9998 - val_loss: 0.3325 - val_accuracy: 0.9147\n",
            "Epoch 18/80\n",
            "31/31 [==============================] - 1s 33ms/step - loss: 0.0028 - accuracy: 0.9994 - val_loss: 0.2753 - val_accuracy: 0.9134\n",
            "Epoch 19/80\n",
            "31/31 [==============================] - 1s 33ms/step - loss: 0.0034 - accuracy: 0.9989 - val_loss: 0.2231 - val_accuracy: 0.9375\n",
            "Epoch 20/80\n",
            "31/31 [==============================] - 1s 33ms/step - loss: 0.0019 - accuracy: 0.9997 - val_loss: 0.2082 - val_accuracy: 0.9402\n",
            "Epoch 21/80\n",
            "31/31 [==============================] - 1s 34ms/step - loss: 0.0031 - accuracy: 0.9989 - val_loss: 0.1342 - val_accuracy: 0.9550\n",
            "Epoch 22/80\n",
            "31/31 [==============================] - 1s 36ms/step - loss: 0.0046 - accuracy: 0.9989 - val_loss: 0.1829 - val_accuracy: 0.9409\n",
            "Epoch 23/80\n",
            "31/31 [==============================] - 1s 34ms/step - loss: 9.6455e-04 - accuracy: 0.9998 - val_loss: 0.1950 - val_accuracy: 0.9342\n",
            "Epoch 24/80\n",
            "31/31 [==============================] - 1s 34ms/step - loss: 0.0013 - accuracy: 0.9997 - val_loss: 0.2442 - val_accuracy: 0.9281\n",
            "Epoch 25/80\n",
            "31/31 [==============================] - 1s 35ms/step - loss: 3.2892e-04 - accuracy: 1.0000 - val_loss: 0.2348 - val_accuracy: 0.9275\n",
            "Epoch 26/80\n",
            "31/31 [==============================] - 1s 34ms/step - loss: 0.0032 - accuracy: 0.9990 - val_loss: 0.3547 - val_accuracy: 0.9013\n",
            "Epoch 27/80\n",
            "31/31 [==============================] - 1s 34ms/step - loss: 0.0019 - accuracy: 0.9997 - val_loss: 0.3702 - val_accuracy: 0.8798\n",
            "Epoch 28/80\n",
            "31/31 [==============================] - 1s 34ms/step - loss: 0.0022 - accuracy: 0.9989 - val_loss: 0.3684 - val_accuracy: 0.8845\n",
            "Epoch 29/80\n",
            "31/31 [==============================] - 1s 34ms/step - loss: 0.0021 - accuracy: 0.9994 - val_loss: 0.2958 - val_accuracy: 0.8986\n",
            "Epoch 30/80\n",
            "31/31 [==============================] - 1s 33ms/step - loss: 0.0028 - accuracy: 0.9989 - val_loss: 0.2232 - val_accuracy: 0.9201\n",
            "Epoch 31/80\n",
            "31/31 [==============================] - 1s 34ms/step - loss: 0.0011 - accuracy: 0.9997 - val_loss: 0.3070 - val_accuracy: 0.8939\n",
            "Epoch 32/80\n",
            "31/31 [==============================] - 1s 34ms/step - loss: 6.6408e-04 - accuracy: 0.9998 - val_loss: 0.3092 - val_accuracy: 0.9046\n",
            "Epoch 33/80\n",
            "31/31 [==============================] - 1s 34ms/step - loss: 0.0019 - accuracy: 0.9995 - val_loss: 0.3522 - val_accuracy: 0.9066\n",
            "Epoch 34/80\n",
            "31/31 [==============================] - 1s 34ms/step - loss: 0.0031 - accuracy: 0.9989 - val_loss: 0.4118 - val_accuracy: 0.8872\n",
            "Epoch 35/80\n",
            "31/31 [==============================] - 1s 34ms/step - loss: 6.7591e-04 - accuracy: 0.9998 - val_loss: 0.2826 - val_accuracy: 0.9194\n",
            "Epoch 36/80\n",
            "31/31 [==============================] - 1s 34ms/step - loss: 0.0025 - accuracy: 0.9992 - val_loss: 0.3066 - val_accuracy: 0.9127\n",
            "Epoch 37/80\n",
            "31/31 [==============================] - 1s 33ms/step - loss: 0.0021 - accuracy: 0.9994 - val_loss: 0.4095 - val_accuracy: 0.8858\n",
            "Epoch 38/80\n",
            "31/31 [==============================] - 1s 34ms/step - loss: 0.0015 - accuracy: 0.9994 - val_loss: 0.2352 - val_accuracy: 0.9214\n",
            "Epoch 39/80\n",
            "31/31 [==============================] - 1s 33ms/step - loss: 0.0025 - accuracy: 0.9990 - val_loss: 0.2669 - val_accuracy: 0.9154\n",
            "Epoch 40/80\n",
            "31/31 [==============================] - 1s 34ms/step - loss: 0.0016 - accuracy: 0.9995 - val_loss: 0.2728 - val_accuracy: 0.9268\n",
            "Epoch 41/80\n",
            "31/31 [==============================] - 1s 33ms/step - loss: 0.0013 - accuracy: 0.9998 - val_loss: 0.3355 - val_accuracy: 0.9100\n",
            "Epoch 42/80\n",
            "31/31 [==============================] - 1s 33ms/step - loss: 0.0020 - accuracy: 0.9992 - val_loss: 0.4478 - val_accuracy: 0.8885\n",
            "Epoch 43/80\n",
            "31/31 [==============================] - 1s 33ms/step - loss: 3.4859e-04 - accuracy: 1.0000 - val_loss: 0.2985 - val_accuracy: 0.9120\n",
            "Epoch 44/80\n",
            "31/31 [==============================] - 1s 33ms/step - loss: 0.0016 - accuracy: 0.9995 - val_loss: 0.3318 - val_accuracy: 0.9201\n",
            "Epoch 45/80\n",
            "31/31 [==============================] - 1s 34ms/step - loss: 0.0038 - accuracy: 0.9994 - val_loss: 0.4156 - val_accuracy: 0.8885\n",
            "Epoch 46/80\n",
            "31/31 [==============================] - 1s 34ms/step - loss: 0.0018 - accuracy: 0.9995 - val_loss: 0.2966 - val_accuracy: 0.9181\n",
            "Epoch 47/80\n",
            "31/31 [==============================] - 1s 34ms/step - loss: 9.5064e-04 - accuracy: 0.9997 - val_loss: 0.3140 - val_accuracy: 0.9120\n",
            "Epoch 48/80\n",
            "31/31 [==============================] - 1s 35ms/step - loss: 0.0020 - accuracy: 0.9992 - val_loss: 0.2938 - val_accuracy: 0.9026\n",
            "Epoch 49/80\n",
            "31/31 [==============================] - 1s 34ms/step - loss: 0.0016 - accuracy: 0.9997 - val_loss: 0.3693 - val_accuracy: 0.8852\n",
            "Epoch 50/80\n",
            "31/31 [==============================] - 1s 34ms/step - loss: 0.0029 - accuracy: 0.9990 - val_loss: 0.3692 - val_accuracy: 0.8925\n",
            "Epoch 51/80\n",
            "31/31 [==============================] - 1s 34ms/step - loss: 0.0027 - accuracy: 0.9992 - val_loss: 0.2801 - val_accuracy: 0.8972\n",
            "Epoch 52/80\n",
            "31/31 [==============================] - 1s 34ms/step - loss: 0.0017 - accuracy: 0.9994 - val_loss: 0.3074 - val_accuracy: 0.9087\n",
            "Epoch 53/80\n",
            "31/31 [==============================] - 1s 35ms/step - loss: 0.0014 - accuracy: 0.9995 - val_loss: 0.3669 - val_accuracy: 0.8952\n",
            "Epoch 54/80\n",
            "31/31 [==============================] - 1s 34ms/step - loss: 0.0022 - accuracy: 0.9994 - val_loss: 0.2219 - val_accuracy: 0.9322\n",
            "Epoch 55/80\n",
            "31/31 [==============================] - 1s 33ms/step - loss: 0.0017 - accuracy: 0.9992 - val_loss: 0.4427 - val_accuracy: 0.8778\n",
            "Epoch 56/80\n",
            "31/31 [==============================] - 1s 33ms/step - loss: 2.8012e-04 - accuracy: 1.0000 - val_loss: 0.4043 - val_accuracy: 0.8919\n",
            "Epoch 57/80\n",
            "31/31 [==============================] - 1s 33ms/step - loss: 8.0193e-04 - accuracy: 0.9997 - val_loss: 0.2747 - val_accuracy: 0.9241\n",
            "Epoch 58/80\n",
            "31/31 [==============================] - 1s 34ms/step - loss: 0.0015 - accuracy: 0.9995 - val_loss: 0.3036 - val_accuracy: 0.9107\n",
            "Epoch 59/80\n",
            "31/31 [==============================] - 1s 33ms/step - loss: 0.0017 - accuracy: 0.9994 - val_loss: 0.2783 - val_accuracy: 0.9187\n",
            "Epoch 60/80\n",
            "31/31 [==============================] - 1s 32ms/step - loss: 0.0040 - accuracy: 0.9992 - val_loss: 0.3389 - val_accuracy: 0.9140\n",
            "Epoch 61/80\n",
            "31/31 [==============================] - 1s 32ms/step - loss: 0.0011 - accuracy: 0.9998 - val_loss: 0.4560 - val_accuracy: 0.8972\n",
            "Epoch 62/80\n",
            "31/31 [==============================] - 1s 33ms/step - loss: 6.7148e-04 - accuracy: 0.9998 - val_loss: 0.3280 - val_accuracy: 0.9187\n",
            "Epoch 63/80\n",
            "31/31 [==============================] - 1s 32ms/step - loss: 4.9605e-04 - accuracy: 1.0000 - val_loss: 0.2648 - val_accuracy: 0.9221\n",
            "Epoch 64/80\n",
            "31/31 [==============================] - 1s 33ms/step - loss: 7.0089e-04 - accuracy: 0.9998 - val_loss: 0.3386 - val_accuracy: 0.9127\n",
            "Epoch 65/80\n",
            "31/31 [==============================] - 1s 32ms/step - loss: 0.0020 - accuracy: 0.9997 - val_loss: 0.3693 - val_accuracy: 0.9026\n",
            "Epoch 66/80\n",
            "31/31 [==============================] - 1s 32ms/step - loss: 8.4643e-04 - accuracy: 0.9997 - val_loss: 0.2458 - val_accuracy: 0.9315\n",
            "Epoch 67/80\n",
            "31/31 [==============================] - 1s 34ms/step - loss: 0.0020 - accuracy: 0.9990 - val_loss: 0.2511 - val_accuracy: 0.9328\n",
            "Epoch 68/80\n",
            "31/31 [==============================] - 1s 35ms/step - loss: 6.4419e-04 - accuracy: 0.9997 - val_loss: 0.2296 - val_accuracy: 0.9342\n",
            "Epoch 69/80\n",
            "31/31 [==============================] - 1s 33ms/step - loss: 0.0028 - accuracy: 0.9997 - val_loss: 0.2190 - val_accuracy: 0.9369\n",
            "Epoch 70/80\n",
            "31/31 [==============================] - 1s 35ms/step - loss: 0.0019 - accuracy: 0.9994 - val_loss: 0.1924 - val_accuracy: 0.9449\n",
            "Epoch 71/80\n",
            "31/31 [==============================] - 1s 35ms/step - loss: 6.1311e-04 - accuracy: 0.9998 - val_loss: 0.2878 - val_accuracy: 0.9187\n",
            "Epoch 72/80\n",
            "31/31 [==============================] - 1s 35ms/step - loss: 0.0032 - accuracy: 0.9990 - val_loss: 0.2129 - val_accuracy: 0.9382\n",
            "Epoch 73/80\n",
            "31/31 [==============================] - 1s 35ms/step - loss: 8.3608e-04 - accuracy: 0.9998 - val_loss: 0.2451 - val_accuracy: 0.9255\n",
            "Epoch 74/80\n",
            "31/31 [==============================] - 1s 35ms/step - loss: 3.6602e-04 - accuracy: 1.0000 - val_loss: 0.3221 - val_accuracy: 0.9093\n",
            "Epoch 75/80\n",
            "31/31 [==============================] - 1s 34ms/step - loss: 0.0021 - accuracy: 0.9995 - val_loss: 0.2205 - val_accuracy: 0.9375\n",
            "Epoch 76/80\n",
            "31/31 [==============================] - 1s 35ms/step - loss: 0.0015 - accuracy: 0.9995 - val_loss: 0.2490 - val_accuracy: 0.9328\n",
            "Epoch 77/80\n",
            "31/31 [==============================] - 1s 34ms/step - loss: 1.2607e-04 - accuracy: 1.0000 - val_loss: 0.2900 - val_accuracy: 0.9281\n",
            "Epoch 78/80\n",
            "31/31 [==============================] - 1s 35ms/step - loss: 0.0017 - accuracy: 0.9997 - val_loss: 0.3131 - val_accuracy: 0.9281\n",
            "Epoch 79/80\n",
            "31/31 [==============================] - 1s 36ms/step - loss: 6.3388e-04 - accuracy: 0.9998 - val_loss: 0.2975 - val_accuracy: 0.9248\n",
            "Epoch 80/80\n",
            "31/31 [==============================] - 1s 36ms/step - loss: 1.2645e-04 - accuracy: 1.0000 - val_loss: 0.3618 - val_accuracy: 0.9201\n"
          ],
          "name": "stdout"
        },
        {
          "output_type": "display_data",
          "data": {
            "image/png": "[encoded data removed]",
            "text/plain": [
              "<Figure size 432x288 with 1 Axes>"
            ]
          },
          "metadata": {
            "tags": [],
            "needs_background": "light"
          }
        },
        {
          "output_type": "stream",
          "text": [
            "НЕЙРОНКА:  Embedding + LSTM сеть\n",
            "\n",
            "Аппендицит  распознано  100 % сеть считает, что это  Аппендицит ,  распознано ВЕРНО!\n",
            "Гастрит  распознано  83 % сеть считает, что это  Гастрит ,  распознано ВЕРНО!\n",
            "Гепатит  распознано  100 % сеть считает, что это  Гепатит ,  распознано ВЕРНО!\n",
            "Дуоденит  распознано  100 % сеть считает, что это  Дуоденит ,  распознано ВЕРНО!\n",
            "Колит  распознано  98 % сеть считает, что это  Колит ,  распознано ВЕРНО!\n",
            "Панкреатит  распознано  93 % сеть считает, что это  Панкреатит ,  распознано ВЕРНО!\n",
            "Холицестит  распознано  94 % сеть считает, что это  Холицестит ,  распознано ВЕРНО!\n",
            "Эзофагит  распознано  100 % сеть считает, что это  Эзофагит ,  распознано ВЕРНО!\n",
            "Энтерит  распознано  100 % сеть считает, что это  Энтерит ,  распознано ВЕРНО!\n",
            "Язва  распознано  64 % сеть считает, что это  Язва ,  распознано ВЕРНО!\n",
            "\n",
            "Средний процент распознавания  92 %\n",
            "\n",
            "Epoch 1/40\n",
            "21/21 [==============================] - 2s 86ms/step - loss: 0.0035 - accuracy: 0.9990 - val_loss: 0.3776 - val_accuracy: 0.9174\n",
            "Epoch 2/40\n",
            "21/21 [==============================] - 1s 38ms/step - loss: 0.0029 - accuracy: 0.9997 - val_loss: 0.2885 - val_accuracy: 0.9288\n",
            "Epoch 3/40\n",
            "21/21 [==============================] - 1s 35ms/step - loss: 0.0042 - accuracy: 0.9994 - val_loss: 0.3688 - val_accuracy: 0.9208\n",
            "Epoch 4/40\n",
            "21/21 [==============================] - 1s 35ms/step - loss: 0.0021 - accuracy: 0.9995 - val_loss: 0.3539 - val_accuracy: 0.9167\n",
            "Epoch 5/40\n",
            "21/21 [==============================] - 1s 35ms/step - loss: 0.0010 - accuracy: 0.9997 - val_loss: 0.3448 - val_accuracy: 0.9113\n",
            "Epoch 6/40\n",
            "21/21 [==============================] - 1s 37ms/step - loss: 0.0014 - accuracy: 0.9995 - val_loss: 0.3303 - val_accuracy: 0.9161\n",
            "Epoch 7/40\n",
            "21/21 [==============================] - 1s 36ms/step - loss: 0.0011 - accuracy: 0.9994 - val_loss: 0.3810 - val_accuracy: 0.9093\n",
            "Epoch 8/40\n",
            "21/21 [==============================] - 1s 37ms/step - loss: 7.9652e-04 - accuracy: 0.9995 - val_loss: 0.3855 - val_accuracy: 0.9073\n",
            "Epoch 9/40\n",
            "21/21 [==============================] - 1s 36ms/step - loss: 2.2874e-04 - accuracy: 1.0000 - val_loss: 0.4116 - val_accuracy: 0.9134\n",
            "Epoch 10/40\n",
            "21/21 [==============================] - 1s 37ms/step - loss: 1.6729e-04 - accuracy: 1.0000 - val_loss: 0.3229 - val_accuracy: 0.9174\n",
            "Epoch 11/40\n",
            "21/21 [==============================] - 1s 37ms/step - loss: 2.5347e-04 - accuracy: 0.9998 - val_loss: 0.3313 - val_accuracy: 0.9127\n",
            "Epoch 12/40\n",
            "21/21 [==============================] - 1s 34ms/step - loss: 0.0011 - accuracy: 0.9997 - val_loss: 0.3855 - val_accuracy: 0.9113\n",
            "Epoch 13/40\n",
            "21/21 [==============================] - 1s 34ms/step - loss: 1.8450e-04 - accuracy: 1.0000 - val_loss: 0.3763 - val_accuracy: 0.9154\n",
            "Epoch 14/40\n",
            "21/21 [==============================] - 1s 34ms/step - loss: 0.0020 - accuracy: 0.9995 - val_loss: 0.3765 - val_accuracy: 0.9275\n",
            "Epoch 15/40\n",
            "21/21 [==============================] - 1s 34ms/step - loss: 0.0011 - accuracy: 0.9995 - val_loss: 0.3128 - val_accuracy: 0.9342\n",
            "Epoch 16/40\n",
            "21/21 [==============================] - 1s 37ms/step - loss: 8.4601e-04 - accuracy: 0.9997 - val_loss: 0.2545 - val_accuracy: 0.9422\n",
            "Epoch 17/40\n",
            "21/21 [==============================] - 1s 36ms/step - loss: 0.0012 - accuracy: 0.9994 - val_loss: 0.3653 - val_accuracy: 0.9228\n",
            "Epoch 18/40\n",
            "21/21 [==============================] - 1s 37ms/step - loss: 2.9148e-04 - accuracy: 0.9998 - val_loss: 0.3626 - val_accuracy: 0.9221\n",
            "Epoch 19/40\n",
            "21/21 [==============================] - 1s 37ms/step - loss: 0.0010 - accuracy: 0.9998 - val_loss: 0.4401 - val_accuracy: 0.9241\n",
            "Epoch 20/40\n",
            "21/21 [==============================] - 1s 37ms/step - loss: 5.9890e-04 - accuracy: 0.9998 - val_loss: 0.4441 - val_accuracy: 0.9295\n",
            "Epoch 21/40\n",
            "21/21 [==============================] - 1s 37ms/step - loss: 0.0012 - accuracy: 0.9997 - val_loss: 0.4840 - val_accuracy: 0.9268\n",
            "Epoch 22/40\n",
            "21/21 [==============================] - 1s 34ms/step - loss: 0.0017 - accuracy: 0.9992 - val_loss: 0.4205 - val_accuracy: 0.9288\n",
            "Epoch 23/40\n",
            "21/21 [==============================] - 1s 34ms/step - loss: 0.0016 - accuracy: 0.9997 - val_loss: 0.3894 - val_accuracy: 0.9248\n",
            "Epoch 24/40\n",
            "21/21 [==============================] - 1s 34ms/step - loss: 2.9425e-04 - accuracy: 1.0000 - val_loss: 0.3729 - val_accuracy: 0.9315\n",
            "Epoch 25/40\n",
            "21/21 [==============================] - 1s 35ms/step - loss: 8.2310e-04 - accuracy: 0.9998 - val_loss: 0.2688 - val_accuracy: 0.9308\n",
            "Epoch 26/40\n",
            "21/21 [==============================] - 1s 37ms/step - loss: 0.0028 - accuracy: 0.9994 - val_loss: 0.3501 - val_accuracy: 0.9261\n",
            "Epoch 27/40\n",
            "21/21 [==============================] - 1s 37ms/step - loss: 0.0026 - accuracy: 0.9997 - val_loss: 0.3100 - val_accuracy: 0.9248\n",
            "Epoch 28/40\n",
            "21/21 [==============================] - 1s 37ms/step - loss: 0.0014 - accuracy: 0.9995 - val_loss: 0.3054 - val_accuracy: 0.9315\n",
            "Epoch 29/40\n",
            "21/21 [==============================] - 1s 38ms/step - loss: 1.3647e-04 - accuracy: 1.0000 - val_loss: 0.2724 - val_accuracy: 0.9315\n",
            "Epoch 30/40\n",
            "21/21 [==============================] - 1s 37ms/step - loss: 2.2414e-04 - accuracy: 1.0000 - val_loss: 0.2588 - val_accuracy: 0.9328\n",
            "Epoch 31/40\n",
            "21/21 [==============================] - 1s 36ms/step - loss: 1.2104e-04 - accuracy: 1.0000 - val_loss: 0.2609 - val_accuracy: 0.9490\n",
            "Epoch 32/40\n",
            "21/21 [==============================] - 1s 35ms/step - loss: 4.9233e-04 - accuracy: 0.9997 - val_loss: 0.3136 - val_accuracy: 0.9355\n",
            "Epoch 33/40\n",
            "21/21 [==============================] - 1s 35ms/step - loss: 2.8440e-04 - accuracy: 1.0000 - val_loss: 0.4185 - val_accuracy: 0.9328\n",
            "Epoch 34/40\n",
            "21/21 [==============================] - 1s 35ms/step - loss: 0.0011 - accuracy: 0.9997 - val_loss: 0.2829 - val_accuracy: 0.9429\n",
            "Epoch 35/40\n",
            "21/21 [==============================] - 1s 34ms/step - loss: 1.8110e-04 - accuracy: 1.0000 - val_loss: 0.3143 - val_accuracy: 0.9409\n",
            "Epoch 36/40\n",
            "21/21 [==============================] - 1s 37ms/step - loss: 0.0011 - accuracy: 0.9997 - val_loss: 0.3012 - val_accuracy: 0.9362\n",
            "Epoch 37/40\n",
            "21/21 [==============================] - 1s 38ms/step - loss: 9.2112e-04 - accuracy: 0.9998 - val_loss: 0.2963 - val_accuracy: 0.9416\n",
            "Epoch 38/40\n",
            "21/21 [==============================] - 1s 36ms/step - loss: 0.0035 - accuracy: 0.9994 - val_loss: 0.4151 - val_accuracy: 0.9355\n",
            "Epoch 39/40\n",
            "21/21 [==============================] - 1s 38ms/step - loss: 2.3182e-04 - accuracy: 1.0000 - val_loss: 0.3378 - val_accuracy: 0.9362\n",
            "Epoch 40/40\n",
            "21/21 [==============================] - 1s 37ms/step - loss: 5.1317e-04 - accuracy: 0.9997 - val_loss: 0.3276 - val_accuracy: 0.9409\n"
          ],
          "name": "stdout"
        },
        {
          "output_type": "display_data",
          "data": {
            "image/png": "[encoded data removed]",
            "text/plain": [
              "<Figure size 432x288 with 1 Axes>"
            ]
          },
          "metadata": {
            "tags": [],
            "needs_background": "light"
          }
        },
        {
          "output_type": "stream",
          "text": [
            "НЕЙРОНКА:  Embedding + LSTM сеть\n",
            "\n",
            "Аппендицит  распознано  100 % сеть считает, что это  Аппендицит ,  распознано ВЕРНО!\n",
            "Гастрит  распознано  94 % сеть считает, что это  Гастрит ,  распознано ВЕРНО!\n",
            "Гепатит  распознано  100 % сеть считает, что это  Гепатит ,  распознано ВЕРНО!\n",
            "Дуоденит  распознано  100 % сеть считает, что это  Дуоденит ,  распознано ВЕРНО!\n",
            "Колит  распознано  98 % сеть считает, что это  Колит ,  распознано ВЕРНО!\n",
            "Панкреатит  распознано  92 % сеть считает, что это  Панкреатит ,  распознано ВЕРНО!\n",
            "Холицестит  распознано  98 % сеть считает, что это  Холицестит ,  распознано ВЕРНО!\n",
            "Эзофагит  распознано  100 % сеть считает, что это  Эзофагит ,  распознано ВЕРНО!\n",
            "Энтерит  распознано  100 % сеть считает, что это  Энтерит ,  распознано ВЕРНО!\n",
            "Язва  распознано  63 % сеть считает, что это  Язва ,  распознано ВЕРНО!\n",
            "\n",
            "Средний процент распознавания  94 %\n",
            "\n"
          ],
          "name": "stdout"
        }
      ]
    },
    {
      "cell_type": "code",
      "metadata": {
        "id": "TmDs8WzSggOS",
        "colab": {
          "base_uri": "https://localhost:8080/",
          "height": 50
        },
        "outputId": "0f1e352e-ca70-4d42-d51b-b853d37bf35e"
      },
      "source": [
        "history1_.history['val_accuracy'][-1]\n",
        "print(\"Нейронка: Embedding + LSTM сеть\")\n",
        "print(\"Точность классификации данных на проверочной выборке:\", round(last_val_accuracy1*100, 2), \"%\")"
      ],
      "execution_count": null,
      "outputs": [
        {
          "output_type": "stream",
          "text": [
            "Нейронка: Embedding + LSTM сеть\n",
            "Точность классификации данных на проверочной выборке: 94.09 %\n"
          ],
          "name": "stdout"
        }
      ]
    },
    {
      "cell_type": "markdown",
      "metadata": {
        "id": "-fptqQgy7t8A"
      },
      "source": [
        "#### 2. Embedding + Conv1D сеть"
      ]
    },
    {
      "cell_type": "code",
      "metadata": {
        "id": "asP0MVzwR9op",
        "colab": {
          "base_uri": "https://localhost:8080/",
          "height": 1000
        },
        "outputId": "044ac3b5-cdae-4501-b406-1898f62f2175"
      },
      "source": [
        "# Embedding + Conv1D сеть\n",
        "\n",
        "# Создаем модель\n",
        "model2 = Sequential() \n",
        "\n",
        "model2.add(Embedding(maxWordsCount, 30, input_length=xLen))\n",
        "model2.add(SpatialDropout1D(0.5))\n",
        "model2.add(BatchNormalization()) \n",
        "model2.add(Conv1D(50, 10, activation=\"relu\"))\n",
        "model2.add(Conv1D(50, 10, activation=\"relu\")) \n",
        "model2.add(MaxPooling1D(4)) \n",
        "model2.add(Dropout(0.5)) \n",
        "model2.add(BatchNormalization()) \n",
        "model2.add(Flatten()) \n",
        "model2.add(Dense(10, activation='softmax')) \n",
        "\n",
        "\n",
        "#Компилируем\n",
        "model2.compile(optimizer='adam', \n",
        "              loss='categorical_crossentropy', \n",
        "              metrics=['accuracy'])\n",
        "\n",
        "#Обучаем\n",
        "history2 = model2.fit(xTrain, \n",
        "                    yTrain, \n",
        "                    epochs=30,\n",
        "                    batch_size=250,\n",
        "                    validation_data=(xTest, yTest))\n",
        "\n",
        "#Визуализируем результаты\n",
        "plt.plot(history2.history['accuracy'], \n",
        "         label='Доля верных ответов на обучающем наборе')\n",
        "plt.plot(history2.history['val_accuracy'], \n",
        "         label='Доля верных ответов на проверочном наборе')\n",
        "plt.xlabel('Эпоха обучения')\n",
        "plt.ylabel('Доля верных ответов')\n",
        "plt.legend()\n",
        "plt.show()\n",
        "\n",
        "pred2 = recognizeMultiClass(model2, xTest6Classes, \"Embedding + Conv1D сеть\") #функция покажет какие классы и как распознаны верно\n",
        "\n"
      ],
      "execution_count": null,
      "outputs": [
        {
          "output_type": "stream",
          "text": [
            "Epoch 1/30\n",
            "25/25 [==============================] - 3s 106ms/step - loss: 2.7567 - accuracy: 0.1487 - val_loss: 2.3041 - val_accuracy: 0.1527\n",
            "Epoch 2/30\n",
            "25/25 [==============================] - 2s 100ms/step - loss: 1.5789 - accuracy: 0.4584 - val_loss: 2.3371 - val_accuracy: 0.1710\n",
            "Epoch 3/30\n",
            "25/25 [==============================] - 2s 98ms/step - loss: 0.6854 - accuracy: 0.7835 - val_loss: 2.3715 - val_accuracy: 0.1201\n",
            "Epoch 4/30\n",
            "25/25 [==============================] - 2s 99ms/step - loss: 0.2990 - accuracy: 0.9294 - val_loss: 2.4376 - val_accuracy: 0.1371\n",
            "Epoch 5/30\n",
            "25/25 [==============================] - 2s 98ms/step - loss: 0.1571 - accuracy: 0.9681 - val_loss: 2.4945 - val_accuracy: 0.1266\n",
            "Epoch 6/30\n",
            "25/25 [==============================] - 2s 99ms/step - loss: 0.1038 - accuracy: 0.9811 - val_loss: 2.4307 - val_accuracy: 0.1449\n",
            "Epoch 7/30\n",
            "25/25 [==============================] - 2s 99ms/step - loss: 0.0734 - accuracy: 0.9880 - val_loss: 2.3986 - val_accuracy: 0.1456\n",
            "Epoch 8/30\n",
            "25/25 [==============================] - 2s 99ms/step - loss: 0.0565 - accuracy: 0.9912 - val_loss: 2.2739 - val_accuracy: 0.1488\n",
            "Epoch 9/30\n",
            "25/25 [==============================] - 3s 100ms/step - loss: 0.0439 - accuracy: 0.9942 - val_loss: 2.1038 - val_accuracy: 0.2121\n",
            "Epoch 10/30\n",
            "25/25 [==============================] - 3s 100ms/step - loss: 0.0390 - accuracy: 0.9946 - val_loss: 1.8868 - val_accuracy: 0.3009\n",
            "Epoch 11/30\n",
            "25/25 [==============================] - 2s 99ms/step - loss: 0.0312 - accuracy: 0.9954 - val_loss: 1.7127 - val_accuracy: 0.3753\n",
            "Epoch 12/30\n",
            "25/25 [==============================] - 2s 99ms/step - loss: 0.0264 - accuracy: 0.9962 - val_loss: 1.5191 - val_accuracy: 0.4661\n",
            "Epoch 13/30\n",
            "25/25 [==============================] - 2s 98ms/step - loss: 0.0228 - accuracy: 0.9973 - val_loss: 1.2931 - val_accuracy: 0.5483\n",
            "Epoch 14/30\n",
            "25/25 [==============================] - 3s 100ms/step - loss: 0.0183 - accuracy: 0.9982 - val_loss: 1.0695 - val_accuracy: 0.6841\n",
            "Epoch 15/30\n",
            "25/25 [==============================] - 2s 99ms/step - loss: 0.0188 - accuracy: 0.9973 - val_loss: 0.8823 - val_accuracy: 0.7709\n",
            "Epoch 16/30\n",
            "25/25 [==============================] - 2s 98ms/step - loss: 0.0176 - accuracy: 0.9974 - val_loss: 0.7201 - val_accuracy: 0.8316\n",
            "Epoch 17/30\n",
            "25/25 [==============================] - 2s 99ms/step - loss: 0.0139 - accuracy: 0.9984 - val_loss: 0.5833 - val_accuracy: 0.8721\n",
            "Epoch 18/30\n",
            "25/25 [==============================] - 2s 100ms/step - loss: 0.0129 - accuracy: 0.9987 - val_loss: 0.4800 - val_accuracy: 0.8949\n",
            "Epoch 19/30\n",
            "25/25 [==============================] - 2s 99ms/step - loss: 0.0120 - accuracy: 0.9987 - val_loss: 0.4005 - val_accuracy: 0.9106\n",
            "Epoch 20/30\n",
            "25/25 [==============================] - 2s 99ms/step - loss: 0.0105 - accuracy: 0.9990 - val_loss: 0.3262 - val_accuracy: 0.9191\n",
            "Epoch 21/30\n",
            "25/25 [==============================] - 2s 98ms/step - loss: 0.0103 - accuracy: 0.9990 - val_loss: 0.2736 - val_accuracy: 0.9315\n",
            "Epoch 22/30\n",
            "25/25 [==============================] - 2s 100ms/step - loss: 0.0095 - accuracy: 0.9987 - val_loss: 0.2499 - val_accuracy: 0.9321\n",
            "Epoch 23/30\n",
            "25/25 [==============================] - 2s 99ms/step - loss: 0.0101 - accuracy: 0.9986 - val_loss: 0.2258 - val_accuracy: 0.9432\n",
            "Epoch 24/30\n",
            "25/25 [==============================] - 2s 99ms/step - loss: 0.0099 - accuracy: 0.9984 - val_loss: 0.2181 - val_accuracy: 0.9458\n",
            "Epoch 25/30\n",
            "25/25 [==============================] - 2s 98ms/step - loss: 0.0066 - accuracy: 0.9997 - val_loss: 0.2100 - val_accuracy: 0.9491\n",
            "Epoch 26/30\n",
            "25/25 [==============================] - 2s 99ms/step - loss: 0.0080 - accuracy: 0.9984 - val_loss: 0.2247 - val_accuracy: 0.9399\n",
            "Epoch 27/30\n",
            "25/25 [==============================] - 2s 98ms/step - loss: 0.0067 - accuracy: 0.9995 - val_loss: 0.2219 - val_accuracy: 0.9426\n",
            "Epoch 28/30\n",
            "25/25 [==============================] - 2s 99ms/step - loss: 0.0067 - accuracy: 0.9989 - val_loss: 0.2009 - val_accuracy: 0.9523\n",
            "Epoch 29/30\n",
            "25/25 [==============================] - 2s 99ms/step - loss: 0.0063 - accuracy: 0.9994 - val_loss: 0.2018 - val_accuracy: 0.9537\n",
            "Epoch 30/30\n",
            "25/25 [==============================] - 2s 100ms/step - loss: 0.0058 - accuracy: 0.9992 - val_loss: 0.1827 - val_accuracy: 0.9634\n"
          ],
          "name": "stdout"
        },
        {
          "output_type": "display_data",
          "data": {
            "image/png": "[encoded data removed]",
            "text/plain": [
              "<Figure size 432x288 with 1 Axes>"
            ]
          },
          "metadata": {
            "tags": [],
            "needs_background": "light"
          }
        },
        {
          "output_type": "stream",
          "text": [
            "НЕЙРОНКА:  Embedding + Conv1D сеть\n",
            "\n",
            "Аппендицит  распознано  95 % сеть считает, что это  Аппендицит ,  распознано ВЕРНО!\n",
            "Гастрит  распознано  86 % сеть считает, что это  Гастрит ,  распознано ВЕРНО!\n",
            "Гепатит  распознано  100 % сеть считает, что это  Гепатит ,  распознано ВЕРНО!\n",
            "Дуоденит  распознано  100 % сеть считает, что это  Дуоденит ,  распознано ВЕРНО!\n",
            "Колит  распознано  100 % сеть считает, что это  Колит ,  распознано ВЕРНО!\n",
            "Панкреатит  распознано  100 % сеть считает, что это  Панкреатит ,  распознано ВЕРНО!\n",
            "Холицестит  распознано  100 % сеть считает, что это  Холицестит ,  распознано ВЕРНО!\n",
            "Эзофагит  распознано  100 % сеть считает, что это  Эзофагит ,  распознано ВЕРНО!\n",
            "Энтерит  распознано  100 % сеть считает, что это  Энтерит ,  распознано ВЕРНО!\n",
            "Язва  распознано  85 % сеть считает, что это  Язва ,  распознано ВЕРНО!\n",
            "\n",
            "Средний процент распознавания  96 %\n",
            "\n"
          ],
          "name": "stdout"
        }
      ]
    },
    {
      "cell_type": "code",
      "metadata": {
        "id": "PTNjJ_OzVS3R",
        "colab": {
          "base_uri": "https://localhost:8080/",
          "height": 50
        },
        "outputId": "d686355b-8e47-4fc7-f8c1-9000383018f0"
      },
      "source": [
        "last_val_accuracy2 = history2.history['val_accuracy'][-1]\n",
        "print(\"Нейронка: Embedding + Conv1D сеть\")\n",
        "print(\"Точность классификации данных на проверочной выборке:\", round(last_val_accuracy2*100, 2), \"%\")"
      ],
      "execution_count": null,
      "outputs": [
        {
          "output_type": "stream",
          "text": [
            "Нейронка: Embedding + Conv1D сеть\n",
            "Точность классификации данных на проверочной выборке: 96.34 %\n"
          ],
          "name": "stdout"
        }
      ]
    },
    {
      "cell_type": "markdown",
      "metadata": {
        "id": "8u_MjIzO71Ml"
      },
      "source": [
        "#### 3. Embedding + сложная сеть из Dense, LSTM и Conv1D"
      ]
    },
    {
      "cell_type": "code",
      "metadata": {
        "id": "wjDZzV7zTYIo",
        "colab": {
          "base_uri": "https://localhost:8080/",
          "height": 1000
        },
        "outputId": "b9c776ce-b5fd-4965-9d94-0c121b9dc329"
      },
      "source": [
        "# Embedding + сложная сеть из Dense, LSTM и Conv1D\n",
        "\n",
        "# Создаем модель\n",
        "model3 = Sequential() \n",
        "\n",
        "model3.add(Embedding(maxWordsCount, 30, input_length=xLen))\n",
        "model3.add(SpatialDropout1D(0.5)) \n",
        "model3.add(Bidirectional(LSTM(16, return_sequences=True)))\n",
        "model3.add(Dense(100, activation='relu')) \n",
        "model3.add(Conv1D(100, 10, activation=\"relu\")) \n",
        "model3.add(LSTM(16, return_sequences=True))\n",
        "model3.add(Dropout(0.5)) \n",
        "model3.add(BatchNormalization()) \n",
        "model3.add(Conv1D(100, 10, activation=\"relu\")) \n",
        "model3.add(MaxPooling1D(3)) \n",
        "model3.add(Dropout(0.5)) \n",
        "model3.add(BatchNormalization()) \n",
        "model3.add(Flatten()) \n",
        "model3.add(Dense(10, activation='softmax'))\n",
        "\n",
        "#Компилируем\n",
        "model3.compile(optimizer='rmsprop', \n",
        "              loss='categorical_crossentropy', \n",
        "              metrics=['accuracy'])\n",
        "\n",
        "#Обучаем\n",
        "history3 = model3.fit(xTrain, \n",
        "                    yTrain, \n",
        "                    epochs=30,\n",
        "                    batch_size=200,\n",
        "                    validation_data=(xTest, yTest))\n",
        "\n",
        "#Визуализируем результаты\n",
        "plt.plot(history3.history['accuracy'], \n",
        "         label='Доля верных ответов на обучающем наборе')\n",
        "plt.plot(history3.history['val_accuracy'], \n",
        "         label='Доля верных ответов на проверочном наборе')\n",
        "plt.xlabel('Эпоха обучения')\n",
        "plt.ylabel('Доля верных ответов')\n",
        "plt.legend()\n",
        "plt.show()\n",
        "\n",
        "pred3 = recognizeMultiClass(model3, xTest6Classes, \"Embedding + сложная сеть из Dense, LSTM и Conv1D\") #функция покажет какие классы и как распознаны верно\n",
        "\n"
      ],
      "execution_count": null,
      "outputs": [
        {
          "output_type": "stream",
          "text": [
            "Epoch 1/30\n",
            "32/32 [==============================] - 11s 359ms/step - loss: 1.3255 - accuracy: 0.5620 - val_loss: 2.2651 - val_accuracy: 0.0633\n",
            "Epoch 2/30\n",
            "32/32 [==============================] - 10s 303ms/step - loss: 0.2251 - accuracy: 0.9316 - val_loss: 2.3731 - val_accuracy: 0.0633\n",
            "Epoch 3/30\n",
            "32/32 [==============================] - 9s 293ms/step - loss: 0.0844 - accuracy: 0.9760 - val_loss: 2.6651 - val_accuracy: 0.0666\n",
            "Epoch 4/30\n",
            "32/32 [==============================] - 9s 296ms/step - loss: 0.0583 - accuracy: 0.9825 - val_loss: 2.8866 - val_accuracy: 0.1142\n",
            "Epoch 5/30\n",
            "32/32 [==============================] - 10s 304ms/step - loss: 0.0393 - accuracy: 0.9882 - val_loss: 2.8536 - val_accuracy: 0.1495\n",
            "Epoch 6/30\n",
            "32/32 [==============================] - 10s 303ms/step - loss: 0.0235 - accuracy: 0.9915 - val_loss: 2.1502 - val_accuracy: 0.2670\n",
            "Epoch 7/30\n",
            "32/32 [==============================] - 9s 297ms/step - loss: 0.0247 - accuracy: 0.9930 - val_loss: 2.5174 - val_accuracy: 0.2278\n",
            "Epoch 8/30\n",
            "32/32 [==============================] - 9s 295ms/step - loss: 0.0258 - accuracy: 0.9914 - val_loss: 1.6594 - val_accuracy: 0.4315\n",
            "Epoch 9/30\n",
            "32/32 [==============================] - 9s 294ms/step - loss: 0.0201 - accuracy: 0.9933 - val_loss: 1.1473 - val_accuracy: 0.6730\n",
            "Epoch 10/30\n",
            "32/32 [==============================] - 9s 293ms/step - loss: 0.0212 - accuracy: 0.9928 - val_loss: 0.8539 - val_accuracy: 0.7755\n",
            "Epoch 11/30\n",
            "32/32 [==============================] - 9s 295ms/step - loss: 0.0137 - accuracy: 0.9958 - val_loss: 1.1862 - val_accuracy: 0.7343\n",
            "Epoch 12/30\n",
            "32/32 [==============================] - 9s 294ms/step - loss: 0.0177 - accuracy: 0.9938 - val_loss: 1.0005 - val_accuracy: 0.7826\n",
            "Epoch 13/30\n",
            "32/32 [==============================] - 9s 295ms/step - loss: 0.0200 - accuracy: 0.9939 - val_loss: 0.5151 - val_accuracy: 0.8962\n",
            "Epoch 14/30\n",
            "32/32 [==============================] - 9s 295ms/step - loss: 0.0207 - accuracy: 0.9941 - val_loss: 1.8020 - val_accuracy: 0.6482\n",
            "Epoch 15/30\n",
            "32/32 [==============================] - 9s 296ms/step - loss: 0.0147 - accuracy: 0.9950 - val_loss: 0.4757 - val_accuracy: 0.9073\n",
            "Epoch 16/30\n",
            "32/32 [==============================] - 9s 294ms/step - loss: 0.0188 - accuracy: 0.9944 - val_loss: 1.3609 - val_accuracy: 0.7644\n",
            "Epoch 17/30\n",
            "32/32 [==============================] - 9s 294ms/step - loss: 0.0166 - accuracy: 0.9946 - val_loss: 0.9192 - val_accuracy: 0.8316\n",
            "Epoch 18/30\n",
            "32/32 [==============================] - 9s 294ms/step - loss: 0.0175 - accuracy: 0.9944 - val_loss: 0.5286 - val_accuracy: 0.9080\n",
            "Epoch 19/30\n",
            "32/32 [==============================] - 9s 294ms/step - loss: 0.0143 - accuracy: 0.9958 - val_loss: 0.9261 - val_accuracy: 0.8394\n",
            "Epoch 20/30\n",
            "32/32 [==============================] - 9s 292ms/step - loss: 0.0149 - accuracy: 0.9946 - val_loss: 0.8669 - val_accuracy: 0.8629\n",
            "Epoch 21/30\n",
            "32/32 [==============================] - 9s 293ms/step - loss: 0.0148 - accuracy: 0.9955 - val_loss: 0.6239 - val_accuracy: 0.9171\n",
            "Epoch 22/30\n",
            "32/32 [==============================] - 9s 294ms/step - loss: 0.0190 - accuracy: 0.9938 - val_loss: 1.6654 - val_accuracy: 0.7820\n",
            "Epoch 23/30\n",
            "32/32 [==============================] - 9s 293ms/step - loss: 0.0110 - accuracy: 0.9960 - val_loss: 0.7514 - val_accuracy: 0.8760\n",
            "Epoch 24/30\n",
            "32/32 [==============================] - 9s 294ms/step - loss: 0.0150 - accuracy: 0.9952 - val_loss: 0.6215 - val_accuracy: 0.9040\n",
            "Epoch 25/30\n",
            "32/32 [==============================] - 9s 293ms/step - loss: 0.0076 - accuracy: 0.9974 - val_loss: 0.4825 - val_accuracy: 0.9249\n",
            "Epoch 26/30\n",
            "32/32 [==============================] - 9s 291ms/step - loss: 0.0106 - accuracy: 0.9973 - val_loss: 0.4475 - val_accuracy: 0.9275\n",
            "Epoch 27/30\n",
            "32/32 [==============================] - 9s 292ms/step - loss: 0.0128 - accuracy: 0.9962 - val_loss: 0.7810 - val_accuracy: 0.8747\n",
            "Epoch 28/30\n",
            "32/32 [==============================] - 9s 294ms/step - loss: 0.0116 - accuracy: 0.9966 - val_loss: 0.8715 - val_accuracy: 0.8512\n",
            "Epoch 29/30\n",
            "32/32 [==============================] - 9s 296ms/step - loss: 0.0198 - accuracy: 0.9939 - val_loss: 0.7484 - val_accuracy: 0.8819\n",
            "Epoch 30/30\n",
            "32/32 [==============================] - 9s 294ms/step - loss: 0.0126 - accuracy: 0.9965 - val_loss: 0.6643 - val_accuracy: 0.9014\n"
          ],
          "name": "stdout"
        },
        {
          "output_type": "display_data",
          "data": {
            "image/png": "[encoded data removed]",
            "text/plain": [
              "<Figure size 432x288 with 1 Axes>"
            ]
          },
          "metadata": {
            "tags": [],
            "needs_background": "light"
          }
        },
        {
          "output_type": "stream",
          "text": [
            "НЕЙРОНКА:  Embedding + сложная сеть из Dense, LSTM и Conv1D\n",
            "\n",
            "Аппендицит  распознано  100 % сеть считает, что это  Аппендицит ,  распознано ВЕРНО!\n",
            "Гастрит  распознано  85 % сеть считает, что это  Гастрит ,  распознано ВЕРНО!\n",
            "Гепатит  распознано  100 % сеть считает, что это  Гепатит ,  распознано ВЕРНО!\n",
            "Дуоденит  распознано  74 % сеть считает, что это  Дуоденит ,  распознано ВЕРНО!\n",
            "Колит  распознано  100 % сеть считает, что это  Колит ,  распознано ВЕРНО!\n",
            "Панкреатит  распознано  91 % сеть считает, что это  Панкреатит ,  распознано ВЕРНО!\n",
            "Холицестит  распознано  89 % сеть считает, что это  Холицестит ,  распознано ВЕРНО!\n",
            "Эзофагит  распознано  92 % сеть считает, что это  Эзофагит ,  распознано ВЕРНО!\n",
            "Энтерит  распознано  100 % сеть считает, что это  Энтерит ,  распознано ВЕРНО!\n",
            "Язва  распознано  66 % сеть считает, что это  Язва ,  распознано ВЕРНО!\n",
            "\n",
            "Средний процент распознавания  90 %\n",
            "\n"
          ],
          "name": "stdout"
        }
      ]
    },
    {
      "cell_type": "code",
      "metadata": {
        "id": "fVjQY-gRVaNG",
        "colab": {
          "base_uri": "https://localhost:8080/",
          "height": 50
        },
        "outputId": "17dfde07-a20b-4e64-b47a-3ebc8f04e3aa"
      },
      "source": [
        "last_val_accuracy3 = history3.history['val_accuracy'][-1]\n",
        "print(\"Нейронка: Embedding + сложная сеть из Dense, LSTM и Conv1D\")\n",
        "print(\"Точность классификации данных на проверочной выборке:\", round(last_val_accuracy3*100, 2), \"%\")\n"
      ],
      "execution_count": null,
      "outputs": [
        {
          "output_type": "stream",
          "text": [
            "Нейронка: Embedding + сложная сеть из Dense, LSTM и Conv1D\n",
            "Точность классификации данных на проверочной выборке: 90.14 %\n"
          ],
          "name": "stdout"
        }
      ]
    },
    {
      "cell_type": "markdown",
      "metadata": {
        "id": "A_BlDSamhMoZ"
      },
      "source": [
        "#### **Итог:**\n",
        "\n",
        "\n",
        "Нейронка: **Embedding + LSTM** дала точность классификации данных на проверочной выборке: **94.09%**\n",
        "\n",
        "Нейронка: **Embedding + Conv1D** дала точность классификации данных на проверочной выборке: **96.34%**\n",
        "\n",
        "Нейронка: **Embedding + сложная сеть из Dense, LSTM и Conv1D** дала точность классификации данных на проверочной выборке: **90.14%**\n",
        "\n",
        "Все полученные результаты можно считать очень хорошими, а данные архитектурные подходы хорошо подходящими для решения подобных задач."
      ]
    },
    {
      "cell_type": "markdown",
      "metadata": {
        "id": "yFXZ06uZTINb"
      },
      "source": [
        "## **ULTRA PRO**\n",
        "\n",
        "\n"
      ]
    },
    {
      "cell_type": "markdown",
      "metadata": {
        "id": "imI922fIMhHp"
      },
      "source": [
        "### **Задание:** \n",
        "Найдите любую базу с текстами разных классов и напишите их распознавание, используя рекуррентные или сверточные слои. Для этого выполните следующее:\n",
        "* Спарсите тексты, превратите их в индексы.\n",
        "* Разделите данные на обучающую и проверочную выборки.\n",
        "* Напишите сеть для распознавания текстов.\n",
        "* Сделайте визуализацию результата.\n",
        "* Напишите ваши результаты и выводы."
      ]
    },
    {
      "cell_type": "code",
      "metadata": {
        "id": "9c-p9wyqmSKJ"
      },
      "source": [
        "from google.colab import files #модуль для загрузки файлов в colab\n",
        "import numpy as np #библиотека для работы с массивами данных\n",
        "import pandas as pd #библиотека для обработки и анализа данных\n",
        "import matplotlib.pyplot as plt #библиотека для визуализации данных\n",
        "import os # Для работы с файлами\n",
        "%matplotlib inline\n",
        "\n",
        "from tensorflow.keras import utils #модуль с утилитами кераса, будем использовать для вызова метода преобразования категорий в вектора\n",
        "from tensorflow.keras.models import Sequential #последовательная модель нейросети кераса\n",
        "# Загружаем стандартные слои нейросети(полносвязный, регуляризации, нормализации, векторного представления слов, выравнивания, активации)\n",
        "from tensorflow.keras.layers import Dense, Dropout, BatchNormalization, Embedding, Flatten, Activation\n",
        "# Загружаем сверточные слои\n",
        "from tensorflow.keras.layers import SpatialDropout1D\n",
        "# Загружаем рекуррентные слои\n",
        "from tensorflow.keras.layers import LSTM\n",
        "# Загружаем алгоритмы обучения/оптимизации\n",
        "from tensorflow.python.keras.optimizers import Adam\n",
        "\n",
        "from keras.preprocessing.text import Tokenizer, text_to_word_sequence #инструменты предобработки текста от кераса\n",
        "from sklearn.model_selection import train_test_split #модуль для разбиения данных на обучающую и тестовую выборки"
      ],
      "execution_count": null,
      "outputs": []
    },
    {
      "cell_type": "markdown",
      "metadata": {
        "id": "N-ltunxBktJn"
      },
      "source": [
        "**База:** Для выполнения данного задания была собственноручно собрана база \"Русские исполнители\", которая состоит из текстов песен шести российских исполнителей. 3 - женский вокал, 3 - мужской. Задача: классификация исполнителя по тексту песни. \n",
        "\n",
        "Для решения данной задачи была выбрана рекуррентная сеть Embedding + LSTM."
      ]
    },
    {
      "cell_type": "code",
      "metadata": {
        "id": "JdEbGHJBXG1j"
      },
      "source": [
        "# Указываем путь к базе в Google Drive, создаем папку texts и извлекаем туда базу\n",
        "!unzip -q '/content/drive/My Drive/Colab Notebooks/Базы/Русские исполнители.zip' -d /content/texts "
      ],
      "execution_count": null,
      "outputs": []
    },
    {
      "cell_type": "code",
      "metadata": {
        "id": "Mp1WwauDXXxi"
      },
      "source": [
        "def readText(fileName): # Объявляем функции для чтения файла. На вход отправляем путь к файлу\n",
        "  f = open(fileName, 'r')        # Задаем открытие нужного файла в режиме чтения\n",
        "  text = f.read()                # Читаем текст\n",
        "  text = text.replace(\"\\n\", \" \") # Переносы строки переводим в пробелы\n",
        "  \n",
        "  return text                    # Возвращаем текст файла\n",
        "\n",
        "className = [\"Ваенга\", \"Егор Крид\", \"Кино\", \"Кипелов\", \"Надежда Кадышева\", \"Тату\"] # Объявляем интересующие нас классы\n",
        "nClasses = len(className) # Считаем количество классов"
      ],
      "execution_count": null,
      "outputs": []
    },
    {
      "cell_type": "code",
      "metadata": {
        "id": "cIvODnK0JovN",
        "colab": {
          "base_uri": "https://localhost:8080/",
          "height": 319
        },
        "outputId": "d2204674-f7ab-4548-efaf-9deac0a76834"
      },
      "source": [
        "#Загружаем обучающие тексты\n",
        "\n",
        "trainText = [] #Формируем обучающие тексты\n",
        "testText = [] #Формируем тестовые тексты\n",
        "\n",
        "for i in className: \n",
        "  for j in os.listdir('texts/Русские исполнители/'): \n",
        "    if i in j: \n",
        "      if 'Обучающая' in j: \n",
        "        trainText.append(readText('texts/Русские исполнители/' + j)) \n",
        "        print(j, 'добавлен в обучающую выборку') \n",
        "      if 'Тестовая' in j:\n",
        "        testText.append(readText('texts/Русские исполнители/' + j)) \n",
        "        print(j, 'добавлен в тестовую выборку') \n",
        "  print()"
      ],
      "execution_count": null,
      "outputs": [
        {
          "output_type": "stream",
          "text": [
            "(Ваенга) Тестовая.txt добавлен в тестовую выборку\n",
            "(Ваенга) Обучающая.txt добавлен в обучающую выборку\n",
            "\n",
            "(Егор Крид) Тестовая.txt добавлен в тестовую выборку\n",
            "(Егор Крид) Обучающая.txt добавлен в обучающую выборку\n",
            "\n",
            "(Кино) Обучающая.txt добавлен в обучающую выборку\n",
            "(Кино) Тестовая.txt добавлен в тестовую выборку\n",
            "\n",
            "(Кипелов) Тестовая.txt добавлен в тестовую выборку\n",
            "(Кипелов) Обучающая.txt добавлен в обучающую выборку\n",
            "\n",
            "(Надежда Кадышева) Тестовая.txt добавлен в тестовую выборку\n",
            "(Надежда Кадышева) Обучающая.txt добавлен в обучающую выборку\n",
            "\n",
            "(Тату) Обучающая.txt добавлен в обучающую выборку\n",
            "(Тату) Тестовая.txt добавлен в тестовую выборку\n",
            "\n"
          ],
          "name": "stdout"
        }
      ]
    },
    {
      "cell_type": "code",
      "metadata": {
        "id": "63vllsfyo2Og"
      },
      "source": [
        "# Преобразовываем текстовые данные в числовые/векторные для обучения нейросетью\n",
        "\n",
        "maxWordsCount = 20000 # определяем макс.кол-во слов/индексов, учитываемое при обучении текстов\n",
        "\n",
        "# для этого воспользуемся встроенной в Keras функцией Tokenizer для разбиения текста и превращения в матрицу числовых значений\n",
        "tokenizer = Tokenizer(num_words=maxWordsCount, filters='–—!\"#$%&()*+,-./:;<=>?@[\\\\]^_`{|}~\\t\\n\\xa0–\\ufeff', lower=True, split=' ', char_level=False, oov_token = 'unknown')\n",
        "\n",
        "tokenizer.fit_on_texts(trainText) #\"скармливаем\" наши тексты, т.е даём в обработку методу, который соберет словарь частотности\n",
        "items = list(tokenizer.word_index.items()) #вытаскиваем индексы слов для просмотра"
      ],
      "execution_count": null,
      "outputs": []
    },
    {
      "cell_type": "code",
      "metadata": {
        "id": "Ex9rbnPBo5yC",
        "colab": {
          "base_uri": "https://localhost:8080/",
          "height": 54
        },
        "outputId": "5d21aaf9-05dc-4c94-b787-c0d0778017fa"
      },
      "source": [
        "print(items[:100]) # взглянем на содержимое словаря"
      ],
      "execution_count": null,
      "outputs": [
        {
          "output_type": "stream",
          "text": [
            "[('unknown', 1), ('я', 2), ('не', 3), ('и', 4), ('в', 5), ('ты', 6), ('на', 7), ('мне', 8), ('с', 9), ('а', 10), ('что', 11), ('тебя', 12), ('меня', 13), ('но', 14), ('мама', 15), ('все', 16), ('как', 17), ('мы', 18), ('она', 19), ('покажи', 20), ('так', 21), ('любовь', 22), ('только', 23), ('кто', 24), ('м', 25), ('за', 26), ('тобой', 27), ('без', 28), ('это', 29), ('то', 30), ('снова', 31), ('у', 32), ('где', 33), ('до', 34), ('ночь', 35), ('ее', 36), ('по', 37), ('ума', 38), ('нас', 39), ('робот', 40), ('припев', 41), ('нужна', 42), ('тебе', 43), ('потрачу', 44), ('же', 45), ('полчаса', 46), ('раз', 47), ('люблю', 48), ('был', 49), ('о', 50), ('день', 51), ('от', 52), ('нет', 53), ('хочу', 54), ('уходи', 55), ('досчитай', 56), ('да', 57), ('па', 58), ('сердце', 59), ('больше', 60), ('нравится', 61), ('еще', 62), ('сошла', 63), ('знаю', 64), ('если', 65), ('он', 66), ('свободен', 67), ('полетели', 68), ('бы', 69), ('ли', 70), ('небо', 71), ('когда', 72), ('чем', 73), ('к', 74), ('из', 75), ('улыбка', 76), ('моя', 77), ('была', 78), ('просто', 79), ('твоя', 80), ('уже', 81), ('мой', 82), ('одна', 83), ('теперь', 84), ('всё', 85), ('чтобы', 86), ('туда', 87), ('самый', 88), ('сердцеедка', 89), ('ну', 90), ('его', 91), ('вдаль', 92), ('внутри', 93), ('надо', 94), ('музыка', 95), ('боже', 96), ('здесь', 97), ('виновата', 98), ('ручей', 99), ('ста', 100)]\n"
          ],
          "name": "stdout"
        }
      ]
    },
    {
      "cell_type": "code",
      "metadata": {
        "id": "qmHQK2HpWx3K",
        "colab": {
          "base_uri": "https://localhost:8080/",
          "height": 386
        },
        "outputId": "94d044b5-f5b8-4834-8fe6-e6bd9ed21e86"
      },
      "source": [
        "# преобразовываем текст в последовательность индексов согласно частотному словарю\n",
        "trainWordIndexes = tokenizer.texts_to_sequences(trainText) # обучающие тесты в индексы\n",
        "testWordIndexes = tokenizer.texts_to_sequences(testText)   # проверочные тесты в индексы\n",
        "\n",
        "print(\"Взглянем на фрагмент обучающего текста:\")\n",
        "print(\"В виде оригинального текста:              \", trainText[1] [:87])\n",
        "print(\"Он же в виде последовательности индексов: \", trainWordIndexes[1][:20])\n",
        "\n",
        "print()\n",
        "print()\n",
        "\n",
        "print(\"Статистика по обучающим текстам:\")\n",
        "for i in range(6):\n",
        "  print(className[i], \" \", len(trainText[i]), \" символов, \", len(trainWordIndexes[i]), \" слов\")\n",
        "print(\"В сумме \", len(trainText[0])+len(trainText[1])+len(trainText[2])+len(trainText[3])+len(trainText[4])+len(trainText[5]), \" символов, \", len(trainWordIndexes[0])+len(trainWordIndexes[1])+len(trainWordIndexes[2])+len(trainWordIndexes[3])+len(trainWordIndexes[4])+len(trainWordIndexes[5]), \" слов\")\n",
        "print()\n",
        "print(\"Статистика по обучающим текстам:\")\n",
        "for i in range(6):\n",
        "  print(className[i], \" \", len(testText[i]), \" символов, \", len(testWordIndexes[i]), \" слов\")\n",
        "print(\"В сумме \", len(testText[0])+len(testText[1])+len(testText[2])+len(testText[3])+len(testText[4])+len(testText[5]), \" символов, \", len(testWordIndexes[0])+len(testWordIndexes[1])+len(testWordIndexes[2])+len(testWordIndexes[3])+len(testWordIndexes[4])+len(testWordIndexes[5]), \" слов\")"
      ],
      "execution_count": null,
      "outputs": [
        {
          "output_type": "stream",
          "text": [
            "Взглянем на фрагмент обучающего текста:\n",
            "В виде оригинального текста:               Потрачу  Я бы улетел с тобою, не брав парашюты. Убрал все стрелки на часах, не считая м\n",
            "Он же в виде последовательности индексов:  [44, 2, 69, 1218, 9, 753, 3, 1219, 1220, 1221, 16, 525, 7, 1222, 3, 550, 1223, 5, 265, 1224]\n",
            "\n",
            "\n",
            "Статистика по обучающим текстам:\n",
            "Ваенга   9111  символов,  1745  слов\n",
            "Егор Крид   14032  символов,  2492  слов\n",
            "Кино   7211  символов,  1249  слов\n",
            "Кипелов   9453  символов,  1608  слов\n",
            "Надежда Кадышева   8154  символов,  1382  слов\n",
            "Тату   9206  символов,  1600  слов\n",
            "В сумме  57167  символов,  10076  слов\n",
            "\n",
            "Статистика по обучающим текстам:\n",
            "Ваенга   2667  символов,  485  слов\n",
            "Егор Крид   2802  символов,  485  слов\n",
            "Кино   1685  символов,  287  слов\n",
            "Кипелов   2377  символов,  380  слов\n",
            "Надежда Кадышева   1843  символов,  299  слов\n",
            "Тату   1659  символов,  331  слов\n",
            "В сумме  13033  символов,  2267  слов\n"
          ],
          "name": "stdout"
        }
      ]
    },
    {
      "cell_type": "code",
      "metadata": {
        "id": "CP69cPxWdHq3"
      },
      "source": [
        "# Формирование обучающей выборки по листу индексов слов\n",
        "# (разделение на короткие векторы)\n",
        "\n",
        "def getSetFromIndexes(wordIndexes, xLen, step):\n",
        "  xSample = []\n",
        "  wordsLen = len(wordIndexes)\n",
        "  index = 0\n",
        "  \n",
        "  # Идём по всей длине вектора индексов\n",
        "  # \"Откусываем\" векторы длины xLen и смещаеммся вперёд на step\n",
        "  \n",
        "  while (index + xLen <= wordsLen):\n",
        "    xSample.append(wordIndexes[index:index+xLen])\n",
        "    index += step\n",
        "    \n",
        "  return xSample"
      ],
      "execution_count": null,
      "outputs": []
    },
    {
      "cell_type": "code",
      "metadata": {
        "id": "wnVyegrxcnZM"
      },
      "source": [
        "# Формирование обучающей и проверочной выборки\n",
        "# Из двух листов индексов от двух классов\n",
        "\n",
        "def createSetsMultiClasses(wordIndexes, xLen, step): # функция принимает последовательность индексов, размер окна, шаг окна\n",
        "\n",
        "  # Для каждого из 6 классов\n",
        "  # Создаём обучающую/проверочную выборку из индексов\n",
        "  nClasses = len(wordIndexes) \n",
        "  classesXSamples = []        \n",
        "  for wI in wordIndexes:      \n",
        "    classesXSamples.append(getSetFromIndexes(wI, xLen, step)) \n",
        "\n",
        "  # Формируем один общий xSamples\n",
        "  xSamples = [] \n",
        "  ySamples = [] \n",
        "  \n",
        "  for t in range(nClasses):  \n",
        "    xT = classesXSamples[t] \n",
        "    for i in range(len(xT)):\n",
        "      xSamples.append(xT[i]) \n",
        "    \n",
        "    # Формируем ySamples по номеру класса\n",
        "    currY = utils.to_categorical(t, nClasses) \n",
        "    for i in range(len(xT)): \n",
        "      ySamples.append(currY) \n",
        "\n",
        "  xSamples = np.array(xSamples) \n",
        "  ySamples = np.array(ySamples) \n",
        "\n",
        "  \n",
        "  return (xSamples, ySamples)   # функция возвращает выборку и соответствующие векторы классов"
      ],
      "execution_count": null,
      "outputs": []
    },
    {
      "cell_type": "code",
      "metadata": {
        "id": "SgzoAiyawSwJ"
      },
      "source": [
        "# Задаём базовые параметры\n",
        "xLen = 5 # Длина отрезка текста, по которой анализируем, в словах\n",
        "step = 1 # Шаг разбиения исходного текста на обучающие вектора"
      ],
      "execution_count": null,
      "outputs": []
    },
    {
      "cell_type": "code",
      "metadata": {
        "id": "CqAgZWT8RH0b",
        "colab": {
          "base_uri": "https://localhost:8080/",
          "height": 84
        },
        "outputId": "c3add84b-0693-45a7-c755-ce3d8f6ad3b3"
      },
      "source": [
        "# Формируем обучающую и тестовую выборку\n",
        "xTrain, yTrain = createSetsMultiClasses(trainWordIndexes, xLen, step) # извлекаем обучающую выборку\n",
        "xTest, yTest = createSetsMultiClasses(testWordIndexes, xLen, step)    # извлекаем тестовую выборку\n",
        "print(xTrain.shape)\n",
        "print(yTrain.shape)\n",
        "print(xTest.shape)\n",
        "print(yTest.shape)"
      ],
      "execution_count": null,
      "outputs": [
        {
          "output_type": "stream",
          "text": [
            "(10052, 5)\n",
            "(10052, 6)\n",
            "(2243, 5)\n",
            "(2243, 6)\n"
          ],
          "name": "stdout"
        }
      ]
    },
    {
      "cell_type": "code",
      "metadata": {
        "id": "stHRW8-4mf7G"
      },
      "source": [
        "# Представляем тестовую выборку в удобных для распознавания размерах\n",
        "\n",
        "def createTestMultiClasses(wordIndexes, xLen, step): # функция принимает последовательность индексов, размер окна, шаг окна\n",
        "\n",
        "  # Для каждого из 6 классов\n",
        "  # Создаём тестовую выборку из индексов\n",
        "  nClasses = len(wordIndexes)\n",
        "  xTest6Classes01 = []              \n",
        "  xTest6Classes = []                 \n",
        "  for wI in wordIndexes:             \n",
        "    sample = (getSetFromIndexes(wI, xLen, step)) \n",
        "    xTest6Classes.append(np.array(sample))       \n",
        "    xTest6Classes01.append(tokenizer.sequences_to_matrix(sample)) \n",
        "  xTest6Classes01 = np.array(xTest6Classes01)                     \n",
        "  \n",
        "  return xTest6Classes01, xTest6Classes # функция вернёт тестовые данные\n",
        "\n",
        "# Расспознаём тестовую выборку и выводим результаты\n",
        "def recognizeMultiClass(model, xTest, modelName):\n",
        "  print(\"НЕЙРОНКА: \", modelName)\n",
        "  print()\n",
        "  \n",
        "  val = []\n",
        "  pred = []\n",
        "  \n",
        "  totalSumRec = []\n",
        "  \n",
        "  # Проходим по всем классам\n",
        "  for i in range(nClasses):\n",
        "    # Получаем результаты распознавания класса по блокам слов длины xLen\n",
        "    currPred = model.predict(xTest[i])\n",
        "    pred.append(currPred)\n",
        "    # Определяем номер распознанного класса для каждохо блока слов длины xLen\n",
        "    currOut = np.argmax(currPred, axis=1)\n",
        "    \n",
        "    # Считаем процент распознавания каждого класса за каждый\n",
        "    # Получам матрицу 6 на 6\n",
        "    evVal = []\n",
        "    sumRec = []\n",
        "    for j in range(nClasses):\n",
        "      sumRec.append(0)\n",
        "      for t in range(len(currOut)):\n",
        "        if (currOut[t] == j):\n",
        "          sumRec[j] += 1\n",
        "      evVal.append(sumRec[j] / len(currOut))\n",
        "    \n",
        "    totalSumRec.append(sumRec[i])\n",
        "    \n",
        "    # Определяем, какой в класс в итоге за какой был распознан\n",
        "    val.append(evVal[i])\n",
        "    recognizedClass = np.argmax(evVal)\n",
        "    \n",
        "    # Выводим результаты распознавания по текущему классу\n",
        "    isRecognized = \"распознано НЕ ВЕРНО!\"\n",
        "    if (recognizedClass == i):\n",
        "      isRecognized = \"распознано ВЕРНО!\"\n",
        "    print(className[i], \" распознано \", int(100*evVal[i]), \"% сеть считает, что это \", className[recognizedClass], \", \", isRecognized)\n",
        "  \n",
        "  # Выводим вредний процент распознавания по всем классам вместе\n",
        "  print()\n",
        "  sumVal = 0\n",
        "  sumCount = 0\n",
        "  lenXtest = []\n",
        "  for i in range(nClasses):\n",
        "    sumCount += len(xTest[i])\n",
        "    sumVal += totalSumRec[i]\n",
        "  print(\"Средний процент распознавания \", int(100*sumVal/sumCount), \"%\")\n",
        "  print()\n",
        "  return sumVal/sumCount\n",
        "\n",
        "xTest6Classes01, xTest6Classes = createTestMultiClasses(testWordIndexes, xLen, step) # подгоним форму тестовых классов под функцию recognizeMultiClass"
      ],
      "execution_count": null,
      "outputs": []
    },
    {
      "cell_type": "code",
      "metadata": {
        "id": "as9QWOp2QA0m",
        "colab": {
          "base_uri": "https://localhost:8080/",
          "height": 1000
        },
        "outputId": "cfc9f369-1cc7-4bf2-ef0d-4430a21a6676"
      },
      "source": [
        "# Создадим рекурентную нейронную сеть и обучим её\n",
        "\n",
        "modelEL = Sequential() # создаём последовательную модель нейросети\n",
        "\n",
        "# преобразовываем каждое слово в многомерный вектор c указанием размерности вектора и длины входных данных\n",
        "modelEL.add(Embedding(maxWordsCount, 5, input_length=xLen))\n",
        "\n",
        "modelEL.add(SpatialDropout1D(0.2)) # добавляем слой регуляризации, \"выключая\" 1D карты объектов из эмбединг векторов, во избежание переобучения\n",
        "modelEL.add(BatchNormalization()) # добавляем слой нормализации данных\n",
        "modelEL.add(LSTM(4))\n",
        "modelEL.add(Dense(6, activation='softmax')) # добавляем полносвязный слой на 6 нейронов, с функцией активации softmax на выходном слое\n",
        "\n",
        "# Компиляция, составление модели с выбором алгоритма оптимизации, функции потерь и метрики точности\n",
        "modelEL.compile(optimizer='rmsprop', \n",
        "              loss='categorical_crossentropy', \n",
        "              metrics=['accuracy'])\n",
        "\n",
        "# Обучаем сеть с указанием тренировочной выборки, количества эпох, размера минибатча для подачи сети, и тестовой выборки\n",
        "history = modelEL.fit(xTrain, \n",
        "                    yTrain, \n",
        "                    epochs=30,\n",
        "                    batch_size=512,\n",
        "                    validation_data=(xTest, yTest))\n",
        "\n",
        "# Строим график для отображения динамики обучения и точности предсказания сети\n",
        "plt.plot(history.history['accuracy'], \n",
        "         label='Доля верных ответов на обучающем наборе')\n",
        "plt.plot(history.history['val_accuracy'], \n",
        "         label='Доля верных ответов на проверочном наборе')\n",
        "plt.xlabel('Эпоха обучения')\n",
        "plt.ylabel('Доля верных ответов')\n",
        "plt.legend()\n",
        "plt.show()\n",
        "\n",
        "pred = recognizeMultiClass(modelEL, xTest6Classes, \"Embedding + LSTM\") #функция покажет какие классы и как распознаны верно"
      ],
      "execution_count": null,
      "outputs": [
        {
          "output_type": "stream",
          "text": [
            "Epoch 1/30\n",
            "20/20 [==============================] - 1s 36ms/step - loss: 1.7202 - accuracy: 0.3212 - val_loss: 1.7783 - val_accuracy: 0.2162\n",
            "Epoch 2/30\n",
            "20/20 [==============================] - 0s 11ms/step - loss: 1.6200 - accuracy: 0.4791 - val_loss: 1.7656 - val_accuracy: 0.2207\n",
            "Epoch 3/30\n",
            "20/20 [==============================] - 0s 10ms/step - loss: 1.5442 - accuracy: 0.5542 - val_loss: 1.7506 - val_accuracy: 0.2470\n",
            "Epoch 4/30\n",
            "20/20 [==============================] - 0s 11ms/step - loss: 1.4751 - accuracy: 0.6195 - val_loss: 1.7328 - val_accuracy: 0.2876\n",
            "Epoch 5/30\n",
            "20/20 [==============================] - 0s 10ms/step - loss: 1.4156 - accuracy: 0.6523 - val_loss: 1.7109 - val_accuracy: 0.3370\n",
            "Epoch 6/30\n",
            "20/20 [==============================] - 0s 10ms/step - loss: 1.3606 - accuracy: 0.6721 - val_loss: 1.6832 - val_accuracy: 0.3995\n",
            "Epoch 7/30\n",
            "20/20 [==============================] - 0s 11ms/step - loss: 1.3105 - accuracy: 0.6909 - val_loss: 1.6503 - val_accuracy: 0.4338\n",
            "Epoch 8/30\n",
            "20/20 [==============================] - 0s 11ms/step - loss: 1.2597 - accuracy: 0.7065 - val_loss: 1.6110 - val_accuracy: 0.4525\n",
            "Epoch 9/30\n",
            "20/20 [==============================] - 0s 11ms/step - loss: 1.2146 - accuracy: 0.7180 - val_loss: 1.5620 - val_accuracy: 0.5256\n",
            "Epoch 10/30\n",
            "20/20 [==============================] - 0s 10ms/step - loss: 1.1670 - accuracy: 0.7301 - val_loss: 1.5047 - val_accuracy: 0.5894\n",
            "Epoch 11/30\n",
            "20/20 [==============================] - 0s 11ms/step - loss: 1.1230 - accuracy: 0.7436 - val_loss: 1.4401 - val_accuracy: 0.6202\n",
            "Epoch 12/30\n",
            "20/20 [==============================] - 0s 11ms/step - loss: 1.0837 - accuracy: 0.7548 - val_loss: 1.3707 - val_accuracy: 0.6523\n",
            "Epoch 13/30\n",
            "20/20 [==============================] - 0s 11ms/step - loss: 1.0365 - accuracy: 0.7678 - val_loss: 1.2958 - val_accuracy: 0.6781\n",
            "Epoch 14/30\n",
            "20/20 [==============================] - 0s 11ms/step - loss: 0.9948 - accuracy: 0.7766 - val_loss: 1.2191 - val_accuracy: 0.7017\n",
            "Epoch 15/30\n",
            "20/20 [==============================] - 0s 11ms/step - loss: 0.9522 - accuracy: 0.7908 - val_loss: 1.1332 - val_accuracy: 0.7338\n",
            "Epoch 16/30\n",
            "20/20 [==============================] - 0s 11ms/step - loss: 0.9122 - accuracy: 0.7950 - val_loss: 1.0580 - val_accuracy: 0.7552\n",
            "Epoch 17/30\n",
            "20/20 [==============================] - 0s 11ms/step - loss: 0.8674 - accuracy: 0.8026 - val_loss: 0.9817 - val_accuracy: 0.7673\n",
            "Epoch 18/30\n",
            "20/20 [==============================] - 0s 11ms/step - loss: 0.8282 - accuracy: 0.8151 - val_loss: 0.9107 - val_accuracy: 0.7896\n",
            "Epoch 19/30\n",
            "20/20 [==============================] - 0s 10ms/step - loss: 0.7887 - accuracy: 0.8247 - val_loss: 0.8385 - val_accuracy: 0.8078\n",
            "Epoch 20/30\n",
            "20/20 [==============================] - 0s 11ms/step - loss: 0.7550 - accuracy: 0.8441 - val_loss: 0.7712 - val_accuracy: 0.8181\n",
            "Epoch 21/30\n",
            "20/20 [==============================] - 0s 11ms/step - loss: 0.7188 - accuracy: 0.8635 - val_loss: 0.7106 - val_accuracy: 0.8373\n",
            "Epoch 22/30\n",
            "20/20 [==============================] - 0s 12ms/step - loss: 0.6838 - accuracy: 0.8771 - val_loss: 0.6525 - val_accuracy: 0.8600\n",
            "Epoch 23/30\n",
            "20/20 [==============================] - 0s 11ms/step - loss: 0.6487 - accuracy: 0.8905 - val_loss: 0.5990 - val_accuracy: 0.8872\n",
            "Epoch 24/30\n",
            "20/20 [==============================] - 0s 11ms/step - loss: 0.6160 - accuracy: 0.8985 - val_loss: 0.5598 - val_accuracy: 0.9144\n",
            "Epoch 25/30\n",
            "20/20 [==============================] - 0s 11ms/step - loss: 0.5899 - accuracy: 0.9040 - val_loss: 0.5161 - val_accuracy: 0.9305\n",
            "Epoch 26/30\n",
            "20/20 [==============================] - 0s 11ms/step - loss: 0.5601 - accuracy: 0.9121 - val_loss: 0.4803 - val_accuracy: 0.9403\n",
            "Epoch 27/30\n",
            "20/20 [==============================] - 0s 10ms/step - loss: 0.5361 - accuracy: 0.9159 - val_loss: 0.4436 - val_accuracy: 0.9483\n",
            "Epoch 28/30\n",
            "20/20 [==============================] - 0s 10ms/step - loss: 0.5073 - accuracy: 0.9223 - val_loss: 0.4088 - val_accuracy: 0.9626\n",
            "Epoch 29/30\n",
            "20/20 [==============================] - 0s 11ms/step - loss: 0.4877 - accuracy: 0.9231 - val_loss: 0.3842 - val_accuracy: 0.9643\n",
            "Epoch 30/30\n",
            "20/20 [==============================] - 0s 12ms/step - loss: 0.4648 - accuracy: 0.9260 - val_loss: 0.3574 - val_accuracy: 0.9706\n"
          ],
          "name": "stdout"
        },
        {
          "output_type": "display_data",
          "data": {
            "image/png": "[encoded data removed]",
            "text/plain": [
              "<Figure size 432x288 with 1 Axes>"
            ]
          },
          "metadata": {
            "tags": [],
            "needs_background": "light"
          }
        },
        {
          "output_type": "stream",
          "text": [
            "НЕЙРОНКА:  Embedding + LSTM\n",
            "\n",
            "Ваенга  распознано  99 % сеть считает, что это  Ваенга ,  распознано ВЕРНО!\n",
            "Егор Крид  распознано  99 % сеть считает, что это  Егор Крид ,  распознано ВЕРНО!\n",
            "Кино  распознано  84 % сеть считает, что это  Кино ,  распознано ВЕРНО!\n",
            "Кипелов  распознано  98 % сеть считает, что это  Кипелов ,  распознано ВЕРНО!\n",
            "Надежда Кадышева  распознано  97 % сеть считает, что это  Надежда Кадышева ,  распознано ВЕРНО!\n",
            "Тату  распознано  98 % сеть считает, что это  Тату ,  распознано ВЕРНО!\n",
            "\n",
            "Средний процент распознавания  97 %\n",
            "\n"
          ],
          "name": "stdout"
        }
      ]
    },
    {
      "cell_type": "code",
      "metadata": {
        "id": "ZCYLYCNtV34-",
        "colab": {
          "base_uri": "https://localhost:8080/",
          "height": 34
        },
        "outputId": "569ae1b3-a031-4650-f6a5-41b904c7d0d5"
      },
      "source": [
        "# Смотрин на точность классификации данных на проверочной выборке на последней эпохе обучения\n",
        "last_val_accuracy = history.history['val_accuracy'][-1]\n",
        "print(\"Точность классификации данных на проверочной выборке:\", round(last_val_accuracy*100, 2), \"%\")"
      ],
      "execution_count": null,
      "outputs": [
        {
          "output_type": "stream",
          "text": [
            "Точность классификации данных на проверочной выборке: 97.06 %\n"
          ],
          "name": "stdout"
        }
      ]
    },
    {
      "cell_type": "markdown",
      "metadata": {
        "id": "Ycl0BwQQMzO2"
      },
      "source": [
        "### **Результаты и выводы:**"
      ]
    },
    {
      "cell_type": "code",
      "metadata": {
        "id": "Wso8jgJJYSR_",
        "colab": {
          "base_uri": "https://localhost:8080/",
          "height": 577
        },
        "outputId": "47d60f33-394e-4baa-bad8-c4f8e7d97539"
      },
      "source": [
        "# Визуализируем данные, для подведения итога:\n",
        "\n",
        "plt.plot(history.history['loss'], \n",
        "         label='Доля ошибок на обучающем наборе')\n",
        "plt.plot(history.history['val_loss'], \n",
        "         label='Доля ошибок на проверочном наборе')\n",
        "plt.xlabel('Эпоха обучения')\n",
        "plt.ylabel('Доля ошибок')\n",
        "plt.title(\"НЕЙРОНКА:  Embedding + LSTM, зависимость доли ошибок от эпохи\")\n",
        "plt.legend()\n",
        "plt.show()\n",
        "\n",
        "plt.plot(history.history['accuracy'], \n",
        "         label='Доля верных ответов на обучающем наборе')\n",
        "plt.plot(history.history['val_accuracy'], \n",
        "         label='Доля верных ответов на проверочном наборе')\n",
        "plt.xlabel('Эпоха обучения')\n",
        "plt.ylabel('Доля верных ответов')\n",
        "plt.title(\"НЕЙРОНКА:  Embedding + LSTM, зависимость доли верных ответов от эпохи\")\n",
        "plt.legend()\n",
        "plt.show()"
      ],
      "execution_count": null,
      "outputs": [
        {
          "output_type": "display_data",
          "data": {
            "image/png": "[encoded data removed]",
            "text/plain": [
              "<Figure size 432x288 with 1 Axes>"
            ]
          },
          "metadata": {
            "tags": [],
            "needs_background": "light"
          }
        },
        {
          "output_type": "display_data",
          "data": {
            "image/png": "[encoded data removed]",
            "text/plain": [
              "<Figure size 432x288 with 1 Axes>"
            ]
          },
          "metadata": {
            "tags": [],
            "needs_background": "light"
          }
        }
      ]
    },
    {
      "cell_type": "markdown",
      "metadata": {
        "id": "De7Ze2oXWJqO"
      },
      "source": [
        "\n",
        "\n",
        "Средний процент распознавания музыканта, по тексту его песен составил **97 %**\n",
        "\n",
        "Точность классификации на проверочной выборке составила  **97.06 %** (на последней эпохе)\n",
        "\n",
        "Данные показатели говорят о хорошей работе созданной рекуррентной сети. На выходе мы видим высокий процент распознавания и отсутствие переобучения.\n",
        "\n",
        "Подводя итог, можно сказать что рекуррентная нейронная сеть Embedding + LSTM хорошо подходит для решения подобных задач при правильном подборе параметром, таких как длина отрезка текста, по которой анализируем, шага разбиения исходного текста на обучающие вектора, макс. кол-во слов/индексов, учитываемое при обучении текстов, а также гиперпараметров самой сети.\n",
        "\n",
        "Для данного исследования была взята небольшая база, поэтому хороший результат получился при маленькой (Хlen = 5) длине отрезка текста, по которой анализировался текст и шаге = 1.\n",
        "\n",
        "Архитектура сети была выбрана простой, так как для маленькой базы, как уже не раз было доказано - лучше архитектура попроще.\n"
      ]
    }
  ]
}