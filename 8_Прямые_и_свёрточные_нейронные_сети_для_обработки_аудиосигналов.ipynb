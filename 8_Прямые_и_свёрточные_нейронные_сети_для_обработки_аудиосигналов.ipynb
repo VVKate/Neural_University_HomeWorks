{
  "nbformat": 4,
  "nbformat_minor": 0,
  "metadata": {
    "colab": {
      "name": "8_Прямые и свёрточные нейронные сети для обработки аудиосигналов",
      "provenance": [],
      "collapsed_sections": [
        "118vYPtQSWnT",
        "YGIGMznKeMkS",
        "yVOFF9YJvU_L"
      ],
      "toc_visible": true,
      "mount_file_id": "18REv1kx8yX3ez9ZNW7imRAfbYy0ahd-r",
      "authorship_tag": "ABX9TyMBEUXPm9ntX+vjKQz68Hwd",
      "include_colab_link": true
    },
    "kernelspec": {
      "name": "python3",
      "display_name": "Python 3"
    },
    "accelerator": "GPU"
  },
  "cells": [
    {
      "cell_type": "markdown",
      "metadata": {
        "id": "view-in-github",
        "colab_type": "text"
      },
      "source": [
        "<a href=\"https://colab.research.google.com/github/VVKate/Neural_University_HomeWorks/blob/main/8_%D0%9F%D1%80%D1%8F%D0%BC%D1%8B%D0%B5_%D0%B8_%D1%81%D0%B2%D1%91%D1%80%D1%82%D0%BE%D1%87%D0%BD%D1%8B%D0%B5_%D0%BD%D0%B5%D0%B9%D1%80%D0%BE%D0%BD%D0%BD%D1%8B%D0%B5_%D1%81%D0%B5%D1%82%D0%B8_%D0%B4%D0%BB%D1%8F_%D0%BE%D0%B1%D1%80%D0%B0%D0%B1%D0%BE%D1%82%D0%BA%D0%B8_%D0%B0%D1%83%D0%B4%D0%B8%D0%BE%D1%81%D0%B8%D0%B3%D0%BD%D0%B0%D0%BB%D0%BE%D0%B2.ipynb\" target=\"_parent\"><img src=\"https://colab.research.google.com/assets/colab-badge.svg\" alt=\"Open In Colab\"/></a>"
      ]
    },
    {
      "cell_type": "markdown",
      "metadata": {
        "id": "RdSC2v-1vJwO"
      },
      "source": [
        "# Домашнее задание: Июльский курс (2020). Pro. Занятие 8\n",
        "# Прямые и свёрточные нейронные сети для обработки аудиосигналов\n",
        "## Верхошинская Катерина Викторовна"
      ]
    },
    {
      "cell_type": "markdown",
      "metadata": {
        "id": "118vYPtQSWnT"
      },
      "source": [
        "## **LIGHT**"
      ]
    },
    {
      "cell_type": "markdown",
      "metadata": {
        "id": "Tz8lebI1YeAC"
      },
      "source": [
        "### **Вариант1** \n",
        "**Задание:**\n",
        "\n",
        "Использую шаблон ноутбука, напишите загрузку данных и распознавание стилей музыки с помощью Dense сети. Можно подсматривать в исходный ноутбук с занятия, но желательно писать код своими руками"
      ]
    },
    {
      "cell_type": "code",
      "metadata": {
        "id": "xWiCMHe2LPU4"
      },
      "source": [
        "# Подключаем библиотеки\n",
        "from google.colab import files \n",
        "from tensorflow.keras import utils \n",
        "import os\n",
        "import librosa\n",
        "import numpy as np\n",
        "import matplotlib.pyplot as plt\n",
        "import zipfile \n",
        "import time\n",
        "%matplotlib inline \n",
        "\n",
        "from tensorflow.keras.optimizers import Adam, RMSprop \n",
        "from tensorflow.keras.models import Sequential, Model\n",
        "from tensorflow.keras.layers import concatenate, Input, Dense, Dropout, BatchNormalization, Flatten, Conv1D, Conv2D, LSTM\n",
        "from sklearn.model_selection import train_test_split\n",
        "from sklearn.preprocessing import LabelEncoder, StandardScaler\n",
        "\n",
        "# Отключаем предупреждения\n",
        "import warnings\n",
        "warnings.filterwarnings('ignore')"
      ],
      "execution_count": null,
      "outputs": []
    },
    {
      "cell_type": "code",
      "metadata": {
        "id": "4LJAzOdDvN_Z",
        "colab": {
          "base_uri": "https://localhost:8080/",
          "height": 370
        },
        "outputId": "62bfeec7-1d1c-4aad-87dc-b8a338580fdc"
      },
      "source": [
        "z = zipfile.ZipFile('/content/drive/My Drive/Colab Notebooks/Базы/genres.zip', 'r') \n",
        "z.extractall()\n",
        "\n",
        "# Задаём названия жанров\n",
        "genres = 'blues classical country disco hiphop jazz metal pop reggae rock'.split()\n",
        "\n",
        "# Проверяем выгруженные папки и одну из папок\n",
        "!ls genres \n",
        "!ls genres/blues"
      ],
      "execution_count": null,
      "outputs": [
        {
          "output_type": "stream",
          "text": [
            "blues  classical  country  disco  hiphop  jazz\tmetal  pop  reggae  rock\n",
            "blues.00000.au\tblues.00020.au\tblues.00040.au\tblues.00060.au\tblues.00080.au\n",
            "blues.00001.au\tblues.00021.au\tblues.00041.au\tblues.00061.au\tblues.00081.au\n",
            "blues.00002.au\tblues.00022.au\tblues.00042.au\tblues.00062.au\tblues.00082.au\n",
            "blues.00003.au\tblues.00023.au\tblues.00043.au\tblues.00063.au\tblues.00083.au\n",
            "blues.00004.au\tblues.00024.au\tblues.00044.au\tblues.00064.au\tblues.00084.au\n",
            "blues.00005.au\tblues.00025.au\tblues.00045.au\tblues.00065.au\tblues.00085.au\n",
            "blues.00006.au\tblues.00026.au\tblues.00046.au\tblues.00066.au\tblues.00086.au\n",
            "blues.00007.au\tblues.00027.au\tblues.00047.au\tblues.00067.au\tblues.00087.au\n",
            "blues.00008.au\tblues.00028.au\tblues.00048.au\tblues.00068.au\tblues.00088.au\n",
            "blues.00009.au\tblues.00029.au\tblues.00049.au\tblues.00069.au\tblues.00089.au\n",
            "blues.00010.au\tblues.00030.au\tblues.00050.au\tblues.00070.au\tblues.00090.au\n",
            "blues.00011.au\tblues.00031.au\tblues.00051.au\tblues.00071.au\tblues.00091.au\n",
            "blues.00012.au\tblues.00032.au\tblues.00052.au\tblues.00072.au\tblues.00092.au\n",
            "blues.00013.au\tblues.00033.au\tblues.00053.au\tblues.00073.au\tblues.00093.au\n",
            "blues.00014.au\tblues.00034.au\tblues.00054.au\tblues.00074.au\tblues.00094.au\n",
            "blues.00015.au\tblues.00035.au\tblues.00055.au\tblues.00075.au\tblues.00095.au\n",
            "blues.00016.au\tblues.00036.au\tblues.00056.au\tblues.00076.au\tblues.00096.au\n",
            "blues.00017.au\tblues.00037.au\tblues.00057.au\tblues.00077.au\tblues.00097.au\n",
            "blues.00018.au\tblues.00038.au\tblues.00058.au\tblues.00078.au\tblues.00098.au\n",
            "blues.00019.au\tblues.00039.au\tblues.00059.au\tblues.00079.au\tblues.00099.au\n"
          ],
          "name": "stdout"
        }
      ]
    },
    {
      "cell_type": "code",
      "metadata": {
        "id": "wfQ-PnDJMyVf"
      },
      "source": [
        "# Функция параметризации аудио\n",
        "def get_features(y, sr):\n",
        "  # Частота цветности\n",
        "  chroma_stft = np.mean(librosa.feature.chroma_stft(y=y, sr=sr))\n",
        "\n",
        "  # Среднеквадратичная амплитуда\n",
        "  rmse = np.mean(librosa.feature.rmse(y=y)) \n",
        "\n",
        "  # Спектральный центроид\n",
        "  spec_cent = np.mean(librosa.feature.spectral_centroid(y=y, sr=sr)) \n",
        "\n",
        "  # Ширина полосы частот\n",
        "  spec_bw = np.mean(librosa.feature.spectral_bandwidth(y=y, sr=sr))\n",
        "\n",
        "  # Спектральный спад частоты\n",
        "  rolloff = np.mean(librosa.feature.spectral_rolloff(y=y, sr=sr))\n",
        "\n",
        "  # Пересечения нуля\n",
        "  zcr = np.mean(librosa.feature.zero_crossing_rate(y))\n",
        "\n",
        "  # Мел кепстральные коэффициенты\n",
        "  mfcc = librosa.feature.mfcc(y=y, sr=sr)\n",
        "\n",
        "  # Добавляем все параметры в один список\n",
        "  out = []\n",
        "  out.append(chroma_stft)\n",
        "  out.append(rmse)\n",
        "  out.append(spec_cent)\n",
        "  out.append(spec_bw)\n",
        "  out.append(rolloff)\n",
        "  out.append(zcr)\n",
        "  \n",
        "  # По одному добавляем все Мел коэффициенты\n",
        "  for e in mfcc:\n",
        "    out.append(np.mean(e))\n",
        "  \n",
        "  # Возвращаем получившийся список\n",
        "  return out"
      ],
      "execution_count": null,
      "outputs": []
    },
    {
      "cell_type": "code",
      "metadata": {
        "id": "1vkodOL2M20p",
        "colab": {
          "base_uri": "https://localhost:8080/",
          "height": 185
        },
        "outputId": "586b6bc5-579b-4dbc-f69d-24299e55325a"
      },
      "source": [
        "# Формируем обучающую выборку\n",
        "X_train = []\n",
        "Y_train = []\n",
        "\n",
        "# Запоминаем время старта формирования выборки\n",
        "curr_time = time.time()\n",
        "\n",
        "# Проходим по всем жарнам\n",
        "for i in range(len(genres)):\n",
        "  g = genres[i] # Берём текущий жанр\n",
        "  # Проходим по файлам папки, соответствующей текущему жанру\n",
        "  for filename in os.listdir(f'./genres/{g}'):\n",
        "    # Получаем имя песни\n",
        "    songname = f'./genres/{g}/{filename}'\n",
        "    # Загружаем в y аудиосигнал 30 секунд аудио\n",
        "    y, sr = librosa.load(songname, mono=True, duration=30)\n",
        "    # Превращаем сигнал в параметризованные данные\n",
        "    out = get_features(y, sr)\n",
        "    \n",
        "    # Добавляем строку в X_train\n",
        "    X_train.append(out)\n",
        "    # Добавляем в Y_train номер жанра в формате ohe\n",
        "    Y_train.append(utils.to_categorical(i, len(genres)))\n",
        "\n",
        "  # Выводим информацию о готовности обработки базы\n",
        "  print(\"Жанр \", g, \" готов -> \", round(time.time() - curr_time), \"c\", sep=\"\")\n",
        "  curr_time = time.time()\n",
        "\n",
        "# Превращаем обучающую выборку на numpy массивы\n",
        "X_train = np.array(X_train)\n",
        "Y_train = np.array(Y_train)"
      ],
      "execution_count": null,
      "outputs": [
        {
          "output_type": "stream",
          "text": [
            "Жанр blues готов -> 95c\n",
            "Жанр classical готов -> 92c\n",
            "Жанр country готов -> 91c\n",
            "Жанр disco готов -> 91c\n",
            "Жанр hiphop готов -> 91c\n",
            "Жанр jazz готов -> 92c\n",
            "Жанр metal готов -> 93c\n",
            "Жанр pop готов -> 93c\n",
            "Жанр reggae готов -> 93c\n",
            "Жанр rock готов -> 92c\n"
          ],
          "name": "stdout"
        }
      ]
    },
    {
      "cell_type": "code",
      "metadata": {
        "id": "edU__ku2zDBm",
        "colab": {
          "base_uri": "https://localhost:8080/",
          "height": 487
        },
        "outputId": "f2ecaf54-d67a-4ebf-e8f8-9ad4de981e07"
      },
      "source": [
        "#Создаём backup\n",
        "X_train_backup = X_train.copy()\n",
        "Y_train_backup = Y_train.copy()\n",
        "\n",
        "y_train_class = np.argmax(Y_train, axis=1)\n",
        "print(y_train_class)"
      ],
      "execution_count": null,
      "outputs": [
        {
          "output_type": "stream",
          "text": [
            "[0 0 0 0 0 0 0 0 0 0 0 0 0 0 0 0 0 0 0 0 0 0 0 0 0 0 0 0 0 0 0 0 0 0 0 0 0\n",
            " 0 0 0 0 0 0 0 0 0 0 0 0 0 0 0 0 0 0 0 0 0 0 0 0 0 0 0 0 0 0 0 0 0 0 0 0 0\n",
            " 0 0 0 0 0 0 0 0 0 0 0 0 0 0 0 0 0 0 0 0 0 0 0 0 0 0 1 1 1 1 1 1 1 1 1 1 1\n",
            " 1 1 1 1 1 1 1 1 1 1 1 1 1 1 1 1 1 1 1 1 1 1 1 1 1 1 1 1 1 1 1 1 1 1 1 1 1\n",
            " 1 1 1 1 1 1 1 1 1 1 1 1 1 1 1 1 1 1 1 1 1 1 1 1 1 1 1 1 1 1 1 1 1 1 1 1 1\n",
            " 1 1 1 1 1 1 1 1 1 1 1 1 1 1 1 2 2 2 2 2 2 2 2 2 2 2 2 2 2 2 2 2 2 2 2 2 2\n",
            " 2 2 2 2 2 2 2 2 2 2 2 2 2 2 2 2 2 2 2 2 2 2 2 2 2 2 2 2 2 2 2 2 2 2 2 2 2\n",
            " 2 2 2 2 2 2 2 2 2 2 2 2 2 2 2 2 2 2 2 2 2 2 2 2 2 2 2 2 2 2 2 2 2 2 2 2 2\n",
            " 2 2 2 2 3 3 3 3 3 3 3 3 3 3 3 3 3 3 3 3 3 3 3 3 3 3 3 3 3 3 3 3 3 3 3 3 3\n",
            " 3 3 3 3 3 3 3 3 3 3 3 3 3 3 3 3 3 3 3 3 3 3 3 3 3 3 3 3 3 3 3 3 3 3 3 3 3\n",
            " 3 3 3 3 3 3 3 3 3 3 3 3 3 3 3 3 3 3 3 3 3 3 3 3 3 3 3 3 3 3 4 4 4 4 4 4 4\n",
            " 4 4 4 4 4 4 4 4 4 4 4 4 4 4 4 4 4 4 4 4 4 4 4 4 4 4 4 4 4 4 4 4 4 4 4 4 4\n",
            " 4 4 4 4 4 4 4 4 4 4 4 4 4 4 4 4 4 4 4 4 4 4 4 4 4 4 4 4 4 4 4 4 4 4 4 4 4\n",
            " 4 4 4 4 4 4 4 4 4 4 4 4 4 4 4 4 4 4 4 5 5 5 5 5 5 5 5 5 5 5 5 5 5 5 5 5 5\n",
            " 5 5 5 5 5 5 5 5 5 5 5 5 5 5 5 5 5 5 5 5 5 5 5 5 5 5 5 5 5 5 5 5 5 5 5 5 5\n",
            " 5 5 5 5 5 5 5 5 5 5 5 5 5 5 5 5 5 5 5 5 5 5 5 5 5 5 5 5 5 5 5 5 5 5 5 5 5\n",
            " 5 5 5 5 5 5 5 5 6 6 6 6 6 6 6 6 6 6 6 6 6 6 6 6 6 6 6 6 6 6 6 6 6 6 6 6 6\n",
            " 6 6 6 6 6 6 6 6 6 6 6 6 6 6 6 6 6 6 6 6 6 6 6 6 6 6 6 6 6 6 6 6 6 6 6 6 6\n",
            " 6 6 6 6 6 6 6 6 6 6 6 6 6 6 6 6 6 6 6 6 6 6 6 6 6 6 6 6 6 6 6 6 6 6 7 7 7\n",
            " 7 7 7 7 7 7 7 7 7 7 7 7 7 7 7 7 7 7 7 7 7 7 7 7 7 7 7 7 7 7 7 7 7 7 7 7 7\n",
            " 7 7 7 7 7 7 7 7 7 7 7 7 7 7 7 7 7 7 7 7 7 7 7 7 7 7 7 7 7 7 7 7 7 7 7 7 7\n",
            " 7 7 7 7 7 7 7 7 7 7 7 7 7 7 7 7 7 7 7 7 7 7 7 8 8 8 8 8 8 8 8 8 8 8 8 8 8\n",
            " 8 8 8 8 8 8 8 8 8 8 8 8 8 8 8 8 8 8 8 8 8 8 8 8 8 8 8 8 8 8 8 8 8 8 8 8 8\n",
            " 8 8 8 8 8 8 8 8 8 8 8 8 8 8 8 8 8 8 8 8 8 8 8 8 8 8 8 8 8 8 8 8 8 8 8 8 8\n",
            " 8 8 8 8 8 8 8 8 8 8 8 8 9 9 9 9 9 9 9 9 9 9 9 9 9 9 9 9 9 9 9 9 9 9 9 9 9\n",
            " 9 9 9 9 9 9 9 9 9 9 9 9 9 9 9 9 9 9 9 9 9 9 9 9 9 9 9 9 9 9 9 9 9 9 9 9 9\n",
            " 9 9 9 9 9 9 9 9 9 9 9 9 9 9 9 9 9 9 9 9 9 9 9 9 9 9 9 9 9 9 9 9 9 9 9 9 9\n",
            " 9]\n"
          ],
          "name": "stdout"
        }
      ]
    },
    {
      "cell_type": "code",
      "metadata": {
        "id": "J3Gd94E2zZc6"
      },
      "source": [
        "# Нормируем данные\n",
        "scaler = StandardScaler()\n",
        "X_train = scaler.fit_transform(X_train)\n",
        "\n",
        "# Разделяем выборку на обучающую и проверочную\n",
        "# Для проверочной выборки используем 10% примеров\n",
        "X_train, X_test, y_train, y_test = train_test_split(X_train, y_train_class, test_size=0.1)"
      ],
      "execution_count": null,
      "outputs": []
    },
    {
      "cell_type": "code",
      "metadata": {
        "id": "NmlmFKp2zhai",
        "colab": {
          "base_uri": "https://localhost:8080/",
          "height": 84
        },
        "outputId": "8ef2318b-5e7b-4e0d-eeb0-068a1b7ab1d5"
      },
      "source": [
        "#Выводим размеры обучающей и проверочной выборки для проверки\n",
        "print(X_train.shape)\n",
        "print(y_train.shape)\n",
        "print(X_test.shape)\n",
        "print(y_test.shape)"
      ],
      "execution_count": null,
      "outputs": [
        {
          "output_type": "stream",
          "text": [
            "(900, 26)\n",
            "(900,)\n",
            "(100, 26)\n",
            "(100,)\n"
          ],
          "name": "stdout"
        }
      ]
    },
    {
      "cell_type": "code",
      "metadata": {
        "id": "8RRm7tju8doE",
        "colab": {
          "base_uri": "https://localhost:8080/",
          "height": 1000
        },
        "outputId": "0e45099a-7fd7-4297-b7b2-a18e551452a6"
      },
      "source": [
        "indexes = range(0,26)\n",
        "\n",
        "#Создаём модель \n",
        "model = Sequential()\n",
        "\n",
        "model.add(Dense(256, activation='elu', input_shape=(len(indexes),)))\n",
        "model.add(Dropout(0.4))\n",
        "model.add(Dense(256, activation='elu'))\n",
        "model.add(Dropout(0.4))\n",
        "model.add(Dense(256, activation='elu'))\n",
        "model.add(Dropout(0.4))\n",
        "model.add(Dense(256, activation='elu'))\n",
        "model.add(Dense(len(genres), activation='softmax'))\n",
        "\n",
        "#Компилируем сеть\n",
        "model.compile(optimizer=RMSprop(lr=1e-4),\n",
        "              loss='sparse_categorical_crossentropy',\n",
        "              metrics=['accuracy'])\n",
        "\n",
        "#Обучаем\n",
        "history = model.fit(X_train[:, indexes],\n",
        "                    y_train,\n",
        "                    epochs=400,\n",
        "                    batch_size=20,\n",
        "                    validation_data=(X_test[:, indexes], y_test))\n",
        "\n",
        "# Визуализируем результаты\n",
        "plt.plot(history.history[\"accuracy\"])\n",
        "plt.plot(history.history[\"val_accuracy\"])\n",
        "plt.show()"
      ],
      "execution_count": null,
      "outputs": [
        {
          "output_type": "stream",
          "text": [
            "Epoch 1/400\n",
            "45/45 [==============================] - 0s 5ms/step - loss: 2.1824 - accuracy: 0.2089 - val_loss: 1.7722 - val_accuracy: 0.3500\n",
            "Epoch 2/400\n",
            "45/45 [==============================] - 0s 4ms/step - loss: 1.8796 - accuracy: 0.3178 - val_loss: 1.6299 - val_accuracy: 0.4200\n",
            "Epoch 3/400\n",
            "45/45 [==============================] - 0s 3ms/step - loss: 1.7076 - accuracy: 0.3667 - val_loss: 1.5484 - val_accuracy: 0.4500\n",
            "Epoch 4/400\n",
            "45/45 [==============================] - 0s 3ms/step - loss: 1.6248 - accuracy: 0.4133 - val_loss: 1.4866 - val_accuracy: 0.4900\n",
            "Epoch 5/400\n",
            "45/45 [==============================] - 0s 3ms/step - loss: 1.5676 - accuracy: 0.4356 - val_loss: 1.4533 - val_accuracy: 0.5400\n",
            "Epoch 6/400\n",
            "45/45 [==============================] - 0s 3ms/step - loss: 1.5078 - accuracy: 0.4600 - val_loss: 1.4152 - val_accuracy: 0.5500\n",
            "Epoch 7/400\n",
            "45/45 [==============================] - 0s 3ms/step - loss: 1.4911 - accuracy: 0.4522 - val_loss: 1.3856 - val_accuracy: 0.5700\n",
            "Epoch 8/400\n",
            "45/45 [==============================] - 0s 3ms/step - loss: 1.4410 - accuracy: 0.4800 - val_loss: 1.3634 - val_accuracy: 0.5700\n",
            "Epoch 9/400\n",
            "45/45 [==============================] - 0s 3ms/step - loss: 1.3936 - accuracy: 0.5144 - val_loss: 1.3307 - val_accuracy: 0.5900\n",
            "Epoch 10/400\n",
            "45/45 [==============================] - 0s 3ms/step - loss: 1.4012 - accuracy: 0.4800 - val_loss: 1.3169 - val_accuracy: 0.5900\n",
            "Epoch 11/400\n",
            "45/45 [==============================] - 0s 3ms/step - loss: 1.3558 - accuracy: 0.4956 - val_loss: 1.2987 - val_accuracy: 0.5500\n",
            "Epoch 12/400\n",
            "45/45 [==============================] - 0s 3ms/step - loss: 1.3574 - accuracy: 0.5044 - val_loss: 1.2906 - val_accuracy: 0.5700\n",
            "Epoch 13/400\n",
            "45/45 [==============================] - 0s 3ms/step - loss: 1.3442 - accuracy: 0.5178 - val_loss: 1.2718 - val_accuracy: 0.5600\n",
            "Epoch 14/400\n",
            "45/45 [==============================] - 0s 3ms/step - loss: 1.3388 - accuracy: 0.5189 - val_loss: 1.2649 - val_accuracy: 0.5700\n",
            "Epoch 15/400\n",
            "45/45 [==============================] - 0s 3ms/step - loss: 1.3136 - accuracy: 0.5256 - val_loss: 1.2515 - val_accuracy: 0.5700\n",
            "Epoch 16/400\n",
            "45/45 [==============================] - 0s 3ms/step - loss: 1.2891 - accuracy: 0.5489 - val_loss: 1.2372 - val_accuracy: 0.5800\n",
            "Epoch 17/400\n",
            "45/45 [==============================] - 0s 3ms/step - loss: 1.3071 - accuracy: 0.5444 - val_loss: 1.2215 - val_accuracy: 0.5800\n",
            "Epoch 18/400\n",
            "45/45 [==============================] - 0s 3ms/step - loss: 1.2467 - accuracy: 0.5578 - val_loss: 1.2069 - val_accuracy: 0.5900\n",
            "Epoch 19/400\n",
            "45/45 [==============================] - 0s 3ms/step - loss: 1.2265 - accuracy: 0.5733 - val_loss: 1.2220 - val_accuracy: 0.5600\n",
            "Epoch 20/400\n",
            "45/45 [==============================] - 0s 3ms/step - loss: 1.2286 - accuracy: 0.5556 - val_loss: 1.2112 - val_accuracy: 0.5800\n",
            "Epoch 21/400\n",
            "45/45 [==============================] - 0s 3ms/step - loss: 1.2381 - accuracy: 0.5533 - val_loss: 1.2066 - val_accuracy: 0.5800\n",
            "Epoch 22/400\n",
            "45/45 [==============================] - 0s 3ms/step - loss: 1.2312 - accuracy: 0.5567 - val_loss: 1.2079 - val_accuracy: 0.5600\n",
            "Epoch 23/400\n",
            "45/45 [==============================] - 0s 3ms/step - loss: 1.2279 - accuracy: 0.5656 - val_loss: 1.2056 - val_accuracy: 0.5700\n",
            "Epoch 24/400\n",
            "45/45 [==============================] - 0s 3ms/step - loss: 1.1927 - accuracy: 0.5744 - val_loss: 1.2001 - val_accuracy: 0.5700\n",
            "Epoch 25/400\n",
            "45/45 [==============================] - 0s 3ms/step - loss: 1.1519 - accuracy: 0.6044 - val_loss: 1.1877 - val_accuracy: 0.5900\n",
            "Epoch 26/400\n",
            "45/45 [==============================] - 0s 3ms/step - loss: 1.1871 - accuracy: 0.5744 - val_loss: 1.1811 - val_accuracy: 0.5900\n",
            "Epoch 27/400\n",
            "45/45 [==============================] - 0s 3ms/step - loss: 1.1377 - accuracy: 0.5822 - val_loss: 1.1826 - val_accuracy: 0.5800\n",
            "Epoch 28/400\n",
            "45/45 [==============================] - 0s 3ms/step - loss: 1.1551 - accuracy: 0.5956 - val_loss: 1.1716 - val_accuracy: 0.5500\n",
            "Epoch 29/400\n",
            "45/45 [==============================] - 0s 3ms/step - loss: 1.1971 - accuracy: 0.5667 - val_loss: 1.1798 - val_accuracy: 0.5800\n",
            "Epoch 30/400\n",
            "45/45 [==============================] - 0s 3ms/step - loss: 1.1308 - accuracy: 0.6078 - val_loss: 1.1681 - val_accuracy: 0.5700\n",
            "Epoch 31/400\n",
            "45/45 [==============================] - 0s 3ms/step - loss: 1.1031 - accuracy: 0.6100 - val_loss: 1.1815 - val_accuracy: 0.5500\n",
            "Epoch 32/400\n",
            "45/45 [==============================] - 0s 3ms/step - loss: 1.1535 - accuracy: 0.6089 - val_loss: 1.1809 - val_accuracy: 0.5700\n",
            "Epoch 33/400\n",
            "45/45 [==============================] - 0s 3ms/step - loss: 1.1261 - accuracy: 0.6144 - val_loss: 1.1731 - val_accuracy: 0.5700\n",
            "Epoch 34/400\n",
            "45/45 [==============================] - 0s 3ms/step - loss: 1.1103 - accuracy: 0.5978 - val_loss: 1.1650 - val_accuracy: 0.6000\n",
            "Epoch 35/400\n",
            "45/45 [==============================] - 0s 3ms/step - loss: 1.0801 - accuracy: 0.6178 - val_loss: 1.1544 - val_accuracy: 0.5600\n",
            "Epoch 36/400\n",
            "45/45 [==============================] - 0s 3ms/step - loss: 1.1013 - accuracy: 0.6144 - val_loss: 1.1649 - val_accuracy: 0.6000\n",
            "Epoch 37/400\n",
            "45/45 [==============================] - 0s 3ms/step - loss: 1.0891 - accuracy: 0.6189 - val_loss: 1.1671 - val_accuracy: 0.6000\n",
            "Epoch 38/400\n",
            "45/45 [==============================] - 0s 3ms/step - loss: 1.0928 - accuracy: 0.6211 - val_loss: 1.1701 - val_accuracy: 0.6000\n",
            "Epoch 39/400\n",
            "45/45 [==============================] - 0s 3ms/step - loss: 1.0835 - accuracy: 0.6211 - val_loss: 1.1557 - val_accuracy: 0.5800\n",
            "Epoch 40/400\n",
            "45/45 [==============================] - 0s 3ms/step - loss: 1.1143 - accuracy: 0.6100 - val_loss: 1.1421 - val_accuracy: 0.5800\n",
            "Epoch 41/400\n",
            "45/45 [==============================] - 0s 3ms/step - loss: 1.0815 - accuracy: 0.6200 - val_loss: 1.1423 - val_accuracy: 0.5900\n",
            "Epoch 42/400\n",
            "45/45 [==============================] - 0s 3ms/step - loss: 1.0993 - accuracy: 0.6044 - val_loss: 1.1491 - val_accuracy: 0.5900\n",
            "Epoch 43/400\n",
            "45/45 [==============================] - 0s 3ms/step - loss: 1.0660 - accuracy: 0.6056 - val_loss: 1.1549 - val_accuracy: 0.5800\n",
            "Epoch 44/400\n",
            "45/45 [==============================] - 0s 4ms/step - loss: 1.0732 - accuracy: 0.6233 - val_loss: 1.1527 - val_accuracy: 0.5800\n",
            "Epoch 45/400\n",
            "45/45 [==============================] - 0s 4ms/step - loss: 1.0384 - accuracy: 0.6433 - val_loss: 1.1414 - val_accuracy: 0.6000\n",
            "Epoch 46/400\n",
            "45/45 [==============================] - 0s 4ms/step - loss: 1.0433 - accuracy: 0.6389 - val_loss: 1.1362 - val_accuracy: 0.5900\n",
            "Epoch 47/400\n",
            "45/45 [==============================] - 0s 4ms/step - loss: 1.0807 - accuracy: 0.6400 - val_loss: 1.1227 - val_accuracy: 0.5800\n",
            "Epoch 48/400\n",
            "45/45 [==============================] - 0s 4ms/step - loss: 1.0616 - accuracy: 0.6222 - val_loss: 1.1200 - val_accuracy: 0.6200\n",
            "Epoch 49/400\n",
            "45/45 [==============================] - 0s 3ms/step - loss: 1.0214 - accuracy: 0.6444 - val_loss: 1.1149 - val_accuracy: 0.6100\n",
            "Epoch 50/400\n",
            "45/45 [==============================] - 0s 3ms/step - loss: 1.0316 - accuracy: 0.6233 - val_loss: 1.1226 - val_accuracy: 0.6000\n",
            "Epoch 51/400\n",
            "45/45 [==============================] - 0s 3ms/step - loss: 1.0251 - accuracy: 0.6400 - val_loss: 1.1118 - val_accuracy: 0.6000\n",
            "Epoch 52/400\n",
            "45/45 [==============================] - 0s 3ms/step - loss: 1.0112 - accuracy: 0.6367 - val_loss: 1.1208 - val_accuracy: 0.6100\n",
            "Epoch 53/400\n",
            "45/45 [==============================] - 0s 3ms/step - loss: 1.0306 - accuracy: 0.6522 - val_loss: 1.1089 - val_accuracy: 0.6200\n",
            "Epoch 54/400\n",
            "45/45 [==============================] - 0s 3ms/step - loss: 1.0449 - accuracy: 0.6400 - val_loss: 1.1088 - val_accuracy: 0.5900\n",
            "Epoch 55/400\n",
            "45/45 [==============================] - 0s 3ms/step - loss: 1.0268 - accuracy: 0.6478 - val_loss: 1.1063 - val_accuracy: 0.6100\n",
            "Epoch 56/400\n",
            "45/45 [==============================] - 0s 3ms/step - loss: 0.9852 - accuracy: 0.6389 - val_loss: 1.1193 - val_accuracy: 0.6100\n",
            "Epoch 57/400\n",
            "45/45 [==============================] - 0s 3ms/step - loss: 1.0084 - accuracy: 0.6489 - val_loss: 1.1012 - val_accuracy: 0.5800\n",
            "Epoch 58/400\n",
            "45/45 [==============================] - 0s 3ms/step - loss: 0.9899 - accuracy: 0.6611 - val_loss: 1.1234 - val_accuracy: 0.5800\n",
            "Epoch 59/400\n",
            "45/45 [==============================] - 0s 3ms/step - loss: 1.0247 - accuracy: 0.6333 - val_loss: 1.1250 - val_accuracy: 0.5900\n",
            "Epoch 60/400\n",
            "45/45 [==============================] - 0s 3ms/step - loss: 1.0424 - accuracy: 0.6311 - val_loss: 1.0898 - val_accuracy: 0.6000\n",
            "Epoch 61/400\n",
            "45/45 [==============================] - 0s 3ms/step - loss: 1.0250 - accuracy: 0.6333 - val_loss: 1.1031 - val_accuracy: 0.6000\n",
            "Epoch 62/400\n",
            "45/45 [==============================] - 0s 3ms/step - loss: 0.9537 - accuracy: 0.6511 - val_loss: 1.1033 - val_accuracy: 0.6000\n",
            "Epoch 63/400\n",
            "45/45 [==============================] - 0s 3ms/step - loss: 1.0032 - accuracy: 0.6422 - val_loss: 1.0984 - val_accuracy: 0.6000\n",
            "Epoch 64/400\n",
            "45/45 [==============================] - 0s 3ms/step - loss: 0.9772 - accuracy: 0.6400 - val_loss: 1.0917 - val_accuracy: 0.6300\n",
            "Epoch 65/400\n",
            "45/45 [==============================] - 0s 3ms/step - loss: 1.0078 - accuracy: 0.6544 - val_loss: 1.0768 - val_accuracy: 0.6200\n",
            "Epoch 66/400\n",
            "45/45 [==============================] - 0s 3ms/step - loss: 0.9640 - accuracy: 0.6778 - val_loss: 1.0840 - val_accuracy: 0.6300\n",
            "Epoch 67/400\n",
            "45/45 [==============================] - 0s 3ms/step - loss: 0.9657 - accuracy: 0.6656 - val_loss: 1.0821 - val_accuracy: 0.6100\n",
            "Epoch 68/400\n",
            "45/45 [==============================] - 0s 3ms/step - loss: 0.9796 - accuracy: 0.6711 - val_loss: 1.0744 - val_accuracy: 0.6100\n",
            "Epoch 69/400\n",
            "45/45 [==============================] - 0s 3ms/step - loss: 1.0022 - accuracy: 0.6422 - val_loss: 1.0848 - val_accuracy: 0.6100\n",
            "Epoch 70/400\n",
            "45/45 [==============================] - 0s 3ms/step - loss: 0.9501 - accuracy: 0.6700 - val_loss: 1.0937 - val_accuracy: 0.6000\n",
            "Epoch 71/400\n",
            "45/45 [==============================] - 0s 3ms/step - loss: 0.9568 - accuracy: 0.6644 - val_loss: 1.0910 - val_accuracy: 0.5900\n",
            "Epoch 72/400\n",
            "45/45 [==============================] - 0s 3ms/step - loss: 0.9519 - accuracy: 0.6644 - val_loss: 1.0556 - val_accuracy: 0.6500\n",
            "Epoch 73/400\n",
            "45/45 [==============================] - 0s 3ms/step - loss: 0.9680 - accuracy: 0.6544 - val_loss: 1.0776 - val_accuracy: 0.6100\n",
            "Epoch 74/400\n",
            "45/45 [==============================] - 0s 3ms/step - loss: 0.9523 - accuracy: 0.6733 - val_loss: 1.0678 - val_accuracy: 0.6200\n",
            "Epoch 75/400\n",
            "45/45 [==============================] - 0s 3ms/step - loss: 0.9595 - accuracy: 0.6667 - val_loss: 1.0828 - val_accuracy: 0.5900\n",
            "Epoch 76/400\n",
            "45/45 [==============================] - 0s 3ms/step - loss: 0.9666 - accuracy: 0.6456 - val_loss: 1.0811 - val_accuracy: 0.6100\n",
            "Epoch 77/400\n",
            "45/45 [==============================] - 0s 3ms/step - loss: 0.9485 - accuracy: 0.6611 - val_loss: 1.0928 - val_accuracy: 0.6100\n",
            "Epoch 78/400\n",
            "45/45 [==============================] - 0s 3ms/step - loss: 0.9345 - accuracy: 0.6822 - val_loss: 1.0853 - val_accuracy: 0.6100\n",
            "Epoch 79/400\n",
            "45/45 [==============================] - 0s 3ms/step - loss: 0.9523 - accuracy: 0.6544 - val_loss: 1.0821 - val_accuracy: 0.6300\n",
            "Epoch 80/400\n",
            "45/45 [==============================] - 0s 3ms/step - loss: 0.9424 - accuracy: 0.6567 - val_loss: 1.0804 - val_accuracy: 0.6300\n",
            "Epoch 81/400\n",
            "45/45 [==============================] - 0s 3ms/step - loss: 0.9507 - accuracy: 0.6544 - val_loss: 1.0590 - val_accuracy: 0.6300\n",
            "Epoch 82/400\n",
            "45/45 [==============================] - 0s 3ms/step - loss: 0.8841 - accuracy: 0.7078 - val_loss: 1.0666 - val_accuracy: 0.6300\n",
            "Epoch 83/400\n",
            "45/45 [==============================] - 0s 4ms/step - loss: 0.9419 - accuracy: 0.6611 - val_loss: 1.0710 - val_accuracy: 0.6000\n",
            "Epoch 84/400\n",
            "45/45 [==============================] - 0s 4ms/step - loss: 0.9402 - accuracy: 0.6811 - val_loss: 1.0703 - val_accuracy: 0.6100\n",
            "Epoch 85/400\n",
            "45/45 [==============================] - 0s 4ms/step - loss: 0.9161 - accuracy: 0.6822 - val_loss: 1.0652 - val_accuracy: 0.6200\n",
            "Epoch 86/400\n",
            "45/45 [==============================] - 0s 3ms/step - loss: 0.9615 - accuracy: 0.6433 - val_loss: 1.0466 - val_accuracy: 0.6300\n",
            "Epoch 87/400\n",
            "45/45 [==============================] - 0s 3ms/step - loss: 0.9185 - accuracy: 0.6778 - val_loss: 1.0642 - val_accuracy: 0.6100\n",
            "Epoch 88/400\n",
            "45/45 [==============================] - 0s 3ms/step - loss: 0.9365 - accuracy: 0.6622 - val_loss: 1.0403 - val_accuracy: 0.6300\n",
            "Epoch 89/400\n",
            "45/45 [==============================] - 0s 3ms/step - loss: 0.9034 - accuracy: 0.6833 - val_loss: 1.0509 - val_accuracy: 0.6200\n",
            "Epoch 90/400\n",
            "45/45 [==============================] - 0s 3ms/step - loss: 0.9448 - accuracy: 0.6500 - val_loss: 1.0562 - val_accuracy: 0.6000\n",
            "Epoch 91/400\n",
            "45/45 [==============================] - 0s 3ms/step - loss: 0.9164 - accuracy: 0.6822 - val_loss: 1.0549 - val_accuracy: 0.6200\n",
            "Epoch 92/400\n",
            "45/45 [==============================] - 0s 3ms/step - loss: 0.9170 - accuracy: 0.6689 - val_loss: 1.0313 - val_accuracy: 0.6200\n",
            "Epoch 93/400\n",
            "45/45 [==============================] - 0s 3ms/step - loss: 0.8936 - accuracy: 0.6756 - val_loss: 1.0590 - val_accuracy: 0.6100\n",
            "Epoch 94/400\n",
            "45/45 [==============================] - 0s 3ms/step - loss: 0.9076 - accuracy: 0.6633 - val_loss: 1.0608 - val_accuracy: 0.5900\n",
            "Epoch 95/400\n",
            "45/45 [==============================] - 0s 3ms/step - loss: 0.8971 - accuracy: 0.6833 - val_loss: 1.0388 - val_accuracy: 0.6200\n",
            "Epoch 96/400\n",
            "45/45 [==============================] - 0s 3ms/step - loss: 0.8380 - accuracy: 0.7156 - val_loss: 1.0259 - val_accuracy: 0.6400\n",
            "Epoch 97/400\n",
            "45/45 [==============================] - 0s 3ms/step - loss: 0.9004 - accuracy: 0.6878 - val_loss: 1.0288 - val_accuracy: 0.6400\n",
            "Epoch 98/400\n",
            "45/45 [==============================] - 0s 3ms/step - loss: 0.8760 - accuracy: 0.6856 - val_loss: 1.0455 - val_accuracy: 0.6300\n",
            "Epoch 99/400\n",
            "45/45 [==============================] - 0s 3ms/step - loss: 0.8906 - accuracy: 0.6822 - val_loss: 1.0627 - val_accuracy: 0.6200\n",
            "Epoch 100/400\n",
            "45/45 [==============================] - 0s 3ms/step - loss: 0.8907 - accuracy: 0.6900 - val_loss: 1.0598 - val_accuracy: 0.6000\n",
            "Epoch 101/400\n",
            "45/45 [==============================] - 0s 3ms/step - loss: 0.8911 - accuracy: 0.6878 - val_loss: 1.0402 - val_accuracy: 0.6300\n",
            "Epoch 102/400\n",
            "45/45 [==============================] - 0s 3ms/step - loss: 0.9003 - accuracy: 0.6789 - val_loss: 1.0271 - val_accuracy: 0.6300\n",
            "Epoch 103/400\n",
            "45/45 [==============================] - 0s 3ms/step - loss: 0.8742 - accuracy: 0.6822 - val_loss: 1.0505 - val_accuracy: 0.6300\n",
            "Epoch 104/400\n",
            "45/45 [==============================] - 0s 3ms/step - loss: 0.8875 - accuracy: 0.7033 - val_loss: 1.0498 - val_accuracy: 0.6300\n",
            "Epoch 105/400\n",
            "45/45 [==============================] - 0s 3ms/step - loss: 0.8631 - accuracy: 0.6800 - val_loss: 1.0642 - val_accuracy: 0.6100\n",
            "Epoch 106/400\n",
            "45/45 [==============================] - 0s 3ms/step - loss: 0.8882 - accuracy: 0.6622 - val_loss: 1.0389 - val_accuracy: 0.6400\n",
            "Epoch 107/400\n",
            "45/45 [==============================] - 0s 3ms/step - loss: 0.8889 - accuracy: 0.6911 - val_loss: 1.0647 - val_accuracy: 0.6300\n",
            "Epoch 108/400\n",
            "45/45 [==============================] - 0s 3ms/step - loss: 0.8937 - accuracy: 0.6856 - val_loss: 1.0514 - val_accuracy: 0.6400\n",
            "Epoch 109/400\n",
            "45/45 [==============================] - 0s 3ms/step - loss: 0.8807 - accuracy: 0.7033 - val_loss: 1.0546 - val_accuracy: 0.6200\n",
            "Epoch 110/400\n",
            "45/45 [==============================] - 0s 3ms/step - loss: 0.8975 - accuracy: 0.6900 - val_loss: 1.0560 - val_accuracy: 0.6200\n",
            "Epoch 111/400\n",
            "45/45 [==============================] - 0s 3ms/step - loss: 0.8674 - accuracy: 0.6956 - val_loss: 1.0511 - val_accuracy: 0.6100\n",
            "Epoch 112/400\n",
            "45/45 [==============================] - 0s 3ms/step - loss: 0.8728 - accuracy: 0.6867 - val_loss: 1.0543 - val_accuracy: 0.6300\n",
            "Epoch 113/400\n",
            "45/45 [==============================] - 0s 3ms/step - loss: 0.8437 - accuracy: 0.7022 - val_loss: 1.0554 - val_accuracy: 0.6200\n",
            "Epoch 114/400\n",
            "45/45 [==============================] - 0s 4ms/step - loss: 0.8506 - accuracy: 0.6944 - val_loss: 1.0691 - val_accuracy: 0.6400\n",
            "Epoch 115/400\n",
            "45/45 [==============================] - 0s 3ms/step - loss: 0.8266 - accuracy: 0.7133 - val_loss: 1.0466 - val_accuracy: 0.6500\n",
            "Epoch 116/400\n",
            "45/45 [==============================] - 0s 3ms/step - loss: 0.8276 - accuracy: 0.7133 - val_loss: 1.0426 - val_accuracy: 0.6400\n",
            "Epoch 117/400\n",
            "45/45 [==============================] - 0s 3ms/step - loss: 0.8827 - accuracy: 0.6933 - val_loss: 1.0439 - val_accuracy: 0.6400\n",
            "Epoch 118/400\n",
            "45/45 [==============================] - 0s 3ms/step - loss: 0.8091 - accuracy: 0.6967 - val_loss: 1.0660 - val_accuracy: 0.6200\n",
            "Epoch 119/400\n",
            "45/45 [==============================] - 0s 3ms/step - loss: 0.8854 - accuracy: 0.6956 - val_loss: 1.0530 - val_accuracy: 0.6400\n",
            "Epoch 120/400\n",
            "45/45 [==============================] - 0s 3ms/step - loss: 0.8237 - accuracy: 0.6978 - val_loss: 1.0526 - val_accuracy: 0.6300\n",
            "Epoch 121/400\n",
            "45/45 [==============================] - 0s 3ms/step - loss: 0.8449 - accuracy: 0.7100 - val_loss: 1.0638 - val_accuracy: 0.6400\n",
            "Epoch 122/400\n",
            "45/45 [==============================] - 0s 3ms/step - loss: 0.8726 - accuracy: 0.6778 - val_loss: 1.0568 - val_accuracy: 0.6300\n",
            "Epoch 123/400\n",
            "45/45 [==============================] - 0s 3ms/step - loss: 0.8096 - accuracy: 0.7178 - val_loss: 1.0345 - val_accuracy: 0.6500\n",
            "Epoch 124/400\n",
            "45/45 [==============================] - 0s 3ms/step - loss: 0.8095 - accuracy: 0.7211 - val_loss: 1.0552 - val_accuracy: 0.6200\n",
            "Epoch 125/400\n",
            "45/45 [==============================] - 0s 3ms/step - loss: 0.8157 - accuracy: 0.7200 - val_loss: 1.0720 - val_accuracy: 0.6300\n",
            "Epoch 126/400\n",
            "45/45 [==============================] - 0s 3ms/step - loss: 0.8116 - accuracy: 0.7111 - val_loss: 1.0529 - val_accuracy: 0.6400\n",
            "Epoch 127/400\n",
            "45/45 [==============================] - 0s 3ms/step - loss: 0.8291 - accuracy: 0.7111 - val_loss: 1.0753 - val_accuracy: 0.6500\n",
            "Epoch 128/400\n",
            "45/45 [==============================] - 0s 3ms/step - loss: 0.8356 - accuracy: 0.7033 - val_loss: 1.0632 - val_accuracy: 0.6400\n",
            "Epoch 129/400\n",
            "45/45 [==============================] - 0s 3ms/step - loss: 0.8068 - accuracy: 0.7089 - val_loss: 1.0575 - val_accuracy: 0.6400\n",
            "Epoch 130/400\n",
            "45/45 [==============================] - 0s 4ms/step - loss: 0.7998 - accuracy: 0.7078 - val_loss: 1.0530 - val_accuracy: 0.6500\n",
            "Epoch 131/400\n",
            "45/45 [==============================] - 0s 4ms/step - loss: 0.7950 - accuracy: 0.7156 - val_loss: 1.0631 - val_accuracy: 0.6400\n",
            "Epoch 132/400\n",
            "45/45 [==============================] - 0s 3ms/step - loss: 0.7750 - accuracy: 0.7278 - val_loss: 1.0740 - val_accuracy: 0.6500\n",
            "Epoch 133/400\n",
            "45/45 [==============================] - 0s 3ms/step - loss: 0.8286 - accuracy: 0.7000 - val_loss: 1.0450 - val_accuracy: 0.6400\n",
            "Epoch 134/400\n",
            "45/45 [==============================] - 0s 3ms/step - loss: 0.7931 - accuracy: 0.7256 - val_loss: 1.0405 - val_accuracy: 0.6500\n",
            "Epoch 135/400\n",
            "45/45 [==============================] - 0s 3ms/step - loss: 0.8054 - accuracy: 0.7022 - val_loss: 1.0634 - val_accuracy: 0.6400\n",
            "Epoch 136/400\n",
            "45/45 [==============================] - 0s 3ms/step - loss: 0.7651 - accuracy: 0.7333 - val_loss: 1.0583 - val_accuracy: 0.6700\n",
            "Epoch 137/400\n",
            "45/45 [==============================] - 0s 3ms/step - loss: 0.8162 - accuracy: 0.7144 - val_loss: 1.0441 - val_accuracy: 0.6400\n",
            "Epoch 138/400\n",
            "45/45 [==============================] - 0s 3ms/step - loss: 0.7727 - accuracy: 0.7211 - val_loss: 1.0592 - val_accuracy: 0.6600\n",
            "Epoch 139/400\n",
            "45/45 [==============================] - 0s 3ms/step - loss: 0.8352 - accuracy: 0.7000 - val_loss: 1.0435 - val_accuracy: 0.6700\n",
            "Epoch 140/400\n",
            "45/45 [==============================] - 0s 3ms/step - loss: 0.8171 - accuracy: 0.6989 - val_loss: 1.0482 - val_accuracy: 0.6500\n",
            "Epoch 141/400\n",
            "45/45 [==============================] - 0s 3ms/step - loss: 0.7899 - accuracy: 0.7111 - val_loss: 1.0455 - val_accuracy: 0.6600\n",
            "Epoch 142/400\n",
            "45/45 [==============================] - 0s 3ms/step - loss: 0.7702 - accuracy: 0.6989 - val_loss: 1.0448 - val_accuracy: 0.6400\n",
            "Epoch 143/400\n",
            "45/45 [==============================] - 0s 3ms/step - loss: 0.7906 - accuracy: 0.7244 - val_loss: 1.0304 - val_accuracy: 0.6800\n",
            "Epoch 144/400\n",
            "45/45 [==============================] - 0s 3ms/step - loss: 0.7674 - accuracy: 0.7267 - val_loss: 1.0461 - val_accuracy: 0.6500\n",
            "Epoch 145/400\n",
            "45/45 [==============================] - 0s 3ms/step - loss: 0.7625 - accuracy: 0.7344 - val_loss: 1.0608 - val_accuracy: 0.6500\n",
            "Epoch 146/400\n",
            "45/45 [==============================] - 0s 3ms/step - loss: 0.7702 - accuracy: 0.7256 - val_loss: 1.0666 - val_accuracy: 0.6500\n",
            "Epoch 147/400\n",
            "45/45 [==============================] - 0s 3ms/step - loss: 0.7901 - accuracy: 0.7278 - val_loss: 1.0483 - val_accuracy: 0.6400\n",
            "Epoch 148/400\n",
            "45/45 [==============================] - 0s 3ms/step - loss: 0.7566 - accuracy: 0.7189 - val_loss: 1.0426 - val_accuracy: 0.6600\n",
            "Epoch 149/400\n",
            "45/45 [==============================] - 0s 3ms/step - loss: 0.7705 - accuracy: 0.7267 - val_loss: 1.0413 - val_accuracy: 0.6600\n",
            "Epoch 150/400\n",
            "45/45 [==============================] - 0s 3ms/step - loss: 0.7965 - accuracy: 0.7200 - val_loss: 1.0385 - val_accuracy: 0.6400\n",
            "Epoch 151/400\n",
            "45/45 [==============================] - 0s 3ms/step - loss: 0.7559 - accuracy: 0.7311 - val_loss: 1.0417 - val_accuracy: 0.6600\n",
            "Epoch 152/400\n",
            "45/45 [==============================] - 0s 3ms/step - loss: 0.7917 - accuracy: 0.7411 - val_loss: 1.0538 - val_accuracy: 0.6600\n",
            "Epoch 153/400\n",
            "45/45 [==============================] - 0s 3ms/step - loss: 0.7477 - accuracy: 0.7278 - val_loss: 1.0295 - val_accuracy: 0.6600\n",
            "Epoch 154/400\n",
            "45/45 [==============================] - 0s 3ms/step - loss: 0.7403 - accuracy: 0.7500 - val_loss: 1.0330 - val_accuracy: 0.6500\n",
            "Epoch 155/400\n",
            "45/45 [==============================] - 0s 3ms/step - loss: 0.7697 - accuracy: 0.7111 - val_loss: 1.0224 - val_accuracy: 0.6500\n",
            "Epoch 156/400\n",
            "45/45 [==============================] - 0s 3ms/step - loss: 0.7616 - accuracy: 0.7289 - val_loss: 1.0184 - val_accuracy: 0.6700\n",
            "Epoch 157/400\n",
            "45/45 [==============================] - 0s 3ms/step - loss: 0.7318 - accuracy: 0.7322 - val_loss: 1.0275 - val_accuracy: 0.6600\n",
            "Epoch 158/400\n",
            "45/45 [==============================] - 0s 3ms/step - loss: 0.7421 - accuracy: 0.7444 - val_loss: 1.0425 - val_accuracy: 0.6500\n",
            "Epoch 159/400\n",
            "45/45 [==============================] - 0s 3ms/step - loss: 0.7252 - accuracy: 0.7578 - val_loss: 1.0316 - val_accuracy: 0.6500\n",
            "Epoch 160/400\n",
            "45/45 [==============================] - 0s 3ms/step - loss: 0.7159 - accuracy: 0.7356 - val_loss: 1.0456 - val_accuracy: 0.6600\n",
            "Epoch 161/400\n",
            "45/45 [==============================] - 0s 3ms/step - loss: 0.7287 - accuracy: 0.7344 - val_loss: 1.0308 - val_accuracy: 0.6700\n",
            "Epoch 162/400\n",
            "45/45 [==============================] - 0s 3ms/step - loss: 0.7164 - accuracy: 0.7500 - val_loss: 1.0276 - val_accuracy: 0.6700\n",
            "Epoch 163/400\n",
            "45/45 [==============================] - 0s 3ms/step - loss: 0.7275 - accuracy: 0.7344 - val_loss: 1.0355 - val_accuracy: 0.6600\n",
            "Epoch 164/400\n",
            "45/45 [==============================] - 0s 3ms/step - loss: 0.7424 - accuracy: 0.7467 - val_loss: 1.0126 - val_accuracy: 0.6700\n",
            "Epoch 165/400\n",
            "45/45 [==============================] - 0s 3ms/step - loss: 0.7301 - accuracy: 0.7544 - val_loss: 1.0417 - val_accuracy: 0.6600\n",
            "Epoch 166/400\n",
            "45/45 [==============================] - 0s 3ms/step - loss: 0.7244 - accuracy: 0.7267 - val_loss: 1.0435 - val_accuracy: 0.6900\n",
            "Epoch 167/400\n",
            "45/45 [==============================] - 0s 3ms/step - loss: 0.7341 - accuracy: 0.7289 - val_loss: 1.0402 - val_accuracy: 0.6500\n",
            "Epoch 168/400\n",
            "45/45 [==============================] - 0s 3ms/step - loss: 0.7308 - accuracy: 0.7422 - val_loss: 1.0424 - val_accuracy: 0.6500\n",
            "Epoch 169/400\n",
            "45/45 [==============================] - 0s 3ms/step - loss: 0.7137 - accuracy: 0.7444 - val_loss: 1.0377 - val_accuracy: 0.6700\n",
            "Epoch 170/400\n",
            "45/45 [==============================] - 0s 3ms/step - loss: 0.7389 - accuracy: 0.7344 - val_loss: 1.0319 - val_accuracy: 0.6700\n",
            "Epoch 171/400\n",
            "45/45 [==============================] - 0s 3ms/step - loss: 0.7222 - accuracy: 0.7378 - val_loss: 1.0202 - val_accuracy: 0.6600\n",
            "Epoch 172/400\n",
            "45/45 [==============================] - 0s 4ms/step - loss: 0.6807 - accuracy: 0.7600 - val_loss: 1.0381 - val_accuracy: 0.6700\n",
            "Epoch 173/400\n",
            "45/45 [==============================] - 0s 3ms/step - loss: 0.7004 - accuracy: 0.7500 - val_loss: 1.0231 - val_accuracy: 0.6500\n",
            "Epoch 174/400\n",
            "45/45 [==============================] - 0s 3ms/step - loss: 0.7115 - accuracy: 0.7489 - val_loss: 1.0176 - val_accuracy: 0.6500\n",
            "Epoch 175/400\n",
            "45/45 [==============================] - 0s 3ms/step - loss: 0.6884 - accuracy: 0.7589 - val_loss: 1.0461 - val_accuracy: 0.6800\n",
            "Epoch 176/400\n",
            "45/45 [==============================] - 0s 3ms/step - loss: 0.7263 - accuracy: 0.7500 - val_loss: 1.0430 - val_accuracy: 0.6900\n",
            "Epoch 177/400\n",
            "45/45 [==============================] - 0s 3ms/step - loss: 0.6937 - accuracy: 0.7400 - val_loss: 1.0550 - val_accuracy: 0.6700\n",
            "Epoch 178/400\n",
            "45/45 [==============================] - 0s 3ms/step - loss: 0.6716 - accuracy: 0.7633 - val_loss: 1.0594 - val_accuracy: 0.6500\n",
            "Epoch 179/400\n",
            "45/45 [==============================] - 0s 3ms/step - loss: 0.6858 - accuracy: 0.7833 - val_loss: 1.0552 - val_accuracy: 0.6500\n",
            "Epoch 180/400\n",
            "45/45 [==============================] - 0s 3ms/step - loss: 0.6930 - accuracy: 0.7433 - val_loss: 1.0502 - val_accuracy: 0.6700\n",
            "Epoch 181/400\n",
            "45/45 [==============================] - 0s 3ms/step - loss: 0.6771 - accuracy: 0.7533 - val_loss: 1.0497 - val_accuracy: 0.6600\n",
            "Epoch 182/400\n",
            "45/45 [==============================] - 0s 3ms/step - loss: 0.7075 - accuracy: 0.7389 - val_loss: 1.0408 - val_accuracy: 0.6500\n",
            "Epoch 183/400\n",
            "45/45 [==============================] - 0s 3ms/step - loss: 0.6969 - accuracy: 0.7622 - val_loss: 1.0513 - val_accuracy: 0.6700\n",
            "Epoch 184/400\n",
            "45/45 [==============================] - 0s 3ms/step - loss: 0.6942 - accuracy: 0.7500 - val_loss: 1.0549 - val_accuracy: 0.6600\n",
            "Epoch 185/400\n",
            "45/45 [==============================] - 0s 3ms/step - loss: 0.6754 - accuracy: 0.7633 - val_loss: 1.0660 - val_accuracy: 0.6700\n",
            "Epoch 186/400\n",
            "45/45 [==============================] - 0s 3ms/step - loss: 0.7097 - accuracy: 0.7333 - val_loss: 1.0316 - val_accuracy: 0.6800\n",
            "Epoch 187/400\n",
            "45/45 [==============================] - 0s 3ms/step - loss: 0.7118 - accuracy: 0.7489 - val_loss: 1.0725 - val_accuracy: 0.6800\n",
            "Epoch 188/400\n",
            "45/45 [==============================] - 0s 3ms/step - loss: 0.7142 - accuracy: 0.7511 - val_loss: 1.0559 - val_accuracy: 0.7000\n",
            "Epoch 189/400\n",
            "45/45 [==============================] - 0s 3ms/step - loss: 0.6687 - accuracy: 0.7411 - val_loss: 1.0337 - val_accuracy: 0.6900\n",
            "Epoch 190/400\n",
            "45/45 [==============================] - 0s 3ms/step - loss: 0.6901 - accuracy: 0.7389 - val_loss: 1.0340 - val_accuracy: 0.6800\n",
            "Epoch 191/400\n",
            "45/45 [==============================] - 0s 3ms/step - loss: 0.6776 - accuracy: 0.7656 - val_loss: 1.0323 - val_accuracy: 0.6900\n",
            "Epoch 192/400\n",
            "45/45 [==============================] - 0s 3ms/step - loss: 0.6821 - accuracy: 0.7722 - val_loss: 1.0413 - val_accuracy: 0.6900\n",
            "Epoch 193/400\n",
            "45/45 [==============================] - 0s 3ms/step - loss: 0.6661 - accuracy: 0.7556 - val_loss: 1.0403 - val_accuracy: 0.6700\n",
            "Epoch 194/400\n",
            "45/45 [==============================] - 0s 3ms/step - loss: 0.6734 - accuracy: 0.7689 - val_loss: 1.0548 - val_accuracy: 0.6900\n",
            "Epoch 195/400\n",
            "45/45 [==============================] - 0s 3ms/step - loss: 0.6833 - accuracy: 0.7422 - val_loss: 1.0761 - val_accuracy: 0.6600\n",
            "Epoch 196/400\n",
            "45/45 [==============================] - 0s 3ms/step - loss: 0.6695 - accuracy: 0.7656 - val_loss: 1.0582 - val_accuracy: 0.6800\n",
            "Epoch 197/400\n",
            "45/45 [==============================] - 0s 3ms/step - loss: 0.6683 - accuracy: 0.7700 - val_loss: 1.0589 - val_accuracy: 0.7000\n",
            "Epoch 198/400\n",
            "45/45 [==============================] - 0s 3ms/step - loss: 0.6589 - accuracy: 0.7511 - val_loss: 1.0477 - val_accuracy: 0.6700\n",
            "Epoch 199/400\n",
            "45/45 [==============================] - 0s 3ms/step - loss: 0.6640 - accuracy: 0.7711 - val_loss: 1.0704 - val_accuracy: 0.6700\n",
            "Epoch 200/400\n",
            "45/45 [==============================] - 0s 3ms/step - loss: 0.6532 - accuracy: 0.7722 - val_loss: 1.0842 - val_accuracy: 0.6700\n",
            "Epoch 201/400\n",
            "45/45 [==============================] - 0s 3ms/step - loss: 0.6595 - accuracy: 0.7667 - val_loss: 1.0778 - val_accuracy: 0.6700\n",
            "Epoch 202/400\n",
            "45/45 [==============================] - 0s 3ms/step - loss: 0.6519 - accuracy: 0.7678 - val_loss: 1.0718 - val_accuracy: 0.6700\n",
            "Epoch 203/400\n",
            "45/45 [==============================] - 0s 3ms/step - loss: 0.6507 - accuracy: 0.7656 - val_loss: 1.0651 - val_accuracy: 0.7200\n",
            "Epoch 204/400\n",
            "45/45 [==============================] - 0s 3ms/step - loss: 0.6824 - accuracy: 0.7578 - val_loss: 1.0789 - val_accuracy: 0.7100\n",
            "Epoch 205/400\n",
            "45/45 [==============================] - 0s 3ms/step - loss: 0.6846 - accuracy: 0.7622 - val_loss: 1.0532 - val_accuracy: 0.7100\n",
            "Epoch 206/400\n",
            "45/45 [==============================] - 0s 3ms/step - loss: 0.6379 - accuracy: 0.7589 - val_loss: 1.0589 - val_accuracy: 0.6900\n",
            "Epoch 207/400\n",
            "45/45 [==============================] - 0s 3ms/step - loss: 0.6542 - accuracy: 0.7722 - val_loss: 1.0469 - val_accuracy: 0.7200\n",
            "Epoch 208/400\n",
            "45/45 [==============================] - 0s 3ms/step - loss: 0.6624 - accuracy: 0.7622 - val_loss: 1.0442 - val_accuracy: 0.7100\n",
            "Epoch 209/400\n",
            "45/45 [==============================] - 0s 4ms/step - loss: 0.6427 - accuracy: 0.7756 - val_loss: 1.0461 - val_accuracy: 0.7100\n",
            "Epoch 210/400\n",
            "45/45 [==============================] - 0s 4ms/step - loss: 0.6190 - accuracy: 0.7778 - val_loss: 1.0371 - val_accuracy: 0.7200\n",
            "Epoch 211/400\n",
            "45/45 [==============================] - 0s 4ms/step - loss: 0.6432 - accuracy: 0.7722 - val_loss: 1.0497 - val_accuracy: 0.6800\n",
            "Epoch 212/400\n",
            "45/45 [==============================] - 0s 4ms/step - loss: 0.6337 - accuracy: 0.7722 - val_loss: 1.0406 - val_accuracy: 0.6900\n",
            "Epoch 213/400\n",
            "45/45 [==============================] - 0s 3ms/step - loss: 0.6516 - accuracy: 0.7700 - val_loss: 1.0410 - val_accuracy: 0.7000\n",
            "Epoch 214/400\n",
            "45/45 [==============================] - 0s 3ms/step - loss: 0.6495 - accuracy: 0.7567 - val_loss: 1.0533 - val_accuracy: 0.6900\n",
            "Epoch 215/400\n",
            "45/45 [==============================] - 0s 3ms/step - loss: 0.6259 - accuracy: 0.7878 - val_loss: 1.0294 - val_accuracy: 0.7300\n",
            "Epoch 216/400\n",
            "45/45 [==============================] - 0s 3ms/step - loss: 0.6295 - accuracy: 0.7678 - val_loss: 1.0327 - val_accuracy: 0.7200\n",
            "Epoch 217/400\n",
            "45/45 [==============================] - 0s 3ms/step - loss: 0.6105 - accuracy: 0.7856 - val_loss: 1.0284 - val_accuracy: 0.7000\n",
            "Epoch 218/400\n",
            "45/45 [==============================] - 0s 3ms/step - loss: 0.6297 - accuracy: 0.7678 - val_loss: 1.0696 - val_accuracy: 0.6800\n",
            "Epoch 219/400\n",
            "45/45 [==============================] - 0s 3ms/step - loss: 0.5966 - accuracy: 0.7944 - val_loss: 1.0631 - val_accuracy: 0.7200\n",
            "Epoch 220/400\n",
            "45/45 [==============================] - 0s 3ms/step - loss: 0.6194 - accuracy: 0.7878 - val_loss: 1.0474 - val_accuracy: 0.7100\n",
            "Epoch 221/400\n",
            "45/45 [==============================] - 0s 3ms/step - loss: 0.6207 - accuracy: 0.7822 - val_loss: 1.0396 - val_accuracy: 0.7200\n",
            "Epoch 222/400\n",
            "45/45 [==============================] - 0s 3ms/step - loss: 0.6096 - accuracy: 0.7822 - val_loss: 1.0395 - val_accuracy: 0.7200\n",
            "Epoch 223/400\n",
            "45/45 [==============================] - 0s 3ms/step - loss: 0.6215 - accuracy: 0.7722 - val_loss: 1.0598 - val_accuracy: 0.7300\n",
            "Epoch 224/400\n",
            "45/45 [==============================] - 0s 3ms/step - loss: 0.5993 - accuracy: 0.7789 - val_loss: 1.0466 - val_accuracy: 0.7000\n",
            "Epoch 225/400\n",
            "45/45 [==============================] - 0s 3ms/step - loss: 0.6192 - accuracy: 0.7944 - val_loss: 1.0532 - val_accuracy: 0.6800\n",
            "Epoch 226/400\n",
            "45/45 [==============================] - 0s 3ms/step - loss: 0.5989 - accuracy: 0.7811 - val_loss: 1.0507 - val_accuracy: 0.7000\n",
            "Epoch 227/400\n",
            "45/45 [==============================] - 0s 3ms/step - loss: 0.6288 - accuracy: 0.7722 - val_loss: 1.0402 - val_accuracy: 0.7200\n",
            "Epoch 228/400\n",
            "45/45 [==============================] - 0s 3ms/step - loss: 0.5867 - accuracy: 0.7956 - val_loss: 1.0432 - val_accuracy: 0.7100\n",
            "Epoch 229/400\n",
            "45/45 [==============================] - 0s 3ms/step - loss: 0.5868 - accuracy: 0.7811 - val_loss: 1.0370 - val_accuracy: 0.7000\n",
            "Epoch 230/400\n",
            "45/45 [==============================] - 0s 3ms/step - loss: 0.6137 - accuracy: 0.7778 - val_loss: 1.0582 - val_accuracy: 0.7100\n",
            "Epoch 231/400\n",
            "45/45 [==============================] - 0s 3ms/step - loss: 0.5999 - accuracy: 0.7800 - val_loss: 1.0508 - val_accuracy: 0.7100\n",
            "Epoch 232/400\n",
            "45/45 [==============================] - 0s 3ms/step - loss: 0.5774 - accuracy: 0.7922 - val_loss: 1.0306 - val_accuracy: 0.7200\n",
            "Epoch 233/400\n",
            "45/45 [==============================] - 0s 3ms/step - loss: 0.5649 - accuracy: 0.7967 - val_loss: 1.0511 - val_accuracy: 0.7200\n",
            "Epoch 234/400\n",
            "45/45 [==============================] - 0s 3ms/step - loss: 0.6136 - accuracy: 0.7856 - val_loss: 1.0233 - val_accuracy: 0.7200\n",
            "Epoch 235/400\n",
            "45/45 [==============================] - 0s 3ms/step - loss: 0.6124 - accuracy: 0.7889 - val_loss: 1.0369 - val_accuracy: 0.6800\n",
            "Epoch 236/400\n",
            "45/45 [==============================] - 0s 3ms/step - loss: 0.5905 - accuracy: 0.7978 - val_loss: 1.0225 - val_accuracy: 0.7200\n",
            "Epoch 237/400\n",
            "45/45 [==============================] - 0s 3ms/step - loss: 0.5957 - accuracy: 0.7767 - val_loss: 1.0324 - val_accuracy: 0.7000\n",
            "Epoch 238/400\n",
            "45/45 [==============================] - 0s 3ms/step - loss: 0.5834 - accuracy: 0.8011 - val_loss: 1.0360 - val_accuracy: 0.7000\n",
            "Epoch 239/400\n",
            "45/45 [==============================] - 0s 3ms/step - loss: 0.5671 - accuracy: 0.7944 - val_loss: 1.0491 - val_accuracy: 0.7100\n",
            "Epoch 240/400\n",
            "45/45 [==============================] - 0s 3ms/step - loss: 0.5860 - accuracy: 0.7944 - val_loss: 1.0505 - val_accuracy: 0.7200\n",
            "Epoch 241/400\n",
            "45/45 [==============================] - 0s 3ms/step - loss: 0.6078 - accuracy: 0.7856 - val_loss: 1.0453 - val_accuracy: 0.7200\n",
            "Epoch 242/400\n",
            "45/45 [==============================] - 0s 3ms/step - loss: 0.5285 - accuracy: 0.8144 - val_loss: 1.0447 - val_accuracy: 0.7000\n",
            "Epoch 243/400\n",
            "45/45 [==============================] - 0s 4ms/step - loss: 0.6082 - accuracy: 0.7856 - val_loss: 1.0424 - val_accuracy: 0.7100\n",
            "Epoch 244/400\n",
            "45/45 [==============================] - 0s 3ms/step - loss: 0.5637 - accuracy: 0.7967 - val_loss: 1.0474 - val_accuracy: 0.7100\n",
            "Epoch 245/400\n",
            "45/45 [==============================] - 0s 4ms/step - loss: 0.5556 - accuracy: 0.8122 - val_loss: 1.0741 - val_accuracy: 0.6800\n",
            "Epoch 246/400\n",
            "45/45 [==============================] - 0s 3ms/step - loss: 0.5637 - accuracy: 0.7878 - val_loss: 1.0461 - val_accuracy: 0.7000\n",
            "Epoch 247/400\n",
            "45/45 [==============================] - 0s 3ms/step - loss: 0.5316 - accuracy: 0.8144 - val_loss: 1.0644 - val_accuracy: 0.7200\n",
            "Epoch 248/400\n",
            "45/45 [==============================] - 0s 3ms/step - loss: 0.5732 - accuracy: 0.7867 - val_loss: 1.0610 - val_accuracy: 0.7100\n",
            "Epoch 249/400\n",
            "45/45 [==============================] - 0s 3ms/step - loss: 0.5535 - accuracy: 0.8133 - val_loss: 1.0423 - val_accuracy: 0.7300\n",
            "Epoch 250/400\n",
            "45/45 [==============================] - 0s 3ms/step - loss: 0.5590 - accuracy: 0.7956 - val_loss: 1.0551 - val_accuracy: 0.7300\n",
            "Epoch 251/400\n",
            "45/45 [==============================] - 0s 3ms/step - loss: 0.5435 - accuracy: 0.8156 - val_loss: 1.0284 - val_accuracy: 0.7300\n",
            "Epoch 252/400\n",
            "45/45 [==============================] - 0s 3ms/step - loss: 0.5438 - accuracy: 0.8189 - val_loss: 1.0363 - val_accuracy: 0.7400\n",
            "Epoch 253/400\n",
            "45/45 [==============================] - 0s 3ms/step - loss: 0.5144 - accuracy: 0.8156 - val_loss: 1.0694 - val_accuracy: 0.7300\n",
            "Epoch 254/400\n",
            "45/45 [==============================] - 0s 3ms/step - loss: 0.5609 - accuracy: 0.7867 - val_loss: 1.0545 - val_accuracy: 0.7400\n",
            "Epoch 255/400\n",
            "45/45 [==============================] - 0s 3ms/step - loss: 0.5555 - accuracy: 0.7922 - val_loss: 1.0593 - val_accuracy: 0.7300\n",
            "Epoch 256/400\n",
            "45/45 [==============================] - 0s 3ms/step - loss: 0.5414 - accuracy: 0.8133 - val_loss: 1.0579 - val_accuracy: 0.7200\n",
            "Epoch 257/400\n",
            "45/45 [==============================] - 0s 3ms/step - loss: 0.5710 - accuracy: 0.7911 - val_loss: 1.0299 - val_accuracy: 0.7100\n",
            "Epoch 258/400\n",
            "45/45 [==============================] - 0s 3ms/step - loss: 0.5097 - accuracy: 0.8233 - val_loss: 1.0279 - val_accuracy: 0.7100\n",
            "Epoch 259/400\n",
            "45/45 [==============================] - 0s 3ms/step - loss: 0.5378 - accuracy: 0.8033 - val_loss: 1.0452 - val_accuracy: 0.7300\n",
            "Epoch 260/400\n",
            "45/45 [==============================] - 0s 3ms/step - loss: 0.5531 - accuracy: 0.8189 - val_loss: 1.0486 - val_accuracy: 0.7200\n",
            "Epoch 261/400\n",
            "45/45 [==============================] - 0s 3ms/step - loss: 0.5490 - accuracy: 0.8022 - val_loss: 1.0628 - val_accuracy: 0.7200\n",
            "Epoch 262/400\n",
            "45/45 [==============================] - 0s 3ms/step - loss: 0.5447 - accuracy: 0.7922 - val_loss: 1.0739 - val_accuracy: 0.7300\n",
            "Epoch 263/400\n",
            "45/45 [==============================] - 0s 3ms/step - loss: 0.5528 - accuracy: 0.7967 - val_loss: 1.0427 - val_accuracy: 0.7100\n",
            "Epoch 264/400\n",
            "45/45 [==============================] - 0s 3ms/step - loss: 0.5658 - accuracy: 0.7867 - val_loss: 1.0839 - val_accuracy: 0.7200\n",
            "Epoch 265/400\n",
            "45/45 [==============================] - 0s 3ms/step - loss: 0.5401 - accuracy: 0.8067 - val_loss: 1.0673 - val_accuracy: 0.7100\n",
            "Epoch 266/400\n",
            "45/45 [==============================] - 0s 3ms/step - loss: 0.5495 - accuracy: 0.8011 - val_loss: 1.0562 - val_accuracy: 0.7200\n",
            "Epoch 267/400\n",
            "45/45 [==============================] - 0s 3ms/step - loss: 0.5317 - accuracy: 0.8244 - val_loss: 1.0526 - val_accuracy: 0.7400\n",
            "Epoch 268/400\n",
            "45/45 [==============================] - 0s 3ms/step - loss: 0.5446 - accuracy: 0.8111 - val_loss: 1.0411 - val_accuracy: 0.7300\n",
            "Epoch 269/400\n",
            "45/45 [==============================] - 0s 3ms/step - loss: 0.4702 - accuracy: 0.8467 - val_loss: 1.0533 - val_accuracy: 0.7200\n",
            "Epoch 270/400\n",
            "45/45 [==============================] - 0s 3ms/step - loss: 0.5457 - accuracy: 0.8011 - val_loss: 1.0488 - val_accuracy: 0.7200\n",
            "Epoch 271/400\n",
            "45/45 [==============================] - 0s 3ms/step - loss: 0.5410 - accuracy: 0.8078 - val_loss: 1.0536 - val_accuracy: 0.7200\n",
            "Epoch 272/400\n",
            "45/45 [==============================] - 0s 3ms/step - loss: 0.4837 - accuracy: 0.8278 - val_loss: 1.0787 - val_accuracy: 0.7200\n",
            "Epoch 273/400\n",
            "45/45 [==============================] - 0s 3ms/step - loss: 0.5106 - accuracy: 0.8167 - val_loss: 1.0648 - val_accuracy: 0.7300\n",
            "Epoch 274/400\n",
            "45/45 [==============================] - 0s 3ms/step - loss: 0.5483 - accuracy: 0.7956 - val_loss: 1.0454 - val_accuracy: 0.7200\n",
            "Epoch 275/400\n",
            "45/45 [==============================] - 0s 3ms/step - loss: 0.5038 - accuracy: 0.8178 - val_loss: 1.0413 - val_accuracy: 0.7200\n",
            "Epoch 276/400\n",
            "45/45 [==============================] - 0s 3ms/step - loss: 0.5067 - accuracy: 0.8189 - val_loss: 1.0309 - val_accuracy: 0.7300\n",
            "Epoch 277/400\n",
            "45/45 [==============================] - 0s 3ms/step - loss: 0.5654 - accuracy: 0.8022 - val_loss: 1.0328 - val_accuracy: 0.7200\n",
            "Epoch 278/400\n",
            "45/45 [==============================] - 0s 3ms/step - loss: 0.5629 - accuracy: 0.8067 - val_loss: 1.0474 - val_accuracy: 0.7300\n",
            "Epoch 279/400\n",
            "45/45 [==============================] - 0s 4ms/step - loss: 0.5123 - accuracy: 0.8178 - val_loss: 1.0468 - val_accuracy: 0.7200\n",
            "Epoch 280/400\n",
            "45/45 [==============================] - 0s 4ms/step - loss: 0.5020 - accuracy: 0.8200 - val_loss: 1.0719 - val_accuracy: 0.7100\n",
            "Epoch 281/400\n",
            "45/45 [==============================] - 0s 4ms/step - loss: 0.5347 - accuracy: 0.7989 - val_loss: 1.0739 - val_accuracy: 0.7200\n",
            "Epoch 282/400\n",
            "45/45 [==============================] - 0s 4ms/step - loss: 0.5066 - accuracy: 0.8122 - val_loss: 1.0476 - val_accuracy: 0.7200\n",
            "Epoch 283/400\n",
            "45/45 [==============================] - 0s 4ms/step - loss: 0.4911 - accuracy: 0.8222 - val_loss: 1.0941 - val_accuracy: 0.7200\n",
            "Epoch 284/400\n",
            "45/45 [==============================] - 0s 4ms/step - loss: 0.5157 - accuracy: 0.8133 - val_loss: 1.0708 - val_accuracy: 0.7200\n",
            "Epoch 285/400\n",
            "45/45 [==============================] - 0s 3ms/step - loss: 0.4674 - accuracy: 0.8267 - val_loss: 1.0675 - val_accuracy: 0.7300\n",
            "Epoch 286/400\n",
            "45/45 [==============================] - 0s 4ms/step - loss: 0.5261 - accuracy: 0.8200 - val_loss: 1.0836 - val_accuracy: 0.7200\n",
            "Epoch 287/400\n",
            "45/45 [==============================] - 0s 3ms/step - loss: 0.4770 - accuracy: 0.8289 - val_loss: 1.0613 - val_accuracy: 0.7300\n",
            "Epoch 288/400\n",
            "45/45 [==============================] - 0s 3ms/step - loss: 0.5028 - accuracy: 0.8144 - val_loss: 1.0820 - val_accuracy: 0.7200\n",
            "Epoch 289/400\n",
            "45/45 [==============================] - 0s 3ms/step - loss: 0.4798 - accuracy: 0.8256 - val_loss: 1.0873 - val_accuracy: 0.7200\n",
            "Epoch 290/400\n",
            "45/45 [==============================] - 0s 3ms/step - loss: 0.4750 - accuracy: 0.8178 - val_loss: 1.0823 - val_accuracy: 0.7300\n",
            "Epoch 291/400\n",
            "45/45 [==============================] - 0s 3ms/step - loss: 0.4822 - accuracy: 0.8267 - val_loss: 1.0672 - val_accuracy: 0.7200\n",
            "Epoch 292/400\n",
            "45/45 [==============================] - 0s 3ms/step - loss: 0.4772 - accuracy: 0.8244 - val_loss: 1.0740 - val_accuracy: 0.7100\n",
            "Epoch 293/400\n",
            "45/45 [==============================] - 0s 3ms/step - loss: 0.4889 - accuracy: 0.8156 - val_loss: 1.0747 - val_accuracy: 0.7000\n",
            "Epoch 294/400\n",
            "45/45 [==============================] - 0s 3ms/step - loss: 0.5072 - accuracy: 0.8200 - val_loss: 1.0906 - val_accuracy: 0.7100\n",
            "Epoch 295/400\n",
            "45/45 [==============================] - 0s 3ms/step - loss: 0.4638 - accuracy: 0.8411 - val_loss: 1.0930 - val_accuracy: 0.7200\n",
            "Epoch 296/400\n",
            "45/45 [==============================] - 0s 3ms/step - loss: 0.4833 - accuracy: 0.8311 - val_loss: 1.0816 - val_accuracy: 0.7200\n",
            "Epoch 297/400\n",
            "45/45 [==============================] - 0s 3ms/step - loss: 0.4768 - accuracy: 0.8322 - val_loss: 1.0815 - val_accuracy: 0.7100\n",
            "Epoch 298/400\n",
            "45/45 [==============================] - 0s 4ms/step - loss: 0.4610 - accuracy: 0.8378 - val_loss: 1.0493 - val_accuracy: 0.7000\n",
            "Epoch 299/400\n",
            "45/45 [==============================] - 0s 3ms/step - loss: 0.4719 - accuracy: 0.8311 - val_loss: 1.0602 - val_accuracy: 0.7200\n",
            "Epoch 300/400\n",
            "45/45 [==============================] - 0s 4ms/step - loss: 0.4785 - accuracy: 0.8311 - val_loss: 1.0647 - val_accuracy: 0.7200\n",
            "Epoch 301/400\n",
            "45/45 [==============================] - 0s 3ms/step - loss: 0.4751 - accuracy: 0.8267 - val_loss: 1.0750 - val_accuracy: 0.7200\n",
            "Epoch 302/400\n",
            "45/45 [==============================] - 0s 3ms/step - loss: 0.4569 - accuracy: 0.8411 - val_loss: 1.0851 - val_accuracy: 0.7200\n",
            "Epoch 303/400\n",
            "45/45 [==============================] - 0s 3ms/step - loss: 0.4764 - accuracy: 0.8200 - val_loss: 1.0802 - val_accuracy: 0.7200\n",
            "Epoch 304/400\n",
            "45/45 [==============================] - 0s 3ms/step - loss: 0.4581 - accuracy: 0.8344 - val_loss: 1.0691 - val_accuracy: 0.7200\n",
            "Epoch 305/400\n",
            "45/45 [==============================] - 0s 3ms/step - loss: 0.4392 - accuracy: 0.8356 - val_loss: 1.0780 - val_accuracy: 0.7200\n",
            "Epoch 306/400\n",
            "45/45 [==============================] - 0s 3ms/step - loss: 0.4492 - accuracy: 0.8322 - val_loss: 1.0752 - val_accuracy: 0.7200\n",
            "Epoch 307/400\n",
            "45/45 [==============================] - 0s 3ms/step - loss: 0.4926 - accuracy: 0.8200 - val_loss: 1.0812 - val_accuracy: 0.7200\n",
            "Epoch 308/400\n",
            "45/45 [==============================] - 0s 3ms/step - loss: 0.4275 - accuracy: 0.8556 - val_loss: 1.0699 - val_accuracy: 0.7100\n",
            "Epoch 309/400\n",
            "45/45 [==============================] - 0s 3ms/step - loss: 0.4958 - accuracy: 0.8200 - val_loss: 1.0734 - val_accuracy: 0.7100\n",
            "Epoch 310/400\n",
            "45/45 [==============================] - 0s 3ms/step - loss: 0.4321 - accuracy: 0.8467 - val_loss: 1.1000 - val_accuracy: 0.7200\n",
            "Epoch 311/400\n",
            "45/45 [==============================] - 0s 3ms/step - loss: 0.4235 - accuracy: 0.8356 - val_loss: 1.1050 - val_accuracy: 0.7100\n",
            "Epoch 312/400\n",
            "45/45 [==============================] - 0s 3ms/step - loss: 0.4390 - accuracy: 0.8444 - val_loss: 1.0992 - val_accuracy: 0.7200\n",
            "Epoch 313/400\n",
            "45/45 [==============================] - 0s 3ms/step - loss: 0.4552 - accuracy: 0.8367 - val_loss: 1.1013 - val_accuracy: 0.7300\n",
            "Epoch 314/400\n",
            "45/45 [==============================] - 0s 3ms/step - loss: 0.4103 - accuracy: 0.8600 - val_loss: 1.1095 - val_accuracy: 0.7300\n",
            "Epoch 315/400\n",
            "45/45 [==============================] - 0s 3ms/step - loss: 0.4831 - accuracy: 0.8256 - val_loss: 1.1001 - val_accuracy: 0.7200\n",
            "Epoch 316/400\n",
            "45/45 [==============================] - 0s 3ms/step - loss: 0.4554 - accuracy: 0.8411 - val_loss: 1.0861 - val_accuracy: 0.7200\n",
            "Epoch 317/400\n",
            "45/45 [==============================] - 0s 3ms/step - loss: 0.4457 - accuracy: 0.8400 - val_loss: 1.0739 - val_accuracy: 0.7200\n",
            "Epoch 318/400\n",
            "45/45 [==============================] - 0s 3ms/step - loss: 0.4681 - accuracy: 0.8333 - val_loss: 1.0531 - val_accuracy: 0.7200\n",
            "Epoch 319/400\n",
            "45/45 [==============================] - 0s 3ms/step - loss: 0.4340 - accuracy: 0.8444 - val_loss: 1.0592 - val_accuracy: 0.7100\n",
            "Epoch 320/400\n",
            "45/45 [==============================] - 0s 3ms/step - loss: 0.4237 - accuracy: 0.8522 - val_loss: 1.0575 - val_accuracy: 0.7200\n",
            "Epoch 321/400\n",
            "45/45 [==============================] - 0s 3ms/step - loss: 0.4282 - accuracy: 0.8533 - val_loss: 1.0645 - val_accuracy: 0.7100\n",
            "Epoch 322/400\n",
            "45/45 [==============================] - 0s 3ms/step - loss: 0.4444 - accuracy: 0.8278 - val_loss: 1.1150 - val_accuracy: 0.7100\n",
            "Epoch 323/400\n",
            "45/45 [==============================] - 0s 3ms/step - loss: 0.4642 - accuracy: 0.8278 - val_loss: 1.1469 - val_accuracy: 0.6800\n",
            "Epoch 324/400\n",
            "45/45 [==============================] - 0s 3ms/step - loss: 0.4462 - accuracy: 0.8422 - val_loss: 1.1090 - val_accuracy: 0.6900\n",
            "Epoch 325/400\n",
            "45/45 [==============================] - 0s 3ms/step - loss: 0.4158 - accuracy: 0.8500 - val_loss: 1.1200 - val_accuracy: 0.7000\n",
            "Epoch 326/400\n",
            "45/45 [==============================] - 0s 3ms/step - loss: 0.4180 - accuracy: 0.8567 - val_loss: 1.0873 - val_accuracy: 0.6900\n",
            "Epoch 327/400\n",
            "45/45 [==============================] - 0s 3ms/step - loss: 0.4324 - accuracy: 0.8444 - val_loss: 1.0800 - val_accuracy: 0.7000\n",
            "Epoch 328/400\n",
            "45/45 [==============================] - 0s 4ms/step - loss: 0.4209 - accuracy: 0.8378 - val_loss: 1.0791 - val_accuracy: 0.7000\n",
            "Epoch 329/400\n",
            "45/45 [==============================] - 0s 4ms/step - loss: 0.4238 - accuracy: 0.8589 - val_loss: 1.0964 - val_accuracy: 0.7000\n",
            "Epoch 330/400\n",
            "45/45 [==============================] - 0s 4ms/step - loss: 0.4327 - accuracy: 0.8411 - val_loss: 1.1060 - val_accuracy: 0.7100\n",
            "Epoch 331/400\n",
            "45/45 [==============================] - 0s 4ms/step - loss: 0.4529 - accuracy: 0.8322 - val_loss: 1.1153 - val_accuracy: 0.7000\n",
            "Epoch 332/400\n",
            "45/45 [==============================] - 0s 3ms/step - loss: 0.4405 - accuracy: 0.8322 - val_loss: 1.1122 - val_accuracy: 0.7200\n",
            "Epoch 333/400\n",
            "45/45 [==============================] - 0s 3ms/step - loss: 0.4657 - accuracy: 0.8422 - val_loss: 1.1104 - val_accuracy: 0.7000\n",
            "Epoch 334/400\n",
            "45/45 [==============================] - 0s 3ms/step - loss: 0.4394 - accuracy: 0.8444 - val_loss: 1.1447 - val_accuracy: 0.7100\n",
            "Epoch 335/400\n",
            "45/45 [==============================] - 0s 3ms/step - loss: 0.4007 - accuracy: 0.8556 - val_loss: 1.1239 - val_accuracy: 0.7100\n",
            "Epoch 336/400\n",
            "45/45 [==============================] - 0s 3ms/step - loss: 0.4100 - accuracy: 0.8511 - val_loss: 1.1131 - val_accuracy: 0.7400\n",
            "Epoch 337/400\n",
            "45/45 [==============================] - 0s 4ms/step - loss: 0.4073 - accuracy: 0.8556 - val_loss: 1.1076 - val_accuracy: 0.7500\n",
            "Epoch 338/400\n",
            "45/45 [==============================] - 0s 4ms/step - loss: 0.4188 - accuracy: 0.8533 - val_loss: 1.1190 - val_accuracy: 0.7200\n",
            "Epoch 339/400\n",
            "45/45 [==============================] - 0s 4ms/step - loss: 0.4079 - accuracy: 0.8578 - val_loss: 1.1111 - val_accuracy: 0.7000\n",
            "Epoch 340/400\n",
            "45/45 [==============================] - 0s 3ms/step - loss: 0.3944 - accuracy: 0.8556 - val_loss: 1.1044 - val_accuracy: 0.7100\n",
            "Epoch 341/400\n",
            "45/45 [==============================] - 0s 4ms/step - loss: 0.4126 - accuracy: 0.8467 - val_loss: 1.1239 - val_accuracy: 0.7100\n",
            "Epoch 342/400\n",
            "45/45 [==============================] - 0s 3ms/step - loss: 0.4260 - accuracy: 0.8433 - val_loss: 1.1256 - val_accuracy: 0.7200\n",
            "Epoch 343/400\n",
            "45/45 [==============================] - 0s 3ms/step - loss: 0.4318 - accuracy: 0.8444 - val_loss: 1.1116 - val_accuracy: 0.7100\n",
            "Epoch 344/400\n",
            "45/45 [==============================] - 0s 3ms/step - loss: 0.4234 - accuracy: 0.8589 - val_loss: 1.0957 - val_accuracy: 0.7000\n",
            "Epoch 345/400\n",
            "45/45 [==============================] - 0s 3ms/step - loss: 0.4416 - accuracy: 0.8311 - val_loss: 1.1426 - val_accuracy: 0.7100\n",
            "Epoch 346/400\n",
            "45/45 [==============================] - 0s 3ms/step - loss: 0.4445 - accuracy: 0.8444 - val_loss: 1.1090 - val_accuracy: 0.7200\n",
            "Epoch 347/400\n",
            "45/45 [==============================] - 0s 3ms/step - loss: 0.3864 - accuracy: 0.8589 - val_loss: 1.1299 - val_accuracy: 0.7100\n",
            "Epoch 348/400\n",
            "45/45 [==============================] - 0s 3ms/step - loss: 0.3869 - accuracy: 0.8689 - val_loss: 1.1141 - val_accuracy: 0.7100\n",
            "Epoch 349/400\n",
            "45/45 [==============================] - 0s 3ms/step - loss: 0.3800 - accuracy: 0.8533 - val_loss: 1.1331 - val_accuracy: 0.7100\n",
            "Epoch 350/400\n",
            "45/45 [==============================] - 0s 3ms/step - loss: 0.3883 - accuracy: 0.8633 - val_loss: 1.1230 - val_accuracy: 0.7000\n",
            "Epoch 351/400\n",
            "45/45 [==============================] - 0s 4ms/step - loss: 0.3998 - accuracy: 0.8611 - val_loss: 1.1288 - val_accuracy: 0.7200\n",
            "Epoch 352/400\n",
            "45/45 [==============================] - 0s 3ms/step - loss: 0.3803 - accuracy: 0.8667 - val_loss: 1.1361 - val_accuracy: 0.7200\n",
            "Epoch 353/400\n",
            "45/45 [==============================] - 0s 3ms/step - loss: 0.3871 - accuracy: 0.8611 - val_loss: 1.1207 - val_accuracy: 0.7100\n",
            "Epoch 354/400\n",
            "45/45 [==============================] - 0s 3ms/step - loss: 0.4040 - accuracy: 0.8567 - val_loss: 1.1085 - val_accuracy: 0.7100\n",
            "Epoch 355/400\n",
            "45/45 [==============================] - 0s 3ms/step - loss: 0.3570 - accuracy: 0.8667 - val_loss: 1.1187 - val_accuracy: 0.7300\n",
            "Epoch 356/400\n",
            "45/45 [==============================] - 0s 3ms/step - loss: 0.4141 - accuracy: 0.8567 - val_loss: 1.1031 - val_accuracy: 0.7200\n",
            "Epoch 357/400\n",
            "45/45 [==============================] - 0s 3ms/step - loss: 0.3863 - accuracy: 0.8622 - val_loss: 1.1252 - val_accuracy: 0.7200\n",
            "Epoch 358/400\n",
            "45/45 [==============================] - 0s 3ms/step - loss: 0.3672 - accuracy: 0.8722 - val_loss: 1.1391 - val_accuracy: 0.7100\n",
            "Epoch 359/400\n",
            "45/45 [==============================] - 0s 3ms/step - loss: 0.4075 - accuracy: 0.8589 - val_loss: 1.1198 - val_accuracy: 0.7200\n",
            "Epoch 360/400\n",
            "45/45 [==============================] - 0s 3ms/step - loss: 0.3692 - accuracy: 0.8622 - val_loss: 1.1182 - val_accuracy: 0.7200\n",
            "Epoch 361/400\n",
            "45/45 [==============================] - 0s 3ms/step - loss: 0.3909 - accuracy: 0.8622 - val_loss: 1.1334 - val_accuracy: 0.7100\n",
            "Epoch 362/400\n",
            "45/45 [==============================] - 0s 3ms/step - loss: 0.4125 - accuracy: 0.8478 - val_loss: 1.1610 - val_accuracy: 0.7100\n",
            "Epoch 363/400\n",
            "45/45 [==============================] - 0s 3ms/step - loss: 0.4308 - accuracy: 0.8522 - val_loss: 1.1826 - val_accuracy: 0.7300\n",
            "Epoch 364/400\n",
            "45/45 [==============================] - 0s 3ms/step - loss: 0.3995 - accuracy: 0.8611 - val_loss: 1.1896 - val_accuracy: 0.6900\n",
            "Epoch 365/400\n",
            "45/45 [==============================] - 0s 4ms/step - loss: 0.4068 - accuracy: 0.8556 - val_loss: 1.1692 - val_accuracy: 0.7000\n",
            "Epoch 366/400\n",
            "45/45 [==============================] - 0s 3ms/step - loss: 0.3584 - accuracy: 0.8789 - val_loss: 1.1568 - val_accuracy: 0.7000\n",
            "Epoch 367/400\n",
            "45/45 [==============================] - 0s 3ms/step - loss: 0.3763 - accuracy: 0.8700 - val_loss: 1.1791 - val_accuracy: 0.7000\n",
            "Epoch 368/400\n",
            "45/45 [==============================] - 0s 3ms/step - loss: 0.3870 - accuracy: 0.8656 - val_loss: 1.1658 - val_accuracy: 0.7000\n",
            "Epoch 369/400\n",
            "45/45 [==============================] - 0s 3ms/step - loss: 0.3485 - accuracy: 0.8789 - val_loss: 1.1705 - val_accuracy: 0.7000\n",
            "Epoch 370/400\n",
            "45/45 [==============================] - 0s 3ms/step - loss: 0.3620 - accuracy: 0.8656 - val_loss: 1.1786 - val_accuracy: 0.7000\n",
            "Epoch 371/400\n",
            "45/45 [==============================] - 0s 3ms/step - loss: 0.3698 - accuracy: 0.8589 - val_loss: 1.1446 - val_accuracy: 0.7000\n",
            "Epoch 372/400\n",
            "45/45 [==============================] - 0s 3ms/step - loss: 0.3926 - accuracy: 0.8522 - val_loss: 1.1566 - val_accuracy: 0.7000\n",
            "Epoch 373/400\n",
            "45/45 [==============================] - 0s 3ms/step - loss: 0.3813 - accuracy: 0.8611 - val_loss: 1.1811 - val_accuracy: 0.6700\n",
            "Epoch 374/400\n",
            "45/45 [==============================] - 0s 3ms/step - loss: 0.3720 - accuracy: 0.8711 - val_loss: 1.1752 - val_accuracy: 0.7000\n",
            "Epoch 375/400\n",
            "45/45 [==============================] - 0s 3ms/step - loss: 0.3714 - accuracy: 0.8678 - val_loss: 1.1684 - val_accuracy: 0.6800\n",
            "Epoch 376/400\n",
            "45/45 [==============================] - 0s 4ms/step - loss: 0.3580 - accuracy: 0.8844 - val_loss: 1.1586 - val_accuracy: 0.6900\n",
            "Epoch 377/400\n",
            "45/45 [==============================] - 0s 3ms/step - loss: 0.3568 - accuracy: 0.8611 - val_loss: 1.1629 - val_accuracy: 0.7100\n",
            "Epoch 378/400\n",
            "45/45 [==============================] - 0s 3ms/step - loss: 0.3658 - accuracy: 0.8644 - val_loss: 1.1688 - val_accuracy: 0.7100\n",
            "Epoch 379/400\n",
            "45/45 [==============================] - 0s 3ms/step - loss: 0.3769 - accuracy: 0.8733 - val_loss: 1.1596 - val_accuracy: 0.7000\n",
            "Epoch 380/400\n",
            "45/45 [==============================] - 0s 3ms/step - loss: 0.3932 - accuracy: 0.8511 - val_loss: 1.1855 - val_accuracy: 0.7000\n",
            "Epoch 381/400\n",
            "45/45 [==============================] - 0s 3ms/step - loss: 0.3309 - accuracy: 0.8722 - val_loss: 1.1909 - val_accuracy: 0.7100\n",
            "Epoch 382/400\n",
            "45/45 [==============================] - 0s 3ms/step - loss: 0.3546 - accuracy: 0.8833 - val_loss: 1.1881 - val_accuracy: 0.7000\n",
            "Epoch 383/400\n",
            "45/45 [==============================] - 0s 3ms/step - loss: 0.3771 - accuracy: 0.8544 - val_loss: 1.1350 - val_accuracy: 0.7100\n",
            "Epoch 384/400\n",
            "45/45 [==============================] - 0s 3ms/step - loss: 0.3619 - accuracy: 0.8633 - val_loss: 1.1562 - val_accuracy: 0.6900\n",
            "Epoch 385/400\n",
            "45/45 [==============================] - 0s 3ms/step - loss: 0.3594 - accuracy: 0.8700 - val_loss: 1.1495 - val_accuracy: 0.7100\n",
            "Epoch 386/400\n",
            "45/45 [==============================] - 0s 3ms/step - loss: 0.3639 - accuracy: 0.8656 - val_loss: 1.1708 - val_accuracy: 0.7000\n",
            "Epoch 387/400\n",
            "45/45 [==============================] - 0s 3ms/step - loss: 0.3828 - accuracy: 0.8678 - val_loss: 1.1995 - val_accuracy: 0.6800\n",
            "Epoch 388/400\n",
            "45/45 [==============================] - 0s 3ms/step - loss: 0.3604 - accuracy: 0.8667 - val_loss: 1.1913 - val_accuracy: 0.7000\n",
            "Epoch 389/400\n",
            "45/45 [==============================] - 0s 3ms/step - loss: 0.3508 - accuracy: 0.8800 - val_loss: 1.1781 - val_accuracy: 0.6900\n",
            "Epoch 390/400\n",
            "45/45 [==============================] - 0s 3ms/step - loss: 0.3273 - accuracy: 0.8956 - val_loss: 1.1833 - val_accuracy: 0.6900\n",
            "Epoch 391/400\n",
            "45/45 [==============================] - 0s 3ms/step - loss: 0.3551 - accuracy: 0.8789 - val_loss: 1.1851 - val_accuracy: 0.6900\n",
            "Epoch 392/400\n",
            "45/45 [==============================] - 0s 3ms/step - loss: 0.3146 - accuracy: 0.9022 - val_loss: 1.2078 - val_accuracy: 0.6900\n",
            "Epoch 393/400\n",
            "45/45 [==============================] - 0s 3ms/step - loss: 0.3678 - accuracy: 0.8622 - val_loss: 1.1828 - val_accuracy: 0.7000\n",
            "Epoch 394/400\n",
            "45/45 [==============================] - 0s 3ms/step - loss: 0.3149 - accuracy: 0.8889 - val_loss: 1.2115 - val_accuracy: 0.6800\n",
            "Epoch 395/400\n",
            "45/45 [==============================] - 0s 3ms/step - loss: 0.3549 - accuracy: 0.8722 - val_loss: 1.1718 - val_accuracy: 0.6700\n",
            "Epoch 396/400\n",
            "45/45 [==============================] - 0s 3ms/step - loss: 0.3376 - accuracy: 0.8767 - val_loss: 1.2280 - val_accuracy: 0.6700\n",
            "Epoch 397/400\n",
            "45/45 [==============================] - 0s 3ms/step - loss: 0.3488 - accuracy: 0.8644 - val_loss: 1.1996 - val_accuracy: 0.7000\n",
            "Epoch 398/400\n",
            "45/45 [==============================] - 0s 3ms/step - loss: 0.3385 - accuracy: 0.8833 - val_loss: 1.2077 - val_accuracy: 0.6900\n",
            "Epoch 399/400\n",
            "45/45 [==============================] - 0s 3ms/step - loss: 0.3552 - accuracy: 0.8789 - val_loss: 1.1572 - val_accuracy: 0.7100\n",
            "Epoch 400/400\n",
            "45/45 [==============================] - 0s 3ms/step - loss: 0.3561 - accuracy: 0.8800 - val_loss: 1.1614 - val_accuracy: 0.7100\n"
          ],
          "name": "stdout"
        },
        {
          "output_type": "display_data",
          "data": {
            "image/png": "[encoded data removed]",
            "text/plain": [
              "<Figure size 432x288 with 1 Axes>"
            ]
          },
          "metadata": {
            "tags": [],
            "needs_background": "light"
          }
        }
      ]
    },
    {
      "cell_type": "code",
      "metadata": {
        "id": "MMh2pcyhD4V2",
        "colab": {
          "base_uri": "https://localhost:8080/",
          "height": 34
        },
        "outputId": "325e350a-ec5b-4053-e0e6-c346625f1311"
      },
      "source": [
        "last_val_accuracy = history.history['val_accuracy'][-1]\n",
        "print(\"Точность классификации данных на проверочной выборке:\", round(last_val_accuracy*100, 2), \"%\")"
      ],
      "execution_count": null,
      "outputs": [
        {
          "output_type": "stream",
          "text": [
            "Точность классификации данных на проверочной выборке: 71.0 %\n"
          ],
          "name": "stdout"
        }
      ]
    },
    {
      "cell_type": "markdown",
      "metadata": {
        "id": "S_7UCgO53lrl"
      },
      "source": [
        "Тестируем сеть"
      ]
    },
    {
      "cell_type": "code",
      "metadata": {
        "id": "IrjwExW_zm4Y",
        "colab": {
          "base_uri": "https://localhost:8080/",
          "height": 185
        },
        "outputId": "535d1335-b53e-4503-c9a5-510761cd1d24"
      },
      "source": [
        "# Возьмеи по одной песне из каждого жанра и протестируем работу сети\n",
        "\n",
        "genres = 'blues classical country disco hiphop jazz metal pop reggae rock'.split()\n",
        "for i in genres:\n",
        "    songname = './genres/' + i + '/' + i + '.00000.au'\n",
        "    y, sr = librosa.load(songname, mono=True, duration=30)\n",
        "    out = get_features(y, sr)\n",
        "    out = np.array(out).reshape(1,26)\n",
        "    out = scaler.transform(out)\n",
        "\n",
        "    #Делаем predict\n",
        "    y = model.predict(out)\n",
        "\n",
        "    pred = np.argmax(y)\n",
        "    real = genres.index(i)\n",
        "\n",
        "    if pred == real: print(\"Жанр {} распознан верно!!!\".format(i))\n",
        "    else: print(\"Жанр {} - ошибочка вышла, попробуйте еще раз!\".format(i))"
      ],
      "execution_count": null,
      "outputs": [
        {
          "output_type": "stream",
          "text": [
            "Жанр blues - ошибочка вышла, попробуйте еще раз!\n",
            "Жанр classical распознан верно!!!\n",
            "Жанр country распознан верно!!!\n",
            "Жанр disco распознан верно!!!\n",
            "Жанр hiphop распознан верно!!!\n",
            "Жанр jazz - ошибочка вышла, попробуйте еще раз!\n",
            "Жанр metal распознан верно!!!\n",
            "Жанр pop распознан верно!!!\n",
            "Жанр reggae распознан верно!!!\n",
            "Жанр rock распознан верно!!!\n"
          ],
          "name": "stdout"
        }
      ]
    },
    {
      "cell_type": "markdown",
      "metadata": {
        "id": "3icEg4NaCg3-"
      },
      "source": [
        "Забавный результат получился, слушаю радио, в наушниках диктор: \"...dолна спокойствия и комфорта. Джаз, блюз ...\" И как раз в этот момент Нейронка выдает результат что именно их то распазнать не может)))\n",
        "\n",
        "А вообще говоря результат неполучился не такой плохой, учитывая что следуя шаблону ноутбука данного для этого задания мы используем не все 37 параметров звука, а только 26, то **точность классификации данных на проверочной выборке: 71.0 %** вполне можно считать хорошим результатом!"
      ]
    },
    {
      "cell_type": "markdown",
      "metadata": {
        "id": "YGIGMznKeMkS"
      },
      "source": [
        "## **PRO** \n"
      ]
    },
    {
      "cell_type": "markdown",
      "metadata": {
        "id": "2i1z75L2ezEJ"
      },
      "source": [
        "### **Вариант 1**\n",
        "**Задание:**\n",
        "\n",
        "Добейтесь точности распознавания жанров музыки не менее 79% стабильно на последних эпохах обучения. Используйте разбивку 900 записей на обучающую выборку и 100 на проверочную\n"
      ]
    },
    {
      "cell_type": "code",
      "metadata": {
        "id": "EuSgf4FzShmq"
      },
      "source": [
        "# Подключаем библиотеки\n",
        "from google.colab import files \n",
        "from tensorflow.keras import utils \n",
        "import os\n",
        "import librosa\n",
        "import numpy as np\n",
        "import matplotlib.pyplot as plt\n",
        "import zipfile \n",
        "import time\n",
        "%matplotlib inline \n",
        "\n",
        "from tensorflow.keras.optimizers import Adam, RMSprop \n",
        "from tensorflow.keras.models import Sequential, Model\n",
        "from tensorflow.keras.layers import concatenate, Input, Dense, Dropout, BatchNormalization, Flatten, Conv1D, Conv2D, LSTM, MaxPool1D, SpatialDropout1D, GlobalMaxPool1D\n",
        "from sklearn.model_selection import train_test_split\n",
        "from sklearn.preprocessing import LabelEncoder, StandardScaler\n",
        "from tensorflow.keras.utils import plot_model\n",
        "\n",
        "# Отключаем предупреждения\n",
        "import warnings\n",
        "warnings.filterwarnings('ignore')"
      ],
      "execution_count": null,
      "outputs": []
    },
    {
      "cell_type": "code",
      "metadata": {
        "id": "h_YQFujuobE5",
        "colab": {
          "base_uri": "https://localhost:8080/",
          "height": 370
        },
        "outputId": "a4de444f-975e-467c-90cd-34be15e4dde9"
      },
      "source": [
        "z = zipfile.ZipFile('/content/drive/My Drive/Colab Notebooks/Базы/genres.zip', 'r') \n",
        "z.extractall()\n",
        "\n",
        "# Задаём названия жанров\n",
        "genres = 'blues classical country disco hiphop jazz metal pop reggae rock'.split()\n",
        "\n",
        "# Проверяем выгруженные папки и одну из папок\n",
        "!ls genres \n",
        "!ls genres/rock"
      ],
      "execution_count": null,
      "outputs": [
        {
          "output_type": "stream",
          "text": [
            "blues  classical  country  disco  hiphop  jazz\tmetal  pop  reggae  rock\n",
            "rock.00000.au  rock.00020.au  rock.00040.au  rock.00060.au  rock.00080.au\n",
            "rock.00001.au  rock.00021.au  rock.00041.au  rock.00061.au  rock.00081.au\n",
            "rock.00002.au  rock.00022.au  rock.00042.au  rock.00062.au  rock.00082.au\n",
            "rock.00003.au  rock.00023.au  rock.00043.au  rock.00063.au  rock.00083.au\n",
            "rock.00004.au  rock.00024.au  rock.00044.au  rock.00064.au  rock.00084.au\n",
            "rock.00005.au  rock.00025.au  rock.00045.au  rock.00065.au  rock.00085.au\n",
            "rock.00006.au  rock.00026.au  rock.00046.au  rock.00066.au  rock.00086.au\n",
            "rock.00007.au  rock.00027.au  rock.00047.au  rock.00067.au  rock.00087.au\n",
            "rock.00008.au  rock.00028.au  rock.00048.au  rock.00068.au  rock.00088.au\n",
            "rock.00009.au  rock.00029.au  rock.00049.au  rock.00069.au  rock.00089.au\n",
            "rock.00010.au  rock.00030.au  rock.00050.au  rock.00070.au  rock.00090.au\n",
            "rock.00011.au  rock.00031.au  rock.00051.au  rock.00071.au  rock.00091.au\n",
            "rock.00012.au  rock.00032.au  rock.00052.au  rock.00072.au  rock.00092.au\n",
            "rock.00013.au  rock.00033.au  rock.00053.au  rock.00073.au  rock.00093.au\n",
            "rock.00014.au  rock.00034.au  rock.00054.au  rock.00074.au  rock.00094.au\n",
            "rock.00015.au  rock.00035.au  rock.00055.au  rock.00075.au  rock.00095.au\n",
            "rock.00016.au  rock.00036.au  rock.00056.au  rock.00076.au  rock.00096.au\n",
            "rock.00017.au  rock.00037.au  rock.00057.au  rock.00077.au  rock.00097.au\n",
            "rock.00018.au  rock.00038.au  rock.00058.au  rock.00078.au  rock.00098.au\n",
            "rock.00019.au  rock.00039.au  rock.00059.au  rock.00079.au  rock.00099.au\n"
          ],
          "name": "stdout"
        }
      ]
    },
    {
      "cell_type": "code",
      "metadata": {
        "id": "Mt5m_v9tS4FS"
      },
      "source": [
        "def get_features(y, sr):\n",
        "  # Двумерные\n",
        "  chroma_stft = librosa.feature.chroma_stft(y=y, sr=sr) # Частота цветности\n",
        "  mfcc = librosa.feature.mfcc(y=y, sr=sr)               # Мел кепстральные коэффициенты\n",
        "\n",
        "  # Одномерные\n",
        "  spec_cent = librosa.feature.spectral_centroid(y=y, sr=sr) # Спектральный центроид\n",
        "  spec_bw = librosa.feature.spectral_bandwidth(y=y, sr=sr)  # Ширина полосы частот\n",
        "  rolloff = librosa.feature.spectral_rolloff(y=y, sr=sr)    # Спектральный спад частоты\n",
        "  zcr = librosa.feature.zero_crossing_rate(y)               # Пересечения нуля\n",
        "\n",
        "  # Возвращаем получившийся список\n",
        "  return chroma_stft, mfcc, spec_cent, spec_bw, rolloff, zcr"
      ],
      "execution_count": null,
      "outputs": []
    },
    {
      "cell_type": "code",
      "metadata": {
        "id": "uFQQuDmPShmz",
        "colab": {
          "base_uri": "https://localhost:8080/",
          "height": 185
        },
        "outputId": "377e1234-d3ee-4785-ac21-0ce47509fe01"
      },
      "source": [
        "# Формируем обучающую выборку\n",
        "X_train_1 = []\n",
        "X_train_2 = []\n",
        "X_train_3 = []\n",
        "X_train_4 = []\n",
        "X_train_5 = []\n",
        "X_train_6 = []\n",
        "Y_train = []\n",
        "\n",
        "# Запоминаем время старта формирования выборки\n",
        "curr_time = time.time()\n",
        "\n",
        "# Проходим по всем жарнам\n",
        "for i in range(len(genres)):\n",
        "  g = genres[i] # Берём текущий жанр\n",
        "  # Проходим по файлам папки, соответствующей текущему жанру\n",
        "  for filename in os.listdir(f'./genres/{g}'):\n",
        "    # Получаем имя песни\n",
        "    songname = f'./genres/{g}/{filename}'\n",
        "    # Загружаем в y аудиосигнал 30 секунд аудио\n",
        "    y, sr = librosa.load(songname, mono=True, duration=30)\n",
        "    # Превращаем сигнал в параметризованные данные\n",
        "    for p in range(0, (int(len(y)//22050))-4):\n",
        "      chroma_stft, mfcc, spec_cent, spec_bw, rolloff, zcr = get_features(y[p*sr:(p+4)*sr], sr)\n",
        "\n",
        "      # Добавляем строку в X_train\n",
        "      X_train_1.append(chroma_stft)\n",
        "      X_train_2.append(mfcc)\n",
        "      X_train_3.append(spec_cent)\n",
        "      X_train_4.append(spec_bw)\n",
        "      X_train_5.append(rolloff)\n",
        "      X_train_6.append(zcr)\n",
        "\n",
        "      # Добавляем в Y_train номер классов в формате ohe\n",
        "      Y_train.append(utils.to_categorical(i, len(genres)))\n",
        "  \n",
        "\n",
        "  # Выводим информацию о готовности обработки базы\n",
        "  print(\"Жанр \", g, \" готов -> \", round(time.time() - curr_time), \"c\", sep=\"\")\n",
        "  curr_time = time.time()\n"
      ],
      "execution_count": null,
      "outputs": [
        {
          "output_type": "stream",
          "text": [
            "Жанр blues готов -> 285c\n",
            "Жанр classical готов -> 278c\n",
            "Жанр country готов -> 283c\n",
            "Жанр disco готов -> 293c\n",
            "Жанр hiphop готов -> 297c\n",
            "Жанр jazz готов -> 295c\n",
            "Жанр metal готов -> 300c\n",
            "Жанр pop готов -> 306c\n",
            "Жанр reggae готов -> 309c\n",
            "Жанр rock готов -> 313c\n"
          ],
          "name": "stdout"
        }
      ]
    },
    {
      "cell_type": "code",
      "metadata": {
        "id": "xRG_CGOQNIOt"
      },
      "source": [
        "# Превращаем обучающую выборку в numpy массивы\n",
        "X_train_1 = np.array([X_train_1])\n",
        "X_train_2 = np.array([X_train_2])\n",
        "X_train_3 = np.array([X_train_3])\n",
        "X_train_4 = np.array([X_train_4])\n",
        "X_train_5 = np.array([X_train_5])\n",
        "X_train_6 = np.array([X_train_6])\n",
        "Y_train = np.array([Y_train])"
      ],
      "execution_count": null,
      "outputs": []
    },
    {
      "cell_type": "code",
      "metadata": {
        "id": "4-zJ-ZyKYtFI",
        "colab": {
          "base_uri": "https://localhost:8080/",
          "height": 50
        },
        "outputId": "a89a4bac-aa38-4a0a-c813-e5245937632f"
      },
      "source": [
        "# Проверяем размерность xTrain\n",
        "print(Y_train.shape)\n",
        "y_train_class = np.argmax(Y_train[0], axis=1)\n",
        "print(len(y_train_class))"
      ],
      "execution_count": null,
      "outputs": [
        {
          "output_type": "stream",
          "text": [
            "(1, 25991, 10)\n",
            "25991\n"
          ],
          "name": "stdout"
        }
      ]
    },
    {
      "cell_type": "code",
      "metadata": {
        "id": "IDK-GdRT-tDR"
      },
      "source": [
        "np.save('drive/My Drive/X_train_1',X_train_1)\n",
        "np.save('drive/My Drive/X_train_2',X_train_2)\n",
        "np.save('drive/My Drive/X_train_3',X_train_3)\n",
        "np.save('drive/My Drive/X_train_4',X_train_4)\n",
        "np.save('drive/My Drive/X_train_5',X_train_5)\n",
        "np.save('drive/My Drive/X_train_6',X_train_6)\n",
        "np.save('drive/My Drive/Y_train',Y_train)\n",
        "np.save('drive/My Drive/y_train_class',y_train_class)"
      ],
      "execution_count": null,
      "outputs": []
    },
    {
      "cell_type": "code",
      "metadata": {
        "id": "4Art29maqgxV"
      },
      "source": [
        "# X_train_1 = np.load('drive/My Drive/X_train_1.npy')\n",
        "# X_train_2 = np.load('drive/My Drive/X_train_2.npy')\n",
        "# X_train_3 = np.load('drive/My Drive/X_train_3.npy')\n",
        "# X_train_4 = np.load('drive/My Drive/X_train_4.npy')\n",
        "# X_train_5 = np.load('drive/My Drive/X_train_5.npy')\n",
        "# X_train_6 = np.load('drive/My Drive/X_train_6.npy')\n",
        "# Y_train = np.load('drive/My Drive/Y_train.npy')\n",
        "# y_train_class = np.load('drive/My Drive/y_train_class.npy')"
      ],
      "execution_count": null,
      "outputs": []
    },
    {
      "cell_type": "code",
      "metadata": {
        "id": "hClVnEfaYwEg",
        "colab": {
          "base_uri": "https://localhost:8080/",
          "height": 151
        },
        "outputId": "e5331f7e-3a52-48c2-dce7-4a746bd836bc"
      },
      "source": [
        "# Выводим размеры обучающей выборки\n",
        "print(X_train_1.shape)\n",
        "print(X_train_2.shape)\n",
        "print(X_train_3.shape)\n",
        "print(X_train_4.shape)\n",
        "print(X_train_5.shape)\n",
        "print(X_train_6.shape)\n",
        "print(Y_train.shape)\n",
        "print(y_train_class.shape)"
      ],
      "execution_count": null,
      "outputs": [
        {
          "output_type": "stream",
          "text": [
            "(1, 25991, 12, 173)\n",
            "(1, 25991, 20, 173)\n",
            "(1, 25991, 1, 173)\n",
            "(1, 25991, 1, 173)\n",
            "(1, 25991, 1, 173)\n",
            "(1, 25991, 1, 173)\n",
            "(1, 25991, 10)\n",
            "(25991,)\n"
          ],
          "name": "stdout"
        }
      ]
    },
    {
      "cell_type": "code",
      "metadata": {
        "id": "FDx_iJXs5eqU",
        "colab": {
          "base_uri": "https://localhost:8080/",
          "height": 151
        },
        "outputId": "b3a8450e-2bee-4f4d-93f3-50a98baaba3a"
      },
      "source": [
        "# Убираем лишнюю размерность\n",
        "X_train_1 = X_train_1.reshape(-1, 12, 173)\n",
        "X_train_2 = X_train_2.reshape(-1, 20, 173)\n",
        "X_train_3 = X_train_3.reshape(-1, 1, 173)\n",
        "X_train_4 = X_train_4.reshape(-1, 1, 173)\n",
        "X_train_5 = X_train_5.reshape(-1, 1, 173)\n",
        "X_train_6 = X_train_6.reshape(-1, 1, 173)\n",
        "Y_train = Y_train.reshape(-1, 10)\n",
        "y_train_class = y_train_class.reshape(-1,)\n",
        "# Выводим размеры обучающей выборки\n",
        "print(X_train_1.shape)\n",
        "print(X_train_2.shape)\n",
        "print(X_train_3.shape)\n",
        "print(X_train_4.shape)\n",
        "print(X_train_5.shape)\n",
        "print(X_train_6.shape)\n",
        "print(Y_train.shape)\n",
        "print(y_train_class.shape)"
      ],
      "execution_count": null,
      "outputs": [
        {
          "output_type": "stream",
          "text": [
            "(25991, 12, 173)\n",
            "(25991, 20, 173)\n",
            "(25991, 1, 173)\n",
            "(25991, 1, 173)\n",
            "(25991, 1, 173)\n",
            "(25991, 1, 173)\n",
            "(25991, 10)\n",
            "(25991,)\n"
          ],
          "name": "stdout"
        }
      ]
    },
    {
      "cell_type": "code",
      "metadata": {
        "id": "-XH0yp9dps0I",
        "colab": {
          "base_uri": "https://localhost:8080/",
          "height": 34
        },
        "outputId": "c3decd72-4dd7-46a9-c05b-112303535364"
      },
      "source": [
        "y_train_class"
      ],
      "execution_count": null,
      "outputs": [
        {
          "output_type": "execute_result",
          "data": {
            "text/plain": [
              "array([0, 0, 0, ..., 9, 9, 9])"
            ]
          },
          "metadata": {
            "tags": []
          },
          "execution_count": 124
        }
      ]
    },
    {
      "cell_type": "code",
      "metadata": {
        "id": "q9U8ew9irD9i"
      },
      "source": [
        "input1 = Input((12,173))\n",
        "x1 = Conv1D(32, 3, padding='same', activation='relu', strides=2)(input1)\n",
        "x1 = SpatialDropout1D(0.3)(x1)\n",
        "x1 = Conv1D(64, 3, padding='same', activation='relu', strides=2)(x1)\n",
        "x1 = GlobalMaxPool1D()(x1)\n",
        "x1 = Dropout(0.3)(x1)\n",
        "\n",
        "input2 = Input((20,173))\n",
        "x2 = Conv1D(32, 3, padding='same', activation='relu', strides=2)(input2)\n",
        "x2 = SpatialDropout1D(0.3)(x2)\n",
        "x2 = Conv1D(64, 3, padding='same', activation='relu', strides=2)(x2)\n",
        "x2 = GlobalMaxPool1D()(x2)\n",
        "x2 = Dropout(0.3)(x2)\n",
        "\n",
        "input3 = Input((4,))\n",
        "x3 = Dense(64, activation='relu')(input3)\n",
        "x3 = Dropout(0.3)(x3)\n",
        "\n",
        "x = concatenate([x1,x2,x3])\n",
        "\n",
        "x = Dense(64, activation='relu')(x)\n",
        "x = Dense(64, activation='relu')(x)\n",
        "\n",
        "output = Dense(10, activation='softmax')(x)"
      ],
      "execution_count": null,
      "outputs": []
    },
    {
      "cell_type": "code",
      "metadata": {
        "id": "Gp-7k2vWtvxO"
      },
      "source": [
        "model = Model([input1, input2, input3], output)"
      ],
      "execution_count": null,
      "outputs": []
    },
    {
      "cell_type": "code",
      "metadata": {
        "id": "B9A4mnfQthnv",
        "colab": {
          "base_uri": "https://localhost:8080/",
          "height": 786
        },
        "outputId": "7c17867b-09c0-43cb-8c5c-4766b277a35e"
      },
      "source": [
        "plot_model(model, show_shapes=True)"
      ],
      "execution_count": null,
      "outputs": [
        {
          "output_type": "execute_result",
          "data": {
            "image/png": "[encoded data removed]",
            "text/plain": [
              "<IPython.core.display.Image object>"
            ]
          },
          "metadata": {
            "tags": []
          },
          "execution_count": 127
        }
      ]
    },
    {
      "cell_type": "code",
      "metadata": {
        "id": "9SPuwtmXt0fn",
        "colab": {
          "base_uri": "https://localhost:8080/",
          "height": 34
        },
        "outputId": "02eb5826-7606-4dbd-cecc-08ac4320612d"
      },
      "source": [
        "X3 = np.concatenate([X_train_3, X_train_4, X_train_5, X_train_6], axis=1)\n",
        "X3.shape"
      ],
      "execution_count": null,
      "outputs": [
        {
          "output_type": "execute_result",
          "data": {
            "text/plain": [
              "(25991, 4, 173)"
            ]
          },
          "metadata": {
            "tags": []
          },
          "execution_count": 128
        }
      ]
    },
    {
      "cell_type": "code",
      "metadata": {
        "id": "qOPlYzKMupL3",
        "colab": {
          "base_uri": "https://localhost:8080/",
          "height": 34
        },
        "outputId": "7836bca2-6dfa-4df4-c447-fb7d58b6e1ec"
      },
      "source": [
        "X3 = X3.mean(axis=-1)\n",
        "X3.shape"
      ],
      "execution_count": null,
      "outputs": [
        {
          "output_type": "execute_result",
          "data": {
            "text/plain": [
              "(25991, 4)"
            ]
          },
          "metadata": {
            "tags": []
          },
          "execution_count": 129
        }
      ]
    },
    {
      "cell_type": "code",
      "metadata": {
        "id": "fc85XsQlvAJK"
      },
      "source": [
        "model.compile(loss='categorical_crossentropy', metrics=['accuracy'], optimizer='adam')"
      ],
      "execution_count": null,
      "outputs": []
    },
    {
      "cell_type": "code",
      "metadata": {
        "id": "gdNQk59Xuxex",
        "colab": {
          "base_uri": "https://localhost:8080/",
          "height": 706
        },
        "outputId": "826997c9-f075-443a-e32b-4e3abe15d8fc"
      },
      "source": [
        "model.fit([X_train_1, X_train_2, X3], Y_train, epochs=20, validation_split=0.2, batch_size=64, shuffle=True)"
      ],
      "execution_count": null,
      "outputs": [
        {
          "output_type": "stream",
          "text": [
            "Epoch 1/20\n",
            "325/325 [==============================] - 2s 6ms/step - loss: 51.5953 - accuracy: 0.2328 - val_loss: 224.0315 - val_accuracy: 0.0000e+00\n",
            "Epoch 2/20\n",
            "325/325 [==============================] - 2s 6ms/step - loss: 3.7331 - accuracy: 0.2738 - val_loss: 238.6432 - val_accuracy: 0.0000e+00\n",
            "Epoch 3/20\n",
            "325/325 [==============================] - 2s 5ms/step - loss: 2.0467 - accuracy: 0.3280 - val_loss: 234.4014 - val_accuracy: 0.0000e+00\n",
            "Epoch 4/20\n",
            "325/325 [==============================] - 2s 5ms/step - loss: 1.7939 - accuracy: 0.3593 - val_loss: 196.2229 - val_accuracy: 0.0000e+00\n",
            "Epoch 5/20\n",
            "325/325 [==============================] - 2s 5ms/step - loss: 1.6353 - accuracy: 0.3903 - val_loss: 172.3898 - val_accuracy: 0.0000e+00\n",
            "Epoch 6/20\n",
            "325/325 [==============================] - 2s 5ms/step - loss: 1.5197 - accuracy: 0.4172 - val_loss: 150.2488 - val_accuracy: 0.0000e+00\n",
            "Epoch 7/20\n",
            "325/325 [==============================] - 2s 5ms/step - loss: 1.4774 - accuracy: 0.4336 - val_loss: 134.0876 - val_accuracy: 0.0000e+00\n",
            "Epoch 8/20\n",
            "325/325 [==============================] - 2s 5ms/step - loss: 1.4181 - accuracy: 0.4504 - val_loss: 118.6008 - val_accuracy: 0.0000e+00\n",
            "Epoch 9/20\n",
            "325/325 [==============================] - 2s 5ms/step - loss: 1.3571 - accuracy: 0.4716 - val_loss: 104.7329 - val_accuracy: 0.0000e+00\n",
            "Epoch 10/20\n",
            "325/325 [==============================] - 2s 5ms/step - loss: 1.3203 - accuracy: 0.4880 - val_loss: 89.2635 - val_accuracy: 0.0000e+00\n",
            "Epoch 11/20\n",
            "325/325 [==============================] - 2s 5ms/step - loss: 1.2608 - accuracy: 0.5104 - val_loss: 78.7625 - val_accuracy: 0.0000e+00\n",
            "Epoch 12/20\n",
            "325/325 [==============================] - 2s 5ms/step - loss: 1.2290 - accuracy: 0.5312 - val_loss: 68.6063 - val_accuracy: 0.0000e+00\n",
            "Epoch 13/20\n",
            "325/325 [==============================] - 2s 5ms/step - loss: 1.2036 - accuracy: 0.5399 - val_loss: 63.3268 - val_accuracy: 0.0000e+00\n",
            "Epoch 14/20\n",
            "325/325 [==============================] - 2s 5ms/step - loss: 1.1565 - accuracy: 0.5584 - val_loss: 54.0685 - val_accuracy: 0.0000e+00\n",
            "Epoch 15/20\n",
            "325/325 [==============================] - 2s 5ms/step - loss: 1.1353 - accuracy: 0.5700 - val_loss: 48.8388 - val_accuracy: 0.0000e+00\n",
            "Epoch 16/20\n",
            "325/325 [==============================] - 2s 5ms/step - loss: 1.1191 - accuracy: 0.5751 - val_loss: 45.8909 - val_accuracy: 0.0000e+00\n",
            "Epoch 17/20\n",
            "325/325 [==============================] - 2s 5ms/step - loss: 1.0797 - accuracy: 0.5908 - val_loss: 40.5721 - val_accuracy: 0.0000e+00\n",
            "Epoch 18/20\n",
            "325/325 [==============================] - 2s 6ms/step - loss: 1.0601 - accuracy: 0.6035 - val_loss: 39.0395 - val_accuracy: 0.0000e+00\n",
            "Epoch 19/20\n",
            "325/325 [==============================] - 2s 5ms/step - loss: 1.0269 - accuracy: 0.6182 - val_loss: 34.7344 - val_accuracy: 0.0000e+00\n",
            "Epoch 20/20\n",
            "325/325 [==============================] - 2s 5ms/step - loss: 0.9981 - accuracy: 0.6285 - val_loss: 34.9289 - val_accuracy: 0.0000e+00\n"
          ],
          "name": "stdout"
        },
        {
          "output_type": "execute_result",
          "data": {
            "text/plain": [
              "<tensorflow.python.keras.callbacks.History at 0x7f84a0c33e48>"
            ]
          },
          "metadata": {
            "tags": []
          },
          "execution_count": 131
        }
      ]
    },
    {
      "cell_type": "code",
      "metadata": {
        "id": "XKqRsSe7u-Rw",
        "colab": {
          "base_uri": "https://localhost:8080/",
          "height": 34
        },
        "outputId": "d5836ace-6386-4895-b730-85b87cf24aae"
      },
      "source": [
        "X_train_2.shape"
      ],
      "execution_count": null,
      "outputs": [
        {
          "output_type": "execute_result",
          "data": {
            "text/plain": [
              "(25991, 20, 173)"
            ]
          },
          "metadata": {
            "tags": []
          },
          "execution_count": 132
        }
      ]
    },
    {
      "cell_type": "code",
      "metadata": {
        "id": "Pvilj68nw5qG"
      },
      "source": [
        "input = Input((20,173))\n",
        "x = Dense(64, activation='relu')(input)\n",
        "x = Dropout(0.5)(x)\n",
        "x = BatchNormalization()(x)\n",
        "x = Flatten()(x)\n",
        "x = Dense(128, activation='relu')(x)\n",
        "output = Dense(10, activation='softmax')(x)"
      ],
      "execution_count": null,
      "outputs": []
    },
    {
      "cell_type": "code",
      "metadata": {
        "id": "rIYuZ-uPxPHK"
      },
      "source": [
        "simple_model = Model(input, output)\n",
        "simple_model.compile(loss='categorical_crossentropy', optimizer='adam', metrics=['accuracy'])"
      ],
      "execution_count": null,
      "outputs": []
    },
    {
      "cell_type": "code",
      "metadata": {
        "id": "nkP_PHqMxUBu",
        "colab": {
          "base_uri": "https://localhost:8080/",
          "height": 706
        },
        "outputId": "c4bd8a54-acbf-40f1-eef3-128b3936361c"
      },
      "source": [
        "simple_model.fit(X_train_2, Y_train, epochs=20, batch_size=64, shuffle=True, validation_split=0.2)"
      ],
      "execution_count": null,
      "outputs": [
        {
          "output_type": "stream",
          "text": [
            "Epoch 1/20\n",
            "325/325 [==============================] - 1s 4ms/step - loss: 1.2479 - accuracy: 0.5257 - val_loss: 10.7773 - val_accuracy: 0.0000e+00\n",
            "Epoch 2/20\n",
            "325/325 [==============================] - 1s 4ms/step - loss: 1.0002 - accuracy: 0.6239 - val_loss: 10.9709 - val_accuracy: 0.0000e+00\n",
            "Epoch 3/20\n",
            "325/325 [==============================] - 1s 4ms/step - loss: 0.9025 - accuracy: 0.6652 - val_loss: 11.7233 - val_accuracy: 0.0000e+00\n",
            "Epoch 4/20\n",
            "325/325 [==============================] - 1s 4ms/step - loss: 0.8429 - accuracy: 0.6877 - val_loss: 11.6403 - val_accuracy: 0.0000e+00\n",
            "Epoch 5/20\n",
            "325/325 [==============================] - 1s 4ms/step - loss: 0.7931 - accuracy: 0.7072 - val_loss: 11.8694 - val_accuracy: 0.0000e+00\n",
            "Epoch 6/20\n",
            "325/325 [==============================] - 1s 4ms/step - loss: 0.7432 - accuracy: 0.7262 - val_loss: 12.9097 - val_accuracy: 0.0000e+00\n",
            "Epoch 7/20\n",
            "325/325 [==============================] - 1s 4ms/step - loss: 0.7107 - accuracy: 0.7342 - val_loss: 13.3556 - val_accuracy: 0.0000e+00\n",
            "Epoch 8/20\n",
            "325/325 [==============================] - 1s 4ms/step - loss: 0.6814 - accuracy: 0.7475 - val_loss: 13.4960 - val_accuracy: 0.0000e+00\n",
            "Epoch 9/20\n",
            "325/325 [==============================] - 1s 4ms/step - loss: 0.6461 - accuracy: 0.7620 - val_loss: 14.5051 - val_accuracy: 0.0000e+00\n",
            "Epoch 10/20\n",
            "325/325 [==============================] - 1s 4ms/step - loss: 0.6159 - accuracy: 0.7714 - val_loss: 14.6579 - val_accuracy: 0.0000e+00\n",
            "Epoch 11/20\n",
            "325/325 [==============================] - 1s 4ms/step - loss: 0.5919 - accuracy: 0.7804 - val_loss: 14.6762 - val_accuracy: 0.0000e+00\n",
            "Epoch 12/20\n",
            "325/325 [==============================] - 1s 4ms/step - loss: 0.5678 - accuracy: 0.7898 - val_loss: 14.3040 - val_accuracy: 0.0000e+00\n",
            "Epoch 13/20\n",
            "325/325 [==============================] - 1s 4ms/step - loss: 0.5516 - accuracy: 0.7966 - val_loss: 14.9348 - val_accuracy: 0.0000e+00\n",
            "Epoch 14/20\n",
            "325/325 [==============================] - 1s 4ms/step - loss: 0.5367 - accuracy: 0.8045 - val_loss: 15.1903 - val_accuracy: 0.0000e+00\n",
            "Epoch 15/20\n",
            "325/325 [==============================] - 1s 4ms/step - loss: 0.5075 - accuracy: 0.8111 - val_loss: 16.4537 - val_accuracy: 0.0000e+00\n",
            "Epoch 16/20\n",
            "325/325 [==============================] - 1s 4ms/step - loss: 0.4930 - accuracy: 0.8182 - val_loss: 15.0088 - val_accuracy: 0.0000e+00\n",
            "Epoch 17/20\n",
            "325/325 [==============================] - 1s 4ms/step - loss: 0.4809 - accuracy: 0.8215 - val_loss: 16.2438 - val_accuracy: 0.0000e+00\n",
            "Epoch 18/20\n",
            "325/325 [==============================] - 1s 4ms/step - loss: 0.4627 - accuracy: 0.8304 - val_loss: 15.1860 - val_accuracy: 0.0000e+00\n",
            "Epoch 19/20\n",
            "325/325 [==============================] - 1s 4ms/step - loss: 0.4547 - accuracy: 0.8315 - val_loss: 17.1789 - val_accuracy: 0.0000e+00\n",
            "Epoch 20/20\n",
            "325/325 [==============================] - 1s 4ms/step - loss: 0.4413 - accuracy: 0.8336 - val_loss: 16.7431 - val_accuracy: 0.0000e+00\n"
          ],
          "name": "stdout"
        },
        {
          "output_type": "execute_result",
          "data": {
            "text/plain": [
              "<tensorflow.python.keras.callbacks.History at 0x7f84a0189ba8>"
            ]
          },
          "metadata": {
            "tags": []
          },
          "execution_count": 135
        }
      ]
    },
    {
      "cell_type": "markdown",
      "metadata": {
        "id": "Gby2ykeg7c94"
      },
      "source": [
        "**Так как результаты совсем удручающие, попробуем применить балансировку**"
      ]
    },
    {
      "cell_type": "markdown",
      "metadata": {
        "id": "eE4VWMLsD_xQ"
      },
      "source": [
        "**1) downsampling**"
      ]
    },
    {
      "cell_type": "code",
      "metadata": {
        "id": "P5zsk3EAyOwD",
        "colab": {
          "base_uri": "https://localhost:8080/",
          "height": 34
        },
        "outputId": "5c4d22c3-ff9f-4e90-d680-0d0ea2594ed4"
      },
      "source": [
        "count[0].min()"
      ],
      "execution_count": null,
      "outputs": [
        {
          "output_type": "execute_result",
          "data": {
            "text/plain": [
              "2597.0"
            ]
          },
          "metadata": {
            "tags": []
          },
          "execution_count": 136
        }
      ]
    },
    {
      "cell_type": "code",
      "metadata": {
        "id": "Di-Ize-tzAb_"
      },
      "source": [
        "indices = []\n",
        "for i in range(10):\n",
        "  indices.extend(np.arange(y_train_class.size)[y_train_class==i][:38])"
      ],
      "execution_count": null,
      "outputs": []
    },
    {
      "cell_type": "code",
      "metadata": {
        "id": "pyOHm55y0Q08",
        "colab": {
          "base_uri": "https://localhost:8080/",
          "height": 34
        },
        "outputId": "8b659347-5388-4791-9511-3409f824cf76"
      },
      "source": [
        "len(indices)"
      ],
      "execution_count": null,
      "outputs": [
        {
          "output_type": "execute_result",
          "data": {
            "text/plain": [
              "380"
            ]
          },
          "metadata": {
            "tags": []
          },
          "execution_count": 138
        }
      ]
    },
    {
      "cell_type": "code",
      "metadata": {
        "id": "_yfzIse60htw",
        "colab": {
          "base_uri": "https://localhost:8080/",
          "height": 706
        },
        "outputId": "abcd75f8-ff1f-4b8c-8ebf-b086e0d3d6e0"
      },
      "source": [
        "simple_model.fit(X_train_2[indices], Y_train[indices], epochs=20, batch_size=64, shuffle=True, validation_split=0.2)"
      ],
      "execution_count": null,
      "outputs": [
        {
          "output_type": "stream",
          "text": [
            "Epoch 1/20\n",
            "5/5 [==============================] - 0s 10ms/step - loss: 0.4236 - accuracy: 0.8257 - val_loss: 17.3453 - val_accuracy: 0.0000e+00\n",
            "Epoch 2/20\n",
            "5/5 [==============================] - 0s 6ms/step - loss: 0.2560 - accuracy: 0.9309 - val_loss: 17.7986 - val_accuracy: 0.0000e+00\n",
            "Epoch 3/20\n",
            "5/5 [==============================] - 0s 6ms/step - loss: 0.1704 - accuracy: 0.9539 - val_loss: 18.1139 - val_accuracy: 0.0000e+00\n",
            "Epoch 4/20\n",
            "5/5 [==============================] - 0s 6ms/step - loss: 0.1178 - accuracy: 0.9803 - val_loss: 18.1481 - val_accuracy: 0.0000e+00\n",
            "Epoch 5/20\n",
            "5/5 [==============================] - 0s 6ms/step - loss: 0.1208 - accuracy: 0.9605 - val_loss: 18.3817 - val_accuracy: 0.0000e+00\n",
            "Epoch 6/20\n",
            "5/5 [==============================] - 0s 6ms/step - loss: 0.0833 - accuracy: 0.9836 - val_loss: 18.6257 - val_accuracy: 0.0000e+00\n",
            "Epoch 7/20\n",
            "5/5 [==============================] - 0s 6ms/step - loss: 0.0883 - accuracy: 0.9704 - val_loss: 18.7785 - val_accuracy: 0.0000e+00\n",
            "Epoch 8/20\n",
            "5/5 [==============================] - 0s 7ms/step - loss: 0.0713 - accuracy: 0.9901 - val_loss: 18.8066 - val_accuracy: 0.0000e+00\n",
            "Epoch 9/20\n",
            "5/5 [==============================] - 0s 6ms/step - loss: 0.0582 - accuracy: 0.9934 - val_loss: 18.7209 - val_accuracy: 0.0000e+00\n",
            "Epoch 10/20\n",
            "5/5 [==============================] - 0s 6ms/step - loss: 0.0567 - accuracy: 0.9868 - val_loss: 18.6555 - val_accuracy: 0.0000e+00\n",
            "Epoch 11/20\n",
            "5/5 [==============================] - 0s 6ms/step - loss: 0.0441 - accuracy: 0.9934 - val_loss: 18.6930 - val_accuracy: 0.0000e+00\n",
            "Epoch 12/20\n",
            "5/5 [==============================] - 0s 6ms/step - loss: 0.0482 - accuracy: 0.9934 - val_loss: 18.8279 - val_accuracy: 0.0000e+00\n",
            "Epoch 13/20\n",
            "5/5 [==============================] - 0s 6ms/step - loss: 0.0319 - accuracy: 0.9967 - val_loss: 18.9300 - val_accuracy: 0.0000e+00\n",
            "Epoch 14/20\n",
            "5/5 [==============================] - 0s 7ms/step - loss: 0.0521 - accuracy: 0.9868 - val_loss: 18.9811 - val_accuracy: 0.0000e+00\n",
            "Epoch 15/20\n",
            "5/5 [==============================] - 0s 6ms/step - loss: 0.0392 - accuracy: 0.9901 - val_loss: 19.2108 - val_accuracy: 0.0000e+00\n",
            "Epoch 16/20\n",
            "5/5 [==============================] - 0s 6ms/step - loss: 0.0258 - accuracy: 0.9967 - val_loss: 19.4167 - val_accuracy: 0.0000e+00\n",
            "Epoch 17/20\n",
            "5/5 [==============================] - 0s 6ms/step - loss: 0.0386 - accuracy: 0.9967 - val_loss: 19.4894 - val_accuracy: 0.0000e+00\n",
            "Epoch 18/20\n",
            "5/5 [==============================] - 0s 6ms/step - loss: 0.0321 - accuracy: 0.9934 - val_loss: 19.5772 - val_accuracy: 0.0000e+00\n",
            "Epoch 19/20\n",
            "5/5 [==============================] - 0s 6ms/step - loss: 0.0387 - accuracy: 0.9901 - val_loss: 19.7766 - val_accuracy: 0.0000e+00\n",
            "Epoch 20/20\n",
            "5/5 [==============================] - 0s 6ms/step - loss: 0.0323 - accuracy: 1.0000 - val_loss: 19.8722 - val_accuracy: 0.0000e+00\n"
          ],
          "name": "stdout"
        },
        {
          "output_type": "execute_result",
          "data": {
            "text/plain": [
              "<tensorflow.python.keras.callbacks.History at 0x7f84a00c4710>"
            ]
          },
          "metadata": {
            "tags": []
          },
          "execution_count": 139
        }
      ]
    },
    {
      "cell_type": "markdown",
      "metadata": {
        "id": "E1lVods38AsX"
      },
      "source": [
        "**2) upsampling**"
      ]
    },
    {
      "cell_type": "code",
      "metadata": {
        "id": "JUsk20W-8Asb"
      },
      "source": [
        "x_train, x_val, y_train, y_val = train_test_split(X_train_2, Y_train, test_size=0.2)"
      ],
      "execution_count": null,
      "outputs": []
    },
    {
      "cell_type": "code",
      "metadata": {
        "id": "H6oGQ-t98Asf",
        "colab": {
          "base_uri": "https://localhost:8080/",
          "height": 34
        },
        "outputId": "5548e716-01b9-4e9d-a41c-111515ecef6f"
      },
      "source": [
        "y_train_cls = y_train.argmax(-1)\n",
        "y_train_cls.shape"
      ],
      "execution_count": null,
      "outputs": [
        {
          "output_type": "execute_result",
          "data": {
            "text/plain": [
              "(20792,)"
            ]
          },
          "metadata": {
            "tags": []
          },
          "execution_count": 141
        }
      ]
    },
    {
      "cell_type": "code",
      "metadata": {
        "id": "LqxH-LBQ8Asp",
        "colab": {
          "base_uri": "https://localhost:8080/",
          "height": 34
        },
        "outputId": "c24d8a23-7e40-4742-8e80-7b435b76ed02"
      },
      "source": [
        "max = count[0].max()\n",
        "max"
      ],
      "execution_count": null,
      "outputs": [
        {
          "output_type": "execute_result",
          "data": {
            "text/plain": [
              "2600.0"
            ]
          },
          "metadata": {
            "tags": []
          },
          "execution_count": 142
        }
      ]
    },
    {
      "cell_type": "code",
      "metadata": {
        "id": "XdswBgMq8Asw"
      },
      "source": [
        "coefs = (count[0].max()/count[0]).astype(int)\n",
        "train_indices = []\n",
        "for i in range(10):\n",
        "  train_indices.extend(list(np.arange(y_train_cls.size)[y_train_cls==i])*coefs[i])"
      ],
      "execution_count": null,
      "outputs": []
    },
    {
      "cell_type": "code",
      "metadata": {
        "id": "Baamq_bj8As3",
        "colab": {
          "base_uri": "https://localhost:8080/",
          "height": 34
        },
        "outputId": "fdfafc6d-fa3e-4003-a871-7a1b85580b4e"
      },
      "source": [
        "y_train[train_indices].shape"
      ],
      "execution_count": null,
      "outputs": [
        {
          "output_type": "execute_result",
          "data": {
            "text/plain": [
              "(20792, 10)"
            ]
          },
          "metadata": {
            "tags": []
          },
          "execution_count": 144
        }
      ]
    },
    {
      "cell_type": "code",
      "metadata": {
        "id": "xlZ2tLTO8As5",
        "colab": {
          "base_uri": "https://localhost:8080/",
          "height": 1000
        },
        "outputId": "d52a1e2c-4852-43ea-e243-6b76c0758c96"
      },
      "source": [
        "history = simple_model.fit(x_train[train_indices], y_train[train_indices], epochs=50, batch_size=64, validation_data=(x_val, y_val))"
      ],
      "execution_count": null,
      "outputs": [
        {
          "output_type": "stream",
          "text": [
            "Epoch 1/50\n",
            "325/325 [==============================] - 1s 4ms/step - loss: 0.9776 - accuracy: 0.6726 - val_loss: 0.5835 - val_accuracy: 0.8077\n",
            "Epoch 2/50\n",
            "325/325 [==============================] - 1s 4ms/step - loss: 0.7582 - accuracy: 0.7264 - val_loss: 0.5491 - val_accuracy: 0.8192\n",
            "Epoch 3/50\n",
            "325/325 [==============================] - 1s 4ms/step - loss: 0.7166 - accuracy: 0.7419 - val_loss: 0.5375 - val_accuracy: 0.8255\n",
            "Epoch 4/50\n",
            "325/325 [==============================] - 1s 4ms/step - loss: 0.6938 - accuracy: 0.7523 - val_loss: 0.5093 - val_accuracy: 0.8329\n",
            "Epoch 5/50\n",
            "325/325 [==============================] - 1s 4ms/step - loss: 0.6579 - accuracy: 0.7635 - val_loss: 0.5007 - val_accuracy: 0.8359\n",
            "Epoch 6/50\n",
            "325/325 [==============================] - 1s 4ms/step - loss: 0.6473 - accuracy: 0.7635 - val_loss: 0.4673 - val_accuracy: 0.8469\n",
            "Epoch 7/50\n",
            "325/325 [==============================] - 1s 4ms/step - loss: 0.6246 - accuracy: 0.7739 - val_loss: 0.4673 - val_accuracy: 0.8432\n",
            "Epoch 8/50\n",
            "325/325 [==============================] - 1s 4ms/step - loss: 0.5967 - accuracy: 0.7846 - val_loss: 0.4571 - val_accuracy: 0.8469\n",
            "Epoch 9/50\n",
            "325/325 [==============================] - 1s 4ms/step - loss: 0.5957 - accuracy: 0.7868 - val_loss: 0.4481 - val_accuracy: 0.8534\n",
            "Epoch 10/50\n",
            "325/325 [==============================] - 1s 4ms/step - loss: 0.5808 - accuracy: 0.7922 - val_loss: 0.4437 - val_accuracy: 0.8548\n",
            "Epoch 11/50\n",
            "325/325 [==============================] - 1s 4ms/step - loss: 0.5689 - accuracy: 0.7954 - val_loss: 0.4340 - val_accuracy: 0.8550\n",
            "Epoch 12/50\n",
            "325/325 [==============================] - 1s 4ms/step - loss: 0.5540 - accuracy: 0.8030 - val_loss: 0.4259 - val_accuracy: 0.8644\n",
            "Epoch 13/50\n",
            "325/325 [==============================] - 1s 4ms/step - loss: 0.5357 - accuracy: 0.8068 - val_loss: 0.4299 - val_accuracy: 0.8604\n",
            "Epoch 14/50\n",
            "325/325 [==============================] - 1s 4ms/step - loss: 0.5334 - accuracy: 0.8080 - val_loss: 0.4179 - val_accuracy: 0.8607\n",
            "Epoch 15/50\n",
            "325/325 [==============================] - 1s 4ms/step - loss: 0.5245 - accuracy: 0.8115 - val_loss: 0.4117 - val_accuracy: 0.8609\n",
            "Epoch 16/50\n",
            "325/325 [==============================] - 1s 4ms/step - loss: 0.5104 - accuracy: 0.8190 - val_loss: 0.4027 - val_accuracy: 0.8642\n",
            "Epoch 17/50\n",
            "325/325 [==============================] - 1s 4ms/step - loss: 0.5060 - accuracy: 0.8185 - val_loss: 0.3874 - val_accuracy: 0.8692\n",
            "Epoch 18/50\n",
            "325/325 [==============================] - 1s 4ms/step - loss: 0.4834 - accuracy: 0.8241 - val_loss: 0.3745 - val_accuracy: 0.8744\n",
            "Epoch 19/50\n",
            "325/325 [==============================] - 1s 4ms/step - loss: 0.4905 - accuracy: 0.8276 - val_loss: 0.4018 - val_accuracy: 0.8657\n",
            "Epoch 20/50\n",
            "325/325 [==============================] - 1s 4ms/step - loss: 0.4754 - accuracy: 0.8282 - val_loss: 0.3623 - val_accuracy: 0.8838\n",
            "Epoch 21/50\n",
            "325/325 [==============================] - 1s 4ms/step - loss: 0.4615 - accuracy: 0.8349 - val_loss: 0.3574 - val_accuracy: 0.8846\n",
            "Epoch 22/50\n",
            "325/325 [==============================] - 1s 4ms/step - loss: 0.4601 - accuracy: 0.8343 - val_loss: 0.3354 - val_accuracy: 0.8894\n",
            "Epoch 23/50\n",
            "325/325 [==============================] - 1s 4ms/step - loss: 0.4548 - accuracy: 0.8394 - val_loss: 0.3609 - val_accuracy: 0.8796\n",
            "Epoch 24/50\n",
            "325/325 [==============================] - 1s 4ms/step - loss: 0.4473 - accuracy: 0.8397 - val_loss: 0.3353 - val_accuracy: 0.8938\n",
            "Epoch 25/50\n",
            "325/325 [==============================] - 1s 4ms/step - loss: 0.4425 - accuracy: 0.8430 - val_loss: 0.3346 - val_accuracy: 0.8890\n",
            "Epoch 26/50\n",
            "325/325 [==============================] - 1s 4ms/step - loss: 0.4281 - accuracy: 0.8460 - val_loss: 0.3300 - val_accuracy: 0.8961\n",
            "Epoch 27/50\n",
            "325/325 [==============================] - 1s 4ms/step - loss: 0.4224 - accuracy: 0.8490 - val_loss: 0.3345 - val_accuracy: 0.8902\n",
            "Epoch 28/50\n",
            "325/325 [==============================] - 1s 4ms/step - loss: 0.4171 - accuracy: 0.8495 - val_loss: 0.3375 - val_accuracy: 0.8896\n",
            "Epoch 29/50\n",
            "325/325 [==============================] - 1s 4ms/step - loss: 0.4201 - accuracy: 0.8493 - val_loss: 0.3442 - val_accuracy: 0.8840\n",
            "Epoch 30/50\n",
            "325/325 [==============================] - 1s 4ms/step - loss: 0.3978 - accuracy: 0.8591 - val_loss: 0.3172 - val_accuracy: 0.8894\n",
            "Epoch 31/50\n",
            "325/325 [==============================] - 1s 4ms/step - loss: 0.4144 - accuracy: 0.8523 - val_loss: 0.3313 - val_accuracy: 0.8940\n",
            "Epoch 32/50\n",
            "325/325 [==============================] - 1s 4ms/step - loss: 0.3991 - accuracy: 0.8555 - val_loss: 0.3072 - val_accuracy: 0.9002\n",
            "Epoch 33/50\n",
            "325/325 [==============================] - 1s 4ms/step - loss: 0.3902 - accuracy: 0.8597 - val_loss: 0.3030 - val_accuracy: 0.9023\n",
            "Epoch 34/50\n",
            "325/325 [==============================] - 1s 4ms/step - loss: 0.3855 - accuracy: 0.8631 - val_loss: 0.3184 - val_accuracy: 0.8900\n",
            "Epoch 35/50\n",
            "325/325 [==============================] - 1s 4ms/step - loss: 0.3831 - accuracy: 0.8642 - val_loss: 0.3073 - val_accuracy: 0.8996\n",
            "Epoch 36/50\n",
            "325/325 [==============================] - 1s 4ms/step - loss: 0.3782 - accuracy: 0.8682 - val_loss: 0.3047 - val_accuracy: 0.8988\n",
            "Epoch 37/50\n",
            "325/325 [==============================] - 1s 4ms/step - loss: 0.3750 - accuracy: 0.8668 - val_loss: 0.2988 - val_accuracy: 0.9036\n",
            "Epoch 38/50\n",
            "325/325 [==============================] - 1s 4ms/step - loss: 0.3669 - accuracy: 0.8719 - val_loss: 0.2835 - val_accuracy: 0.9106\n",
            "Epoch 39/50\n",
            "325/325 [==============================] - 1s 4ms/step - loss: 0.3729 - accuracy: 0.8671 - val_loss: 0.2893 - val_accuracy: 0.9073\n",
            "Epoch 40/50\n",
            "325/325 [==============================] - 1s 4ms/step - loss: 0.3672 - accuracy: 0.8683 - val_loss: 0.2884 - val_accuracy: 0.9071\n",
            "Epoch 41/50\n",
            "325/325 [==============================] - 1s 4ms/step - loss: 0.3541 - accuracy: 0.8745 - val_loss: 0.2704 - val_accuracy: 0.9117\n",
            "Epoch 42/50\n",
            "325/325 [==============================] - 1s 4ms/step - loss: 0.3513 - accuracy: 0.8738 - val_loss: 0.2694 - val_accuracy: 0.9131\n",
            "Epoch 43/50\n",
            "325/325 [==============================] - 1s 4ms/step - loss: 0.3553 - accuracy: 0.8756 - val_loss: 0.2622 - val_accuracy: 0.9146\n",
            "Epoch 44/50\n",
            "325/325 [==============================] - 1s 4ms/step - loss: 0.3554 - accuracy: 0.8734 - val_loss: 0.2660 - val_accuracy: 0.9138\n",
            "Epoch 45/50\n",
            "325/325 [==============================] - 1s 4ms/step - loss: 0.3457 - accuracy: 0.8763 - val_loss: 0.2597 - val_accuracy: 0.9179\n",
            "Epoch 46/50\n",
            "325/325 [==============================] - 1s 4ms/step - loss: 0.3338 - accuracy: 0.8832 - val_loss: 0.2612 - val_accuracy: 0.9171\n",
            "Epoch 47/50\n",
            "325/325 [==============================] - 1s 4ms/step - loss: 0.3265 - accuracy: 0.8829 - val_loss: 0.2794 - val_accuracy: 0.9117\n",
            "Epoch 48/50\n",
            "325/325 [==============================] - 1s 4ms/step - loss: 0.3490 - accuracy: 0.8737 - val_loss: 0.2572 - val_accuracy: 0.9146\n",
            "Epoch 49/50\n",
            "325/325 [==============================] - 1s 4ms/step - loss: 0.3245 - accuracy: 0.8856 - val_loss: 0.2685 - val_accuracy: 0.9088\n",
            "Epoch 50/50\n",
            "325/325 [==============================] - 1s 4ms/step - loss: 0.3355 - accuracy: 0.8827 - val_loss: 0.2697 - val_accuracy: 0.9104\n"
          ],
          "name": "stdout"
        }
      ]
    },
    {
      "cell_type": "code",
      "metadata": {
        "id": "r8cVl9pHHC97",
        "colab": {
          "base_uri": "https://localhost:8080/",
          "height": 34
        },
        "outputId": "3e15c6d9-49a0-4535-fea6-d1e66ab1fb71"
      },
      "source": [
        "last_val_accuracy = history.history['val_accuracy'][-1]\n",
        "print(\"Точность классификации данных на проверочной выборке, на последней эпохе обучения:\", round(last_val_accuracy*100, 2), \"%\")"
      ],
      "execution_count": null,
      "outputs": [
        {
          "output_type": "stream",
          "text": [
            "Точность классификации данных на проверочной выборке, на последней эпохе обучения: 91.04 %\n"
          ],
          "name": "stdout"
        }
      ]
    },
    {
      "cell_type": "code",
      "metadata": {
        "id": "yqqlKxKiEsoe",
        "colab": {
          "base_uri": "https://localhost:8080/",
          "height": 50
        },
        "outputId": "c659d70e-1b91-4750-bfc8-51fb444bc9f2"
      },
      "source": [
        "list = []\n",
        "for n in range(10):\n",
        "  val_accuracy = history.history['val_accuracy'][-10 + n]\n",
        "  list.append(str(round(val_accuracy*100, 2)) + \"%\")\n",
        "print(\"Точность классификации данных на проверочной выборке, на последних 10 эпохах обучения:\\n\", list)"
      ],
      "execution_count": null,
      "outputs": [
        {
          "output_type": "stream",
          "text": [
            "Точность классификации данных на проверочной выборке, на последних 10 эпохах обучения:\n",
            " ['91.17%', '91.31%', '91.46%', '91.38%', '91.79%', '91.71%', '91.17%', '91.46%', '90.88%', '91.04%']\n"
          ],
          "name": "stdout"
        }
      ]
    },
    {
      "cell_type": "markdown",
      "metadata": {
        "id": "QPfmHIOgUCMQ"
      },
      "source": [
        "**Данный результат полностью удовлетворяет условие задачи (Добейтесь точности распознавания жанров музыки не менее 79% стабильно на последних эпохах обучения). Из чего можно сделать вывод, что выбранный подход по подготовке данных и самой нейронной сети очень хорошо подходит для решения подобных задач.** "
      ]
    },
    {
      "cell_type": "markdown",
      "metadata": {
        "id": "yVOFF9YJvU_L"
      },
      "source": [
        "## **Ultra PRO** \n"
      ]
    },
    {
      "cell_type": "markdown",
      "metadata": {
        "id": "dIuvWtYMvU_M"
      },
      "source": [
        "### **Вариант 1**\n",
        "\n",
        "**Задание:**\n",
        "\n",
        "Найдите на Kaggle любую базу с аудио и напишите распознавание аудио:\n",
        "1. Спарсите, разделите и нормализуйте данные\n",
        "2. Разделите данные на обучающую и проверочную выборки\n",
        "3. Сделайте классификацию \n",
        "4. Напишите ваши результаты и выводы"
      ]
    },
    {
      "cell_type": "code",
      "metadata": {
        "id": "INd1kWxKvU_N"
      },
      "source": [
        "#Подключаем библиотеки\n",
        "from google.colab import files #Загрузка файлов\n",
        "from tensorflow.keras.utils import to_categorical #Для представления в формате one_hot_encoding\n",
        "import os #Работа с папками и файлами\n",
        "import librosa #Параметризация аудио\n",
        "import numpy as np #Numpy массивы\n",
        "import matplotlib.pyplot as plt #Отображение графиков\n",
        "\n",
        "from tensorflow.keras.optimizers import Adam, RMSprop #Подключаем оптимизаторы\n",
        "from tensorflow.keras.models import Sequential, Model #Модели keras\n",
        "from tensorflow.keras.layers import concatenate, Input, Dense, Dropout, BatchNormalization, Flatten, Conv1D, Conv2D, LSTM #Базовые слои\n",
        "from sklearn.model_selection import train_test_split #Разбиение на обучающую и проверочную выборку\n",
        "from sklearn.preprocessing import LabelEncoder, StandardScaler #Для нормировки данных\n",
        "\n",
        "from tensorflow.keras.utils import plot_model"
      ],
      "execution_count": null,
      "outputs": []
    },
    {
      "cell_type": "markdown",
      "metadata": {
        "id": "BXhByuBBd98u"
      },
      "source": [
        "Для данного задания была найдена и скачена с сайта Kaggle база голосов 10 разных спикеров. Язык  - английский. 8 мужчин и 2 женщины. "
      ]
    },
    {
      "cell_type": "code",
      "metadata": {
        "id": "Aw-k-4N66E4J",
        "colab": {
          "base_uri": "https://localhost:8080/",
          "height": 50
        },
        "outputId": "7d544759-ee47-4b73-8247-cc14ae410256"
      },
      "source": [
        "!unzip -q '/content/drive/My Drive/Colab Notebooks/Базы/10_speakers_audio_data.zip' #распаковываем архив на google диске на локальный диск google colaboratory \n",
        "\n",
        "speakers = os.listdir('10_speakers_audio_data') # получаем список папок в распакованной папке\n",
        "\n",
        "#Проверяем выгруженные папки\n",
        "!ls 10_speakers_audio_data "
      ],
      "execution_count": null,
      "outputs": [
        {
          "output_type": "stream",
          "text": [
            "Speaker_0001  Speaker_0003  Speaker_0005  Speaker_0007\tSpeaker_0009\n",
            "Speaker_0002  Speaker_0004  Speaker_0006  Speaker_0008\tSpeaker_0010\n"
          ],
          "name": "stdout"
        }
      ]
    },
    {
      "cell_type": "code",
      "metadata": {
        "id": "TpuRP-2MpKmn",
        "colab": {
          "base_uri": "https://localhost:8080/",
          "height": 302
        },
        "outputId": "13d65b6d-f040-4882-ad5b-e7edaa0821f8"
      },
      "source": [
        "#И одну из папок\n",
        "!ls 10_speakers_audio_data/Speaker_0001"
      ],
      "execution_count": null,
      "outputs": [
        {
          "output_type": "stream",
          "text": [
            "Speaker_0001_00000.wav\tSpeaker_0001_00017.wav\tSpeaker_0001_00034.wav\n",
            "Speaker_0001_00001.wav\tSpeaker_0001_00018.wav\tSpeaker_0001_00035.wav\n",
            "Speaker_0001_00002.wav\tSpeaker_0001_00019.wav\tSpeaker_0001_00036.wav\n",
            "Speaker_0001_00003.wav\tSpeaker_0001_00020.wav\tSpeaker_0001_00037.wav\n",
            "Speaker_0001_00004.wav\tSpeaker_0001_00021.wav\tSpeaker_0001_00038.wav\n",
            "Speaker_0001_00005.wav\tSpeaker_0001_00022.wav\tSpeaker_0001_00039.wav\n",
            "Speaker_0001_00006.wav\tSpeaker_0001_00023.wav\tSpeaker_0001_00040.wav\n",
            "Speaker_0001_00007.wav\tSpeaker_0001_00024.wav\tSpeaker_0001_00041.wav\n",
            "Speaker_0001_00008.wav\tSpeaker_0001_00025.wav\tSpeaker_0001_00042.wav\n",
            "Speaker_0001_00009.wav\tSpeaker_0001_00026.wav\tSpeaker_0001_00043.wav\n",
            "Speaker_0001_00010.wav\tSpeaker_0001_00027.wav\tSpeaker_0001_00044.wav\n",
            "Speaker_0001_00011.wav\tSpeaker_0001_00028.wav\tSpeaker_0001_00045.wav\n",
            "Speaker_0001_00012.wav\tSpeaker_0001_00029.wav\tSpeaker_0001_00046.wav\n",
            "Speaker_0001_00013.wav\tSpeaker_0001_00030.wav\tSpeaker_0001_00047.wav\n",
            "Speaker_0001_00014.wav\tSpeaker_0001_00031.wav\tSpeaker_0001_00048.wav\n",
            "Speaker_0001_00015.wav\tSpeaker_0001_00032.wav\tSpeaker_0001_00049.wav\n",
            "Speaker_0001_00016.wav\tSpeaker_0001_00033.wav\n"
          ],
          "name": "stdout"
        }
      ]
    },
    {
      "cell_type": "code",
      "metadata": {
        "id": "z8FpsSAYyjtV"
      },
      "source": [
        "#Функция параметризации аудио\n",
        "def get_features(y, sr):\n",
        "  #Получаем различные параметры аудио\n",
        "  chroma_stft = librosa.feature.chroma_stft(y=y, sr=sr) #Частота цветности (по умолчанию 12 баков цветности)\n",
        "  mfcc = librosa.feature.mfcc(y=y, sr=sr) #Мел кепстральные коэффициенты (по умолчанию 20)\n",
        "  \n",
        "  rmse = np.mean(librosa.feature.rmse(y=y)) #Среднеквадратичная амплитуда\n",
        "  spec_cent = np.mean(librosa.feature.spectral_centroid(y=y, sr=sr)) #среднее спектральныго центроида\n",
        "  spec_bw = np.mean(librosa.feature.spectral_bandwidth(y=y, sr=sr)) #среднее ширины полосы частот\n",
        "  rolloff = np.mean(librosa.feature.spectral_rolloff(y=y, sr=sr)) #среднее спектрального спада частоты\n",
        "  zcr = np.mean(librosa.feature.zero_crossing_rate(y)) #среднее частота пересечения нуля звукового временного ряда\n",
        "  \n",
        "  \n",
        "  #Добавляем все параметры в один список\n",
        "  out = [] # создаем пустой список\n",
        "  out.append(rmse) #  добавляем среднеквадратичную амплитуду\n",
        "  out.append(spec_cent) #добавляем спектральный центроид\n",
        "  out.append(spec_bw) # добавляем ширину полосы частот\n",
        "  out.append(rolloff) # добавляем спектральный спад частоты\n",
        "  out.append(zcr) # добавляем пересечение нуля\n",
        "  \n",
        "  #добавляем среднее всех Мел спектральных коэффициентов (20 значений)\n",
        "  for e in mfcc:\n",
        "    out.append(np.mean(e))\n",
        "\n",
        "  #добавляем среднее всех Частот цветности (12 значений)\n",
        "  for e in chroma_stft:\n",
        "    out.append(np.mean(e))\n",
        "  \n",
        "  #Возвращаем получившийся список размерностью (37,)\n",
        "  return out"
      ],
      "execution_count": null,
      "outputs": []
    },
    {
      "cell_type": "code",
      "metadata": {
        "id": "rjwbdiXZvU_Z",
        "colab": {
          "base_uri": "https://localhost:8080/",
          "height": 185
        },
        "outputId": "73957721-404e-4f0b-f916-f599edb70784"
      },
      "source": [
        "import time #подключаем модуль time для подсчёта времени на обработку одного жанра\n",
        "\n",
        "#Формируем обучающую выборку\n",
        "#Создаём пустые листы\n",
        "X_train = []\n",
        "Y_train = []\n",
        "\n",
        "#Запоминаем время старта формирования выборки\n",
        "curr_time = time.time()\n",
        "\n",
        "#Проходим по всем жарнам\n",
        "for i in range(len(speakers)):\n",
        "  g = speakers[i] #Берём текущий жанр\n",
        "  #Проходим по файлам папки, соответствующей текущему жанру\n",
        "  for filename in os.listdir(f'./10_speakers_audio_data/{g}'):\n",
        "    #Получаем имя песни\n",
        "    songname = f'./10_speakers_audio_data/{g}/{filename}'\n",
        "    #Загружаем в y аудиосигнал\n",
        "    #Используем первые 30 секунд аудио\n",
        "    y, sr = librosa.load(songname, mono=True, duration=30) #y - массив данных временного ряда аудио, sr - частота дискретизации временного ряда\n",
        "    #Превращаем сигнал в параметризованные данные\n",
        "    out = get_features(y, sr)\n",
        "    \n",
        "    #Добавляем строку в X_train\n",
        "    X_train.append(out)\n",
        "    #Добавляем в Y_train номер жанра в формате ohe\n",
        "    Y_train.append(to_categorical(i, len(speakers)))\n",
        "\n",
        "  #Выводим информацию о готовности обработки базы\n",
        "  print(\"Спикер \", g, \" готов -> \", round(time.time() - curr_time), \"c\", sep=\"\")\n",
        "  curr_time = time.time()\n",
        "\n",
        "#Превращаем обучающую выборку на numpy массивы\n",
        "X_train = np.array(X_train)\n",
        "Y_train = np.array(Y_train)"
      ],
      "execution_count": null,
      "outputs": [
        {
          "output_type": "stream",
          "text": [
            "Спикер Speaker_0006 готов -> 60c\n",
            "Спикер Speaker_0005 готов -> 58c\n",
            "Спикер Speaker_0003 готов -> 58c\n",
            "Спикер Speaker_0007 готов -> 58c\n",
            "Спикер Speaker_0001 готов -> 58c\n",
            "Спикер Speaker_0002 готов -> 58c\n",
            "Спикер Speaker_0008 готов -> 57c\n",
            "Спикер Speaker_0009 готов -> 58c\n",
            "Спикер Speaker_0010 готов -> 58c\n",
            "Спикер Speaker_0004 готов -> 58c\n"
          ],
          "name": "stdout"
        }
      ]
    },
    {
      "cell_type": "code",
      "metadata": {
        "id": "iHCTyx4pWdIb"
      },
      "source": [
        "#Создаём backup обучающей выборки\n",
        "X_train_backup = X_train.copy()\n",
        "Y_train_backup = Y_train.copy()"
      ],
      "execution_count": null,
      "outputs": []
    },
    {
      "cell_type": "code",
      "metadata": {
        "id": "ASH_Nlo9QX2r"
      },
      "source": [
        "X_train = []\n",
        "Y_train = []\n",
        "X_train = X_train_backup \n",
        "Y_train = Y_train_backup"
      ],
      "execution_count": null,
      "outputs": []
    },
    {
      "cell_type": "code",
      "metadata": {
        "id": "mSop5ieuS8bB",
        "colab": {
          "base_uri": "https://localhost:8080/",
          "height": 252
        },
        "outputId": "3c07bc10-e081-410c-e9e5-ca1fe726656e"
      },
      "source": [
        "#Выводим номера классов, чтобы проверить, что всё правильно заполнилось\n",
        "#И номера классов идут последовательно крупными блоками\n",
        "y_train_class = np.argmax(Y_train, axis=1)\n",
        "print(y_train_class)"
      ],
      "execution_count": null,
      "outputs": [
        {
          "output_type": "stream",
          "text": [
            "[0 0 0 0 0 0 0 0 0 0 0 0 0 0 0 0 0 0 0 0 0 0 0 0 0 0 0 0 0 0 0 0 0 0 0 0 0\n",
            " 0 0 0 0 0 0 0 0 0 0 0 0 0 1 1 1 1 1 1 1 1 1 1 1 1 1 1 1 1 1 1 1 1 1 1 1 1\n",
            " 1 1 1 1 1 1 1 1 1 1 1 1 1 1 1 1 1 1 1 1 1 1 1 1 1 1 2 2 2 2 2 2 2 2 2 2 2\n",
            " 2 2 2 2 2 2 2 2 2 2 2 2 2 2 2 2 2 2 2 2 2 2 2 2 2 2 2 2 2 2 2 2 2 2 2 2 2\n",
            " 2 2 3 3 3 3 3 3 3 3 3 3 3 3 3 3 3 3 3 3 3 3 3 3 3 3 3 3 3 3 3 3 3 3 3 3 3\n",
            " 3 3 3 3 3 3 3 3 3 3 3 3 3 3 3 4 4 4 4 4 4 4 4 4 4 4 4 4 4 4 4 4 4 4 4 4 4\n",
            " 4 4 4 4 4 4 4 4 4 4 4 4 4 4 4 4 4 4 4 4 4 4 4 4 4 4 4 4 5 5 5 5 5 5 5 5 5\n",
            " 5 5 5 5 5 5 5 5 5 5 5 5 5 5 5 5 5 5 5 5 5 5 5 5 5 5 5 5 5 5 5 5 5 5 5 5 5\n",
            " 5 5 5 5 6 6 6 6 6 6 6 6 6 6 6 6 6 6 6 6 6 6 6 6 6 6 6 6 6 6 6 6 6 6 6 6 6\n",
            " 6 6 6 6 6 6 6 6 6 6 6 6 6 6 6 6 6 7 7 7 7 7 7 7 7 7 7 7 7 7 7 7 7 7 7 7 7\n",
            " 7 7 7 7 7 7 7 7 7 7 7 7 7 7 7 7 7 7 7 7 7 7 7 7 7 7 7 7 7 7 8 8 8 8 8 8 8\n",
            " 8 8 8 8 8 8 8 8 8 8 8 8 8 8 8 8 8 8 8 8 8 8 8 8 8 8 8 8 8 8 8 8 8 8 8 8 8\n",
            " 8 8 8 8 8 8 9 9 9 9 9 9 9 9 9 9 9 9 9 9 9 9 9 9 9 9 9 9 9 9 9 9 9 9 9 9 9\n",
            " 9 9 9 9 9 9 9 9 9 9 9 9 9 9 9 9 9 9 9]\n"
          ],
          "name": "stdout"
        }
      ]
    },
    {
      "cell_type": "code",
      "metadata": {
        "id": "ZPB2A_HOSl-q",
        "colab": {
          "base_uri": "https://localhost:8080/",
          "height": 67
        },
        "outputId": "bea1942a-3285-48f7-bded-751640dea770"
      },
      "source": [
        "#Выводим размеры обучающей выборки\n",
        "print(X_train.shape)\n",
        "print(Y_train.shape)\n",
        "print(y_train_class.shape)"
      ],
      "execution_count": null,
      "outputs": [
        {
          "output_type": "stream",
          "text": [
            "(500, 37)\n",
            "(500, 10)\n",
            "(500,)\n"
          ],
          "name": "stdout"
        }
      ]
    },
    {
      "cell_type": "code",
      "metadata": {
        "id": "AJ1-UoWUNcTL"
      },
      "source": [
        "#Создаём scaler экземпляр класса StandardScaler() для нормировки данных\n",
        "scaler = StandardScaler()\n",
        "#Номируем X_train\n",
        "X_train = scaler.fit_transform(X_train)"
      ],
      "execution_count": null,
      "outputs": []
    },
    {
      "cell_type": "code",
      "metadata": {
        "id": "Gpi_4EfswvE2",
        "colab": {
          "base_uri": "https://localhost:8080/",
          "height": 134
        },
        "outputId": "a691cf2b-0756-4362-f97d-47cdcb971d01"
      },
      "source": [
        "#Проверяем, что X_train нормировался\n",
        "print(X_train[0])"
      ],
      "execution_count": null,
      "outputs": [
        {
          "output_type": "stream",
          "text": [
            "[-0.92534621 -0.46436784 -0.67116998 -0.52910736 -0.28006652 -1.03889956\n",
            " -1.05763029  0.90785306 -0.31727363  0.63059118  0.73672388  0.32202493\n",
            "  0.36096599 -0.39604965 -0.07747834 -0.29633089 -0.94842058 -0.96535073\n",
            " -0.29623486 -0.15953112 -0.42691583 -0.79831225  0.26910343 -0.39407113\n",
            " -0.5940868  -1.55617679 -1.95587422 -1.64333001 -0.94584988  0.19488897\n",
            "  0.07419262 -0.32692576 -0.42409733 -0.15194597  0.24065653 -0.28684766\n",
            " -1.0963149 ]\n"
          ],
          "name": "stdout"
        }
      ]
    },
    {
      "cell_type": "code",
      "metadata": {
        "id": "sSdgnnI_Sxir"
      },
      "source": [
        "#Разделяем выборку на обучающую и проверочную\n",
        "#Для проверочной используем 10% примеров\n",
        "#Так как база маленькая\n",
        "X_train, X_test, y_train, y_test = train_test_split(X_train, y_train_class, test_size=0.1, shuffle=True)"
      ],
      "execution_count": null,
      "outputs": []
    },
    {
      "cell_type": "code",
      "metadata": {
        "id": "up_RzaPSNfVe",
        "colab": {
          "base_uri": "https://localhost:8080/",
          "height": 84
        },
        "outputId": "4cf9960e-026c-495c-8b6c-272365d7361a"
      },
      "source": [
        "#Выводим размеры обучающей и проверочной выборки для проверки\n",
        "print(X_train.shape)\n",
        "print(y_train.shape)\n",
        "print(X_test.shape)\n",
        "print(y_test.shape)"
      ],
      "execution_count": null,
      "outputs": [
        {
          "output_type": "stream",
          "text": [
            "(450, 37)\n",
            "(450,)\n",
            "(50, 37)\n",
            "(50,)\n"
          ],
          "name": "stdout"
        }
      ]
    },
    {
      "cell_type": "code",
      "metadata": {
        "id": "fqpWVEbDNe2v",
        "colab": {
          "base_uri": "https://localhost:8080/",
          "height": 1000
        },
        "outputId": "5de25347-b26d-42cc-9b5f-78c21bdf42cd"
      },
      "source": [
        "# Создадим модель нейронной сети и выведем её структуру\n",
        "indexes = range(0,37)\n",
        "input1 = Input((len(indexes),))\n",
        "\n",
        "x1 = Dense(128, activation=\"elu\")(input1)\n",
        "x1 = Dropout(0.5)(x1)\n",
        "x1 = BatchNormalization()(x1)\n",
        "x1 = Dense(64, activation=\"elu\")(x1)\n",
        "x1 = Dropout(0.5)(x1)\n",
        "x1 = BatchNormalization()(x1)\n",
        "\n",
        "x2 = Dense(128, activation=\"elu\")(input1)\n",
        "x2 = BatchNormalization()(x2)\n",
        "x2 = Dropout(0.5)(x2)\n",
        "x2 = Dense(64, activation=\"elu\")(x2)\n",
        "x2 = BatchNormalization()(x2)\n",
        "x2 = Dropout(0.5)(x2)\n",
        "\n",
        "x3 = Dense(128, activation=\"elu\")(input1)\n",
        "x3 = Dropout(0.5)(x3)\n",
        "x3 = BatchNormalization()(x3)\n",
        "x3 = Dense(64, activation=\"elu\")(x3)\n",
        "x3 = BatchNormalization()(x3)\n",
        "x3 = Dropout(0.5)(x3)\n",
        "\n",
        "x = concatenate([x1, x2, x3])\n",
        "\n",
        "x = BatchNormalization()(x)\n",
        "x = Dense(128, activation='elu')(x)\n",
        "x = Dropout(0.5)(x)\n",
        "x = BatchNormalization()(x)\n",
        "x = Dense(len(speakers), activation='softmax')(x)\n",
        "\n",
        "model = Model(input1, x)\n",
        "\n",
        "plot_model(model, show_shapes=True, show_layer_names=True)"
      ],
      "execution_count": null,
      "outputs": [
        {
          "output_type": "execute_result",
          "data": {
            "image/png": "[encoded data removed]",
            "text/plain": [
              "<IPython.core.display.Image object>"
            ]
          },
          "metadata": {
            "tags": []
          },
          "execution_count": 134
        }
      ]
    },
    {
      "cell_type": "code",
      "metadata": {
        "id": "eTQ6-xS2CtQ9",
        "colab": {
          "base_uri": "https://localhost:8080/",
          "height": 1000
        },
        "outputId": "877a6d5c-7f29-47ac-e641-d2be835c5ab6"
      },
      "source": [
        "#Компилируем сеть\n",
        "model.compile(optimizer=RMSprop(lr=1e-5),\n",
        "              loss='sparse_categorical_crossentropy',\n",
        "              metrics=['accuracy'])\n",
        "\n",
        "#Обучаем\n",
        "history = model.fit(X_train[:, indexes],\n",
        "                    y_train,\n",
        "                    epochs=55,\n",
        "                    batch_size=30,\n",
        "                    validation_data=(X_test[:, indexes], y_test))\n",
        "\n",
        "#Выводим график точности распознавания на обучающей и проверочной выборках\n",
        "plt.plot(history.history['accuracy'], \n",
        "         label='Доля верных ответов на обучающем наборе')\n",
        "plt.plot(history.history['val_accuracy'], \n",
        "         label='Доля верных ответов на проверочном наборе')\n",
        "plt.xlabel('Эпоха обучения')\n",
        "plt.ylabel('Доля верных ответов')\n",
        "plt.legend()\n",
        "plt.show()"
      ],
      "execution_count": null,
      "outputs": [
        {
          "output_type": "stream",
          "text": [
            "Epoch 1/55\n",
            "15/15 [==============================] - 0s 22ms/step - loss: 3.0850 - accuracy: 0.0978 - val_loss: 2.4316 - val_accuracy: 0.1000\n",
            "Epoch 2/55\n",
            "15/15 [==============================] - 0s 10ms/step - loss: 2.9533 - accuracy: 0.1044 - val_loss: 2.3671 - val_accuracy: 0.1600\n",
            "Epoch 3/55\n",
            "15/15 [==============================] - 0s 9ms/step - loss: 2.9681 - accuracy: 0.1178 - val_loss: 2.3281 - val_accuracy: 0.1800\n",
            "Epoch 4/55\n",
            "15/15 [==============================] - 0s 10ms/step - loss: 2.9502 - accuracy: 0.1022 - val_loss: 2.2833 - val_accuracy: 0.1800\n",
            "Epoch 5/55\n",
            "15/15 [==============================] - 0s 7ms/step - loss: 3.0052 - accuracy: 0.1000 - val_loss: 2.2446 - val_accuracy: 0.2000\n",
            "Epoch 6/55\n",
            "15/15 [==============================] - 0s 7ms/step - loss: 2.9531 - accuracy: 0.0933 - val_loss: 2.2110 - val_accuracy: 0.2000\n",
            "Epoch 7/55\n",
            "15/15 [==============================] - 0s 7ms/step - loss: 2.9441 - accuracy: 0.1200 - val_loss: 2.1809 - val_accuracy: 0.2000\n",
            "Epoch 8/55\n",
            "15/15 [==============================] - 0s 7ms/step - loss: 2.9156 - accuracy: 0.1200 - val_loss: 2.1530 - val_accuracy: 0.2200\n",
            "Epoch 9/55\n",
            "15/15 [==============================] - 0s 7ms/step - loss: 2.8851 - accuracy: 0.1489 - val_loss: 2.1233 - val_accuracy: 0.2400\n",
            "Epoch 10/55\n",
            "15/15 [==============================] - 0s 7ms/step - loss: 2.9148 - accuracy: 0.1311 - val_loss: 2.0974 - val_accuracy: 0.2800\n",
            "Epoch 11/55\n",
            "15/15 [==============================] - 0s 7ms/step - loss: 2.7704 - accuracy: 0.1511 - val_loss: 2.0715 - val_accuracy: 0.3200\n",
            "Epoch 12/55\n",
            "15/15 [==============================] - 0s 7ms/step - loss: 2.7340 - accuracy: 0.1578 - val_loss: 2.0454 - val_accuracy: 0.3000\n",
            "Epoch 13/55\n",
            "15/15 [==============================] - 0s 7ms/step - loss: 2.8120 - accuracy: 0.1222 - val_loss: 2.0164 - val_accuracy: 0.3400\n",
            "Epoch 14/55\n",
            "15/15 [==============================] - 0s 7ms/step - loss: 2.7030 - accuracy: 0.1600 - val_loss: 1.9891 - val_accuracy: 0.3400\n",
            "Epoch 15/55\n",
            "15/15 [==============================] - 0s 7ms/step - loss: 2.8249 - accuracy: 0.1133 - val_loss: 1.9611 - val_accuracy: 0.3400\n",
            "Epoch 16/55\n",
            "15/15 [==============================] - 0s 9ms/step - loss: 2.6647 - accuracy: 0.1467 - val_loss: 1.9362 - val_accuracy: 0.3400\n",
            "Epoch 17/55\n",
            "15/15 [==============================] - 0s 9ms/step - loss: 2.6212 - accuracy: 0.1489 - val_loss: 1.9098 - val_accuracy: 0.3800\n",
            "Epoch 18/55\n",
            "15/15 [==============================] - 0s 7ms/step - loss: 2.7408 - accuracy: 0.1622 - val_loss: 1.8844 - val_accuracy: 0.3800\n",
            "Epoch 19/55\n",
            "15/15 [==============================] - 0s 7ms/step - loss: 2.6667 - accuracy: 0.1556 - val_loss: 1.8568 - val_accuracy: 0.4000\n",
            "Epoch 20/55\n",
            "15/15 [==============================] - 0s 7ms/step - loss: 2.6716 - accuracy: 0.1444 - val_loss: 1.8286 - val_accuracy: 0.4000\n",
            "Epoch 21/55\n",
            "15/15 [==============================] - 0s 7ms/step - loss: 2.5689 - accuracy: 0.1667 - val_loss: 1.8031 - val_accuracy: 0.4000\n",
            "Epoch 22/55\n",
            "15/15 [==============================] - 0s 9ms/step - loss: 2.6179 - accuracy: 0.1644 - val_loss: 1.7789 - val_accuracy: 0.4200\n",
            "Epoch 23/55\n",
            "15/15 [==============================] - 0s 9ms/step - loss: 2.5955 - accuracy: 0.1867 - val_loss: 1.7613 - val_accuracy: 0.4200\n",
            "Epoch 24/55\n",
            "15/15 [==============================] - 0s 8ms/step - loss: 2.4370 - accuracy: 0.1667 - val_loss: 1.7389 - val_accuracy: 0.4200\n",
            "Epoch 25/55\n",
            "15/15 [==============================] - 0s 7ms/step - loss: 2.5893 - accuracy: 0.1778 - val_loss: 1.7162 - val_accuracy: 0.4400\n",
            "Epoch 26/55\n",
            "15/15 [==============================] - 0s 7ms/step - loss: 2.5365 - accuracy: 0.2044 - val_loss: 1.6906 - val_accuracy: 0.4400\n",
            "Epoch 27/55\n",
            "15/15 [==============================] - 0s 7ms/step - loss: 2.4013 - accuracy: 0.2022 - val_loss: 1.6709 - val_accuracy: 0.4600\n",
            "Epoch 28/55\n",
            "15/15 [==============================] - 0s 7ms/step - loss: 2.3897 - accuracy: 0.2089 - val_loss: 1.6495 - val_accuracy: 0.4800\n",
            "Epoch 29/55\n",
            "15/15 [==============================] - 0s 7ms/step - loss: 2.4826 - accuracy: 0.2133 - val_loss: 1.6275 - val_accuracy: 0.5000\n",
            "Epoch 30/55\n",
            "15/15 [==============================] - 0s 7ms/step - loss: 2.4691 - accuracy: 0.2133 - val_loss: 1.6067 - val_accuracy: 0.5000\n",
            "Epoch 31/55\n",
            "15/15 [==============================] - 0s 7ms/step - loss: 2.2970 - accuracy: 0.2133 - val_loss: 1.5825 - val_accuracy: 0.5400\n",
            "Epoch 32/55\n",
            "15/15 [==============================] - 0s 7ms/step - loss: 2.3490 - accuracy: 0.2333 - val_loss: 1.5642 - val_accuracy: 0.5200\n",
            "Epoch 33/55\n",
            "15/15 [==============================] - 0s 7ms/step - loss: 2.3237 - accuracy: 0.2333 - val_loss: 1.5380 - val_accuracy: 0.5200\n",
            "Epoch 34/55\n",
            "15/15 [==============================] - 0s 7ms/step - loss: 2.3064 - accuracy: 0.2422 - val_loss: 1.5189 - val_accuracy: 0.5400\n",
            "Epoch 35/55\n",
            "15/15 [==============================] - 0s 7ms/step - loss: 2.3382 - accuracy: 0.2311 - val_loss: 1.4984 - val_accuracy: 0.5600\n",
            "Epoch 36/55\n",
            "15/15 [==============================] - 0s 7ms/step - loss: 2.3631 - accuracy: 0.2289 - val_loss: 1.4768 - val_accuracy: 0.5800\n",
            "Epoch 37/55\n",
            "15/15 [==============================] - 0s 7ms/step - loss: 2.3732 - accuracy: 0.2222 - val_loss: 1.4550 - val_accuracy: 0.6200\n",
            "Epoch 38/55\n",
            "15/15 [==============================] - 0s 7ms/step - loss: 2.3064 - accuracy: 0.2133 - val_loss: 1.4375 - val_accuracy: 0.6600\n",
            "Epoch 39/55\n",
            "15/15 [==============================] - 0s 8ms/step - loss: 2.3019 - accuracy: 0.2311 - val_loss: 1.4178 - val_accuracy: 0.6800\n",
            "Epoch 40/55\n",
            "15/15 [==============================] - 0s 7ms/step - loss: 2.2822 - accuracy: 0.2444 - val_loss: 1.3967 - val_accuracy: 0.6800\n",
            "Epoch 41/55\n",
            "15/15 [==============================] - 0s 7ms/step - loss: 2.1210 - accuracy: 0.2511 - val_loss: 1.3787 - val_accuracy: 0.6800\n",
            "Epoch 42/55\n",
            "15/15 [==============================] - 0s 7ms/step - loss: 2.2660 - accuracy: 0.2444 - val_loss: 1.3621 - val_accuracy: 0.7200\n",
            "Epoch 43/55\n",
            "15/15 [==============================] - 0s 7ms/step - loss: 2.1649 - accuracy: 0.2689 - val_loss: 1.3415 - val_accuracy: 0.7600\n",
            "Epoch 44/55\n",
            "15/15 [==============================] - 0s 7ms/step - loss: 2.1953 - accuracy: 0.2489 - val_loss: 1.3249 - val_accuracy: 0.7800\n",
            "Epoch 45/55\n",
            "15/15 [==============================] - 0s 7ms/step - loss: 2.1362 - accuracy: 0.2844 - val_loss: 1.3100 - val_accuracy: 0.8000\n",
            "Epoch 46/55\n",
            "15/15 [==============================] - 0s 7ms/step - loss: 2.2161 - accuracy: 0.2511 - val_loss: 1.2928 - val_accuracy: 0.8000\n",
            "Epoch 47/55\n",
            "15/15 [==============================] - 0s 7ms/step - loss: 2.1788 - accuracy: 0.2756 - val_loss: 1.2739 - val_accuracy: 0.8000\n",
            "Epoch 48/55\n",
            "15/15 [==============================] - 0s 11ms/step - loss: 2.0991 - accuracy: 0.2711 - val_loss: 1.2575 - val_accuracy: 0.8000\n",
            "Epoch 49/55\n",
            "15/15 [==============================] - 0s 7ms/step - loss: 1.9768 - accuracy: 0.2689 - val_loss: 1.2429 - val_accuracy: 0.8600\n",
            "Epoch 50/55\n",
            "15/15 [==============================] - 0s 7ms/step - loss: 2.0801 - accuracy: 0.2711 - val_loss: 1.2272 - val_accuracy: 0.8800\n",
            "Epoch 51/55\n",
            "15/15 [==============================] - 0s 7ms/step - loss: 1.9821 - accuracy: 0.3400 - val_loss: 1.2115 - val_accuracy: 0.8800\n",
            "Epoch 52/55\n",
            "15/15 [==============================] - 0s 7ms/step - loss: 2.0091 - accuracy: 0.2911 - val_loss: 1.1967 - val_accuracy: 0.8800\n",
            "Epoch 53/55\n",
            "15/15 [==============================] - 0s 8ms/step - loss: 2.0372 - accuracy: 0.3311 - val_loss: 1.1803 - val_accuracy: 0.8800\n",
            "Epoch 54/55\n",
            "15/15 [==============================] - 0s 7ms/step - loss: 1.9556 - accuracy: 0.3244 - val_loss: 1.1672 - val_accuracy: 0.8800\n",
            "Epoch 55/55\n",
            "15/15 [==============================] - 0s 7ms/step - loss: 2.0268 - accuracy: 0.2889 - val_loss: 1.1504 - val_accuracy: 0.9000\n"
          ],
          "name": "stdout"
        },
        {
          "output_type": "display_data",
          "data": {
            "image/png": "[encoded data removed]",
            "text/plain": [
              "<Figure size 432x288 with 1 Axes>"
            ]
          },
          "metadata": {
            "tags": [],
            "needs_background": "light"
          }
        }
      ]
    },
    {
      "cell_type": "code",
      "metadata": {
        "id": "btS399VIYwnq",
        "colab": {
          "base_uri": "https://localhost:8080/",
          "height": 521
        },
        "outputId": "3c6ec899-0df0-47a2-c5d1-ddf4b3e558ac"
      },
      "source": [
        "# Дообучим сеть\n",
        "\n",
        "#Компилируем сеть\n",
        "model.compile(optimizer=RMSprop(lr=1e-3),\n",
        "              loss='sparse_categorical_crossentropy',\n",
        "              metrics=['accuracy'])\n",
        "\n",
        "#Обучаем\n",
        "history = model.fit(X_train[:, indexes],\n",
        "                    y_train,\n",
        "                    epochs=15,\n",
        "                    batch_size=30,\n",
        "                    validation_data=(X_test[:, indexes], y_test))"
      ],
      "execution_count": null,
      "outputs": [
        {
          "output_type": "stream",
          "text": [
            "Epoch 1/15\n",
            "15/15 [==============================] - 0s 20ms/step - loss: 0.5562 - accuracy: 0.8867 - val_loss: 0.5948 - val_accuracy: 0.9400\n",
            "Epoch 2/15\n",
            "15/15 [==============================] - 0s 7ms/step - loss: 0.3929 - accuracy: 0.8844 - val_loss: 0.5964 - val_accuracy: 0.9400\n",
            "Epoch 3/15\n",
            "15/15 [==============================] - 0s 9ms/step - loss: 0.6133 - accuracy: 0.8422 - val_loss: 0.5773 - val_accuracy: 0.9400\n",
            "Epoch 4/15\n",
            "15/15 [==============================] - 0s 7ms/step - loss: 0.2790 - accuracy: 0.9156 - val_loss: 0.5682 - val_accuracy: 0.9400\n",
            "Epoch 5/15\n",
            "15/15 [==============================] - 0s 7ms/step - loss: 0.3664 - accuracy: 0.8956 - val_loss: 0.5711 - val_accuracy: 0.9400\n",
            "Epoch 6/15\n",
            "15/15 [==============================] - 0s 7ms/step - loss: 0.2869 - accuracy: 0.8956 - val_loss: 0.5780 - val_accuracy: 0.9600\n",
            "Epoch 7/15\n",
            "15/15 [==============================] - 0s 6ms/step - loss: 0.3921 - accuracy: 0.9000 - val_loss: 0.5828 - val_accuracy: 0.9400\n",
            "Epoch 8/15\n",
            "15/15 [==============================] - 0s 7ms/step - loss: 0.5011 - accuracy: 0.8644 - val_loss: 0.5866 - val_accuracy: 0.9400\n",
            "Epoch 9/15\n",
            "15/15 [==============================] - 0s 7ms/step - loss: 0.4985 - accuracy: 0.8889 - val_loss: 0.5745 - val_accuracy: 0.9400\n",
            "Epoch 10/15\n",
            "15/15 [==============================] - 0s 8ms/step - loss: 0.2406 - accuracy: 0.9133 - val_loss: 0.5716 - val_accuracy: 0.9600\n",
            "Epoch 11/15\n",
            "15/15 [==============================] - 0s 6ms/step - loss: 0.3394 - accuracy: 0.8844 - val_loss: 0.5722 - val_accuracy: 0.9600\n",
            "Epoch 12/15\n",
            "15/15 [==============================] - 0s 7ms/step - loss: 0.2958 - accuracy: 0.9111 - val_loss: 0.5730 - val_accuracy: 0.9400\n",
            "Epoch 13/15\n",
            "15/15 [==============================] - 0s 8ms/step - loss: 0.3718 - accuracy: 0.8844 - val_loss: 0.5596 - val_accuracy: 0.9400\n",
            "Epoch 14/15\n",
            "15/15 [==============================] - 0s 7ms/step - loss: 0.3979 - accuracy: 0.8889 - val_loss: 0.5605 - val_accuracy: 0.9400\n",
            "Epoch 15/15\n",
            "15/15 [==============================] - 0s 7ms/step - loss: 0.4206 - accuracy: 0.8978 - val_loss: 0.5601 - val_accuracy: 0.9600\n"
          ],
          "name": "stdout"
        }
      ]
    },
    {
      "cell_type": "code",
      "metadata": {
        "id": "pg4UkkodZOAg",
        "colab": {
          "base_uri": "https://localhost:8080/",
          "height": 34
        },
        "outputId": "b5d4bfb0-a72c-40e6-cc2f-221e2dc78477"
      },
      "source": [
        "last_val_accuracy = history.history['val_accuracy'][-1]\n",
        "print(\"Точность классификации данных на проверочной выборке:\", round(last_val_accuracy*100, 2), \"%\")"
      ],
      "execution_count": null,
      "outputs": [
        {
          "output_type": "stream",
          "text": [
            "Точность классификации данных на проверочной выборке: 96.0 %\n"
          ],
          "name": "stdout"
        }
      ]
    },
    {
      "cell_type": "markdown",
      "metadata": {
        "id": "tBkXdLyAgZWb"
      },
      "source": [
        "**Протестируем работу сети**"
      ]
    },
    {
      "cell_type": "code",
      "metadata": {
        "id": "Dd9NvuL7Q5Gl",
        "colab": {
          "base_uri": "https://localhost:8080/",
          "height": 185
        },
        "outputId": "02aa1584-17f3-4674-865d-2e083d490921"
      },
      "source": [
        "# Возьмем по одному треку от каждого спикера и протестируем работу сети\n",
        "\n",
        "for i in speakers:\n",
        "    songname = './10_speakers_audio_data/' + i + '/' + i + '_00000.wav'\n",
        "    y, sr = librosa.load(songname, mono=True, duration=30)\n",
        "    out = get_features(y, sr)\n",
        "    out = np.array(out).reshape(1,37)\n",
        "    out = scaler.transform(out)\n",
        "\n",
        "    #Делаем predict\n",
        "    y = model.predict(out)\n",
        "\n",
        "    pred = np.argmax(y)\n",
        "    real = speakers.index(i)\n",
        "\n",
        "    if pred == real: print(\"Спикер {} распознан верно!!!\".format(i))\n",
        "    else: print(\"Спикер {} - ошибочка вышла, попробуйте еще раз!\".format(i))"
      ],
      "execution_count": null,
      "outputs": [
        {
          "output_type": "stream",
          "text": [
            "Спикер Speaker_0006 распознан верно!!!\n",
            "Спикер Speaker_0005 распознан верно!!!\n",
            "Спикер Speaker_0003 распознан верно!!!\n",
            "Спикер Speaker_0007 распознан верно!!!\n",
            "Спикер Speaker_0001 распознан верно!!!\n",
            "Спикер Speaker_0002 распознан верно!!!\n",
            "Спикер Speaker_0008 распознан верно!!!\n",
            "Спикер Speaker_0009 распознан верно!!!\n",
            "Спикер Speaker_0010 распознан верно!!!\n",
            "Спикер Speaker_0004 распознан верно!!!\n"
          ],
          "name": "stdout"
        }
      ]
    },
    {
      "cell_type": "markdown",
      "metadata": {
        "id": "J68-db5ka07z"
      },
      "source": [
        "**Итог:**\n",
        "\n",
        "Точность классификации данных на проверочной выборке: **96.0 %**\n",
        "Все спикеры были распознаны правильно. Из чего можно сделать вывод, что даже усредняя данные и без применения балансировки можно добиться отличной работы нейронной сети!"
      ]
    }
  ]
}