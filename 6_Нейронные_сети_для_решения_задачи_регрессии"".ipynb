{
  "nbformat": 4,
  "nbformat_minor": 0,
  "metadata": {
    "colab": {
      "name": "6_Нейронные сети для решения задачи регрессии\"\"",
      "provenance": [],
      "collapsed_sections": [
        "OPcZQLbjKx4z",
        "QMSmKLGCWKSK",
        "wXERiwtVto4B"
      ],
      "toc_visible": true,
      "machine_shape": "hm",
      "include_colab_link": true
    },
    "kernelspec": {
      "name": "python3",
      "display_name": "Python 3"
    },
    "accelerator": "GPU"
  },
  "cells": [
    {
      "cell_type": "markdown",
      "metadata": {
        "id": "view-in-github",
        "colab_type": "text"
      },
      "source": [
        "<a href=\"https://colab.research.google.com/github/VVKate/Neural_University_HomeWorks/blob/main/6_%D0%9D%D0%B5%D0%B9%D1%80%D0%BE%D0%BD%D0%BD%D1%8B%D0%B5_%D1%81%D0%B5%D1%82%D0%B8_%D0%B4%D0%BB%D1%8F_%D1%80%D0%B5%D1%88%D0%B5%D0%BD%D0%B8%D1%8F_%D0%B7%D0%B0%D0%B4%D0%B0%D1%87%D0%B8_%D1%80%D0%B5%D0%B3%D1%80%D0%B5%D1%81%D1%81%D0%B8%D0%B8%22%22.ipynb\" target=\"_parent\"><img src=\"https://colab.research.google.com/assets/colab-badge.svg\" alt=\"Open In Colab\"/></a>"
      ]
    },
    {
      "cell_type": "markdown",
      "metadata": {
        "id": "cSoVj9VR9Ttr"
      },
      "source": [
        "# Домашнеее задание: Июльский курс (2020). Pro. Занятие 6\n",
        "# Нейронные сети для решения задачи регрессии\n",
        "## Верхошинская Катерина Викторовна\n",
        "\n"
      ]
    },
    {
      "cell_type": "markdown",
      "metadata": {
        "id": "OPcZQLbjKx4z"
      },
      "source": [
        "## **LIGHT**\n",
        "\n"
      ]
    },
    {
      "cell_type": "markdown",
      "metadata": {
        "id": "s31KBiGMK7Bs"
      },
      "source": [
        "**Задание** \n",
        "\n",
        "Используя шаблон ноутбука, требуется:\n",
        "1. Загрузить xTrain на числовых данных\n",
        "2. Загрузить xTrainС из \"Примечаний\" (тексты)\n",
        "3. Создать словарь\n",
        "4. Превратить xTrainC в формат bag of words (2000 самых популярных слов)\n",
        "5. Сделать нормирование данных\n",
        "6. Написать нейронную сеть\n"
      ]
    },
    {
      "cell_type": "code",
      "metadata": {
        "id": "Iti1SEE0vYSL"
      },
      "source": [
        "import numpy as np \n",
        "import pandas as pd \n",
        "\n",
        "from tensorflow.keras.models import Sequential, Model \n",
        "from tensorflow.keras.layers import concatenate, Input, Dense, Dropout, BatchNormalization, Flatten \n",
        "from tensorflow.keras import utils \n",
        "from tensorflow.keras.optimizers import Adam\n",
        "from tensorflow.keras.preprocessing.text import Tokenizer, text_to_word_sequence \n",
        "from tensorflow.keras.preprocessing.sequence import pad_sequences \n",
        "from tensorflow.keras.callbacks import LambdaCallback # подключаем колбэки\n",
        "\n",
        "from sklearn.preprocessing import StandardScaler \n",
        "from sklearn.model_selection import train_test_split # Для разбивки на выборки\n",
        "from sklearn.metrics import mean_squared_error, mean_absolute_error \n",
        "\n",
        "\n",
        "import random \n",
        "import math \n",
        "import re \n",
        "import matplotlib.pyplot as plt \n",
        "%matplotlib inline"
      ],
      "execution_count": null,
      "outputs": []
    },
    {
      "cell_type": "code",
      "metadata": {
        "id": "pFpUW8yDvYSR",
        "colab": {
          "base_uri": "https://localhost:8080/",
          "height": 33
        },
        "outputId": "cfa9a997-c854-4009-d767-7f0dde440463"
      },
      "source": [
        "#Загружаем данные в data frame и смотрим на его размер\n",
        "df = pd.read_csv('/content/drive/My Drive/Colab Notebooks/Базы/moscow.csv', sep=\";\") \n",
        "print(df.shape)"
      ],
      "execution_count": null,
      "outputs": [
        {
          "output_type": "stream",
          "text": [
            "(252536, 14)\n"
          ],
          "name": "stdout"
        }
      ]
    },
    {
      "cell_type": "code",
      "metadata": {
        "id": "AsjI7bynvYSX",
        "colab": {
          "base_uri": "https://localhost:8080/",
          "height": 467
        },
        "outputId": "d9917817-7ceb-4fe4-b895-56fb471d5d6d"
      },
      "source": [
        "#Посмотрим на \"шапку\" таблицы\n",
        "df.head()"
      ],
      "execution_count": null,
      "outputs": [
        {
          "output_type": "execute_result",
          "data": {
            "text/html": [
              "<div>\n",
              "<style scoped>\n",
              "    .dataframe tbody tr th:only-of-type {\n",
              "        vertical-align: middle;\n",
              "    }\n",
              "\n",
              "    .dataframe tbody tr th {\n",
              "        vertical-align: top;\n",
              "    }\n",
              "\n",
              "    .dataframe thead th {\n",
              "        text-align: right;\n",
              "    }\n",
              "</style>\n",
              "<table border=\"1\" class=\"dataframe\">\n",
              "  <thead>\n",
              "    <tr style=\"text-align: right;\">\n",
              "      <th></th>\n",
              "      <th>Комнат</th>\n",
              "      <th>Метро / ЖД станции</th>\n",
              "      <th>От станции</th>\n",
              "      <th>Дом</th>\n",
              "      <th>Балкон</th>\n",
              "      <th>Санузел</th>\n",
              "      <th>Площадь</th>\n",
              "      <th>Цена, руб.</th>\n",
              "      <th>ГРМ</th>\n",
              "      <th>Бонус агенту</th>\n",
              "      <th>Дата</th>\n",
              "      <th>Кол-во дней в экспозиции</th>\n",
              "      <th>Источник</th>\n",
              "      <th>Примечание</th>\n",
              "    </tr>\n",
              "  </thead>\n",
              "  <tbody>\n",
              "    <tr>\n",
              "      <th>0</th>\n",
              "      <td>1</td>\n",
              "      <td>Шелепиха м.</td>\n",
              "      <td>12п</td>\n",
              "      <td>35/37 М</td>\n",
              "      <td>NaN</td>\n",
              "      <td>2</td>\n",
              "      <td>64.1/23/20</td>\n",
              "      <td>19500000.0</td>\n",
              "      <td>NaN</td>\n",
              "      <td>NaN</td>\n",
              "      <td>25.07.2019</td>\n",
              "      <td>1.0</td>\n",
              "      <td>Привлекательные</td>\n",
              "      <td>Собственность оформлена! Ключи на руках! Опера...</td>\n",
              "    </tr>\n",
              "    <tr>\n",
              "      <th>1</th>\n",
              "      <td>Для заметок:</td>\n",
              "      <td>NaN</td>\n",
              "      <td>NaN</td>\n",
              "      <td>NaN</td>\n",
              "      <td>NaN</td>\n",
              "      <td>NaN</td>\n",
              "      <td>NaN</td>\n",
              "      <td>NaN</td>\n",
              "      <td>NaN</td>\n",
              "      <td>NaN</td>\n",
              "      <td>NaN</td>\n",
              "      <td>NaN</td>\n",
              "      <td>NaN</td>\n",
              "      <td>NaN</td>\n",
              "    </tr>\n",
              "    <tr>\n",
              "      <th>2</th>\n",
              "      <td>1</td>\n",
              "      <td>Пятницкое шоссе м.</td>\n",
              "      <td>30т</td>\n",
              "      <td>11/14 П</td>\n",
              "      <td>Л</td>\n",
              "      <td>Р</td>\n",
              "      <td>38.4/17/9</td>\n",
              "      <td>4800000.0</td>\n",
              "      <td>NaN</td>\n",
              "      <td>NaN</td>\n",
              "      <td>25.07.2019</td>\n",
              "      <td>2.0</td>\n",
              "      <td>Привлекательные</td>\n",
              "      <td>Зеленоград к.1820 однокомнатная квартира общ.3...</td>\n",
              "    </tr>\n",
              "    <tr>\n",
              "      <th>3</th>\n",
              "      <td>Для заметок:</td>\n",
              "      <td>NaN</td>\n",
              "      <td>NaN</td>\n",
              "      <td>NaN</td>\n",
              "      <td>NaN</td>\n",
              "      <td>NaN</td>\n",
              "      <td>NaN</td>\n",
              "      <td>NaN</td>\n",
              "      <td>NaN</td>\n",
              "      <td>NaN</td>\n",
              "      <td>NaN</td>\n",
              "      <td>NaN</td>\n",
              "      <td>NaN</td>\n",
              "      <td>NaN</td>\n",
              "    </tr>\n",
              "    <tr>\n",
              "      <th>4</th>\n",
              "      <td>1</td>\n",
              "      <td>Планерная м.</td>\n",
              "      <td>5т</td>\n",
              "      <td>11/22 П</td>\n",
              "      <td>Б</td>\n",
              "      <td>С</td>\n",
              "      <td>38.2/19.9/9.9</td>\n",
              "      <td>7990000.0</td>\n",
              "      <td>NaN</td>\n",
              "      <td>NaN</td>\n",
              "      <td>25.07.2019</td>\n",
              "      <td>4.0</td>\n",
              "      <td>Привлекательные</td>\n",
              "      <td>Уютная, светлая квартира, застекленный балкон ...</td>\n",
              "    </tr>\n",
              "  </tbody>\n",
              "</table>\n",
              "</div>"
            ],
            "text/plain": [
              "         Комнат  ...                                         Примечание\n",
              "0             1  ...  Собственность оформлена! Ключи на руках! Опера...\n",
              "1  Для заметок:  ...                                                NaN\n",
              "2             1  ...  Зеленоград к.1820 однокомнатная квартира общ.3...\n",
              "3  Для заметок:  ...                                                NaN\n",
              "4             1  ...  Уютная, светлая квартира, застекленный балкон ...\n",
              "\n",
              "[5 rows x 14 columns]"
            ]
          },
          "metadata": {
            "tags": []
          },
          "execution_count": 3
        }
      ]
    },
    {
      "cell_type": "code",
      "metadata": {
        "id": "JiheguphvYSc"
      },
      "source": [
        "#Вытаскиваем данные в numpy array, убирая нечётные строки (пустые строки \"Для заметок\"),\n",
        "df = df.iloc[::2,:] \n",
        "data = df.values"
      ],
      "execution_count": null,
      "outputs": []
    },
    {
      "cell_type": "code",
      "metadata": {
        "id": "BAilgny5vYSg"
      },
      "source": [
        "#Вычисляем количество комнат\n",
        "\n",
        "#maxRoomCount - максимальное число комнат в квартире\n",
        "#d - описание квартиры, одна строка из data1\n",
        "def getRoomsCount(d, maxRoomCount):\n",
        "  roomsCountStr = d[0] \n",
        "  roomsCount = 0\n",
        "  try:\n",
        "    roomsCount = int(roomsCountStr) \n",
        "    if (roomsCount > maxRoomCount): \n",
        "      roomsCount = maxRoomCount \n",
        "  except: \n",
        "    if (roomsCountStr == roomsCountStr): \n",
        "      if (\"Ст\" in roomsCountStr): \n",
        "        roomsCount = maxRoomCount + 1\n",
        "\n",
        "  return roomsCount"
      ],
      "execution_count": null,
      "outputs": []
    },
    {
      "cell_type": "code",
      "metadata": {
        "id": "OpQOXMo7vYSk",
        "colab": {
          "base_uri": "https://localhost:8080/",
          "height": 50
        },
        "outputId": "d2f72f59-2032-446f-8971-e65d7a23ea14"
      },
      "source": [
        "#Делаем маску однокомнатных квартир\n",
        "oneRoomMask = [getRoomsCount(d, 30) == 1 for d in data] \n",
        "data1 = data[oneRoomMask] #В data1 оставляем только однокомнатные квартиры\n",
        "print(data.shape)\n",
        "print(data1.shape)"
      ],
      "execution_count": null,
      "outputs": [
        {
          "output_type": "stream",
          "text": [
            "(126268, 14)\n",
            "(62504, 14)\n"
          ],
          "name": "stdout"
        }
      ]
    },
    {
      "cell_type": "code",
      "metadata": {
        "id": "ZkTP-4gPvYSm",
        "colab": {
          "base_uri": "https://localhost:8080/",
          "height": 368
        },
        "outputId": "22cd78de-e0df-460f-9e3a-17c438ac73cb"
      },
      "source": [
        "#Показываем пример данных (первые 5 колонок)\n",
        "print(df.iloc[:,:5].head(20))"
      ],
      "execution_count": null,
      "outputs": [
        {
          "output_type": "stream",
          "text": [
            "   Комнат        Метро / ЖД станции От станции        Дом Балкон\n",
            "0       1               Шелепиха м.        12п    35/37 М    NaN\n",
            "2       1        Пятницкое шоссе м.        30т    11/14 П      Л\n",
            "4       1              Планерная м.         5т    11/22 П      Б\n",
            "6       1            Шаболовская м.        12п     8/12 ?      Б\n",
            "8       1           Бабушкинская м.        15п     4/14 П    NaN\n",
            "10      1               Шелепиха м.        15п     9/36 К    NaN\n",
            "12      1    Улица Дмитриевского м.         2п     7/16 П      Л\n",
            "14      1  Бульвар Рокоссовского м.         2п      2/5 К      Б\n",
            "16      1           Марьина Роща м.        10п     7/14 П     2Б\n",
            "18      1                Марьино м.        20п  10/24 М-К    NaN\n",
            "20      1                Марьино м.         5т      5/5 П      Б\n",
            "22      1              Печатники м.         5т     2/12 П      -\n",
            "24      1      Красногвардейская м.         3п    20/30 М      Б\n",
            "26      1      Красногвардейская м.         3п    12/30 М      Б\n",
            "28      1      Красногвардейская м.         3п    16/30 М      -\n",
            "30      1         Площадь Ильича м.         8п     1/10 М      -\n",
            "32      1      Красногвардейская м.         3п     2/30 М      -\n",
            "34      1      Красногвардейская м.         3п     2/30 М      -\n",
            "36      1         Площадь Ильича м.         8п     8/28 М      Б\n",
            "38      1         Площадь Ильича м.         8п    10/28 М      Б\n"
          ],
          "name": "stdout"
        }
      ]
    },
    {
      "cell_type": "code",
      "metadata": {
        "id": "5JDiRImlvYSn",
        "colab": {
          "base_uri": "https://localhost:8080/",
          "height": 84
        },
        "outputId": "de65a2a6-0e14-44bf-d1e1-b8eaa938a777"
      },
      "source": [
        "print(df.columns)"
      ],
      "execution_count": null,
      "outputs": [
        {
          "output_type": "stream",
          "text": [
            "Index(['Комнат', 'Метро / ЖД станции', 'От станции', 'Дом', 'Балкон',\n",
            "       'Санузел', 'Площадь', 'Цена, руб.', 'ГРМ', 'Бонус агенту', 'Дата',\n",
            "       'Кол-во дней в экспозиции', 'Источник', 'Примечание'],\n",
            "      dtype='object')\n"
          ],
          "name": "stdout"
        }
      ]
    },
    {
      "cell_type": "markdown",
      "metadata": {
        "id": "Uan0JWIivYSp"
      },
      "source": [
        "### Функции - парсеры данных"
      ]
    },
    {
      "cell_type": "code",
      "metadata": {
        "id": "Hn4489TVvYSq"
      },
      "source": [
        "#Превращаем число комнат в категорию\n",
        "\n",
        "# 0 зарезервирован на неопознаное число комнат, а maxRoomCount+1 на \"Студию\"\n",
        "def getRoomsCountCategory(d, maxRoomCount):\n",
        "  \n",
        "  #Получаем число комнат\n",
        "  roomsCount = getRoomsCount(d, maxRoomCount) \n",
        "  \n",
        "  #Превращаем в категорию\n",
        "  roomsCount = utils.to_categorical(roomsCount, maxRoomCount + 2) \n",
        "  \n",
        "  return roomsCount"
      ],
      "execution_count": null,
      "outputs": []
    },
    {
      "cell_type": "code",
      "metadata": {
        "id": "oML2FT5cvYSs"
      },
      "source": [
        "#Получаем индекс станции метро\n",
        "\n",
        "#allMetroNames - все уникальные названия метро в базе\n",
        "#0 зарезервирован на неопознанное метро\n",
        "def getMetro(d, allMetroNames):\n",
        "  \n",
        "  #Получаем строку метро\n",
        "  metroStr = d[1] \n",
        "  metro = 0\n",
        "  \n",
        "  #Если находим метро во всех названиях, присваиваем индекс\n",
        "  if (metroStr in allMetroNames): \n",
        "    metro = allMetroNames.index(metroStr) + 1\n",
        "      \n",
        "  return metro"
      ],
      "execution_count": null,
      "outputs": []
    },
    {
      "cell_type": "code",
      "metadata": {
        "id": "mmzfd447vYSu"
      },
      "source": [
        "#Получаем тип метро\n",
        "\n",
        "#0 - внутри кольца\n",
        "#1 - кольцо\n",
        "#2 - 1-3 станции от конца\n",
        "#3 - 4-8 станций от кольца\n",
        "#4 - больше 8 станций от кольца\n",
        "def getMetroType(d):\n",
        "\n",
        "  #Получаем строку метро\n",
        "  metroTypeStr = d[1]\n",
        "\n",
        "  #Число классов метро\n",
        "  metroTypeClasses = 5\n",
        "\n",
        "  #Изначально считаем последний класс\n",
        "  metroType = metroTypeClasses - 1 \n",
        "  \n",
        "  #Метро внутри кольца\n",
        "  metroNamesInsideCircle = [\"Площадь Революции\", \"Арбатская\", \"Смоленская\", \"Красные Ворота\", \"Чистые пруды\", \"Лубянка\", \"Охотный Ряд\", \"Библиотека имени Ленина\", \"Кропоткинская\", \"Сухаревская\", \"Тургеневская\", \"Китай-город\", \"Третьяковская\", \"Трубная\", \"Сретенский бульвар\", \"Цветной бульвар\", \"Чеховская\", \"Боровицкая\", \"Полянка\", \"Маяковская\", \"Тверская\", \"Театральная\", \"Новокузнецкая\", \"Пушкинская\", \"Кузнецкий Мост\", \"Китай-город\", \"Александровский сад\"]\n",
        "  #Метро на кольце\n",
        "  metroNamesCircle = [\"Киевская\", \"Парк Культуры\", \"Октябрьская\", \"Добрынинская\", \"Павелецкая\", \"Таганская\", \"Курская\", \"Комсомольская\", \"Проспект Мира\", \"Новослободская\", \"Белорусская\", \"Краснопресненская\"]\n",
        "  #Метро 1-3 станции от кольца\n",
        "  metroNames13FromCircle = [\"Бауманская\", \"Электрозаводская\", \"Семёновская\", \"Площадь Ильича\", \"Авиамоторная\", \"Шоссе Энтузиастов\", \"Римская\", \"Крестьянская Застава\", \"Дубровка\", \"Пролетарская\", \"Волгоградский проспект\", \"Текстильщики\", \"Автозаводская\", \"Технопарк\", \"Коломенская\", \"Тульская\", \"Нагатинская\", \"Нагорная\", \"Шаболовская\", \"Ленинский проспект\", \"Академическая\", \"Фрунзенская\", \"Спортивная\", \"Воробьёвы горы\", \"Студенческая\", \"Кутузовская\", \"Фили\", \"Парк Победы\", \"Выставочная\", \"Международная\", \"Улица 1905 года\", \"Беговая\", \"Полежаевская\", \"Динамо\", \"Аэропорт\", \"Сокол\", \"Деловой центр\", \"Шелепиха\", \"Хорошёвская\", \"ЦСКА\", \"Петровский парк\", \"Савёловская\", \"Дмитровская\", \"Тимирязевская\", \"Достоевская\", \"Марьина Роща\", \"Бутырская\", \"Фонвизинская\", \"Рижская\", \"Алексеевская\", \"ВДНХ\", \"Красносельская\", \"Сокольники\", \"Преображенская площадь\"]\n",
        "  #Метро 4-8 станций от кольца\n",
        "  metroNames48FromCircle = [\"Партизанская\", \"Измайловская\", \"Первомайская\", \"Щёлковская\", \"Новокосино\", \"Новогиреево\", \"Перово\", \"Кузьминки\", \"Рязанский проспект\", \"Выхино\", \"Лермонтовский проспект\", \"Жулебино\", \"Партизанская\", \"Измайловская\", \"Первомайская\", \"Щёлковская\", \"Новокосино\", \"Новогиреево\", \"Перово\", \"Кузьминки\", \"Рязанский проспект\", \"Выхино\", \"Лермонтовский проспект\", \"Жулебино\", \"Улица Дмитриевского\", \"Кожуховская\", \"Печатники\", \"Волжская\", \"Люблино\", \"Братиславская\", \"Коломенская\", \"Каширская\", \"Кантемировская\", \"Царицыно\", \"Орехово\", \"Севастопольская\", \"Чертановская\", \"Южная\", \"Пражская\", \"Варшавская\", \"Профсоюзная\", \"Новые Черёмушки\", \"Калужская\", \"Беляево\", \"Коньково\", \"Университет\", \"Багратионовская\", \"Филёвский парк\", \"Пионерская\", \"Кунцевская\", \"Молодёжная\", \"Октябрьское Поле\", \"Щукинская\", \"Спартак\", \"Тушинская\", \"Сходненская\", \"Войковская\", \"Водный стадион\", \"Речной вокзал\", \"Беломорская\", \"Ховрино\", \"Петровско-Разумовская\", \"Владыкино\", \"Отрадное\", \"Бибирево\", \"Алтуфьево\", \"Фонвизинская\", \"Окружная\", \"Верхние Лихоборы\", \"Селигерская\", \"ВДНХ\", \"Ботанический сад\", \"Свиблово\", \"Бабушкинская\", \"Медведково\", \"Преображенская площадь\", \"Черкизовская\", \"Бульвар Рокоссовского\"]\n",
        "  \n",
        "  #Проверяем, в какую категорию попадает наша станция\n",
        "  if (metroTypeStr in metroNamesInsideCircle):\n",
        "    metroType = 0\n",
        "  if (metroTypeStr in metroNamesCircle):\n",
        "    metroType = 1\n",
        "  if (metroTypeStr in metroNames13FromCircle):\n",
        "    metroType = 2\n",
        "  if (metroTypeStr in metroNames48FromCircle):\n",
        "    metroType = 3\n",
        "  \n",
        "  #Превращаем результат в категорию\n",
        "  metroType = utils.to_categorical(metroType, metroTypeClasses)\n",
        "  return metroType\n"
      ],
      "execution_count": null,
      "outputs": []
    },
    {
      "cell_type": "code",
      "metadata": {
        "id": "YxN68SswvYSw"
      },
      "source": [
        "#Вычисляем растояние до метро\n",
        "\n",
        "def getMetroDistance(d):\n",
        "  #Получаем строку\n",
        "  metroDistanceStr = d[2] \n",
        "  \n",
        "  #Расстояние до метро\n",
        "  metroDistance = 0 \n",
        "\n",
        "  #Тип расстояния - пешком или на транспорте\n",
        "  metroDistanceType = 0 \n",
        "  \n",
        "  #Еcли строка не равна nan, \n",
        "  #Определяем тип расстояния - Пешком(1) или на транспорте(2)   \n",
        "  if (metroDistanceStr == metroDistanceStr):\n",
        "    if (len(metroDistanceStr) > 0):\n",
        "      if (metroDistanceStr[-1] == \"п\"):\n",
        "        metroDistanceType = 1 \n",
        "      elif (metroDistanceStr[-1] == \"т\"):\n",
        "        metroDistanceType = 2\n",
        "\n",
        "      #Выбрасываем последний символ, чтобы осталось только число\n",
        "      metroDistanceStr = metroDistanceStr[:-1]\n",
        "      try:\n",
        "        #Разделяем дистанции на категории\n",
        "        metroDistance = int(metroDistanceStr)\n",
        "        if (metroDistance < 3):\n",
        "          metroDistance = 1\n",
        "        elif (metroDistance < 6):\n",
        "          metroDistance = 2\n",
        "        elif (metroDistance < 10):\n",
        "          metroDistance = 3\n",
        "        elif (metroDistance < 15):\n",
        "          metroDistance = 4\n",
        "        elif (metroDistance < 20):\n",
        "          metroDistance = 5\n",
        "        else:\n",
        "          metroDistance = 6\n",
        "      except: #Если в строке не число, то категория 0\n",
        "        metroDistance = 0\n",
        "  \n",
        "  #Число классов дистанции\n",
        "  metroDistanceClasses = 7\n",
        "  \n",
        "  #Дополнительно обработаем \"на транспорте\" и \"неопознанный\"\n",
        "  if (metroDistanceType == 2):\n",
        "    metroDistance += metroDistanceClasses\n",
        "  if (metroDistanceType == 0):\n",
        "    metroDistance += 2*metroDistanceClasses\n",
        "    \n",
        "  #Превращаем в категории\n",
        "  metroDistance = utils.to_categorical(metroDistance, 3*metroDistanceClasses)\n",
        "  return metroDistance\n"
      ],
      "execution_count": null,
      "outputs": []
    },
    {
      "cell_type": "code",
      "metadata": {
        "id": "XFxo7sIbvYSx"
      },
      "source": [
        "#Получаем 4 типа данных\n",
        "#1 - этаж квартиры\n",
        "#2 - этажность дома\n",
        "#3 - индикатор, что последний этаж\n",
        "#4 - тип дома\n",
        "\n",
        "def getHouseTypeAndFloor(d):\n",
        "  try:\n",
        "    #Получаем строку типа дома и этажей\n",
        "    houseStr = d[3] \n",
        "  except:\n",
        "    houseStr = \"\"\n",
        "  \n",
        "  #Тип дома\n",
        "  houseType = 0\n",
        "\n",
        "  #Этаж квартиры\n",
        "  floor = 0 \n",
        "\n",
        "  #Этажность дома\n",
        "  floors = 0 \n",
        "\n",
        "  #Индикатор последнего этажа\n",
        "  isLastFloor = 0 \n",
        "  \n",
        "  #Проверяем строку на nan\n",
        "  if (houseStr == houseStr):\n",
        "    if (len(houseStr) > 1):\n",
        "    \n",
        "      try:\n",
        "        slashIndex = houseStr.index(\"/\") #Ищем разделитель /\n",
        "      except:\n",
        "        print(houseStr)\n",
        "\n",
        "      try:\n",
        "        spaceIndex = houseStr.index(\" \") #Ищем разделитель \" \"\n",
        "      except:\n",
        "        print(houseStr)\n",
        "\n",
        "      #Вытаскиваем строки: этажа, этажности, типа дома\n",
        "      floorStr = houseStr[:slashIndex]\n",
        "      floorsStr = houseStr[slashIndex+1:spaceIndex] \n",
        "      houseTypeStr = houseStr[spaceIndex+1:]\n",
        "\n",
        "      #Выбираем категорию этажа\n",
        "      #Первый этаж выделяем в отдельную категорию\n",
        "      #Если этаж последний, включаем индикатор последнего этажа\n",
        "      #Если строка не парсится в число, то категория этажа = 0 (отдельная)\n",
        "      try:\n",
        "        #Превращаем строку в число\n",
        "        floor = int(floorStr) \n",
        "        floorSave = floor\n",
        "        if (floorSave < 5):\n",
        "          floor = 2\n",
        "        if (floorSave < 10):\n",
        "          floor = 3\n",
        "        if (floorSave < 20):\n",
        "          floor = 4\n",
        "        if (floorSave >= 20):\n",
        "          floor = 5\n",
        "        if (floorSave == 1):\n",
        "          floor = 1 \n",
        "        if (floor == floors): \n",
        "          isLastFloor = 1 \n",
        "      except:\n",
        "        floor = 0 \n",
        "\n",
        "      #Выбираем категорию этажности дома\n",
        "      try:\n",
        "        #Превращаем строку в число\n",
        "        #Если строка не парсится в число, то категория этажности = 0 (отдельная)\n",
        "        floors = int(floorsStr) \n",
        "        floorsSave = floors\n",
        "        if (floorsSave < 5):\n",
        "          floors = 1\n",
        "        if (floorsSave < 10):\n",
        "          floors = 2\n",
        "        if (floorsSave < 20):\n",
        "          floors = 3\n",
        "        if (floorsSave >= 20):\n",
        "          floors = 4\n",
        "      except:\n",
        "        floors = 0 \n",
        "\n",
        "      #Определяем категорию типа дома\n",
        "      if (len(houseTypeStr) > 0):\n",
        "        if (\"М\" in houseTypeStr): \n",
        "          houseType = 1\n",
        "        if (\"К\" in houseTypeStr): \n",
        "          houseType = 2\n",
        "        if (\"П\" in houseTypeStr): \n",
        "          houseType = 3\n",
        "        if (\"Б\" in houseTypeStr): \n",
        "          houseType = 4\n",
        "        if (\"?\" in houseTypeStr): \n",
        "          houseType = 5\n",
        "        if (\"-\" in houseTypeStr): \n",
        "          houseType = 6\n",
        "    \n",
        "    #Превращаем все категории в one hot encoding\n",
        "    floor = utils.to_categorical(floor, 6)\n",
        "    floors = utils.to_categorical(floors, 5)\n",
        "    houseType = utils.to_categorical(houseType, 7)\n",
        "    \n",
        "    \n",
        "  return floor, floors, isLastFloor, houseType\n"
      ],
      "execution_count": null,
      "outputs": []
    },
    {
      "cell_type": "code",
      "metadata": {
        "id": "hGkeDp9rvYS0"
      },
      "source": [
        "#Вычисляем тип балкона\n",
        "def getBalcony(d):\n",
        "  \n",
        "  #Полуаем строку\n",
        "  balconyStr = d[4] \n",
        "  \n",
        "  #Выписываем все варианты балконов в базе\n",
        "  balconyVariants = ['Л', 'Б', '2Б', '-', '2Б2Л', 'БЛ', '3Б', '2Л', 'Эрк', 'Б2Л', 'ЭркЛ', '3Л', '4Л', '*Л', '*Б']\n",
        "  \n",
        "  #Проверяем на nan\n",
        "  if (balconyStr == balconyStr):\n",
        "     balcony = (balconyVariants.index(balconyStr) + 1)\n",
        "  else: balcony = 0 \n",
        "  \n",
        "  #Превращаем в one hot encoding\n",
        "  balcony = utils.to_categorical(balcony, 16)\n",
        "  \n",
        "  return balcony"
      ],
      "execution_count": null,
      "outputs": []
    },
    {
      "cell_type": "code",
      "metadata": {
        "id": "FT-9vlJ7vYS2"
      },
      "source": [
        "#Определяем тип санузла\n",
        "\n",
        "def getWC(d):\n",
        "  \n",
        "  #Получаем строку\n",
        "  wcStr = d[5] \n",
        "\n",
        "  #Выписываем все варианты санузлов в базе\n",
        "  wcVariants = ['2', 'Р', 'С', '-', '2С', '+', '4Р', '2Р', '3С', '4С', '4', '3', '3Р']\n",
        "  \n",
        "  #Проверяем на nan\n",
        "  if (wcStr == wcStr):  wc = wcVariants.index(wcStr) + 1\n",
        "  else: wc = 0 \n",
        "\n",
        "  #Превращаем в one hot encoding\n",
        "  wc = utils.to_categorical(wc, 14)\n",
        "  \n",
        "  return wc"
      ],
      "execution_count": null,
      "outputs": []
    },
    {
      "cell_type": "code",
      "metadata": {
        "id": "hi5INNvivYS4"
      },
      "source": [
        "#Определяем площадь\n",
        "\n",
        "def getArea(d):\n",
        "  areaStr = d[6] #Поулачем строку площади\n",
        "  \n",
        "  #Находим разделитель \"/\", берём число до разделителя и превращаем в число,\n",
        "  #Если не получается или нет разделителя, возвращаем 0\n",
        "  if (\"/\" in areaStr):\n",
        "    slashIndex = areaStr.index(\"/\") \n",
        "    try:\n",
        "      area = float(areaStr[:slashIndex]) \n",
        "    except:\n",
        "      area = 0 \n",
        "  else:\n",
        "    area = 0 \n",
        "    \n",
        "  return area"
      ],
      "execution_count": null,
      "outputs": []
    },
    {
      "cell_type": "code",
      "metadata": {
        "id": "1WjvHp3WvYS6"
      },
      "source": [
        "#Полуаем цену\n",
        "\n",
        "#Загружаем строку\n",
        "#Пробуем превратить в число\n",
        "#Если не получается, возвращаем 0\n",
        "def getCost(d):\n",
        "  costStr = d[7] \n",
        "  try:\n",
        "    cost = float(costStr) \n",
        "  except:\n",
        "    cost = 0 \n",
        "  \n",
        "  return cost"
      ],
      "execution_count": null,
      "outputs": []
    },
    {
      "cell_type": "code",
      "metadata": {
        "id": "cQgD76MnvYS8"
      },
      "source": [
        "#Получаем комментарий\n",
        "\n",
        "def getComment(d):\n",
        "  commentStr = d[-1]\n",
        "  \n",
        "  return commentStr"
      ],
      "execution_count": null,
      "outputs": []
    },
    {
      "cell_type": "code",
      "metadata": {
        "id": "XOcDfcqQvYS9"
      },
      "source": [
        "#Объединяем все числовые параметры вместе\n",
        "\n",
        "def getAllParameters(d, allMetroNames):\n",
        "  \n",
        "  #Загружаем все данные по отдельности\n",
        "  roomsCountType = getRoomsCountCategory(d, 30)\n",
        "  metro = getMetro(d, allMetroNames)\n",
        "  metroType = getMetroType(d)\n",
        "  metroDistance = getMetroDistance(d)\n",
        "  floor, floors, isLastFloor, houseType = getHouseTypeAndFloor(d)\n",
        "  balcony = getBalcony(d)\n",
        "  wc = getWC(d)\n",
        "  area = getArea(d)\n",
        "\n",
        "  #Объединяем в один лист\n",
        "  out = list(roomsCountType)\n",
        "  out.append(metro)\n",
        "  out.extend(metroType)\n",
        "  out.extend(metroDistance)\n",
        "  out.extend(floor)\n",
        "  out.extend(floors)\n",
        "  out.append(isLastFloor)\n",
        "  out.extend(houseType)\n",
        "  out.extend(balcony)\n",
        "  out.extend(wc)\n",
        "  out.append(area)\n",
        "  \n",
        "  return out"
      ],
      "execution_count": null,
      "outputs": []
    },
    {
      "cell_type": "markdown",
      "metadata": {
        "id": "9ghq_kAovYS_"
      },
      "source": [
        "#### Генераторы xTrain и yTrain"
      ]
    },
    {
      "cell_type": "code",
      "metadata": {
        "id": "dTD0NKwqvYS_"
      },
      "source": [
        "#Генерируем обучающаюу выборку - xTrain\n",
        "def getXTrain(data):\n",
        "  \n",
        "  #Получаем строку во всеми вариантами метро\n",
        "  allMertroNames = list(df[\"Метро / ЖД станции\"].unique())\n",
        "  \n",
        "  #Записываем данные в xTrain\n",
        "  xTrain = [getAllParameters(d, allMertroNames) for d in data]\n",
        "  xTrain = np.array(xTrain)\n",
        "  \n",
        "  return xTrain"
      ],
      "execution_count": null,
      "outputs": []
    },
    {
      "cell_type": "code",
      "metadata": {
        "id": "0I98X48gvYTA"
      },
      "source": [
        "#Генерируем обучающую выборку - yTrain\n",
        "def getYTrain(data):\n",
        "  \n",
        "  #Загружаем лист всех цен квартир по всем строкам data1\n",
        "  costList = [getCost(d) for d in data] \n",
        "  yTrain = np.array(costList)\n",
        "  \n",
        "  return yTrain"
      ],
      "execution_count": null,
      "outputs": []
    },
    {
      "cell_type": "markdown",
      "metadata": {
        "id": "I8jSfqoIvYTC"
      },
      "source": [
        "### Функции работы с текстовыми данными"
      ]
    },
    {
      "cell_type": "code",
      "metadata": {
        "id": "JKyAbkO5vYTC"
      },
      "source": [
        "# Очистка текста и превращение в набор слов\n",
        "\n",
        "def text2Words(text):\n",
        "\n",
        "  #Удаляем лишние символы и переводим в нижний регистр\n",
        "  text = text.replace(\".\", \"\")\n",
        "  text = text.replace(\"—\", \"\")\n",
        "  text = text.replace(\",\", \"\")\n",
        "  text = text.replace(\"!\", \"\")\n",
        "  text = text.replace(\"?\", \"\")\n",
        "  text = text.replace(\"…\", \"\")\n",
        "  text = text.lower() \n",
        "  \n",
        "  \n",
        "  words = [] \n",
        "  currWord = \"\"\n",
        "  \n",
        "  #идём по всем символам, игнорируем системынй символ\n",
        "  for symbol in text:\n",
        "    \n",
        "    if (symbol != \"\\ufeff\"): \n",
        "      if (symbol != \" \"): \n",
        "        currWord += symbol \n",
        "      else: \n",
        "        if (currWord != \"\"): \n",
        "          words.append(currWord) \n",
        "          currWord = \"\" \n",
        "\n",
        "  #Добавляем финальное слово, если оно не пустое\n",
        "  if (currWord != \"\"):\n",
        "        words.append(currWord)\n",
        "  \n",
        "  return words"
      ],
      "execution_count": null,
      "outputs": []
    },
    {
      "cell_type": "code",
      "metadata": {
        "id": "6t863FZbvYTD"
      },
      "source": [
        "# Создание словаря - все слова, упорядоченные по частоте появления\n",
        "\n",
        "def createVocabulary(allWords):\n",
        "  \n",
        "  #Создаём словарь, \n",
        "  #Ключи - все наши слова\n",
        "  #Количество появлений пока везде 0\n",
        "  wCount = dict.fromkeys(allWords, 0)\n",
        "\n",
        "  #Проходим по всем словам\n",
        "  for word in allWords:\n",
        "    wCount[word] += 1 \n",
        "\n",
        "  #Выцепляем лист из словаря\n",
        "  #И сортируем по частоте появления\n",
        "  wordsList = list(wCount.items())\n",
        "  wordsList.sort(key = lambda i:i[1], reverse=1)\n",
        "\n",
        "  sortedWords = [] \n",
        "\n",
        "  #Проходим по всем словам в отсортированном списке\n",
        "  for word in wordsList:\n",
        "    sortedWords.append(word[0])\n",
        "\n",
        "  wordIndexes = dict.fromkeys(allWords, 0)\n",
        "  \n",
        "  #Проходим по всем словам и ставим индекс = индексу слова в отсортированном листе слов + 1\n",
        "  for word in wordIndexes.keys():\n",
        "    wordIndexes[word] = sortedWords.index(word)+1\n",
        "  return wordIndexes"
      ],
      "execution_count": null,
      "outputs": []
    },
    {
      "cell_type": "code",
      "metadata": {
        "id": "7200UHGZvYTG"
      },
      "source": [
        "# Преобразования листа слов в лист индексов\n",
        "\n",
        "def words2Indexes(words, vocabulary, maxWordsCount):\n",
        "  wordsIndexes = []\n",
        "  \n",
        "  #Идём по всем словам, проверяем есть ли слово в словаре  \n",
        "  #Если слово есть в словаре, то индекс = индексу слова в словаре\n",
        "  #Если индекс ниже maxWordsCount - черты отсечения слов, то записываем индекс\n",
        "  #Иначе останется значение 0\n",
        "\n",
        "  for word in words:\n",
        "    wordIndex = 0 \n",
        "    wordInVocabulary = word in vocabulary \n",
        "\n",
        "    if (wordInVocabulary):\n",
        "      index = vocabulary[word] \n",
        "      if (index < maxWordsCount): \n",
        "        wordIndex = index\n",
        "      \n",
        "        \n",
        "    wordsIndexes.append(wordIndex)\n",
        "    \n",
        "  return wordsIndexes"
      ],
      "execution_count": null,
      "outputs": []
    },
    {
      "cell_type": "code",
      "metadata": {
        "id": "IYGg5oZpvYTH"
      },
      "source": [
        "# Преобразование по принципу words bag\n",
        "\n",
        "def changeXTo01(trainVector, wordsCount):\n",
        "  #Создаём вектор длины wordsCount с нулями\n",
        "  out = np.zeros(wordsCount)\n",
        "  \n",
        "  #Идём по всем индексам в строке\n",
        "  for x in trainVector:\n",
        "    out[x] = 1 \n",
        "    \n",
        "  return out"
      ],
      "execution_count": null,
      "outputs": []
    },
    {
      "cell_type": "code",
      "metadata": {
        "id": "D8dVtD3ZvYTI"
      },
      "source": [
        "# Преобразование выборки (обучающей или проверочной) по принципу words bag\n",
        "\n",
        "def changeSetTo01(trainSet, wordsCount):\n",
        "  out = []\n",
        "\n",
        "  #Проходим по всем векторам в наборе\n",
        "  for x in trainSet:\n",
        "    out.append(changeXTo01(x, wordsCount))\n",
        "  return np.array(out)"
      ],
      "execution_count": null,
      "outputs": []
    },
    {
      "cell_type": "code",
      "metadata": {
        "id": "6fet4wYYvYTL"
      },
      "source": [
        "# Формируем обучающую выборку из примечаний к квартирам в виде слов\n",
        "\n",
        "def getXTrainComments(data):\n",
        "  xTrainComments = [] # Обучающся выборка\n",
        "  allTextComments = \"\" # Все тексты \n",
        "  \n",
        "  #Идём по всем строкам квартир в базе\n",
        "  for d in data:\n",
        "    currText = getComment(d) #Вытаскиваем примечание к квартире\n",
        "    try: \n",
        "      if (currText == currText): #Проверяем на nan\n",
        "        allTextComments += currText + \" \" #Добавляем текст в общий текст для словаря\n",
        "    except:\n",
        "      currText = \"Нет комментария\"  #Если не получается, то делаем стандартный текст \"Нет комментария\"\n",
        "    xTrainComments.append(currText)  #Добавляем примечание новой строкой в обучающую выборку\n",
        "  \n",
        "  xTrainComments = np.array(xTrainComments)\n",
        "  \n",
        "  return (xTrainComments, allTextComments)"
      ],
      "execution_count": null,
      "outputs": []
    },
    {
      "cell_type": "code",
      "metadata": {
        "id": "DUm2x6UivYTN"
      },
      "source": [
        "# Формируем обучающую выборку из примечаний к квартирам в виде индексов\n",
        "\n",
        "def changeSetToIndexes(xTrainComments, vocabulary, maxWordsCount):\n",
        "  xTrainCommentsIndexes = [] # Итоговый xTrain примечаний в виде индексов\n",
        "  \n",
        "  #Идём по всем текстам\n",
        "  for text in xTrainComments:\n",
        "    currWords = text2Words(text) #Разбиваем текст на слова\n",
        "    currIndexes = words2Indexes(currWords, vocabulary, maxWordsCount) #Превращаем в лист индексов\n",
        "    currIndexes = np.array(currIndexes)\n",
        "    xTrainCommentsIndexes.append(currIndexes) #Добавляем в xTrain\n",
        "  \n",
        "  xTrainCommentsIndexes = np.array(xTrainCommentsIndexes)\n",
        "  xTrainCommentsIndexes = changeSetTo01(xTrainCommentsIndexes, maxWordsCount) #Превращаем в формат bag of words\n",
        "  return xTrainCommentsIndexes"
      ],
      "execution_count": null,
      "outputs": []
    },
    {
      "cell_type": "code",
      "metadata": {
        "id": "dxFXnxMIvYTQ"
      },
      "source": [
        "# Формируем обучающую выборку из примечаний к квартирам в виде индексов\n",
        "# С приведением к стандартной длине всех векторов - cropLen\n",
        "\n",
        "def changeSetToIndexesCrop(xTrainComments, vocabulary, maxWordsCount, cropLen):\n",
        "  xTrainCommentsIndexes = [] # Итоговый xTrain примечаний в виде индексов\n",
        "  \n",
        "  #Идём по всем текстам\n",
        "  for text in xTrainComments:\n",
        "    currWords = text2Words(text) #Разбиваем текст на слова\n",
        "    currIndexes = words2Indexes(currWords, vocabulary, maxWordsCount) #Превращаем в лист индексов\n",
        "    currIndexes = np.array(currIndexes)\n",
        "    xTrainCommentsIndexes.append(currIndexes) #Добавляем в xTrain\n",
        "  \n",
        "  xTrainCommentsIndexes = np.array(xTrainCommentsIndexes)\n",
        "  xTrainCommentsIndexes = pad_sequences(xTrainCommentsIndexes, maxlen=cropLen) #Приводим все вектора к стандартной длине\n",
        "  return xTrainCommentsIndexes"
      ],
      "execution_count": null,
      "outputs": []
    },
    {
      "cell_type": "markdown",
      "metadata": {
        "id": "MmFL3IFKvYTS"
      },
      "source": [
        "### Формируем выборки \n",
        "* xTrain и yTrain\n",
        "\n",
        "* Собираем xTrainС по текстам(\"Примечания\"), преобразеум xTrainC в bag of words, оставив 2000 самых популярных слов\n",
        "\n",
        "\n"
      ]
    },
    {
      "cell_type": "code",
      "metadata": {
        "id": "tfAv6-7wvYTT",
        "colab": {
          "base_uri": "https://localhost:8080/",
          "height": 33
        },
        "outputId": "fd1aa830-44fd-48e5-e2bc-501f8e43a9c7"
      },
      "source": [
        "xTrain = getXTrain(data1)\n",
        "yTrain = getYTrain(data1)\n",
        "print(xTrain.shape)"
      ],
      "execution_count": null,
      "outputs": [
        {
          "output_type": "stream",
          "text": [
            "(62504, 109)\n"
          ],
          "name": "stdout"
        }
      ]
    },
    {
      "cell_type": "code",
      "metadata": {
        "id": "XIzjuB8FvYTU",
        "colab": {
          "base_uri": "https://localhost:8080/",
          "height": 67
        },
        "outputId": "99d6d4ff-ce15-4d9f-d1ca-684a6db04125"
      },
      "source": [
        "xTrainC, allTextComments = getXTrainComments(data1) \n",
        "allWords = text2Words(allTextComments)\n",
        "allWords = allWords[::10]  #Берём 10% слов (иначе словарь слишком долго формируется)\n",
        "vocabulary = createVocabulary(allWords) #Создаём словарь\n",
        "xTrainC01 = changeSetToIndexes(xTrainC, vocabulary, 2000) \n",
        "\n",
        "#Выводим результаты, чтобы проверить, что все правильно собралось\n",
        "print(xTrain.shape)\n",
        "print(xTrainC.shape)\n",
        "print(xTrainC01.shape)"
      ],
      "execution_count": null,
      "outputs": [
        {
          "output_type": "stream",
          "text": [
            "(62504, 109)\n",
            "(62504,)\n",
            "(62504, 2000)\n"
          ],
          "name": "stdout"
        }
      ]
    },
    {
      "cell_type": "markdown",
      "metadata": {
        "id": "po_MF6ILvYTV"
      },
      "source": [
        "### Нормирование данных\n",
        "\n"
      ]
    },
    {
      "cell_type": "code",
      "metadata": {
        "id": "ouSwjjlNvYTW",
        "colab": {
          "base_uri": "https://localhost:8080/",
          "height": 485
        },
        "outputId": "87573a4f-4ca7-410e-c775-f39a9eab23e6"
      },
      "source": [
        "#Нормируем размер квартиры в xTrain\n",
        "xScaler = StandardScaler() #Создаём нормировщик нормальным распределением\n",
        "xScaler.fit(xTrain[:,-1].reshape(-1, 1)) #Обучаем его на площадях квартир\n",
        "xTrainScaled = xTrain.copy()\n",
        "xTrainScaled[:,-1] = xScaler.transform(xTrain[:,-1].reshape(-1, 1)).flatten() #Нормируем данные нормировщиком\n",
        "\n",
        "#Выводим размер и два примера для сравнения\n",
        "#Не нормированных данных и нормированных\n",
        "print(xTrainScaled.shape)\n",
        "print(xTrain[0])\n",
        "print(xTrainScaled[0])"
      ],
      "execution_count": null,
      "outputs": [
        {
          "output_type": "stream",
          "text": [
            "(62504, 109)\n",
            "[ 0.   1.   0.   0.   0.   0.   0.   0.   0.   0.   0.   0.   0.   0.\n",
            "  0.   0.   0.   0.   0.   0.   0.   0.   0.   0.   0.   0.   0.   0.\n",
            "  0.   0.   0.   0.   1.   0.   0.   0.   0.   1.   0.   0.   0.   0.\n",
            "  1.   0.   0.   0.   0.   0.   0.   0.   0.   0.   0.   0.   0.   0.\n",
            "  0.   0.   0.   0.   0.   0.   0.   0.   1.   0.   0.   0.   0.   1.\n",
            "  0.   0.   1.   0.   0.   0.   0.   0.   1.   0.   0.   0.   0.   0.\n",
            "  0.   0.   0.   0.   0.   0.   0.   0.   0.   0.   0.   1.   0.   0.\n",
            "  0.   0.   0.   0.   0.   0.   0.   0.   0.   0.  64.1]\n",
            "[0.         1.         0.         0.         0.         0.\n",
            " 0.         0.         0.         0.         0.         0.\n",
            " 0.         0.         0.         0.         0.         0.\n",
            " 0.         0.         0.         0.         0.         0.\n",
            " 0.         0.         0.         0.         0.         0.\n",
            " 0.         0.         1.         0.         0.         0.\n",
            " 0.         1.         0.         0.         0.         0.\n",
            " 1.         0.         0.         0.         0.         0.\n",
            " 0.         0.         0.         0.         0.         0.\n",
            " 0.         0.         0.         0.         0.         0.\n",
            " 0.         0.         0.         0.         1.         0.\n",
            " 0.         0.         0.         1.         0.         0.\n",
            " 1.         0.         0.         0.         0.         0.\n",
            " 1.         0.         0.         0.         0.         0.\n",
            " 0.         0.         0.         0.         0.         0.\n",
            " 0.         0.         0.         0.         0.         1.\n",
            " 0.         0.         0.         0.         0.         0.\n",
            " 0.         0.         0.         0.         0.         0.\n",
            " 1.28438086]\n"
          ],
          "name": "stdout"
        }
      ]
    },
    {
      "cell_type": "code",
      "metadata": {
        "id": "NZGLeAjVvYTX",
        "colab": {
          "base_uri": "https://localhost:8080/",
          "height": 67
        },
        "outputId": "1ed42db9-b30d-4db2-f5dd-36ebb015903b"
      },
      "source": [
        "#Нормируем выход сети - цену квартиры\n",
        "yScaler = StandardScaler() #Создаём нормировщик нормальным распределением\n",
        "yScaler.fit(yTrain.reshape(-1, 1)) #Обучаем на ценах квартир\n",
        "yTrainScaled = yScaler.transform(yTrain.reshape(-1, 1)) #Нормируем цены квартир\n",
        "\n",
        "#Выводим размер и два примера для сравнения\n",
        "#Не нормированных данных и нормированных\n",
        "print(yTrainScaled.shape)\n",
        "print(yTrain[0])\n",
        "print(yTrainScaled[0])"
      ],
      "execution_count": null,
      "outputs": [
        {
          "output_type": "stream",
          "text": [
            "(62504, 1)\n",
            "19500000.0\n",
            "[0.45013]\n"
          ],
          "name": "stdout"
        }
      ]
    },
    {
      "cell_type": "code",
      "metadata": {
        "id": "_mEanbuSvYTZ",
        "colab": {
          "base_uri": "https://localhost:8080/",
          "height": 50
        },
        "outputId": "eede6fe3-e25d-4403-ed76-66ce6cfcec31"
      },
      "source": [
        "# Смотрим на минимальные и максимальные значения\n",
        "print(min(yTrain), max(yTrain))\n",
        "print(min(yTrainScaled), max(yTrainScaled))"
      ],
      "execution_count": null,
      "outputs": [
        {
          "output_type": "stream",
          "text": [
            "1500000.0 3000000015.0\n",
            "[-0.3458729] [132.25494456]\n"
          ],
          "name": "stdout"
        }
      ]
    },
    {
      "cell_type": "code",
      "metadata": {
        "id": "sJPfCq74vYTb"
      },
      "source": [
        "# Формируем проверочную выборку\n",
        "\n",
        "splitVal = 0.2 #Процент, который выделяем в проверочную выборку\n",
        "valMask = np.random.sample(xTrainScaled.shape[0]) < splitVal #Создаём маску True-False для создания проверочной выборки"
      ],
      "execution_count": null,
      "outputs": []
    },
    {
      "cell_type": "markdown",
      "metadata": {
        "id": "sc169L9CvYTc"
      },
      "source": [
        "### Пишем нейронную сеть\n",
        "\n"
      ]
    },
    {
      "cell_type": "code",
      "metadata": {
        "id": "Rb9vxO8dvYTc"
      },
      "source": [
        "#Функция проверки результатов для испозования её в колбэках\n",
        "def on_epoch_end(epoch, logs):\n",
        "  #Полуаем выход сети на проверочно выборке\n",
        "  pred = model.predict([xTrainScaled[valMask], xTrainC01[valMask]]) \n",
        "\n",
        "  #Делаем обратное нормирование выхода к изначальным величинам цен квартир\n",
        "  predUnscaled = yScaler.inverse_transform(pred).flatten() \n",
        "  \n",
        "  #Делаем такое же обратное нормирование yTrain к базовым ценам\n",
        "  yTrainUnscaled = yScaler.inverse_transform(yTrainScaled[valMask]).flatten() \n",
        "  \n",
        "  #Считаем разность предсказания и правильных цен\n",
        "  delta = predUnscaled - yTrainUnscaled \n",
        "  \n",
        "  #Берём модуль отклонения\n",
        "  absDelta = abs(delta) \n",
        "  \n",
        "  #Выводим усреднённую ошибку в миллионах рублей\n",
        "  print(\"Эпоха\", epoch, \"модуль ошибки\", round(sum(absDelta) / (1e+6 * len(absDelta)),3)) \n",
        "\n",
        "# Коллбэки\n",
        "pltMae = LambdaCallback(on_epoch_end=on_epoch_end)"
      ],
      "execution_count": null,
      "outputs": []
    },
    {
      "cell_type": "code",
      "metadata": {
        "id": "8tLTD1c2KJlX",
        "colab": {
          "base_uri": "https://localhost:8080/",
          "height": 798
        },
        "outputId": "72ca4b09-5c60-4205-db02-d9b0204cac5e"
      },
      "source": [
        "#Создаем сеть\n",
        "input1 = Input((xTrainScaled.shape[1],))\n",
        "input2 = Input((xTrainC01.shape[1],))\n",
        "\n",
        "x1 = Dense(10, activation=\"relu\")(input1)\n",
        "x2 = Dense(250, activation=\"relu\")(input2)\n",
        "\n",
        "x = concatenate([x1, x2])\n",
        "\n",
        "x = Dense(100, activation='relu')(x)\n",
        "x = BatchNormalization()(x)\n",
        "x = Dropout(0.2)(x)\n",
        "x = Dense(100, activation='relu')(x)\n",
        "x = Dense(1, activation='linear')(x)\n",
        "\n",
        "model = Model((input1, input2), x)\n",
        "\n",
        "#Компилируем\n",
        "model.compile(optimizer=Adam(lr=1e-3), loss='MAE')\n",
        "\n",
        "#Обучаем\n",
        "history = model.fit([xTrainScaled[~valMask], xTrainC01[~valMask]], \n",
        "                    yTrainScaled[~valMask], \n",
        "                    epochs=30, \n",
        "                    validation_data=([xTrainScaled[valMask], xTrainC01[valMask]], \n",
        "                    yTrainScaled[valMask]), \n",
        "                    verbose=0,\n",
        "                    callbacks=[pltMae])\n",
        "\n",
        "\n",
        "#Проверяем результаты\n",
        "\n",
        "#Полуаем выход сети на проверочной выборке\n",
        "pred = model.predict([xTrainScaled[valMask], xTrainC01[valMask]])\n",
        "\n",
        "#Делаем обратное нормирование выхода к изначальным величинам цен квартир\n",
        "predUnscaled = yScaler.inverse_transform(pred).flatten() \n",
        "\n",
        "#Делаем такое же обратное нормирование yTrain к базовым ценам\n",
        "yTrainUnscaled = yScaler.inverse_transform(yTrainScaled[valMask]).flatten() \n",
        "\n",
        "#Считаем разность предсказания и правильных цен\n",
        "delta = predUnscaled - yTrainUnscaled \n",
        "\n",
        "#Берём модуль отклонения\n",
        "absDelta = abs(delta) \n",
        "\n",
        "#Выводим усреднённую ошибку в миллионах рублей\n",
        "print(\"Модуль ошибки\", sum(absDelta) / (1e+6 * len(absDelta))) \n",
        "\n",
        "#Визуализируем результаты, выводим графики ошибки\n",
        "plt.plot(history.history['loss'], label='Средняя абсолютная ошибка на обучающем наборе')\n",
        "plt.plot(history.history['val_loss'], label='Средняя абсолютная ошибка на проверочном наборе')\n",
        "plt.xlabel('Эпоха обучения')\n",
        "plt.ylabel('Средняя абсолютная ошибка')\n",
        "plt.legend()\n",
        "plt.show()"
      ],
      "execution_count": null,
      "outputs": [
        {
          "output_type": "stream",
          "text": [
            "Эпоха 0 модуль ошибки 1.651\n",
            "Эпоха 1 модуль ошибки 1.624\n",
            "Эпоха 2 модуль ошибки 1.264\n",
            "Эпоха 3 модуль ошибки 1.169\n",
            "Эпоха 4 модуль ошибки 1.164\n",
            "Эпоха 5 модуль ошибки 1.306\n",
            "Эпоха 6 модуль ошибки 1.137\n",
            "Эпоха 7 модуль ошибки 1.08\n",
            "Эпоха 8 модуль ошибки 1.205\n",
            "Эпоха 9 модуль ошибки 1.18\n",
            "Эпоха 10 модуль ошибки 1.08\n",
            "Эпоха 11 модуль ошибки 1.007\n",
            "Эпоха 12 модуль ошибки 0.912\n",
            "Эпоха 13 модуль ошибки 0.958\n",
            "Эпоха 14 модуль ошибки 1.026\n",
            "Эпоха 15 модуль ошибки 0.932\n",
            "Эпоха 16 модуль ошибки 0.938\n",
            "Эпоха 17 модуль ошибки 0.872\n",
            "Эпоха 18 модуль ошибки 0.907\n",
            "Эпоха 19 модуль ошибки 0.917\n",
            "Эпоха 20 модуль ошибки 0.875\n",
            "Эпоха 21 модуль ошибки 0.903\n",
            "Эпоха 22 модуль ошибки 0.894\n",
            "Эпоха 23 модуль ошибки 0.907\n",
            "Эпоха 24 модуль ошибки 1.018\n",
            "Эпоха 25 модуль ошибки 0.969\n",
            "Эпоха 26 модуль ошибки 0.89\n",
            "Эпоха 27 модуль ошибки 0.922\n",
            "Эпоха 28 модуль ошибки 1.225\n",
            "Эпоха 29 модуль ошибки 0.858\n",
            "Модуль ошибки 0.8579611114560942\n"
          ],
          "name": "stdout"
        },
        {
          "output_type": "display_data",
          "data": {
            "image/png": "[encoded data removed]",
            "text/plain": [
              "<Figure size 432x288 with 1 Axes>"
            ]
          },
          "metadata": {
            "tags": [],
            "needs_background": "light"
          }
        }
      ]
    },
    {
      "cell_type": "markdown",
      "metadata": {
        "id": "fw7kbSdvLdqS"
      },
      "source": [
        "**Итог:** модуль ошибки составил 0.858, тоесть 858 тысяч рублей"
      ]
    },
    {
      "cell_type": "markdown",
      "metadata": {
        "id": "QMSmKLGCWKSK"
      },
      "source": [
        "## **PRO**"
      ]
    },
    {
      "cell_type": "markdown",
      "metadata": {
        "id": "AlJn89kLWKSO"
      },
      "source": [
        "**Вариант 2**\n",
        "\n",
        "**Задание:**\n",
        "На базе квартир добейтесь средней абсолютной ошибки не более 800 тысяч"
      ]
    },
    {
      "cell_type": "code",
      "metadata": {
        "id": "Iy49o1G8aVM5"
      },
      "source": [
        "import numpy as np \n",
        "import pandas as pd \n",
        "\n",
        "from tensorflow.keras.models import Sequential, Model \n",
        "from tensorflow.keras.layers import concatenate, Input, Dense, Dropout, BatchNormalization, Flatten \n",
        "from tensorflow.keras import utils \n",
        "from tensorflow.keras.optimizers import Adam\n",
        "from tensorflow.keras.preprocessing.text import Tokenizer, text_to_word_sequence \n",
        "from tensorflow.keras.preprocessing.sequence import pad_sequences \n",
        "from tensorflow.keras.callbacks import LambdaCallback # подключаем колбэки\n",
        "\n",
        "from sklearn.preprocessing import StandardScaler \n",
        "from sklearn.model_selection import train_test_split # Для разбивки на выборки\n",
        "from sklearn.metrics import mean_squared_error, mean_absolute_error \n",
        "\n",
        "\n",
        "import random \n",
        "import math \n",
        "import re \n",
        "import matplotlib.pyplot as plt \n",
        "%matplotlib inline"
      ],
      "execution_count": null,
      "outputs": []
    },
    {
      "cell_type": "code",
      "metadata": {
        "id": "-l5YRqvAatWH",
        "colab": {
          "base_uri": "https://localhost:8080/",
          "height": 33
        },
        "outputId": "cfa9a997-c854-4009-d767-7f0dde440463"
      },
      "source": [
        "#Загружаем данные в data frame и смотрим на его размер\n",
        "df = pd.read_csv('/content/drive/My Drive/Colab Notebooks/Базы/moscow.csv', sep=\";\") \n",
        "print(df.shape)"
      ],
      "execution_count": null,
      "outputs": [
        {
          "output_type": "stream",
          "text": [
            "(252536, 14)\n"
          ],
          "name": "stdout"
        }
      ]
    },
    {
      "cell_type": "code",
      "metadata": {
        "id": "mV3jP5ehzxck",
        "colab": {
          "base_uri": "https://localhost:8080/",
          "height": 467
        },
        "outputId": "d9917817-7ceb-4fe4-b895-56fb471d5d6d"
      },
      "source": [
        "#Посмотрим на \"шапку\" таблицы\n",
        "df.head()"
      ],
      "execution_count": null,
      "outputs": [
        {
          "output_type": "execute_result",
          "data": {
            "text/html": [
              "<div>\n",
              "<style scoped>\n",
              "    .dataframe tbody tr th:only-of-type {\n",
              "        vertical-align: middle;\n",
              "    }\n",
              "\n",
              "    .dataframe tbody tr th {\n",
              "        vertical-align: top;\n",
              "    }\n",
              "\n",
              "    .dataframe thead th {\n",
              "        text-align: right;\n",
              "    }\n",
              "</style>\n",
              "<table border=\"1\" class=\"dataframe\">\n",
              "  <thead>\n",
              "    <tr style=\"text-align: right;\">\n",
              "      <th></th>\n",
              "      <th>Комнат</th>\n",
              "      <th>Метро / ЖД станции</th>\n",
              "      <th>От станции</th>\n",
              "      <th>Дом</th>\n",
              "      <th>Балкон</th>\n",
              "      <th>Санузел</th>\n",
              "      <th>Площадь</th>\n",
              "      <th>Цена, руб.</th>\n",
              "      <th>ГРМ</th>\n",
              "      <th>Бонус агенту</th>\n",
              "      <th>Дата</th>\n",
              "      <th>Кол-во дней в экспозиции</th>\n",
              "      <th>Источник</th>\n",
              "      <th>Примечание</th>\n",
              "    </tr>\n",
              "  </thead>\n",
              "  <tbody>\n",
              "    <tr>\n",
              "      <th>0</th>\n",
              "      <td>1</td>\n",
              "      <td>Шелепиха м.</td>\n",
              "      <td>12п</td>\n",
              "      <td>35/37 М</td>\n",
              "      <td>NaN</td>\n",
              "      <td>2</td>\n",
              "      <td>64.1/23/20</td>\n",
              "      <td>19500000.0</td>\n",
              "      <td>NaN</td>\n",
              "      <td>NaN</td>\n",
              "      <td>25.07.2019</td>\n",
              "      <td>1.0</td>\n",
              "      <td>Привлекательные</td>\n",
              "      <td>Собственность оформлена! Ключи на руках! Опера...</td>\n",
              "    </tr>\n",
              "    <tr>\n",
              "      <th>1</th>\n",
              "      <td>Для заметок:</td>\n",
              "      <td>NaN</td>\n",
              "      <td>NaN</td>\n",
              "      <td>NaN</td>\n",
              "      <td>NaN</td>\n",
              "      <td>NaN</td>\n",
              "      <td>NaN</td>\n",
              "      <td>NaN</td>\n",
              "      <td>NaN</td>\n",
              "      <td>NaN</td>\n",
              "      <td>NaN</td>\n",
              "      <td>NaN</td>\n",
              "      <td>NaN</td>\n",
              "      <td>NaN</td>\n",
              "    </tr>\n",
              "    <tr>\n",
              "      <th>2</th>\n",
              "      <td>1</td>\n",
              "      <td>Пятницкое шоссе м.</td>\n",
              "      <td>30т</td>\n",
              "      <td>11/14 П</td>\n",
              "      <td>Л</td>\n",
              "      <td>Р</td>\n",
              "      <td>38.4/17/9</td>\n",
              "      <td>4800000.0</td>\n",
              "      <td>NaN</td>\n",
              "      <td>NaN</td>\n",
              "      <td>25.07.2019</td>\n",
              "      <td>2.0</td>\n",
              "      <td>Привлекательные</td>\n",
              "      <td>Зеленоград к.1820 однокомнатная квартира общ.3...</td>\n",
              "    </tr>\n",
              "    <tr>\n",
              "      <th>3</th>\n",
              "      <td>Для заметок:</td>\n",
              "      <td>NaN</td>\n",
              "      <td>NaN</td>\n",
              "      <td>NaN</td>\n",
              "      <td>NaN</td>\n",
              "      <td>NaN</td>\n",
              "      <td>NaN</td>\n",
              "      <td>NaN</td>\n",
              "      <td>NaN</td>\n",
              "      <td>NaN</td>\n",
              "      <td>NaN</td>\n",
              "      <td>NaN</td>\n",
              "      <td>NaN</td>\n",
              "      <td>NaN</td>\n",
              "    </tr>\n",
              "    <tr>\n",
              "      <th>4</th>\n",
              "      <td>1</td>\n",
              "      <td>Планерная м.</td>\n",
              "      <td>5т</td>\n",
              "      <td>11/22 П</td>\n",
              "      <td>Б</td>\n",
              "      <td>С</td>\n",
              "      <td>38.2/19.9/9.9</td>\n",
              "      <td>7990000.0</td>\n",
              "      <td>NaN</td>\n",
              "      <td>NaN</td>\n",
              "      <td>25.07.2019</td>\n",
              "      <td>4.0</td>\n",
              "      <td>Привлекательные</td>\n",
              "      <td>Уютная, светлая квартира, застекленный балкон ...</td>\n",
              "    </tr>\n",
              "  </tbody>\n",
              "</table>\n",
              "</div>"
            ],
            "text/plain": [
              "         Комнат  ...                                         Примечание\n",
              "0             1  ...  Собственность оформлена! Ключи на руках! Опера...\n",
              "1  Для заметок:  ...                                                NaN\n",
              "2             1  ...  Зеленоград к.1820 однокомнатная квартира общ.3...\n",
              "3  Для заметок:  ...                                                NaN\n",
              "4             1  ...  Уютная, светлая квартира, застекленный балкон ...\n",
              "\n",
              "[5 rows x 14 columns]"
            ]
          },
          "metadata": {
            "tags": []
          },
          "execution_count": 3
        }
      ]
    },
    {
      "cell_type": "code",
      "metadata": {
        "id": "DjcBkZeL0OTo"
      },
      "source": [
        "#Вытаскиваем данные в numpy array, убирая нечётные строки (пустые строки \"Для заметок\"),\n",
        "df = df.iloc[::2,:] \n",
        "data = df.values"
      ],
      "execution_count": null,
      "outputs": []
    },
    {
      "cell_type": "code",
      "metadata": {
        "id": "WCD9TeeE0LdV"
      },
      "source": [
        "#Вычисляем количество комнат\n",
        "\n",
        "#maxRoomCount - максимальное число комнат в квартире\n",
        "#d - описание квартиры, одна строка из data1\n",
        "def getRoomsCount(d, maxRoomCount):\n",
        "  roomsCountStr = d[0] \n",
        "  roomsCount = 0\n",
        "  try:\n",
        "    roomsCount = int(roomsCountStr) \n",
        "    if (roomsCount > maxRoomCount): \n",
        "      roomsCount = maxRoomCount \n",
        "  except: \n",
        "    if (roomsCountStr == roomsCountStr): \n",
        "      if (\"Ст\" in roomsCountStr): \n",
        "        roomsCount = maxRoomCount + 1\n",
        "\n",
        "  return roomsCount"
      ],
      "execution_count": null,
      "outputs": []
    },
    {
      "cell_type": "code",
      "metadata": {
        "id": "Z8gJYEjtzsQG",
        "colab": {
          "base_uri": "https://localhost:8080/",
          "height": 50
        },
        "outputId": "d2f72f59-2032-446f-8971-e65d7a23ea14"
      },
      "source": [
        "#Делаем маску однокомнатных квартир\n",
        "oneRoomMask = [getRoomsCount(d, 30) == 1 for d in data] \n",
        "data1 = data[oneRoomMask] #В data1 оставляем только однокомнатные квартиры\n",
        "print(data.shape)\n",
        "print(data1.shape)"
      ],
      "execution_count": null,
      "outputs": [
        {
          "output_type": "stream",
          "text": [
            "(126268, 14)\n",
            "(62504, 14)\n"
          ],
          "name": "stdout"
        }
      ]
    },
    {
      "cell_type": "code",
      "metadata": {
        "id": "7slSlVC20XFn",
        "colab": {
          "base_uri": "https://localhost:8080/",
          "height": 368
        },
        "outputId": "22cd78de-e0df-460f-9e3a-17c438ac73cb"
      },
      "source": [
        "#Показываем пример данных (первые 5 колонок)\n",
        "print(df.iloc[:,:5].head(20))"
      ],
      "execution_count": null,
      "outputs": [
        {
          "output_type": "stream",
          "text": [
            "   Комнат        Метро / ЖД станции От станции        Дом Балкон\n",
            "0       1               Шелепиха м.        12п    35/37 М    NaN\n",
            "2       1        Пятницкое шоссе м.        30т    11/14 П      Л\n",
            "4       1              Планерная м.         5т    11/22 П      Б\n",
            "6       1            Шаболовская м.        12п     8/12 ?      Б\n",
            "8       1           Бабушкинская м.        15п     4/14 П    NaN\n",
            "10      1               Шелепиха м.        15п     9/36 К    NaN\n",
            "12      1    Улица Дмитриевского м.         2п     7/16 П      Л\n",
            "14      1  Бульвар Рокоссовского м.         2п      2/5 К      Б\n",
            "16      1           Марьина Роща м.        10п     7/14 П     2Б\n",
            "18      1                Марьино м.        20п  10/24 М-К    NaN\n",
            "20      1                Марьино м.         5т      5/5 П      Б\n",
            "22      1              Печатники м.         5т     2/12 П      -\n",
            "24      1      Красногвардейская м.         3п    20/30 М      Б\n",
            "26      1      Красногвардейская м.         3п    12/30 М      Б\n",
            "28      1      Красногвардейская м.         3п    16/30 М      -\n",
            "30      1         Площадь Ильича м.         8п     1/10 М      -\n",
            "32      1      Красногвардейская м.         3п     2/30 М      -\n",
            "34      1      Красногвардейская м.         3п     2/30 М      -\n",
            "36      1         Площадь Ильича м.         8п     8/28 М      Б\n",
            "38      1         Площадь Ильича м.         8п    10/28 М      Б\n"
          ],
          "name": "stdout"
        }
      ]
    },
    {
      "cell_type": "code",
      "metadata": {
        "id": "0DAWDaZI0YiU",
        "colab": {
          "base_uri": "https://localhost:8080/",
          "height": 84
        },
        "outputId": "de65a2a6-0e14-44bf-d1e1-b8eaa938a777"
      },
      "source": [
        "print(df.columns)"
      ],
      "execution_count": null,
      "outputs": [
        {
          "output_type": "stream",
          "text": [
            "Index(['Комнат', 'Метро / ЖД станции', 'От станции', 'Дом', 'Балкон',\n",
            "       'Санузел', 'Площадь', 'Цена, руб.', 'ГРМ', 'Бонус агенту', 'Дата',\n",
            "       'Кол-во дней в экспозиции', 'Источник', 'Примечание'],\n",
            "      dtype='object')\n"
          ],
          "name": "stdout"
        }
      ]
    },
    {
      "cell_type": "markdown",
      "metadata": {
        "id": "OiLfQahRyJpP"
      },
      "source": [
        "### Функции - парсеры данных"
      ]
    },
    {
      "cell_type": "code",
      "metadata": {
        "id": "0fxnesy-0dY7"
      },
      "source": [
        "#Превращаем число комнат в категорию\n",
        "\n",
        "# 0 зарезервирован на неопознаное число комнат, а maxRoomCount+1 на \"Студию\"\n",
        "def getRoomsCountCategory(d, maxRoomCount):\n",
        "  \n",
        "  #Получаем число комнат\n",
        "  roomsCount = getRoomsCount(d, maxRoomCount) \n",
        "  \n",
        "  #Превращаем в категорию\n",
        "  roomsCount = utils.to_categorical(roomsCount, maxRoomCount + 2) \n",
        "  \n",
        "  return roomsCount"
      ],
      "execution_count": null,
      "outputs": []
    },
    {
      "cell_type": "code",
      "metadata": {
        "id": "-Ccac1eV0f99"
      },
      "source": [
        "#Получаем индекс станции метро\n",
        "\n",
        "#allMetroNames - все уникальные названия метро в базе\n",
        "#0 зарезервирован на неопознанное метро\n",
        "def getMetro(d, allMetroNames):\n",
        "  \n",
        "  #Получаем строку метро\n",
        "  metroStr = d[1] \n",
        "  metro = 0\n",
        "  \n",
        "  #Если находим метро во всех названиях, присваиваем индекс\n",
        "  if (metroStr in allMetroNames): \n",
        "    metro = allMetroNames.index(metroStr) + 1\n",
        "      \n",
        "  return metro"
      ],
      "execution_count": null,
      "outputs": []
    },
    {
      "cell_type": "code",
      "metadata": {
        "id": "6cUwmVQN0i6H"
      },
      "source": [
        "#Получаем тип метро\n",
        "\n",
        "#0 - внутри кольца\n",
        "#1 - кольцо\n",
        "#2 - 1-3 станции от конца\n",
        "#3 - 4-8 станций от кольца\n",
        "#4 - больше 8 станций от кольца\n",
        "def getMetroType(d):\n",
        "\n",
        "  #Получаем строку метро\n",
        "  metroTypeStr = d[1]\n",
        "\n",
        "  #Число классов метро\n",
        "  metroTypeClasses = 5\n",
        "\n",
        "  #Изначально считаем последний класс\n",
        "  metroType = metroTypeClasses - 1 \n",
        "  \n",
        "  #Метро внутри кольца\n",
        "  metroNamesInsideCircle = [\"Площадь Революции\", \"Арбатская\", \"Смоленская\", \"Красные Ворота\", \"Чистые пруды\", \"Лубянка\", \"Охотный Ряд\", \"Библиотека имени Ленина\", \"Кропоткинская\", \"Сухаревская\", \"Тургеневская\", \"Китай-город\", \"Третьяковская\", \"Трубная\", \"Сретенский бульвар\", \"Цветной бульвар\", \"Чеховская\", \"Боровицкая\", \"Полянка\", \"Маяковская\", \"Тверская\", \"Театральная\", \"Новокузнецкая\", \"Пушкинская\", \"Кузнецкий Мост\", \"Китай-город\", \"Александровский сад\"]\n",
        "  #Метро на кольце\n",
        "  metroNamesCircle = [\"Киевская\", \"Парк Культуры\", \"Октябрьская\", \"Добрынинская\", \"Павелецкая\", \"Таганская\", \"Курская\", \"Комсомольская\", \"Проспект Мира\", \"Новослободская\", \"Белорусская\", \"Краснопресненская\"]\n",
        "  #Метро 1-3 станции от кольца\n",
        "  metroNames13FromCircle = [\"Бауманская\", \"Электрозаводская\", \"Семёновская\", \"Площадь Ильича\", \"Авиамоторная\", \"Шоссе Энтузиастов\", \"Римская\", \"Крестьянская Застава\", \"Дубровка\", \"Пролетарская\", \"Волгоградский проспект\", \"Текстильщики\", \"Автозаводская\", \"Технопарк\", \"Коломенская\", \"Тульская\", \"Нагатинская\", \"Нагорная\", \"Шаболовская\", \"Ленинский проспект\", \"Академическая\", \"Фрунзенская\", \"Спортивная\", \"Воробьёвы горы\", \"Студенческая\", \"Кутузовская\", \"Фили\", \"Парк Победы\", \"Выставочная\", \"Международная\", \"Улица 1905 года\", \"Беговая\", \"Полежаевская\", \"Динамо\", \"Аэропорт\", \"Сокол\", \"Деловой центр\", \"Шелепиха\", \"Хорошёвская\", \"ЦСКА\", \"Петровский парк\", \"Савёловская\", \"Дмитровская\", \"Тимирязевская\", \"Достоевская\", \"Марьина Роща\", \"Бутырская\", \"Фонвизинская\", \"Рижская\", \"Алексеевская\", \"ВДНХ\", \"Красносельская\", \"Сокольники\", \"Преображенская площадь\"]\n",
        "  #Метро 4-8 станций от кольца\n",
        "  metroNames48FromCircle = [\"Партизанская\", \"Измайловская\", \"Первомайская\", \"Щёлковская\", \"Новокосино\", \"Новогиреево\", \"Перово\", \"Кузьминки\", \"Рязанский проспект\", \"Выхино\", \"Лермонтовский проспект\", \"Жулебино\", \"Партизанская\", \"Измайловская\", \"Первомайская\", \"Щёлковская\", \"Новокосино\", \"Новогиреево\", \"Перово\", \"Кузьминки\", \"Рязанский проспект\", \"Выхино\", \"Лермонтовский проспект\", \"Жулебино\", \"Улица Дмитриевского\", \"Кожуховская\", \"Печатники\", \"Волжская\", \"Люблино\", \"Братиславская\", \"Коломенская\", \"Каширская\", \"Кантемировская\", \"Царицыно\", \"Орехово\", \"Севастопольская\", \"Чертановская\", \"Южная\", \"Пражская\", \"Варшавская\", \"Профсоюзная\", \"Новые Черёмушки\", \"Калужская\", \"Беляево\", \"Коньково\", \"Университет\", \"Багратионовская\", \"Филёвский парк\", \"Пионерская\", \"Кунцевская\", \"Молодёжная\", \"Октябрьское Поле\", \"Щукинская\", \"Спартак\", \"Тушинская\", \"Сходненская\", \"Войковская\", \"Водный стадион\", \"Речной вокзал\", \"Беломорская\", \"Ховрино\", \"Петровско-Разумовская\", \"Владыкино\", \"Отрадное\", \"Бибирево\", \"Алтуфьево\", \"Фонвизинская\", \"Окружная\", \"Верхние Лихоборы\", \"Селигерская\", \"ВДНХ\", \"Ботанический сад\", \"Свиблово\", \"Бабушкинская\", \"Медведково\", \"Преображенская площадь\", \"Черкизовская\", \"Бульвар Рокоссовского\"]\n",
        "  \n",
        "  #Проверяем, в какую категорию попадает наша станция\n",
        "  if (metroTypeStr in metroNamesInsideCircle):\n",
        "    metroType = 0\n",
        "  if (metroTypeStr in metroNamesCircle):\n",
        "    metroType = 1\n",
        "  if (metroTypeStr in metroNames13FromCircle):\n",
        "    metroType = 2\n",
        "  if (metroTypeStr in metroNames48FromCircle):\n",
        "    metroType = 3\n",
        "  \n",
        "  #Превращаем результат в категорию\n",
        "  metroType = utils.to_categorical(metroType, metroTypeClasses)\n",
        "  return metroType\n"
      ],
      "execution_count": null,
      "outputs": []
    },
    {
      "cell_type": "code",
      "metadata": {
        "id": "Vwzg0uPD0nnX"
      },
      "source": [
        "#Вычисляем растояние до метро\n",
        "\n",
        "def getMetroDistance(d):\n",
        "  #Получаем строку\n",
        "  metroDistanceStr = d[2] \n",
        "  \n",
        "  #Расстояние до метро\n",
        "  metroDistance = 0 \n",
        "\n",
        "  #Тип расстояния - пешком или на транспорте\n",
        "  metroDistanceType = 0 \n",
        "  \n",
        "  #Еcли строка не равна nan, \n",
        "  #Определяем тип расстояния - Пешком(1) или на транспорте(2)   \n",
        "  if (metroDistanceStr == metroDistanceStr):\n",
        "    if (len(metroDistanceStr) > 0):\n",
        "      if (metroDistanceStr[-1] == \"п\"):\n",
        "        metroDistanceType = 1 \n",
        "      elif (metroDistanceStr[-1] == \"т\"):\n",
        "        metroDistanceType = 2\n",
        "\n",
        "      #Выбрасываем последний символ, чтобы осталось только число\n",
        "      metroDistanceStr = metroDistanceStr[:-1]\n",
        "      try:\n",
        "        #Разделяем дистанции на категории\n",
        "        metroDistance = int(metroDistanceStr)\n",
        "        if (metroDistance < 3):\n",
        "          metroDistance = 1\n",
        "        elif (metroDistance < 6):\n",
        "          metroDistance = 2\n",
        "        elif (metroDistance < 10):\n",
        "          metroDistance = 3\n",
        "        elif (metroDistance < 15):\n",
        "          metroDistance = 4\n",
        "        elif (metroDistance < 20):\n",
        "          metroDistance = 5\n",
        "        else:\n",
        "          metroDistance = 6\n",
        "      except: #Если в строке не число, то категория 0\n",
        "        metroDistance = 0\n",
        "  \n",
        "  #Число классов дистанции\n",
        "  metroDistanceClasses = 7\n",
        "  \n",
        "  #Дополнительно обработаем \"на транспорте\" и \"неопознанный\"\n",
        "  if (metroDistanceType == 2):\n",
        "    metroDistance += metroDistanceClasses\n",
        "  if (metroDistanceType == 0):\n",
        "    metroDistance += 2*metroDistanceClasses\n",
        "    \n",
        "  #Превращаем в категории\n",
        "  metroDistance = utils.to_categorical(metroDistance, 3*metroDistanceClasses)\n",
        "  return metroDistance\n"
      ],
      "execution_count": null,
      "outputs": []
    },
    {
      "cell_type": "code",
      "metadata": {
        "id": "nEyNhBKd0tkR"
      },
      "source": [
        "#Получаем 4 типа данных\n",
        "#1 - этаж квартиры\n",
        "#2 - этажность дома\n",
        "#3 - индикатор, что последний этаж\n",
        "#4 - тип дома\n",
        "\n",
        "def getHouseTypeAndFloor(d):\n",
        "  try:\n",
        "    #Получаем строку типа дома и этажей\n",
        "    houseStr = d[3] \n",
        "  except:\n",
        "    houseStr = \"\"\n",
        "  \n",
        "  #Тип дома\n",
        "  houseType = 0\n",
        "\n",
        "  #Этаж квартиры\n",
        "  floor = 0 \n",
        "\n",
        "  #Этажность дома\n",
        "  floors = 0 \n",
        "\n",
        "  #Индикатор последнего этажа\n",
        "  isLastFloor = 0 \n",
        "  \n",
        "  #Проверяем строку на nan\n",
        "  if (houseStr == houseStr):\n",
        "    if (len(houseStr) > 1):\n",
        "    \n",
        "      try:\n",
        "        slashIndex = houseStr.index(\"/\") #Ищем разделитель /\n",
        "      except:\n",
        "        print(houseStr)\n",
        "\n",
        "      try:\n",
        "        spaceIndex = houseStr.index(\" \") #Ищем разделитель \" \"\n",
        "      except:\n",
        "        print(houseStr)\n",
        "\n",
        "      #Вытаскиваем строки: этажа, этажности, типа дома\n",
        "      floorStr = houseStr[:slashIndex]\n",
        "      floorsStr = houseStr[slashIndex+1:spaceIndex] \n",
        "      houseTypeStr = houseStr[spaceIndex+1:]\n",
        "\n",
        "      #Выбираем категорию этажа\n",
        "      #Первый этаж выделяем в отдельную категорию\n",
        "      #Если этаж последний, включаем индикатор последнего этажа\n",
        "      #Если строка не парсится в число, то категория этажа = 0 (отдельная)\n",
        "      try:\n",
        "        #Превращаем строку в число\n",
        "        floor = int(floorStr) \n",
        "        floorSave = floor\n",
        "        if (floorSave < 5):\n",
        "          floor = 2\n",
        "        if (floorSave < 10):\n",
        "          floor = 3\n",
        "        if (floorSave < 20):\n",
        "          floor = 4\n",
        "        if (floorSave >= 20):\n",
        "          floor = 5\n",
        "        if (floorSave == 1):\n",
        "          floor = 1 \n",
        "        if (floor == floors): \n",
        "          isLastFloor = 1 \n",
        "      except:\n",
        "        floor = 0 \n",
        "\n",
        "      #Выбираем категорию этажности дома\n",
        "      try:\n",
        "        #Превращаем строку в число\n",
        "        #Если строка не парсится в число, то категория этажности = 0 (отдельная)\n",
        "        floors = int(floorsStr) \n",
        "        floorsSave = floors\n",
        "        if (floorsSave < 5):\n",
        "          floors = 1\n",
        "        if (floorsSave < 10):\n",
        "          floors = 2\n",
        "        if (floorsSave < 20):\n",
        "          floors = 3\n",
        "        if (floorsSave >= 20):\n",
        "          floors = 4\n",
        "      except:\n",
        "        floors = 0 \n",
        "\n",
        "      #Определяем категорию типа дома\n",
        "      if (len(houseTypeStr) > 0):\n",
        "        if (\"М\" in houseTypeStr): \n",
        "          houseType = 1\n",
        "        if (\"К\" in houseTypeStr): \n",
        "          houseType = 2\n",
        "        if (\"П\" in houseTypeStr): \n",
        "          houseType = 3\n",
        "        if (\"Б\" in houseTypeStr): \n",
        "          houseType = 4\n",
        "        if (\"?\" in houseTypeStr): \n",
        "          houseType = 5\n",
        "        if (\"-\" in houseTypeStr): \n",
        "          houseType = 6\n",
        "    \n",
        "    #Превращаем все категории в one hot encoding\n",
        "    floor = utils.to_categorical(floor, 6)\n",
        "    floors = utils.to_categorical(floors, 5)\n",
        "    houseType = utils.to_categorical(houseType, 7)\n",
        "    \n",
        "    \n",
        "  return floor, floors, isLastFloor, houseType\n"
      ],
      "execution_count": null,
      "outputs": []
    },
    {
      "cell_type": "code",
      "metadata": {
        "id": "vROLBRZx0vwT"
      },
      "source": [
        "#Вычисляем тип балкона\n",
        "def getBalcony(d):\n",
        "  \n",
        "  #Полуаем строку\n",
        "  balconyStr = d[4] \n",
        "  \n",
        "  #Выписываем все варианты балконов в базе\n",
        "  balconyVariants = ['Л', 'Б', '2Б', '-', '2Б2Л', 'БЛ', '3Б', '2Л', 'Эрк', 'Б2Л', 'ЭркЛ', '3Л', '4Л', '*Л', '*Б']\n",
        "  \n",
        "  #Проверяем на nan\n",
        "  if (balconyStr == balconyStr):\n",
        "     balcony = (balconyVariants.index(balconyStr) + 1)\n",
        "  else: balcony = 0 \n",
        "  \n",
        "  #Превращаем в one hot encoding\n",
        "  balcony = utils.to_categorical(balcony, 16)\n",
        "  \n",
        "  return balcony"
      ],
      "execution_count": null,
      "outputs": []
    },
    {
      "cell_type": "code",
      "metadata": {
        "id": "5tCf8rXi0yZe"
      },
      "source": [
        "#Определяем тип санузла\n",
        "\n",
        "def getWC(d):\n",
        "  \n",
        "  #Получаем строку\n",
        "  wcStr = d[5] \n",
        "\n",
        "  #Выписываем все варианты санузлов в базе\n",
        "  wcVariants = ['2', 'Р', 'С', '-', '2С', '+', '4Р', '2Р', '3С', '4С', '4', '3', '3Р']\n",
        "  \n",
        "  #Проверяем на nan\n",
        "  if (wcStr == wcStr):  wc = wcVariants.index(wcStr) + 1\n",
        "  else: wc = 0 \n",
        "\n",
        "  #Превращаем в one hot encoding\n",
        "  wc = utils.to_categorical(wc, 14)\n",
        "  \n",
        "  return wc"
      ],
      "execution_count": null,
      "outputs": []
    },
    {
      "cell_type": "code",
      "metadata": {
        "id": "d01eRUel00ce"
      },
      "source": [
        "#Определяем площадь\n",
        "\n",
        "def getArea(d):\n",
        "  areaStr = d[6] #Поулачем строку площади\n",
        "  \n",
        "  #Находим разделитель \"/\", берём число до разделителя и превращаем в число,\n",
        "  #Если не получается или нет разделителя, возвращаем 0\n",
        "  if (\"/\" in areaStr):\n",
        "    slashIndex = areaStr.index(\"/\") \n",
        "    try:\n",
        "      area = float(areaStr[:slashIndex]) \n",
        "    except:\n",
        "      area = 0 \n",
        "  else:\n",
        "    area = 0 \n",
        "    \n",
        "  return area"
      ],
      "execution_count": null,
      "outputs": []
    },
    {
      "cell_type": "code",
      "metadata": {
        "id": "HAqB--v906t3"
      },
      "source": [
        "#Полуаем цену\n",
        "\n",
        "#Загружаем строку\n",
        "#Пробуем превратить в число\n",
        "#Если не получается, возвращаем 0\n",
        "def getCost(d):\n",
        "  costStr = d[7] \n",
        "  try:\n",
        "    cost = float(costStr) \n",
        "  except:\n",
        "    cost = 0 \n",
        "  \n",
        "  return cost"
      ],
      "execution_count": null,
      "outputs": []
    },
    {
      "cell_type": "code",
      "metadata": {
        "id": "flOlMBYa0-pl"
      },
      "source": [
        "#Получаем комментарий\n",
        "\n",
        "def getComment(d):\n",
        "  commentStr = d[-1]\n",
        "  \n",
        "  return commentStr"
      ],
      "execution_count": null,
      "outputs": []
    },
    {
      "cell_type": "code",
      "metadata": {
        "id": "aIiViyKI1A8V"
      },
      "source": [
        "#Объединяем все числовые параметры вместе\n",
        "\n",
        "def getAllParameters(d, allMetroNames):\n",
        "  \n",
        "  #Загружаем все данные по отдельности\n",
        "  roomsCountType = getRoomsCountCategory(d, 30)\n",
        "  metro = getMetro(d, allMetroNames)\n",
        "  metroType = getMetroType(d)\n",
        "  metroDistance = getMetroDistance(d)\n",
        "  floor, floors, isLastFloor, houseType = getHouseTypeAndFloor(d)\n",
        "  balcony = getBalcony(d)\n",
        "  wc = getWC(d)\n",
        "  area = getArea(d)\n",
        "\n",
        "  #Объединяем в один лист\n",
        "  out = list(roomsCountType)\n",
        "  out.append(metro)\n",
        "  out.extend(metroType)\n",
        "  out.extend(metroDistance)\n",
        "  out.extend(floor)\n",
        "  out.extend(floors)\n",
        "  out.append(isLastFloor)\n",
        "  out.extend(houseType)\n",
        "  out.extend(balcony)\n",
        "  out.extend(wc)\n",
        "  out.append(area)\n",
        "  \n",
        "  return out"
      ],
      "execution_count": null,
      "outputs": []
    },
    {
      "cell_type": "markdown",
      "metadata": {
        "id": "OuTRTh081KkP"
      },
      "source": [
        "#### Генераторы xTrain и yTrain"
      ]
    },
    {
      "cell_type": "code",
      "metadata": {
        "id": "K-kar6zs1EbR"
      },
      "source": [
        "#Генерируем обучающаюу выборку - xTrain\n",
        "def getXTrain(data):\n",
        "  \n",
        "  #Получаем строку во всеми вариантами метро\n",
        "  allMertroNames = list(df[\"Метро / ЖД станции\"].unique())\n",
        "  \n",
        "  #Записываем данные в xTrain\n",
        "  xTrain = [getAllParameters(d, allMertroNames) for d in data]\n",
        "  xTrain = np.array(xTrain)\n",
        "  \n",
        "  return xTrain"
      ],
      "execution_count": null,
      "outputs": []
    },
    {
      "cell_type": "code",
      "metadata": {
        "id": "owunaW__0cLE"
      },
      "source": [
        "#Генерируем обучающую выборку - yTrain\n",
        "def getYTrain(data):\n",
        "  \n",
        "  #Загружаем лист всех цен квартир по всем строкам data1\n",
        "  costList = [getCost(d) for d in data] \n",
        "  yTrain = np.array(costList)\n",
        "  \n",
        "  return yTrain"
      ],
      "execution_count": null,
      "outputs": []
    },
    {
      "cell_type": "markdown",
      "metadata": {
        "id": "t65e0UZh9eh9"
      },
      "source": [
        "### Функции работы с текстовыми данными"
      ]
    },
    {
      "cell_type": "code",
      "metadata": {
        "id": "vseQcz5rWTAS"
      },
      "source": [
        "# Очистка текста и превращение в набор слов\n",
        "\n",
        "def text2Words(text):\n",
        "\n",
        "  #Удаляем лишние символы и переводим в нижний регистр\n",
        "  text = text.replace(\".\", \"\")\n",
        "  text = text.replace(\"—\", \"\")\n",
        "  text = text.replace(\",\", \"\")\n",
        "  text = text.replace(\"!\", \"\")\n",
        "  text = text.replace(\"?\", \"\")\n",
        "  text = text.replace(\"…\", \"\")\n",
        "  text = text.lower() \n",
        "  \n",
        "  \n",
        "  words = [] \n",
        "  currWord = \"\"\n",
        "  \n",
        "  #идём по всем символам, игнорируем системынй символ\n",
        "  for symbol in text:\n",
        "    \n",
        "    if (symbol != \"\\ufeff\"): \n",
        "      if (symbol != \" \"): \n",
        "        currWord += symbol \n",
        "      else: \n",
        "        if (currWord != \"\"): \n",
        "          words.append(currWord) \n",
        "          currWord = \"\" \n",
        "\n",
        "  #Добавляем финальное слово, если оно не пустое\n",
        "  if (currWord != \"\"):\n",
        "        words.append(currWord)\n",
        "  \n",
        "  return words"
      ],
      "execution_count": null,
      "outputs": []
    },
    {
      "cell_type": "code",
      "metadata": {
        "id": "Ou4XKtNcXGt6"
      },
      "source": [
        "# Создание словаря - все слова, упорядоченные по частоте появления\n",
        "\n",
        "def createVocabulary(allWords):\n",
        "  \n",
        "  #Создаём словарь, \n",
        "  #Ключи - все наши слова\n",
        "  #Количество появлений пока везде 0\n",
        "  wCount = dict.fromkeys(allWords, 0)\n",
        "\n",
        "  #Проходим по всем словам\n",
        "  for word in allWords:\n",
        "    wCount[word] += 1 \n",
        "\n",
        "  #Выцепляем лист из словаря\n",
        "  #И сортируем по частоте появления\n",
        "  wordsList = list(wCount.items())\n",
        "  wordsList.sort(key = lambda i:i[1], reverse=1)\n",
        "\n",
        "  sortedWords = [] \n",
        "\n",
        "  #Проходим по всем словам в отсортированном списке\n",
        "  for word in wordsList:\n",
        "    sortedWords.append(word[0])\n",
        "\n",
        "  wordIndexes = dict.fromkeys(allWords, 0)\n",
        "  \n",
        "  #Проходим по всем словам и ставим индекс = индексу слова в отсортированном листе слов + 1\n",
        "  for word in wordIndexes.keys():\n",
        "    wordIndexes[word] = sortedWords.index(word)+1\n",
        "  return wordIndexes"
      ],
      "execution_count": null,
      "outputs": []
    },
    {
      "cell_type": "code",
      "metadata": {
        "id": "EClBi7BiXI2v"
      },
      "source": [
        "# Преобразования листа слов в лист индексов\n",
        "\n",
        "def words2Indexes(words, vocabulary, maxWordsCount):\n",
        "  wordsIndexes = []\n",
        "  \n",
        "  #Идём по всем словам, проверяем есть ли слово в словаре  \n",
        "  #Если слово есть в словаре, то индекс = индексу слова в словаре\n",
        "  #Если индекс ниже maxWordsCount - черты отсечения слов, то записываем индекс\n",
        "  #Иначе останется значение 0\n",
        "\n",
        "  for word in words:\n",
        "    wordIndex = 0 \n",
        "    wordInVocabulary = word in vocabulary \n",
        "\n",
        "    if (wordInVocabulary):\n",
        "      index = vocabulary[word] \n",
        "      if (index < maxWordsCount): \n",
        "        wordIndex = index\n",
        "      \n",
        "        \n",
        "    wordsIndexes.append(wordIndex)\n",
        "    \n",
        "  return wordsIndexes"
      ],
      "execution_count": null,
      "outputs": []
    },
    {
      "cell_type": "code",
      "metadata": {
        "id": "tm6LqBjDXLBl"
      },
      "source": [
        "# Преобразование по принципу words bag\n",
        "\n",
        "def changeXTo01(trainVector, wordsCount):\n",
        "  #Создаём вектор длины wordsCount с нулями\n",
        "  out = np.zeros(wordsCount)\n",
        "  \n",
        "  #Идём по всем индексам в строке\n",
        "  for x in trainVector:\n",
        "    out[x] = 1 \n",
        "    \n",
        "  return out"
      ],
      "execution_count": null,
      "outputs": []
    },
    {
      "cell_type": "code",
      "metadata": {
        "id": "gBiVqXfzXNNT"
      },
      "source": [
        "# Преобразование выборки (обучающей или проверочной) по принципу words bag\n",
        "\n",
        "def changeSetTo01(trainSet, wordsCount):\n",
        "  out = []\n",
        "\n",
        "  #Проходим по всем векторам в наборе\n",
        "  for x in trainSet:\n",
        "    out.append(changeXTo01(x, wordsCount))\n",
        "  return np.array(out)"
      ],
      "execution_count": null,
      "outputs": []
    },
    {
      "cell_type": "code",
      "metadata": {
        "id": "q-PKU_tCXQQs"
      },
      "source": [
        "# Формируем обучающую выборку из примечаний к квартирам в виде слов\n",
        "\n",
        "def getXTrainComments(data):\n",
        "  xTrainComments = [] # Обучающся выборка\n",
        "  allTextComments = \"\" # Все тексты \n",
        "  \n",
        "  #Идём по всем строкам квартир в базе\n",
        "  for d in data:\n",
        "    currText = getComment(d) #Вытаскиваем примечание к квартире\n",
        "    try: \n",
        "      if (currText == currText): #Проверяем на nan\n",
        "        allTextComments += currText + \" \" #Добавляем текст в общий текст для словаря\n",
        "    except:\n",
        "      currText = \"Нет комментария\"  #Если не получается, то делаем стандартный текст \"Нет комментария\"\n",
        "    xTrainComments.append(currText)  #Добавляем примечание новой строкой в обучающую выборку\n",
        "  \n",
        "  xTrainComments = np.array(xTrainComments)\n",
        "  \n",
        "  return (xTrainComments, allTextComments)"
      ],
      "execution_count": null,
      "outputs": []
    },
    {
      "cell_type": "code",
      "metadata": {
        "id": "GHzVrGQQXQFG"
      },
      "source": [
        "# Формируем обучающую выборку из примечаний к квартирам в виде индексов\n",
        "\n",
        "def changeSetToIndexes(xTrainComments, vocabulary, maxWordsCount):\n",
        "  xTrainCommentsIndexes = [] # Итоговый xTrain примечаний в виде индексов\n",
        "  \n",
        "  #Идём по всем текстам\n",
        "  for text in xTrainComments:\n",
        "    currWords = text2Words(text) #Разбиваем текст на слова\n",
        "    currIndexes = words2Indexes(currWords, vocabulary, maxWordsCount) #Превращаем в лист индексов\n",
        "    currIndexes = np.array(currIndexes)\n",
        "    xTrainCommentsIndexes.append(currIndexes) #Добавляем в xTrain\n",
        "  \n",
        "  xTrainCommentsIndexes = np.array(xTrainCommentsIndexes)\n",
        "  xTrainCommentsIndexes = changeSetTo01(xTrainCommentsIndexes, maxWordsCount) #Превращаем в формат bag of words\n",
        "  return xTrainCommentsIndexes"
      ],
      "execution_count": null,
      "outputs": []
    },
    {
      "cell_type": "code",
      "metadata": {
        "id": "wqC9ghFl0sp-"
      },
      "source": [
        "# Формируем обучающую выборку из примечаний к квартирам в виде индексов\n",
        "# С приведением к стандартной длине всех векторов - cropLen\n",
        "\n",
        "def changeSetToIndexesCrop(xTrainComments, vocabulary, maxWordsCount, cropLen):\n",
        "  xTrainCommentsIndexes = [] # Итоговый xTrain примечаний в виде индексов\n",
        "  \n",
        "  #Идём по всем текстам\n",
        "  for text in xTrainComments:\n",
        "    currWords = text2Words(text) #Разбиваем текст на слова\n",
        "    currIndexes = words2Indexes(currWords, vocabulary, maxWordsCount) #Превращаем в лист индексов\n",
        "    currIndexes = np.array(currIndexes)\n",
        "    xTrainCommentsIndexes.append(currIndexes) #Добавляем в xTrain\n",
        "  \n",
        "  xTrainCommentsIndexes = np.array(xTrainCommentsIndexes)\n",
        "  xTrainCommentsIndexes = pad_sequences(xTrainCommentsIndexes, maxlen=cropLen) #Приводим все вектора к стандартной длине\n",
        "  return xTrainCommentsIndexes"
      ],
      "execution_count": null,
      "outputs": []
    },
    {
      "cell_type": "markdown",
      "metadata": {
        "id": "t6Qo4UKqldyH"
      },
      "source": [
        "### Формируем выборки \n",
        "* xTrain и yTrain\n",
        "\n",
        "* Собираем xTrainС по текстам(\"Примечания\"), преобразеум xTrainC в bag of words, оставив 2000 самых популярных слов\n",
        "\n",
        "\n"
      ]
    },
    {
      "cell_type": "code",
      "metadata": {
        "id": "VuNZLDLw230m",
        "colab": {
          "base_uri": "https://localhost:8080/",
          "height": 33
        },
        "outputId": "fd1aa830-44fd-48e5-e2bc-501f8e43a9c7"
      },
      "source": [
        "xTrain = getXTrain(data1)\n",
        "yTrain = getYTrain(data1)\n",
        "print(xTrain.shape)"
      ],
      "execution_count": null,
      "outputs": [
        {
          "output_type": "stream",
          "text": [
            "(62504, 109)\n"
          ],
          "name": "stdout"
        }
      ]
    },
    {
      "cell_type": "code",
      "metadata": {
        "id": "r7lXRfXMlkJW",
        "colab": {
          "base_uri": "https://localhost:8080/",
          "height": 67
        },
        "outputId": "99d6d4ff-ce15-4d9f-d1ca-684a6db04125"
      },
      "source": [
        "xTrainC, allTextComments = getXTrainComments(data1) \n",
        "allWords = text2Words(allTextComments)\n",
        "allWords = allWords[::10]  #Берём 10% слов (иначе словарь слишком долго формируется)\n",
        "vocabulary = createVocabulary(allWords) #Создаём словарь\n",
        "xTrainC01 = changeSetToIndexes(xTrainC, vocabulary, 2000) \n",
        "\n",
        "#Выводим результаты, чтобы проверить, что все правильно собралось\n",
        "print(xTrain.shape)\n",
        "print(xTrainC.shape)\n",
        "print(xTrainC01.shape)"
      ],
      "execution_count": null,
      "outputs": [
        {
          "output_type": "stream",
          "text": [
            "(62504, 109)\n",
            "(62504,)\n",
            "(62504, 2000)\n"
          ],
          "name": "stdout"
        }
      ]
    },
    {
      "cell_type": "markdown",
      "metadata": {
        "id": "7pgWTHEqlvdF"
      },
      "source": [
        "### Нормирование данных\n",
        "\n"
      ]
    },
    {
      "cell_type": "code",
      "metadata": {
        "id": "wjRDPgdMlzg8",
        "colab": {
          "base_uri": "https://localhost:8080/",
          "height": 485
        },
        "outputId": "87573a4f-4ca7-410e-c775-f39a9eab23e6"
      },
      "source": [
        "#Нормируем размер квартиры в xTrain\n",
        "xScaler = StandardScaler() #Создаём нормировщик нормальным распределением\n",
        "xScaler.fit(xTrain[:,-1].reshape(-1, 1)) #Обучаем его на площадях квартир\n",
        "xTrainScaled = xTrain.copy()\n",
        "xTrainScaled[:,-1] = xScaler.transform(xTrain[:,-1].reshape(-1, 1)).flatten() #Нормируем данные нормировщиком\n",
        "\n",
        "#Выводим размер и два примера для сравнения\n",
        "#Не нормированных данных и нормированных\n",
        "print(xTrainScaled.shape)\n",
        "print(xTrain[0])\n",
        "print(xTrainScaled[0])"
      ],
      "execution_count": null,
      "outputs": [
        {
          "output_type": "stream",
          "text": [
            "(62504, 109)\n",
            "[ 0.   1.   0.   0.   0.   0.   0.   0.   0.   0.   0.   0.   0.   0.\n",
            "  0.   0.   0.   0.   0.   0.   0.   0.   0.   0.   0.   0.   0.   0.\n",
            "  0.   0.   0.   0.   1.   0.   0.   0.   0.   1.   0.   0.   0.   0.\n",
            "  1.   0.   0.   0.   0.   0.   0.   0.   0.   0.   0.   0.   0.   0.\n",
            "  0.   0.   0.   0.   0.   0.   0.   0.   1.   0.   0.   0.   0.   1.\n",
            "  0.   0.   1.   0.   0.   0.   0.   0.   1.   0.   0.   0.   0.   0.\n",
            "  0.   0.   0.   0.   0.   0.   0.   0.   0.   0.   0.   1.   0.   0.\n",
            "  0.   0.   0.   0.   0.   0.   0.   0.   0.   0.  64.1]\n",
            "[0.         1.         0.         0.         0.         0.\n",
            " 0.         0.         0.         0.         0.         0.\n",
            " 0.         0.         0.         0.         0.         0.\n",
            " 0.         0.         0.         0.         0.         0.\n",
            " 0.         0.         0.         0.         0.         0.\n",
            " 0.         0.         1.         0.         0.         0.\n",
            " 0.         1.         0.         0.         0.         0.\n",
            " 1.         0.         0.         0.         0.         0.\n",
            " 0.         0.         0.         0.         0.         0.\n",
            " 0.         0.         0.         0.         0.         0.\n",
            " 0.         0.         0.         0.         1.         0.\n",
            " 0.         0.         0.         1.         0.         0.\n",
            " 1.         0.         0.         0.         0.         0.\n",
            " 1.         0.         0.         0.         0.         0.\n",
            " 0.         0.         0.         0.         0.         0.\n",
            " 0.         0.         0.         0.         0.         1.\n",
            " 0.         0.         0.         0.         0.         0.\n",
            " 0.         0.         0.         0.         0.         0.\n",
            " 1.28438086]\n"
          ],
          "name": "stdout"
        }
      ]
    },
    {
      "cell_type": "code",
      "metadata": {
        "id": "3v3KXrjLl0Qr",
        "colab": {
          "base_uri": "https://localhost:8080/",
          "height": 67
        },
        "outputId": "1ed42db9-b30d-4db2-f5dd-36ebb015903b"
      },
      "source": [
        "#Нормируем выход сети - цену квартиры\n",
        "yScaler = StandardScaler() #Создаём нормировщик нормальным распределением\n",
        "yScaler.fit(yTrain.reshape(-1, 1)) #Обучаем на ценах квартир\n",
        "yTrainScaled = yScaler.transform(yTrain.reshape(-1, 1)) #Нормируем цены квартир\n",
        "\n",
        "#Выводим размер и два примера для сравнения\n",
        "#Не нормированных данных и нормированных\n",
        "print(yTrainScaled.shape)\n",
        "print(yTrain[0])\n",
        "print(yTrainScaled[0])"
      ],
      "execution_count": null,
      "outputs": [
        {
          "output_type": "stream",
          "text": [
            "(62504, 1)\n",
            "19500000.0\n",
            "[0.45013]\n"
          ],
          "name": "stdout"
        }
      ]
    },
    {
      "cell_type": "code",
      "metadata": {
        "id": "ZELuSkwUbuGu",
        "colab": {
          "base_uri": "https://localhost:8080/",
          "height": 50
        },
        "outputId": "eede6fe3-e25d-4403-ed76-66ce6cfcec31"
      },
      "source": [
        "# Смотрим на минимальные и максимальные значения\n",
        "print(min(yTrain), max(yTrain))\n",
        "print(min(yTrainScaled), max(yTrainScaled))"
      ],
      "execution_count": null,
      "outputs": [
        {
          "output_type": "stream",
          "text": [
            "1500000.0 3000000015.0\n",
            "[-0.3458729] [132.25494456]\n"
          ],
          "name": "stdout"
        }
      ]
    },
    {
      "cell_type": "code",
      "metadata": {
        "id": "FQtsSlVFl8qK"
      },
      "source": [
        "# Формируем проверочную выборку\n",
        "\n",
        "splitVal = 0.2 #Процент, который выделяем в проверочную выборку\n",
        "valMask = np.random.sample(xTrainScaled.shape[0]) < splitVal #Создаём маску True-False для создания проверочной выборки"
      ],
      "execution_count": null,
      "outputs": []
    },
    {
      "cell_type": "markdown",
      "metadata": {
        "id": "VMjVNXbkmFv8"
      },
      "source": [
        "### Пишем нейронную сеть\n",
        "\n"
      ]
    },
    {
      "cell_type": "code",
      "metadata": {
        "id": "1CFLXvsjmJWo"
      },
      "source": [
        "#Функция проверки результатов для испозования её в колбэках\n",
        "def on_epoch_end(epoch, logs):\n",
        "  #Полуаем выход сети на проверочно выборке\n",
        "  pred = model.predict([xTrainScaled[valMask], xTrainC01[valMask]]) \n",
        "\n",
        "  #Делаем обратное нормирование выхода к изначальным величинам цен квартир\n",
        "  predUnscaled = yScaler.inverse_transform(pred).flatten() \n",
        "  \n",
        "  #Делаем такое же обратное нормирование yTrain к базовым ценам\n",
        "  yTrainUnscaled = yScaler.inverse_transform(yTrainScaled[valMask]).flatten() \n",
        "  \n",
        "  #Считаем разность предсказания и правильных цен\n",
        "  delta = predUnscaled - yTrainUnscaled \n",
        "  \n",
        "  #Берём модуль отклонения\n",
        "  absDelta = abs(delta) \n",
        "  \n",
        "  #Выводим усреднённую ошибку в миллионах рублей\n",
        "  print(\"Эпоха\", epoch, \"модуль ошибки\", round(sum(absDelta) / (1e+6 * len(absDelta)),3)) \n",
        "\n",
        "# Коллбэки\n",
        "pltMae = LambdaCallback(on_epoch_end=on_epoch_end)"
      ],
      "execution_count": null,
      "outputs": []
    },
    {
      "cell_type": "code",
      "metadata": {
        "id": "Thx0sCj5mg7Q",
        "colab": {
          "base_uri": "https://localhost:8080/",
          "height": 1000
        },
        "outputId": "b8c5f127-9d06-4e1e-b4b8-f86f2717bd59"
      },
      "source": [
        "#Создаем сеть\n",
        "input1 = Input((xTrainScaled.shape[1],))\n",
        "input2 = Input((xTrainC01.shape[1],))\n",
        "\n",
        "x1 = Dense(10, activation=\"relu\")(input1)\n",
        "x2 = Dense(250, activation=\"relu\")(input2)\n",
        "\n",
        "x = concatenate([x1, x2])\n",
        "\n",
        "x = Dense(100, activation='relu')(x)\n",
        "x = Dense(100, activation='relu')(x)\n",
        "x = Dense(1, activation='linear')(x)\n",
        "\n",
        "model = Model((input1, input2), x)\n",
        "\n",
        "#Компилируем\n",
        "model.compile(optimizer=Adam(lr=1e-3), loss='MAE')\n",
        "\n",
        "#Обучаем\n",
        "history = model.fit([xTrainScaled[~valMask], xTrainC01[~valMask]], \n",
        "                    yTrainScaled[~valMask], \n",
        "                    epochs=40, \n",
        "                    validation_data=([xTrainScaled[valMask], xTrainC01[valMask]], \n",
        "                    yTrainScaled[valMask]), \n",
        "                    verbose=0,\n",
        "                    callbacks=[pltMae])\n",
        "\n",
        "\n",
        "#Дообучаем сеть меняя шаг оптимизатора\n",
        "print()\n",
        "print('Меняем шаг обучения на 1e-4')\n",
        "model.compile(optimizer=Adam(lr=1e-4), loss='MAE')\n",
        "history = model.fit([xTrainScaled[~valMask], xTrainC01[~valMask]], \n",
        "                    yTrainScaled[~valMask], \n",
        "                    epochs=40, \n",
        "                    validation_data=([xTrainScaled[valMask], xTrainC01[valMask]], \n",
        "                    yTrainScaled[valMask]), \n",
        "                    verbose=0,\n",
        "                    callbacks=[pltMae])\n",
        "\n",
        "\n",
        "#Проверяем результаты\n",
        "\n",
        "#Полуаем выход сети на проверочной выборке\n",
        "pred = model.predict([xTrainScaled[valMask], xTrainC01[valMask]])\n",
        "\n",
        "#Делаем обратное нормирование выхода к изначальным величинам цен квартир\n",
        "predUnscaled = yScaler.inverse_transform(pred).flatten() \n",
        "\n",
        "#Делаем такое же обратное нормирование yTrain к базовым ценам\n",
        "yTrainUnscaled = yScaler.inverse_transform(yTrainScaled[valMask]).flatten() \n",
        "\n",
        "#Считаем разность предсказания и правильных цен\n",
        "delta = predUnscaled - yTrainUnscaled \n",
        "\n",
        "#Берём модуль отклонения\n",
        "absDelta = abs(delta) \n",
        "\n",
        "#Выводим усреднённую ошибку в миллионах рублей\n",
        "print(\"Модуль ошибки\", sum(absDelta) / (1e+6 * len(absDelta))) \n",
        "\n",
        "#Визуализируем результаты, выводим графики ошибки\n",
        "plt.plot(history.history['loss'], label='Средняя абсолютная ошибка на обучающем наборе')\n",
        "plt.plot(history.history['val_loss'], label='Средняя абсолютная ошибка на проверочном наборе')\n",
        "plt.xlabel('Эпоха обучения')\n",
        "plt.ylabel('Средняя абсолютная ошибка')\n",
        "plt.legend()\n",
        "plt.show()"
      ],
      "execution_count": null,
      "outputs": [
        {
          "output_type": "stream",
          "text": [
            "Эпоха 0 модуль ошибки 1.387\n",
            "Эпоха 1 модуль ошибки 1.161\n",
            "Эпоха 2 модуль ошибки 1.144\n",
            "Эпоха 3 модуль ошибки 1.159\n",
            "Эпоха 4 модуль ошибки 1.054\n",
            "Эпоха 5 модуль ошибки 0.996\n",
            "Эпоха 6 модуль ошибки 1.004\n",
            "Эпоха 7 модуль ошибки 0.89\n",
            "Эпоха 8 модуль ошибки 0.879\n",
            "Эпоха 9 модуль ошибки 0.871\n",
            "Эпоха 10 модуль ошибки 0.921\n",
            "Эпоха 11 модуль ошибки 0.837\n",
            "Эпоха 12 модуль ошибки 0.845\n",
            "Эпоха 13 модуль ошибки 0.821\n",
            "Эпоха 14 модуль ошибки 0.817\n",
            "Эпоха 15 модуль ошибки 0.839\n",
            "Эпоха 16 модуль ошибки 0.784\n",
            "Эпоха 17 модуль ошибки 0.781\n",
            "Эпоха 18 модуль ошибки 0.789\n",
            "Эпоха 19 модуль ошибки 0.792\n",
            "Эпоха 20 модуль ошибки 0.77\n",
            "Эпоха 21 модуль ошибки 1.175\n",
            "Эпоха 22 модуль ошибки 0.761\n",
            "Эпоха 23 модуль ошибки 0.779\n",
            "Эпоха 24 модуль ошибки 0.767\n",
            "Эпоха 25 модуль ошибки 0.81\n",
            "Эпоха 26 модуль ошибки 0.759\n",
            "Эпоха 27 модуль ошибки 0.741\n",
            "Эпоха 28 модуль ошибки 0.749\n",
            "Эпоха 29 модуль ошибки 0.797\n",
            "Эпоха 30 модуль ошибки 0.762\n",
            "Эпоха 31 модуль ошибки 0.71\n",
            "Эпоха 32 модуль ошибки 0.805\n",
            "Эпоха 33 модуль ошибки 0.725\n",
            "Эпоха 34 модуль ошибки 0.717\n",
            "Эпоха 35 модуль ошибки 0.71\n",
            "Эпоха 36 модуль ошибки 0.716\n",
            "Эпоха 37 модуль ошибки 0.733\n",
            "Эпоха 38 модуль ошибки 0.735\n",
            "Эпоха 39 модуль ошибки 0.735\n",
            "\n",
            "Меняем шаг обучения на 1e-4\n",
            "Эпоха 0 модуль ошибки 0.668\n",
            "Эпоха 1 модуль ошибки 0.659\n",
            "Эпоха 2 модуль ошибки 0.653\n",
            "Эпоха 3 модуль ошибки 0.651\n",
            "Эпоха 4 модуль ошибки 0.647\n",
            "Эпоха 5 модуль ошибки 0.646\n",
            "Эпоха 6 модуль ошибки 0.646\n",
            "Эпоха 7 модуль ошибки 0.645\n",
            "Эпоха 8 модуль ошибки 0.648\n",
            "Эпоха 9 модуль ошибки 0.646\n",
            "Эпоха 10 модуль ошибки 0.645\n",
            "Эпоха 11 модуль ошибки 0.643\n",
            "Эпоха 12 модуль ошибки 0.645\n",
            "Эпоха 13 модуль ошибки 0.643\n",
            "Эпоха 14 модуль ошибки 0.642\n",
            "Эпоха 15 модуль ошибки 0.641\n",
            "Эпоха 16 модуль ошибки 0.644\n",
            "Эпоха 17 модуль ошибки 0.639\n",
            "Эпоха 18 модуль ошибки 0.641\n",
            "Эпоха 19 модуль ошибки 0.641\n",
            "Эпоха 20 модуль ошибки 0.641\n",
            "Эпоха 21 модуль ошибки 0.64\n",
            "Эпоха 22 модуль ошибки 0.642\n",
            "Эпоха 23 модуль ошибки 0.638\n",
            "Эпоха 24 модуль ошибки 0.641\n",
            "Эпоха 25 модуль ошибки 0.638\n",
            "Эпоха 26 модуль ошибки 0.639\n",
            "Эпоха 27 модуль ошибки 0.638\n",
            "Эпоха 28 модуль ошибки 0.642\n",
            "Эпоха 29 модуль ошибки 0.637\n",
            "Эпоха 30 модуль ошибки 0.636\n",
            "Эпоха 31 модуль ошибки 0.637\n",
            "Эпоха 32 модуль ошибки 0.641\n",
            "Эпоха 33 модуль ошибки 0.638\n",
            "Эпоха 34 модуль ошибки 0.638\n",
            "Эпоха 35 модуль ошибки 0.639\n",
            "Эпоха 36 модуль ошибки 0.639\n",
            "Эпоха 37 модуль ошибки 0.637\n",
            "Эпоха 38 модуль ошибки 0.64\n",
            "Эпоха 39 модуль ошибки 0.641\n",
            "Модуль ошибки 0.6408174640919029\n"
          ],
          "name": "stdout"
        },
        {
          "output_type": "display_data",
          "data": {
            "image/png": "[encoded data removed]",
            "text/plain": [
              "<Figure size 432x288 with 1 Axes>"
            ]
          },
          "metadata": {
            "tags": [],
            "needs_background": "light"
          }
        }
      ]
    },
    {
      "cell_type": "markdown",
      "metadata": {
        "id": "XtKOPMP7BQJ_"
      },
      "source": [
        "**Итоги:**\n",
        "\n",
        "Итоговый модуль ошибки = **0.641**\n",
        "\n",
        "\n",
        "Тоесть ошибка составила **641 тысячу рублей**, что удовлетворяет условие задачи (не более 800 тысяч)\n",
        "\n"
      ]
    },
    {
      "cell_type": "markdown",
      "metadata": {
        "id": "wXERiwtVto4B"
      },
      "source": [
        "## **ULTRA PRO**"
      ]
    },
    {
      "cell_type": "markdown",
      "metadata": {
        "id": "mSCmcodstPFQ"
      },
      "source": [
        "**Задание:** Найдите любую базу, подходящую для регрессии:\n",
        "1. Спарсите данные\n",
        "2. Разделите данные на обучающую и проверочную выборки\n",
        "3. Напишите сеть для регрессии\n",
        "4. Сделайте визуализацию результата\n",
        "5. Напишите ваши результаты и выводы"
      ]
    },
    {
      "cell_type": "code",
      "metadata": {
        "id": "SkQ2zSVRR_De",
        "colab": {
          "base_uri": "https://localhost:8080/",
          "height": 70
        },
        "outputId": "1eab3986-1da4-4b12-e7c9-2290f5aa44a3"
      },
      "source": [
        "import numpy as np #Библиотека работы с массивами\n",
        "import pandas as pd # Библиотека для работы с базами\n",
        "\n",
        "from tensorflow.keras.models import Sequential, Model \n",
        "from tensorflow.keras.layers import concatenate, Input, Dense, Dropout, BatchNormalization, Flatten \n",
        "from tensorflow.keras import utils #Используем для to_categoricall\n",
        "from tensorflow.keras.optimizers import Adam, Adadelta, SGD, Adagrad, RMSprop \n",
        "from tensorflow.keras.preprocessing.text import Tokenizer, text_to_word_sequence \n",
        "from tensorflow.keras.preprocessing.sequence import pad_sequences \n",
        "from tensorflow.keras.callbacks import LambdaCallback # подключаем колбэки\n",
        "\n",
        "from sklearn import preprocessing\n",
        "from sklearn.preprocessing import LabelEncoder, StandardScaler\n",
        "from sklearn.model_selection import train_test_split # Для разбивки на выборки\n",
        "from sklearn.metrics import mean_squared_error, mean_absolute_error #\n",
        "#from google.colab import files #Для загрузки своей картинки\n",
        "\n",
        "import random #Для генерации случайных чисел \n",
        "import math # Для округления\n",
        "#import os #Для работы с файлами \n",
        "import re \n",
        "import seaborn as sns\n",
        "import matplotlib.pyplot as plt \n",
        "%matplotlib inline\n",
        "\n",
        "from IPython.display import clear_output\n"
      ],
      "execution_count": null,
      "outputs": [
        {
          "output_type": "stream",
          "text": [
            "/usr/local/lib/python3.6/dist-packages/statsmodels/tools/_testing.py:19: FutureWarning: pandas.util.testing is deprecated. Use the functions in the public API at pandas.testing instead.\n",
            "  import pandas.util.testing as tm\n"
          ],
          "name": "stderr"
        }
      ]
    },
    {
      "cell_type": "code",
      "metadata": {
        "id": "RNuN46it64-k",
        "colab": {
          "base_uri": "https://localhost:8080/",
          "height": 121
        },
        "outputId": "797a0ed4-798d-40f7-c970-7fd11f7a3710"
      },
      "source": [
        "from google.colab import drive\n",
        "drive.mount('/content/drive')"
      ],
      "execution_count": null,
      "outputs": [
        {
          "output_type": "stream",
          "text": [
            "Go to this URL in a browser: https://accounts.google.com/o/oauth2/auth?client_id=947318989803-6bn6qk8qdgf4n4g3pfee6491hc0brc4i.apps.googleusercontent.com&redirect_uri=urn%3aietf%3awg%3aoauth%3a2.0%3aoob&scope=email%20https%3a%2f%2fwww.googleapis.com%2fauth%2fdocs.test%20https%3a%2f%2fwww.googleapis.com%2fauth%2fdrive%20https%3a%2f%2fwww.googleapis.com%2fauth%2fdrive.photos.readonly%20https%3a%2f%2fwww.googleapis.com%2fauth%2fpeopleapi.readonly&response_type=code\n",
            "\n",
            "Enter your authorization code:\n",
            "··········\n",
            "Mounted at /content/drive\n"
          ],
          "name": "stdout"
        }
      ]
    },
    {
      "cell_type": "markdown",
      "metadata": {
        "id": "SuBKhyyHj9Sx"
      },
      "source": [
        "В качестве базы для решения задачи, была найдена и скачена в интернете база машин autos.csv, хорошо подходящая для задачи регрессии. База - таблица из дат, цифровых и текстовых полей на немецком языке. Задача - определить по данным машины её стоимость. "
      ]
    },
    {
      "cell_type": "code",
      "metadata": {
        "id": "iNeVYpiLdBpe"
      },
      "source": [
        "cars = pd.read_csv('/content/drive/My Drive/Colab Notebooks/Базы/autos.csv', sep=',')"
      ],
      "execution_count": null,
      "outputs": []
    },
    {
      "cell_type": "code",
      "metadata": {
        "id": "fAIunUIBnNGD",
        "colab": {
          "base_uri": "https://localhost:8080/",
          "height": 417
        },
        "outputId": "f4f511b4-f709-49e2-80bb-c079e9f828d2"
      },
      "source": [
        "cars.head()"
      ],
      "execution_count": null,
      "outputs": [
        {
          "output_type": "execute_result",
          "data": {
            "text/html": [
              "<div>\n",
              "<style scoped>\n",
              "    .dataframe tbody tr th:only-of-type {\n",
              "        vertical-align: middle;\n",
              "    }\n",
              "\n",
              "    .dataframe tbody tr th {\n",
              "        vertical-align: top;\n",
              "    }\n",
              "\n",
              "    .dataframe thead th {\n",
              "        text-align: right;\n",
              "    }\n",
              "</style>\n",
              "<table border=\"1\" class=\"dataframe\">\n",
              "  <thead>\n",
              "    <tr style=\"text-align: right;\">\n",
              "      <th></th>\n",
              "      <th>dateCrawled</th>\n",
              "      <th>name</th>\n",
              "      <th>seller</th>\n",
              "      <th>offerType</th>\n",
              "      <th>price</th>\n",
              "      <th>abtest</th>\n",
              "      <th>vehicleType</th>\n",
              "      <th>yearOfRegistration</th>\n",
              "      <th>gearbox</th>\n",
              "      <th>powerPS</th>\n",
              "      <th>model</th>\n",
              "      <th>kilometer</th>\n",
              "      <th>monthOfRegistration</th>\n",
              "      <th>fuelType</th>\n",
              "      <th>brand</th>\n",
              "      <th>notRepairedDamage</th>\n",
              "      <th>dateCreated</th>\n",
              "      <th>nrOfPictures</th>\n",
              "      <th>postalCode</th>\n",
              "      <th>lastSeen</th>\n",
              "    </tr>\n",
              "  </thead>\n",
              "  <tbody>\n",
              "    <tr>\n",
              "      <th>0</th>\n",
              "      <td>2016-03-31 17:25:20</td>\n",
              "      <td>Skoda_Fabia_1.4_TDI_PD_Classic</td>\n",
              "      <td>privat</td>\n",
              "      <td>Angebot</td>\n",
              "      <td>3600</td>\n",
              "      <td>test</td>\n",
              "      <td>kleinwagen</td>\n",
              "      <td>2008</td>\n",
              "      <td>manuell</td>\n",
              "      <td>69</td>\n",
              "      <td>fabia</td>\n",
              "      <td>90000</td>\n",
              "      <td>7</td>\n",
              "      <td>diesel</td>\n",
              "      <td>skoda</td>\n",
              "      <td>nein</td>\n",
              "      <td>2016-03-31 00:00:00</td>\n",
              "      <td>0.0</td>\n",
              "      <td>60437.0</td>\n",
              "      <td>2016-04-06 10:17:21</td>\n",
              "    </tr>\n",
              "    <tr>\n",
              "      <th>1</th>\n",
              "      <td>2016-04-07 10:06:22</td>\n",
              "      <td>Volkswagen_Passat_Variant_2.0_TDI_Comfortline</td>\n",
              "      <td>privat</td>\n",
              "      <td>Angebot</td>\n",
              "      <td>2799</td>\n",
              "      <td>control</td>\n",
              "      <td>kombi</td>\n",
              "      <td>2005</td>\n",
              "      <td>manuell</td>\n",
              "      <td>140</td>\n",
              "      <td>passat</td>\n",
              "      <td>150000</td>\n",
              "      <td>12</td>\n",
              "      <td>diesel</td>\n",
              "      <td>volkswagen</td>\n",
              "      <td>ja</td>\n",
              "      <td>2016-04-07 00:00:00</td>\n",
              "      <td>0.0</td>\n",
              "      <td>57290.0</td>\n",
              "      <td>2016-04-07 10:25:17</td>\n",
              "    </tr>\n",
              "    <tr>\n",
              "      <th>2</th>\n",
              "      <td>2016-03-27 11:38:00</td>\n",
              "      <td>BMW_530i_T�V_7/17_Scheckheftgepflegt_sehr_gute...</td>\n",
              "      <td>privat</td>\n",
              "      <td>Angebot</td>\n",
              "      <td>3699</td>\n",
              "      <td>test</td>\n",
              "      <td>limousine</td>\n",
              "      <td>2002</td>\n",
              "      <td>automatik</td>\n",
              "      <td>231</td>\n",
              "      <td>5er</td>\n",
              "      <td>150000</td>\n",
              "      <td>7</td>\n",
              "      <td>benzin</td>\n",
              "      <td>bmw</td>\n",
              "      <td>nein</td>\n",
              "      <td>2016-03-27 00:00:00</td>\n",
              "      <td>0.0</td>\n",
              "      <td>68309.0</td>\n",
              "      <td>2016-04-07 06:44:26</td>\n",
              "    </tr>\n",
              "    <tr>\n",
              "      <th>3</th>\n",
              "      <td>2016-03-23 14:52:51</td>\n",
              "      <td>Opel_Meriva_1.Hand_T�V_3.2018</td>\n",
              "      <td>privat</td>\n",
              "      <td>Angebot</td>\n",
              "      <td>2900</td>\n",
              "      <td>test</td>\n",
              "      <td>NaN</td>\n",
              "      <td>2018</td>\n",
              "      <td>manuell</td>\n",
              "      <td>90</td>\n",
              "      <td>meriva</td>\n",
              "      <td>150000</td>\n",
              "      <td>5</td>\n",
              "      <td>benzin</td>\n",
              "      <td>opel</td>\n",
              "      <td>nein</td>\n",
              "      <td>2016-03-23 00:00:00</td>\n",
              "      <td>0.0</td>\n",
              "      <td>49716.0</td>\n",
              "      <td>2016-03-31 01:16:33                           ...</td>\n",
              "    </tr>\n",
              "    <tr>\n",
              "      <th>4</th>\n",
              "      <td>2016-03-10 19:38:18</td>\n",
              "      <td>Citroen_C4_Grand_Picasso.</td>\n",
              "      <td>privat</td>\n",
              "      <td>Angebot</td>\n",
              "      <td>5555</td>\n",
              "      <td>control</td>\n",
              "      <td>NaN</td>\n",
              "      <td>2017</td>\n",
              "      <td>manuell</td>\n",
              "      <td>125</td>\n",
              "      <td>c4</td>\n",
              "      <td>125000</td>\n",
              "      <td>4</td>\n",
              "      <td>NaN</td>\n",
              "      <td>citroen</td>\n",
              "      <td>nein</td>\n",
              "      <td>2016-03-10 00:00:00</td>\n",
              "      <td>0.0</td>\n",
              "      <td>31139.0</td>\n",
              "      <td>2016-03-16 09:16:46                           ...</td>\n",
              "    </tr>\n",
              "  </tbody>\n",
              "</table>\n",
              "</div>"
            ],
            "text/plain": [
              "           dateCrawled  ...                                          lastSeen \n",
              "0  2016-03-31 17:25:20  ...      2016-04-06 10:17:21                          \n",
              "1  2016-04-07 10:06:22  ...                          2016-04-07 10:25:17      \n",
              "2  2016-03-27 11:38:00  ...                              2016-04-07 06:44:26  \n",
              "3  2016-03-23 14:52:51  ...  2016-03-31 01:16:33                           ...\n",
              "4  2016-03-10 19:38:18  ...  2016-03-16 09:16:46                           ...\n",
              "\n",
              "[5 rows x 20 columns]"
            ]
          },
          "metadata": {
            "tags": []
          },
          "execution_count": 39
        }
      ]
    },
    {
      "cell_type": "code",
      "metadata": {
        "id": "s3m2w_3yC4Pq"
      },
      "source": [
        "#удаляем ненужные столбцы, мало влияющие на обучение\n",
        "del cars['name']\n",
        "del cars['dateCrawled']\n",
        "del cars['dateCreated']"
      ],
      "execution_count": null,
      "outputs": []
    },
    {
      "cell_type": "code",
      "metadata": {
        "id": "CwkfYA8Kga10",
        "colab": {
          "base_uri": "https://localhost:8080/",
          "height": 366
        },
        "outputId": "6cb3969d-988f-454b-f8e1-b73ba88ee6d0"
      },
      "source": [
        "cars.head()"
      ],
      "execution_count": null,
      "outputs": [
        {
          "output_type": "execute_result",
          "data": {
            "text/html": [
              "<div>\n",
              "<style scoped>\n",
              "    .dataframe tbody tr th:only-of-type {\n",
              "        vertical-align: middle;\n",
              "    }\n",
              "\n",
              "    .dataframe tbody tr th {\n",
              "        vertical-align: top;\n",
              "    }\n",
              "\n",
              "    .dataframe thead th {\n",
              "        text-align: right;\n",
              "    }\n",
              "</style>\n",
              "<table border=\"1\" class=\"dataframe\">\n",
              "  <thead>\n",
              "    <tr style=\"text-align: right;\">\n",
              "      <th></th>\n",
              "      <th>seller</th>\n",
              "      <th>offerType</th>\n",
              "      <th>price</th>\n",
              "      <th>abtest</th>\n",
              "      <th>vehicleType</th>\n",
              "      <th>yearOfRegistration</th>\n",
              "      <th>gearbox</th>\n",
              "      <th>powerPS</th>\n",
              "      <th>model</th>\n",
              "      <th>kilometer</th>\n",
              "      <th>monthOfRegistration</th>\n",
              "      <th>fuelType</th>\n",
              "      <th>brand</th>\n",
              "      <th>notRepairedDamage</th>\n",
              "      <th>nrOfPictures</th>\n",
              "      <th>postalCode</th>\n",
              "      <th>lastSeen</th>\n",
              "    </tr>\n",
              "  </thead>\n",
              "  <tbody>\n",
              "    <tr>\n",
              "      <th>0</th>\n",
              "      <td>privat</td>\n",
              "      <td>Angebot</td>\n",
              "      <td>3600</td>\n",
              "      <td>test</td>\n",
              "      <td>kleinwagen</td>\n",
              "      <td>2008</td>\n",
              "      <td>manuell</td>\n",
              "      <td>69</td>\n",
              "      <td>fabia</td>\n",
              "      <td>90000</td>\n",
              "      <td>7</td>\n",
              "      <td>diesel</td>\n",
              "      <td>skoda</td>\n",
              "      <td>nein</td>\n",
              "      <td>0.0</td>\n",
              "      <td>60437.0</td>\n",
              "      <td>2016-04-06 10:17:21</td>\n",
              "    </tr>\n",
              "    <tr>\n",
              "      <th>1</th>\n",
              "      <td>privat</td>\n",
              "      <td>Angebot</td>\n",
              "      <td>2799</td>\n",
              "      <td>control</td>\n",
              "      <td>kombi</td>\n",
              "      <td>2005</td>\n",
              "      <td>manuell</td>\n",
              "      <td>140</td>\n",
              "      <td>passat</td>\n",
              "      <td>150000</td>\n",
              "      <td>12</td>\n",
              "      <td>diesel</td>\n",
              "      <td>volkswagen</td>\n",
              "      <td>ja</td>\n",
              "      <td>0.0</td>\n",
              "      <td>57290.0</td>\n",
              "      <td>2016-04-07 10:25:17</td>\n",
              "    </tr>\n",
              "    <tr>\n",
              "      <th>2</th>\n",
              "      <td>privat</td>\n",
              "      <td>Angebot</td>\n",
              "      <td>3699</td>\n",
              "      <td>test</td>\n",
              "      <td>limousine</td>\n",
              "      <td>2002</td>\n",
              "      <td>automatik</td>\n",
              "      <td>231</td>\n",
              "      <td>5er</td>\n",
              "      <td>150000</td>\n",
              "      <td>7</td>\n",
              "      <td>benzin</td>\n",
              "      <td>bmw</td>\n",
              "      <td>nein</td>\n",
              "      <td>0.0</td>\n",
              "      <td>68309.0</td>\n",
              "      <td>2016-04-07 06:44:26</td>\n",
              "    </tr>\n",
              "    <tr>\n",
              "      <th>5</th>\n",
              "      <td>privat</td>\n",
              "      <td>Angebot</td>\n",
              "      <td>3300</td>\n",
              "      <td>test</td>\n",
              "      <td>limousine</td>\n",
              "      <td>1995</td>\n",
              "      <td>automatik</td>\n",
              "      <td>113</td>\n",
              "      <td>e_klasse</td>\n",
              "      <td>150000</td>\n",
              "      <td>1</td>\n",
              "      <td>diesel</td>\n",
              "      <td>mercedes_benz</td>\n",
              "      <td>nein</td>\n",
              "      <td>0.0</td>\n",
              "      <td>53879.0</td>\n",
              "      <td>2016-04-05 15:16:05</td>\n",
              "    </tr>\n",
              "    <tr>\n",
              "      <th>6</th>\n",
              "      <td>privat</td>\n",
              "      <td>Angebot</td>\n",
              "      <td>3500</td>\n",
              "      <td>control</td>\n",
              "      <td>limousine</td>\n",
              "      <td>2004</td>\n",
              "      <td>automatik</td>\n",
              "      <td>122</td>\n",
              "      <td>e_klasse</td>\n",
              "      <td>150000</td>\n",
              "      <td>11</td>\n",
              "      <td>diesel</td>\n",
              "      <td>mercedes_benz</td>\n",
              "      <td>nein</td>\n",
              "      <td>0.0</td>\n",
              "      <td>67071.0</td>\n",
              "      <td>2016-03-30 15:46</td>\n",
              "    </tr>\n",
              "  </tbody>\n",
              "</table>\n",
              "</div>"
            ],
            "text/plain": [
              "   seller offerType  ...  postalCode                                      lastSeen \n",
              "0  privat   Angebot  ...     60437.0  2016-04-06 10:17:21                          \n",
              "1  privat   Angebot  ...     57290.0                      2016-04-07 10:25:17      \n",
              "2  privat   Angebot  ...     68309.0                          2016-04-07 06:44:26  \n",
              "5  privat   Angebot  ...     53879.0                           2016-04-05 15:16:05 \n",
              "6  privat   Angebot  ...     67071.0                               2016-03-30 15:46\n",
              "\n",
              "[5 rows x 17 columns]"
            ]
          },
          "metadata": {
            "tags": []
          },
          "execution_count": 52
        }
      ]
    },
    {
      "cell_type": "code",
      "metadata": {
        "id": "ucNpv4SW_Kb9",
        "colab": {
          "base_uri": "https://localhost:8080/",
          "height": 454
        },
        "outputId": "7d9f3041-29f2-46fd-e872-6f8177314505"
      },
      "source": [
        "cars.info()"
      ],
      "execution_count": null,
      "outputs": [
        {
          "output_type": "stream",
          "text": [
            "<class 'pandas.core.frame.DataFrame'>\n",
            "RangeIndex: 89318 entries, 0 to 89317\n",
            "Data columns (total 19 columns):\n",
            " #   Column               Non-Null Count  Dtype  \n",
            "---  ------               --------------  -----  \n",
            " 0   dateCrawled          89318 non-null  object \n",
            " 1   seller               89318 non-null  object \n",
            " 2   offerType            89318 non-null  object \n",
            " 3   price                89318 non-null  int64  \n",
            " 4   abtest               89318 non-null  object \n",
            " 5   vehicleType          82773 non-null  object \n",
            " 6   yearOfRegistration   89318 non-null  int64  \n",
            " 7   gearbox              85563 non-null  object \n",
            " 8   powerPS              89318 non-null  int64  \n",
            " 9   model                85876 non-null  object \n",
            " 10  kilometer            89318 non-null  int64  \n",
            " 11  monthOfRegistration  89318 non-null  int64  \n",
            " 12  fuelType             83952 non-null  object \n",
            " 13  brand                89318 non-null  object \n",
            " 14  notRepairedDamage    75474 non-null  object \n",
            " 15  dateCreated          89318 non-null  object \n",
            " 16  nrOfPictures         89314 non-null  float64\n",
            " 17  postalCode           89299 non-null  float64\n",
            " 18  lastSeen             88956 non-null  object \n",
            "dtypes: float64(2), int64(5), object(12)\n",
            "memory usage: 12.9+ MB\n"
          ],
          "name": "stdout"
        }
      ]
    },
    {
      "cell_type": "markdown",
      "metadata": {
        "id": "iagzqmyF_wDp"
      },
      "source": [
        "Как видно из статистики, в данном датасете довольно много пропусков, избавимся от них"
      ]
    },
    {
      "cell_type": "code",
      "metadata": {
        "id": "rclmSOzV6w3W"
      },
      "source": [
        "cars = cars.dropna(axis='index', how='any', subset=['seller'])\n",
        "cars = cars.dropna(axis='index', how='any', subset=['price'])\n",
        "cars = cars.dropna(axis='index', how='any', subset=['abtest'])\n",
        "cars = cars.dropna(axis='index', how='any', subset=['vehicleType'])\n",
        "cars = cars.dropna(axis='index', how='any', subset=['yearOfRegistration'])\n",
        "cars = cars.dropna(axis='index', how='any', subset=['gearbox'])\n",
        "cars = cars.dropna(axis='index', how='any', subset=['powerPS'])\n",
        "cars = cars.dropna(axis='index', how='any', subset=['model'])\n",
        "cars = cars.dropna(axis='index', how='any', subset=['kilometer'])\n",
        "cars = cars.dropna(axis='index', how='any', subset=['monthOfRegistration'])\n",
        "cars = cars.dropna(axis='index', how='any', subset=['fuelType'])\n",
        "cars = cars.dropna(axis='index', how='any', subset=['brand'])\n",
        "cars = cars.dropna(axis='index', how='any', subset=['postalCode'])"
      ],
      "execution_count": null,
      "outputs": []
    },
    {
      "cell_type": "code",
      "metadata": {
        "id": "bVqSGBQeWcr5",
        "colab": {
          "base_uri": "https://localhost:8080/",
          "height": 420
        },
        "outputId": "8c564967-9ad5-40ba-a728-8ac41ee361a6"
      },
      "source": [
        "cars.info()"
      ],
      "execution_count": null,
      "outputs": [
        {
          "output_type": "stream",
          "text": [
            "<class 'pandas.core.frame.DataFrame'>\n",
            "Int64Index: 75626 entries, 0 to 89317\n",
            "Data columns (total 17 columns):\n",
            " #   Column               Non-Null Count  Dtype  \n",
            "---  ------               --------------  -----  \n",
            " 0   seller               75626 non-null  object \n",
            " 1   offerType            75626 non-null  object \n",
            " 2   price                75626 non-null  int64  \n",
            " 3   abtest               75626 non-null  object \n",
            " 4   vehicleType          75626 non-null  object \n",
            " 5   yearOfRegistration   75626 non-null  int64  \n",
            " 6   gearbox              75626 non-null  object \n",
            " 7   powerPS              75626 non-null  int64  \n",
            " 8   model                75626 non-null  object \n",
            " 9   kilometer            75626 non-null  int64  \n",
            " 10  monthOfRegistration  75626 non-null  int64  \n",
            " 11  fuelType             75626 non-null  object \n",
            " 12  brand                75626 non-null  object \n",
            " 13  notRepairedDamage    67199 non-null  object \n",
            " 14  nrOfPictures         75626 non-null  float64\n",
            " 15  postalCode           75626 non-null  float64\n",
            " 16  lastSeen             75286 non-null  object \n",
            "dtypes: float64(2), int64(5), object(10)\n",
            "memory usage: 10.4+ MB\n"
          ],
          "name": "stdout"
        }
      ]
    },
    {
      "cell_type": "markdown",
      "metadata": {
        "id": "yaSNeEJZX-RX"
      },
      "source": [
        "Пропуки убраны, со столбцом lastSeen далее мы работать не будем, поэтому пропуски в нем нас не волнуют. \n",
        "\n",
        "Посмотрим на графики зависимасти цены от других параметров:"
      ]
    },
    {
      "cell_type": "code",
      "metadata": {
        "id": "iwecpB7qDl1k",
        "colab": {
          "base_uri": "https://localhost:8080/",
          "height": 1000
        },
        "outputId": "73bac55e-3222-49ec-baaf-9ae69e433cf0"
      },
      "source": [
        "fig, ax = plt.subplots(5, 3, sharex=False, sharey=False, figsize=(12, 20), constrained_layout=True)\n",
        "fig.suptitle('Зависимость цены продажи от разных признаков', fontsize=25)\n",
        "sns.barplot(x=\"seller\", y=\"price\", data=cars, ax=ax[0, 0])\n",
        "sns.barplot(x=\"offerType\", y=\"price\", data=cars, ax=ax[0, 1])\n",
        "sns.barplot(x=\"gearbox\", y=\"price\", data=cars, ax=ax[0, 2])\n",
        "sns.barplot(x=\"fuelType\", y=\"price\", data=cars, ax=ax[1, 0])\n",
        "sns.barplot(x=\"monthOfRegistration\", y=\"price\", data=cars, ax=ax[1, 1])\n",
        "sns.barplot(x=\"nrOfPictures\", y=\"price\", data=cars, ax=ax[1, 2])\n",
        "sns.barplot(x=\"kilometer\", y=\"price\", data=cars, ax=ax[2, 0])\n",
        "sns.barplot(x=\"yearOfRegistration\", y=\"price\", data=cars, ax=ax[2, 1])\n",
        "sns.barplot(x=\"notRepairedDamage\", y=\"price\", data=cars, ax=ax[2, 2])\n",
        "sns.barplot(x=\"abtest\", y=\"price\", data=cars, ax=ax[3, 0])\n",
        "sns.barplot(x=\"price\", y=\"brand\", data=cars, ax=ax[3, 1]) \n",
        "sns.barplot(x=\"price\", y=\"vehicleType\", data=cars, ax=ax[3, 2])\n",
        "sns.barplot(x=\"price\", y=\"model\", data=cars, ax=ax[4, 0])\n",
        "sns.barplot(x=\"price\", y=\"postalCode\", data=cars, ax=ax[4, 1])\n",
        "sns.barplot(x=\"price\", y=\"powerPS\", data=cars, ax=ax[4, 2])"
      ],
      "execution_count": null,
      "outputs": [
        {
          "output_type": "execute_result",
          "data": {
            "text/plain": [
              "<matplotlib.axes._subplots.AxesSubplot at 0x7fca75e61550>"
            ]
          },
          "metadata": {
            "tags": []
          },
          "execution_count": 19
        },
        {
          "output_type": "display_data",
          "data": {
            "image/png": "[encoded data removed]",
            "text/plain": [
              "<Figure size 864x1440 with 15 Axes>"
            ]
          },
          "metadata": {
            "tags": [],
            "needs_background": "light"
          }
        }
      ]
    },
    {
      "cell_type": "markdown",
      "metadata": {
        "id": "xeXC_6trYA3T"
      },
      "source": [
        "Корректируем выбрасы:"
      ]
    },
    {
      "cell_type": "code",
      "metadata": {
        "id": "YGkexlzQO98h"
      },
      "source": [
        "cars = cars.loc[cars['price'] != 0 ]\n",
        "cars = cars.loc[cars['powerPS'] < 250 ]\n",
        "cars = cars.loc[cars['brand'] != 'porsche']"
      ],
      "execution_count": null,
      "outputs": []
    },
    {
      "cell_type": "markdown",
      "metadata": {
        "id": "q5rZP7wwkIso"
      },
      "source": [
        "Посмотрим на графики после коррекции:"
      ]
    },
    {
      "cell_type": "code",
      "metadata": {
        "id": "y1gKzgleAVhB",
        "colab": {
          "base_uri": "https://localhost:8080/",
          "height": 1000
        },
        "outputId": "aa21d3b4-c044-4d58-b9a0-ae2b1c0e4f7a"
      },
      "source": [
        "fig, ax = plt.subplots(5, 3, sharex=False, sharey=False, figsize=(12, 20), constrained_layout=True)\n",
        "fig.suptitle('Зависимость цены продажи от разных признаков', fontsize=25)\n",
        "sns.barplot(x=\"seller\", y=\"price\", data=cars, ax=ax[0, 0])\n",
        "sns.barplot(x=\"offerType\", y=\"price\", data=cars, ax=ax[0, 1])\n",
        "sns.barplot(x=\"gearbox\", y=\"price\", data=cars, ax=ax[0, 2])\n",
        "sns.barplot(x=\"fuelType\", y=\"price\", data=cars, ax=ax[1, 0])\n",
        "sns.barplot(x=\"monthOfRegistration\", y=\"price\", data=cars, ax=ax[1, 1])\n",
        "sns.barplot(x=\"nrOfPictures\", y=\"price\", data=cars, ax=ax[1, 2])\n",
        "sns.barplot(x=\"kilometer\", y=\"price\", data=cars, ax=ax[2, 0])\n",
        "sns.barplot(x=\"yearOfRegistration\", y=\"price\", data=cars, ax=ax[2, 1])\n",
        "sns.barplot(x=\"notRepairedDamage\", y=\"price\", data=cars, ax=ax[2, 2])\n",
        "sns.barplot(x=\"abtest\", y=\"price\", data=cars, ax=ax[3, 0])\n",
        "sns.barplot(x=\"price\", y=\"brand\", data=cars, ax=ax[3, 1]) \n",
        "sns.barplot(x=\"price\", y=\"vehicleType\", data=cars, ax=ax[3, 2])\n",
        "sns.barplot(x=\"price\", y=\"model\", data=cars, ax=ax[4, 0])\n",
        "sns.barplot(x=\"price\", y=\"postalCode\", data=cars, ax=ax[4, 1])\n",
        "sns.barplot(x=\"price\", y=\"powerPS\", data=cars, ax=ax[4, 2])"
      ],
      "execution_count": null,
      "outputs": [
        {
          "output_type": "execute_result",
          "data": {
            "text/plain": [
              "<matplotlib.axes._subplots.AxesSubplot at 0x7fca6f21aa20>"
            ]
          },
          "metadata": {
            "tags": []
          },
          "execution_count": 21
        },
        {
          "output_type": "display_data",
          "data": {
            "image/png": "[encoded data removed]",
            "text/plain": [
              "<Figure size 864x1440 with 15 Axes>"
            ]
          },
          "metadata": {
            "tags": [],
            "needs_background": "light"
          }
        }
      ]
    },
    {
      "cell_type": "code",
      "metadata": {
        "id": "rsU7JMjYr5-P"
      },
      "source": [
        "# Создаём словарь поле - его индекс\n",
        "def create_dict(s):\n",
        "  ret = {}                          \n",
        "  for _id, name in enumerate(s):    \n",
        "    ret.update({name: _id})         \n",
        "  return ret\n",
        "\n",
        "# Функция преобразования в one hot encoding\n",
        "def to_ohe(value, d):\n",
        "  arr = [0] * len(d)\n",
        "  arr[d[value]] = 1\n",
        "  return arr"
      ],
      "execution_count": null,
      "outputs": []
    },
    {
      "cell_type": "code",
      "metadata": {
        "id": "a_u5JsPuJD_A",
        "colab": {
          "base_uri": "https://localhost:8080/",
          "height": 101
        },
        "outputId": "670e0ee5-42b1-4d27-e7d0-3dbb326941c9"
      },
      "source": [
        "cars.columns"
      ],
      "execution_count": null,
      "outputs": [
        {
          "output_type": "execute_result",
          "data": {
            "text/plain": [
              "Index(['seller', 'offerType', 'price', 'abtest', 'vehicleType',\n",
              "       'yearOfRegistration', 'gearbox', 'powerPS', 'model', 'kilometer',\n",
              "       'monthOfRegistration', 'fuelType', 'brand', 'notRepairedDamage',\n",
              "       'nrOfPictures', 'postalCode', 'lastSeen '],\n",
              "      dtype='object')"
            ]
          },
          "metadata": {
            "tags": []
          },
          "execution_count": 53
        }
      ]
    },
    {
      "cell_type": "markdown",
      "metadata": {
        "id": "RRfqIsghjmnV"
      },
      "source": [
        "Из построенных графиков, выберем самые значащие дааные и обратоем их для дальнейсей отправки в нейронную сеть. Такие параметры как seller, offerType, nrOfPictures брать в расчет нет смысла, так как там всего одно значение. \n",
        "\n"
      ]
    },
    {
      "cell_type": "code",
      "metadata": {
        "id": "-uC0pkZ0r_4e"
      },
      "source": [
        "# Создаём словари по всем текстовым колонкам\n",
        "abtest_dict = create_dict(set(cars['abtest']))\n",
        "gearbox_dict = create_dict(set(cars['gearbox']))\n",
        "model_dict = create_dict(set(cars['model']))\n",
        "vehicleType_dict = create_dict(set(cars['vehicleType']))\n",
        "fuelType_dict = create_dict(set(cars['fuelType']))\n",
        "brand_dict = create_dict(set(cars['brand']))\n",
        "\n",
        "# Запоминаем цены\n",
        "prices = np.array(cars['price'], dtype=np.float)\n",
        "\n",
        "# Запоминаем числовые параметры\n",
        "# и нормируем\n",
        "powerPS = preprocessing.scale(cars['powerPS'])\n",
        "kilometer = preprocessing.scale(cars['kilometer'])\n",
        "monthOfRegistration = preprocessing.scale(cars['monthOfRegistration'])\n",
        "postalCode = preprocessing.scale(cars['postalCode']) "
      ],
      "execution_count": null,
      "outputs": []
    },
    {
      "cell_type": "code",
      "metadata": {
        "id": "ay1pPQ-rOTAG",
        "colab": {
          "base_uri": "https://localhost:8080/",
          "height": 121
        },
        "outputId": "68f2282f-d010-4290-b8c5-0fde1d8b2cd0"
      },
      "source": [
        "print(vehicleType_dict)\n",
        "print()\n",
        "print(fuelType_dict)\n",
        "print()\n",
        "print(brand_dict)"
      ],
      "execution_count": null,
      "outputs": [
        {
          "output_type": "stream",
          "text": [
            "{'limousine': 0, 'suv': 1, 'cabrio': 2, 'kleinwagen': 3, 'kombi': 4, 'coupe': 5, 'andere': 6, 'bus': 7}\n",
            "\n",
            "{'benzin': 0, 'elektro': 1, 'diesel': 2, 'andere': 3, 'hybrid': 4, 'cng': 5, 'lpg': 6}\n",
            "\n",
            "{'honda': 0, 'volkswagen': 1, 'fiat': 2, 'toyota': 3, 'hyundai': 4, 'trabant': 5, 'citroen': 6, 'lancia': 7, 'kia': 8, 'renault': 9, 'mitsubishi': 10, 'nissan': 11, 'jaguar': 12, 'chrysler': 13, 'audi': 14, 'dacia': 15, 'chevrolet': 16, 'mazda': 17, 'jeep': 18, 'rover': 19, 'daihatsu': 20, 'skoda': 21, 'daewoo': 22, 'volvo': 23, 'smart': 24, 'mini': 25, 'subaru': 26, 'mercedes_benz': 27, 'suzuki': 28, 'alfa_romeo': 29, 'lada': 30, 'peugeot': 31, 'land_rover': 32, 'ford': 33, 'saab': 34, 'bmw': 35, 'seat': 36, 'opel': 37}\n"
          ],
          "name": "stdout"
        }
      ]
    },
    {
      "cell_type": "code",
      "metadata": {
        "id": "5vfBShRZJ1JB",
        "colab": {
          "base_uri": "https://localhost:8080/",
          "height": 121
        },
        "outputId": "751aece3-96a7-4a19-d7bd-36c2b7bdd3f3"
      },
      "source": [
        "print(abtest_dict)\n",
        "print()\n",
        "print(gearbox_dict)\n",
        "print()\n",
        "print(model_dict)"
      ],
      "execution_count": null,
      "outputs": [
        {
          "output_type": "stream",
          "text": [
            "{'control': 0, 'test': 1}\n",
            "\n",
            "{'automatik': 0, 'manuell': 1}\n",
            "\n",
            "{'601': 0, 'niva': 1, 'discovery': 2, 'sprinter': 3, '100': 4, 'touran': 5, 'b_klasse': 6, 'rav': 7, 'golf': 8, 'kaefer': 9, 'almera': 10, 'galant': 11, 'tigra': 12, 'verso': 13, 'kalina': 14, 'corsa': 15, 'citigo': 16, 'duster': 17, '3_reihe': 18, 'range_rover': 19, 'x_reihe': 20, 'g_klasse': 21, 'kangoo': 22, 'freelander': 23, 'doblo': 24, 'amarok': 25, 'altea': 26, 'cr_reihe': 27, '5er': 28, '6_reihe': 29, 'galaxy': 30, 'fusion': 31, 'cherokee': 32, 'twingo': 33, 'kalos': 34, 'a1': 35, 'a3': 36, 'slk': 37, 'clk': 38, '147': 39, 'jetta': 40, 'ptcruiser': 41, 'x_type': 42, 'meriva': 43, 'kadett': 44, '1_reihe': 45, 'scirocco': 46, 'logan': 47, 'stilo': 48, 'cooper': 49, 'kuga': 50, '300c': 51, 'sharan': 52, 'mustang': 53, 'roomster': 54, 'c_max': 55, 'polo': 56, 'astra': 57, 'sirion': 58, 'pajero': 59, 'aygo': 60, '9000': 61, '6er': 62, 'roadster': 63, 'a4': 64, 'lancer': 65, 'micra': 66, 'sl': 67, 'clio': 68, 'x_trail': 69, 's_klasse': 70, 'v70': 71, 'phaeton': 72, 'insignia': 73, 'c_klasse': 74, 'i3': 75, 'tiguan': 76, '7er': 77, 'c5': 78, 'jimny': 79, 'crossfire': 80, 'eos': 81, 'sportage': 82, '145': 83, 'z_reihe': 84, 'navara': 85, 'i_reihe': 86, 'v60': 87, 'sandero': 88, '4_reihe': 89, 'cuore': 90, 'a8': 91, 's60': 92, 'matiz': 93, '900': 94, 'c2': 95, 'voyager': 96, 'bora': 97, 'vectra': 98, 'qashqai': 99, 'm_klasse': 100, 'b_max': 101, 'mx_reihe': 102, 'calibra': 103, 'rx_reihe': 104, 'leon': 105, 'captiva': 106, 'focus': 107, 'ducato': 108, 'defender': 109, 'charade': 110, 'beetle': 111, 'musa': 112, 'combo': 113, 'kappa': 114, 's_type': 115, '200': 116, 'ceed': 117, 'agila': 118, 'laguna': 119, 'e_klasse': 120, '850': 121, 'signum': 122, 'viano': 123, 'rio': 124, 'escort': 125, 'mii': 126, 'picanto': 127, 'tucson': 128, 'one': 129, 'toledo': 130, 'carisma': 131, 'superb': 132, 'espace': 133, 'v50': 134, 'seicento': 135, 'spider': 136, 'grand': 137, '80': 138, 'scenic': 139, 'avensis': 140, 'zafira': 141, 'spark': 142, 'ka': 143, 'ypsilon': 144, 'megane': 145, 'bravo': 146, '2_reihe': 147, 'antara': 148, 'lupo': 149, 'transporter': 150, 'swift': 151, 'legacy': 152, 'm_reihe': 153, 'fortwo': 154, 'outlander': 155, 'terios': 156, 'ibiza': 157, 'croma': 158, 'exeo': 159, 'andere': 160, 'c1': 161, 'caddy': 162, 'aveo': 163, 'sorento': 164, 'r19': 165, 'accord': 166, 'justy': 167, 'wrangler': 168, 'transit': 169, 'modus': 170, 'carnival': 171, 'lodgy': 172, 'serie_1': 173, 'forester': 174, 'colt': 175, 'octavia': 176, 'a_klasse': 177, 'a2': 178, 'santa': 179, 'cl': 180, 'mondeo': 181, 'tt': 182, 'berlingo': 183, 'up': 184, 'c_reihe': 185, 'fabia': 186, 'civic': 187, '156': 188, 'vivaro': 189, 'xc_reihe': 190, 'punto': 191, 'auris': 192, 'jazz': 193, '1er': 194, 'alhambra': 195, 'getz': 196, 'vito': 197, 'omega': 198, 'c4': 199, '90': 200, 'nubira': 201, 'c3': 202, 'panda': 203, 'delta': 204, 'forfour': 205, 'fox': 206, 'fiesta': 207, 'clubman': 208, 'v40': 209, 's_max': 210, 'cordoba': 211, 'materia': 212, 'yaris': 213, 'arosa': 214, '159': 215, 'corolla': 216, 'passat': 217, '500': 218, 'impreza': 219, 'primera': 220, '5_reihe': 221, '3er': 222, 'touareg': 223, 'note': 224, 'a6': 225, 'v_klasse': 226}\n"
          ],
          "name": "stdout"
        }
      ]
    },
    {
      "cell_type": "code",
      "metadata": {
        "id": "M3L9p3hGPOOJ"
      },
      "source": [
        "# Создаём пустую выборку\n",
        "x_train = []\n",
        "y_train = []\n",
        "\n",
        "# Проходам по всем машинам\n",
        "for _id, car in enumerate(np.array(cars)):\n",
        "  # В y_train добавляем цену\n",
        "  y_train.append(prices[_id])\n",
        "  \n",
        "  # В x_train объединяем все параметры\n",
        "  # Категорийные параметры добавляем в виде ohe\n",
        "  # Числовые параметры добавляем напрямую\n",
        "  x_tr = to_ohe(car[3], abtest_dict) + \\\n",
        "        to_ohe(car[4], vehicleType_dict) + \\\n",
        "        to_ohe(car[6], gearbox_dict) + \\\n",
        "        to_ohe(car[8], model_dict) + \\\n",
        "        to_ohe(car[11], fuelType_dict) + \\\n",
        "        to_ohe(car[12], brand_dict) + \\\n",
        "        [powerPS[_id]] + \\\n",
        "        [kilometer[_id]] + \\\n",
        "        [postalCode[_id]] + \\\n",
        "        [monthOfRegistration[_id]]\n",
        "  \n",
        "  # Добавляем текущую строку в общий x_train\n",
        "  x_train.append(x_tr)\n",
        "\n",
        "# Превращаем лист в numpy.array\n",
        "x_train = np.array(x_train, dtype=np.float)\n",
        "y_train = np.array(y_train, dtype=np.float)"
      ],
      "execution_count": null,
      "outputs": []
    },
    {
      "cell_type": "code",
      "metadata": {
        "id": "tkfJluCOPPx5",
        "colab": {
          "base_uri": "https://localhost:8080/",
          "height": 101
        },
        "outputId": "13a3f76a-f058-4ef8-9d18-5349d2a278f9"
      },
      "source": [
        "# Выводим один x_train\n",
        "print(x_train[0,:20])\n",
        "print(x_train[0,-20:])"
      ],
      "execution_count": null,
      "outputs": [
        {
          "output_type": "stream",
          "text": [
            "[0. 1. 0. 0. 0. 1. 0. 0. 0. 0. 0. 1. 0. 0. 0. 0. 0. 0. 0. 0.]\n",
            "[ 0.          0.          0.          0.          0.          0.\n",
            "  0.          0.          0.          0.          0.          0.\n",
            "  0.          0.          0.          0.         -0.99019605 -1.2190759\n",
            "  0.36487064  0.22091662]\n"
          ],
          "name": "stdout"
        }
      ]
    },
    {
      "cell_type": "code",
      "metadata": {
        "id": "qftf93b8PSaV",
        "colab": {
          "base_uri": "https://localhost:8080/",
          "height": 34
        },
        "outputId": "2c59b239-335a-416d-8482-00bb9ba57778"
      },
      "source": [
        "# Выводим y_train\n",
        "print(y_train[:10])"
      ],
      "execution_count": null,
      "outputs": [
        {
          "output_type": "stream",
          "text": [
            "[3600. 2799. 3699. 3300. 3500. 3900. 3000. 5500. 5000. 3300.]\n"
          ],
          "name": "stdout"
        }
      ]
    },
    {
      "cell_type": "markdown",
      "metadata": {
        "id": "C7cUUQX6dnQg"
      },
      "source": [
        "Дополнительно поделим базу не только на обучающую и валидационную(проверочную) выборки, но и на тестовую выборку. Для получения более точных значений для выводв о работоспособности сети."
      ]
    },
    {
      "cell_type": "code",
      "metadata": {
        "id": "xg-XgYwqPXcV",
        "colab": {
          "base_uri": "https://localhost:8080/",
          "height": 84
        },
        "outputId": "40b6ea10-dcbe-4590-db95-9338ec6459b2"
      },
      "source": [
        "from sklearn.model_selection import train_test_split\n",
        "\n",
        "x_my_train, x_test, y_my_train, y_test = train_test_split(x_train, y_train, test_size = 0.2, shuffle = True)\n",
        "\n",
        "print(x_my_train.shape)\n",
        "print(y_my_train.shape) \n",
        "\n",
        "print(y_test.shape) \n",
        "print(x_test.shape)\n",
        "\n",
        "# Нормализуем y_my_train и y_test\n",
        "y_train_scaler = StandardScaler()\n",
        "y_my_train_scaled = y_train_scaler.fit_transform(y_my_train.reshape(-1,1)).flatten() # from 0 to 1\n",
        "y_test_scaler = StandardScaler()\n",
        "y_test_scaled = y_test_scaler.fit_transform(y_test.reshape(-1,1)).flatten() # from 0 to 1"
      ],
      "execution_count": null,
      "outputs": [
        {
          "output_type": "stream",
          "text": [
            "(59620, 288)\n",
            "(59620,)\n",
            "(14906,)\n",
            "(14906, 288)\n"
          ],
          "name": "stdout"
        }
      ]
    },
    {
      "cell_type": "code",
      "metadata": {
        "id": "qVWWqvrBoBeR",
        "colab": {
          "base_uri": "https://localhost:8080/",
          "height": 1000
        },
        "outputId": "b65f87b0-1e17-462c-df4a-2d939dac5a4b"
      },
      "source": [
        "#Создаём сеть\n",
        "model = Sequential()\n",
        "model.add(Dense(200, activation='relu', input_shape=(x_my_train.shape[1],)))\n",
        "model.add(BatchNormalization())\n",
        "model.add(Dropout(0.5))\n",
        "model.add(Dense(200, activation='relu'))\n",
        "model.add(BatchNormalization())\n",
        "model.add(Dropout(0.5))\n",
        "model.add(Dense(200, activation='relu'))\n",
        "model.add(BatchNormalization())\n",
        "model.add(Dropout(0.5))\n",
        "model.add(BatchNormalization())\n",
        "model.add(Dense(1, activation='linear'))\n",
        "model.compile(optimizer=Adam(lr=0.0001), loss='mae')\n",
        "\n",
        "#40000 примеров отводим обучающей выборке\n",
        "n_val = 40000\n",
        "history = model.fit(x_my_train[:n_val], \n",
        "                    y_my_train_scaled[:n_val],\n",
        "                    batch_size=150,\n",
        "                    epochs=100, \n",
        "                    validation_data=(x_my_train[n_val:], y_my_train_scaled[n_val:]), \n",
        "                    verbose=1)\n",
        "\n",
        "import numpy as np\n",
        "\n",
        "#Отобразим результаты\n",
        "plt.plot(history.history['loss'], label='Ошибка на обучающем наборе')\n",
        "plt.plot(history.history['val_loss'], label='Ошибка на проверочном наборе')\n",
        "plt.xlabel('Эпоха обучения')\n",
        "plt.ylabel('MSE')\n",
        "plt.legend()\n",
        "plt.show()\n",
        "\n",
        "#Предсказываем проверочную выборку\n",
        "predict = model.predict(x_my_train[n_val:])\n",
        "predict = y_train_scaler.inverse_transform(predict).flatten()\n",
        "\n",
        "#Считаем среднюю цену, среднюю ошибку и средний процент ошибки\n",
        "delta = predict - y_my_train[n_val:]\n",
        "abs_delta = abs(delta)\n",
        "mean_delta = np.sum(abs_delta)/len(abs_delta)\n",
        "mean_price = np.sum(y_my_train[n_val:])/len(y_my_train[n_val:])\n",
        "print(\"Средняя ошибка: \", round(mean_delta))\n",
        "print(\"Средняя цена: \", round(mean_price))\n",
        "print(\"Процент ошибки: \", round(100*mean_delta / mean_price), \"%\", sep=\"\")"
      ],
      "execution_count": null,
      "outputs": [
        {
          "output_type": "stream",
          "text": [
            "Epoch 1/100\n",
            "267/267 [==============================] - 1s 5ms/step - loss: 1.2182 - val_loss: 0.8380\n",
            "Epoch 2/100\n",
            "267/267 [==============================] - 1s 4ms/step - loss: 1.0807 - val_loss: 0.7947\n",
            "Epoch 3/100\n",
            "267/267 [==============================] - 1s 4ms/step - loss: 1.0139 - val_loss: 0.7704\n",
            "Epoch 4/100\n",
            "267/267 [==============================] - 1s 4ms/step - loss: 0.9633 - val_loss: 0.7524\n",
            "Epoch 5/100\n",
            "267/267 [==============================] - 1s 4ms/step - loss: 0.9206 - val_loss: 0.7389\n",
            "Epoch 6/100\n",
            "267/267 [==============================] - 1s 4ms/step - loss: 0.8807 - val_loss: 0.7230\n",
            "Epoch 7/100\n",
            "267/267 [==============================] - 1s 4ms/step - loss: 0.8488 - val_loss: 0.7139\n",
            "Epoch 8/100\n",
            "267/267 [==============================] - 1s 4ms/step - loss: 0.8176 - val_loss: 0.6972\n",
            "Epoch 9/100\n",
            "267/267 [==============================] - 1s 4ms/step - loss: 0.7893 - val_loss: 0.6861\n",
            "Epoch 10/100\n",
            "267/267 [==============================] - 1s 4ms/step - loss: 0.7648 - val_loss: 0.6714\n",
            "Epoch 11/100\n",
            "267/267 [==============================] - 1s 4ms/step - loss: 0.7483 - val_loss: 0.6618\n",
            "Epoch 12/100\n",
            "267/267 [==============================] - 1s 4ms/step - loss: 0.7339 - val_loss: 0.6536\n",
            "Epoch 13/100\n",
            "267/267 [==============================] - 1s 4ms/step - loss: 0.7166 - val_loss: 0.6454\n",
            "Epoch 14/100\n",
            "267/267 [==============================] - 1s 4ms/step - loss: 0.7042 - val_loss: 0.6382\n",
            "Epoch 15/100\n",
            "267/267 [==============================] - 1s 4ms/step - loss: 0.6913 - val_loss: 0.6349\n",
            "Epoch 16/100\n",
            "267/267 [==============================] - 1s 4ms/step - loss: 0.6834 - val_loss: 0.6282\n",
            "Epoch 17/100\n",
            "267/267 [==============================] - 1s 4ms/step - loss: 0.6760 - val_loss: 0.6237\n",
            "Epoch 18/100\n",
            "267/267 [==============================] - 1s 4ms/step - loss: 0.6678 - val_loss: 0.6210\n",
            "Epoch 19/100\n",
            "267/267 [==============================] - 1s 4ms/step - loss: 0.6633 - val_loss: 0.6159\n",
            "Epoch 20/100\n",
            "267/267 [==============================] - 1s 4ms/step - loss: 0.6575 - val_loss: 0.6129\n",
            "Epoch 21/100\n",
            "267/267 [==============================] - 1s 4ms/step - loss: 0.6514 - val_loss: 0.6114\n",
            "Epoch 22/100\n",
            "267/267 [==============================] - 1s 4ms/step - loss: 0.6470 - val_loss: 0.6091\n",
            "Epoch 23/100\n",
            "267/267 [==============================] - 1s 4ms/step - loss: 0.6419 - val_loss: 0.6061\n",
            "Epoch 24/100\n",
            "267/267 [==============================] - 1s 4ms/step - loss: 0.6398 - val_loss: 0.6053\n",
            "Epoch 25/100\n",
            "267/267 [==============================] - 1s 4ms/step - loss: 0.6390 - val_loss: 0.6041\n",
            "Epoch 26/100\n",
            "267/267 [==============================] - 1s 4ms/step - loss: 0.6351 - val_loss: 0.6044\n",
            "Epoch 27/100\n",
            "267/267 [==============================] - 1s 4ms/step - loss: 0.6335 - val_loss: 0.6016\n",
            "Epoch 28/100\n",
            "267/267 [==============================] - 1s 4ms/step - loss: 0.6289 - val_loss: 0.5990\n",
            "Epoch 29/100\n",
            "267/267 [==============================] - 1s 4ms/step - loss: 0.6281 - val_loss: 0.5992\n",
            "Epoch 30/100\n",
            "267/267 [==============================] - 1s 4ms/step - loss: 0.6276 - val_loss: 0.6012\n",
            "Epoch 31/100\n",
            "267/267 [==============================] - 1s 4ms/step - loss: 0.6257 - val_loss: 0.5991\n",
            "Epoch 32/100\n",
            "267/267 [==============================] - 1s 4ms/step - loss: 0.6235 - val_loss: 0.5982\n",
            "Epoch 33/100\n",
            "267/267 [==============================] - 1s 4ms/step - loss: 0.6203 - val_loss: 0.5950\n",
            "Epoch 34/100\n",
            "267/267 [==============================] - 1s 4ms/step - loss: 0.6198 - val_loss: 0.5955\n",
            "Epoch 35/100\n",
            "267/267 [==============================] - 1s 4ms/step - loss: 0.6175 - val_loss: 0.5948\n",
            "Epoch 36/100\n",
            "267/267 [==============================] - 1s 4ms/step - loss: 0.6192 - val_loss: 0.5955\n",
            "Epoch 37/100\n",
            "267/267 [==============================] - 1s 4ms/step - loss: 0.6153 - val_loss: 0.5941\n",
            "Epoch 38/100\n",
            "267/267 [==============================] - 1s 4ms/step - loss: 0.6144 - val_loss: 0.5944\n",
            "Epoch 39/100\n",
            "267/267 [==============================] - 1s 4ms/step - loss: 0.6126 - val_loss: 0.5930\n",
            "Epoch 40/100\n",
            "267/267 [==============================] - 1s 4ms/step - loss: 0.6122 - val_loss: 0.5924\n",
            "Epoch 41/100\n",
            "267/267 [==============================] - 1s 4ms/step - loss: 0.6136 - val_loss: 0.5923\n",
            "Epoch 42/100\n",
            "267/267 [==============================] - 1s 4ms/step - loss: 0.6099 - val_loss: 0.5919\n",
            "Epoch 43/100\n",
            "267/267 [==============================] - 1s 4ms/step - loss: 0.6083 - val_loss: 0.5927\n",
            "Epoch 44/100\n",
            "267/267 [==============================] - 1s 4ms/step - loss: 0.6064 - val_loss: 0.5900\n",
            "Epoch 45/100\n",
            "267/267 [==============================] - 1s 4ms/step - loss: 0.6068 - val_loss: 0.5896\n",
            "Epoch 46/100\n",
            "267/267 [==============================] - 1s 4ms/step - loss: 0.6052 - val_loss: 0.5891\n",
            "Epoch 47/100\n",
            "267/267 [==============================] - 1s 4ms/step - loss: 0.6058 - val_loss: 0.5897\n",
            "Epoch 48/100\n",
            "267/267 [==============================] - 1s 4ms/step - loss: 0.6037 - val_loss: 0.5887\n",
            "Epoch 49/100\n",
            "267/267 [==============================] - 1s 4ms/step - loss: 0.6028 - val_loss: 0.5886\n",
            "Epoch 50/100\n",
            "267/267 [==============================] - 1s 4ms/step - loss: 0.6025 - val_loss: 0.5890\n",
            "Epoch 51/100\n",
            "267/267 [==============================] - 1s 4ms/step - loss: 0.6017 - val_loss: 0.5888\n",
            "Epoch 52/100\n",
            "267/267 [==============================] - 1s 4ms/step - loss: 0.6018 - val_loss: 0.5867\n",
            "Epoch 53/100\n",
            "267/267 [==============================] - 1s 4ms/step - loss: 0.6002 - val_loss: 0.5859\n",
            "Epoch 54/100\n",
            "267/267 [==============================] - 1s 4ms/step - loss: 0.6003 - val_loss: 0.5864\n",
            "Epoch 55/100\n",
            "267/267 [==============================] - 1s 4ms/step - loss: 0.5985 - val_loss: 0.5874\n",
            "Epoch 56/100\n",
            "267/267 [==============================] - 1s 4ms/step - loss: 0.5983 - val_loss: 0.5862\n",
            "Epoch 57/100\n",
            "267/267 [==============================] - 1s 4ms/step - loss: 0.5955 - val_loss: 0.5846\n",
            "Epoch 58/100\n",
            "267/267 [==============================] - 1s 4ms/step - loss: 0.5965 - val_loss: 0.5850\n",
            "Epoch 59/100\n",
            "267/267 [==============================] - 1s 4ms/step - loss: 0.5956 - val_loss: 0.5852\n",
            "Epoch 60/100\n",
            "267/267 [==============================] - 1s 4ms/step - loss: 0.5960 - val_loss: 0.5858\n",
            "Epoch 61/100\n",
            "267/267 [==============================] - 1s 4ms/step - loss: 0.5949 - val_loss: 0.5839\n",
            "Epoch 62/100\n",
            "267/267 [==============================] - 1s 4ms/step - loss: 0.5932 - val_loss: 0.5847\n",
            "Epoch 63/100\n",
            "267/267 [==============================] - 1s 4ms/step - loss: 0.5935 - val_loss: 0.5865\n",
            "Epoch 64/100\n",
            "267/267 [==============================] - 1s 4ms/step - loss: 0.5911 - val_loss: 0.5865\n",
            "Epoch 65/100\n",
            "267/267 [==============================] - 1s 4ms/step - loss: 0.5927 - val_loss: 0.5859\n",
            "Epoch 66/100\n",
            "267/267 [==============================] - 1s 4ms/step - loss: 0.5909 - val_loss: 0.5830\n",
            "Epoch 67/100\n",
            "267/267 [==============================] - 1s 4ms/step - loss: 0.5919 - val_loss: 0.5822\n",
            "Epoch 68/100\n",
            "267/267 [==============================] - 1s 4ms/step - loss: 0.5903 - val_loss: 0.5822\n",
            "Epoch 69/100\n",
            "267/267 [==============================] - 1s 4ms/step - loss: 0.5920 - val_loss: 0.5844\n",
            "Epoch 70/100\n",
            "267/267 [==============================] - 1s 4ms/step - loss: 0.5878 - val_loss: 0.5825\n",
            "Epoch 71/100\n",
            "267/267 [==============================] - 1s 4ms/step - loss: 0.5877 - val_loss: 0.5849\n",
            "Epoch 72/100\n",
            "267/267 [==============================] - 1s 4ms/step - loss: 0.5873 - val_loss: 0.5844\n",
            "Epoch 73/100\n",
            "267/267 [==============================] - 1s 4ms/step - loss: 0.5878 - val_loss: 0.5821\n",
            "Epoch 74/100\n",
            "267/267 [==============================] - 1s 4ms/step - loss: 0.5860 - val_loss: 0.5827\n",
            "Epoch 75/100\n",
            "267/267 [==============================] - 1s 4ms/step - loss: 0.5868 - val_loss: 0.5820\n",
            "Epoch 76/100\n",
            "267/267 [==============================] - 1s 4ms/step - loss: 0.5865 - val_loss: 0.5817\n",
            "Epoch 77/100\n",
            "267/267 [==============================] - 1s 4ms/step - loss: 0.5857 - val_loss: 0.5827\n",
            "Epoch 78/100\n",
            "267/267 [==============================] - 1s 4ms/step - loss: 0.5840 - val_loss: 0.5811\n",
            "Epoch 79/100\n",
            "267/267 [==============================] - 1s 4ms/step - loss: 0.5849 - val_loss: 0.5799\n",
            "Epoch 80/100\n",
            "267/267 [==============================] - 1s 4ms/step - loss: 0.5833 - val_loss: 0.5790\n",
            "Epoch 81/100\n",
            "267/267 [==============================] - 1s 4ms/step - loss: 0.5842 - val_loss: 0.5814\n",
            "Epoch 82/100\n",
            "267/267 [==============================] - 1s 4ms/step - loss: 0.5826 - val_loss: 0.5804\n",
            "Epoch 83/100\n",
            "267/267 [==============================] - 1s 4ms/step - loss: 0.5822 - val_loss: 0.5796\n",
            "Epoch 84/100\n",
            "267/267 [==============================] - 1s 4ms/step - loss: 0.5819 - val_loss: 0.5789\n",
            "Epoch 85/100\n",
            "267/267 [==============================] - 1s 4ms/step - loss: 0.5813 - val_loss: 0.5777\n",
            "Epoch 86/100\n",
            "267/267 [==============================] - 1s 4ms/step - loss: 0.5813 - val_loss: 0.5792\n",
            "Epoch 87/100\n",
            "267/267 [==============================] - 1s 4ms/step - loss: 0.5818 - val_loss: 0.5792\n",
            "Epoch 88/100\n",
            "267/267 [==============================] - 1s 4ms/step - loss: 0.5802 - val_loss: 0.5801\n",
            "Epoch 89/100\n",
            "267/267 [==============================] - 1s 4ms/step - loss: 0.5798 - val_loss: 0.5804\n",
            "Epoch 90/100\n",
            "267/267 [==============================] - 1s 4ms/step - loss: 0.5803 - val_loss: 0.5816\n",
            "Epoch 91/100\n",
            "267/267 [==============================] - 1s 4ms/step - loss: 0.5808 - val_loss: 0.5808\n",
            "Epoch 92/100\n",
            "267/267 [==============================] - 1s 4ms/step - loss: 0.5800 - val_loss: 0.5798\n",
            "Epoch 93/100\n",
            "267/267 [==============================] - 1s 4ms/step - loss: 0.5793 - val_loss: 0.5790\n",
            "Epoch 94/100\n",
            "267/267 [==============================] - 1s 4ms/step - loss: 0.5785 - val_loss: 0.5806\n",
            "Epoch 95/100\n",
            "267/267 [==============================] - 1s 4ms/step - loss: 0.5771 - val_loss: 0.5789\n",
            "Epoch 96/100\n",
            "267/267 [==============================] - 1s 4ms/step - loss: 0.5795 - val_loss: 0.5772\n",
            "Epoch 97/100\n",
            "267/267 [==============================] - 1s 4ms/step - loss: 0.5763 - val_loss: 0.5784\n",
            "Epoch 98/100\n",
            "267/267 [==============================] - 1s 4ms/step - loss: 0.5764 - val_loss: 0.5776\n",
            "Epoch 99/100\n",
            "267/267 [==============================] - 1s 4ms/step - loss: 0.5792 - val_loss: 0.5796\n",
            "Epoch 100/100\n",
            "267/267 [==============================] - 1s 4ms/step - loss: 0.5765 - val_loss: 0.5777\n"
          ],
          "name": "stdout"
        },
        {
          "output_type": "display_data",
          "data": {
            "image/png": "[encoded data removed]",
            "text/plain": [
              "<Figure size 432x288 with 1 Axes>"
            ]
          },
          "metadata": {
            "tags": [],
            "needs_background": "light"
          }
        },
        {
          "output_type": "stream",
          "text": [
            "Средняя ошибка:  579.0\n",
            "Средняя цена:  4077.0\n",
            "Процент ошибки: 14.0%\n"
          ],
          "name": "stdout"
        }
      ]
    },
    {
      "cell_type": "code",
      "metadata": {
        "id": "Wbdv4SWngTGA",
        "colab": {
          "base_uri": "https://localhost:8080/",
          "height": 33
        },
        "outputId": "b00939e3-4372-491e-9266-b29519e9d3d1"
      },
      "source": [
        "print(\"Процент ошибки на проверочной выборке: \", round(100*mean_delta / mean_price), \"%\", sep=\"\")"
      ],
      "execution_count": null,
      "outputs": [
        {
          "output_type": "stream",
          "text": [
            "Процент ошибки на проверочной выборке: 14.0%\n"
          ],
          "name": "stdout"
        }
      ]
    },
    {
      "cell_type": "code",
      "metadata": {
        "id": "7G1Xu5t-ft0h",
        "colab": {
          "base_uri": "https://localhost:8080/",
          "height": 33
        },
        "outputId": "47667467-0141-48a3-be5f-d27c474a41ad"
      },
      "source": [
        "#Предсказываем тестовую выборку\n",
        "predict = model.predict(x_test)\n",
        "predict = y_test_scaler.inverse_transform(predict).flatten()\n",
        "\n",
        "sum = 0\n",
        "\n",
        "for i in range(y_test.shape[0]):\n",
        "  price = predict[i] \n",
        "  real_price = y_test[i] \n",
        "  sum += abs(((price / real_price) - 1) * 100)\n",
        "\n",
        "result = sum/y_test.shape[0]  \n",
        "print('Суммарный процент ошибки на тестовой выборке: ', round(result,2), \"%\", sep=\"\")  "
      ],
      "execution_count": null,
      "outputs": [
        {
          "output_type": "stream",
          "text": [
            "Суммарный процент ошибки на тестовой выборке: 14.99%\n"
          ],
          "name": "stdout"
        }
      ]
    },
    {
      "cell_type": "markdown",
      "metadata": {
        "id": "_T5ti-W0hTZ6"
      },
      "source": [
        "**Итоги:**\n",
        "\n",
        "После чистки и обработки базы, преобразования её в данные которые можно подать на обучение сети, написания самой нейронной сети для обработки этих данных и её обучения и тестирования, получился следующий результат:\n",
        "\n",
        "Процент ошибки на проверочной выборке: **14%**\n",
        "\n",
        "Процент ошибки на тестовой выборке: **14.99%**\n",
        "\n",
        "Процент ошибки как на проверочной, так и на тестовой выборке небольшой а значит результат работы нейронной сети можно считать хорошим А данный подход хорошим для решения подобных задач. \n",
        "\n",
        "Также после ряда экспериментов, можно точно сказать что первоначальная предобработка базы перед тем как её отправить на обучение в сеть играет огромную роль. Так как несбалансированность данных может привести к самым неприятным последствиям, в том числе \"заучиванию\" значений (если каких-то конкретных машин будет много - то сеть выучит их стоимость и будем всем остальным прогнозировать именно ее, что и происходило с изначальной базой, до того как я привела её в надлежащий вид)."
      ]
    }
  ]
}