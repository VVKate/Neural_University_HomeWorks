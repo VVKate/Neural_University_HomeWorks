{
  "nbformat": 4,
  "nbformat_minor": 0,
  "metadata": {
    "colab": {
      "name": "17_Алгоритмы кластеризации данных",
      "provenance": [],
      "collapsed_sections": [
        "ZD2SQQTDkU8v",
        "r-FFE2dvlrTO"
      ],
      "toc_visible": true
    },
    "kernelspec": {
      "display_name": "Python 3",
      "name": "python3"
    },
    "accelerator": "GPU"
  },
  "cells": [
    {
      "cell_type": "markdown",
      "metadata": {
        "id": "FB_W-o0CqhIi"
      },
      "source": [
        "#Домашнеее задание: Июльский курс (2020). Pro. Занятие 17\n",
        "##Алгоритмы кластеризации данных\n",
        "## Верхошинская Катерина Викторовна"
      ]
    },
    {
      "cell_type": "markdown",
      "metadata": {
        "id": "ZD2SQQTDkU8v"
      },
      "source": [
        "## **LIGHT**\n",
        "\n",
        "\n",
        "\n",
        "\n"
      ]
    },
    {
      "cell_type": "markdown",
      "metadata": {
        "id": "ozztoh1iLZLi"
      },
      "source": [
        "### Задание:\n",
        "\n",
        "Используйте готовый ноутбук с кластеризацией базы покупок интернет магазина:\n",
        "1. Удалите из выборки все строки про доставку (автоматически, уже из carts)\n",
        "2. Выведите две гистограммы\n",
        "     1. Распределения размеров классов - сколько корзин\n",
        "     2. Распределение количества уникальных позиций в классе\n",
        "3. Напишите продвинутую функцию визуализации одного выбранного класса\n",
        "     1. Размер класса\n",
        "     2. Количество уникальных позиций\n",
        "     3. Позиции, которые есть минимум в 20% корзин\n",
        "     4. Уникальные слова в описаниях позиций, которые встречаются минимум в 20% позиций, для отслеживания моно-брендовых и моно-товарных закупок"
      ]
    },
    {
      "cell_type": "code",
      "metadata": {
        "id": "0_cb-YDAJoEb"
      },
      "source": [
        "# Статический вывод графики (графики отображаются в той ячейке, в которой используется plt.show())\n",
        "%matplotlib inline\n",
        "\n",
        "import pandas as pd # импортируем библиотеку обработки и анализа данных pandas\n",
        "import matplotlib.pyplot as plt # Импортируем модуль pyplot библиотеки matplotlib для построения графиков\n",
        "from tensorflow.keras import utils # Импортируем модуль utils библиотеки tensorflow.keras для получения OHE-представления\n",
        "import numpy as np # Импортируем библиотеку numpy\n",
        "from keras.preprocessing.text import Tokenizer, text_to_word_sequence,tokenizer_from_json \n",
        "\n",
        "from sklearn.preprocessing import StandardScaler, LabelEncoder # Импортируем библиотеку StandardScaler и LabelEncoder\n",
        "from sklearn.cluster import KMeans # Импортируем библиотуке KMeans для кластеризации\n",
        "from sklearn.metrics.cluster import homogeneity_score\n",
        "from sklearn.manifold import TSNE\n",
        "import time\n",
        "import os\n",
        "\n",
        "from tensorflow.keras.models import Sequential, Model # Полносвязная модель\n",
        "from tensorflow.keras.layers import Input, Dense, Conv2D, MaxPooling2D, Reshape, Conv2DTranspose, Dropout, SpatialDropout1D, BatchNormalization, Embedding, Flatten, Activation # Слои для сети\n",
        "from tensorflow.keras.preprocessing.sequence import pad_sequences # Метод для работы с последовательностями\n",
        "from tensorflow.keras.optimizers import Adam\n",
        "from tensorflow.keras.callbacks import ModelCheckpoint\n",
        "from tensorflow.keras.datasets import mnist"
      ],
      "execution_count": null,
      "outputs": []
    },
    {
      "cell_type": "code",
      "metadata": {
        "colab": {
          "base_uri": "https://localhost:8080/"
        },
        "id": "AqSeyMUQS4jH",
        "outputId": "9c8f3b29-2e45-497b-b5bd-56b361311427"
      },
      "source": [
        "from google.colab import drive\n",
        "drive.mount('/content/drive')"
      ],
      "execution_count": null,
      "outputs": [
        {
          "output_type": "stream",
          "text": [
            "Mounted at /content/drive\n"
          ],
          "name": "stdout"
        }
      ]
    },
    {
      "cell_type": "code",
      "metadata": {
        "id": "H6sPPuo9Xmt4"
      },
      "source": [
        "df = pd.read_csv('/content/drive/My Drive/Colab Notebooks/Базы/online_carts.csv') # Читаем данные из загруженной базы"
      ],
      "execution_count": null,
      "outputs": []
    },
    {
      "cell_type": "code",
      "metadata": {
        "colab": {
          "base_uri": "https://localhost:8080/",
          "height": 246
        },
        "id": "3s-j1V9f-U_c",
        "outputId": "648704cd-320a-47e8-a4df-7c563b3a1c0e"
      },
      "source": [
        "df.head()"
      ],
      "execution_count": null,
      "outputs": [
        {
          "output_type": "execute_result",
          "data": {
            "text/html": [
              "<div>\n",
              "<style scoped>\n",
              "    .dataframe tbody tr th:only-of-type {\n",
              "        vertical-align: middle;\n",
              "    }\n",
              "\n",
              "    .dataframe tbody tr th {\n",
              "        vertical-align: top;\n",
              "    }\n",
              "\n",
              "    .dataframe thead th {\n",
              "        text-align: right;\n",
              "    }\n",
              "</style>\n",
              "<table border=\"1\" class=\"dataframe\">\n",
              "  <thead>\n",
              "    <tr style=\"text-align: right;\">\n",
              "      <th></th>\n",
              "      <th>Unnamed: 0</th>\n",
              "      <th>Валовая прибыль</th>\n",
              "      <th>Unnamed: 2</th>\n",
              "      <th>Unnamed: 3</th>\n",
              "      <th>Unnamed: 4</th>\n",
              "    </tr>\n",
              "  </thead>\n",
              "  <tbody>\n",
              "    <tr>\n",
              "      <th>0</th>\n",
              "      <td>NaN</td>\n",
              "      <td>Период: Февраль 2019 г. - Август 2019 г.</td>\n",
              "      <td>NaN</td>\n",
              "      <td>NaN</td>\n",
              "      <td>NaN</td>\n",
              "    </tr>\n",
              "    <tr>\n",
              "      <th>1</th>\n",
              "      <td>NaN</td>\n",
              "      <td>Показатели: Стоимость продажи (руб.)(С НДС)</td>\n",
              "      <td>Количество(Базовых ед.)</td>\n",
              "      <td>NaN</td>\n",
              "      <td>NaN</td>\n",
              "    </tr>\n",
              "    <tr>\n",
              "      <th>2</th>\n",
              "      <td>NaN</td>\n",
              "      <td>Группировки строк: ЗаказПокупателя.Дата оправк...</td>\n",
              "      <td>ЗаказПокупателя.ID заказа (Элементы)</td>\n",
              "      <td>Номенклатура.Наименование (Элементы)</td>\n",
              "      <td>NaN</td>\n",
              "    </tr>\n",
              "    <tr>\n",
              "      <th>3</th>\n",
              "      <td>NaN</td>\n",
              "      <td>Отборы:\\nПодразделение В списке (estel.m-cosme...</td>\n",
              "      <td>NaN</td>\n",
              "      <td>NaN</td>\n",
              "      <td>NaN</td>\n",
              "    </tr>\n",
              "    <tr>\n",
              "      <th>4</th>\n",
              "      <td>NaN</td>\n",
              "      <td>NaN</td>\n",
              "      <td>NaN</td>\n",
              "      <td>NaN</td>\n",
              "      <td>NaN</td>\n",
              "    </tr>\n",
              "  </tbody>\n",
              "</table>\n",
              "</div>"
            ],
            "text/plain": [
              "   Unnamed: 0  ... Unnamed: 4\n",
              "0         NaN  ...        NaN\n",
              "1         NaN  ...        NaN\n",
              "2         NaN  ...        NaN\n",
              "3         NaN  ...        NaN\n",
              "4         NaN  ...        NaN\n",
              "\n",
              "[5 rows x 5 columns]"
            ]
          },
          "metadata": {
            "tags": []
          },
          "execution_count": 4
        }
      ]
    },
    {
      "cell_type": "code",
      "metadata": {
        "colab": {
          "base_uri": "https://localhost:8080/"
        },
        "id": "vfdF7IPq-WLi",
        "outputId": "9212e8e8-484f-4e92-d8f1-e63e233420e4"
      },
      "source": [
        "# Посмотрим на уникальные значения каждого из безымянных столбцов\n",
        "print(df['Unnamed: 0'].unique(),\n",
        "      df['Unnamed: 2'].unique(),\n",
        "      df['Unnamed: 3'].unique(),sep='\\n')"
      ],
      "execution_count": null,
      "outputs": [
        {
          "output_type": "stream",
          "text": [
            "[nan]\n",
            "[nan ' Количество(Базовых ед.)' ' ЗаказПокупателя.ID заказа (Элементы)'\n",
            " ... '3472' '7616' '2731']\n",
            "[nan ' Номенклатура.Наименование (Элементы)' 'Количество' 'Базовых ед.'\n",
            " '9' '1' '4' '797' '162' '3' '2' '5' '7' '8' '6' '49' '10' '34' '11' '25'\n",
            " '20' '13' '17' '29' '1130' '148' '12' '40' '14' '50' '68' '51' '23' '22'\n",
            " '16' '1096' '105' '124' '139' '19' '15' '26' '30' '21' '504' '28' '575'\n",
            " '60' '61' '18' '80' '942' '44' '188' '24' '1375' '147' '137' '33' '597'\n",
            " '82' '37' '860' '47' '825' '27' '45' '229' '887' '113' '58' '104' '38'\n",
            " '1751' '134' '138' '1214' '341' '168' '81' '88' '1074' '150' '32' '52'\n",
            " '43' '1023' '64' '72' '31' '39' '1237' '254' '46' '289' '1938' '456'\n",
            " '132' '2689' '599' '1771' '181' '322' '77' '556' '90' '256' '42' '57'\n",
            " '35' '883' '118' '1078' '145' '2749' '36' '1360' '85' '893' '214' '692'\n",
            " '119' '1533' '239' '650' '93' '70' '1551' '158' '78' '102' '780' '291'\n",
            " '41' '1278' '140' '48' '161' '1127' '122' '94' '978' '98' '769' '92'\n",
            " '159' '720' '69' '56' '1648' '688' '752' '108' '174' '850' '172' '848'\n",
            " '117' '151' '1511' '665' '278' '84' '1216' '243' '1057' '295' '71' '652'\n",
            " '1462' '525' '1159' '787' '180' '73' '1376' '121' '54' '672' '758' '222'\n",
            " '103' '840' '87' '143' '880' '839' '120' '678' '106' '63' '716' '67'\n",
            " '1017' '96' '179' '1145' '131' '95' '564' '76' '528' '441' '540' '949'\n",
            " '128' '634' '1965' '673' '201' '127' '250' '1285' '125' '219' '66' '988'\n",
            " '65' '1250' '884' '100' '960' '55' '1315' '187' '111' '1077' '221' '1328'\n",
            " '598' '75' '59' '583' '107' '897' '79' '1144' '241' '608' '177' '706'\n",
            " '126' '938' '178' '62' '116' '817' '483' '141' '385' '683' '1051' '114'\n",
            " '501' '205' '1105' '413' '866' '1212' '189' '99' '592' '91' '1303' '601'\n",
            " '751' '173' '795' '987' '1167' '573' '1114' '530' '1070' '74' '1171' '89'\n",
            " '624' '559' '613' '356' '1085' '164' '101' '367' '855' '694' '233' '633'\n",
            " '97' '1091' '245' '518' '667' '53' '499' '756' '929' '728' '916' '1047'\n",
            " '236' '202' '546' '206' '918' '136' '377' '750' '807' '240' '661' '558'\n",
            " '170' '582' '1594' '130' '1026' '282' '561' '542' '135' '691' '906' '203'\n",
            " '734' '390' '754' '1122' '790' '1099' '186' '770' '980' '290']\n"
          ],
          "name": "stdout"
        }
      ]
    },
    {
      "cell_type": "code",
      "metadata": {
        "id": "DEdXFZr5-XWx"
      },
      "source": [
        "new = df.drop(['Unnamed: 0'], axis =1)                             # Этот столбец не несет никакой информации, так что выкинем его\n",
        "new.insert(0, column='Дата', value = [x for x in range(len(new))]) # Вставим новую колонку \"Дата\", чтобы из базы вытащить временные данные в отдельную колонку\n",
        "new = new.fillna('unknown')                                        # Все Nan заполним строкой \"unknown\", чтобы не выскакивало ошибок"
      ],
      "execution_count": null,
      "outputs": []
    },
    {
      "cell_type": "code",
      "metadata": {
        "colab": {
          "base_uri": "https://localhost:8080/",
          "height": 402
        },
        "id": "cmNdzCap-YnZ",
        "outputId": "af3b4126-1f9a-4c40-9815-79fd731c68cd"
      },
      "source": [
        "new[new['Валовая прибыль'].str.contains(\"MCOSM\")] # MCOSM - флаг начала корзины"
      ],
      "execution_count": null,
      "outputs": [
        {
          "output_type": "execute_result",
          "data": {
            "text/html": [
              "<div>\n",
              "<style scoped>\n",
              "    .dataframe tbody tr th:only-of-type {\n",
              "        vertical-align: middle;\n",
              "    }\n",
              "\n",
              "    .dataframe tbody tr th {\n",
              "        vertical-align: top;\n",
              "    }\n",
              "\n",
              "    .dataframe thead th {\n",
              "        text-align: right;\n",
              "    }\n",
              "</style>\n",
              "<table border=\"1\" class=\"dataframe\">\n",
              "  <thead>\n",
              "    <tr style=\"text-align: right;\">\n",
              "      <th></th>\n",
              "      <th>Дата</th>\n",
              "      <th>Валовая прибыль</th>\n",
              "      <th>Unnamed: 2</th>\n",
              "      <th>Unnamed: 3</th>\n",
              "      <th>Unnamed: 4</th>\n",
              "    </tr>\n",
              "  </thead>\n",
              "  <tbody>\n",
              "    <tr>\n",
              "      <th>10</th>\n",
              "      <td>10</td>\n",
              "      <td>MCOSM13113</td>\n",
              "      <td>26236</td>\n",
              "      <td>9</td>\n",
              "      <td>unknown</td>\n",
              "    </tr>\n",
              "    <tr>\n",
              "      <th>22</th>\n",
              "      <td>22</td>\n",
              "      <td>MCOSM13113</td>\n",
              "      <td>1929</td>\n",
              "      <td>4</td>\n",
              "      <td>unknown</td>\n",
              "    </tr>\n",
              "    <tr>\n",
              "      <th>166</th>\n",
              "      <td>166</td>\n",
              "      <td>MCOSM4885</td>\n",
              "      <td>350</td>\n",
              "      <td>2</td>\n",
              "      <td>unknown</td>\n",
              "    </tr>\n",
              "    <tr>\n",
              "      <th>168</th>\n",
              "      <td>168</td>\n",
              "      <td>MCOSM4996</td>\n",
              "      <td>9436</td>\n",
              "      <td>4</td>\n",
              "      <td>unknown</td>\n",
              "    </tr>\n",
              "    <tr>\n",
              "      <th>172</th>\n",
              "      <td>172</td>\n",
              "      <td>MCOSM5963</td>\n",
              "      <td>8625</td>\n",
              "      <td>6</td>\n",
              "      <td>unknown</td>\n",
              "    </tr>\n",
              "    <tr>\n",
              "      <th>...</th>\n",
              "      <td>...</td>\n",
              "      <td>...</td>\n",
              "      <td>...</td>\n",
              "      <td>...</td>\n",
              "      <td>...</td>\n",
              "    </tr>\n",
              "    <tr>\n",
              "      <th>99589</th>\n",
              "      <td>99589</td>\n",
              "      <td>MCOSM33527</td>\n",
              "      <td>2714</td>\n",
              "      <td>6</td>\n",
              "      <td>unknown</td>\n",
              "    </tr>\n",
              "    <tr>\n",
              "      <th>99596</th>\n",
              "      <td>99596</td>\n",
              "      <td>MCOSM33529</td>\n",
              "      <td>3145</td>\n",
              "      <td>9</td>\n",
              "      <td>unknown</td>\n",
              "    </tr>\n",
              "    <tr>\n",
              "      <th>99603</th>\n",
              "      <td>99603</td>\n",
              "      <td>MCOSM33530</td>\n",
              "      <td>3030</td>\n",
              "      <td>12</td>\n",
              "      <td>unknown</td>\n",
              "    </tr>\n",
              "    <tr>\n",
              "      <th>99616</th>\n",
              "      <td>99616</td>\n",
              "      <td>MCOSM33537</td>\n",
              "      <td>2259</td>\n",
              "      <td>2</td>\n",
              "      <td>unknown</td>\n",
              "    </tr>\n",
              "    <tr>\n",
              "      <th>99626</th>\n",
              "      <td>99626</td>\n",
              "      <td>MCOSM32997</td>\n",
              "      <td>1691</td>\n",
              "      <td>5</td>\n",
              "      <td>unknown</td>\n",
              "    </tr>\n",
              "  </tbody>\n",
              "</table>\n",
              "<p>13567 rows × 5 columns</p>\n",
              "</div>"
            ],
            "text/plain": [
              "        Дата Валовая прибыль Unnamed: 2 Unnamed: 3 Unnamed: 4\n",
              "10        10      MCOSM13113      26236          9    unknown\n",
              "22        22      MCOSM13113       1929          4    unknown\n",
              "166      166       MCOSM4885        350          2    unknown\n",
              "168      168       MCOSM4996       9436          4    unknown\n",
              "172      172       MCOSM5963       8625          6    unknown\n",
              "...      ...             ...        ...        ...        ...\n",
              "99589  99589      MCOSM33527       2714          6    unknown\n",
              "99596  99596      MCOSM33529       3145          9    unknown\n",
              "99603  99603      MCOSM33530       3030         12    unknown\n",
              "99616  99616      MCOSM33537       2259          2    unknown\n",
              "99626  99626      MCOSM32997       1691          5    unknown\n",
              "\n",
              "[13567 rows x 5 columns]"
            ]
          },
          "metadata": {
            "tags": []
          },
          "execution_count": 7
        }
      ]
    },
    {
      "cell_type": "code",
      "metadata": {
        "colab": {
          "base_uri": "https://localhost:8080/"
        },
        "id": "GPoW8y9q-ZvR",
        "outputId": "083ed009-0c85-4697-b38d-797ad75a72cd"
      },
      "source": [
        "date_list = list(new[new['Валовая прибыль'].str.contains(\"\\d\\d.\\d\\d.2019\")].index) # Здесь будут лежать все индексы строк, где есть информация в формате даты\n",
        "\n",
        "indx=0\n",
        "for i in range(len(new)):                       # Проходимся по каждой строке базы\n",
        "  if i in date_list:                            # Если индекс находится среди тех, где есть формат даты\n",
        "    indx = i                                    # Обновляем текущий индекс\n",
        "  new['Дата'][i] = new['Валовая прибыль'][indx] # Присваиваем текущий индекс всем последующим строкам, пока не наткнемся на новый индекс-дату\n"
      ],
      "execution_count": null,
      "outputs": [
        {
          "output_type": "stream",
          "text": [
            "/usr/local/lib/python3.6/dist-packages/ipykernel_launcher.py:7: SettingWithCopyWarning: \n",
            "A value is trying to be set on a copy of a slice from a DataFrame\n",
            "\n",
            "See the caveats in the documentation: https://pandas.pydata.org/pandas-docs/stable/user_guide/indexing.html#returning-a-view-versus-a-copy\n",
            "  import sys\n",
            "/usr/local/lib/python3.6/dist-packages/pandas/core/indexing.py:670: SettingWithCopyWarning: \n",
            "A value is trying to be set on a copy of a slice from a DataFrame\n",
            "\n",
            "See the caveats in the documentation: https://pandas.pydata.org/pandas-docs/stable/user_guide/indexing.html#returning-a-view-versus-a-copy\n",
            "  iloc._setitem_with_indexer(indexer, value)\n"
          ],
          "name": "stderr"
        }
      ]
    },
    {
      "cell_type": "code",
      "metadata": {
        "colab": {
          "base_uri": "https://localhost:8080/",
          "height": 570
        },
        "id": "axwao8RE-a6q",
        "outputId": "ab4e948e-93ac-4b3d-97e9-9b55e1a9c5aa"
      },
      "source": [
        "new"
      ],
      "execution_count": null,
      "outputs": [
        {
          "output_type": "execute_result",
          "data": {
            "text/html": [
              "<div>\n",
              "<style scoped>\n",
              "    .dataframe tbody tr th:only-of-type {\n",
              "        vertical-align: middle;\n",
              "    }\n",
              "\n",
              "    .dataframe tbody tr th {\n",
              "        vertical-align: top;\n",
              "    }\n",
              "\n",
              "    .dataframe thead th {\n",
              "        text-align: right;\n",
              "    }\n",
              "</style>\n",
              "<table border=\"1\" class=\"dataframe\">\n",
              "  <thead>\n",
              "    <tr style=\"text-align: right;\">\n",
              "      <th></th>\n",
              "      <th>Дата</th>\n",
              "      <th>Валовая прибыль</th>\n",
              "      <th>Unnamed: 2</th>\n",
              "      <th>Unnamed: 3</th>\n",
              "      <th>Unnamed: 4</th>\n",
              "    </tr>\n",
              "  </thead>\n",
              "  <tbody>\n",
              "    <tr>\n",
              "      <th>0</th>\n",
              "      <td>Период: Февраль 2019 г. - Август 2019 г.</td>\n",
              "      <td>Период: Февраль 2019 г. - Август 2019 г.</td>\n",
              "      <td>unknown</td>\n",
              "      <td>unknown</td>\n",
              "      <td>unknown</td>\n",
              "    </tr>\n",
              "    <tr>\n",
              "      <th>1</th>\n",
              "      <td>Период: Февраль 2019 г. - Август 2019 г.</td>\n",
              "      <td>Показатели: Стоимость продажи (руб.)(С НДС)</td>\n",
              "      <td>Количество(Базовых ед.)</td>\n",
              "      <td>unknown</td>\n",
              "      <td>unknown</td>\n",
              "    </tr>\n",
              "    <tr>\n",
              "      <th>2</th>\n",
              "      <td>Период: Февраль 2019 г. - Август 2019 г.</td>\n",
              "      <td>Группировки строк: ЗаказПокупателя.Дата оправк...</td>\n",
              "      <td>ЗаказПокупателя.ID заказа (Элементы)</td>\n",
              "      <td>Номенклатура.Наименование (Элементы)</td>\n",
              "      <td>unknown</td>\n",
              "    </tr>\n",
              "    <tr>\n",
              "      <th>3</th>\n",
              "      <td>Период: Февраль 2019 г. - Август 2019 г.</td>\n",
              "      <td>Отборы:\\nПодразделение В списке (estel.m-cosme...</td>\n",
              "      <td>unknown</td>\n",
              "      <td>unknown</td>\n",
              "      <td>unknown</td>\n",
              "    </tr>\n",
              "    <tr>\n",
              "      <th>4</th>\n",
              "      <td>Период: Февраль 2019 г. - Август 2019 г.</td>\n",
              "      <td>unknown</td>\n",
              "      <td>unknown</td>\n",
              "      <td>unknown</td>\n",
              "      <td>unknown</td>\n",
              "    </tr>\n",
              "    <tr>\n",
              "      <th>...</th>\n",
              "      <td>...</td>\n",
              "      <td>...</td>\n",
              "      <td>...</td>\n",
              "      <td>...</td>\n",
              "      <td>...</td>\n",
              "    </tr>\n",
              "    <tr>\n",
              "      <th>99627</th>\n",
              "      <td>02.09.2019 0:00:00</td>\n",
              "      <td>Kapous Блеск-шампунь Brilliants gloss 250 мл</td>\n",
              "      <td>347</td>\n",
              "      <td>1</td>\n",
              "      <td>unknown</td>\n",
              "    </tr>\n",
              "    <tr>\n",
              "      <th>99628</th>\n",
              "      <td>02.09.2019 0:00:00</td>\n",
              "      <td>Крем-бальзам-архитектор волос  для восстановле...</td>\n",
              "      <td>345</td>\n",
              "      <td>1</td>\n",
              "      <td>unknown</td>\n",
              "    </tr>\n",
              "    <tr>\n",
              "      <th>99629</th>\n",
              "      <td>02.09.2019 0:00:00</td>\n",
              "      <td>Услуга доставки DPD до двери</td>\n",
              "      <td>350</td>\n",
              "      <td>1</td>\n",
              "      <td>unknown</td>\n",
              "    </tr>\n",
              "    <tr>\n",
              "      <th>99630</th>\n",
              "      <td>02.09.2019 0:00:00</td>\n",
              "      <td>Шампунь разглаживающий с   глиоксиловой кислот...</td>\n",
              "      <td>304</td>\n",
              "      <td>1</td>\n",
              "      <td>unknown</td>\n",
              "    </tr>\n",
              "    <tr>\n",
              "      <th>99631</th>\n",
              "      <td>02.09.2019 0:00:00</td>\n",
              "      <td>Шампунь-архитектор волос для восстановления + ...</td>\n",
              "      <td>345</td>\n",
              "      <td>1</td>\n",
              "      <td>unknown</td>\n",
              "    </tr>\n",
              "  </tbody>\n",
              "</table>\n",
              "<p>99632 rows × 5 columns</p>\n",
              "</div>"
            ],
            "text/plain": [
              "                                           Дата  ... Unnamed: 4\n",
              "0      Период: Февраль 2019 г. - Август 2019 г.  ...    unknown\n",
              "1      Период: Февраль 2019 г. - Август 2019 г.  ...    unknown\n",
              "2      Период: Февраль 2019 г. - Август 2019 г.  ...    unknown\n",
              "3      Период: Февраль 2019 г. - Август 2019 г.  ...    unknown\n",
              "4      Период: Февраль 2019 г. - Август 2019 г.  ...    unknown\n",
              "...                                         ...  ...        ...\n",
              "99627                        02.09.2019 0:00:00  ...    unknown\n",
              "99628                        02.09.2019 0:00:00  ...    unknown\n",
              "99629                        02.09.2019 0:00:00  ...    unknown\n",
              "99630                        02.09.2019 0:00:00  ...    unknown\n",
              "99631                        02.09.2019 0:00:00  ...    unknown\n",
              "\n",
              "[99632 rows x 5 columns]"
            ]
          },
          "metadata": {
            "tags": []
          },
          "execution_count": 9
        }
      ]
    },
    {
      "cell_type": "code",
      "metadata": {
        "id": "Iiy0nl9e-cF8"
      },
      "source": [
        "new = new.drop(new[new['Дата'].str.contains('Период')].index,axis = 0)           # Выкинем превьюшные строки\n",
        "new = new.drop(new[new['Валовая прибыль'].str.contains('unknown')].index,axis=0) # Выкинем пустые строки между корзинами\n",
        "new = new.drop(new[new['Валовая прибыль']==new['Дата']].index)                   # Выкинем строки-даты, которые находятся в столбце корзин\n",
        "new.reset_index(inplace=True)                                                    # Обновим индекс\n",
        "new = new.drop('index',axis=1)                                                   # Выкинем ненужную, образовавшуюся после предыдущей операции колонку"
      ],
      "execution_count": null,
      "outputs": []
    },
    {
      "cell_type": "code",
      "metadata": {
        "id": "Jh60klFI-dLi"
      },
      "source": [
        "cart_list = list(new[new['Валовая прибыль'].str.contains(\"MCOSM\")].index)        # Здесь будут лежать все индексы строк, где строка содержит флаг начала корзины\n",
        "cafre_list = list(new[new['Валовая прибыль'].str.contains(\"CAFRE\")].index)       # Здесь будут лежать все индексы строк, где строка содержит флаг CAFRE "
      ],
      "execution_count": null,
      "outputs": []
    },
    {
      "cell_type": "markdown",
      "metadata": {
        "id": "16YBIyjH-f-r"
      },
      "source": [
        "Посмотрим на преобразованную базу"
      ]
    },
    {
      "cell_type": "code",
      "metadata": {
        "colab": {
          "base_uri": "https://localhost:8080/",
          "height": 639
        },
        "id": "zy1xxcFG-gMs",
        "outputId": "7de885f3-77e0-4967-814a-d5d9151751db"
      },
      "source": [
        "new.head(20)"
      ],
      "execution_count": null,
      "outputs": [
        {
          "output_type": "execute_result",
          "data": {
            "text/html": [
              "<div>\n",
              "<style scoped>\n",
              "    .dataframe tbody tr th:only-of-type {\n",
              "        vertical-align: middle;\n",
              "    }\n",
              "\n",
              "    .dataframe tbody tr th {\n",
              "        vertical-align: top;\n",
              "    }\n",
              "\n",
              "    .dataframe thead th {\n",
              "        text-align: right;\n",
              "    }\n",
              "</style>\n",
              "<table border=\"1\" class=\"dataframe\">\n",
              "  <thead>\n",
              "    <tr style=\"text-align: right;\">\n",
              "      <th></th>\n",
              "      <th>Дата</th>\n",
              "      <th>Валовая прибыль</th>\n",
              "      <th>Unnamed: 2</th>\n",
              "      <th>Unnamed: 3</th>\n",
              "      <th>Unnamed: 4</th>\n",
              "    </tr>\n",
              "  </thead>\n",
              "  <tbody>\n",
              "    <tr>\n",
              "      <th>0</th>\n",
              "      <td>01.01.2019 0:00:00</td>\n",
              "      <td>MCOSM13113</td>\n",
              "      <td>26236</td>\n",
              "      <td>9</td>\n",
              "      <td>unknown</td>\n",
              "    </tr>\n",
              "    <tr>\n",
              "      <th>1</th>\n",
              "      <td>01.01.2019 0:00:00</td>\n",
              "      <td>CONTURA (HS61) машинка для стрижки волос</td>\n",
              "      <td>9059</td>\n",
              "      <td>1</td>\n",
              "      <td>unknown</td>\n",
              "    </tr>\n",
              "    <tr>\n",
              "      <th>2</th>\n",
              "      <td>01.01.2019 0:00:00</td>\n",
              "      <td>Holika Holika Универсальный гель 99% алоэ вера...</td>\n",
              "      <td>539</td>\n",
              "      <td>1</td>\n",
              "      <td>unknown</td>\n",
              "    </tr>\n",
              "    <tr>\n",
              "      <th>3</th>\n",
              "      <td>01.01.2019 0:00:00</td>\n",
              "      <td>Kapous Бальзам-уход для придания объема Volume...</td>\n",
              "      <td>181</td>\n",
              "      <td>1</td>\n",
              "      <td>unknown</td>\n",
              "    </tr>\n",
              "    <tr>\n",
              "      <th>4</th>\n",
              "      <td>01.01.2019 0:00:00</td>\n",
              "      <td>Kapous Шампунь для придания объема Volume up 3...</td>\n",
              "      <td>181</td>\n",
              "      <td>1</td>\n",
              "      <td>unknown</td>\n",
              "    </tr>\n",
              "    <tr>\n",
              "      <th>5</th>\n",
              "      <td>01.01.2019 0:00:00</td>\n",
              "      <td>XPERT (HS71) машинка для стрижки волос</td>\n",
              "      <td>12989</td>\n",
              "      <td>1</td>\n",
              "      <td>unknown</td>\n",
              "    </tr>\n",
              "    <tr>\n",
              "      <th>6</th>\n",
              "      <td>01.01.2019 0:00:00</td>\n",
              "      <td>ЛП ТНА САВАЖ ПАНАШ 250 мл</td>\n",
              "      <td>988</td>\n",
              "      <td>1</td>\n",
              "      <td>unknown</td>\n",
              "    </tr>\n",
              "    <tr>\n",
              "      <th>7</th>\n",
              "      <td>01.01.2019 0:00:00</td>\n",
              "      <td>перчатки (50 пар) винил размер S черные</td>\n",
              "      <td>319</td>\n",
              "      <td>1</td>\n",
              "      <td>unknown</td>\n",
              "    </tr>\n",
              "    <tr>\n",
              "      <th>8</th>\n",
              "      <td>01.01.2019 0:00:00</td>\n",
              "      <td>Услуга доставки DPD до двери</td>\n",
              "      <td>990</td>\n",
              "      <td>1</td>\n",
              "      <td>unknown</td>\n",
              "    </tr>\n",
              "    <tr>\n",
              "      <th>9</th>\n",
              "      <td>01.01.2019 0:00:00</td>\n",
              "      <td>Услуга доставки СДЭК</td>\n",
              "      <td>990</td>\n",
              "      <td>1</td>\n",
              "      <td>unknown</td>\n",
              "    </tr>\n",
              "    <tr>\n",
              "      <th>10</th>\n",
              "      <td>01.01.2019 0:00:00</td>\n",
              "      <td>MCOSM13113</td>\n",
              "      <td>1929</td>\n",
              "      <td>4</td>\n",
              "      <td>unknown</td>\n",
              "    </tr>\n",
              "    <tr>\n",
              "      <th>11</th>\n",
              "      <td>01.01.2019 0:00:00</td>\n",
              "      <td>OLLIN SERVICE LINE Увлаж. Бальзам для волос 10...</td>\n",
              "      <td>483</td>\n",
              "      <td>1</td>\n",
              "      <td>unknown</td>\n",
              "    </tr>\n",
              "    <tr>\n",
              "      <th>12</th>\n",
              "      <td>01.01.2019 0:00:00</td>\n",
              "      <td>OLLIN SERVICE LINE Шампунь.-стабилизатор рН 3....</td>\n",
              "      <td>496</td>\n",
              "      <td>1</td>\n",
              "      <td>unknown</td>\n",
              "    </tr>\n",
              "    <tr>\n",
              "      <th>13</th>\n",
              "      <td>01.01.2019 0:00:00</td>\n",
              "      <td>Масло-уход для светлых волос  ESTEL PRIMA BLON...</td>\n",
              "      <td>650</td>\n",
              "      <td>1</td>\n",
              "      <td>unknown</td>\n",
              "    </tr>\n",
              "    <tr>\n",
              "      <th>14</th>\n",
              "      <td>01.01.2019 0:00:00</td>\n",
              "      <td>Услуга доставки Почта России</td>\n",
              "      <td>300</td>\n",
              "      <td>1</td>\n",
              "      <td>unknown</td>\n",
              "    </tr>\n",
              "    <tr>\n",
              "      <th>15</th>\n",
              "      <td>01.02.2019 0:00:00</td>\n",
              "      <td>/101 Крем-краска ESTEL PRINCESS ESSEX пепельный</td>\n",
              "      <td>165</td>\n",
              "      <td>1</td>\n",
              "      <td>unknown</td>\n",
              "    </tr>\n",
              "    <tr>\n",
              "      <th>16</th>\n",
              "      <td>01.02.2019 0:00:00</td>\n",
              "      <td>/44 Крем-краска ESTEL PRINCESS ESSEX медный</td>\n",
              "      <td>165</td>\n",
              "      <td>1</td>\n",
              "      <td>unknown</td>\n",
              "    </tr>\n",
              "    <tr>\n",
              "      <th>17</th>\n",
              "      <td>01.02.2019 0:00:00</td>\n",
              "      <td>0/00 Стойкая крем-краска чистый тон</td>\n",
              "      <td>262</td>\n",
              "      <td>1</td>\n",
              "      <td>unknown</td>\n",
              "    </tr>\n",
              "    <tr>\n",
              "      <th>18</th>\n",
              "      <td>01.02.2019 0:00:00</td>\n",
              "      <td>0/00N Крем-краска ESTEL PRINCESS ESSEX нейтрал...</td>\n",
              "      <td>165</td>\n",
              "      <td>1</td>\n",
              "      <td>unknown</td>\n",
              "    </tr>\n",
              "    <tr>\n",
              "      <th>19</th>\n",
              "      <td>01.02.2019 0:00:00</td>\n",
              "      <td>0/11 Крем-краска ESTEL PRINCESS ESSEX синий</td>\n",
              "      <td>165</td>\n",
              "      <td>1</td>\n",
              "      <td>unknown</td>\n",
              "    </tr>\n",
              "  </tbody>\n",
              "</table>\n",
              "</div>"
            ],
            "text/plain": [
              "                  Дата  ... Unnamed: 4\n",
              "0   01.01.2019 0:00:00  ...    unknown\n",
              "1   01.01.2019 0:00:00  ...    unknown\n",
              "2   01.01.2019 0:00:00  ...    unknown\n",
              "3   01.01.2019 0:00:00  ...    unknown\n",
              "4   01.01.2019 0:00:00  ...    unknown\n",
              "5   01.01.2019 0:00:00  ...    unknown\n",
              "6   01.01.2019 0:00:00  ...    unknown\n",
              "7   01.01.2019 0:00:00  ...    unknown\n",
              "8   01.01.2019 0:00:00  ...    unknown\n",
              "9   01.01.2019 0:00:00  ...    unknown\n",
              "10  01.01.2019 0:00:00  ...    unknown\n",
              "11  01.01.2019 0:00:00  ...    unknown\n",
              "12  01.01.2019 0:00:00  ...    unknown\n",
              "13  01.01.2019 0:00:00  ...    unknown\n",
              "14  01.01.2019 0:00:00  ...    unknown\n",
              "15  01.02.2019 0:00:00  ...    unknown\n",
              "16  01.02.2019 0:00:00  ...    unknown\n",
              "17  01.02.2019 0:00:00  ...    unknown\n",
              "18  01.02.2019 0:00:00  ...    unknown\n",
              "19  01.02.2019 0:00:00  ...    unknown\n",
              "\n",
              "[20 rows x 5 columns]"
            ]
          },
          "metadata": {
            "tags": []
          },
          "execution_count": 12
        }
      ]
    },
    {
      "cell_type": "code",
      "metadata": {
        "id": "rs_ka86a-hki"
      },
      "source": [
        "carts = []                     # Здесь будут лежать все корзины \n",
        "cart=[]                        # В этом списке будет текущая корзина\n",
        "i=0                            # Счетчик для прохождения по базе\n",
        "val = new['Валовая прибыль']   # Будем работать с этим столбцом\n",
        "allPositions = []              # Создаем пустой список позиций\n",
        "\n",
        "while i!=len(new):             # Пока не дойдем до конца списка\n",
        "\n",
        "  if i in cart_list:           # Если счетчик в списке индексов-корзин\n",
        "\n",
        "    if i!=cart_list[-1]:       # Проверяем, если это не последний индекс-флаг\n",
        "      ind = cart_list.index(i) # Текущему индексу-флагу присваиваем значение конкретно этой корзины\n",
        "\n",
        "      # Пробегаемся дальше по счетчику до момента, когда он не будет равен следующему в списке индексу-флагу\n",
        "      # Если условия соблюдаются, то закидываем следующую строку в текущую корзину\n",
        "      # Инкремент счетчика\n",
        "      while i<cart_list[ind+1]-1:\n",
        "        cart.append(val[i+1])\n",
        "        allPositions.append(val[i+1]) \n",
        "        i+=1 \n",
        "      \n",
        "    else:                      # Если же текущий индекс-флаг последний в списке\n",
        "\n",
        "      # Пробегаемся дальше по счетчику до момента, когда он не будет равен концу списка всех строк в столбце-1\n",
        "      # Если условия соблюдаются, то закидываем следующую строку в текущую корзину\n",
        "      # Инкремент счетчика\n",
        "      while i<(len(new)-1):\n",
        "        cart.append(val[i+1])\n",
        "        allPositions.append(val[i+1]) \n",
        "        i+=1\n",
        "\n",
        "    carts.append(cart)         # Закидываем корзину в список всех корзин\n",
        "    cart=[]                    # Очищаем корзину\n",
        "    \n",
        "  else:\n",
        "    i+=1                       # Если счетчик не в списке корзин, то инкрементируем\n",
        " \n"
      ],
      "execution_count": null,
      "outputs": []
    },
    {
      "cell_type": "code",
      "metadata": {
        "colab": {
          "base_uri": "https://localhost:8080/"
        },
        "id": "Ot83sXukfN1J",
        "outputId": "eda6dfe2-7aac-4483-b839-c33711d66aa2"
      },
      "source": [
        "len(carts)"
      ],
      "execution_count": null,
      "outputs": [
        {
          "output_type": "execute_result",
          "data": {
            "text/plain": [
              "13567"
            ]
          },
          "metadata": {
            "tags": []
          },
          "execution_count": 14
        }
      ]
    },
    {
      "cell_type": "code",
      "metadata": {
        "colab": {
          "base_uri": "https://localhost:8080/"
        },
        "id": "zX7N1KaqRu8j",
        "outputId": "b9f64c50-fac6-4276-ef68-708f22a8b4d9"
      },
      "source": [
        "items = 0\n",
        "for cart in carts:\n",
        "    for item in cart:\n",
        "        items += 1\n",
        "print(items)"
      ],
      "execution_count": null,
      "outputs": [
        {
          "output_type": "stream",
          "text": [
            "85617\n"
          ],
          "name": "stdout"
        }
      ]
    },
    {
      "cell_type": "code",
      "metadata": {
        "colab": {
          "base_uri": "https://localhost:8080/"
        },
        "id": "PWAExB2y-i3S",
        "outputId": "82a2aa23-a589-446f-d66e-3968c2d65e6a"
      },
      "source": [
        "print(len(carts)==len(cart_list))   # Проверка, если у нас количество корзин совпадает с количеством флагов корзин\n",
        "print('Количество всех позиций: ', len(allPositions)) \n",
        "print('Пример того, что лежит в корзине: ', carts[0])"
      ],
      "execution_count": null,
      "outputs": [
        {
          "output_type": "stream",
          "text": [
            "True\n",
            "Количество всех позиций:  85617\n",
            "Пример того, что лежит в корзине:  ['CONTURA (HS61) машинка для стрижки волос', 'Holika Holika Универсальный гель 99% алоэ вера, 250 мл', 'Kapous Бальзам-уход для придания объема Volume up 350 мл', 'Kapous Шампунь для придания объема Volume up 350 мл', 'XPERT (HS71) машинка для стрижки волос', 'ЛП ТНА САВАЖ ПАНАШ 250 мл', 'перчатки (50 пар) винил размер S черные', 'Услуга доставки DPD до двери', 'Услуга доставки СДЭК']\n"
          ],
          "name": "stdout"
        }
      ]
    },
    {
      "cell_type": "code",
      "metadata": {
        "colab": {
          "base_uri": "https://localhost:8080/"
        },
        "id": "yIYCdaLn9bMB",
        "outputId": "c648e92f-68f4-4610-b74c-09af2e2291dc"
      },
      "source": [
        "for i in range(10):\n",
        "    print(carts[i])"
      ],
      "execution_count": null,
      "outputs": [
        {
          "output_type": "stream",
          "text": [
            "['CONTURA (HS61) машинка для стрижки волос', 'Holika Holika Универсальный гель 99% алоэ вера, 250 мл', 'Kapous Бальзам-уход для придания объема Volume up 350 мл', 'Kapous Шампунь для придания объема Volume up 350 мл', 'XPERT (HS71) машинка для стрижки волос', 'ЛП ТНА САВАЖ ПАНАШ 250 мл', 'перчатки (50 пар) винил размер S черные', 'Услуга доставки DPD до двери', 'Услуга доставки СДЭК']\n",
            "['OLLIN SERVICE LINE Увлаж. Бальзам для волос 1000 мл', 'OLLIN SERVICE LINE Шампунь.-стабилизатор рН 3.5 1000 мл', 'Масло-уход для светлых волос  ESTEL PRIMA BLONDE 100 мл.', 'Услуга доставки Почта России', '/101 Крем-краска ESTEL PRINCESS ESSEX пепельный', '/44 Крем-краска ESTEL PRINCESS ESSEX медный', '0/00 Стойкая крем-краска чистый тон', '0/00N Крем-краска ESTEL PRINCESS ESSEX нейтральный', '0/11 Крем-краска ESTEL PRINCESS ESSEX синий', '0/22 Крем-краска ESTEL PRINCESS ESSEX зеленый', '0/33 Крем-краска ESTEL PRINCESS ESSEX желтый', '0/33 Стойкая крем-краска интенсивный золотистисты', '0/55 Крем-краска ESTEL PRINCESS ESSEX красный', '0/66 Крем-краска ESTEL PRINCESS ESSEX фиолетовый', '1/0 Крем-краска ESTEL PRINCESS ESSEX черный классический', '1/11 Крем-краска ESTEL PRINCESS ESSEX сине-черный', '10/0 Крем-краска ESTEL PRINCESS ESSEX светлый блондин', '10/16 светлый блондин пепельно-фиолетовый DLSe', '12/0 Стойкая крем-краска специальный блонд', '12/61 Стойкая крем-краска специальный блонд фиолет', '12/81 Стойкая крем-краска специальный блонд жемч', '12/89 Стойкая крем-краска специальный блонд жемчуж', '3/0 Крем-краска ESTEL PRINCESS ESSEX темный шатен', '4/0 Крем-краска ESTEL PRINCESS ESSEX шатен', '4/0 Стойкая крем-краска шатен', '4/7 Крем-краска ESTEL PRINCESS ESSEX мокко', '5/0 Крем-краска ESTEL PRINCESS ESSEX светлый шатен', '5/0 Стойкая крем-краска светлый шатен', '5/70 Светлый шатен коричневый для седины DL', '6/0 Крем-краска ESTEL PRINCESS ESSEX темно-русый', '6/0 Стойкая крем-краска темный блонд', '6/00 Крем-краска ESTEL PRINCESS ESSEX темно-русый для седины', '6/54 Крем-краска ESTEL PRINCESS ESSEX темно-русый красно-медный', '6/7 Стойкая крем-краска темный блонд коричневый', '6/7 темный блонд коричневый', '6/7 ЭскимоKoleston Perfect ME+', '7/0 Крем-краска ESTEL PRINCESS ESSEX средне-русый', '7/0 Стойкая крем-краска блонд', '7/00 Крем-краска ESTEL PRINCESS ESSEX средне-русый для седины', '8/0 Крем-краска ESTEL PRINCESS ESSEX светло-русый', '8/0 Стойкая крем-краска светлый блонд', '9.0 HY насыщнный очень светлый блонд 100 мл', '9/0 Крем-краска ESTEL PRINCESS ESSEX блондин', '9/0 Стойкая крем-краска очень светлый блонд', '9/1 блондин пепельный DLSe', '9/1 Стойкая крем-краска очень светлый блонд пепель', '9/16 блондин пепельно-фиолетовый DLSe', '9/65 Стойкая крем-краска розовое дерево', 'ALL IN ONE Маска-спрей 15 в 1 для всех типов волос 150 мл', 'CRISTALINAS Mikado Арома-диффузор для жилых помещений с ароматом цветущего апельсина и мандарина90мл', 'CRISTALINAS Natural Spray Спрей-Поглотитель запаха с ароматом ванили 280 мл', 'DGP Жидкое лезвие локальное для удаления натоптышей 70 мл', 'Fiber Infusion восстанавливающее средство 750 мл.', 'Kapous Кремообразная проявляющая эмульсия CremOXON 9% Hyaluronic  1 л', 'Kapous Лак аэрозольный для волос сильной фиксации 750 мл', 'Kapous Мусс для укладки волос сильной фиксации Kapous STUDIO 300 мл', 'Kapous Шампунь увлажняющий для волос с маслами авокадо и оливы линии Studio Professional 1 л', 'OLLIN CARE Шампунь для восстан. структуры в.1000 мл', 'OLLIN SERVICE LINE Увлаж. Бальзам для волос 5000 мл', 'OLLIN SERVICE LINE Шампунь для ежедн. примен.pH5.5 5000 мл', 'Бальзам DE LUXE стабилизатор цвета 1000 мл.', 'Бальзам для ежедневного применения 1000 мл. Curex Classic', 'Бальзам для интенсивного увлажнения волос OTIUM AQUA 1000 мл.', 'Бальзам для ламинированных волос 200 мл.', 'Восстанавливающий эликсир LuxeOil 100 мл.', 'Гель для волос сильной фиксации Airex 200 мл. Estel', 'Интенсивная маска для поврежденных волос 500 мл.', 'Карандаш для глаз ART SOFFIO P-815 Черный', 'Кондиционер для окрашенных волос 1000 мл. Color Save Conditioner SP', 'Лак для волос сильной фиксации FIX IT 500 мл. Londa Новый', 'Лак для волос экстрасильной фиксации 500 мл. SUPER SET Wella', 'Лак для волос экстрасильной фиксации LOCK IT 500 мл. Londa', 'Лосьон для удаления краски с кожи 200мл', 'Маска для окрашенных волос 500 мл.', 'Окислительная эмульсия  3% Londa 1000 мл.', 'Окислительная эмульсия  4% Londa 1000 мл.', 'Окислительная эмульсия  6% Londa 1000 мл.', 'Оксигент 6% 60 мл DE LUXE', 'Оксигент 9% 900 мл DE LUXE', 'Оксигент для волос 3% ESTEL PRINCESS ESSEX 1000 мл.', 'Оксигент для волос 6% ESTEL PRINCESS ESSEX 1000 мл.', 'Оксигент для волос 9% ESTEL PRINCESS ESSEX 1000 мл.', 'Пена для укладки легкой фиксации 300 мл. NATURAL VOLUME Wella', 'полотенце 35 см.х70 см. 100 шт. в рулоне', 'Профессиональное средство Velvet Oil с аргановым маслом 750 мл. Londa', 'Пудра  для обесцвечивания, 750 гр. De Luxe', 'Пудра для создания объема волос ALPHA HOMME 8 гр.', 'Регенерирующая маска ReVerse 400 мл.', 'Спрей для термозащиты Special Effects Heat Protector Spray 110 мл', 'Спрей-мусс для прикорневого объема 200 мл. ROOT SHOOT Wella', 'Универсальная пумпа для шампуня 1000 мл.', 'Услуга доставки DPD до двери', 'Услуга доставки Почта России', 'Услуга доставки СДЭК', 'Хромоэнергетический комплекс', 'чаша для краски DEWAL черная с ручкой и носиком с резинкой на дне 260 мл.', 'Шампунь DE LUXE стабилизатор цвета 1000 мл.', 'Шампунь для ежедневного применения 1000 мл. Curex Classic', 'Шампунь для интенсивного увлажнения волос OTIUM AQUA 1000 мл.', 'Шампунь для ламинированных волос 250 мл.', 'Шампунь для окрашенных волос Color Radiance 1000 мл. Londa', 'Шампунь для поврежденных волос Visible Repair 1000 мл. Londa', 'Шампунь с маслом Арганы для питания сухих, окрашенных волос EGOMANIA, 250мл', 'Эмульсия для удаления краски с волос', 'CAFRE3100', '6.0 HY темный блондин 100 мл', '923 ультра-светлый перламутровый блонд серии Studio 100 мл', 'Kapous  Кремообразная окислительная эмульсия с женьшенем и рисовыми протеинами ActiOx 6% 150 мл', 'Kapous Бальзам для окрашенных волос Color Care 350 мл', 'Kapous Бальзам для частого использования Daily 350 мл', 'Kapous Бальзам-уход для придания объема Volume up 350 мл', 'Kapous Блеск-флюид для волос Diamond Dews 300 мл', 'Kapous Кератин бальзам серии Magic Keratin 250 мл', 'Kapous Кератин шампунь серии Magic Keratin Professional 300 мл', 'Kapous Оксид с экстрактом женьшеня и рисовыми протеинами 6 % ActiOx линии Studio Professional 1 л', 'Kapous Оксид с экстрактом женьшеня и рисовыми протеинами 9 % ActiOx линии Studio Professional 1 л', 'Kapous Осветляющий порошок с кератином в микрогранулах без аммиака 500 гр', 'Kapous Увлажняющий шампунь с маслом арганы серии Arganoil 300 мл', 'Kapous Флюид для поврежденных кончиков волос серии Treatment 60 мл', 'Kapous Шампунь глубокой очистки для всех типов волос 1 л', 'Kapous Шампунь для восстановления волос Profound Re 350 мл', 'Kapous Шампунь для придания объема Volume up 350 мл', 'Kapous Шампунь для частого использования Daily 350 мл', 'Крем-краска для волос Studio «Kapous», оттенок 1.0 Чёрный, 100 мл', 'Крем-краска для волос Studio «Kapous», оттенок 3.0 Тёмно-коричневый, 100 мл', 'Крем-краска для волос Studio «Kapous», оттенок 4.12 коричневый пепельно-перламутровый 100 мл', 'Крем-краска для волос Studio «Kapous», оттенок 5.0 Светло-коричневый, 100 мл', 'Крем-краска для волос Studio «Kapous», оттенок 5.8 Шоколад, 100 мл', 'Крем-краска для волос Studio «Kapous», оттенок 6.1 темный пепельный блонд 100 мл', 'Крем-краска для волос Studio «Kapous», оттенок 7.07 насыщенный холодный блонд 100 мл', 'Крем-краска для волос Studio «Kapous», оттенок 7.1 пепельный блонд 100 мл', 'Крем-краска для волос Studio «Kapous», оттенок 8.1 светлый пепельный блонд 100 мл', 'Крем-краска для волос Studio «Kapous», оттенок 8.12 светлый пепельно-перламутровый блонд 100 мл', 'Крем-краска для волос Studio «Kapous», оттенок 8.44 интенсивный светлый медный блонд 100 мл', 'Крем-краска для волос Studio «Kapous», оттенок 9.1 очень светлый пепельный блонд 100 мл', 'Крем-краска для волос Studio «Kapous», оттенок 9.12 очень светлый пепельно-перламутровый блонд', 'Крем-краска для волос Studio «Kapous», оттенок 9.21 очень светлый фиолетово-пепельный блонд 100 мл', 'Крем-краска для волос Studio «Kapous», оттенок 9.23 очень светлый бежевый перламутровый блонд 100 мл', 'Крем-краска для волос Studio Kapous, оттенок 8.23 светлый бежевый-перламутровый  блонд 100 мл', 'салфетка-воротничок 7 см. х 40 см. пластом 100 шт.']\n",
            "['Услуга доставки СДЭК']\n",
            "['Восстанавливающий эликсир LuxeOil 100 мл.', 'Маска для восстановления кератина LuxeOil 400 мл.', 'Шампунь для защиты кератина LuxeOil 1000 мл.']\n",
            "['Лосьон для укладки 150 мл. PERFECT SETTING Wella', 'Увлажняющий кондиционер 1000 мл. Hydrate Conditioner SP', 'Увлажняющий шампунь 1000 мл. Hydrate Shampoo SP', 'Услуга доставки DPD до двери', 'Шампунь для окрашенных волос 1000 мл. Color Save Shampoo SP']\n",
            "['10/65 светлый блондин фиолетово-красный DLSe', '10/76 светлый блондин коричнево-фиолетовый DLSe', 'Бальзам DE LUXE для выравнивания структуры 1000 мл.', 'Бальзам DE LUXE стабилизатор цвета 1000 мл.', 'Восстанавливающий эликсир LuxeOil 100 мл.', 'Разглаживающее масло для интенсивного блеска 100 мл. Wella', 'Шампунь DE LUXE интенсивное очищение 1000 мл.', 'Шампунь DE LUXE стабилизатор цвета 1000 мл.']\n",
            "['Бальзам для интенсивного увлажнения волос OTIUM AQUA 1000 мл.', 'Восстанавливающий эликсир LuxeOil 100 мл.', 'Оттеночный бальзам-уход для холодных светлых оттенков 200 мл.', 'Услуга доставки Почта России', 'Шампунь для интенсивного увлажнения волос OTIUM AQUA 1000 мл.']\n",
            "['12/81 Белое золото Koleston Perfect ME+', 'Bourjois Accessories Ж Товар Кисточка для пудры pinceau poudre', 'ЛП ТНА ВОЛЮМ АРХИТЕКТОР 150 мл']\n",
            "['Крем-краска для волос Studio «Kapous», оттенок 5.07 насыщенный холодный светло-коричневый 100 мл', 'Крем-краска для волос Studio «Kapous», оттенок 7.8 карамель 100 мл', 'Услуга доставки СДЭК', 'щипцы-гофре DEWAL Pro-ZWide титаново-турмалиновое покрытие 50х90 мм. 55 Вт.']\n",
            "['Kapou Шампунь с биотином для укрепления и стимуляции роста волос серии Biotin Energy 250 мл', 'Kapous Маска с биотином для укрепления и стимуляции роста волос серии Biotin Energy 250 мл', 'Matrix Socolor Beauty 9M  - Стойкая краска Очень светлый блондин мокка', 'Спрей для придания объема волосам - Lisap Fashion Volumizer 200 мл', 'Услуга доставки СДЭК']\n"
          ],
          "name": "stdout"
        }
      ]
    },
    {
      "cell_type": "code",
      "metadata": {
        "colab": {
          "base_uri": "https://localhost:8080/",
          "height": 265
        },
        "id": "jNVupEc8-kCE",
        "outputId": "f8b5762b-4f29-4f3e-ae76-5b3d190c2841"
      },
      "source": [
        "# Отобразим гистограмму размеров корзин\n",
        "plt.hist([len(c) for c in carts], 20, [1, 21])\n",
        "plt.show()"
      ],
      "execution_count": null,
      "outputs": [
        {
          "output_type": "display_data",
          "data": {
            "image/png": "[encoded data removed]",
            "text/plain": [
              "<Figure size 432x288 with 1 Axes>"
            ]
          },
          "metadata": {
            "tags": [],
            "needs_background": "light"
          }
        }
      ]
    },
    {
      "cell_type": "code",
      "metadata": {
        "colab": {
          "base_uri": "https://localhost:8080/"
        },
        "id": "jTkyhpG0S3E2",
        "outputId": "c169b03e-5333-4558-f65b-5b17adc2588e"
      },
      "source": [
        "allPositions[:10]"
      ],
      "execution_count": null,
      "outputs": [
        {
          "output_type": "execute_result",
          "data": {
            "text/plain": [
              "['CONTURA (HS61) машинка для стрижки волос',\n",
              " 'Holika Holika Универсальный гель 99% алоэ вера, 250 мл',\n",
              " 'Kapous Бальзам-уход для придания объема Volume up 350 мл',\n",
              " 'Kapous Шампунь для придания объема Volume up 350 мл',\n",
              " 'XPERT (HS71) машинка для стрижки волос',\n",
              " 'ЛП ТНА САВАЖ ПАНАШ 250 мл',\n",
              " 'перчатки (50 пар) винил размер S черные',\n",
              " 'Услуга доставки DPD до двери',\n",
              " 'Услуга доставки СДЭК',\n",
              " 'OLLIN SERVICE LINE Увлаж. Бальзам для волос 1000 мл']"
            ]
          },
          "metadata": {
            "tags": []
          },
          "execution_count": 19
        }
      ]
    },
    {
      "cell_type": "code",
      "metadata": {
        "colab": {
          "base_uri": "https://localhost:8080/"
        },
        "id": "jIUm_y8toOe0",
        "outputId": "edaeb86e-f90e-4b07-a912-72a48e5ddd02"
      },
      "source": [
        "len(allPositions)"
      ],
      "execution_count": null,
      "outputs": [
        {
          "output_type": "execute_result",
          "data": {
            "text/plain": [
              "85617"
            ]
          },
          "metadata": {
            "tags": []
          },
          "execution_count": 20
        }
      ]
    },
    {
      "cell_type": "code",
      "metadata": {
        "colab": {
          "base_uri": "https://localhost:8080/"
        },
        "id": "-0DQR3_p-lCS",
        "outputId": "5bc98541-78df-4ea0-d3d4-da2f8c2dca12"
      },
      "source": [
        "labelEncoder = LabelEncoder()  # Создаем объект LabelEncoder \n",
        "labelEncoder.fit(allPositions) # Обрабатываем все имеющиеся позиции товаров"
      ],
      "execution_count": null,
      "outputs": [
        {
          "output_type": "execute_result",
          "data": {
            "text/plain": [
              "LabelEncoder()"
            ]
          },
          "metadata": {
            "tags": []
          },
          "execution_count": 21
        }
      ]
    },
    {
      "cell_type": "code",
      "metadata": {
        "colab": {
          "base_uri": "https://localhost:8080/"
        },
        "id": "uVZDe7JG-mFx",
        "outputId": "adb5d008-93d4-405f-fd32-2dd194943ee7"
      },
      "source": [
        "maxPositionsCount = max(labelEncoder.transform(allPositions))+1 # Посчитаем количество уникальных товаров\n",
        "print(maxPositionsCount)                                        # Отобразим это количество"
      ],
      "execution_count": null,
      "outputs": [
        {
          "output_type": "stream",
          "text": [
            "6663\n"
          ],
          "name": "stdout"
        }
      ]
    },
    {
      "cell_type": "code",
      "metadata": {
        "id": "g8tFeNm2-nXp"
      },
      "source": [
        "cartsIndexes = [labelEncoder.transform(c) for c in carts] # Создаем список индексов для каждой корзины"
      ],
      "execution_count": null,
      "outputs": []
    },
    {
      "cell_type": "code",
      "metadata": {
        "colab": {
          "base_uri": "https://localhost:8080/"
        },
        "id": "pezeeOYk-oS8",
        "outputId": "7f864318-4784-4745-e6ea-cb88eab1eda4"
      },
      "source": [
        "n = 0                  # Укажем номер корзины\n",
        "print(carts[n])        # Отобразим содержимое этой корзины\n",
        "print(cartsIndexes[n]) # Отобразим соответствующие индексы"
      ],
      "execution_count": null,
      "outputs": [
        {
          "output_type": "stream",
          "text": [
            "['CONTURA (HS61) машинка для стрижки волос', 'Holika Holika Универсальный гель 99% алоэ вера, 250 мл', 'Kapous Бальзам-уход для придания объема Volume up 350 мл', 'Kapous Шампунь для придания объема Volume up 350 мл', 'XPERT (HS71) машинка для стрижки волос', 'ЛП ТНА САВАЖ ПАНАШ 250 мл', 'перчатки (50 пар) винил размер S черные', 'Услуга доставки DPD до двери', 'Услуга доставки СДЭК']\n",
            "[1503 1732 1804 1987 2962 4226 6274 5656 5660]\n"
          ],
          "name": "stdout"
        }
      ]
    },
    {
      "cell_type": "code",
      "metadata": {
        "id": "yd5NvhXO-pVJ"
      },
      "source": [
        "'''\n",
        "  Функция преобразования вектора по приницпу bag of words\n",
        "    Входные параметры:\n",
        "      - trainVector - исходный вектор индексов слов\n",
        "      - wordsCount - установленная длинна вектора\n",
        "    Функция возращает: \n",
        "      - сформированный вектор из 0 и 1\n",
        "'''\n",
        "def changeXTo01(trainVector, wordsCount):\n",
        "  out = np.zeros(wordsCount)                   # Создаем вектор из нулей длинной wordsCount\n",
        "  for x in trainVector:                        # Пробегаем по всем индексам в trainVector\n",
        "    out[x] = 1                                 # Изменяем на 1 значение out в позиции текущего индекса \n",
        "  return out                                   # Возвращаем сформированный вектор\n",
        "\n",
        "\n",
        "'''\n",
        "  Функция преобразования выборки (обучающей или проверочной) по принципе Bag of words\n",
        "    Входные параметры:\n",
        "      - trainSet - выборка\n",
        "      - wordsCount - установленная длинна вектора\n",
        "    Функция возращает: \n",
        "      - сформированная выборка из 0 и 1\n",
        "'''\n",
        "def changeSetTo01(trainSet, wordsCount):\n",
        "  out = []                                     # Создаем пустой список  \n",
        "  for x in trainSet:                           # Пробегаем по всем элемента выборки\n",
        "    out.append(changeXTo01(x, wordsCount))     # Получаем вектор Bag of words для текущего элемента    \n",
        "  return np.array(out)                         # Возрващаем сформированную выборку"
      ],
      "execution_count": null,
      "outputs": []
    },
    {
      "cell_type": "code",
      "metadata": {
        "id": "ZiHUGQMz-qYf"
      },
      "source": [
        "carts01 = changeSetTo01(cartsIndexes, maxPositionsCount) # Создаем выборку по принципу bag of words"
      ],
      "execution_count": null,
      "outputs": []
    },
    {
      "cell_type": "code",
      "metadata": {
        "colab": {
          "base_uri": "https://localhost:8080/"
        },
        "id": "USm64aFZ-rpd",
        "outputId": "cd8ecdd5-d200-4283-b113-5fbb6e4411ac"
      },
      "source": [
        "n = 5                  # Указываем номер корзины\n",
        "print(carts[n])        # Выводим содержимое корзины\n",
        "print(cartsIndexes[n]) # Выводим список соответствующих индексов\n",
        "print(carts01[n])      # Выводим соответсвующий список bag of words"
      ],
      "execution_count": null,
      "outputs": [
        {
          "output_type": "stream",
          "text": [
            "['10/65 светлый блондин фиолетово-красный DLSe', '10/76 светлый блондин коричнево-фиолетовый DLSe', 'Бальзам DE LUXE для выравнивания структуры 1000 мл.', 'Бальзам DE LUXE стабилизатор цвета 1000 мл.', 'Восстанавливающий эликсир LuxeOil 100 мл.', 'Разглаживающее масло для интенсивного блеска 100 мл. Wella', 'Шампунь DE LUXE интенсивное очищение 1000 мл.', 'Шампунь DE LUXE стабилизатор цвета 1000 мл.']\n",
            "[ 211  239 3092 3093 3323 5181 5742 5743]\n",
            "[0. 0. 0. ... 0. 0. 0.]\n"
          ],
          "name": "stdout"
        }
      ]
    },
    {
      "cell_type": "code",
      "metadata": {
        "colab": {
          "base_uri": "https://localhost:8080/"
        },
        "id": "OEsx9Xal-vHM",
        "outputId": "6d10401c-b3a2-4f7e-9306-7b046b5dee23"
      },
      "source": [
        "%%time\n",
        "cur_time = time.time()\n",
        "clustersCount = 8                                  # Указываем количество кластеров\n",
        "kmean = KMeans(clustersCount)                        # Создаем объект KMeans\n",
        "kmean.fit(carts01)                                   # Производим кластеризацию набора carts01\n",
        "labels = kmean.labels_                               # Сохраняем метки в переменную labels\n",
        "\n",
        "npCarts = np.array(carts)                            # Преобразуем список корзин в numpy\n",
        "print('Время обработки: ', round(time.time() - cur_time,2),'c')"
      ],
      "execution_count": null,
      "outputs": [
        {
          "output_type": "stream",
          "text": [
            "Время обработки:  66.38 c\n",
            "CPU times: user 1min 17s, sys: 5.45 s, total: 1min 22s\n",
            "Wall time: 1min 6s\n"
          ],
          "name": "stdout"
        }
      ]
    },
    {
      "cell_type": "code",
      "metadata": {
        "colab": {
          "base_uri": "https://localhost:8080/"
        },
        "id": "StdpT3X4-wJr",
        "outputId": "db719259-0424-4666-a065-7e6e224fd6d3"
      },
      "source": [
        "print(labels)                                                   # Отображаем метки кластеров\n",
        "clusterSize = [sum(labels==i) for i in range(0, clustersCount)] # Создадим список размеров каждого кластера\n",
        "\n",
        "# Выведем номер кластера и его размер\n",
        "for i, s in enumerate(clusterSize):\n",
        "  print(i, s)"
      ],
      "execution_count": null,
      "outputs": [
        {
          "output_type": "stream",
          "text": [
            "[4 0 4 ... 1 1 1]\n",
            "0 123\n",
            "1 5527\n",
            "2 3320\n",
            "3 130\n",
            "4 3814\n",
            "5 75\n",
            "6 226\n",
            "7 352\n"
          ],
          "name": "stdout"
        }
      ]
    },
    {
      "cell_type": "code",
      "metadata": {
        "id": "0QFAYZzM-xKy"
      },
      "source": [
        "def getCluster(x):\n",
        "  clasterSize = x.shape[0]                           # Берем размер кластера\n",
        "  sumX = np.sum(x, axis=0)                           # Считаем сумму кластера по позициям\n",
        "  sumX /= clasterSize                                # Смотрим насколько часто конкретная позиция появляется в данном кластере\n",
        "  \n",
        "  positions = []                                     # Создаем пустой список позиций\n",
        "  positionValues = []                                # Создаем пустой список значений\n",
        "  \n",
        "  for i in range(sumX.shape[0]):                     # Пробегаем по всем имеющимся примерам товаров\n",
        "    if (sumX[i] > 0):                                # Если товар присутствует в данном кластере\n",
        "      position = labelEncoder.inverse_transform([i]) # Получаем обратный энкодер\n",
        "      positions.append(position)                     # Добавляем позицию в список позиций \n",
        "      positionValues.append(sumX[i])                 # В списк значений добавляем количество данной позиции в текущем кластере\n",
        "  \n",
        "  return positions, positionValues                   # Возвращаем список позиций кластера и количество каждой позиции"
      ],
      "execution_count": null,
      "outputs": []
    },
    {
      "cell_type": "code",
      "metadata": {
        "colab": {
          "base_uri": "https://localhost:8080/"
        },
        "id": "jevrLJYH-yay",
        "outputId": "a002cc67-4863-4096-9a0c-6b12840e0100"
      },
      "source": [
        "for clusterNumber in range(len(clusterSize)):                # Пробегаем по всем кластерам\n",
        "  if (clusterSize[clusterNumber] > 5):                       # Если размер кластера больше 5\n",
        "    pos, posVal = getCluster(carts01[labels==clusterNumber]) # Получаем позиции и их количество в текущем кластере\n",
        "    print(\"Покупок:\", clusterSize[clusterNumber])            # Выводим размер текущего кластера\n",
        "    print(\"Позиций:\", len(pos))                              # Выводим общее число позиций в текущем кластере\n",
        "    pos = np.array(pos)                                      # Преобразуем в numpy\n",
        "    posVal = np.array(posVal)                                # Преобразуем в numpy\n",
        "    indexes = posVal > 0.6                                   # Берем индексы тех позиций, доля которых составляет больше 20%\n",
        "    indexedPos = pos[indexes]                                # Выбираем эти позиции из pos\n",
        "    indexedPosVal = posVal[indexes]                          # Выбираем доли этих позиций\n",
        "\n",
        "    # Отображаем долю позиции и название самой позиции\n",
        "    for i in range(len(indexedPos)):\n",
        "      print(round(100*indexedPosVal[i]), \"% \", indexedPos[i], sep=\"\")\n",
        "\n",
        "    print()\n",
        "    print()"
      ],
      "execution_count": null,
      "outputs": [
        {
          "output_type": "stream",
          "text": [
            "Покупок: 123\n",
            "Позиций: 3043\n",
            "73.0% ['Услуга доставки Почта России']\n",
            "70.0% ['Услуга доставки СДЭК']\n",
            "\n",
            "\n",
            "Покупок: 5527\n",
            "Позиций: 5126\n",
            "\n",
            "\n",
            "Покупок: 3320\n",
            "Позиций: 3702\n",
            "100.0% ['Услуга доставки Почта России']\n",
            "\n",
            "\n",
            "Покупок: 130\n",
            "Позиций: 849\n",
            "96.0% ['Деликатный шампунь для окрашенных волос OTIUM COLOR LIFE 1000 мл.']\n",
            "\n",
            "\n",
            "Покупок: 3814\n",
            "Позиций: 3346\n",
            "100.0% ['Услуга доставки СДЭК']\n",
            "\n",
            "\n",
            "Покупок: 75\n",
            "Позиций: 1644\n",
            "76.0% ['Флюид-коктейль ЖИДКИЙ ШЕЛК- 7 масел чемпионов 50 ml']\n",
            "\n",
            "\n",
            "Покупок: 226\n",
            "Позиций: 829\n",
            "100.0% ['Скраб антицеллюлитный (выравнивающий) Likato 250мл']\n",
            "\n",
            "\n",
            "Покупок: 352\n",
            "Позиций: 1048\n",
            "68.0% ['Бальзам для интенсивного увлажнения волос OTIUM AQUA 1000 мл.']\n",
            "96.0% ['Шампунь для интенсивного увлажнения волос OTIUM AQUA 1000 мл.']\n",
            "\n",
            "\n"
          ],
          "name": "stdout"
        }
      ]
    },
    {
      "cell_type": "code",
      "metadata": {
        "colab": {
          "base_uri": "https://localhost:8080/",
          "height": 534
        },
        "id": "s2XsnW285HDp",
        "outputId": "3191e19b-d55e-4aa3-a3e7-577cbffa3ab3"
      },
      "source": [
        "%%time\n",
        "cost = []\n",
        "for i in range(1,15):\n",
        "  kmean = KMeans(i*1) # *20\n",
        "  kmean.fit(carts01)\n",
        "  cost.append(kmean.inertia_)\n",
        "  print(\"Готово разбиение на \", i*1, \" классов\", sep=\"\")\n",
        "    \n",
        "plt.plot(cost, 'bx-')"
      ],
      "execution_count": null,
      "outputs": [
        {
          "output_type": "stream",
          "text": [
            "Готово разбиение на 1 классов\n",
            "Готово разбиение на 2 классов\n",
            "Готово разбиение на 3 классов\n",
            "Готово разбиение на 4 классов\n",
            "Готово разбиение на 5 классов\n",
            "Готово разбиение на 6 классов\n",
            "Готово разбиение на 7 классов\n",
            "Готово разбиение на 8 классов\n",
            "Готово разбиение на 9 классов\n",
            "Готово разбиение на 10 классов\n",
            "Готово разбиение на 11 классов\n",
            "Готово разбиение на 12 классов\n",
            "Готово разбиение на 13 классов\n",
            "Готово разбиение на 14 классов\n",
            "CPU times: user 16min 10s, sys: 1min 6s, total: 17min 16s\n",
            "Wall time: 13min 44s\n"
          ],
          "name": "stdout"
        },
        {
          "output_type": "display_data",
          "data": {
            "image/png": "[encoded data removed]",
            "text/plain": [
              "<Figure size 432x288 with 1 Axes>"
            ]
          },
          "metadata": {
            "tags": [],
            "needs_background": "light"
          }
        }
      ]
    },
    {
      "cell_type": "code",
      "metadata": {
        "colab": {
          "base_uri": "https://localhost:8080/"
        },
        "id": "F6e4cB5SeTa5",
        "outputId": "3a62629f-bb9c-419f-cf78-d50c2024eb17"
      },
      "source": [
        "max(labels)"
      ],
      "execution_count": null,
      "outputs": [
        {
          "output_type": "execute_result",
          "data": {
            "text/plain": [
              "7"
            ]
          },
          "metadata": {
            "tags": []
          },
          "execution_count": 33
        }
      ]
    },
    {
      "cell_type": "code",
      "metadata": {
        "colab": {
          "base_uri": "https://localhost:8080/"
        },
        "id": "BGP0DE4D-1Qy",
        "outputId": "b407e2ee-d365-4be3-f0fd-4e8303432f6c"
      },
      "source": [
        "# Разбиение на 280 классов\n",
        "for clusterNumber in range(max(labels)):                     # Пробегаем по всем значениям\n",
        "    if (clusterSize[clusterNumber] > 5):                     # Если размер кластера больше 5\n",
        "      pos, posVal = getCluster(carts01[labels==clusterNumber]) # Получаем позиции и их количество в текущем кластере\n",
        "      print(\"Покупок:\", clusterSize[clusterNumber])            # Выводим размер текущего кластера\n",
        "      print(\"Позиций:\", len(pos))                              # Выводим общее число позиций в текущем кластере\n",
        "      pos = np.array(pos)                                      # Преобразуем в numpy\n",
        "      posVal = np.array(posVal)                                # Преобразуем в numpy\n",
        "      indexes = posVal > 0.2                                   # Берем индексы тех позиций, доля которых составляет больше 20%\n",
        "      indexedPos = pos[indexes]                                # Выбираем эти позиции из pos\n",
        "      indexedPosVal = posVal[indexes]                          # Выбираем доли этих позиций\n",
        "\n",
        "      # Отображаем долю позиции и название самой позиции\n",
        "      for i in range(len(indexedPos)):\n",
        "        print(round(100*indexedPosVal[i]), \"% \", indexedPos[i], sep=\"\")\n",
        "\n",
        "      print()\n",
        "      print()"
      ],
      "execution_count": null,
      "outputs": [
        {
          "output_type": "stream",
          "text": [
            "Покупок: 123\n",
            "Позиций: 3043\n",
            "24.0% ['10/81 яркий блонд перламутрово-пепельный Интенсивное тонирование НОВЫЙ']\n",
            "29.0% ['12/0 Стойкая крем-краска специальный блонд']\n",
            "39.0% ['12/61 Стойкая крем-краска специальный блонд фиолет']\n",
            "28.0% ['12/81 Стойкая крем-краска специальный блонд жемч']\n",
            "33.0% ['12/89 Стойкая крем-краска специальный блонд жемчуж']\n",
            "28.0% ['4/0 Стойкая крем-краска шатен']\n",
            "34.0% ['5/0 Стойкая крем-краска светлый шатен']\n",
            "20.0% ['5/71 Стойкая крем-краска светлый шатен коричнево-п']\n",
            "32.0% ['6/0 Стойкая крем-краска темный блонд']\n",
            "24.0% ['6/1 Стойкая крем-краска темный блонд пепельный']\n",
            "28.0% ['6/7 Стойкая крем-краска темный блонд коричневый']\n",
            "27.0% ['6/71 Стойкая крем-краска темный блонд коричнево-пе']\n",
            "24.0% ['6/77 Стойкая крем-краска темный блонд интенсивно-коричневый']\n",
            "41.0% ['7/0 Стойкая крем-краска блонд']\n",
            "21.0% ['7/71 Стойкая крем-краска блонд коричнево-пепельный']\n",
            "24.0% ['8/0 Стойкая крем-краска светлый блонд']\n",
            "20.0% ['8/38 Стойкая крем-краска светлый блонд золотисто-жемчужный']\n",
            "20.0% ['8/81 светлый блонд перламутрово-пепельный Интенсивное тонирование НОВЫЙ']\n",
            "33.0% ['9/1 Стойкая крем-краска очень светлый блонд пепель']\n",
            "22.0% ['9/16 Стойкая крем-краска очень светл блонд пепельно-фиолетовый']\n",
            "21.0% ['9/65 Стойкая крем-краска розовое дерево']\n",
            "32.0% ['AQUATIKA Маска-смузи  увлажнение Likato 250мл']\n",
            "26.0% ['AQUATIKA Софт-Бальзам увлажнение Likato 250мл']\n",
            "27.0% ['AQUATIKA Софт-Шампунь с алоэ Likato 250мл']\n",
            "24.0% ['Fiber Infusion восстанавливающее средство 750 мл.']\n",
            "22.0% ['Londa Насос-дозатор для шампуней Londa Professional 1000 мл.']\n",
            "35.0% ['Бальзам для ежедневного применения 1000 мл. Curex Classic']\n",
            "20.0% ['Бальзам для интенсивного увлажнения волос OTIUM AQUA 1000 мл.']\n",
            "21.0% ['Интенсивная маска для поврежденных волос 500 мл.']\n",
            "20.0% ['Кератиновая маска для волос ESTEL KERATIN 250 мл.']\n",
            "27.0% ['Кондиционер для окрашенных волос Color Radiance 1000 мл. Londa']\n",
            "26.0% ['Кондиционер для поврежденных волос Visible Repair 1000 мл. Londa']\n",
            "33.0% ['Масло Velvet Oil с аргановым маслом 100 мл. Londa']\n",
            "24.0% ['Масло Velvet Oil с аргановым маслом 30 мл. Londa']\n",
            "34.0% ['Окислительная эмульсия  1,9% Londa 1000 мл.']\n",
            "35.0% ['Окислительная эмульсия  3% Londa 1000 мл.']\n",
            "49.0% ['Окислительная эмульсия  6% Londa 1000 мл.']\n",
            "22.0% ['Окислительная эмульсия  9% Londa 1000 мл.']\n",
            "23.0% ['Оксигент для волос 9% ESTEL PRINCESS ESSEX 1000 мл.']\n",
            "32.0% ['Профессиональное средство Velvet Oil с аргановым маслом 750 мл. Londa']\n",
            "23.0% ['Пудра  для обесцвечивания волос, 750 гр. Princess Essex']\n",
            "33.0% ['Серебристая маска для холодных оттенков блонд ESTEL PRIMA BLONDE 300 мл.']\n",
            "29.0% ['Средство для восстановления поврежденных волос Visible Repair 750 мл. Londa']\n",
            "50.0% ['Услуга доставки DPD до двери']\n",
            "21.0% ['Услуга доставки DPD самовывоз']\n",
            "73.0% ['Услуга доставки Почта России']\n",
            "70.0% ['Услуга доставки СДЭК']\n",
            "26.0% ['Хромоэнергетический комплекс']\n",
            "26.0% ['Шампунь Velvet Oil с аргановым маслом 1000 мл. Londa']\n",
            "40.0% ['Шампунь для ежедневного применения 1000 мл. Curex Classic']\n",
            "28.0% ['Шампунь для интенсивного увлажнения волос OTIUM AQUA 1000 мл.']\n",
            "37.0% ['Шампунь для окрашенных волос Color Radiance 1000 мл. Londa']\n",
            "36.0% ['Шампунь для поврежденных волос Visible Repair 1000 мл. Londa']\n",
            "\n",
            "\n",
            "Покупок: 5527\n",
            "Позиций: 5126\n",
            "\n",
            "\n",
            "Покупок: 3320\n",
            "Позиций: 3702\n",
            "100.0% ['Услуга доставки Почта России']\n",
            "\n",
            "\n",
            "Покупок: 130\n",
            "Позиций: 849\n",
            "57.0% ['Бальзам-сияние для окрашенных волос OTIUM COLOR LIFE 1000 мл.']\n",
            "96.0% ['Деликатный шампунь для окрашенных волос OTIUM COLOR LIFE 1000 мл.']\n",
            "\n",
            "\n",
            "Покупок: 3814\n",
            "Позиций: 3346\n",
            "100.0% ['Услуга доставки СДЭК']\n",
            "\n",
            "\n",
            "Покупок: 75\n",
            "Позиций: 1644\n",
            "36.0% ['Актив-тоник для иммунитета волос ЖИВАЯ ВОДА 50 ml']\n",
            "25.0% ['Интенсивная увлажняющая и питательная маска для сухих и нормальных волос 200 мл.']\n",
            "29.0% ['Кератин-кондиционер для реконструкции и выпрямления волос 200 мл.']\n",
            "23.0% ['Кондиционер-бальзам увлажнение и питание 200 мл.']\n",
            "31.0% ['МАСЛО 3D- СПРЕЙ КЕРА-ТЕРАПИЯ ВЫПАДЕНИЯ, ЖИРНОСТИ И ПЕРХОТИ 100мл']\n",
            "31.0% ['МАСЛО-СПРЕЙ для сухих, тонких и ломких волос(смола мумие)']\n",
            "29.0% ['Маска для волос-восстановление и питание 200 мл.']\n",
            "24.0% ['Маска с маслом арганы, льна и сладкого миндаля 200 мл.']\n",
            "27.0% ['Маска-кератин с натуральным йогуртом 200 мл.']\n",
            "24.0% ['НЕКТАР СПРЕЙ-УХОД 14 в 1 с экстрасильной фиксацией']\n",
            "21.0% ['СЕРЕБРИСТЫЙ ШАМПУНЬ. ЧИСТЫЙ АРКТИЧЕСКИЙ БЛОНД 200 ml']\n",
            "41.0% ['СПРЕЙ - ЖИВИЦА для кончиков волос 120 мл']\n",
            "29.0% ['Сливочный флюид МОРОЖЕНОЕ ДЛЯ ВОЛОС 50 ml']\n",
            "33.0% ['Смузи-флюид КРЕМ-БРЮЛЕ ДЛЯ ВОЛОС 50 ml']\n",
            "45.0% ['Флюид-защита и питание светлых волос АНГЕЛ БЛОНДИНОК  50 ml']\n",
            "76.0% ['Флюид-коктейль ЖИДКИЙ ШЕЛК- 7 масел чемпионов 50 ml']\n",
            "21.0% ['Шампунь-шелк ламинирование и кератирование волос  250 мл.']\n",
            "59.0% ['Экспресс-сыворотка для ломких,сухих, секущихся волос РАСПЛАВЛЕННЫЙ ХРУСТАЛЬ 50 ml']\n",
            "41.0% ['Эликсир молодости-управление возрастом волос, машина времени волос 50 ml']\n",
            "49.0% ['Эликсир релакс stop stress, питание, талассотерапия 50 ml']\n",
            "\n",
            "\n",
            "Покупок: 226\n",
            "Позиций: 829\n",
            "100.0% ['Скраб антицеллюлитный (выравнивающий) Likato 250мл']\n",
            "\n",
            "\n"
          ],
          "name": "stdout"
        }
      ]
    },
    {
      "cell_type": "markdown",
      "metadata": {
        "id": "LZ9CO8gllWol"
      },
      "source": [
        "### 1. Удалите из выборки все строки про доставку (автоматически, уже из carts)\n",
        "\n"
      ]
    },
    {
      "cell_type": "code",
      "metadata": {
        "id": "3n6-KKb5j7sI",
        "colab": {
          "base_uri": "https://localhost:8080/"
        },
        "outputId": "6337630c-8c08-438c-9798-a3421efec04c"
      },
      "source": [
        "carts_ = [[item for item in cart if not item.startswith('Услуга доставки')] for cart in carts]\n",
        "len(carts_) # новый список содержит корзины, из которых удалены доставки"
      ],
      "execution_count": null,
      "outputs": [
        {
          "output_type": "execute_result",
          "data": {
            "text/plain": [
              "13567"
            ]
          },
          "metadata": {
            "tags": []
          },
          "execution_count": 35
        }
      ]
    },
    {
      "cell_type": "code",
      "metadata": {
        "colab": {
          "base_uri": "https://localhost:8080/"
        },
        "id": "BOwMsohgqMGg",
        "outputId": "74c2ba28-f3e9-4b9e-f116-f5f3193df60d"
      },
      "source": [
        "# Число позиций после удаления доставок:\n",
        "items = 0\n",
        "for cart in carts_:\n",
        "    for item in cart:\n",
        "        items += 1\n",
        "print(items)"
      ],
      "execution_count": null,
      "outputs": [
        {
          "output_type": "stream",
          "text": [
            "76716\n"
          ],
          "name": "stdout"
        }
      ]
    },
    {
      "cell_type": "code",
      "metadata": {
        "id": "TyKqtcnXlcxM"
      },
      "source": [
        "# Пересоздадим списки cartsIndexes И carts01:\n",
        "carts, carts_ = carts_, carts # теперь в carts_ будут корзины с доставками\n",
        "cartsIndexes = [labelEncoder.transform(c) for c in carts] \n",
        "carts01 = changeSetTo01(cartsIndexes, maxPositionsCount)"
      ],
      "execution_count": null,
      "outputs": []
    },
    {
      "cell_type": "markdown",
      "metadata": {
        "id": "oDFbGqoOj-eE"
      },
      "source": [
        "**Проверим, что удаление удалось**"
      ]
    },
    {
      "cell_type": "code",
      "metadata": {
        "colab": {
          "base_uri": "https://localhost:8080/"
        },
        "id": "lF-PGRdXfdum",
        "outputId": "3cf1863a-2044-46c4-f192-ca12170404fe"
      },
      "source": [
        "n = 0                  # Указываем номер корзины\n",
        "print(carts[n])        # Выводим содержимое корзины\n",
        "print(cartsIndexes[n]) # Выводим список соответствующих индексов\n",
        "print(carts01[n])      # Выводим соответсвующий список bag of words"
      ],
      "execution_count": null,
      "outputs": [
        {
          "output_type": "stream",
          "text": [
            "['CONTURA (HS61) машинка для стрижки волос', 'Holika Holika Универсальный гель 99% алоэ вера, 250 мл', 'Kapous Бальзам-уход для придания объема Volume up 350 мл', 'Kapous Шампунь для придания объема Volume up 350 мл', 'XPERT (HS71) машинка для стрижки волос', 'ЛП ТНА САВАЖ ПАНАШ 250 мл', 'перчатки (50 пар) винил размер S черные']\n",
            "[1503 1732 1804 1987 2962 4226 6274]\n",
            "[0. 0. 0. ... 0. 0. 0.]\n"
          ],
          "name": "stdout"
        }
      ]
    },
    {
      "cell_type": "markdown",
      "metadata": {
        "id": "3WMMnIhfksPH"
      },
      "source": [
        "### 2. Выведите две гистограммы\n",
        "\n",
        "     1. Распределения размеров классов - сколько корзин\n",
        "     2. Распределение количества уникальных позиций в классе\n",
        "\n"
      ]
    },
    {
      "cell_type": "code",
      "metadata": {
        "id": "dqNpu_ookYw4",
        "colab": {
          "base_uri": "https://localhost:8080/",
          "height": 500
        },
        "outputId": "132cc351-1e50-4a73-d5d6-581a81ff4771"
      },
      "source": [
        "%%time\n",
        "cost = []\n",
        "for i in range(1, 13):\n",
        "  kmean = KMeans(i) # *20\n",
        "  kmean.fit(carts01)\n",
        "  cost.append(kmean.inertia_)\n",
        "  print(\"Готово разбиение на \", i, \" классов\", sep=\"\")\n",
        "    \n",
        "plt.plot(list(range(1, 13)), cost, 'bx-')\n"
      ],
      "execution_count": null,
      "outputs": [
        {
          "output_type": "stream",
          "text": [
            "Готово разбиение на 1 классов\n",
            "Готово разбиение на 2 классов\n",
            "Готово разбиение на 3 классов\n",
            "Готово разбиение на 4 классов\n",
            "Готово разбиение на 5 классов\n",
            "Готово разбиение на 6 классов\n",
            "Готово разбиение на 7 классов\n",
            "Готово разбиение на 8 классов\n",
            "Готово разбиение на 9 классов\n",
            "Готово разбиение на 10 классов\n",
            "Готово разбиение на 11 классов\n",
            "Готово разбиение на 12 классов\n",
            "CPU times: user 11min 41s, sys: 50.2 s, total: 12min 31s\n",
            "Wall time: 9min 55s\n"
          ],
          "name": "stdout"
        },
        {
          "output_type": "display_data",
          "data": {
            "image/png": "[encoded data removed]",
            "text/plain": [
              "<Figure size 432x288 with 1 Axes>"
            ]
          },
          "metadata": {
            "tags": [],
            "needs_background": "light"
          }
        }
      ]
    },
    {
      "cell_type": "code",
      "metadata": {
        "colab": {
          "base_uri": "https://localhost:8080/"
        },
        "id": "B5dt_TeOp4HI",
        "outputId": "9af57393-e7b1-4957-f2e6-c23d73b7930b"
      },
      "source": [
        "%%time\n",
        "clustersCount = 7                                   # Указываем количество кластеров\n",
        "kmean = KMeans(clustersCount)                        # Создаем объект KMeans\n",
        "kmean.fit(carts01)                                   # Производим кластеризацию набора carts01\n",
        "labels = kmean.labels_                               # Сохраняем метки в переменную labels\n",
        "\n",
        "npCarts = np.array(carts) "
      ],
      "execution_count": null,
      "outputs": [
        {
          "output_type": "stream",
          "text": [
            "CPU times: user 1min 18s, sys: 4.29 s, total: 1min 22s\n",
            "Wall time: 1min 9s\n"
          ],
          "name": "stdout"
        }
      ]
    },
    {
      "cell_type": "code",
      "metadata": {
        "colab": {
          "base_uri": "https://localhost:8080/"
        },
        "id": "Y6YSx_X-1Ct8",
        "outputId": "80b33582-29b0-49c3-a302-934c879cdaf7"
      },
      "source": [
        "len(carts), len(carts01)"
      ],
      "execution_count": null,
      "outputs": [
        {
          "output_type": "execute_result",
          "data": {
            "text/plain": [
              "(13567, 13567)"
            ]
          },
          "metadata": {
            "tags": []
          },
          "execution_count": 41
        }
      ]
    },
    {
      "cell_type": "code",
      "metadata": {
        "colab": {
          "base_uri": "https://localhost:8080/"
        },
        "id": "qiij33jyp4Yk",
        "outputId": "ee9fbf0d-c08e-4d91-99e5-1bfb2809841f"
      },
      "source": [
        "print(labels)                                                   # Отображаем метки кластеров\n",
        "clusterSize = [sum(labels==i) for i in range(0, clustersCount)] # Создадим список размеров каждого кластера\n",
        "\n",
        "# Выведем номер кластера и его размер\n",
        "for i, s in enumerate(clusterSize):\n",
        "    print(i, s)"
      ],
      "execution_count": null,
      "outputs": [
        {
          "output_type": "stream",
          "text": [
            "[4 5 4 ... 4 4 4]\n",
            "0 102\n",
            "1 371\n",
            "2 1\n",
            "3 267\n",
            "4 12148\n",
            "5 110\n",
            "6 568\n"
          ],
          "name": "stdout"
        }
      ]
    },
    {
      "cell_type": "markdown",
      "metadata": {
        "id": "pZOYCBuPno9U"
      },
      "source": [
        "\n",
        "\n",
        "\n",
        "1. Гистограмма распределения размеров классов - сколько корзин"
      ]
    },
    {
      "cell_type": "code",
      "metadata": {
        "colab": {
          "base_uri": "https://localhost:8080/",
          "height": 265
        },
        "id": "C9RCvS6w1W1V",
        "outputId": "28cf2294-4b09-4ec8-bc18-786d6d37a272"
      },
      "source": [
        "_ = plt.hist(labels, clustersCount, [0, clustersCount])"
      ],
      "execution_count": null,
      "outputs": [
        {
          "output_type": "display_data",
          "data": {
            "image/png": "[encoded data removed]",
            "text/plain": [
              "<Figure size 432x288 with 1 Axes>"
            ]
          },
          "metadata": {
            "tags": [],
            "needs_background": "light"
          }
        }
      ]
    },
    {
      "cell_type": "markdown",
      "metadata": {
        "id": "EM-Ix9Hypy5H"
      },
      "source": [
        "\n",
        "\n",
        "2. Гистограмма распределения  количества уникальных позиций в классе\n"
      ]
    },
    {
      "cell_type": "code",
      "metadata": {
        "id": "J4PXCcGZ1XKN"
      },
      "source": [
        "# возьмем самый большой класс\n",
        "n = 2 # номер класса\n",
        "cluster = [cartsIndexes[i] for i in range(len(carts)) if labels[i] == n]\n",
        "items = []\n",
        "for i in cluster:\n",
        "    items.extend(i)"
      ],
      "execution_count": null,
      "outputs": []
    },
    {
      "cell_type": "code",
      "metadata": {
        "colab": {
          "base_uri": "https://localhost:8080/",
          "height": 265
        },
        "id": "G9-8mMSqs3rc",
        "outputId": "714492dd-3f85-4b02-912f-2f88b2569303"
      },
      "source": [
        "_ = plt.hist(items, 100)"
      ],
      "execution_count": null,
      "outputs": [
        {
          "output_type": "display_data",
          "data": {
            "image/png": "[encoded data removed]",
            "text/plain": [
              "<Figure size 432x288 with 1 Axes>"
            ]
          },
          "metadata": {
            "tags": [],
            "needs_background": "light"
          }
        }
      ]
    },
    {
      "cell_type": "markdown",
      "metadata": {
        "id": "WycwqHzskr7V"
      },
      "source": [
        "### 3. Напишите продвинутую функцию визуализации одного выбранного класса\n",
        "     1. Размер класса\n",
        "     2. Количество уникальных позиций\n",
        "     3. Позиции, которые есть минимум в 20% корзин\n",
        "     4. Уникальные слова в описаниях позиций, которые встречаются минимум в 20% позиций, для отслеживания моно-брендовых и моно-товарных закупок\n"
      ]
    },
    {
      "cell_type": "markdown",
      "metadata": {
        "id": "sWA4IHKCtp5T"
      },
      "source": [
        "1. Размер класса"
      ]
    },
    {
      "cell_type": "code",
      "metadata": {
        "id": "vSEiVdkQG--7"
      },
      "source": [
        "# функция для вывода размера класса\n",
        "def printSize(cluster):\n",
        "    \"\"\"\n",
        "    cluster: список корзин (в любом формате) \n",
        "    \"\"\"\n",
        "    print(\"Cluster has %d carts\" % len(cluster))"
      ],
      "execution_count": null,
      "outputs": []
    },
    {
      "cell_type": "code",
      "metadata": {
        "colab": {
          "base_uri": "https://localhost:8080/"
        },
        "id": "43oLFCgbsDCF",
        "outputId": "bb0d2930-6ec0-4fc8-ee0a-f03a4de27930"
      },
      "source": [
        "n = 2 # номер класса\n",
        "cluster = [cartsIndexes[i] for i in range(len(carts)) if labels[i] == n]\n",
        "items = []\n",
        "for i in cluster:\n",
        "    items.extend(i)\n",
        "print(\"Cluster #%d has %d carts\" % (n , len(cluster)))"
      ],
      "execution_count": null,
      "outputs": [
        {
          "output_type": "stream",
          "text": [
            "Cluster #2 has 1 carts\n"
          ],
          "name": "stdout"
        }
      ]
    },
    {
      "cell_type": "markdown",
      "metadata": {
        "id": "xAIKQEJpt1DD"
      },
      "source": [
        "2. Количество уникальных позиций"
      ]
    },
    {
      "cell_type": "code",
      "metadata": {
        "id": "mHqqbnXCLgQ1"
      },
      "source": [
        "# функция выводящая количество уникальных позиций\n",
        "def printNumberUniqPositions(cluster):\n",
        "    items = []\n",
        "    for cart in cluster:\n",
        "        items.extend(cart)\n",
        "    uniqs = set()\n",
        "    [uniqs.add(item) for item in items]\n",
        "    print(\"Uniq positions:\", len(uniqs))"
      ],
      "execution_count": null,
      "outputs": []
    },
    {
      "cell_type": "code",
      "metadata": {
        "colab": {
          "base_uri": "https://localhost:8080/"
        },
        "id": "9zbKRilJMgkF",
        "outputId": "90fc0b61-8432-4e93-cc8d-fcaf4f4986b9"
      },
      "source": [
        "printNumberUniqPositions(cluster)"
      ],
      "execution_count": null,
      "outputs": [
        {
          "output_type": "stream",
          "text": [
            "Uniq positions: 181\n"
          ],
          "name": "stdout"
        }
      ]
    },
    {
      "cell_type": "markdown",
      "metadata": {
        "id": "1WlxNmRIDulW"
      },
      "source": [
        "3. Позиции, которые есть минимум в 20% корзин"
      ]
    },
    {
      "cell_type": "code",
      "metadata": {
        "id": "lpk1_GmeNYeg"
      },
      "source": [
        "def printPopularPositions(cluster, level=0.2):\n",
        "    N = int(level*len(cluster)) \n",
        "    items = []\n",
        "    for cart in cluster:\n",
        "        items.extend(cart)\n",
        "    uniqs = set()\n",
        "    [uniqs.add(item) for item in items]\n",
        "    qty = {id: 0 for id in uniqs} # словарь id -> в скольких корзинах встречается позиция id\n",
        "    for cart in cluster:\n",
        "        for id in cart:\n",
        "            qty[id] += 1\n",
        "    ids20 = [id for id in uniqs if qty[id] > N] # список ids которые встретились более чем в N корзинах\n",
        "    print('Позиции, которые есть минимум в %d%% корзин:' % int(100*level), ids20)"
      ],
      "execution_count": null,
      "outputs": []
    },
    {
      "cell_type": "code",
      "metadata": {
        "colab": {
          "base_uri": "https://localhost:8080/"
        },
        "id": "go1RDwi4PA1Q",
        "outputId": "3662b96a-81e7-4c36-a0bf-ff94e5d12e89"
      },
      "source": [
        "printPopularPositions(cluster, level=0.2)"
      ],
      "execution_count": null,
      "outputs": [
        {
          "output_type": "stream",
          "text": [
            "Позиции, которые есть минимум в 20% корзин: [6656, 3585, 3586, 3587, 4612, 3077, 4614, 6162, 2071, 3097, 3104, 3106, 5156, 2086, 2601, 5675, 5676, 1581, 5677, 6193, 3134, 5182, 3136, 4673, 3139, 6211, 5700, 3148, 4685, 590, 6226, 3669, 3671, 5721, 5722, 6236, 3165, 5726, 98, 3682, 100, 103, 104, 1128, 1129, 107, 108, 109, 117, 3190, 5752, 3194, 6267, 5756, 5755, 2687, 1664, 5766, 4746, 5770, 3221, 5785, 1180, 5792, 4769, 1188, 5288, 5290, 5291, 179, 5821, 5825, 1732, 5828, 4298, 6350, 213, 6357, 4318, 747, 1776, 4849, 5362, 1791, 2305, 2307, 2309, 2310, 1804, 1807, 2319, 5391, 4370, 5395, 278, 5910, 5403, 1820, 5915, 287, 1823, 1824, 290, 1827, 1830, 1831, 4903, 2861, 4910, 1841, 1331, 6451, 5429, 1338, 4415, 1864, 3406, 1880, 3416, 1882, 1885, 5470, 1887, 351, 352, 1894, 4461, 6001, 1910, 1911, 1912, 1913, 4983, 3968, 1411, 6534, 3977, 1932, 1934, 1935, 914, 1941, 3989, 4501, 409, 1945, 3487, 1954, 4003, 1956, 4005, 4515, 4520, 5546, 1963, 5036, 1966, 6064, 4017, 1973, 4025, 4026, 4540, 4546, 1987, 4043, 4044, 1999, 6100, 4052, 4056, 4057, 4058, 4061, 479, 2020, 2021, 4588, 6125, 4594, 6650]\n"
          ],
          "name": "stdout"
        }
      ]
    },
    {
      "cell_type": "code",
      "metadata": {
        "colab": {
          "base_uri": "https://localhost:8080/"
        },
        "id": "cWHLiJ_PPOON",
        "outputId": "ab2f1087-5cc4-456d-eab9-d91ca7ee09a9"
      },
      "source": [
        "printPopularPositions(cluster, level=0.02)"
      ],
      "execution_count": null,
      "outputs": [
        {
          "output_type": "stream",
          "text": [
            "Позиции, которые есть минимум в 2% корзин: [6656, 3585, 3586, 3587, 4612, 3077, 4614, 6162, 2071, 3097, 3104, 3106, 5156, 2086, 2601, 5675, 5676, 1581, 5677, 6193, 3134, 5182, 3136, 4673, 3139, 6211, 5700, 3148, 4685, 590, 6226, 3669, 3671, 5721, 5722, 6236, 3165, 5726, 98, 3682, 100, 103, 104, 1128, 1129, 107, 108, 109, 117, 3190, 5752, 3194, 6267, 5756, 5755, 2687, 1664, 5766, 4746, 5770, 3221, 5785, 1180, 5792, 4769, 1188, 5288, 5290, 5291, 179, 5821, 5825, 1732, 5828, 4298, 6350, 213, 6357, 4318, 747, 1776, 4849, 5362, 1791, 2305, 2307, 2309, 2310, 1804, 1807, 2319, 5391, 4370, 5395, 278, 5910, 5403, 1820, 5915, 287, 1823, 1824, 290, 1827, 1830, 1831, 4903, 2861, 4910, 1841, 1331, 6451, 5429, 1338, 4415, 1864, 3406, 1880, 3416, 1882, 1885, 5470, 1887, 351, 352, 1894, 4461, 6001, 1910, 1911, 1912, 1913, 4983, 3968, 1411, 6534, 3977, 1932, 1934, 1935, 914, 1941, 3989, 4501, 409, 1945, 3487, 1954, 4003, 1956, 4005, 4515, 4520, 5546, 1963, 5036, 1966, 6064, 4017, 1973, 4025, 4026, 4540, 4546, 1987, 4043, 4044, 1999, 6100, 4052, 4056, 4057, 4058, 4061, 479, 2020, 2021, 4588, 6125, 4594, 6650]\n"
          ],
          "name": "stdout"
        }
      ]
    },
    {
      "cell_type": "code",
      "metadata": {
        "colab": {
          "base_uri": "https://localhost:8080/"
        },
        "id": "tkQnALQXPOao",
        "outputId": "24dec07c-7e92-40ee-8f19-60abc56cdbed"
      },
      "source": [
        "printPopularPositions(cluster, level=0.01)"
      ],
      "execution_count": null,
      "outputs": [
        {
          "output_type": "stream",
          "text": [
            "Позиции, которые есть минимум в 1% корзин: [6656, 3585, 3586, 3587, 4612, 3077, 4614, 6162, 2071, 3097, 3104, 3106, 5156, 2086, 2601, 5675, 5676, 1581, 5677, 6193, 3134, 5182, 3136, 4673, 3139, 6211, 5700, 3148, 4685, 590, 6226, 3669, 3671, 5721, 5722, 6236, 3165, 5726, 98, 3682, 100, 103, 104, 1128, 1129, 107, 108, 109, 117, 3190, 5752, 3194, 6267, 5756, 5755, 2687, 1664, 5766, 4746, 5770, 3221, 5785, 1180, 5792, 4769, 1188, 5288, 5290, 5291, 179, 5821, 5825, 1732, 5828, 4298, 6350, 213, 6357, 4318, 747, 1776, 4849, 5362, 1791, 2305, 2307, 2309, 2310, 1804, 1807, 2319, 5391, 4370, 5395, 278, 5910, 5403, 1820, 5915, 287, 1823, 1824, 290, 1827, 1830, 1831, 4903, 2861, 4910, 1841, 1331, 6451, 5429, 1338, 4415, 1864, 3406, 1880, 3416, 1882, 1885, 5470, 1887, 351, 352, 1894, 4461, 6001, 1910, 1911, 1912, 1913, 4983, 3968, 1411, 6534, 3977, 1932, 1934, 1935, 914, 1941, 3989, 4501, 409, 1945, 3487, 1954, 4003, 1956, 4005, 4515, 4520, 5546, 1963, 5036, 1966, 6064, 4017, 1973, 4025, 4026, 4540, 4546, 1987, 4043, 4044, 1999, 6100, 4052, 4056, 4057, 4058, 4061, 479, 2020, 2021, 4588, 6125, 4594, 6650]\n"
          ],
          "name": "stdout"
        }
      ]
    },
    {
      "cell_type": "markdown",
      "metadata": {
        "id": "-0osZ5S1EhMk"
      },
      "source": [
        "4. Уникальные слова в описаниях позиций, которые встречаются минимум в 20% позиций, для отслеживания моно-брендовых и моно-товарных закупок"
      ]
    },
    {
      "cell_type": "code",
      "metadata": {
        "id": "GeCDY4QfJa93"
      },
      "source": [
        "maxWordsCount = 10000\n",
        "tok = Tokenizer(num_words=maxWordsCount, filters='!\"#$%&()*+,-–—./:;<=>?@[\\\\]^_`{|}~\\t\\n\\xa0', lower=True, split=' ', oov_token='unknown', char_level=False)\n",
        "positions = []\n",
        "for p in carts:\n",
        "    positions.extend(p)\n",
        "tok.fit_on_texts(positions)         \n",
        "items = list(tok.word_index.items())"
      ],
      "execution_count": null,
      "outputs": []
    },
    {
      "cell_type": "code",
      "metadata": {
        "colab": {
          "base_uri": "https://localhost:8080/"
        },
        "id": "VDWGFhxSJbEo",
        "outputId": "447b527b-a0c0-4141-a28b-d502cadf582f"
      },
      "source": [
        "items[:10]"
      ],
      "execution_count": null,
      "outputs": [
        {
          "output_type": "execute_result",
          "data": {
            "text/plain": [
              "[('unknown', 1),\n",
              " ('мл', 2),\n",
              " ('для', 3),\n",
              " ('волос', 4),\n",
              " ('крем', 5),\n",
              " ('шампунь', 6),\n",
              " ('1000', 7),\n",
              " ('краска', 8),\n",
              " ('с', 9),\n",
              " ('estel', 10)]"
            ]
          },
          "metadata": {
            "tags": []
          },
          "execution_count": 55
        }
      ]
    },
    {
      "cell_type": "code",
      "metadata": {
        "colab": {
          "base_uri": "https://localhost:8080/"
        },
        "id": "WmEMCsO1SaMF",
        "outputId": "e0c4d878-5a02-41e0-9bf3-c5a938f85631"
      },
      "source": [
        "len(items)"
      ],
      "execution_count": null,
      "outputs": [
        {
          "output_type": "execute_result",
          "data": {
            "text/plain": [
              "5888"
            ]
          },
          "metadata": {
            "tags": []
          },
          "execution_count": 56
        }
      ]
    },
    {
      "cell_type": "code",
      "metadata": {
        "colab": {
          "base_uri": "https://localhost:8080/"
        },
        "id": "b6Vxc2dgMvE5",
        "outputId": "e865b426-772e-4bb9-e20a-c106415e1bf4"
      },
      "source": [
        "positionIds = tok.texts_to_sequences(positions) \n",
        "positionIds[:10]"
      ],
      "execution_count": null,
      "outputs": [
        {
          "output_type": "execute_result",
          "data": {
            "text/plain": [
              "[[4290, 4291, 967, 3, 729, 4],\n",
              " [337, 337, 763, 122, 1313, 326, 1057, 14, 2],\n",
              " [15, 17, 112, 3, 204, 95, 196, 430, 270, 2],\n",
              " [15, 6, 3, 204, 95, 196, 430, 270, 2],\n",
              " [3588, 3589, 967, 3, 729, 4],\n",
              " [364, 1288, 3360, 3361, 14, 2],\n",
              " [420, 74, 478, 575, 458, 515, 587],\n",
              " [18, 170, 125, 557, 17, 3, 4, 7, 2],\n",
              " [18, 170, 125, 6, 242, 657, 53, 37, 7, 2],\n",
              " [71, 112, 3, 120, 4, 10, 107, 98, 16, 2]]"
            ]
          },
          "metadata": {
            "tags": []
          },
          "execution_count": 57
        }
      ]
    },
    {
      "cell_type": "code",
      "metadata": {
        "colab": {
          "base_uri": "https://localhost:8080/"
        },
        "id": "zFhaKvrjNj7p",
        "outputId": "d4ab3d62-dd11-42f5-9886-90b89e757b38"
      },
      "source": [
        "uniqPositions = set()\n",
        "[uniqPositions.add(p) for p in positions]\n",
        "print(\"Distinct positions:\", len(uniqPositions))"
      ],
      "execution_count": null,
      "outputs": [
        {
          "output_type": "stream",
          "text": [
            "Distinct positions: 6658\n"
          ],
          "name": "stdout"
        }
      ]
    },
    {
      "cell_type": "code",
      "metadata": {
        "id": "zfPmZXouNkYQ"
      },
      "source": [
        "def printPopularWords(cluster, level=0.2):\n",
        "    pos_count = 0\n",
        "    for cart in cluster:\n",
        "        pos_count += len(cart) # Находим полное число позиций в кластере\n",
        "    N = int(level*pos_count) # Пороговое количество позиций для слова.\n",
        "    qty = {id: 0 for id in range(1, len(tok.word_index.items())+1)} # словарь id -> в скольких позициях встречается слово id\n",
        "    for item in positionIds:\n",
        "        for id in item:\n",
        "            qty[id] += 1\n",
        "    ids20 = [id for id in range(1, len(tok.word_index.items())+1) if qty[id] > N] # список ids слов, которые встретились более чем в N позициях\n",
        "    words = [tok.index_word[id] for id in ids20]\n",
        "    print('слова, которые есть минимум в %d%% позиций:' % int(100*level), words)"
      ],
      "execution_count": null,
      "outputs": []
    },
    {
      "cell_type": "code",
      "metadata": {
        "colab": {
          "base_uri": "https://localhost:8080/"
        },
        "id": "Rtf-L0S4X6lC",
        "outputId": "151eafb3-39e1-4d27-93bd-8ee8110054b2"
      },
      "source": [
        "printPopularWords(cluster, level=0.2)"
      ],
      "execution_count": null,
      "outputs": [
        {
          "output_type": "stream",
          "text": [
            "слова, которые есть минимум в 20% позиций: ['мл', 'для', 'волос', 'крем', 'шампунь', '1000', 'краска', 'с', 'estel', 'маска', 'блонд', 'и', '250', 'kapous', '100', 'бальзам', 'ollin', '200', 'londa', 'color', '1', 'светлый', 'princess', 'essex', '6', 'блондин', 'стойкая', '0', '9', '7', '300', '500', 'пепельный', '10', 'русый', '5', 'спрей', 'otium', 'dewal', '60', '8', 'окрашенных', 'likato', 'фиолетовый', 'кондиционер', 'в', 'de', 'luxe', 'эмульсия', 'коричневый', 'studio', '3', '4', 'серии', 'гр', 'коричнево', 'шатен', 'keratin', 'оксигент', 'оттенков', '250мл', 'маслом', '12', 'фиксации', 'matrix', '150', 'classic', 'л', 'dl', 'масло', 'см', 'д', '50', 'ml', 'curex', 'интенсивного', 'светло', '2', 'пудра', 'окислительная', 'шт', '60мл', 'сыворотка', 'professional', 'oil', 'оттенок', 'темный', 'увлажнения', 'перманентная', 'очень', 'холодных', 'всех', '«kapous»', 'объема', 'мм', 'aqua', 'blonde', 'поврежденных', 'кератин', 'применения', 'серебристый', '750', 'типов', 'ежедневного', 'скраб', 'prima', 'экстрактом', 'увлажнение', 'интенсивное', 'лосьон', 'уход', 'кожи', 'блеск', 'пепельно', 'темно', 'magic', 'care', 'красный', 'светлых', 'новый', 'гель', '16', 'увлажняющий', 'line', 'perfect', 'haute', 'couture', 'лак', 'интенсивный', 'протеинами', 'флюид', 'аргановым', '15', 'бровей', 'восстановление', 'питание', '30', '100мл', 'цвета', 'repair', 'тонирование', 'восстановления', 'velvet', 'beauty', 'тонирующая', 'медный', 'dlse', 'восстанавливающий', 'действия', 'blond', 'фиолетово', '71', 'активатор', 'прямого', 'линии', 'краски', 'wella', '65', 'расческа', 'интенсивная', 'на', 'hair', 'против', 'перламутровый', 'черная', 'увлажняющая', 'me', '75', 'service', 'от', 'сухих', 'софт', 'жемчужный', 'окрашивания', '900', '76', '00', 'черный', 'сильной', 'блеска', '20', 'radiance', 'удаления', 'лица', 'выпадения', 'средство', 'visible', '400', 'золотисто', 'кисть', 'пигмент', 'dls', 'загара', 'специальный', 'volume', 'newtone', 'окислитель', 'airex', 'золотистый', 'защита', 'розовый', 'яркий', 'придания', 'кератином', 'эффектом', 'moisture', 'роста', 'рисовыми', 'brow', 'кератиновая', '11', 'touch', 'солярии', 'кремообразная', 'мусс', 'mask', 'оттеночный', 'жирных', 'комплекс', 'recovery', 'вт', 'обесцвечивания', 'life', 'несмываемый', 'окисляющая', 'luxury', '77', 'socolor', 'hyaluronic', 'hy', '18', 'женьшеня', 'aquatika', 'soffio', 'набор', 'депиляции', 'organic', '81', 'd', 'brown', 'стабилизатор', 'bionika', 'паста', 'седины', '66', 'koleston', 'sync', 'двухфазный', 'it', 'серебристая', 'х', 'рук', 'wellness', 'м', 'смузи', 'cream', 'средне', 'shop', 'дозатор', 'эликсир', 'actiox', '120', 'нормальной', 'shampoo', 'кератиновый', 'revive', 'перхоти', 'масел', '350', 'укладки', 'deep', 'хромоэнергетический', 'медно', 'натуральный', 'коктейль', 'кончиков', 'ламинирование', 'питательный', 'питательная', 'cc', 'головы', 'тонких', 'без', 'тела', 'синий', 'губ', 'oxy', 'вода', 'matisse', '400мл', 'создания', 'экспресс', 'термозащита', 'органик', 'эффект', 'miracle', 'ресниц', 'тон', 'diamond', 'фиксация', 'phase', '21', 'покрытие', 'щетка', 'тоник', 'нормальных', 'секущихся', 'шелк', 'performance', 'сахарная', 'пилка', 'арганы', 'авокадо', '61', 'глаз', 'пилинг', '22', 'кислотой', 'г', '44', 'оливы', 'интенсивно', 'cremoxon', 'сухой', 'алоэ', '38', 'комфорт', 'карандаш', 'style', 'alpha', 'homme', 'реконструктор', 'xtro', 'гладкости', 'illumina', 'holika', '125', '90', 'dual', 'renascence', 'арктический', 'y', 'жидкий', 'хна', 'c', 'black', 'uv', 'сияние', 'порошок', 'комплексом', '180', 'маслами', 'защиты', 'оксид', 'щипцы', 'ног', 'выравнивающий', 'бежевый', '07', 'tony', 'фильтром', 'широкая', 'лп', 'fiber', 'очистки', 'lavant', 'глубокой', 'классический', 'bar', 'moly', 'п', 'антицеллюлитный', 'краситель', 'dgp', 'infusion', 'expert', 'art', 'разглаживающий', '550', 'sheet', 'цвет', 'саше', '43', 'сильная', 'экстрасильной', 'эконом', 'force', 'разглаживания', 'графит', 'фаза', 'минеральный', 'unique', 'восстанавливающая', '45', 'dark', 'and', 'реструктурирующая', 'обесцвечивающая', 'уп', 'q3', 'омолаживающий', '25', 'хвостиком', 'перламутрово', '23', 'welloxon', 'реконструкции', 'ультра', '40', 'очищающий', 'conditioner', 'перманент', 'холодный', 'ягодная', 'роскошь', 'деликатный', 'тканевая', 'ломких', 'перчатки', 'массажная', 'pro', 'vol', 'после', '“blond', 'корректор', 'флаконов', 'ламинирования', 'резинки', 'up', 'био', 'light', 'silk', 'турмалиновое', 'обновляющий', 'шаг', 'пластик', 'антижелтым', '17', 'энергетический', '55', 'объем', '270', 'желтый', 'bar”', 'штифт', 'arganoil', 'ручкой', 'объёма', 'пластиковый', 'masters', 'насосный', 'душа', '20vol', 'регенерирующий', 'curl', 'витаминами', 'размер', '80', 'зажим', 'basic', 'p', 'ослабленных', 'красно', 'аэрозольный', 'помада', '73', 'основе', 'серебро', 'воск', 'спа', 'стимуляции', 'чемпионов', 'anti', 're', 'energy', 'длинных', 'пар', 'мокка', 'платиновый', 'ногтей', '320', 'прикорневого', 'вьющихся', 'update', 'en4', 'batiste', 'top', 'system', 'пена', 'lisap', 'barevival', 'серия', 'конд', 'узкая', 'насос', 'осветляющая', 'plus', 'структуры', 'легкой', 'гофре', 'little', 'wave', 'детский', 'чистый', 'super', 'питания', 'щетиной', 'укрепляющий', 'moire', 'примен', 'хрусталь', 'delikate', 'легкое', 's', 'проявляющая', 'шоколад', 'расчесывание', 'мочевиной', 'ежедн', 'ph5', 'megapolis', '34', '160', '03', 'e', '50мл', 'creme', 'twist', 'процедуры', 'диспенсер', 'плунжером', 'сборе', 'ёмкостей', 'расчесывания', 'рабочая', 'biolage', 'насыщенный', 'colorito', 'тонизирующий', 'фольга', 'терморегулятором', 'мкрон', 'niagara', 'r', 'shine', 'профессиональный', 'оксидант', 'щетина', 'придание', '35', 'xxl', 'oxydant', 'natura', 'siberica', 'серый', 'увлаж', 'биотином', 'молочко', 'full', 'detox', 'белый', 'пенка', 'рулоне', 'профессиональное', 'гиалуроновой', 'термозащитой', 'микстон', 'морской', 'chocolatier', 'eye', 'сэ', 'пластиковым', 'натурально', 'винил', 'охлаждающим', 'шампуней', 'выпрямления', 'завивки', 'пеньюар', 'sleek', 'ореха', 'экстра', 'женьшенем', 'архитектор', '20v', 'черные', 'рядов', 'powder', '31', 'миндаля', '70', 'осветленных', '300мл', 'солью', '96', '500мл', 'восстан', 'thalasso', 'фиолет', 'biotin', 'nectar', 'gel', 'макадамии', 'восстанавливающее', 'укрепления', '19', '200мл', 'treatment', 'по', 'расплавленный', 'альгинатная', 'насадки', 'keen', 'elements', 'осветляющий', 'smooth', 'иланг', 'ножницы', 'универсальная', 'men', '116', 'polish', 'кератирование', 'сандрэ', 'окр', 'разглаживающее', 'воротнички', 'липучке', 'жирной', 'миска', 'деревянная', 'ultimate', 'red', 'частого', '240', 'фен', 'красоты', 'светл', 'натуральная', 'нейтральный', 'прямые', 'флакон', 'пшеничными', 'серо', 'плойка', 'a', 'обесцвечивающий', '№1', 'снятия', 'stress', 'ремонт', '36', 'натуральным', 'ангел', 'intense', 'рн', 'profound', 'booster', 'luxeoil', 'sp', 'штифтом', 'йогуртом', 'натоптышей', '1л', 'collagen', 'гребень', 'orly®', 'vital', 'silver', 'прозрачный', 'violet', 'кудрявых', 'глубокий', 'средняя', 'жемчужно', 'ментолом', 'цветной', 'выравнивания', '13', 'патчи', 'keraless', '89', 'пепльно', 'блондинок', 'тушь', 'активированным', '26', 'седых', 'fluid', 'patch', 'фуксия', 'поддержание', 'силиконовые', 'энергетик', 'ампулы', 'глиоксиловой', 'glyoxysleek', 'бигуди', 'koloris', 'kl', 'чаша', \"m'use\", 'пастельный', '01', 't', 'будет', 'баночке', 'риса', 'sun', 'не', 'кислотами', 'ароматом', '28', 'l', '56', '10vol', 'spray', 'кутикулы', 'white', 'приготовления', 'окрашивающих', 'смесей', 'коклюшки', 'парикмахерский', 'intensive', '88', 'углем', 'стрижки', 'зеленый', 'титаново', '10амп', 'жемчуг', 'дыня', 'перед', 'impressive', 'solargel', 'термобрашенг', 'стайлинг', '37', 'льна', 'под', 'чувствительной', 'сияния', 'черного', 'розовая', 'acid', 'сладкого', 'new', 'терапевтический', 'in', 'анти', 'белая', '№3', 'мини', 'волна', 'ms', 'концентрат', 'midi', '02', 'pureness', 'triumph', 'универсальный', 'выпрямители', 'глубокого', 'коллагеном', 'коробке', 'нектар', 'антистатик', 'g', 'жидкие', 'полоски', '15мл', '5мл', 'hydra', 'матовый', 'парафин', \"man's\", '110', 'термозащитный', 'керамико', 'power', 'теплозащитный', 'лака', '00n', 'пластины', 'наносеребром', 'облегчение', 'тальк', 'my', 'smoother', 'na', 'дерево', 'очищение', '722', 'for', 'blue', 'spa', 'к', 'усилитель', 'эластичной', 'protect', 'оранжевый', 'черной', 'легкий', 'туннельная', '2мл', 'bleaching', 'developer', 'сохраняющий', 'пепель', 'лезвие', 'vision', 'stop', '06', 'шёлковая', 'пластичная', 'отдушек', 'добавок', 'лопата', 'жемч', 'маникюрные', '9605', 'банан', 'ombrage', 'ash', 'straight', 'tres', 'манго', 'element', 'индиго', 'grey', 'cosmetics', 'жидкое', 'полотенце', 'резинкой', 'дне', 'парикмахерских', 'безаммиачный', 'стойкий', 'розовое', 'использования', 'миндального', 'en1', '“styling”', 'help', 'термоащитой', 'умывания', '33', 'жемчуж', 'депиляцией', 'коричневая', 'защитный', 'щётка', 'живица', 'комбинированная', 'ополаскиватель', '14', 'daily', 'металлическим', '3d', 'коричневых', 'нейтрализатор', '750мл', 'микрогранулах', 'капли', 'шугаринга', 'махагоновый', 'прозрачная', 'сливки', 'смола', 'мумие', 'nourishing', 'фруктовыми', 'finish', 'проблемной', 'fast', 'gloss', 'брасс', 'офф', 'мерный', 'стакан', 'ионокерамика', 'smart', 'бриллиантовый', 'глина', 'лучей', 'ми', 'картридже', 'бамбука', 'драгоценное', 'голубая', '№2', 'gray', 'cool', 'i’m', 'real', 'пе', 'dry', 'тени', '1000мл', 'локонов', 'ж', 'товар', 'cuticle', 'ehko', 'релакс', 'titanium', 'cветлый', 'голубой', 'логотипом', 'en3', 'талассотерапия', 'моделирующий', 'profi', 'mango', 'кусачки', 'нежный', 'восстанавление', 'сливочный', 'горячая', 'терапия', 'colour', '5000', 'ламинированных', 'save', 'стекло', 'aha', 'глаза', 'peel', 'карамель', 'co', 'коричневые', 'массажа', 'pink', 'мужчин', 'укрепляющая', 'вуаль', 'complex', 'u', 'fix', '260', 'стандартная', 'косметическая', 'снят', 'поврежд', 'голубые', 'coco', 'sf', 'цветные', 'синяя', 'салфетки', 'суперосветляющий', 'сильно', 'keraplant', 'средней', 'актив', 'ионизация', 'очищения', 'амулет', 'one', 'vitamin', 'кутикул', 'салонный', 'мицеллярная', 'purifying', 'машинка', '32', 'сторонняя', 'филировочные', 'баланс', 'фиксаж', '74', 'маракуйя', 'lift', 'easy', 'двойное', 'lk', 'зебра', 'кокос', 'холодная', 'распылитель', 'термобрашинг', 'скошенная', 'витаминный', 'молодости', 'освежающий', '250ml', 'рост', 'skin', 'nano', '46', 'уф', 'солнечный', 'root', 'пленка', 'ножниц', 'шпильки', 'овальная', '41', 'dream', 'ат', 'палисандр', 'start', 'definer', 'step', 'ультрапитательный', 'структур', 'жирности', 'усиленный', 'р', 'виши', 'enzyme', 'мягкая', 'долговременной', 'стимулятор', 'curly', '117', 'мицеллярный', 'салфетка', 'воротничок', 'пластом', 'упаковке', 'за', 'пастельного', 'тонирования', '62', 'оранжевая', 'консистенции', 'лифтинг', 'mini', 'арома', 'ухода', 'волнистой', 'аква', 'cuticule', 'брюле', '210', 'chocolate', 'ши', 'мягкий', 'трудноподдающихся', 'мыло', 'век', 'репейника', '30vol', 'очищающая', 'extra', '101', 'полиэтилен', 'helix', 'град', 'bond', 'cпрей', 'ul', 'лето', 'вера', 'мокко', '54', 'as', 'double', 'dare', 'omg', 'ежедневный', 'мороженое', 'styling', '161', 'n', 'роза', 'set', 'flower', 'белой', 'пластмассовым', 'фазный', 'золотой', 'прямоугольная', 'essence', 'macadamia', 'мед', 'начеса', 'малина', 'ля', 'рош', 'позе', 'high', 'солнца', 'organza', '5vol', 'филлер', 'сине', 'диффузор', 'терка', 'химической', 'какао', '№', 'лаванды', 'термозащищающий', 'бабочка', 'бумажные', 'воздушный', 'dramatize', 'lifting', 'сложении', 'химических', 'spark', 'ампул', 'коноплей', 'банке', 'экстремального', 'релакса', 'карите', 'antiage100', 'абсолют', 'голд', 'дренажная', 'сухого', 'активизирующий', '93', 'блок', \"lucas'\", '08', 'мгновенное', 'крючках', 'ночной', 'карманная', 'прикорневой', 'эфф', 'малая', 'аммиака', 'fashion', 'кера', 'е', 'greenergetik', 'сезона', 'весна', 'oi', 'ботокса', 'lamination', 'белые', 'ресницы15пар', 'корнях', 'жестких', 'natural', 'волосам', 'zslim', '10х88', '04', 'band', 'повязка', 'деревянной', 'enigma', 'плотность', 'ширина', 'пластин', '803', 'bath', 'with', 'плотная', 'base', 'коричнев', 'сетевая', '52', 'краскад', 'вросших', 'wonders', 'фартук', 'до', 'аппл', 'active', 'иммунитета', 'живая', 'damage', 'аллюминевый', 'миндаль', 'hot', 'er', 'адм', 'obsessed', 'солнцезащитный', '650', 'сульф', 'lock', 'ant', 'кристаллы', 'pearl', 'shocking', 'матовым', 'помпа', 'микс', 'обезжириватель', '024', 'zmini', '15х60', 'сандре', 'amplify', 'брашинг', 'rose', 'нейлоновая', 'гиалуроновый', 'cristalinas', 'керамическое', 'en5', 'mega', 'пшеницы', 'профф', 'пинцет', 'поцелуй', 'сохран', 'желтизны', 'фиксацией', 'кератина', 'интенсив', 'spf', 'праймер', 'ha', 'thermo', 'gold', 'образования', 'пыли', 'мяты', 'молоко', 'tan', 'tonic', 'фиол', 'моделирования', 'кокоса', 'полировочный', '450', 'ванильный', 'белого', 'влажные', 'тёмный', 'ретинолом', 'cold', 'рестайлинг', 'облепиховый', 'long', 'бирюзовый', 'epil', 'emulsion', 'clear', 'мелирования', 'эрзац', 'китового', 'уса', 'управление', 'возрастом', 'машина', 'времени', 'ф', 'медных', 'витамины', 'винограда', 'антиоксидантами', 'espresso', 'реструктурант', 'italwax', 'энергетич', 'выжиматель', 'тюбика', 'on', 'master', 'almond', 'блонда', 'т', 'form', 'фазная', 'иссиня', 'золот', 'морская', 'strong', 'структ', 'пантенолом', 'чехле', 'dandruff', 'экранирования', 'кругов', '3oz', '05', 'milk', 'разделительным', 'зубцом', 'remover', 'so', 'невидимки', 'intenso', 'насыщенного', 'тна', 'липучки', 'теплый', 'free', 'экстракт', 'катридже', 'thermal', 'no', 'serum', 'маникюрная', 'acne', 'темных', 'жожоба', '175', 'молекулярный', 'stimulating', 'sensation', 'ультрасильной', 'терапевтическая', 'volute', 'замедления', 'ботекс', 'energe', 'шеллак', 'средних', '99', 'термозащиты', '220', 'липидиум', 'замена', 'алюминиевый', 'scalp', 'kodi', 'верхнее', 'холодного', 'северные', 'ягоды', '2200', 'purify', 'двойная', 'nail', 'женьшень', 'восстанавливающие', 'olive', 'экстремальной', 'носки', 'bourjois', 'purple', 'подготовки', 'супер', 'green', 'cтабилизатор', 'ice', 'крючок', '10p', 'одноразовый', 'э', 'работ', '390589', 'о', 'окрашеных', 'protein', 'керамика', '280', 'пумпа', 'кисточка', 'control', 'янтаря', 'premier', 'ламинирующий', 'непослушных', 'sensitive', 'реконструкция', 'со', 'panda’s', 'шнур', 'металл', 'fresh', 'аккумуляторно', 'гиалуроновая', 'система', 'ключ', 'golden', '730', 'химии', 'quick', 'лакричный', 'фиолетовая', 'термо', 'пастель', 'keratindose']\n"
          ],
          "name": "stdout"
        }
      ]
    },
    {
      "cell_type": "markdown",
      "metadata": {
        "id": "deybPFDDYYyG"
      },
      "source": [
        "**Искомая продвинутая функция**"
      ]
    },
    {
      "cell_type": "code",
      "metadata": {
        "id": "cijwXhveQEoV"
      },
      "source": [
        "def printAdvanced(cluster):\n",
        "    printSize(cluster)\n",
        "    printNumberUniqPositions(cluster)\n",
        "    printPopularPositions(cluster)\n",
        "    printPopularWords(cluster)"
      ],
      "execution_count": null,
      "outputs": []
    },
    {
      "cell_type": "code",
      "metadata": {
        "colab": {
          "base_uri": "https://localhost:8080/"
        },
        "id": "VEaSxksIYMVO",
        "outputId": "71e8a424-e7e7-4024-c795-355291059a3e"
      },
      "source": [
        "printAdvanced(cluster)"
      ],
      "execution_count": null,
      "outputs": [
        {
          "output_type": "stream",
          "text": [
            "Cluster has 1 carts\n",
            "Uniq positions: 181\n",
            "Позиции, которые есть минимум в 20% корзин: [6656, 3585, 3586, 3587, 4612, 3077, 4614, 6162, 2071, 3097, 3104, 3106, 5156, 2086, 2601, 5675, 5676, 1581, 5677, 6193, 3134, 5182, 3136, 4673, 3139, 6211, 5700, 3148, 4685, 590, 6226, 3669, 3671, 5721, 5722, 6236, 3165, 5726, 98, 3682, 100, 103, 104, 1128, 1129, 107, 108, 109, 117, 3190, 5752, 3194, 6267, 5756, 5755, 2687, 1664, 5766, 4746, 5770, 3221, 5785, 1180, 5792, 4769, 1188, 5288, 5290, 5291, 179, 5821, 5825, 1732, 5828, 4298, 6350, 213, 6357, 4318, 747, 1776, 4849, 5362, 1791, 2305, 2307, 2309, 2310, 1804, 1807, 2319, 5391, 4370, 5395, 278, 5910, 5403, 1820, 5915, 287, 1823, 1824, 290, 1827, 1830, 1831, 4903, 2861, 4910, 1841, 1331, 6451, 5429, 1338, 4415, 1864, 3406, 1880, 3416, 1882, 1885, 5470, 1887, 351, 352, 1894, 4461, 6001, 1910, 1911, 1912, 1913, 4983, 3968, 1411, 6534, 3977, 1932, 1934, 1935, 914, 1941, 3989, 4501, 409, 1945, 3487, 1954, 4003, 1956, 4005, 4515, 4520, 5546, 1963, 5036, 1966, 6064, 4017, 1973, 4025, 4026, 4540, 4546, 1987, 4043, 4044, 1999, 6100, 4052, 4056, 4057, 4058, 4061, 479, 2020, 2021, 4588, 6125, 4594, 6650]\n",
            "слова, которые есть минимум в 20% позиций: ['мл', 'для', 'волос', 'крем', 'шампунь', '1000', 'краска', 'с', 'estel', 'маска', 'блонд', 'и', '250', 'kapous', '100', 'бальзам', 'ollin', '200', 'londa', 'color', '1', 'светлый', 'princess', 'essex', '6', 'блондин', 'стойкая', '0', '9', '7', '300', '500', 'пепельный', '10', 'русый', '5', 'спрей', 'otium', 'dewal', '60', '8', 'окрашенных', 'likato', 'фиолетовый', 'кондиционер', 'в', 'de', 'luxe', 'эмульсия', 'коричневый', 'studio', '3', '4', 'серии', 'гр', 'коричнево', 'шатен', 'keratin', 'оксигент', 'оттенков', '250мл', 'маслом', '12', 'фиксации', 'matrix', '150', 'classic', 'л', 'dl', 'масло', 'см', 'д', '50', 'ml', 'curex', 'интенсивного', 'светло', '2', 'пудра', 'окислительная', 'шт', '60мл', 'сыворотка', 'professional', 'oil', 'оттенок', 'темный', 'увлажнения', 'перманентная', 'очень', 'холодных', 'всех', '«kapous»', 'объема', 'мм', 'aqua', 'blonde', 'поврежденных', 'кератин', 'применения', 'серебристый', '750', 'типов', 'ежедневного', 'скраб', 'prima', 'экстрактом', 'увлажнение', 'интенсивное', 'лосьон', 'уход', 'кожи', 'блеск', 'пепельно', 'темно', 'magic', 'care', 'красный', 'светлых', 'новый', 'гель', '16', 'увлажняющий', 'line', 'perfect', 'haute', 'couture', 'лак', 'интенсивный', 'протеинами', 'флюид', 'аргановым', '15', 'бровей', 'восстановление', 'питание', '30', '100мл', 'цвета', 'repair', 'тонирование', 'восстановления', 'velvet', 'beauty', 'тонирующая', 'медный', 'dlse', 'восстанавливающий', 'действия', 'blond', 'фиолетово', '71', 'активатор', 'прямого', 'линии', 'краски', 'wella', '65', 'расческа', 'интенсивная', 'на', 'hair', 'против', 'перламутровый', 'черная', 'увлажняющая', 'me', '75', 'service', 'от', 'сухих', 'софт', 'жемчужный', 'окрашивания', '900', '76', '00', 'черный', 'сильной', 'блеска', '20', 'radiance', 'удаления', 'лица', 'выпадения', 'средство', 'visible', '400', 'золотисто', 'кисть', 'пигмент', 'dls', 'загара', 'специальный', 'volume', 'newtone', 'окислитель', 'airex', 'золотистый', 'защита', 'розовый', 'яркий', 'придания', 'кератином', 'эффектом', 'moisture', 'роста', 'рисовыми', 'brow', 'кератиновая', '11', 'touch', 'солярии', 'кремообразная', 'мусс', 'mask', 'оттеночный', 'жирных', 'комплекс', 'recovery', 'вт', 'обесцвечивания', 'life', 'несмываемый', 'окисляющая', 'luxury', '77', 'socolor', 'hyaluronic', 'hy', '18', 'женьшеня', 'aquatika', 'soffio', 'набор', 'депиляции', 'organic', '81', 'd', 'brown', 'стабилизатор', 'bionika', 'паста', 'седины', '66', 'koleston', 'sync', 'двухфазный', 'it', 'серебристая', 'х', 'рук', 'wellness', 'м', 'смузи', 'cream', 'средне', 'shop', 'дозатор', 'эликсир', 'actiox', '120', 'нормальной', 'shampoo', 'кератиновый', 'revive', 'перхоти', 'масел', '350', 'укладки', 'deep', 'хромоэнергетический', 'медно', 'натуральный', 'коктейль', 'кончиков', 'ламинирование', 'питательный', 'питательная', 'cc', 'головы', 'тонких', 'без', 'тела', 'синий', 'губ', 'oxy', 'вода', 'matisse', '400мл', 'создания', 'экспресс', 'термозащита', 'органик', 'эффект', 'miracle', 'ресниц', 'тон', 'diamond', 'фиксация', 'phase', '21', 'покрытие', 'щетка', 'тоник', 'нормальных', 'секущихся', 'шелк', 'performance', 'сахарная', 'пилка', 'арганы', 'авокадо', '61', 'глаз', 'пилинг', '22', 'кислотой', 'г', '44', 'оливы', 'интенсивно', 'cremoxon', 'сухой', 'алоэ', '38', 'комфорт', 'карандаш', 'style', 'alpha', 'homme', 'реконструктор', 'xtro', 'гладкости', 'illumina', 'holika', '125', '90', 'dual', 'renascence', 'арктический', 'y', 'жидкий', 'хна', 'c', 'black', 'uv', 'сияние', 'порошок', 'комплексом', '180', 'маслами', 'защиты', 'оксид', 'щипцы', 'ног', 'выравнивающий', 'бежевый', '07', 'tony', 'фильтром', 'широкая', 'лп', 'fiber', 'очистки', 'lavant', 'глубокой', 'классический', 'bar', 'moly', 'п', 'антицеллюлитный', 'краситель', 'dgp', 'infusion', 'expert', 'art', 'разглаживающий', '550', 'sheet', 'цвет', 'саше', '43', 'сильная', 'экстрасильной', 'эконом', 'force', 'разглаживания', 'графит', 'фаза', 'минеральный', 'unique', 'восстанавливающая', '45', 'dark', 'and', 'реструктурирующая', 'обесцвечивающая', 'уп', 'q3', 'омолаживающий', '25', 'хвостиком', 'перламутрово', '23', 'welloxon', 'реконструкции', 'ультра', '40', 'очищающий', 'conditioner', 'перманент', 'холодный', 'ягодная', 'роскошь', 'деликатный', 'тканевая', 'ломких', 'перчатки', 'массажная', 'pro', 'vol', 'после', '“blond', 'корректор', 'флаконов', 'ламинирования', 'резинки', 'up', 'био', 'light', 'silk', 'турмалиновое', 'обновляющий', 'шаг', 'пластик', 'антижелтым', '17', 'энергетический', '55', 'объем', '270', 'желтый', 'bar”', 'штифт', 'arganoil', 'ручкой', 'объёма', 'пластиковый', 'masters', 'насосный', 'душа', '20vol', 'регенерирующий', 'curl', 'витаминами', 'размер', '80', 'зажим', 'basic', 'p', 'ослабленных', 'красно', 'аэрозольный', 'помада', '73', 'основе', 'серебро', 'воск', 'спа', 'стимуляции', 'чемпионов', 'anti', 're', 'energy', 'длинных', 'пар', 'мокка', 'платиновый', 'ногтей', '320', 'прикорневого', 'вьющихся', 'update', 'en4', 'batiste', 'top', 'system', 'пена', 'lisap', 'barevival', 'серия', 'конд', 'узкая', 'насос', 'осветляющая', 'plus', 'структуры', 'легкой', 'гофре', 'little', 'wave', 'детский', 'чистый', 'super', 'питания', 'щетиной', 'укрепляющий', 'moire', 'примен', 'хрусталь', 'delikate', 'легкое', 's', 'проявляющая', 'шоколад', 'расчесывание', 'мочевиной', 'ежедн', 'ph5', 'megapolis', '34', '160', '03', 'e', '50мл', 'creme', 'twist', 'процедуры', 'диспенсер', 'плунжером', 'сборе', 'ёмкостей', 'расчесывания', 'рабочая', 'biolage', 'насыщенный', 'colorito', 'тонизирующий', 'фольга', 'терморегулятором', 'мкрон', 'niagara', 'r', 'shine', 'профессиональный', 'оксидант', 'щетина', 'придание', '35', 'xxl', 'oxydant', 'natura', 'siberica', 'серый', 'увлаж', 'биотином', 'молочко', 'full', 'detox', 'белый', 'пенка', 'рулоне', 'профессиональное', 'гиалуроновой', 'термозащитой', 'микстон', 'морской', 'chocolatier', 'eye', 'сэ', 'пластиковым', 'натурально', 'винил', 'охлаждающим', 'шампуней', 'выпрямления', 'завивки', 'пеньюар', 'sleek', 'ореха', 'экстра', 'женьшенем', 'архитектор', '20v', 'черные', 'рядов', 'powder', '31', 'миндаля', '70', 'осветленных', '300мл', 'солью', '96', '500мл', 'восстан', 'thalasso', 'фиолет', 'biotin', 'nectar', 'gel', 'макадамии', 'восстанавливающее', 'укрепления', '19', '200мл', 'treatment', 'по', 'расплавленный', 'альгинатная', 'насадки', 'keen', 'elements', 'осветляющий', 'smooth', 'иланг', 'ножницы', 'универсальная', 'men', '116', 'polish', 'кератирование', 'сандрэ', 'окр', 'разглаживающее', 'воротнички', 'липучке', 'жирной', 'миска', 'деревянная', 'ultimate', 'red', 'частого', '240', 'фен', 'красоты', 'светл', 'натуральная', 'нейтральный', 'прямые', 'флакон', 'пшеничными', 'серо', 'плойка', 'a', 'обесцвечивающий', '№1', 'снятия', 'stress', 'ремонт', '36', 'натуральным', 'ангел', 'intense', 'рн', 'profound', 'booster', 'luxeoil', 'sp', 'штифтом', 'йогуртом', 'натоптышей', '1л', 'collagen', 'гребень', 'orly®', 'vital', 'silver', 'прозрачный', 'violet', 'кудрявых', 'глубокий', 'средняя', 'жемчужно', 'ментолом', 'цветной', 'выравнивания', '13', 'патчи', 'keraless', '89', 'пепльно', 'блондинок', 'тушь', 'активированным', '26', 'седых', 'fluid', 'patch', 'фуксия', 'поддержание', 'силиконовые', 'энергетик', 'ампулы', 'глиоксиловой', 'glyoxysleek', 'бигуди', 'koloris', 'kl', 'чаша', \"m'use\", 'пастельный', '01', 't', 'будет', 'баночке', 'риса', 'sun', 'не', 'кислотами', 'ароматом', '28', 'l', '56', '10vol', 'spray', 'кутикулы', 'white', 'приготовления', 'окрашивающих', 'смесей', 'коклюшки', 'парикмахерский', 'intensive', '88', 'углем', 'стрижки', 'зеленый', 'титаново', '10амп', 'жемчуг', 'дыня', 'перед', 'impressive', 'solargel', 'термобрашенг', 'стайлинг', '37', 'льна', 'под', 'чувствительной', 'сияния', 'черного', 'розовая', 'acid', 'сладкого', 'new', 'терапевтический', 'in', 'анти', 'белая', '№3', 'мини', 'волна', 'ms', 'концентрат', 'midi', '02', 'pureness', 'triumph', 'универсальный', 'выпрямители', 'глубокого', 'коллагеном', 'коробке', 'нектар', 'антистатик', 'g', 'жидкие', 'полоски', '15мл', '5мл', 'hydra', 'матовый', 'парафин', \"man's\", '110', 'термозащитный', 'керамико', 'power', 'теплозащитный', 'лака', '00n', 'пластины', 'наносеребром', 'облегчение', 'тальк', 'my', 'smoother', 'na', 'дерево', 'очищение', '722', 'for', 'blue', 'spa', 'к', 'усилитель', 'эластичной', 'protect', 'оранжевый', 'черной', 'легкий', 'туннельная', '2мл', 'bleaching', 'developer', 'сохраняющий', 'пепель', 'лезвие', 'vision', 'stop', '06', 'шёлковая', 'пластичная', 'отдушек', 'добавок', 'лопата', 'жемч', 'маникюрные', '9605', 'банан', 'ombrage', 'ash', 'straight', 'tres', 'манго', 'element', 'индиго', 'grey', 'cosmetics', 'жидкое', 'полотенце', 'резинкой', 'дне', 'парикмахерских', 'безаммиачный', 'стойкий', 'розовое', 'использования', 'миндального', 'en1', '“styling”', 'help', 'термоащитой', 'умывания', '33', 'жемчуж', 'депиляцией', 'коричневая', 'защитный', 'щётка', 'живица', 'комбинированная', 'ополаскиватель', '14', 'daily', 'металлическим', '3d', 'коричневых', 'нейтрализатор', '750мл', 'микрогранулах', 'капли', 'шугаринга', 'махагоновый', 'прозрачная', 'сливки', 'смола', 'мумие', 'nourishing', 'фруктовыми', 'finish', 'проблемной', 'fast', 'gloss', 'брасс', 'офф', 'мерный', 'стакан', 'ионокерамика', 'smart', 'бриллиантовый', 'глина', 'лучей', 'ми', 'картридже', 'бамбука', 'драгоценное', 'голубая', '№2', 'gray', 'cool', 'i’m', 'real', 'пе', 'dry', 'тени', '1000мл', 'локонов', 'ж', 'товар', 'cuticle', 'ehko', 'релакс', 'titanium', 'cветлый', 'голубой', 'логотипом', 'en3', 'талассотерапия', 'моделирующий', 'profi', 'mango', 'кусачки', 'нежный', 'восстанавление', 'сливочный', 'горячая', 'терапия', 'colour', '5000', 'ламинированных', 'save', 'стекло', 'aha', 'глаза', 'peel', 'карамель', 'co', 'коричневые', 'массажа', 'pink', 'мужчин', 'укрепляющая', 'вуаль', 'complex', 'u', 'fix', '260', 'стандартная', 'косметическая', 'снят', 'поврежд', 'голубые', 'coco', 'sf', 'цветные', 'синяя', 'салфетки', 'суперосветляющий', 'сильно', 'keraplant', 'средней', 'актив', 'ионизация', 'очищения', 'амулет', 'one', 'vitamin', 'кутикул', 'салонный', 'мицеллярная', 'purifying', 'машинка', '32', 'сторонняя', 'филировочные', 'баланс', 'фиксаж', '74', 'маракуйя', 'lift', 'easy', 'двойное', 'lk', 'зебра', 'кокос', 'холодная', 'распылитель', 'термобрашинг', 'скошенная', 'витаминный', 'молодости', 'освежающий', '250ml', 'рост', 'skin', 'nano', '46', 'уф', 'солнечный', 'root', 'пленка', 'ножниц', 'шпильки', 'овальная', '41', 'dream', 'ат', 'палисандр', 'start', 'definer', 'step', 'ультрапитательный', 'структур', 'жирности', 'усиленный', 'р', 'виши', 'enzyme', 'мягкая', 'долговременной', 'стимулятор', 'curly', '117', 'мицеллярный', 'салфетка', 'воротничок', 'пластом', 'упаковке', 'за', 'пастельного', 'тонирования', '62', 'оранжевая', 'консистенции', 'лифтинг', 'mini', 'арома', 'ухода', 'волнистой', 'аква', 'cuticule', 'брюле', '210', 'chocolate', 'ши', 'мягкий', 'трудноподдающихся', 'мыло', 'век', 'репейника', '30vol', 'очищающая', 'extra', '101', 'полиэтилен', 'helix', 'град', 'bond', 'cпрей', 'ul', 'лето', 'вера', 'мокко', '54', 'as', 'double', 'dare', 'omg', 'ежедневный', 'мороженое', 'styling', '161', 'n', 'роза', 'set', 'flower', 'белой', 'пластмассовым', 'фазный', 'золотой', 'прямоугольная', 'essence', 'macadamia', 'мед', 'начеса', 'малина', 'ля', 'рош', 'позе', 'high', 'солнца', 'organza', '5vol', 'филлер', 'сине', 'диффузор', 'терка', 'химической', 'какао', '№', 'лаванды', 'термозащищающий', 'бабочка', 'бумажные', 'воздушный', 'dramatize', 'lifting', 'сложении', 'химических', 'spark', 'ампул', 'коноплей', 'банке', 'экстремального', 'релакса', 'карите', 'antiage100', 'абсолют', 'голд', 'дренажная', 'сухого', 'активизирующий', '93', 'блок', \"lucas'\", '08', 'мгновенное', 'крючках', 'ночной', 'карманная', 'прикорневой', 'эфф', 'малая', 'аммиака', 'fashion', 'кера', 'е', 'greenergetik', 'сезона', 'весна', 'oi', 'ботокса', 'lamination', 'белые', 'ресницы15пар', 'корнях', 'жестких', 'natural', 'волосам', 'zslim', '10х88', '04', 'band', 'повязка', 'деревянной', 'enigma', 'плотность', 'ширина', 'пластин', '803', 'bath', 'with', 'плотная', 'base', 'коричнев', 'сетевая', '52', 'краскад', 'вросших', 'wonders', 'фартук', 'до', 'аппл', 'active', 'иммунитета', 'живая', 'damage', 'аллюминевый', 'миндаль', 'hot', 'er', 'адм', 'obsessed', 'солнцезащитный', '650', 'сульф', 'lock', 'ant', 'кристаллы', 'pearl', 'shocking', 'матовым', 'помпа', 'микс', 'обезжириватель', '024', 'zmini', '15х60', 'сандре', 'amplify', 'брашинг', 'rose', 'нейлоновая', 'гиалуроновый', 'cristalinas', 'керамическое', 'en5', 'mega', 'пшеницы', 'профф', 'пинцет', 'поцелуй', 'сохран', 'желтизны', 'фиксацией', 'кератина', 'интенсив', 'spf', 'праймер', 'ha', 'thermo', 'gold', 'образования', 'пыли', 'мяты', 'молоко', 'tan', 'tonic', 'фиол', 'моделирования', 'кокоса', 'полировочный', '450', 'ванильный', 'белого', 'влажные', 'тёмный', 'ретинолом', 'cold', 'рестайлинг', 'облепиховый', 'long', 'бирюзовый', 'epil', 'emulsion', 'clear', 'мелирования', 'эрзац', 'китового', 'уса', 'управление', 'возрастом', 'машина', 'времени', 'ф', 'медных', 'витамины', 'винограда', 'антиоксидантами', 'espresso', 'реструктурант', 'italwax', 'энергетич', 'выжиматель', 'тюбика', 'on', 'master', 'almond', 'блонда', 'т', 'form', 'фазная', 'иссиня', 'золот', 'морская', 'strong', 'структ', 'пантенолом', 'чехле', 'dandruff', 'экранирования', 'кругов', '3oz', '05', 'milk', 'разделительным', 'зубцом', 'remover', 'so', 'невидимки', 'intenso', 'насыщенного', 'тна', 'липучки', 'теплый', 'free', 'экстракт', 'катридже', 'thermal', 'no', 'serum', 'маникюрная', 'acne', 'темных', 'жожоба', '175', 'молекулярный', 'stimulating', 'sensation', 'ультрасильной', 'терапевтическая', 'volute', 'замедления', 'ботекс', 'energe', 'шеллак', 'средних', '99', 'термозащиты', '220', 'липидиум', 'замена', 'алюминиевый', 'scalp', 'kodi', 'верхнее', 'холодного', 'северные', 'ягоды', '2200', 'purify', 'двойная', 'nail', 'женьшень', 'восстанавливающие', 'olive', 'экстремальной', 'носки', 'bourjois', 'purple', 'подготовки', 'супер', 'green', 'cтабилизатор', 'ice', 'крючок', '10p', 'одноразовый', 'э', 'работ', '390589', 'о', 'окрашеных', 'protein', 'керамика', '280', 'пумпа', 'кисточка', 'control', 'янтаря', 'premier', 'ламинирующий', 'непослушных', 'sensitive', 'реконструкция', 'со', 'panda’s', 'шнур', 'металл', 'fresh', 'аккумуляторно', 'гиалуроновая', 'система', 'ключ', 'golden', '730', 'химии', 'quick', 'лакричный', 'фиолетовая', 'термо', 'пастель', 'keratindose']\n"
          ],
          "name": "stdout"
        }
      ]
    },
    {
      "cell_type": "markdown",
      "metadata": {
        "id": "hF8p2ggfKZao"
      },
      "source": [
        ""
      ]
    },
    {
      "cell_type": "markdown",
      "metadata": {
        "id": "r-FFE2dvlrTO"
      },
      "source": [
        "## **PRO** \n",
        "\n",
        "\n"
      ]
    },
    {
      "cell_type": "markdown",
      "metadata": {
        "id": "xZlNB9_zK7MR"
      },
      "source": [
        "### **Вариант 1**\n",
        "\n",
        "Задание по кластеризации слов в Embedding пространстве\n",
        "1. Возьмите любую текстовую базу (например, базу книг писателей из наших  прошлых занятий)\n",
        "2. Сделайте классификатор с embedding слоем в начале (не Bag of words)\n",
        "3. Обучите классификатор\n",
        "4. Возьмите предобученный embedding слой и перегоните все слова из полного словаря в embedding пространство\n",
        "5. Запустите кластеризацию\n",
        "6. Выведите устойчивые классы слов\n",
        "7. Проведите для разного числа классов и разной размерности embedding пространства\n",
        "8. Напишите выводы"
      ]
    },
    {
      "cell_type": "markdown",
      "metadata": {
        "id": "sGhEXE42XLRE"
      },
      "source": [
        "#### 1. Возьмите любую текстовую базу (например, базу книг писателей из наших  прошлых занятий)\n"
      ]
    },
    {
      "cell_type": "code",
      "metadata": {
        "id": "l0eChlX_nIRF"
      },
      "source": [
        "# Загружаем базу писателей\n",
        "# Указываем путь к базе в Google Drive, создаем папку texts и извлекаем туда базу\n",
        "!unzip -q '/content/drive/My Drive/Colab Notebooks/Базы/Тексты писателей.zip' -d /content/texts "
      ],
      "execution_count": null,
      "outputs": []
    },
    {
      "cell_type": "code",
      "metadata": {
        "id": "XJHCk68UnJYK"
      },
      "source": [
        "def readText(fileName): # Объявляем функции для чтения файла. На вход отправляем путь к файлу\n",
        "  f = open(fileName, 'r')        # Задаем открытие нужного файла в режиме чтения\n",
        "  text = f.read()                # Читаем текст\n",
        "  text = text.replace(\"\\n\", \" \") # Переносы строки переводим в пробелы\n",
        "  \n",
        "  return text                    # Возвращаем текст файла\n",
        "\n",
        "className = [\"О. Генри\", \"Стругацкие\", \"Булгаков\", \"Саймак\", \"Фрай\", \"Брэдберри\"] # Объявляем интересующие нас классы\n",
        "nClasses = len(className) # Считаем количество классов\n",
        "\n",
        "# Формирование обучающей выборки по листу индексов слов\n",
        "# (разделение на короткие векторы)\n",
        "def getSetFromIndexes(wordIndexes, xLen, step): # функция принимает последовательность индексов, размер окна, шаг окна\n",
        "  xSample = [] # Объявляем переменную для векторов\n",
        "  wordsLen = len(wordIndexes) # Считаем количество слов\n",
        "  index = 0 # Задаем начальный индекс \n",
        "\n",
        "  while (index + xLen <= wordsLen):# Идём по всей длине вектора индексов\n",
        "    xSample.append(wordIndexes[index:index+xLen]) # \"Откусываем\" векторы длины xLen\n",
        "    index += step # Смещаеммся вперёд на step\n",
        "    \n",
        "  return xSample\n",
        "  \n",
        "# Формирование обучающей и проверочной выборки\n",
        "# Из двух листов индексов от двух классов\n",
        "def createSetsMultiClasses(wordIndexes, xLen, step): # Функция принимает последовательность индексов, размер окна, шаг окна\n",
        "\n",
        "  # Для каждого из 6 классов\n",
        "  # Создаём обучающую/проверочную выборку из индексов\n",
        "  nClasses = len(wordIndexes) # Задаем количество классов выборки\n",
        "  classesXSamples = []        # Здесь будет список размером \"кол-во классов*кол-во окон в тексте*длину окна (например, 6 по 1341*1000)\"\n",
        "  for wI in wordIndexes:      # Для каждого текста выборки из последовательности индексов\n",
        "    classesXSamples.append(getSetFromIndexes(wI, xLen, step)) # Добавляем в список очередной текст индексов, разбитый на \"кол-во окон*длину окна\" \n",
        "\n",
        "  # Формируем один общий xSamples\n",
        "  xSamples = [] # Здесь будет список размером \"суммарное кол-во окон во всех текстах*длину окна (например, 15779*1000)\"\n",
        "  ySamples = [] # Здесь будет список размером \"суммарное кол-во окон во всех текстах*вектор длиной 6\"\n",
        "  \n",
        "  for t in range(nClasses): # В диапазоне кол-ва классов(6)\n",
        "    xT = classesXSamples[t] # Берем очередной текст вида \"кол-во окон в тексте*длину окна\"(например, 1341*1000)\n",
        "    for i in range(len(xT)): # И каждое его окно\n",
        "      xSamples.append(xT[i]) # Добавляем в общий список выборки\n",
        "      ySamples.append(utils.to_categorical(t, nClasses)) # Добавляем соответствующий вектор класса\n",
        "\n",
        "  xSamples = np.array(xSamples) # Переводим в массив numpy для подачи в нейронку\n",
        "  ySamples = np.array(ySamples) # Переводим в массив numpy для подачи в нейронку\n",
        "\n",
        "  \n",
        "  return (xSamples, ySamples) #Функция возвращает выборку и соответствующие векторы классов\n"
      ],
      "execution_count": null,
      "outputs": []
    },
    {
      "cell_type": "code",
      "metadata": {
        "id": "HATTCYpDvsiB"
      },
      "source": [
        "# Класс строит график всего обучения, состоявшего из нескольких этапов.\n",
        "class LearnHistory:\n",
        "    def __init__(self):\n",
        "        self.history = {'loss':[], 'val_loss': []}\n",
        "\n",
        "    def append(self, history):\n",
        "        self.history['loss'].extend(history.history['loss'])\n",
        "        self.history['val_loss'].extend(history.history['val_loss'])\n",
        "\n",
        "    def plot(self, ylim=None):\n",
        "        ep = [i+1 for i in range(len(self.history['loss']))]\n",
        "        plt.plot(ep, self.history['loss'], label='MSE на обучающем наборе')\n",
        "        plt.plot(ep, self.history['val_loss'], label='MSE на проверочном наборе')\n",
        "        plt.ylabel('Средняя ошибка')\n",
        "        plt.xlabel('Эпоха')\n",
        "        if ylim is not None:\n",
        "            plt.ylim(0, ylim)\n",
        "        plt.title('История обучения')\n",
        "        plt.grid()\n",
        "        plt.legend()\n",
        "        plt.show()"
      ],
      "execution_count": null,
      "outputs": []
    },
    {
      "cell_type": "code",
      "metadata": {
        "colab": {
          "base_uri": "https://localhost:8080/"
        },
        "id": "ZoIzr-fN7DKa",
        "outputId": "29a9179f-318d-4310-a52d-59bd99ffa7f6"
      },
      "source": [
        "trainText = [] #Формируем обучающие тексты\n",
        "testText = [] #Формируем тестовые тексты\n",
        "\n",
        "#Формирование необходимо произвести следующим образом \n",
        "#Класс каждого i-ого эллемента в обучающей выборке должен соответствовать \n",
        "#классу каждого i-ого эллемента в тестовой выборке\n",
        "\n",
        "for i in className: #Проходим по каждому классу\n",
        "  for j in os.listdir('texts/'): #Проходим по каждому файлу в папке с текстами #\n",
        "    if i in j: #Проверяем, содержит ли файл j в названии имя класса i\n",
        "      \n",
        "      if 'Обучающая' in j: #Если в имени найденного класса есть строка \"Обучающая\" \n",
        "        trainText.append(readText('texts/' + j)) #добавляем в обучающую выборку\n",
        "        print(j, 'добавлен в обучающую выборку') #Выводим информацию\n",
        "      if 'Тестовая' in j: #Если в имени найденного класса есть строка \"Тестовая\"\n",
        "        testText.append(readText('texts/' + j)) #добавляем в обучающую выборку\n",
        "        print(j, 'добавлен в тестовую выборку') #Выводим информацию\n",
        "  print()"
      ],
      "execution_count": null,
      "outputs": [
        {
          "output_type": "stream",
          "text": [
            "(О. Генри) Тестовая_20 вместе.txt добавлен в тестовую выборку\n",
            "(О. Генри) Обучающая_50 вместе.txt добавлен в обучающую выборку\n",
            "\n",
            "(Стругацкие) Обучающая_5 вместе.txt добавлен в обучающую выборку\n",
            "(Стругацкие) Тестовая_2 вместе.txt добавлен в тестовую выборку\n",
            "\n",
            "(Булгаков) Тестовая_2 вместе.txt добавлен в тестовую выборку\n",
            "(Булгаков) Обучающая_5 вместе.txt добавлен в обучающую выборку\n",
            "\n",
            "(Клиффорд_Саймак) Тестовая_2 вместе.txt добавлен в тестовую выборку\n",
            "(Клиффорд_Саймак) Обучающая_5 вместе.txt добавлен в обучающую выборку\n",
            "\n",
            "(Макс Фрай) Обучающая_5 вместе.txt добавлен в обучающую выборку\n",
            "(Макс Фрай) Тестовая_2 вместе.txt добавлен в тестовую выборку\n",
            "\n",
            "(Рэй Брэдберри) Обучающая_22 вместе.txt добавлен в обучающую выборку\n",
            "(Рэй Брэдберри) Тестовая_8 вместе.txt добавлен в тестовую выборку\n",
            "\n"
          ],
          "name": "stdout"
        }
      ]
    },
    {
      "cell_type": "code",
      "metadata": {
        "id": "RMwhIRdQpu5Q"
      },
      "source": [
        "# Задаём базовые параметры\n",
        "xLen = 1000  # Длина отрезка текста, по которой анализируем, в словах\n",
        "step = 100  # Шаг разбиения исходного текста на обучающие векторы\n",
        "maxWordsCount = 50000\n",
        "tokenizer = Tokenizer(num_words=maxWordsCount, filters='!\"#$%&()*+,-–—./…:;<=>?@[\\\\]^_`{|}~«»\\t\\n\\xa0\\ufeff', lower=True, split=' ', oov_token='unknown', char_level=False)\n",
        "tokenizer.fit_on_texts(trainText)\n",
        "# Преобразовываем текст в последовательность индексов согласно частотному словарю\n",
        "trainWordIndexes = tokenizer.texts_to_sequences(trainText) # Обучающие тесты в индексы\n",
        "testWordIndexes = tokenizer.texts_to_sequences(testText)  # Проверочные тесты в индексы\n",
        "# Формируем обучающую и тестовую выборку\n",
        "xTrain, yTrain = createSetsMultiClasses(trainWordIndexes, xLen, step)  # извлекаем обучающую выборку\n",
        "xTest, yTest = createSetsMultiClasses(testWordIndexes, xLen, step)    # извлекаем тестовую выборку"
      ],
      "execution_count": null,
      "outputs": []
    },
    {
      "cell_type": "code",
      "metadata": {
        "colab": {
          "base_uri": "https://localhost:8080/"
        },
        "id": "PVHgvKvZpgRc",
        "outputId": "0ed50a67-dbce-42e0-84ce-65d54da299ba"
      },
      "source": [
        "xTrain.shape, yTrain.shape, xTest.shape, yTest.shape"
      ],
      "execution_count": null,
      "outputs": [
        {
          "output_type": "execute_result",
          "data": {
            "text/plain": [
              "((17640, 1000), (17640, 6), (6686, 1000), (6686, 6))"
            ]
          },
          "metadata": {
            "tags": []
          },
          "execution_count": 10
        }
      ]
    },
    {
      "cell_type": "markdown",
      "metadata": {
        "id": "9JtU7W7dXTFf"
      },
      "source": [
        "#### 2. Сделайте классификатор с embedding слоем в начале"
      ]
    },
    {
      "cell_type": "code",
      "metadata": {
        "id": "FWq4uaa0pgcj"
      },
      "source": [
        "def createEmbeddingModel(dim=128, xLen=1000, neurons=1024, activation='softmax'):\n",
        "    inp = Input(shape=(xLen))\n",
        "    emb = Embedding(maxWordsCount, dim, input_length=xLen)(inp)\n",
        "    x = SpatialDropout1D(0.2)(emb)\n",
        "    x = Flatten()(x)\n",
        "    x = BatchNormalization()(x)\n",
        "    x = Dense(neurons, activation=\"relu\")(x)\n",
        "    x = Dropout(0.2)(x)\n",
        "    x = BatchNormalization()(x)\n",
        "    out = Dense(6, activation='softmax')(x)\n",
        "\n",
        "    model = Model(inp, out)\n",
        "    embed = Model(inp, emb)\n",
        "\n",
        "    model.compile(optimizer='adam', \n",
        "                loss='categorical_crossentropy', \n",
        "                metrics=['accuracy'])\n",
        "    return model, embed"
      ],
      "execution_count": null,
      "outputs": []
    },
    {
      "cell_type": "markdown",
      "metadata": {
        "id": "k65hN1-VXkgZ"
      },
      "source": [
        "#### 3. Обучите классификатор"
      ]
    },
    {
      "cell_type": "code",
      "metadata": {
        "id": "Q5hzw_G-mXAm"
      },
      "source": [
        "lh = LearnHistory()\n",
        "model, embed = createEmbeddingModel()"
      ],
      "execution_count": null,
      "outputs": []
    },
    {
      "cell_type": "code",
      "metadata": {
        "colab": {
          "base_uri": "https://localhost:8080/",
          "height": 631
        },
        "id": "7XNJzDTQpgiu",
        "outputId": "5483cab3-4d83-462e-d263-183084196927"
      },
      "source": [
        "history = model.fit(xTrain, \n",
        "                    yTrain, \n",
        "                    epochs=10,\n",
        "                    batch_size=128,\n",
        "                    verbose=1,\n",
        "                    validation_data=(xTest, yTest))\n",
        "lh.append(history)\n",
        "lh.plot()"
      ],
      "execution_count": null,
      "outputs": [
        {
          "output_type": "stream",
          "text": [
            "Epoch 1/10\n",
            "138/138 [==============================] - 22s 157ms/step - loss: 0.9056 - accuracy: 0.8256 - val_loss: 3.2076 - val_accuracy: 0.1611\n",
            "Epoch 2/10\n",
            "138/138 [==============================] - 21s 155ms/step - loss: 0.0074 - accuracy: 0.9997 - val_loss: 1.4733 - val_accuracy: 0.4753\n",
            "Epoch 3/10\n",
            "138/138 [==============================] - 22s 156ms/step - loss: 0.0025 - accuracy: 0.9999 - val_loss: 1.3969 - val_accuracy: 0.4783\n",
            "Epoch 4/10\n",
            "138/138 [==============================] - 21s 156ms/step - loss: 0.0012 - accuracy: 1.0000 - val_loss: 1.3137 - val_accuracy: 0.5387\n",
            "Epoch 5/10\n",
            "138/138 [==============================] - 22s 156ms/step - loss: 7.4373e-04 - accuracy: 1.0000 - val_loss: 1.3280 - val_accuracy: 0.5672\n",
            "Epoch 6/10\n",
            "138/138 [==============================] - 21s 155ms/step - loss: 4.7771e-04 - accuracy: 1.0000 - val_loss: 1.3667 - val_accuracy: 0.5793\n",
            "Epoch 7/10\n",
            "138/138 [==============================] - 21s 155ms/step - loss: 4.8356e-04 - accuracy: 0.9999 - val_loss: 1.4051 - val_accuracy: 0.5790\n",
            "Epoch 8/10\n",
            "138/138 [==============================] - 21s 154ms/step - loss: 3.2851e-04 - accuracy: 1.0000 - val_loss: 1.4168 - val_accuracy: 0.5805\n",
            "Epoch 9/10\n",
            "138/138 [==============================] - 21s 154ms/step - loss: 2.7526e-04 - accuracy: 1.0000 - val_loss: 1.4109 - val_accuracy: 0.5863\n",
            "Epoch 10/10\n",
            "138/138 [==============================] - 21s 154ms/step - loss: 1.8115e-04 - accuracy: 1.0000 - val_loss: 1.4182 - val_accuracy: 0.5872\n"
          ],
          "name": "stdout"
        },
        {
          "output_type": "display_data",
          "data": {
            "image/png": "[encoded data removed]",
            "text/plain": [
              "<Figure size 432x288 with 1 Axes>"
            ]
          },
          "metadata": {
            "tags": [],
            "needs_background": "light"
          }
        }
      ]
    },
    {
      "cell_type": "markdown",
      "metadata": {
        "id": "4EKUbOIRMl-Z"
      },
      "source": [
        "#### 4. Возьмите предобученный embedding слой и перегоните все слова из полного словаря в embedding пространство\n"
      ]
    },
    {
      "cell_type": "code",
      "metadata": {
        "id": "bmR6osiipgWb",
        "colab": {
          "base_uri": "https://localhost:8080/"
        },
        "outputId": "c3965b3f-131e-4bea-f8be-e6debe55e116"
      },
      "source": [
        "# преобразуем словарь в двумерный массив\n",
        "ids = np.array([i for i in range(maxWordsCount)]).reshape(-1, xLen)\n",
        "ids.shape"
      ],
      "execution_count": null,
      "outputs": [
        {
          "output_type": "execute_result",
          "data": {
            "text/plain": [
              "(50, 1000)"
            ]
          },
          "metadata": {
            "tags": []
          },
          "execution_count": 14
        }
      ]
    },
    {
      "cell_type": "code",
      "metadata": {
        "id": "vPymZMAfnIBz",
        "colab": {
          "base_uri": "https://localhost:8080/"
        },
        "outputId": "fcf89a60-3033-4688-9da5-fa27cc5afd9c"
      },
      "source": [
        "# делаем предикт\n",
        "dim = 128\n",
        "zTrain = embed.predict(ids)\n",
        "zTrain = zTrain.reshape(-1, dim)\n",
        "zTrain.shape"
      ],
      "execution_count": null,
      "outputs": [
        {
          "output_type": "execute_result",
          "data": {
            "text/plain": [
              "(50000, 128)"
            ]
          },
          "metadata": {
            "tags": []
          },
          "execution_count": 15
        }
      ]
    },
    {
      "cell_type": "markdown",
      "metadata": {
        "id": "soVQ1MslNS9o"
      },
      "source": [
        "В результате получилось 50000 векторов размерности 128"
      ]
    },
    {
      "cell_type": "markdown",
      "metadata": {
        "id": "gt5LpAHbMa6n"
      },
      "source": [
        "#### 5. Запустите кластеризацию"
      ]
    },
    {
      "cell_type": "markdown",
      "metadata": {
        "id": "wZJ7jMR8Xz0t"
      },
      "source": [
        "Попробуем кластеризовать слова по писателям. "
      ]
    },
    {
      "cell_type": "code",
      "metadata": {
        "id": "kS4qFGCTN1Fb"
      },
      "source": [
        "km = KMeans(6)\n",
        "km.fit(zTrain)\n",
        "\n",
        "pred = km.predict(zTrain)"
      ],
      "execution_count": null,
      "outputs": []
    },
    {
      "cell_type": "code",
      "metadata": {
        "colab": {
          "base_uri": "https://localhost:8080/"
        },
        "id": "K_lLUSvJN1Am",
        "outputId": "68e79be1-aa02-4dc7-ca78-5a2d6cbe2226"
      },
      "source": [
        "pred[:20]"
      ],
      "execution_count": null,
      "outputs": [
        {
          "output_type": "execute_result",
          "data": {
            "text/plain": [
              "array([1, 1, 5, 0, 3, 4, 3, 1, 4, 5, 5, 2, 3, 1, 3, 3, 0, 3, 1, 0],\n",
              "      dtype=int32)"
            ]
          },
          "metadata": {
            "tags": []
          },
          "execution_count": 17
        }
      ]
    },
    {
      "cell_type": "code",
      "metadata": {
        "colab": {
          "base_uri": "https://localhost:8080/",
          "height": 315
        },
        "id": "n2NPMmmIPopN",
        "outputId": "b7b3dda4-2ece-4a41-9758-3521afd17754"
      },
      "source": [
        "%%time\n",
        "n_clusters = 20               # Зададим количество кластеров\n",
        "cost = []                     # Создаем пустой список\n",
        "for i in range(1, n_clusters): # Пробегаем по списку от 1 до n_clusters\n",
        "    kmean = KMeans(i)           # Создаем объект KMeans с i-классами\n",
        "    kmean.fit(zTrain)   # Проводим кластеризацию zTrain\n",
        "    cost.append(kmean.inertia_) # Добавляем в cost элемент kmean.inertia_\n",
        "    print(i, end=' ')\n",
        "print()\n",
        "  \n",
        "# inertia_ - это среднее растояние от точек до центров их классов\n",
        "# Может использоваться для подбора оптимального количества классов \n",
        "\n",
        "# Отобразим значения списка cost на графике\n",
        "plt.plot([i for i in range(1, n_clusters)], cost, 'bx-')\n",
        "plt.show()"
      ],
      "execution_count": null,
      "outputs": [
        {
          "output_type": "stream",
          "text": [
            "1 2 3 4 5 6 7 8 9 10 11 12 13 14 15 16 17 18 19 \n"
          ],
          "name": "stdout"
        },
        {
          "output_type": "display_data",
          "data": {
            "image/png": "[encoded data removed]",
            "text/plain": [
              "<Figure size 432x288 with 1 Axes>"
            ]
          },
          "metadata": {
            "tags": [],
            "needs_background": "light"
          }
        },
        {
          "output_type": "stream",
          "text": [
            "CPU times: user 15min 6s, sys: 1min 16s, total: 16min 23s\n",
            "Wall time: 14min 51s\n"
          ],
          "name": "stdout"
        }
      ]
    },
    {
      "cell_type": "markdown",
      "metadata": {
        "id": "GGZJkVwRWjnu"
      },
      "source": [
        "#### 6. Выведите устойчивые классы слов"
      ]
    },
    {
      "cell_type": "code",
      "metadata": {
        "id": "jx7s77KFPokj"
      },
      "source": [
        "km = KMeans(200)\n",
        "km.fit(zTrain)\n",
        "\n",
        "pred = km.predict(zTrain)"
      ],
      "execution_count": null,
      "outputs": []
    },
    {
      "cell_type": "code",
      "metadata": {
        "colab": {
          "base_uri": "https://localhost:8080/"
        },
        "id": "PJom3g_wqCO2",
        "outputId": "f30e0fac-1f00-40a4-cd93-bc1bfce3f4fa"
      },
      "source": [
        "pred[:10]"
      ],
      "execution_count": null,
      "outputs": [
        {
          "output_type": "execute_result",
          "data": {
            "text/plain": [
              "array([175, 109, 182, 150,  80,  59, 168,  41, 115,  69], dtype=int32)"
            ]
          },
          "metadata": {
            "tags": []
          },
          "execution_count": 20
        }
      ]
    },
    {
      "cell_type": "code",
      "metadata": {
        "colab": {
          "base_uri": "https://localhost:8080/"
        },
        "id": "d9ai308asDtq",
        "outputId": "9fc29720-61ec-4150-95ab-a17bdd412f59"
      },
      "source": [
        "voc = [i for i in range(50000)]\n",
        "voc[:10]"
      ],
      "execution_count": null,
      "outputs": [
        {
          "output_type": "execute_result",
          "data": {
            "text/plain": [
              "[0, 1, 2, 3, 4, 5, 6, 7, 8, 9]"
            ]
          },
          "metadata": {
            "tags": []
          },
          "execution_count": 21
        }
      ]
    },
    {
      "cell_type": "code",
      "metadata": {
        "colab": {
          "base_uri": "https://localhost:8080/"
        },
        "id": "oTwhxG0cpz-H",
        "outputId": "9a0dba61-e7ad-4dee-de44-e8ee0e94944f"
      },
      "source": [
        "\n",
        "for i in range(10): # Посмотрим на первые 10 (из 200) кластеров.\n",
        "    cnt = 0\n",
        "    print(\"cluster #%d\"%i, end=\": \")\n",
        "    for j in range(50000):\n",
        "        if pred[j] == i:\n",
        "            print(tokenizer.index_word[j], end=\" \")\n",
        "            cnt += 1\n",
        "            if cnt == 20:\n",
        "                print()\n",
        "                break\n"
      ],
      "execution_count": null,
      "outputs": [
        {
          "output_type": "stream",
          "text": [
            "cluster #0: речь минуты странное ушли надеялся точки замер автомобиль чувствуя картер добрался последняя тяжелые рту стеной войне рухнул ситуацию бить морда \n",
            "cluster #1: даже вдруг люди понимаю которых ту язык смотрела муж захотелось буквально ненавижу будущем пятна глядели плакать пандарей шума шумно целые \n",
            "cluster #2: знаю руки следовало некоторых правило роман вернусь четверть сцену дно умеют дважды села брось помахал трубке описать скрип работой знакомое \n",
            "cluster #3: история пришла отчего иш поставить человеческой налил упрямо увидели фабиан спокойствие расскажи поиски ого мостовую часовой деятельности имейте шестой упали \n",
            "cluster #4: к бы посмотреть играть театр слышно коралио миру пахло д сволочь бормотал керни поехал вторая царь нога уходит 15 сумасшедший \n",
            "cluster #5: одна десять поднял никого вопросы битти пускай хорошее понадобится столовой высокий кости амобилера пола белыми безусловно спрашивать крыльце удалился нажал \n",
            "cluster #6: всякого войны трудом честное гостей твоим школе удавалось 13 деньгами искал кошек границы отказаться нормальный жрать большими направлению красной пьян \n",
            "cluster #7: вместе деле прошел фыркнул состояние интересом обстоятельствах прошлого присутствие уверенно всякое мысленно единой подать халате выбрался слышит госпожи камрой старше \n",
            "cluster #8: глазами против полковник человеку получить поставил начали бывало название наставник правой мозг секретарь зеленый издали треском грозный брэйлинг домам мороз \n",
            "cluster #9: равно тобой например ваше господина внимательно рода попытался стекла нанка потянулся голубые городок сладко противно судьбой отличался подоконник фило положить \n"
          ],
          "name": "stdout"
        }
      ]
    },
    {
      "cell_type": "markdown",
      "metadata": {
        "id": "vajgACovV34g"
      },
      "source": [
        "#### 7. Проведите для разного числа классов и разной размерности embedding пространства\n"
      ]
    },
    {
      "cell_type": "markdown",
      "metadata": {
        "id": "n0fLVYAIYZZi"
      },
      "source": [
        "Поскольку на размерности embedding пространства = 128 облако не кластеризовалось, попробуем увеличить размерность пространства в 2 раза."
      ]
    },
    {
      "cell_type": "code",
      "metadata": {
        "colab": {
          "base_uri": "https://localhost:8080/",
          "height": 631
        },
        "id": "umVQCaafPotF",
        "outputId": "a887cd44-3a75-40b4-d569-7261d2ada77a"
      },
      "source": [
        "dim = 256\n",
        "lh = LearnHistory()\n",
        "model2, embed2 = createEmbeddingModel(dim=dim)\n",
        "history = model2.fit(xTrain, \n",
        "                    yTrain, \n",
        "                    epochs=10,\n",
        "                    batch_size=128,\n",
        "                    verbose=1,\n",
        "                    validation_data=(xTest, yTest))\n",
        "lh.append(history)\n",
        "lh.plot()"
      ],
      "execution_count": null,
      "outputs": [
        {
          "output_type": "stream",
          "text": [
            "Epoch 1/10\n",
            "138/138 [==============================] - 43s 311ms/step - loss: 0.8755 - accuracy: 0.8414 - val_loss: 3.2298 - val_accuracy: 0.1968\n",
            "Epoch 2/10\n",
            "138/138 [==============================] - 42s 307ms/step - loss: 0.0081 - accuracy: 0.9997 - val_loss: 1.4968 - val_accuracy: 0.3925\n",
            "Epoch 3/10\n",
            "138/138 [==============================] - 42s 308ms/step - loss: 0.0022 - accuracy: 1.0000 - val_loss: 1.3098 - val_accuracy: 0.4566\n",
            "Epoch 4/10\n",
            "138/138 [==============================] - 43s 309ms/step - loss: 0.0011 - accuracy: 1.0000 - val_loss: 1.1798 - val_accuracy: 0.5357\n",
            "Epoch 5/10\n",
            "138/138 [==============================] - 43s 310ms/step - loss: 7.3506e-04 - accuracy: 1.0000 - val_loss: 1.1907 - val_accuracy: 0.5703\n",
            "Epoch 6/10\n",
            "138/138 [==============================] - 42s 306ms/step - loss: 4.6826e-04 - accuracy: 1.0000 - val_loss: 1.2392 - val_accuracy: 0.5803\n",
            "Epoch 7/10\n",
            "138/138 [==============================] - 43s 308ms/step - loss: 3.5839e-04 - accuracy: 1.0000 - val_loss: 1.2681 - val_accuracy: 0.5830\n",
            "Epoch 8/10\n",
            "138/138 [==============================] - 42s 308ms/step - loss: 3.0347e-04 - accuracy: 1.0000 - val_loss: 1.2630 - val_accuracy: 0.5908\n",
            "Epoch 9/10\n",
            "138/138 [==============================] - 42s 306ms/step - loss: 2.1133e-04 - accuracy: 1.0000 - val_loss: 1.2759 - val_accuracy: 0.5905\n",
            "Epoch 10/10\n",
            "138/138 [==============================] - 42s 305ms/step - loss: 1.8214e-04 - accuracy: 1.0000 - val_loss: 1.2886 - val_accuracy: 0.5888\n"
          ],
          "name": "stdout"
        },
        {
          "output_type": "display_data",
          "data": {
            "image/png": "[encoded data removed]",
            "text/plain": [
              "<Figure size 432x288 with 1 Axes>"
            ]
          },
          "metadata": {
            "tags": [],
            "needs_background": "light"
          }
        }
      ]
    },
    {
      "cell_type": "code",
      "metadata": {
        "colab": {
          "base_uri": "https://localhost:8080/"
        },
        "id": "2fk8LCDfPoxX",
        "outputId": "5dab0ec7-34d4-4d7e-f7b8-1af547c1bac9"
      },
      "source": [
        "zTrain2 = embed2.predict(ids)\n",
        "zTrain2 = zTrain2.reshape(-1, dim)\n",
        "zTrain2.shape"
      ],
      "execution_count": null,
      "outputs": [
        {
          "output_type": "execute_result",
          "data": {
            "text/plain": [
              "(50000, 256)"
            ]
          },
          "metadata": {
            "tags": []
          },
          "execution_count": 24
        }
      ]
    },
    {
      "cell_type": "code",
      "metadata": {
        "colab": {
          "base_uri": "https://localhost:8080/",
          "height": 315
        },
        "id": "BJL-mfBEPo1c",
        "outputId": "55bd7679-a881-4b4f-c636-ec0101deb495"
      },
      "source": [
        "%%time\n",
        "n_clusters = 20               # Зададим количество кластеров\n",
        "cost = []                     # Создаем пустой список\n",
        "for i in range(1, n_clusters): # Пробегаем по списку от 1 до n_clusters\n",
        "    kmean = KMeans(i)           # Создаем объект KMeans с i-классами\n",
        "    kmean.fit(zTrain2)   # Проводим кластеризацию zTrain2\n",
        "    cost.append(kmean.inertia_) # Добавляем в cost элемент kmean.inertia_\n",
        "    print(i, end=' ')\n",
        "print()\n",
        "\n",
        "# Отобразим значения списка cost на графике\n",
        "plt.plot([i for i in range(1, n_clusters)], cost, 'bx-')\n",
        "plt.show()"
      ],
      "execution_count": null,
      "outputs": [
        {
          "output_type": "stream",
          "text": [
            "1 2 3 4 5 6 7 8 9 10 11 12 13 14 15 16 17 18 19 \n"
          ],
          "name": "stdout"
        },
        {
          "output_type": "display_data",
          "data": {
            "image/png": "[encoded data removed]",
            "text/plain": [
              "<Figure size 432x288 with 1 Axes>"
            ]
          },
          "metadata": {
            "tags": [],
            "needs_background": "light"
          }
        },
        {
          "output_type": "stream",
          "text": [
            "CPU times: user 28min 15s, sys: 2min 14s, total: 30min 29s\n",
            "Wall time: 27min 50s\n"
          ],
          "name": "stdout"
        }
      ]
    },
    {
      "cell_type": "markdown",
      "metadata": {
        "id": "LJwmWKF88rxh"
      },
      "source": [
        "При увеличении embedding пространства в два раза, картина не изменилась, явных кластеров нет."
      ]
    },
    {
      "cell_type": "markdown",
      "metadata": {
        "id": "WRyLfu0wnE50"
      },
      "source": [
        "#### 8. Выводы\n",
        "\n"
      ]
    },
    {
      "cell_type": "markdown",
      "metadata": {
        "id": "NwejdTR9KhKn"
      },
      "source": [
        "1. Распределение векторов в embedding-пространстве не фрагментируется на кластеры. \n",
        "При разбиении векторов на произвольное число групп, в одну группу попадают слова не имеющие ничего общего.\n",
        "\n",
        "2. Возможно, причина в неудачном выборе признака для классификации. В данном случае всего 6 признаков (писатели), и классифицировались не отдельные слова, а фрагменты в 1000 слов. И так как словарь был общим для всех писателей, одно и то же слово могло встречаться у каждого из писателей. Всвязи с этим сеть не смогла распознать семантику слов при такой классификации.\n",
        "\n",
        "3. Вероятно, что для удачной кластеризации число признаков должно соответствовать числу кластеров, а признаки должны относиться к отдельным словам, а не фрагментам текста."
      ]
    }
  ]
}